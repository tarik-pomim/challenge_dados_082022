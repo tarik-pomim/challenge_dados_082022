{
  "cells": [
    {
      "cell_type": "markdown",
      "metadata": {
        "id": "pOylRCeNO4g5"
      },
      "source": [
        "# Challenge DADOS Alura Ca$h - Agosto 2022"
      ]
    },
    {
      "cell_type": "markdown",
      "metadata": {
        "id": "HxYi91DZO0dc"
      },
      "source": [
        "## Resumo das Semanas"
      ]
    },
    {
      "cell_type": "markdown",
      "metadata": {
        "id": "NF02PC0Oy5p_"
      },
      "source": [
        "### Semana 01"
      ]
    },
    {
      "cell_type": "markdown",
      "metadata": {
        "id": "xB0w2p0Gy7NL"
      },
      "source": [
        "Caso ainda não tenha assistido ao vídeo do primeiro desafio, acesse o link da [**Semana 1**](https://www.alura.com.br/challenges/dados/semana-01-tratamento-de-dados)\n",
        "\n",
        "----\n",
        "\n",
        "**Boas-vindas!**\n",
        "\n",
        "Você foi contratado(a) como pessoa cientista de dados para trabalhar em um banco digital internacional chamado **Alura Cash**. Na primeira reunião do seu novo trabalho, a diretoria financeira informa que, recorrentemente, estão surgindo pessoas inadimplentes após a liberação de créditos. Portanto, é solicitada uma solução para que seja possível diminuir as perdas financeiras por conta de pessoas mutuarias que não quitam suas dívidas.\n",
        "\n",
        "Como cientista de dados, você sugere um estudo das informações financeiras e de solicitação de empréstimo para encontrar padrões que possam indicar uma possível inadimplência.\n",
        "\n",
        "Desse modo, você solicita um conjunto de dados que contenha as informações de clientes, da solicitação de empréstimo, do histórico de crédito, bem como se a pessoa mutuaria é inadimplente ou não. Com esses dados, você sabe que consegue modelar um classificador capaz de encontrar potenciais clientes inadimplentes e solucionar o problema do Alura Cash.\n",
        "\n",
        "Por fim, você vai utilizar o **GitHub** e desenvolver um **portfólio** focado em Data Science, Data Analytics e Machine Learning."
      ]
    },
    {
      "cell_type": "markdown",
      "metadata": {
        "id": "QfThAz2zOuCq"
      },
      "source": [
        "# Importações"
      ]
    },
    {
      "cell_type": "code",
      "execution_count": 1,
      "metadata": {
        "id": "SMz9sRCE4yYx"
      },
      "outputs": [],
      "source": [
        "import pandas as pd\n",
        "import numpy as np"
      ]
    },
    {
      "cell_type": "markdown",
      "metadata": {
        "id": "epEFXKN3PGgA"
      },
      "source": [
        "# Datasets"
      ]
    },
    {
      "cell_type": "markdown",
      "metadata": {
        "id": "LI8GLAdSPMlX"
      },
      "source": [
        "## Leitura do arquivo CSV"
      ]
    },
    {
      "cell_type": "code",
      "execution_count": 2,
      "metadata": {
        "id": "HJW42gddPYMW"
      },
      "outputs": [],
      "source": [
        "uri = 'https://raw.githubusercontent.com/tarik-pomim/challenge_dados_082022/main/dados.csv'"
      ]
    },
    {
      "cell_type": "code",
      "execution_count": 3,
      "metadata": {
        "id": "VH9LI7Yl5Pnj"
      },
      "outputs": [],
      "source": [
        "dataset = pd.read_csv(uri)"
      ]
    },
    {
      "cell_type": "markdown",
      "metadata": {
        "id": "cmzKv5M4Phhl"
      },
      "source": [
        "## Avaliações iniciais do dataset"
      ]
    },
    {
      "cell_type": "code",
      "execution_count": 4,
      "metadata": {
        "colab": {
          "base_uri": "https://localhost:8080/",
          "height": 0
        },
        "id": "csj4VNjE55WC",
        "outputId": "a10fd6a3-431b-40ae-80fe-9660f7af886c"
      },
      "outputs": [
        {
          "output_type": "execute_result",
          "data": {
            "text/plain": [
              "           person_id        loan_id          cb_id    person_id.1  person_age  \\\n",
              "32241  YYBEdtTG-l49W  xj5HkTGz-0eJq  dUdWar6W-p0zv  YYBEdtTG-l49W        22.0   \n",
              "20624  EfdzEBEq-lcdk  bwvTEMLY-ru6H  uh5BSZdj-qcag  EfdzEBEq-lcdk        22.0   \n",
              "18732  2q0RObIB-NfJb  OMofxQLc-xikK  FZ5RX7zo-kNTW  2q0RObIB-NfJb        26.0   \n",
              "22635  0UYqPzyC-UTkd  o8g3oqY5-EFMv  zm0rRBvR-bWsP  0UYqPzyC-UTkd        24.0   \n",
              "3808   j9IbTgZC-LGnk  H6diPHy2-fwRI  AZCOTOnN-lsDZ  j9IbTgZC-LGnk        36.0   \n",
              "20627  4EwrRF40-rf0D  yzRO3sWg-7YcS  zC0FPUEd-3DqZ  4EwrRF40-rf0D        27.0   \n",
              "925    D5k0T0Da-3s7v  LG4YNtBW-0U7Z  TZPaG8YZ-kIt3  D5k0T0Da-3s7v        23.0   \n",
              "10878  7hG5JRUE-Dwz7  Eonh2aCT-atjT  uLzJ5HDy-sqHz  7hG5JRUE-Dwz7        36.0   \n",
              "14606  1sFwYKeI-uGLy  RLcHRqiG-Eykx  GEa73DYJ-bZni  1sFwYKeI-uGLy        26.0   \n",
              "29624  chA7jLNb-5qWu  EzYxZhhY-4F4j  E1wtki9F-XM9A  chA7jLNb-5qWu        22.0   \n",
              "\n",
              "       person_income person_home_ownership  person_emp_length      loan_id.1  \\\n",
              "32241        32000.0                  Rent                0.0  xj5HkTGz-0eJq   \n",
              "20624       120000.0              Mortgage                3.0  bwvTEMLY-ru6H   \n",
              "18732        14400.0                  Rent                NaN  OMofxQLc-xikK   \n",
              "22635        52000.0                  Rent                6.0  o8g3oqY5-EFMv   \n",
              "3808        148000.0              Mortgage                6.0  H6diPHy2-fwRI   \n",
              "20627        98000.0              Mortgage                NaN  yzRO3sWg-7YcS   \n",
              "925          60000.0                  Rent                4.0  LG4YNtBW-0U7Z   \n",
              "10878        33600.0                   Own                NaN  Eonh2aCT-atjT   \n",
              "14606        64999.0              Mortgage               11.0  RLcHRqiG-Eykx   \n",
              "29624        34560.0                  Rent                2.0  EzYxZhhY-4F4j   \n",
              "\n",
              "             loan_intent loan_grade  loan_amnt  loan_int_rate  loan_status  \\\n",
              "32241            Venture          A     4000.0           5.42          0.0   \n",
              "20624            Medical          C     9600.0          13.22          0.0   \n",
              "18732            Medical          A     2000.0           6.92          0.0   \n",
              "22635  Debtconsolidation          A    10000.0           7.88          0.0   \n",
              "3808   Debtconsolidation          D    10000.0          14.11          1.0   \n",
              "20627           Personal          B    10000.0          12.69          0.0   \n",
              "925              Medical          A    12000.0           6.03          0.0   \n",
              "10878           Personal          A     3000.0           8.49          0.0   \n",
              "14606            Venture          B    15000.0          10.99          0.0   \n",
              "29624    Homeimprovement          E     1200.0          19.29          1.0   \n",
              "\n",
              "       loan_percent_income        cb_id.1 cb_person_default_on_file  \\\n",
              "32241                 0.13  dUdWar6W-p0zv                         N   \n",
              "20624                 0.08  uh5BSZdj-qcag                         Y   \n",
              "18732                 0.14  FZ5RX7zo-kNTW                         N   \n",
              "22635                 0.19  zm0rRBvR-bWsP                         N   \n",
              "3808                  0.07  AZCOTOnN-lsDZ                         N   \n",
              "20627                 0.10  zC0FPUEd-3DqZ                         N   \n",
              "925                   0.20  TZPaG8YZ-kIt3                         N   \n",
              "10878                 0.09  uLzJ5HDy-sqHz                         N   \n",
              "14606                 0.23  GEa73DYJ-bZni                         N   \n",
              "29624                 0.03  E1wtki9F-XM9A                         N   \n",
              "\n",
              "       cb_person_cred_hist_length  \n",
              "32241                         4.0  \n",
              "20624                         4.0  \n",
              "18732                         4.0  \n",
              "22635                         4.0  \n",
              "3808                         13.0  \n",
              "20627                         7.0  \n",
              "925                           3.0  \n",
              "10878                        14.0  \n",
              "14606                         2.0  \n",
              "29624                         2.0  "
            ],
            "text/html": [
              "\n",
              "  <div id=\"df-e6d69c66-6bd7-4727-928a-47a5e259cbfd\">\n",
              "    <div class=\"colab-df-container\">\n",
              "      <div>\n",
              "<style scoped>\n",
              "    .dataframe tbody tr th:only-of-type {\n",
              "        vertical-align: middle;\n",
              "    }\n",
              "\n",
              "    .dataframe tbody tr th {\n",
              "        vertical-align: top;\n",
              "    }\n",
              "\n",
              "    .dataframe thead th {\n",
              "        text-align: right;\n",
              "    }\n",
              "</style>\n",
              "<table border=\"1\" class=\"dataframe\">\n",
              "  <thead>\n",
              "    <tr style=\"text-align: right;\">\n",
              "      <th></th>\n",
              "      <th>person_id</th>\n",
              "      <th>loan_id</th>\n",
              "      <th>cb_id</th>\n",
              "      <th>person_id.1</th>\n",
              "      <th>person_age</th>\n",
              "      <th>person_income</th>\n",
              "      <th>person_home_ownership</th>\n",
              "      <th>person_emp_length</th>\n",
              "      <th>loan_id.1</th>\n",
              "      <th>loan_intent</th>\n",
              "      <th>loan_grade</th>\n",
              "      <th>loan_amnt</th>\n",
              "      <th>loan_int_rate</th>\n",
              "      <th>loan_status</th>\n",
              "      <th>loan_percent_income</th>\n",
              "      <th>cb_id.1</th>\n",
              "      <th>cb_person_default_on_file</th>\n",
              "      <th>cb_person_cred_hist_length</th>\n",
              "    </tr>\n",
              "  </thead>\n",
              "  <tbody>\n",
              "    <tr>\n",
              "      <th>32241</th>\n",
              "      <td>YYBEdtTG-l49W</td>\n",
              "      <td>xj5HkTGz-0eJq</td>\n",
              "      <td>dUdWar6W-p0zv</td>\n",
              "      <td>YYBEdtTG-l49W</td>\n",
              "      <td>22.0</td>\n",
              "      <td>32000.0</td>\n",
              "      <td>Rent</td>\n",
              "      <td>0.0</td>\n",
              "      <td>xj5HkTGz-0eJq</td>\n",
              "      <td>Venture</td>\n",
              "      <td>A</td>\n",
              "      <td>4000.0</td>\n",
              "      <td>5.42</td>\n",
              "      <td>0.0</td>\n",
              "      <td>0.13</td>\n",
              "      <td>dUdWar6W-p0zv</td>\n",
              "      <td>N</td>\n",
              "      <td>4.0</td>\n",
              "    </tr>\n",
              "    <tr>\n",
              "      <th>20624</th>\n",
              "      <td>EfdzEBEq-lcdk</td>\n",
              "      <td>bwvTEMLY-ru6H</td>\n",
              "      <td>uh5BSZdj-qcag</td>\n",
              "      <td>EfdzEBEq-lcdk</td>\n",
              "      <td>22.0</td>\n",
              "      <td>120000.0</td>\n",
              "      <td>Mortgage</td>\n",
              "      <td>3.0</td>\n",
              "      <td>bwvTEMLY-ru6H</td>\n",
              "      <td>Medical</td>\n",
              "      <td>C</td>\n",
              "      <td>9600.0</td>\n",
              "      <td>13.22</td>\n",
              "      <td>0.0</td>\n",
              "      <td>0.08</td>\n",
              "      <td>uh5BSZdj-qcag</td>\n",
              "      <td>Y</td>\n",
              "      <td>4.0</td>\n",
              "    </tr>\n",
              "    <tr>\n",
              "      <th>18732</th>\n",
              "      <td>2q0RObIB-NfJb</td>\n",
              "      <td>OMofxQLc-xikK</td>\n",
              "      <td>FZ5RX7zo-kNTW</td>\n",
              "      <td>2q0RObIB-NfJb</td>\n",
              "      <td>26.0</td>\n",
              "      <td>14400.0</td>\n",
              "      <td>Rent</td>\n",
              "      <td>NaN</td>\n",
              "      <td>OMofxQLc-xikK</td>\n",
              "      <td>Medical</td>\n",
              "      <td>A</td>\n",
              "      <td>2000.0</td>\n",
              "      <td>6.92</td>\n",
              "      <td>0.0</td>\n",
              "      <td>0.14</td>\n",
              "      <td>FZ5RX7zo-kNTW</td>\n",
              "      <td>N</td>\n",
              "      <td>4.0</td>\n",
              "    </tr>\n",
              "    <tr>\n",
              "      <th>22635</th>\n",
              "      <td>0UYqPzyC-UTkd</td>\n",
              "      <td>o8g3oqY5-EFMv</td>\n",
              "      <td>zm0rRBvR-bWsP</td>\n",
              "      <td>0UYqPzyC-UTkd</td>\n",
              "      <td>24.0</td>\n",
              "      <td>52000.0</td>\n",
              "      <td>Rent</td>\n",
              "      <td>6.0</td>\n",
              "      <td>o8g3oqY5-EFMv</td>\n",
              "      <td>Debtconsolidation</td>\n",
              "      <td>A</td>\n",
              "      <td>10000.0</td>\n",
              "      <td>7.88</td>\n",
              "      <td>0.0</td>\n",
              "      <td>0.19</td>\n",
              "      <td>zm0rRBvR-bWsP</td>\n",
              "      <td>N</td>\n",
              "      <td>4.0</td>\n",
              "    </tr>\n",
              "    <tr>\n",
              "      <th>3808</th>\n",
              "      <td>j9IbTgZC-LGnk</td>\n",
              "      <td>H6diPHy2-fwRI</td>\n",
              "      <td>AZCOTOnN-lsDZ</td>\n",
              "      <td>j9IbTgZC-LGnk</td>\n",
              "      <td>36.0</td>\n",
              "      <td>148000.0</td>\n",
              "      <td>Mortgage</td>\n",
              "      <td>6.0</td>\n",
              "      <td>H6diPHy2-fwRI</td>\n",
              "      <td>Debtconsolidation</td>\n",
              "      <td>D</td>\n",
              "      <td>10000.0</td>\n",
              "      <td>14.11</td>\n",
              "      <td>1.0</td>\n",
              "      <td>0.07</td>\n",
              "      <td>AZCOTOnN-lsDZ</td>\n",
              "      <td>N</td>\n",
              "      <td>13.0</td>\n",
              "    </tr>\n",
              "    <tr>\n",
              "      <th>20627</th>\n",
              "      <td>4EwrRF40-rf0D</td>\n",
              "      <td>yzRO3sWg-7YcS</td>\n",
              "      <td>zC0FPUEd-3DqZ</td>\n",
              "      <td>4EwrRF40-rf0D</td>\n",
              "      <td>27.0</td>\n",
              "      <td>98000.0</td>\n",
              "      <td>Mortgage</td>\n",
              "      <td>NaN</td>\n",
              "      <td>yzRO3sWg-7YcS</td>\n",
              "      <td>Personal</td>\n",
              "      <td>B</td>\n",
              "      <td>10000.0</td>\n",
              "      <td>12.69</td>\n",
              "      <td>0.0</td>\n",
              "      <td>0.10</td>\n",
              "      <td>zC0FPUEd-3DqZ</td>\n",
              "      <td>N</td>\n",
              "      <td>7.0</td>\n",
              "    </tr>\n",
              "    <tr>\n",
              "      <th>925</th>\n",
              "      <td>D5k0T0Da-3s7v</td>\n",
              "      <td>LG4YNtBW-0U7Z</td>\n",
              "      <td>TZPaG8YZ-kIt3</td>\n",
              "      <td>D5k0T0Da-3s7v</td>\n",
              "      <td>23.0</td>\n",
              "      <td>60000.0</td>\n",
              "      <td>Rent</td>\n",
              "      <td>4.0</td>\n",
              "      <td>LG4YNtBW-0U7Z</td>\n",
              "      <td>Medical</td>\n",
              "      <td>A</td>\n",
              "      <td>12000.0</td>\n",
              "      <td>6.03</td>\n",
              "      <td>0.0</td>\n",
              "      <td>0.20</td>\n",
              "      <td>TZPaG8YZ-kIt3</td>\n",
              "      <td>N</td>\n",
              "      <td>3.0</td>\n",
              "    </tr>\n",
              "    <tr>\n",
              "      <th>10878</th>\n",
              "      <td>7hG5JRUE-Dwz7</td>\n",
              "      <td>Eonh2aCT-atjT</td>\n",
              "      <td>uLzJ5HDy-sqHz</td>\n",
              "      <td>7hG5JRUE-Dwz7</td>\n",
              "      <td>36.0</td>\n",
              "      <td>33600.0</td>\n",
              "      <td>Own</td>\n",
              "      <td>NaN</td>\n",
              "      <td>Eonh2aCT-atjT</td>\n",
              "      <td>Personal</td>\n",
              "      <td>A</td>\n",
              "      <td>3000.0</td>\n",
              "      <td>8.49</td>\n",
              "      <td>0.0</td>\n",
              "      <td>0.09</td>\n",
              "      <td>uLzJ5HDy-sqHz</td>\n",
              "      <td>N</td>\n",
              "      <td>14.0</td>\n",
              "    </tr>\n",
              "    <tr>\n",
              "      <th>14606</th>\n",
              "      <td>1sFwYKeI-uGLy</td>\n",
              "      <td>RLcHRqiG-Eykx</td>\n",
              "      <td>GEa73DYJ-bZni</td>\n",
              "      <td>1sFwYKeI-uGLy</td>\n",
              "      <td>26.0</td>\n",
              "      <td>64999.0</td>\n",
              "      <td>Mortgage</td>\n",
              "      <td>11.0</td>\n",
              "      <td>RLcHRqiG-Eykx</td>\n",
              "      <td>Venture</td>\n",
              "      <td>B</td>\n",
              "      <td>15000.0</td>\n",
              "      <td>10.99</td>\n",
              "      <td>0.0</td>\n",
              "      <td>0.23</td>\n",
              "      <td>GEa73DYJ-bZni</td>\n",
              "      <td>N</td>\n",
              "      <td>2.0</td>\n",
              "    </tr>\n",
              "    <tr>\n",
              "      <th>29624</th>\n",
              "      <td>chA7jLNb-5qWu</td>\n",
              "      <td>EzYxZhhY-4F4j</td>\n",
              "      <td>E1wtki9F-XM9A</td>\n",
              "      <td>chA7jLNb-5qWu</td>\n",
              "      <td>22.0</td>\n",
              "      <td>34560.0</td>\n",
              "      <td>Rent</td>\n",
              "      <td>2.0</td>\n",
              "      <td>EzYxZhhY-4F4j</td>\n",
              "      <td>Homeimprovement</td>\n",
              "      <td>E</td>\n",
              "      <td>1200.0</td>\n",
              "      <td>19.29</td>\n",
              "      <td>1.0</td>\n",
              "      <td>0.03</td>\n",
              "      <td>E1wtki9F-XM9A</td>\n",
              "      <td>N</td>\n",
              "      <td>2.0</td>\n",
              "    </tr>\n",
              "  </tbody>\n",
              "</table>\n",
              "</div>\n",
              "      <button class=\"colab-df-convert\" onclick=\"convertToInteractive('df-e6d69c66-6bd7-4727-928a-47a5e259cbfd')\"\n",
              "              title=\"Convert this dataframe to an interactive table.\"\n",
              "              style=\"display:none;\">\n",
              "        \n",
              "  <svg xmlns=\"http://www.w3.org/2000/svg\" height=\"24px\"viewBox=\"0 0 24 24\"\n",
              "       width=\"24px\">\n",
              "    <path d=\"M0 0h24v24H0V0z\" fill=\"none\"/>\n",
              "    <path d=\"M18.56 5.44l.94 2.06.94-2.06 2.06-.94-2.06-.94-.94-2.06-.94 2.06-2.06.94zm-11 1L8.5 8.5l.94-2.06 2.06-.94-2.06-.94L8.5 2.5l-.94 2.06-2.06.94zm10 10l.94 2.06.94-2.06 2.06-.94-2.06-.94-.94-2.06-.94 2.06-2.06.94z\"/><path d=\"M17.41 7.96l-1.37-1.37c-.4-.4-.92-.59-1.43-.59-.52 0-1.04.2-1.43.59L10.3 9.45l-7.72 7.72c-.78.78-.78 2.05 0 2.83L4 21.41c.39.39.9.59 1.41.59.51 0 1.02-.2 1.41-.59l7.78-7.78 2.81-2.81c.8-.78.8-2.07 0-2.86zM5.41 20L4 18.59l7.72-7.72 1.47 1.35L5.41 20z\"/>\n",
              "  </svg>\n",
              "      </button>\n",
              "      \n",
              "  <style>\n",
              "    .colab-df-container {\n",
              "      display:flex;\n",
              "      flex-wrap:wrap;\n",
              "      gap: 12px;\n",
              "    }\n",
              "\n",
              "    .colab-df-convert {\n",
              "      background-color: #E8F0FE;\n",
              "      border: none;\n",
              "      border-radius: 50%;\n",
              "      cursor: pointer;\n",
              "      display: none;\n",
              "      fill: #1967D2;\n",
              "      height: 32px;\n",
              "      padding: 0 0 0 0;\n",
              "      width: 32px;\n",
              "    }\n",
              "\n",
              "    .colab-df-convert:hover {\n",
              "      background-color: #E2EBFA;\n",
              "      box-shadow: 0px 1px 2px rgba(60, 64, 67, 0.3), 0px 1px 3px 1px rgba(60, 64, 67, 0.15);\n",
              "      fill: #174EA6;\n",
              "    }\n",
              "\n",
              "    [theme=dark] .colab-df-convert {\n",
              "      background-color: #3B4455;\n",
              "      fill: #D2E3FC;\n",
              "    }\n",
              "\n",
              "    [theme=dark] .colab-df-convert:hover {\n",
              "      background-color: #434B5C;\n",
              "      box-shadow: 0px 1px 3px 1px rgba(0, 0, 0, 0.15);\n",
              "      filter: drop-shadow(0px 1px 2px rgba(0, 0, 0, 0.3));\n",
              "      fill: #FFFFFF;\n",
              "    }\n",
              "  </style>\n",
              "\n",
              "      <script>\n",
              "        const buttonEl =\n",
              "          document.querySelector('#df-e6d69c66-6bd7-4727-928a-47a5e259cbfd button.colab-df-convert');\n",
              "        buttonEl.style.display =\n",
              "          google.colab.kernel.accessAllowed ? 'block' : 'none';\n",
              "\n",
              "        async function convertToInteractive(key) {\n",
              "          const element = document.querySelector('#df-e6d69c66-6bd7-4727-928a-47a5e259cbfd');\n",
              "          const dataTable =\n",
              "            await google.colab.kernel.invokeFunction('convertToInteractive',\n",
              "                                                     [key], {});\n",
              "          if (!dataTable) return;\n",
              "\n",
              "          const docLinkHtml = 'Like what you see? Visit the ' +\n",
              "            '<a target=\"_blank\" href=https://colab.research.google.com/notebooks/data_table.ipynb>data table notebook</a>'\n",
              "            + ' to learn more about interactive tables.';\n",
              "          element.innerHTML = '';\n",
              "          dataTable['output_type'] = 'display_data';\n",
              "          await google.colab.output.renderOutput(dataTable, element);\n",
              "          const docLink = document.createElement('div');\n",
              "          docLink.innerHTML = docLinkHtml;\n",
              "          element.appendChild(docLink);\n",
              "        }\n",
              "      </script>\n",
              "    </div>\n",
              "  </div>\n",
              "  "
            ]
          },
          "metadata": {},
          "execution_count": 4
        }
      ],
      "source": [
        "dataset.sample(10)"
      ]
    },
    {
      "cell_type": "code",
      "execution_count": 5,
      "metadata": {
        "colab": {
          "base_uri": "https://localhost:8080/"
        },
        "id": "C0KyHWyU560h",
        "outputId": "de14f811-05d9-4f7c-a2d2-6951c69f59ca"
      },
      "outputs": [
        {
          "output_type": "stream",
          "name": "stdout",
          "text": [
            "<class 'pandas.core.frame.DataFrame'>\n",
            "RangeIndex: 34501 entries, 0 to 34500\n",
            "Data columns (total 18 columns):\n",
            " #   Column                      Non-Null Count  Dtype  \n",
            "---  ------                      --------------  -----  \n",
            " 0   person_id                   34485 non-null  object \n",
            " 1   loan_id                     34501 non-null  object \n",
            " 2   cb_id                       34501 non-null  object \n",
            " 3   person_id.1                 34485 non-null  object \n",
            " 4   person_age                  34177 non-null  float64\n",
            " 5   person_income               34162 non-null  float64\n",
            " 6   person_home_ownership       34170 non-null  object \n",
            " 7   person_emp_length           33247 non-null  float64\n",
            " 8   loan_id.1                   34501 non-null  object \n",
            " 9   loan_intent                 34186 non-null  object \n",
            " 10  loan_grade                  34188 non-null  object \n",
            " 11  loan_amnt                   34170 non-null  float64\n",
            " 12  loan_int_rate               30871 non-null  float64\n",
            " 13  loan_status                 34158 non-null  float64\n",
            " 14  loan_percent_income         34182 non-null  float64\n",
            " 15  cb_id.1                     34501 non-null  object \n",
            " 16  cb_person_default_on_file   34131 non-null  object \n",
            " 17  cb_person_cred_hist_length  34497 non-null  float64\n",
            "dtypes: float64(8), object(10)\n",
            "memory usage: 4.7+ MB\n"
          ]
        }
      ],
      "source": [
        "dataset.info()"
      ]
    },
    {
      "cell_type": "markdown",
      "metadata": {
        "id": "YbtC8XMxPrkq"
      },
      "source": [
        "## Remoção de features redundantes"
      ]
    },
    {
      "cell_type": "code",
      "execution_count": 6,
      "metadata": {
        "id": "kZ3oVnHu5_mP"
      },
      "outputs": [],
      "source": [
        "dataset.drop(['person_id.1', 'loan_id.1', 'cb_id.1'], axis=1, inplace=True)"
      ]
    },
    {
      "cell_type": "code",
      "execution_count": 7,
      "metadata": {
        "colab": {
          "base_uri": "https://localhost:8080/",
          "height": 0
        },
        "id": "jPByPW208Equ",
        "outputId": "698bacd8-758d-4824-89cb-8e15e4fd7d00"
      },
      "outputs": [
        {
          "output_type": "execute_result",
          "data": {
            "text/plain": [
              "       person_id        loan_id          cb_id  person_age  person_income  \\\n",
              "0  84O7kuhy-aUlK  l3HT4gg4-bwKk  kOrNQkl9-NMjH        32.0        45489.0   \n",
              "1  DlOwKWZ1-Yrp7  b2vBKv2M-2IYp  vEERJZi9-KXPU        26.0        50000.0   \n",
              "2  01mYIc8o-5SsX  zzGGi9ec-u2LF  2l0WvCkT-vCj9        22.0        45000.0   \n",
              "3  pJsBSXRA-8H5b  nhLomTZL-MWm8  Hb4ocXfC-rg5W        26.0       155142.0   \n",
              "4  nf2cYR8g-MgSp  gp7W8s0h-4AkX  9MX3jpeX-FNdL        24.0        49232.0   \n",
              "\n",
              "  person_home_ownership  person_emp_length      loan_intent loan_grade  \\\n",
              "0                   NaN               13.0         Personal          C   \n",
              "1              Mortgage                5.0  Homeimprovement          B   \n",
              "2                  Rent                3.0          Venture          B   \n",
              "3              Mortgage                6.0  Homeimprovement          D   \n",
              "4                  Rent                8.0        Education          A   \n",
              "\n",
              "   loan_amnt  loan_int_rate  loan_status  loan_percent_income  \\\n",
              "0     3625.0           6.92          0.0                 0.11   \n",
              "1    12375.0          10.99          0.0                 0.25   \n",
              "2     5000.0          12.42          0.0                 0.11   \n",
              "3    23000.0          18.25          0.0                 0.15   \n",
              "4     8500.0           6.54          0.0                 0.17   \n",
              "\n",
              "  cb_person_default_on_file  cb_person_cred_hist_length  \n",
              "0                       NaN                         3.0  \n",
              "1                         N                         3.0  \n",
              "2                         N                         2.0  \n",
              "3                         N                         2.0  \n",
              "4                         N                         4.0  "
            ],
            "text/html": [
              "\n",
              "  <div id=\"df-55c591ff-9b05-4fc1-84c4-1af4eae88e5c\">\n",
              "    <div class=\"colab-df-container\">\n",
              "      <div>\n",
              "<style scoped>\n",
              "    .dataframe tbody tr th:only-of-type {\n",
              "        vertical-align: middle;\n",
              "    }\n",
              "\n",
              "    .dataframe tbody tr th {\n",
              "        vertical-align: top;\n",
              "    }\n",
              "\n",
              "    .dataframe thead th {\n",
              "        text-align: right;\n",
              "    }\n",
              "</style>\n",
              "<table border=\"1\" class=\"dataframe\">\n",
              "  <thead>\n",
              "    <tr style=\"text-align: right;\">\n",
              "      <th></th>\n",
              "      <th>person_id</th>\n",
              "      <th>loan_id</th>\n",
              "      <th>cb_id</th>\n",
              "      <th>person_age</th>\n",
              "      <th>person_income</th>\n",
              "      <th>person_home_ownership</th>\n",
              "      <th>person_emp_length</th>\n",
              "      <th>loan_intent</th>\n",
              "      <th>loan_grade</th>\n",
              "      <th>loan_amnt</th>\n",
              "      <th>loan_int_rate</th>\n",
              "      <th>loan_status</th>\n",
              "      <th>loan_percent_income</th>\n",
              "      <th>cb_person_default_on_file</th>\n",
              "      <th>cb_person_cred_hist_length</th>\n",
              "    </tr>\n",
              "  </thead>\n",
              "  <tbody>\n",
              "    <tr>\n",
              "      <th>0</th>\n",
              "      <td>84O7kuhy-aUlK</td>\n",
              "      <td>l3HT4gg4-bwKk</td>\n",
              "      <td>kOrNQkl9-NMjH</td>\n",
              "      <td>32.0</td>\n",
              "      <td>45489.0</td>\n",
              "      <td>NaN</td>\n",
              "      <td>13.0</td>\n",
              "      <td>Personal</td>\n",
              "      <td>C</td>\n",
              "      <td>3625.0</td>\n",
              "      <td>6.92</td>\n",
              "      <td>0.0</td>\n",
              "      <td>0.11</td>\n",
              "      <td>NaN</td>\n",
              "      <td>3.0</td>\n",
              "    </tr>\n",
              "    <tr>\n",
              "      <th>1</th>\n",
              "      <td>DlOwKWZ1-Yrp7</td>\n",
              "      <td>b2vBKv2M-2IYp</td>\n",
              "      <td>vEERJZi9-KXPU</td>\n",
              "      <td>26.0</td>\n",
              "      <td>50000.0</td>\n",
              "      <td>Mortgage</td>\n",
              "      <td>5.0</td>\n",
              "      <td>Homeimprovement</td>\n",
              "      <td>B</td>\n",
              "      <td>12375.0</td>\n",
              "      <td>10.99</td>\n",
              "      <td>0.0</td>\n",
              "      <td>0.25</td>\n",
              "      <td>N</td>\n",
              "      <td>3.0</td>\n",
              "    </tr>\n",
              "    <tr>\n",
              "      <th>2</th>\n",
              "      <td>01mYIc8o-5SsX</td>\n",
              "      <td>zzGGi9ec-u2LF</td>\n",
              "      <td>2l0WvCkT-vCj9</td>\n",
              "      <td>22.0</td>\n",
              "      <td>45000.0</td>\n",
              "      <td>Rent</td>\n",
              "      <td>3.0</td>\n",
              "      <td>Venture</td>\n",
              "      <td>B</td>\n",
              "      <td>5000.0</td>\n",
              "      <td>12.42</td>\n",
              "      <td>0.0</td>\n",
              "      <td>0.11</td>\n",
              "      <td>N</td>\n",
              "      <td>2.0</td>\n",
              "    </tr>\n",
              "    <tr>\n",
              "      <th>3</th>\n",
              "      <td>pJsBSXRA-8H5b</td>\n",
              "      <td>nhLomTZL-MWm8</td>\n",
              "      <td>Hb4ocXfC-rg5W</td>\n",
              "      <td>26.0</td>\n",
              "      <td>155142.0</td>\n",
              "      <td>Mortgage</td>\n",
              "      <td>6.0</td>\n",
              "      <td>Homeimprovement</td>\n",
              "      <td>D</td>\n",
              "      <td>23000.0</td>\n",
              "      <td>18.25</td>\n",
              "      <td>0.0</td>\n",
              "      <td>0.15</td>\n",
              "      <td>N</td>\n",
              "      <td>2.0</td>\n",
              "    </tr>\n",
              "    <tr>\n",
              "      <th>4</th>\n",
              "      <td>nf2cYR8g-MgSp</td>\n",
              "      <td>gp7W8s0h-4AkX</td>\n",
              "      <td>9MX3jpeX-FNdL</td>\n",
              "      <td>24.0</td>\n",
              "      <td>49232.0</td>\n",
              "      <td>Rent</td>\n",
              "      <td>8.0</td>\n",
              "      <td>Education</td>\n",
              "      <td>A</td>\n",
              "      <td>8500.0</td>\n",
              "      <td>6.54</td>\n",
              "      <td>0.0</td>\n",
              "      <td>0.17</td>\n",
              "      <td>N</td>\n",
              "      <td>4.0</td>\n",
              "    </tr>\n",
              "  </tbody>\n",
              "</table>\n",
              "</div>\n",
              "      <button class=\"colab-df-convert\" onclick=\"convertToInteractive('df-55c591ff-9b05-4fc1-84c4-1af4eae88e5c')\"\n",
              "              title=\"Convert this dataframe to an interactive table.\"\n",
              "              style=\"display:none;\">\n",
              "        \n",
              "  <svg xmlns=\"http://www.w3.org/2000/svg\" height=\"24px\"viewBox=\"0 0 24 24\"\n",
              "       width=\"24px\">\n",
              "    <path d=\"M0 0h24v24H0V0z\" fill=\"none\"/>\n",
              "    <path d=\"M18.56 5.44l.94 2.06.94-2.06 2.06-.94-2.06-.94-.94-2.06-.94 2.06-2.06.94zm-11 1L8.5 8.5l.94-2.06 2.06-.94-2.06-.94L8.5 2.5l-.94 2.06-2.06.94zm10 10l.94 2.06.94-2.06 2.06-.94-2.06-.94-.94-2.06-.94 2.06-2.06.94z\"/><path d=\"M17.41 7.96l-1.37-1.37c-.4-.4-.92-.59-1.43-.59-.52 0-1.04.2-1.43.59L10.3 9.45l-7.72 7.72c-.78.78-.78 2.05 0 2.83L4 21.41c.39.39.9.59 1.41.59.51 0 1.02-.2 1.41-.59l7.78-7.78 2.81-2.81c.8-.78.8-2.07 0-2.86zM5.41 20L4 18.59l7.72-7.72 1.47 1.35L5.41 20z\"/>\n",
              "  </svg>\n",
              "      </button>\n",
              "      \n",
              "  <style>\n",
              "    .colab-df-container {\n",
              "      display:flex;\n",
              "      flex-wrap:wrap;\n",
              "      gap: 12px;\n",
              "    }\n",
              "\n",
              "    .colab-df-convert {\n",
              "      background-color: #E8F0FE;\n",
              "      border: none;\n",
              "      border-radius: 50%;\n",
              "      cursor: pointer;\n",
              "      display: none;\n",
              "      fill: #1967D2;\n",
              "      height: 32px;\n",
              "      padding: 0 0 0 0;\n",
              "      width: 32px;\n",
              "    }\n",
              "\n",
              "    .colab-df-convert:hover {\n",
              "      background-color: #E2EBFA;\n",
              "      box-shadow: 0px 1px 2px rgba(60, 64, 67, 0.3), 0px 1px 3px 1px rgba(60, 64, 67, 0.15);\n",
              "      fill: #174EA6;\n",
              "    }\n",
              "\n",
              "    [theme=dark] .colab-df-convert {\n",
              "      background-color: #3B4455;\n",
              "      fill: #D2E3FC;\n",
              "    }\n",
              "\n",
              "    [theme=dark] .colab-df-convert:hover {\n",
              "      background-color: #434B5C;\n",
              "      box-shadow: 0px 1px 3px 1px rgba(0, 0, 0, 0.15);\n",
              "      filter: drop-shadow(0px 1px 2px rgba(0, 0, 0, 0.3));\n",
              "      fill: #FFFFFF;\n",
              "    }\n",
              "  </style>\n",
              "\n",
              "      <script>\n",
              "        const buttonEl =\n",
              "          document.querySelector('#df-55c591ff-9b05-4fc1-84c4-1af4eae88e5c button.colab-df-convert');\n",
              "        buttonEl.style.display =\n",
              "          google.colab.kernel.accessAllowed ? 'block' : 'none';\n",
              "\n",
              "        async function convertToInteractive(key) {\n",
              "          const element = document.querySelector('#df-55c591ff-9b05-4fc1-84c4-1af4eae88e5c');\n",
              "          const dataTable =\n",
              "            await google.colab.kernel.invokeFunction('convertToInteractive',\n",
              "                                                     [key], {});\n",
              "          if (!dataTable) return;\n",
              "\n",
              "          const docLinkHtml = 'Like what you see? Visit the ' +\n",
              "            '<a target=\"_blank\" href=https://colab.research.google.com/notebooks/data_table.ipynb>data table notebook</a>'\n",
              "            + ' to learn more about interactive tables.';\n",
              "          element.innerHTML = '';\n",
              "          dataTable['output_type'] = 'display_data';\n",
              "          await google.colab.output.renderOutput(dataTable, element);\n",
              "          const docLink = document.createElement('div');\n",
              "          docLink.innerHTML = docLinkHtml;\n",
              "          element.appendChild(docLink);\n",
              "        }\n",
              "      </script>\n",
              "    </div>\n",
              "  </div>\n",
              "  "
            ]
          },
          "metadata": {},
          "execution_count": 7
        }
      ],
      "source": [
        "dataset.head()"
      ]
    },
    {
      "cell_type": "markdown",
      "metadata": {
        "id": "DPclHBtGPw6M"
      },
      "source": [
        "## Renomeando colunas para português"
      ]
    },
    {
      "cell_type": "code",
      "execution_count": 8,
      "metadata": {
        "id": "BGtKdKj98Gzh"
      },
      "outputs": [],
      "source": [
        "colunas_PtBr = {\n",
        "    'person_id' : 'id_solicitante',\n",
        "    'loan_id' : 'id_emprestimo',\n",
        "    'cb_id' : 'id_historico',\n",
        "    'person_age' : 'idade',\n",
        "    'person_income' : 'salario_anual',\n",
        "    'person_home_ownership' : 'situacao_imovel',\n",
        "    'person_emp_length' : 'anos_empregado',\n",
        "    'loan_intent' : 'motivo_emprestimo',\n",
        "    'loan_grade' : 'pontuacao_emprestimo',\n",
        "    'loan_amnt' : 'total_a_emprestar',\n",
        "    'loan_int_rate' : 'juros',\n",
        "    'loan_status' : 'possibilidade_inadimplencia',\n",
        "    'loan_percent_income' : 'percentual_emprestimo_renda',\n",
        "    'cb_person_default_on_file' : 'ja_foi_inadimplente',\n",
        "    'cb_person_cred_hist_length' : 'anos_de_credito'\n",
        "}\n",
        "\n",
        "dataset.rename(mapper = colunas_PtBr, axis = 1, inplace = True)"
      ]
    },
    {
      "cell_type": "code",
      "execution_count": 9,
      "metadata": {
        "colab": {
          "base_uri": "https://localhost:8080/"
        },
        "id": "wXteH8V1Az0M",
        "outputId": "78f5ce5f-8d19-4d55-f29f-d4c729d6a91b"
      },
      "outputs": [
        {
          "output_type": "stream",
          "name": "stdout",
          "text": [
            "<class 'pandas.core.frame.DataFrame'>\n",
            "RangeIndex: 34501 entries, 0 to 34500\n",
            "Data columns (total 15 columns):\n",
            " #   Column                       Non-Null Count  Dtype  \n",
            "---  ------                       --------------  -----  \n",
            " 0   id_solicitante               34485 non-null  object \n",
            " 1   id_emprestimo                34501 non-null  object \n",
            " 2   id_historico                 34501 non-null  object \n",
            " 3   idade                        34177 non-null  float64\n",
            " 4   salario_anual                34162 non-null  float64\n",
            " 5   situacao_imovel              34170 non-null  object \n",
            " 6   anos_empregado               33247 non-null  float64\n",
            " 7   motivo_emprestimo            34186 non-null  object \n",
            " 8   pontuacao_emprestimo         34188 non-null  object \n",
            " 9   total_a_emprestar            34170 non-null  float64\n",
            " 10  juros                        30871 non-null  float64\n",
            " 11  possibilidade_inadimplencia  34158 non-null  float64\n",
            " 12  percentual_emprestimo_renda  34182 non-null  float64\n",
            " 13  ja_foi_inadimplente          34131 non-null  object \n",
            " 14  anos_de_credito              34497 non-null  float64\n",
            "dtypes: float64(8), object(7)\n",
            "memory usage: 3.9+ MB\n"
          ]
        }
      ],
      "source": [
        "dataset.info()"
      ]
    },
    {
      "cell_type": "markdown",
      "metadata": {
        "id": "6N8Nmu8hk7-r"
      },
      "source": [
        "# Dicionário de dados"
      ]
    },
    {
      "cell_type": "markdown",
      "metadata": {
        "id": "yU_BpnxNlfOT"
      },
      "source": [
        "## Original"
      ]
    },
    {
      "cell_type": "markdown",
      "metadata": {
        "id": "vP0gqOzXk_Em"
      },
      "source": [
        "| Feature | Característica |\n",
        "| --- | --- |\n",
        "|`person_id`|ID da pessoa solicitante|\n",
        "|`loan_id`|ID da solicitação de empréstico de cada solicitante|\n",
        "|`cb_id`|ID do histórico de cada solicitante|\n",
        "| `person_age` | Idade da pessoa - em anos - que solicita empréstimo |\n",
        "| `person_income` | Salário anual da pessoa solicitante |\n",
        "| `person_home_ownership` | Situação da propriedade que a pessoa possui: *Alugada* (`Rent`), *Própria* (`Own`), *Hipotecada* (`Mortgage`) e *Outros casos* (`Other`) |\n",
        "| `person_emp_length` | Tempo - em anos - que a pessoa trabalhou |\n",
        "| `loan_intent` | Motivo do empréstimo: *Pessoal* (`Personal`), *Educativo* (`Education`), *Médico* (`Medical`), *Empreendimento* (`Venture`), *Melhora do lar* (`Homeimprovement`), *Pagamento de débitos* (`Debtconsolidation`) |\n",
        "| `loan_grade` | Pontuação de empréstimos, por nível variando de `A` a `G` |\n",
        "| `loan_amnt` | Valor total do empréstimo solicitado |\n",
        "| `loan_int_rate` | Taxa de juros |\n",
        "| `loan_status` | Possibilidade de inadimplência |\n",
        "| `loan_percent_income` | Renda percentual entre o *valor total do empréstimo* e o *salário anual* |\n",
        "| `cb_person_default_on_file` | Indica se a pessoa já foi inadimplente: sim (`Y`,`YES`) e não (`N`,`NO`) |\n",
        "| `cb_person_cred_hist_length` | Tempo - em anos - desde a primeira solicitação de crédito ou aquisição de um cartão de crédito |"
      ]
    },
    {
      "cell_type": "markdown",
      "metadata": {
        "id": "HGenh1k5liAf"
      },
      "source": [
        "## Português"
      ]
    },
    {
      "cell_type": "markdown",
      "metadata": {
        "id": "SQK-FtFklk6i"
      },
      "source": [
        "| Feature | Característica |\n",
        "| --- | --- |\n",
        "|`id_solicitante`|ID da pessoa solicitante|\n",
        "|`id_emprestimo`|ID da solicitação de empréstico de cada solicitante|\n",
        "|`id_historico`|ID do histórico de cada solicitante|\n",
        "| `idade` | Idade da pessoa - em anos - que solicita empréstimo |\n",
        "| `salario_anual` | Salário anual da pessoa solicitante |\n",
        "| `situacao_imovel` | Situação da propriedade que a pessoa possui: *Alugada* (`Rent`), *Própria* (`Own`), *Hipotecada* (`Mortgage`) e *Outros casos* (`Other`) |\n",
        "| `anos_empregado` | Tempo - em anos - que a pessoa trabalhou |\n",
        "| `motivo_emprestimo` | Motivo do empréstimo: *Pessoal* (`Personal`), *Educativo* (`Education`), *Médico* (`Medical`), *Empreendimento* (`Venture`), *Melhora do lar* (`Homeimprovement`), *Pagamento de débitos* (`Debtconsolidation`) |\n",
        "| `pontuacao_emprestimo` | Pontuação de empréstimos, por nível variando de `A` a `G` |\n",
        "| `total_a_emprestar` | Valor total do empréstimo solicitado |\n",
        "| `juros` | Taxa de juros |\n",
        "| `possibilidade_inadimplencia` | Possibilidade de inadimplência |\n",
        "| `percentual_emprestimo_renda` | Renda percentual entre o *valor total do empréstimo* e o *salário anual* |\n",
        "| `ja_foi_inadimplente` | Indica se a pessoa já foi inadimplente: sim (`Y`,`YES`) e não (`N`,`NO`) |\n",
        "| `anos_de_credito` | Tempo - em anos - desde a primeira solicitação de crédito ou aquisição de um cartão de crédito |"
      ]
    },
    {
      "cell_type": "markdown",
      "metadata": {
        "id": "OOzdLYLtP9ok"
      },
      "source": [
        "# Inconsistências"
      ]
    },
    {
      "cell_type": "code",
      "execution_count": 10,
      "metadata": {
        "colab": {
          "base_uri": "https://localhost:8080/"
        },
        "id": "UqK6m-Y-BHVa",
        "outputId": "bd300c37-24a6-42c0-bb03-54538d3d2af9"
      },
      "outputs": [
        {
          "output_type": "stream",
          "name": "stdout",
          "text": [
            "O dataset contém 0 informações duplicadas.\n"
          ]
        }
      ],
      "source": [
        "duplicados = dataset.duplicated()\n",
        "print(f'O dataset contém {duplicados.sum()} informações duplicadas.')"
      ]
    },
    {
      "cell_type": "code",
      "execution_count": 11,
      "metadata": {
        "colab": {
          "base_uri": "https://localhost:8080/"
        },
        "id": "2gFLOOe3CHIu",
        "outputId": "014e3e3b-6bb3-4113-f858-9c9d69f4bee6"
      },
      "outputs": [
        {
          "output_type": "execute_result",
          "data": {
            "text/plain": [
              "id_solicitante                   16\n",
              "id_emprestimo                     0\n",
              "id_historico                      0\n",
              "idade                           324\n",
              "salario_anual                   339\n",
              "situacao_imovel                 331\n",
              "anos_empregado                 1254\n",
              "motivo_emprestimo               315\n",
              "pontuacao_emprestimo            313\n",
              "total_a_emprestar               331\n",
              "juros                          3630\n",
              "possibilidade_inadimplencia     343\n",
              "percentual_emprestimo_renda     319\n",
              "ja_foi_inadimplente             370\n",
              "anos_de_credito                   4\n",
              "dtype: int64"
            ]
          },
          "metadata": {},
          "execution_count": 11
        }
      ],
      "source": [
        "nulos = dataset.isnull()\n",
        "nulos.sum()"
      ]
    },
    {
      "cell_type": "markdown",
      "metadata": {
        "id": "Uxk0BySX0QHA"
      },
      "source": [
        "Várias features apresentam valores nulos (NaN), que carecem de tratamento."
      ]
    },
    {
      "cell_type": "code",
      "execution_count": 12,
      "metadata": {
        "colab": {
          "base_uri": "https://localhost:8080/"
        },
        "id": "SGosPKfgr302",
        "outputId": "01c41bd5-fe14-4bb4-cef7-6bb9f54fbba7"
      },
      "outputs": [
        {
          "output_type": "execute_result",
          "data": {
            "text/plain": [
              "id_solicitante                 0\n",
              "id_emprestimo                  0\n",
              "id_historico                   0\n",
              "idade                          0\n",
              "salario_anual                  0\n",
              "situacao_imovel                0\n",
              "anos_empregado                 0\n",
              "motivo_emprestimo              0\n",
              "pontuacao_emprestimo           0\n",
              "total_a_emprestar              0\n",
              "juros                          0\n",
              "possibilidade_inadimplencia    0\n",
              "percentual_emprestimo_renda    0\n",
              "ja_foi_inadimplente            0\n",
              "anos_de_credito                0\n",
              "dtype: int64"
            ]
          },
          "metadata": {},
          "execution_count": 12
        }
      ],
      "source": [
        "brancos = dataset.eq(' ').sum() + dataset.eq('').sum()\n",
        "brancos"
      ]
    },
    {
      "cell_type": "markdown",
      "metadata": {
        "id": "ug9mTrVQ0X4H"
      },
      "source": [
        "Não foram encontrados valores ou espaços sem preenchimento no dataset."
      ]
    },
    {
      "cell_type": "markdown",
      "metadata": {
        "id": "GwWXmJKfvtlE"
      },
      "source": [
        "# Análise exploratória e limpeza dos dados"
      ]
    },
    {
      "cell_type": "markdown",
      "metadata": {
        "id": "dnyWsBoJv4q0"
      },
      "source": [
        "## Criação de um novo dataset sem valores nulos"
      ]
    },
    {
      "cell_type": "markdown",
      "metadata": {
        "id": "vwW8ZSmGpPPe"
      },
      "source": [
        "Removeremos todas as linhas que contém valores nulos e copiaremos para um novo dataset. Reorganizaremos o índice e faremos uma nova avaliação do novo dataset."
      ]
    },
    {
      "cell_type": "markdown",
      "source": [
        "Aqui também faremos a remoção das colunas de identificação, pois não serão de muita valia."
      ],
      "metadata": {
        "id": "AsHxUWcNOmPn"
      }
    },
    {
      "cell_type": "code",
      "execution_count": 13,
      "metadata": {
        "colab": {
          "base_uri": "https://localhost:8080/"
        },
        "id": "5sRby7YIvs3P",
        "outputId": "981c8c04-c568-471f-c170-18a6036fc7a6"
      },
      "outputs": [
        {
          "output_type": "stream",
          "name": "stdout",
          "text": [
            "<class 'pandas.core.frame.DataFrame'>\n",
            "RangeIndex: 28638 entries, 0 to 28637\n",
            "Data columns (total 12 columns):\n",
            " #   Column                       Non-Null Count  Dtype  \n",
            "---  ------                       --------------  -----  \n",
            " 0   idade                        28638 non-null  float64\n",
            " 1   salario_anual                28638 non-null  float64\n",
            " 2   situacao_imovel              28638 non-null  object \n",
            " 3   anos_empregado               28638 non-null  float64\n",
            " 4   motivo_emprestimo            28638 non-null  object \n",
            " 5   pontuacao_emprestimo         28638 non-null  object \n",
            " 6   total_a_emprestar            28638 non-null  float64\n",
            " 7   juros                        28638 non-null  float64\n",
            " 8   possibilidade_inadimplencia  28638 non-null  float64\n",
            " 9   percentual_emprestimo_renda  28638 non-null  float64\n",
            " 10  ja_foi_inadimplente          28638 non-null  object \n",
            " 11  anos_de_credito              28638 non-null  float64\n",
            "dtypes: float64(8), object(4)\n",
            "memory usage: 2.6+ MB\n"
          ]
        }
      ],
      "source": [
        "dados = dataset.dropna().copy()\n",
        "dados.drop(['id_solicitante', 'id_emprestimo', 'id_historico'], axis = 1, inplace = True)\n",
        "dados.reset_index(drop=True, inplace=True)\n",
        "dados.info()"
      ]
    },
    {
      "cell_type": "code",
      "execution_count": 14,
      "metadata": {
        "colab": {
          "base_uri": "https://localhost:8080/",
          "height": 0
        },
        "id": "QBRQI59MxClt",
        "outputId": "8da3f00d-f999-4703-b52a-027f2e558701"
      },
      "outputs": [
        {
          "output_type": "execute_result",
          "data": {
            "text/plain": [
              "       idade  salario_anual situacao_imovel  anos_empregado motivo_emprestimo  \\\n",
              "18646   29.0        59000.0            Rent             4.0           Venture   \n",
              "28405   23.0        32400.0            Rent             7.0         Education   \n",
              "8661    29.0        75000.0            Rent             0.0          Personal   \n",
              "25915   31.0        40000.0            Rent             4.0         Education   \n",
              "5884    34.0       135000.0        Mortgage            18.0         Education   \n",
              "\n",
              "      pontuacao_emprestimo  total_a_emprestar  juros  \\\n",
              "18646                    G            20000.0  20.17   \n",
              "28405                    A            10000.0   8.49   \n",
              "8661                     C             5400.0  14.79   \n",
              "25915                    A             7200.0   9.63   \n",
              "5884                     A             8000.0   9.32   \n",
              "\n",
              "       possibilidade_inadimplencia  percentual_emprestimo_renda  \\\n",
              "18646                          1.0                         0.34   \n",
              "28405                          1.0                         0.31   \n",
              "8661                           0.0                         0.07   \n",
              "25915                          0.0                         0.18   \n",
              "5884                           0.0                         0.06   \n",
              "\n",
              "      ja_foi_inadimplente  anos_de_credito  \n",
              "18646                   Y              5.0  \n",
              "28405                   N              3.0  \n",
              "8661                    N              5.0  \n",
              "25915                   N              8.0  \n",
              "5884                    N              6.0  "
            ],
            "text/html": [
              "\n",
              "  <div id=\"df-cddf1e60-61c6-4549-953b-898a1467e8f8\">\n",
              "    <div class=\"colab-df-container\">\n",
              "      <div>\n",
              "<style scoped>\n",
              "    .dataframe tbody tr th:only-of-type {\n",
              "        vertical-align: middle;\n",
              "    }\n",
              "\n",
              "    .dataframe tbody tr th {\n",
              "        vertical-align: top;\n",
              "    }\n",
              "\n",
              "    .dataframe thead th {\n",
              "        text-align: right;\n",
              "    }\n",
              "</style>\n",
              "<table border=\"1\" class=\"dataframe\">\n",
              "  <thead>\n",
              "    <tr style=\"text-align: right;\">\n",
              "      <th></th>\n",
              "      <th>idade</th>\n",
              "      <th>salario_anual</th>\n",
              "      <th>situacao_imovel</th>\n",
              "      <th>anos_empregado</th>\n",
              "      <th>motivo_emprestimo</th>\n",
              "      <th>pontuacao_emprestimo</th>\n",
              "      <th>total_a_emprestar</th>\n",
              "      <th>juros</th>\n",
              "      <th>possibilidade_inadimplencia</th>\n",
              "      <th>percentual_emprestimo_renda</th>\n",
              "      <th>ja_foi_inadimplente</th>\n",
              "      <th>anos_de_credito</th>\n",
              "    </tr>\n",
              "  </thead>\n",
              "  <tbody>\n",
              "    <tr>\n",
              "      <th>18646</th>\n",
              "      <td>29.0</td>\n",
              "      <td>59000.0</td>\n",
              "      <td>Rent</td>\n",
              "      <td>4.0</td>\n",
              "      <td>Venture</td>\n",
              "      <td>G</td>\n",
              "      <td>20000.0</td>\n",
              "      <td>20.17</td>\n",
              "      <td>1.0</td>\n",
              "      <td>0.34</td>\n",
              "      <td>Y</td>\n",
              "      <td>5.0</td>\n",
              "    </tr>\n",
              "    <tr>\n",
              "      <th>28405</th>\n",
              "      <td>23.0</td>\n",
              "      <td>32400.0</td>\n",
              "      <td>Rent</td>\n",
              "      <td>7.0</td>\n",
              "      <td>Education</td>\n",
              "      <td>A</td>\n",
              "      <td>10000.0</td>\n",
              "      <td>8.49</td>\n",
              "      <td>1.0</td>\n",
              "      <td>0.31</td>\n",
              "      <td>N</td>\n",
              "      <td>3.0</td>\n",
              "    </tr>\n",
              "    <tr>\n",
              "      <th>8661</th>\n",
              "      <td>29.0</td>\n",
              "      <td>75000.0</td>\n",
              "      <td>Rent</td>\n",
              "      <td>0.0</td>\n",
              "      <td>Personal</td>\n",
              "      <td>C</td>\n",
              "      <td>5400.0</td>\n",
              "      <td>14.79</td>\n",
              "      <td>0.0</td>\n",
              "      <td>0.07</td>\n",
              "      <td>N</td>\n",
              "      <td>5.0</td>\n",
              "    </tr>\n",
              "    <tr>\n",
              "      <th>25915</th>\n",
              "      <td>31.0</td>\n",
              "      <td>40000.0</td>\n",
              "      <td>Rent</td>\n",
              "      <td>4.0</td>\n",
              "      <td>Education</td>\n",
              "      <td>A</td>\n",
              "      <td>7200.0</td>\n",
              "      <td>9.63</td>\n",
              "      <td>0.0</td>\n",
              "      <td>0.18</td>\n",
              "      <td>N</td>\n",
              "      <td>8.0</td>\n",
              "    </tr>\n",
              "    <tr>\n",
              "      <th>5884</th>\n",
              "      <td>34.0</td>\n",
              "      <td>135000.0</td>\n",
              "      <td>Mortgage</td>\n",
              "      <td>18.0</td>\n",
              "      <td>Education</td>\n",
              "      <td>A</td>\n",
              "      <td>8000.0</td>\n",
              "      <td>9.32</td>\n",
              "      <td>0.0</td>\n",
              "      <td>0.06</td>\n",
              "      <td>N</td>\n",
              "      <td>6.0</td>\n",
              "    </tr>\n",
              "  </tbody>\n",
              "</table>\n",
              "</div>\n",
              "      <button class=\"colab-df-convert\" onclick=\"convertToInteractive('df-cddf1e60-61c6-4549-953b-898a1467e8f8')\"\n",
              "              title=\"Convert this dataframe to an interactive table.\"\n",
              "              style=\"display:none;\">\n",
              "        \n",
              "  <svg xmlns=\"http://www.w3.org/2000/svg\" height=\"24px\"viewBox=\"0 0 24 24\"\n",
              "       width=\"24px\">\n",
              "    <path d=\"M0 0h24v24H0V0z\" fill=\"none\"/>\n",
              "    <path d=\"M18.56 5.44l.94 2.06.94-2.06 2.06-.94-2.06-.94-.94-2.06-.94 2.06-2.06.94zm-11 1L8.5 8.5l.94-2.06 2.06-.94-2.06-.94L8.5 2.5l-.94 2.06-2.06.94zm10 10l.94 2.06.94-2.06 2.06-.94-2.06-.94-.94-2.06-.94 2.06-2.06.94z\"/><path d=\"M17.41 7.96l-1.37-1.37c-.4-.4-.92-.59-1.43-.59-.52 0-1.04.2-1.43.59L10.3 9.45l-7.72 7.72c-.78.78-.78 2.05 0 2.83L4 21.41c.39.39.9.59 1.41.59.51 0 1.02-.2 1.41-.59l7.78-7.78 2.81-2.81c.8-.78.8-2.07 0-2.86zM5.41 20L4 18.59l7.72-7.72 1.47 1.35L5.41 20z\"/>\n",
              "  </svg>\n",
              "      </button>\n",
              "      \n",
              "  <style>\n",
              "    .colab-df-container {\n",
              "      display:flex;\n",
              "      flex-wrap:wrap;\n",
              "      gap: 12px;\n",
              "    }\n",
              "\n",
              "    .colab-df-convert {\n",
              "      background-color: #E8F0FE;\n",
              "      border: none;\n",
              "      border-radius: 50%;\n",
              "      cursor: pointer;\n",
              "      display: none;\n",
              "      fill: #1967D2;\n",
              "      height: 32px;\n",
              "      padding: 0 0 0 0;\n",
              "      width: 32px;\n",
              "    }\n",
              "\n",
              "    .colab-df-convert:hover {\n",
              "      background-color: #E2EBFA;\n",
              "      box-shadow: 0px 1px 2px rgba(60, 64, 67, 0.3), 0px 1px 3px 1px rgba(60, 64, 67, 0.15);\n",
              "      fill: #174EA6;\n",
              "    }\n",
              "\n",
              "    [theme=dark] .colab-df-convert {\n",
              "      background-color: #3B4455;\n",
              "      fill: #D2E3FC;\n",
              "    }\n",
              "\n",
              "    [theme=dark] .colab-df-convert:hover {\n",
              "      background-color: #434B5C;\n",
              "      box-shadow: 0px 1px 3px 1px rgba(0, 0, 0, 0.15);\n",
              "      filter: drop-shadow(0px 1px 2px rgba(0, 0, 0, 0.3));\n",
              "      fill: #FFFFFF;\n",
              "    }\n",
              "  </style>\n",
              "\n",
              "      <script>\n",
              "        const buttonEl =\n",
              "          document.querySelector('#df-cddf1e60-61c6-4549-953b-898a1467e8f8 button.colab-df-convert');\n",
              "        buttonEl.style.display =\n",
              "          google.colab.kernel.accessAllowed ? 'block' : 'none';\n",
              "\n",
              "        async function convertToInteractive(key) {\n",
              "          const element = document.querySelector('#df-cddf1e60-61c6-4549-953b-898a1467e8f8');\n",
              "          const dataTable =\n",
              "            await google.colab.kernel.invokeFunction('convertToInteractive',\n",
              "                                                     [key], {});\n",
              "          if (!dataTable) return;\n",
              "\n",
              "          const docLinkHtml = 'Like what you see? Visit the ' +\n",
              "            '<a target=\"_blank\" href=https://colab.research.google.com/notebooks/data_table.ipynb>data table notebook</a>'\n",
              "            + ' to learn more about interactive tables.';\n",
              "          element.innerHTML = '';\n",
              "          dataTable['output_type'] = 'display_data';\n",
              "          await google.colab.output.renderOutput(dataTable, element);\n",
              "          const docLink = document.createElement('div');\n",
              "          docLink.innerHTML = docLinkHtml;\n",
              "          element.appendChild(docLink);\n",
              "        }\n",
              "      </script>\n",
              "    </div>\n",
              "  </div>\n",
              "  "
            ]
          },
          "metadata": {},
          "execution_count": 14
        }
      ],
      "source": [
        "dados.sample(5)"
      ]
    },
    {
      "cell_type": "markdown",
      "metadata": {
        "id": "jw3qtiQVwPFU"
      },
      "source": [
        "## Ajuste do tipo dos dados"
      ]
    },
    {
      "cell_type": "markdown",
      "metadata": {
        "id": "Z-DHlD960wrd"
      },
      "source": [
        "Transformando variáveis que estavam como ponto flutuante (float) em inteiro:"
      ]
    },
    {
      "cell_type": "code",
      "execution_count": 15,
      "metadata": {
        "id": "DEXWckgcwJ8Q"
      },
      "outputs": [],
      "source": [
        "dados[['idade', 'anos_empregado', 'possibilidade_inadimplencia']] = dados[['idade', 'anos_empregado', 'possibilidade_inadimplencia']].astype({'idade' : 'int',\n",
        "                                                                                                                                              'anos_empregado' : 'int',\n",
        "                                                                                                                                              'possibilidade_inadimplencia' : 'int'},\n",
        "                                                                                                                                             copy = False)"
      ]
    },
    {
      "cell_type": "code",
      "execution_count": 16,
      "metadata": {
        "colab": {
          "base_uri": "https://localhost:8080/"
        },
        "id": "jU_4Wv7YxZg4",
        "outputId": "595ad592-0404-4bb9-92bd-4f782e73755c"
      },
      "outputs": [
        {
          "output_type": "stream",
          "name": "stdout",
          "text": [
            "<class 'pandas.core.frame.DataFrame'>\n",
            "RangeIndex: 28638 entries, 0 to 28637\n",
            "Data columns (total 12 columns):\n",
            " #   Column                       Non-Null Count  Dtype  \n",
            "---  ------                       --------------  -----  \n",
            " 0   idade                        28638 non-null  int64  \n",
            " 1   salario_anual                28638 non-null  float64\n",
            " 2   situacao_imovel              28638 non-null  object \n",
            " 3   anos_empregado               28638 non-null  int64  \n",
            " 4   motivo_emprestimo            28638 non-null  object \n",
            " 5   pontuacao_emprestimo         28638 non-null  object \n",
            " 6   total_a_emprestar            28638 non-null  float64\n",
            " 7   juros                        28638 non-null  float64\n",
            " 8   possibilidade_inadimplencia  28638 non-null  int64  \n",
            " 9   percentual_emprestimo_renda  28638 non-null  float64\n",
            " 10  ja_foi_inadimplente          28638 non-null  object \n",
            " 11  anos_de_credito              28638 non-null  float64\n",
            "dtypes: float64(5), int64(3), object(4)\n",
            "memory usage: 2.6+ MB\n"
          ]
        }
      ],
      "source": [
        "dados.info()"
      ]
    },
    {
      "cell_type": "markdown",
      "source": [
        "Alinhando índice:"
      ],
      "metadata": {
        "id": "pWAfpcJitrzo"
      }
    },
    {
      "cell_type": "code",
      "source": [
        "dados.reset_index(drop=True, inplace=True)"
      ],
      "metadata": {
        "id": "Zs_9BLI0thb9"
      },
      "execution_count": 17,
      "outputs": []
    },
    {
      "cell_type": "markdown",
      "metadata": {
        "id": "PkapgHO6Xfrq"
      },
      "source": [
        "## Análise exploratória das variáveis"
      ]
    },
    {
      "cell_type": "markdown",
      "source": [
        "### Descrição completa do dataset:"
      ],
      "metadata": {
        "id": "YK6IIIeZDCeE"
      }
    },
    {
      "cell_type": "markdown",
      "metadata": {
        "id": "s-XIEnDc07S7"
      },
      "source": [
        "Avaliação de algumas descrições das variáveis:"
      ]
    },
    {
      "cell_type": "code",
      "execution_count": 18,
      "metadata": {
        "colab": {
          "base_uri": "https://localhost:8080/",
          "height": 0
        },
        "id": "Gaqq36a7cTPl",
        "outputId": "a2c60876-24bb-4f23-89c2-9aee5da555d5"
      },
      "outputs": [
        {
          "output_type": "execute_result",
          "data": {
            "text/plain": [
              "              idade  salario_anual  anos_empregado  total_a_emprestar  \\\n",
              "count  28638.000000   2.863800e+04    28638.000000       28638.000000   \n",
              "mean      27.727216   6.664937e+04        4.788672        9656.493121   \n",
              "std        6.310441   6.235645e+04        4.154627        6329.683361   \n",
              "min       20.000000   4.000000e+03        0.000000         500.000000   \n",
              "25%       23.000000   3.948000e+04        2.000000        5000.000000   \n",
              "50%       26.000000   5.595600e+04        4.000000        8000.000000   \n",
              "75%       30.000000   8.000000e+04        7.000000       12500.000000   \n",
              "max      144.000000   6.000000e+06      123.000000       35000.000000   \n",
              "\n",
              "              juros  possibilidade_inadimplencia  percentual_emprestimo_renda  \\\n",
              "count  28638.000000                 28638.000000                 28638.000000   \n",
              "mean      11.039867                     0.216600                     0.169488   \n",
              "std        3.229372                     0.411935                     0.106393   \n",
              "min        5.420000                     0.000000                     0.000000   \n",
              "25%        7.900000                     0.000000                     0.090000   \n",
              "50%       10.990000                     0.000000                     0.150000   \n",
              "75%       13.480000                     0.000000                     0.230000   \n",
              "max       23.220000                     1.000000                     0.830000   \n",
              "\n",
              "       anos_de_credito  \n",
              "count     28638.000000  \n",
              "mean          5.793736  \n",
              "std           4.038483  \n",
              "min           2.000000  \n",
              "25%           3.000000  \n",
              "50%           4.000000  \n",
              "75%           8.000000  \n",
              "max          30.000000  "
            ],
            "text/html": [
              "\n",
              "  <div id=\"df-5824db56-54c6-4743-b2af-896a50c27b75\">\n",
              "    <div class=\"colab-df-container\">\n",
              "      <div>\n",
              "<style scoped>\n",
              "    .dataframe tbody tr th:only-of-type {\n",
              "        vertical-align: middle;\n",
              "    }\n",
              "\n",
              "    .dataframe tbody tr th {\n",
              "        vertical-align: top;\n",
              "    }\n",
              "\n",
              "    .dataframe thead th {\n",
              "        text-align: right;\n",
              "    }\n",
              "</style>\n",
              "<table border=\"1\" class=\"dataframe\">\n",
              "  <thead>\n",
              "    <tr style=\"text-align: right;\">\n",
              "      <th></th>\n",
              "      <th>idade</th>\n",
              "      <th>salario_anual</th>\n",
              "      <th>anos_empregado</th>\n",
              "      <th>total_a_emprestar</th>\n",
              "      <th>juros</th>\n",
              "      <th>possibilidade_inadimplencia</th>\n",
              "      <th>percentual_emprestimo_renda</th>\n",
              "      <th>anos_de_credito</th>\n",
              "    </tr>\n",
              "  </thead>\n",
              "  <tbody>\n",
              "    <tr>\n",
              "      <th>count</th>\n",
              "      <td>28638.000000</td>\n",
              "      <td>2.863800e+04</td>\n",
              "      <td>28638.000000</td>\n",
              "      <td>28638.000000</td>\n",
              "      <td>28638.000000</td>\n",
              "      <td>28638.000000</td>\n",
              "      <td>28638.000000</td>\n",
              "      <td>28638.000000</td>\n",
              "    </tr>\n",
              "    <tr>\n",
              "      <th>mean</th>\n",
              "      <td>27.727216</td>\n",
              "      <td>6.664937e+04</td>\n",
              "      <td>4.788672</td>\n",
              "      <td>9656.493121</td>\n",
              "      <td>11.039867</td>\n",
              "      <td>0.216600</td>\n",
              "      <td>0.169488</td>\n",
              "      <td>5.793736</td>\n",
              "    </tr>\n",
              "    <tr>\n",
              "      <th>std</th>\n",
              "      <td>6.310441</td>\n",
              "      <td>6.235645e+04</td>\n",
              "      <td>4.154627</td>\n",
              "      <td>6329.683361</td>\n",
              "      <td>3.229372</td>\n",
              "      <td>0.411935</td>\n",
              "      <td>0.106393</td>\n",
              "      <td>4.038483</td>\n",
              "    </tr>\n",
              "    <tr>\n",
              "      <th>min</th>\n",
              "      <td>20.000000</td>\n",
              "      <td>4.000000e+03</td>\n",
              "      <td>0.000000</td>\n",
              "      <td>500.000000</td>\n",
              "      <td>5.420000</td>\n",
              "      <td>0.000000</td>\n",
              "      <td>0.000000</td>\n",
              "      <td>2.000000</td>\n",
              "    </tr>\n",
              "    <tr>\n",
              "      <th>25%</th>\n",
              "      <td>23.000000</td>\n",
              "      <td>3.948000e+04</td>\n",
              "      <td>2.000000</td>\n",
              "      <td>5000.000000</td>\n",
              "      <td>7.900000</td>\n",
              "      <td>0.000000</td>\n",
              "      <td>0.090000</td>\n",
              "      <td>3.000000</td>\n",
              "    </tr>\n",
              "    <tr>\n",
              "      <th>50%</th>\n",
              "      <td>26.000000</td>\n",
              "      <td>5.595600e+04</td>\n",
              "      <td>4.000000</td>\n",
              "      <td>8000.000000</td>\n",
              "      <td>10.990000</td>\n",
              "      <td>0.000000</td>\n",
              "      <td>0.150000</td>\n",
              "      <td>4.000000</td>\n",
              "    </tr>\n",
              "    <tr>\n",
              "      <th>75%</th>\n",
              "      <td>30.000000</td>\n",
              "      <td>8.000000e+04</td>\n",
              "      <td>7.000000</td>\n",
              "      <td>12500.000000</td>\n",
              "      <td>13.480000</td>\n",
              "      <td>0.000000</td>\n",
              "      <td>0.230000</td>\n",
              "      <td>8.000000</td>\n",
              "    </tr>\n",
              "    <tr>\n",
              "      <th>max</th>\n",
              "      <td>144.000000</td>\n",
              "      <td>6.000000e+06</td>\n",
              "      <td>123.000000</td>\n",
              "      <td>35000.000000</td>\n",
              "      <td>23.220000</td>\n",
              "      <td>1.000000</td>\n",
              "      <td>0.830000</td>\n",
              "      <td>30.000000</td>\n",
              "    </tr>\n",
              "  </tbody>\n",
              "</table>\n",
              "</div>\n",
              "      <button class=\"colab-df-convert\" onclick=\"convertToInteractive('df-5824db56-54c6-4743-b2af-896a50c27b75')\"\n",
              "              title=\"Convert this dataframe to an interactive table.\"\n",
              "              style=\"display:none;\">\n",
              "        \n",
              "  <svg xmlns=\"http://www.w3.org/2000/svg\" height=\"24px\"viewBox=\"0 0 24 24\"\n",
              "       width=\"24px\">\n",
              "    <path d=\"M0 0h24v24H0V0z\" fill=\"none\"/>\n",
              "    <path d=\"M18.56 5.44l.94 2.06.94-2.06 2.06-.94-2.06-.94-.94-2.06-.94 2.06-2.06.94zm-11 1L8.5 8.5l.94-2.06 2.06-.94-2.06-.94L8.5 2.5l-.94 2.06-2.06.94zm10 10l.94 2.06.94-2.06 2.06-.94-2.06-.94-.94-2.06-.94 2.06-2.06.94z\"/><path d=\"M17.41 7.96l-1.37-1.37c-.4-.4-.92-.59-1.43-.59-.52 0-1.04.2-1.43.59L10.3 9.45l-7.72 7.72c-.78.78-.78 2.05 0 2.83L4 21.41c.39.39.9.59 1.41.59.51 0 1.02-.2 1.41-.59l7.78-7.78 2.81-2.81c.8-.78.8-2.07 0-2.86zM5.41 20L4 18.59l7.72-7.72 1.47 1.35L5.41 20z\"/>\n",
              "  </svg>\n",
              "      </button>\n",
              "      \n",
              "  <style>\n",
              "    .colab-df-container {\n",
              "      display:flex;\n",
              "      flex-wrap:wrap;\n",
              "      gap: 12px;\n",
              "    }\n",
              "\n",
              "    .colab-df-convert {\n",
              "      background-color: #E8F0FE;\n",
              "      border: none;\n",
              "      border-radius: 50%;\n",
              "      cursor: pointer;\n",
              "      display: none;\n",
              "      fill: #1967D2;\n",
              "      height: 32px;\n",
              "      padding: 0 0 0 0;\n",
              "      width: 32px;\n",
              "    }\n",
              "\n",
              "    .colab-df-convert:hover {\n",
              "      background-color: #E2EBFA;\n",
              "      box-shadow: 0px 1px 2px rgba(60, 64, 67, 0.3), 0px 1px 3px 1px rgba(60, 64, 67, 0.15);\n",
              "      fill: #174EA6;\n",
              "    }\n",
              "\n",
              "    [theme=dark] .colab-df-convert {\n",
              "      background-color: #3B4455;\n",
              "      fill: #D2E3FC;\n",
              "    }\n",
              "\n",
              "    [theme=dark] .colab-df-convert:hover {\n",
              "      background-color: #434B5C;\n",
              "      box-shadow: 0px 1px 3px 1px rgba(0, 0, 0, 0.15);\n",
              "      filter: drop-shadow(0px 1px 2px rgba(0, 0, 0, 0.3));\n",
              "      fill: #FFFFFF;\n",
              "    }\n",
              "  </style>\n",
              "\n",
              "      <script>\n",
              "        const buttonEl =\n",
              "          document.querySelector('#df-5824db56-54c6-4743-b2af-896a50c27b75 button.colab-df-convert');\n",
              "        buttonEl.style.display =\n",
              "          google.colab.kernel.accessAllowed ? 'block' : 'none';\n",
              "\n",
              "        async function convertToInteractive(key) {\n",
              "          const element = document.querySelector('#df-5824db56-54c6-4743-b2af-896a50c27b75');\n",
              "          const dataTable =\n",
              "            await google.colab.kernel.invokeFunction('convertToInteractive',\n",
              "                                                     [key], {});\n",
              "          if (!dataTable) return;\n",
              "\n",
              "          const docLinkHtml = 'Like what you see? Visit the ' +\n",
              "            '<a target=\"_blank\" href=https://colab.research.google.com/notebooks/data_table.ipynb>data table notebook</a>'\n",
              "            + ' to learn more about interactive tables.';\n",
              "          element.innerHTML = '';\n",
              "          dataTable['output_type'] = 'display_data';\n",
              "          await google.colab.output.renderOutput(dataTable, element);\n",
              "          const docLink = document.createElement('div');\n",
              "          docLink.innerHTML = docLinkHtml;\n",
              "          element.appendChild(docLink);\n",
              "        }\n",
              "      </script>\n",
              "    </div>\n",
              "  </div>\n",
              "  "
            ]
          },
          "metadata": {},
          "execution_count": 18
        }
      ],
      "source": [
        "dados.describe()"
      ]
    },
    {
      "cell_type": "markdown",
      "metadata": {
        "id": "8gI3IxGOXi5-"
      },
      "source": [
        "### Análise da variável: 'idade'"
      ]
    },
    {
      "cell_type": "markdown",
      "source": [
        "#### Análises"
      ],
      "metadata": {
        "id": "ar7LgOXfNtRs"
      }
    },
    {
      "cell_type": "markdown",
      "source": [
        "Busca por valores únicos:"
      ],
      "metadata": {
        "id": "o5vrvgVwGf5D"
      }
    },
    {
      "cell_type": "code",
      "execution_count": 19,
      "metadata": {
        "colab": {
          "base_uri": "https://localhost:8080/"
        },
        "id": "mLaEZ_3Mxbla",
        "outputId": "d1180e96-2233-4ec6-b7a6-13a27c07257e"
      },
      "outputs": [
        {
          "output_type": "execute_result",
          "data": {
            "text/plain": [
              "array([ 26,  22,  24,  23,  25,  28,  29,  35,  30,  27,  31,  41,  21,\n",
              "        38,  33,  32,  34,  42,  40,  43,  36,  37,  39,  47,  46,  52,\n",
              "        55,  50,  45,  44,  48,  53,  49,  54,  51,  64,  63,  56,  60,\n",
              "        66,  62,  70,  57,  78,  58,  69,  20,  59,  80,  65,  67, 144,\n",
              "        61, 123,  76,  73,  84])"
            ]
          },
          "metadata": {},
          "execution_count": 19
        }
      ],
      "source": [
        "dados.idade.unique()"
      ]
    },
    {
      "cell_type": "code",
      "execution_count": 20,
      "metadata": {
        "colab": {
          "base_uri": "https://localhost:8080/",
          "height": 0
        },
        "id": "UvjtVOkGWhBV",
        "outputId": "1cd86f72-1b83-4d22-ce97-f6e2b9886f51"
      },
      "outputs": [
        {
          "output_type": "execute_result",
          "data": {
            "text/plain": [
              "       idade  salario_anual situacao_imovel  anos_empregado motivo_emprestimo  \\\n",
              "11191    144       200000.0        Mortgage               4         Education   \n",
              "12604    123        80004.0            Rent               2         Education   \n",
              "24124    144       250000.0            Rent               4           Venture   \n",
              "24279    144      6000000.0        Mortgage              12          Personal   \n",
              "\n",
              "      pontuacao_emprestimo  total_a_emprestar  juros  \\\n",
              "11191                    B             6000.0  11.86   \n",
              "12604                    B            20400.0  10.25   \n",
              "24124                    C             4800.0  13.57   \n",
              "24279                    C             5000.0  12.73   \n",
              "\n",
              "       possibilidade_inadimplencia  percentual_emprestimo_renda  \\\n",
              "11191                            0                         0.03   \n",
              "12604                            0                         0.25   \n",
              "24124                            0                         0.02   \n",
              "24279                            0                         0.00   \n",
              "\n",
              "      ja_foi_inadimplente  anos_de_credito  \n",
              "11191                   N              2.0  \n",
              "12604                   N              3.0  \n",
              "24124                   N              3.0  \n",
              "24279                   N             25.0  "
            ],
            "text/html": [
              "\n",
              "  <div id=\"df-ee819256-4a4b-49e4-bda8-0f498d489f20\">\n",
              "    <div class=\"colab-df-container\">\n",
              "      <div>\n",
              "<style scoped>\n",
              "    .dataframe tbody tr th:only-of-type {\n",
              "        vertical-align: middle;\n",
              "    }\n",
              "\n",
              "    .dataframe tbody tr th {\n",
              "        vertical-align: top;\n",
              "    }\n",
              "\n",
              "    .dataframe thead th {\n",
              "        text-align: right;\n",
              "    }\n",
              "</style>\n",
              "<table border=\"1\" class=\"dataframe\">\n",
              "  <thead>\n",
              "    <tr style=\"text-align: right;\">\n",
              "      <th></th>\n",
              "      <th>idade</th>\n",
              "      <th>salario_anual</th>\n",
              "      <th>situacao_imovel</th>\n",
              "      <th>anos_empregado</th>\n",
              "      <th>motivo_emprestimo</th>\n",
              "      <th>pontuacao_emprestimo</th>\n",
              "      <th>total_a_emprestar</th>\n",
              "      <th>juros</th>\n",
              "      <th>possibilidade_inadimplencia</th>\n",
              "      <th>percentual_emprestimo_renda</th>\n",
              "      <th>ja_foi_inadimplente</th>\n",
              "      <th>anos_de_credito</th>\n",
              "    </tr>\n",
              "  </thead>\n",
              "  <tbody>\n",
              "    <tr>\n",
              "      <th>11191</th>\n",
              "      <td>144</td>\n",
              "      <td>200000.0</td>\n",
              "      <td>Mortgage</td>\n",
              "      <td>4</td>\n",
              "      <td>Education</td>\n",
              "      <td>B</td>\n",
              "      <td>6000.0</td>\n",
              "      <td>11.86</td>\n",
              "      <td>0</td>\n",
              "      <td>0.03</td>\n",
              "      <td>N</td>\n",
              "      <td>2.0</td>\n",
              "    </tr>\n",
              "    <tr>\n",
              "      <th>12604</th>\n",
              "      <td>123</td>\n",
              "      <td>80004.0</td>\n",
              "      <td>Rent</td>\n",
              "      <td>2</td>\n",
              "      <td>Education</td>\n",
              "      <td>B</td>\n",
              "      <td>20400.0</td>\n",
              "      <td>10.25</td>\n",
              "      <td>0</td>\n",
              "      <td>0.25</td>\n",
              "      <td>N</td>\n",
              "      <td>3.0</td>\n",
              "    </tr>\n",
              "    <tr>\n",
              "      <th>24124</th>\n",
              "      <td>144</td>\n",
              "      <td>250000.0</td>\n",
              "      <td>Rent</td>\n",
              "      <td>4</td>\n",
              "      <td>Venture</td>\n",
              "      <td>C</td>\n",
              "      <td>4800.0</td>\n",
              "      <td>13.57</td>\n",
              "      <td>0</td>\n",
              "      <td>0.02</td>\n",
              "      <td>N</td>\n",
              "      <td>3.0</td>\n",
              "    </tr>\n",
              "    <tr>\n",
              "      <th>24279</th>\n",
              "      <td>144</td>\n",
              "      <td>6000000.0</td>\n",
              "      <td>Mortgage</td>\n",
              "      <td>12</td>\n",
              "      <td>Personal</td>\n",
              "      <td>C</td>\n",
              "      <td>5000.0</td>\n",
              "      <td>12.73</td>\n",
              "      <td>0</td>\n",
              "      <td>0.00</td>\n",
              "      <td>N</td>\n",
              "      <td>25.0</td>\n",
              "    </tr>\n",
              "  </tbody>\n",
              "</table>\n",
              "</div>\n",
              "      <button class=\"colab-df-convert\" onclick=\"convertToInteractive('df-ee819256-4a4b-49e4-bda8-0f498d489f20')\"\n",
              "              title=\"Convert this dataframe to an interactive table.\"\n",
              "              style=\"display:none;\">\n",
              "        \n",
              "  <svg xmlns=\"http://www.w3.org/2000/svg\" height=\"24px\"viewBox=\"0 0 24 24\"\n",
              "       width=\"24px\">\n",
              "    <path d=\"M0 0h24v24H0V0z\" fill=\"none\"/>\n",
              "    <path d=\"M18.56 5.44l.94 2.06.94-2.06 2.06-.94-2.06-.94-.94-2.06-.94 2.06-2.06.94zm-11 1L8.5 8.5l.94-2.06 2.06-.94-2.06-.94L8.5 2.5l-.94 2.06-2.06.94zm10 10l.94 2.06.94-2.06 2.06-.94-2.06-.94-.94-2.06-.94 2.06-2.06.94z\"/><path d=\"M17.41 7.96l-1.37-1.37c-.4-.4-.92-.59-1.43-.59-.52 0-1.04.2-1.43.59L10.3 9.45l-7.72 7.72c-.78.78-.78 2.05 0 2.83L4 21.41c.39.39.9.59 1.41.59.51 0 1.02-.2 1.41-.59l7.78-7.78 2.81-2.81c.8-.78.8-2.07 0-2.86zM5.41 20L4 18.59l7.72-7.72 1.47 1.35L5.41 20z\"/>\n",
              "  </svg>\n",
              "      </button>\n",
              "      \n",
              "  <style>\n",
              "    .colab-df-container {\n",
              "      display:flex;\n",
              "      flex-wrap:wrap;\n",
              "      gap: 12px;\n",
              "    }\n",
              "\n",
              "    .colab-df-convert {\n",
              "      background-color: #E8F0FE;\n",
              "      border: none;\n",
              "      border-radius: 50%;\n",
              "      cursor: pointer;\n",
              "      display: none;\n",
              "      fill: #1967D2;\n",
              "      height: 32px;\n",
              "      padding: 0 0 0 0;\n",
              "      width: 32px;\n",
              "    }\n",
              "\n",
              "    .colab-df-convert:hover {\n",
              "      background-color: #E2EBFA;\n",
              "      box-shadow: 0px 1px 2px rgba(60, 64, 67, 0.3), 0px 1px 3px 1px rgba(60, 64, 67, 0.15);\n",
              "      fill: #174EA6;\n",
              "    }\n",
              "\n",
              "    [theme=dark] .colab-df-convert {\n",
              "      background-color: #3B4455;\n",
              "      fill: #D2E3FC;\n",
              "    }\n",
              "\n",
              "    [theme=dark] .colab-df-convert:hover {\n",
              "      background-color: #434B5C;\n",
              "      box-shadow: 0px 1px 3px 1px rgba(0, 0, 0, 0.15);\n",
              "      filter: drop-shadow(0px 1px 2px rgba(0, 0, 0, 0.3));\n",
              "      fill: #FFFFFF;\n",
              "    }\n",
              "  </style>\n",
              "\n",
              "      <script>\n",
              "        const buttonEl =\n",
              "          document.querySelector('#df-ee819256-4a4b-49e4-bda8-0f498d489f20 button.colab-df-convert');\n",
              "        buttonEl.style.display =\n",
              "          google.colab.kernel.accessAllowed ? 'block' : 'none';\n",
              "\n",
              "        async function convertToInteractive(key) {\n",
              "          const element = document.querySelector('#df-ee819256-4a4b-49e4-bda8-0f498d489f20');\n",
              "          const dataTable =\n",
              "            await google.colab.kernel.invokeFunction('convertToInteractive',\n",
              "                                                     [key], {});\n",
              "          if (!dataTable) return;\n",
              "\n",
              "          const docLinkHtml = 'Like what you see? Visit the ' +\n",
              "            '<a target=\"_blank\" href=https://colab.research.google.com/notebooks/data_table.ipynb>data table notebook</a>'\n",
              "            + ' to learn more about interactive tables.';\n",
              "          element.innerHTML = '';\n",
              "          dataTable['output_type'] = 'display_data';\n",
              "          await google.colab.output.renderOutput(dataTable, element);\n",
              "          const docLink = document.createElement('div');\n",
              "          docLink.innerHTML = docLinkHtml;\n",
              "          element.appendChild(docLink);\n",
              "        }\n",
              "      </script>\n",
              "    </div>\n",
              "  </div>\n",
              "  "
            ]
          },
          "metadata": {},
          "execution_count": 20
        }
      ],
      "source": [
        "dados.loc[dados['idade'] > 100]"
      ]
    },
    {
      "cell_type": "markdown",
      "metadata": {
        "id": "TheDO_MLXriR"
      },
      "source": [
        "Foram encontrados mutuários com idades inconsistentes, removeremos estes dados do dataset:"
      ]
    },
    {
      "cell_type": "code",
      "source": [
        "dados.drop(dados.loc[dados['idade'] > 100].index, inplace=True)"
      ],
      "metadata": {
        "id": "rww7Zmz3uzm3"
      },
      "execution_count": 21,
      "outputs": []
    },
    {
      "cell_type": "code",
      "source": [
        "dados.loc[dados['idade'] > 80]"
      ],
      "metadata": {
        "colab": {
          "base_uri": "https://localhost:8080/",
          "height": 0
        },
        "id": "klUjzJosvWRW",
        "outputId": "505b162b-8d69-4157-b86b-54f0ef190a8e"
      },
      "execution_count": 22,
      "outputs": [
        {
          "output_type": "execute_result",
          "data": {
            "text/plain": [
              "       idade  salario_anual situacao_imovel  anos_empregado motivo_emprestimo  \\\n",
              "26752     84        94800.0        Mortgage               2          Personal   \n",
              "\n",
              "      pontuacao_emprestimo  total_a_emprestar  juros  \\\n",
              "26752                    A            10000.0   7.51   \n",
              "\n",
              "       possibilidade_inadimplencia  percentual_emprestimo_renda  \\\n",
              "26752                            0                         0.11   \n",
              "\n",
              "      ja_foi_inadimplente  anos_de_credito  \n",
              "26752                   N             24.0  "
            ],
            "text/html": [
              "\n",
              "  <div id=\"df-c22723e5-39ed-40c5-a1ba-7783cedb8441\">\n",
              "    <div class=\"colab-df-container\">\n",
              "      <div>\n",
              "<style scoped>\n",
              "    .dataframe tbody tr th:only-of-type {\n",
              "        vertical-align: middle;\n",
              "    }\n",
              "\n",
              "    .dataframe tbody tr th {\n",
              "        vertical-align: top;\n",
              "    }\n",
              "\n",
              "    .dataframe thead th {\n",
              "        text-align: right;\n",
              "    }\n",
              "</style>\n",
              "<table border=\"1\" class=\"dataframe\">\n",
              "  <thead>\n",
              "    <tr style=\"text-align: right;\">\n",
              "      <th></th>\n",
              "      <th>idade</th>\n",
              "      <th>salario_anual</th>\n",
              "      <th>situacao_imovel</th>\n",
              "      <th>anos_empregado</th>\n",
              "      <th>motivo_emprestimo</th>\n",
              "      <th>pontuacao_emprestimo</th>\n",
              "      <th>total_a_emprestar</th>\n",
              "      <th>juros</th>\n",
              "      <th>possibilidade_inadimplencia</th>\n",
              "      <th>percentual_emprestimo_renda</th>\n",
              "      <th>ja_foi_inadimplente</th>\n",
              "      <th>anos_de_credito</th>\n",
              "    </tr>\n",
              "  </thead>\n",
              "  <tbody>\n",
              "    <tr>\n",
              "      <th>26752</th>\n",
              "      <td>84</td>\n",
              "      <td>94800.0</td>\n",
              "      <td>Mortgage</td>\n",
              "      <td>2</td>\n",
              "      <td>Personal</td>\n",
              "      <td>A</td>\n",
              "      <td>10000.0</td>\n",
              "      <td>7.51</td>\n",
              "      <td>0</td>\n",
              "      <td>0.11</td>\n",
              "      <td>N</td>\n",
              "      <td>24.0</td>\n",
              "    </tr>\n",
              "  </tbody>\n",
              "</table>\n",
              "</div>\n",
              "      <button class=\"colab-df-convert\" onclick=\"convertToInteractive('df-c22723e5-39ed-40c5-a1ba-7783cedb8441')\"\n",
              "              title=\"Convert this dataframe to an interactive table.\"\n",
              "              style=\"display:none;\">\n",
              "        \n",
              "  <svg xmlns=\"http://www.w3.org/2000/svg\" height=\"24px\"viewBox=\"0 0 24 24\"\n",
              "       width=\"24px\">\n",
              "    <path d=\"M0 0h24v24H0V0z\" fill=\"none\"/>\n",
              "    <path d=\"M18.56 5.44l.94 2.06.94-2.06 2.06-.94-2.06-.94-.94-2.06-.94 2.06-2.06.94zm-11 1L8.5 8.5l.94-2.06 2.06-.94-2.06-.94L8.5 2.5l-.94 2.06-2.06.94zm10 10l.94 2.06.94-2.06 2.06-.94-2.06-.94-.94-2.06-.94 2.06-2.06.94z\"/><path d=\"M17.41 7.96l-1.37-1.37c-.4-.4-.92-.59-1.43-.59-.52 0-1.04.2-1.43.59L10.3 9.45l-7.72 7.72c-.78.78-.78 2.05 0 2.83L4 21.41c.39.39.9.59 1.41.59.51 0 1.02-.2 1.41-.59l7.78-7.78 2.81-2.81c.8-.78.8-2.07 0-2.86zM5.41 20L4 18.59l7.72-7.72 1.47 1.35L5.41 20z\"/>\n",
              "  </svg>\n",
              "      </button>\n",
              "      \n",
              "  <style>\n",
              "    .colab-df-container {\n",
              "      display:flex;\n",
              "      flex-wrap:wrap;\n",
              "      gap: 12px;\n",
              "    }\n",
              "\n",
              "    .colab-df-convert {\n",
              "      background-color: #E8F0FE;\n",
              "      border: none;\n",
              "      border-radius: 50%;\n",
              "      cursor: pointer;\n",
              "      display: none;\n",
              "      fill: #1967D2;\n",
              "      height: 32px;\n",
              "      padding: 0 0 0 0;\n",
              "      width: 32px;\n",
              "    }\n",
              "\n",
              "    .colab-df-convert:hover {\n",
              "      background-color: #E2EBFA;\n",
              "      box-shadow: 0px 1px 2px rgba(60, 64, 67, 0.3), 0px 1px 3px 1px rgba(60, 64, 67, 0.15);\n",
              "      fill: #174EA6;\n",
              "    }\n",
              "\n",
              "    [theme=dark] .colab-df-convert {\n",
              "      background-color: #3B4455;\n",
              "      fill: #D2E3FC;\n",
              "    }\n",
              "\n",
              "    [theme=dark] .colab-df-convert:hover {\n",
              "      background-color: #434B5C;\n",
              "      box-shadow: 0px 1px 3px 1px rgba(0, 0, 0, 0.15);\n",
              "      filter: drop-shadow(0px 1px 2px rgba(0, 0, 0, 0.3));\n",
              "      fill: #FFFFFF;\n",
              "    }\n",
              "  </style>\n",
              "\n",
              "      <script>\n",
              "        const buttonEl =\n",
              "          document.querySelector('#df-c22723e5-39ed-40c5-a1ba-7783cedb8441 button.colab-df-convert');\n",
              "        buttonEl.style.display =\n",
              "          google.colab.kernel.accessAllowed ? 'block' : 'none';\n",
              "\n",
              "        async function convertToInteractive(key) {\n",
              "          const element = document.querySelector('#df-c22723e5-39ed-40c5-a1ba-7783cedb8441');\n",
              "          const dataTable =\n",
              "            await google.colab.kernel.invokeFunction('convertToInteractive',\n",
              "                                                     [key], {});\n",
              "          if (!dataTable) return;\n",
              "\n",
              "          const docLinkHtml = 'Like what you see? Visit the ' +\n",
              "            '<a target=\"_blank\" href=https://colab.research.google.com/notebooks/data_table.ipynb>data table notebook</a>'\n",
              "            + ' to learn more about interactive tables.';\n",
              "          element.innerHTML = '';\n",
              "          dataTable['output_type'] = 'display_data';\n",
              "          await google.colab.output.renderOutput(dataTable, element);\n",
              "          const docLink = document.createElement('div');\n",
              "          docLink.innerHTML = docLinkHtml;\n",
              "          element.appendChild(docLink);\n",
              "        }\n",
              "      </script>\n",
              "    </div>\n",
              "  </div>\n",
              "  "
            ]
          },
          "metadata": {},
          "execution_count": 22
        }
      ]
    },
    {
      "cell_type": "markdown",
      "source": [
        "Com a remoção das linhas, agora o mutuário de maior idade tem 84 anos."
      ],
      "metadata": {
        "id": "U5unc9OPwBfq"
      }
    },
    {
      "cell_type": "markdown",
      "source": [
        "Distribuição dos mutuários por idade"
      ],
      "metadata": {
        "id": "EaQV8EL9EZ2m"
      }
    },
    {
      "cell_type": "code",
      "source": [
        "import seaborn as sns\n",
        "\n",
        "ax = sns.displot(dados['idade'], kde= True, bins = 85)\n",
        "ax.set(xlabel= 'Idade dos mutuários', ylabel= 'Densidade', title= 'Distribuição dos mutuários por idade')\n",
        "ax.figure.set_size_inches(12,8)"
      ],
      "metadata": {
        "colab": {
          "base_uri": "https://localhost:8080/",
          "height": 0
        },
        "id": "tP7OG3zXDNJn",
        "outputId": "97e5cb23-2708-4182-e261-2e2dc87b6a53"
      },
      "execution_count": 23,
      "outputs": [
        {
          "output_type": "display_data",
          "data": {
            "text/plain": [
              "<Figure size 864x576 with 1 Axes>"
            ],
            "image/png": "[encoded data removed]"
          },
          "metadata": {
            "needs_background": "light"
          }
        }
      ]
    },
    {
      "cell_type": "markdown",
      "source": [
        "#### Conclusões"
      ],
      "metadata": {
        "id": "6p7c0j0wF_AJ"
      }
    },
    {
      "cell_type": "markdown",
      "source": [
        "* Nota-se que a maior parte dos mutuários tem entre 20 e 30 anos de idade.\n",
        "* O mutuário de idade mais avançada tem 84 anos.\n",
        "* A idade mínima para solicitação de empréstimo é de 20 anos."
      ],
      "metadata": {
        "id": "tPcfWcABEuFM"
      }
    },
    {
      "cell_type": "markdown",
      "metadata": {
        "id": "zMH2B9qBXz2x"
      },
      "source": [
        "### Análise da variável: 'salario_anual'"
      ]
    },
    {
      "cell_type": "markdown",
      "source": [
        "#### Análises"
      ],
      "metadata": {
        "id": "znarvFgUNluF"
      }
    },
    {
      "cell_type": "markdown",
      "metadata": {
        "id": "taMa08u-sw8y"
      },
      "source": [
        "Avaliaremos a variável 'salario_anual' utilizando duas visualizações."
      ]
    },
    {
      "cell_type": "markdown",
      "metadata": {
        "id": "hcFGSnQks3_g"
      },
      "source": [
        "Distribuição:"
      ]
    },
    {
      "cell_type": "code",
      "execution_count": 24,
      "metadata": {
        "colab": {
          "base_uri": "https://localhost:8080/",
          "height": 0
        },
        "id": "MWWUilT6dxpQ",
        "outputId": "137f2674-9845-4051-b038-8bbe82b269e6"
      },
      "outputs": [
        {
          "output_type": "display_data",
          "data": {
            "text/plain": [
              "<Figure size 864x576 with 1 Axes>"
            ],
            "image/png": "[encoded data removed]"
          },
          "metadata": {
            "needs_background": "light"
          }
        }
      ],
      "source": [
        "import seaborn as sns\n",
        "\n",
        "ax = sns.displot(dados['salario_anual'], kde= True)\n",
        "ax.set(xlabel= 'Salário Anual', ylabel= 'Densidade', title= 'Distribuição do Salário Anual')\n",
        "ax.figure.set_size_inches(12,8)"
      ]
    },
    {
      "cell_type": "markdown",
      "metadata": {
        "id": "MnHG7unWs-r5"
      },
      "source": [
        "Box-plot:"
      ]
    },
    {
      "cell_type": "code",
      "execution_count": 25,
      "metadata": {
        "colab": {
          "base_uri": "https://localhost:8080/",
          "height": 0
        },
        "id": "qxXWERRymFDa",
        "outputId": "c8d7032c-492d-4738-ae17-cd763ca337fd"
      },
      "outputs": [
        {
          "output_type": "display_data",
          "data": {
            "text/html": [
              "<html>\n",
              "<head><meta charset=\"utf-8\" /></head>\n",
              "<body>\n",
              "    <div>            <script src=\"https://cdnjs.cloudflare.com/ajax/libs/mathjax/2.7.5/MathJax.js?config=TeX-AMS-MML_SVG\"></script><script type=\"text/javascript\">if (window.MathJax) {MathJax.Hub.Config({SVG: {font: \"STIX-Web\"}});}</script>                <script type=\"text/javascript\">window.PlotlyConfig = {MathJaxConfig: 'local'};</script>\n",
              "        <script src=\"https://cdn.plot.ly/plotly-2.8.3.min.js\"></script>                <div id=\"f83eed46-dcee-4f3f-8ce6-27481a7844a7\" class=\"plotly-graph-div\" style=\"height:800px; width:400px;\"></div>            <script type=\"text/javascript\">                                    window.PLOTLYENV=window.PLOTLYENV || {};                                    if (document.getElementById(\"f83eed46-dcee-4f3f-8ce6-27481a7844a7\")) {                    Plotly.newPlot(                        \"f83eed46-dcee-4f3f-8ce6-27481a7844a7\",                        [{\"alignmentgroup\":\"True\",\"hovertemplate\":\"salario_anual=%{y}<extra></extra>\",\"legendgroup\":\"\",\"marker\":{\"color\":\"#636efa\"},\"name\":\"\",\"notched\":false,\"offsetgroup\":\"\",\"orientation\":\"v\",\"showlegend\":false,\"x0\":\" \",\"xaxis\":\"x\",\"y\":[50000.0,45000.0,155142.0,49232.0,125000.0,50000.0,38400.0,30000.0,54000.0,33996.0,29120.0,75000.0,85000.0,80000.0,87550.0,99996.0,80400.0,36000.0,70000.0,36000.0,47000.0,100000.0,100000.0,62900.0,41500.0,78000.0,115000.0,65000.0,32000.0,150000.0,58000.0,54000.0,31200.0,70000.0,273700.0,99400.0,75000.0,177160.0,60174.0,112995.0,72000.0,50000.0,92700.0,36100.0,57700.0,40000.0,19200.0,81000.0,60000.0,29120.0,42000.0,17000.0,118812.0,26400.0,42000.0,93000.0,60000.0,68000.0,48000.0,66996.0,50000.0,46000.0,87895.0,66000.0,35000.0,250000.0,140304.0,31680.0,84300.0,50000.0,28800.0,70399.0,42000.0,152229.0,35000.0,41900.0,155004.0,26400.0,29004.0,60000.0,80000.0,127500.0,20000.0,120000.0,77000.0,32000.0,69600.0,23712.0,60000.0,42856.0,89000.0,125000.0,60000.0,140000.0,73524.0,182004.0,47000.0,61000.0,75000.0,96713.0,35000.0,76000.0,29364.0,45000.0,220000.0,45000.0,43200.0,55200.0,96408.0,40000.0,85000.0,39000.0,190000.0,30000.0,37700.0,18000.0,41300.0,48712.0,37500.0,78000.0,45000.0,105000.0,60000.0,45996.0,75000.0,250000.0,54000.0,58000.0,110000.0,54996.0,81000.0,61200.0,52000.0,78465.0,25591.0,62000.0,69000.0,52000.0,49600.0,30000.0,62004.0,15000.0,60000.0,69996.0,26000.0,99473.0,59147.0,44000.0,75000.0,26000.0,24000.0,28800.0,80000.0,30000.0,95000.0,27983.0,87000.0,24000.0,83000.0,125004.0,50000.0,73000.0,26000.0,168600.0,47928.0,40000.0,14000.0,130000.0,50000.0,60000.0,85000.0,54000.0,60000.0,24000.0,50000.0,54000.0,59000.0,43200.0,50000.0,40000.0,37560.0,52500.0,108000.0,47000.0,58000.0,73700.0,55315.0,43000.0,68000.0,32000.0,126696.0,20292.0,50000.0,20000.0,31200.0,35000.0,43500.0,38400.0,59000.0,48000.0,42000.0,102300.0,43200.0,99500.0,90750.0,48000.0,47052.0,130000.0,125000.0,30000.0,42000.0,66300.0,40000.0,95000.0,48000.0,172000.0,61000.0,47000.0,39480.0,55000.0,67200.0,9600.0,22000.0,54996.0,193800.0,85000.0,54000.0,42000.0,80000.0,25000.0,110400.0,52800.0,200000.0,18500.0,154000.0,144000.0,18000.0,49000.0,24960.0,120000.0,31000.0,60000.0,66000.0,83050.0,62903.0,80000.0,18287.0,35375.0,112260.0,35364.0,58000.0,54000.0,68500.0,36300.0,46000.0,65000.0,75000.0,39996.0,24000.0,42000.0,39000.0,48000.0,29000.0,238000.0,85000.0,90000.0,60000.0,80000.0,54000.0,90000.0,68400.0,126000.0,38400.0,33288.0,37008.0,46728.0,36000.0,60000.0,44000.0,75600.0,73008.0,66000.0,90000.0,60000.0,24000.0,95000.0,16800.0,50000.0,18000.0,24000.0,45000.0,110000.0,48000.0,75000.0,44000.0,60000.0,30000.0,84000.0,50000.0,91800.0,43000.0,24000.0,60000.0,40944.0,114000.0,24000.0,62201.0,57000.0,70000.0,30000.0,151900.0,180000.0,37800.0,40000.0,47700.0,70000.0,36000.0,56000.0,37000.0,42000.0,56400.0,50000.0,32388.0,78420.0,96000.0,110000.0,69000.0,38000.0,140000.0,82000.0,38604.0,26000.0,48000.0,52000.0,25000.0,29950.0,54000.0,99996.0,37500.0,55000.0,48840.0,73000.0,53950.0,64000.0,80000.0,39000.0,48000.0,32000.0,48000.0,60000.0,50000.0,125000.0,55000.0,61000.0,88000.0,51500.0,86400.0,14400.0,80000.0,28800.0,33000.0,48000.0,115000.0,85000.0,41000.0,48000.0,64500.0,113800.0,80000.0,23766.0,98000.0,32400.0,143150.0,50000.0,33000.0,38000.0,60000.0,63000.0,35000.0,28000.0,62000.0,480000.0,98000.0,75000.0,32000.0,54000.0,74568.0,64000.0,110888.0,56244.0,76000.0,51000.0,55000.0,88000.0,34800.0,56052.0,76000.0,29376.0,15600.0,41200.0,180000.0,65000.0,26496.0,76000.0,99000.0,75000.0,59000.0,85000.0,80000.0,61400.0,53000.0,55000.0,34000.0,156000.0,33267.0,75000.0,80000.0,21600.0,85000.0,63500.0,165000.0,44447.0,36000.0,71004.0,64000.0,117996.0,32500.0,74400.0,74000.0,47000.0,200000.0,68400.0,140000.0,90000.0,28550.0,59000.0,19200.0,130900.0,88512.0,91560.0,60000.0,42000.0,55000.0,76000.0,42996.0,48000.0,21000.0,80000.0,50000.0,21996.0,40000.0,98280.0,82560.0,81120.0,60000.0,60000.0,140000.0,300000.0,75000.0,85000.0,56000.0,65000.0,79996.0,60000.0,84996.0,18000.0,55000.0,75000.0,84000.0,60000.0,95000.0,30000.0,82000.0,69000.0,120000.0,64000.0,60000.0,65000.0,20400.0,50000.0,40351.0,33276.0,15000.0,32000.0,65000.0,91000.0,35000.0,42000.0,120000.0,50000.0,58608.0,50000.0,38000.0,89004.0,24000.0,56000.0,10000.0,62000.0,86000.0,33800.0,28000.0,55000.0,48000.0,56000.0,33000.0,73000.0,85000.0,95028.0,67992.0,40792.0,30000.0,125000.0,46443.0,21000.0,18300.0,60000.0,74000.0,225000.0,35000.0,65000.0,38400.0,18000.0,190000.0,32900.0,39000.0,50000.0,29000.0,69743.0,60000.0,38643.0,54996.0,25000.0,12000.0,39600.0,50000.0,50000.0,160000.0,25480.0,32400.0,26780.0,36000.0,77000.0,80000.0,96000.0,72000.0,200000.0,51000.0,28692.0,97000.0,26280.0,24000.0,48000.0,125000.0,57000.0,33600.0,150000.0,87000.0,45324.0,154000.0,32000.0,12000.0,126000.0,56400.0,48996.0,12600.0,50000.0,42000.0,40000.0,29004.0,87000.0,68000.0,42000.0,63945.0,90000.0,27000.0,32000.0,70000.0,87500.0,45000.0,67200.0,55000.0,30000.0,72000.0,45000.0,40000.0,36000.0,43000.0,67000.0,66000.0,30000.0,32000.0,36000.0,65000.0,60000.0,80000.0,30000.0,67900.0,42000.0,75531.0,85000.0,28008.0,47500.0,48000.0,29000.0,40116.0,40000.0,60000.0,60000.0,110000.0,70000.0,77000.0,78000.0,75000.0,67150.0,21600.0,26729.0,30000.0,85000.0,45000.0,76700.0,24480.0,85000.0,47000.0,64698.0,84000.0,82000.0,80000.0,96000.0,40000.0,62000.0,24500.0,27996.0,50000.0,41000.0,44000.0,75000.0,103000.0,40000.0,24290.0,80004.0,60000.0,24000.0,60000.0,60000.0,53004.0,33600.0,50000.0,75000.0,140000.0,55000.0,29000.0,60000.0,45996.0,65000.0,55782.0,84000.0,74000.0,35000.0,130208.0,40000.0,50000.0,32000.0,41000.0,90000.0,26400.0,66000.0,72500.0,65000.0,50000.0,201000.0,155000.0,38000.0,38340.0,48996.0,14400.0,32376.0,45000.0,32993.0,21000.0,60000.0,42000.0,75000.0,79200.0,110000.0,60000.0,103000.0,30996.0,49000.0,165000.0,64900.0,58650.0,75000.0,46000.0,55152.0,38400.0,129600.0,54000.0,49812.0,78000.0,52000.0,43200.0,45000.0,12996.0,87550.0,65000.0,57600.0,74000.0,112000.0,26000.0,45760.0,98000.0,97800.0,50700.0,51000.0,60000.0,35000.0,26400.0,63000.0,110000.0,109000.0,32004.0,59000.0,25596.0,21600.0,37000.0,67000.0,52000.0,90000.0,100500.0,75000.0,75852.0,154008.0,38850.0,77000.0,12600.0,90000.0,40000.0,107000.0,51000.0,34000.0,32500.0,75000.0,37200.0,31000.0,65219.0,17573.0,60000.0,60000.0,55000.0,45000.0,110400.0,30000.0,68500.0,65416.0,65000.0,45000.0,64800.0,48000.0,80000.0,31416.0,47125.0,88000.0,42240.0,67200.0,59500.0,39996.0,75000.0,185000.0,32304.0,60000.0,36000.0,31400.0,106000.0,98300.0,60000.0,49000.0,66000.0,30000.0,45000.0,21600.0,62000.0,42000.0,37000.0,50000.0,44000.0,90000.0,40000.0,41004.0,48996.0,105000.0,200000.0,28800.0,103000.0,38004.0,62400.0,35000.0,96636.0,80000.0,73073.0,42000.0,45000.0,48000.0,60040.0,79000.0,60000.0,30000.0,30000.0,105600.0,54000.0,44000.0,105000.0,19200.0,52000.0,180000.0,71500.0,52250.0,51000.0,65000.0,64000.0,74000.0,97000.0,48000.0,78996.0,37000.0,39000.0,84000.0,42000.0,75000.0,65000.0,54000.0,39000.0,52250.0,62000.0,111150.0,70000.0,38000.0,48000.0,27983.0,71500.0,72000.0,80000.0,72000.0,50000.0,52000.0,26000.0,57160.0,99300.0,100860.0,65000.0,42000.0,45000.0,102000.0,75000.0,54792.0,92000.0,61828.0,125000.0,44000.0,90000.0,71652.0,88620.0,45000.0,30000.0,54000.0,47000.0,57600.0,69996.0,42000.0,80000.0,49000.0,26500.0,30000.0,102000.0,40581.0,45176.0,96720.0,51000.0,50400.0,25000.0,50000.0,51200.0,52000.0,75000.0,41100.0,39000.0,79000.0,16800.0,75000.0,74700.0,110000.0,135000.0,26400.0,44000.0,85000.0,108000.0,31200.0,74400.0,60000.0,51500.0,30000.0,45000.0,69000.0,116000.0,95000.0,24000.0,25100.0,75000.0,90000.0,34000.0,30000.0,68496.0,56400.0,62500.0,45000.0,110000.0,78000.0,40000.0,52000.0,25000.0,21120.0,117500.0,41000.0,100000.0,45489.0,140000.0,59000.0,32388.0,111016.0,81972.0,105996.0,48876.0,120000.0,30000.0,62400.0,34000.0,130000.0,70000.0,34152.0,49200.0,39600.0,84000.0,40000.0,36000.0,57000.0,64000.0,53000.0,34000.0,46800.0,145000.0,40000.0,44004.0,36800.0,70000.0,70000.0,45000.0,72000.0,30000.0,92000.0,53000.0,45000.0,119000.0,85000.0,50000.0,65000.0,60000.0,96000.0,34000.0,84000.0,54000.0,60500.0,38000.0,30000.0,38000.0,54000.0,48000.0,79650.0,15456.0,85000.0,29000.0,180000.0,202000.0,73200.0,48000.0,42504.0,146000.0,150000.0,15000.0,44000.0,150000.0,30000.0,97000.0,60000.0,18000.0,45000.0,132000.0,100000.0,60000.0,32000.0,75000.0,67000.0,100000.0,40000.0,80000.0,36000.0,62467.0,86004.0,35000.0,69000.0,65000.0,74004.0,61200.0,74000.0,24000.0,60000.0,80000.0,31000.0,40800.0,39870.0,44400.0,27840.0,90000.0,62000.0,192000.0,135600.0,56000.0,39600.0,114600.0,30000.0,132000.0,80730.0,49029.0,66000.0,68000.0,80000.0,82300.0,61000.0,164000.0,50000.0,72000.0,22000.0,110000.0,165000.0,90000.0,19200.0,29000.0,120000.0,21600.0,57600.0,60000.0,31200.0,15000.0,62900.0,97500.0,14400.0,45000.0,72500.0,130000.0,86000.0,100800.0,75000.0,81600.0,18984.0,31200.0,29534.0,75480.0,38004.0,47000.0,123144.0,51000.0,73200.0,54000.0,110000.0,42048.0,30996.0,60000.0,100000.0,120000.0,141000.0,62040.0,78000.0,57000.0,105000.0,75000.0,39000.0,40000.0,70000.0,57000.0,144000.0,53500.0,105000.0,84000.0,65000.0,38100.0,54000.0,70000.0,44000.0,21600.0,65000.0,42000.0,89610.0,64800.0,35000.0,26400.0,87000.0,60000.0,59000.0,95000.0,100000.0,49000.0,25200.0,75000.0,31200.0,34368.0,28000.0,44000.0,24000.0,35000.0,42000.0,52300.0,60000.0,19800.0,60000.0,30000.0,30000.0,57600.0,35000.0,5000.0,60000.0,54996.0,66150.0,96000.0,68000.0,85000.0,62500.0,74000.0,86004.0,33000.0,54417.0,74628.0,72000.0,74000.0,72000.0,111000.0,64500.0,18000.0,55000.0,35000.0,86000.0,29004.0,52000.0,200000.0,115000.0,120000.0,85000.0,47000.0,62400.0,43000.0,64000.0,70000.0,69000.0,28500.0,44000.0,73000.0,22406.0,70000.0,36000.0,30000.0,153000.0,25960.0,70000.0,60629.0,90000.0,35576.0,105500.0,24000.0,60000.0,39000.0,51996.0,22800.0,83600.0,128000.0,33000.0,46000.0,220000.0,83000.0,33600.0,31000.0,46700.0,96000.0,23340.0,60000.0,80000.0,51996.0,36000.0,70000.0,36000.0,85000.0,21600.0,85000.0,60000.0,108000.0,60000.0,36000.0,42000.0,97000.0,20352.0,48989.0,40000.0,51600.0,69360.0,95000.0,70000.0,53000.0,80000.0,56000.0,34800.0,64800.0,21000.0,60000.0,80000.0,49500.0,13500.0,30000.0,420000.0,38400.0,64000.0,71000.0,30000.0,24996.0,21600.0,45000.0,30000.0,81996.0,113200.0,52000.0,36000.0,43000.0,9600.0,97750.0,70200.0,75000.0,72000.0,48000.0,66500.0,110000.0,21000.0,51072.0,45000.0,75000.0,34000.0,38500.0,34000.0,36000.0,110000.0,61000.0,66000.0,32000.0,33000.0,28500.0,12000.0,23920.0,39270.0,64548.0,70000.0,40000.0,40000.0,35000.0,85000.0,60000.0,153000.0,195054.0,44000.0,37000.0,48500.0,22188.0,30000.0,36000.0,30000.0,24000.0,26000.0,74500.0,72000.0,44400.0,55600.0,1782000.0,12996.0,88000.0,70000.0,117996.0,53155.0,23004.0,79000.0,53000.0,52000.0,57770.0,83135.0,43200.0,145000.0,35496.0,45000.0,42360.0,71000.0,80000.0,86000.0,60000.0,69000.0,96500.0,120000.0,34000.0,37086.0,12000.0,109500.0,45000.0,39996.0,49000.0,55000.0,37000.0,27600.0,12240.0,43500.0,24000.0,96000.0,46551.0,73000.0,27040.0,76654.0,85000.0,33204.0,80000.0,80000.0,21600.0,30500.0,63000.0,120000.0,62400.0,91000.0,45000.0,47000.0,104000.0,30000.0,168750.0,32000.0,47831.0,22800.0,54000.0,24000.0,51000.0,14004.0,55000.0,113800.0,60000.0,25000.0,39500.0,36000.0,65000.0,40000.0,48000.0,87000.0,25000.0,96000.0,42000.0,54590.0,74970.0,70000.0,30500.0,25200.0,100000.0,142000.0,130000.0,95000.0,86000.0,96000.0,60000.0,41000.0,48000.0,90200.0,38000.0,95000.0,31200.0,26000.0,48000.0,99000.0,14400.0,46000.0,45996.0,47000.0,83000.0,110000.0,12000.0,28800.0,96000.0,80000.0,79100.0,33000.0,41004.0,39000.0,111000.0,45792.0,78000.0,52000.0,55000.0,51300.0,21600.0,57552.0,230000.0,18000.0,62500.0,73000.0,87000.0,38400.0,54996.0,250000.0,28800.0,70000.0,59004.0,115000.0,50000.0,44582.0,49200.0,44400.0,86000.0,14400.0,52800.0,48000.0,50780.0,84000.0,56000.0,70000.0,100000.0,125000.0,40000.0,36000.0,41700.0,38004.0,50000.0,36000.0,52000.0,80000.0,21000.0,24960.0,14400.0,69000.0,15000.0,87000.0,30000.0,145000.0,41000.0,54000.0,69228.0,75000.0,28500.0,140000.0,60000.0,18000.0,108000.0,191000.0,29004.0,36396.0,70000.0,78000.0,87504.0,62000.0,11389.0,120000.0,66000.0,33000.0,42000.0,60000.0,40000.0,26500.0,44160.0,37440.0,52000.0,100000.0,100800.0,62400.0,30000.0,39000.0,45000.0,135000.0,64000.0,90000.0,240000.0,100000.0,54000.0,21996.0,57600.0,36900.0,158367.0,69846.0,111000.0,64000.0,95000.0,18000.0,36000.0,95000.0,175000.0,64600.0,80000.0,28800.0,39996.0,55000.0,95000.0,96000.0,52703.0,66400.0,75000.0,98056.0,72000.0,72800.0,120000.0,48000.0,32000.0,73000.0,56864.0,83000.0,63000.0,51395.0,60000.0,31000.0,74000.0,51500.0,52800.0,73000.0,42000.0,45000.0,41000.0,32678.0,81800.0,35000.0,35000.0,24000.0,87000.0,16800.0,56000.0,12000.0,100000.0,92500.0,9600.0,60000.0,51000.0,52000.0,35000.0,32000.0,25000.0,87800.0,61490.0,31500.0,68004.0,35000.0,72000.0,32000.0,40000.0,69000.0,45000.0,65000.0,33150.0,68000.0,48000.0,55000.0,65000.0,57400.0,65000.0,80000.0,66000.0,47000.0,48000.0,28089.0,87500.0,90000.0,90000.0,18000.0,85000.0,51000.0,28989.0,30000.0,120000.0,44400.0,80038.0,70000.0,26000.0,85000.0,22000.0,71000.0,33600.0,87500.0,60000.0,48000.0,27600.0,54000.0,40000.0,80000.0,33600.0,34000.0,50000.0,95000.0,24000.0,75000.0,100800.0,72000.0,9600.0,75000.0,34000.0,52479.0,51630.0,138000.0,87996.0,42000.0,48000.0,22560.0,59004.0,19200.0,45000.0,40277.0,50000.0,20000.0,40800.0,52500.0,30000.0,65000.0,100800.0,71007.0,107000.0,48000.0,74400.0,82500.0,80160.0,30000.0,115500.0,70000.0,68000.0,57500.0,50000.0,30000.0,58800.0,75000.0,50000.0,10980.0,45000.0,81000.0,23004.0,113000.0,61000.0,35004.0,220000.0,39600.0,55000.0,24000.0,80000.0,60000.0,52704.0,100000.0,85000.0,110000.0,42000.0,72893.0,44400.0,40000.0,65000.0,41000.0,42000.0,100000.0,93000.0,70000.0,34300.0,52000.0,75000.0,100000.0,86400.0,30000.0,76860.0,33000.0,75600.0,38400.0,35416.0,140000.0,92000.0,28800.0,140000.0,75600.0,30000.0,42000.0,29376.0,72000.0,59600.0,83000.0,42000.0,52800.0,82600.0,37000.0,50000.0,29040.0,45000.0,28800.0,35000.0,58313.0,46000.0,46000.0,65000.0,59000.0,73000.0,37000.0,38300.0,90996.0,148000.0,50000.0,64000.0,20000.0,50000.0,66300.0,44000.0,84000.0,40000.0,33000.0,28000.0,51000.0,27840.0,66000.0,38400.0,85000.0,50000.0,86400.0,35000.0,23000.0,75000.0,26000.0,32400.0,105000.0,74500.0,113676.0,72000.0,60000.0,60000.0,89440.0,56148.0,90000.0,56400.0,47000.0,45000.0,57000.0,39996.0,130000.0,61000.0,57016.0,20000.0,37000.0,140000.0,85000.0,22044.0,32000.0,75000.0,36000.0,50000.0,72400.0,30000.0,39000.0,62040.0,62800.0,85000.0,147996.0,52000.0,138000.0,39860.0,82400.0,49000.0,34000.0,80607.0,18000.0,123996.0,72000.0,77000.0,34900.0,49110.0,55438.0,59475.0,58000.0,87996.0,41280.0,140000.0,69000.0,28000.0,97000.0,90000.0,27000.0,50000.0,45600.0,95000.0,96000.0,83004.0,36000.0,54000.0,60000.0,36000.0,160000.0,26400.0,28800.0,26004.0,31000.0,150000.0,45000.0,62000.0,36000.0,75000.0,54000.0,68000.0,35004.0,63000.0,24000.0,65000.0,40000.0,122500.0,87000.0,33000.0,75000.0,27600.0,26000.0,58000.0,60000.0,238000.0,30000.0,75000.0,54000.0,34000.0,41000.0,104000.0,69996.0,140000.0,75000.0,35000.0,22000.0,19200.0,83200.0,39000.0,123000.0,80000.0,72000.0,159960.0,150000.0,51600.0,45150.0,38000.0,75000.0,100000.0,30320.0,30000.0,37200.0,20000.0,32004.0,65000.0,45504.0,54000.0,24000.0,56000.0,114000.0,70000.0,45000.0,148000.0,150000.0,33685.0,70000.0,122000.0,75000.0,30000.0,66000.0,48000.0,120000.0,40000.0,80000.0,40000.0,74000.0,43680.0,58000.0,60000.0,116000.0,80000.0,24000.0,54000.0,110000.0,132750.0,50400.0,72000.0,30000.0,70125.0,102000.0,82000.0,40000.0,68666.0,47380.0,45840.0,32400.0,128000.0,88560.0,75000.0,149385.0,36499.0,95004.0,30000.0,46000.0,70000.0,38400.0,94000.0,230000.0,67600.0,30000.0,43080.0,60000.0,86400.0,19200.0,35004.0,48000.0,40000.0,64777.0,35000.0,70000.0,55000.0,66000.0,66000.0,60000.0,55059.0,48996.0,98400.0,98000.0,58000.0,31200.0,42000.0,45000.0,20400.0,38160.0,19820.0,125004.0,51000.0,48000.0,32004.0,79200.0,31776.0,60000.0,92000.0,62000.0,130000.0,155000.0,52000.0,31500.0,50000.0,300000.0,57000.0,117000.0,33600.0,39912.0,48000.0,80000.0,78000.0,48226.0,32890.0,52500.0,35000.0,143000.0,50000.0,108000.0,30372.0,22896.0,60000.0,107000.0,43680.0,75000.0,32918.0,30000.0,79000.0,49200.0,90000.0,40000.0,52000.0,42500.0,98600.0,47000.0,138000.0,145000.0,200000.0,45000.0,90000.0,80000.0,47496.0,70000.0,300000.0,44400.0,30144.0,33000.0,91000.0,80000.0,48000.0,32400.0,55680.0,60000.0,468000.0,50496.0,41000.0,40272.0,69000.0,113000.0,61200.0,65200.0,65000.0,73000.0,75000.0,42000.0,46992.0,49008.0,73000.0,24000.0,68500.0,40000.0,24000.0,34046.0,30400.0,34000.0,180000.0,43000.0,29004.0,69000.0,66000.0,15000.0,47000.0,95000.0,80000.0,52000.0,43000.0,108000.0,116000.0,54000.0,30000.0,30000.0,24000.0,27600.0,75000.0,48000.0,33000.0,28000.0,24000.0,25000.0,70000.0,40000.0,53000.0,20000.0,75576.0,63000.0,65000.0,100000.0,50000.0,41000.0,80000.0,30000.0,72000.0,68000.0,104550.0,70000.0,72000.0,200000.0,60000.0,77000.0,136625.0,58800.0,54000.0,54000.0,51500.0,60000.0,85000.0,31577.0,126000.0,39000.0,50000.0,47000.0,40000.0,81600.0,85800.0,125000.0,52000.0,48000.0,30000.0,45000.0,160000.0,81500.0,52000.0,54000.0,41300.0,85000.0,75000.0,24600.0,50000.0,36000.0,15000.0,18720.0,48000.0,24000.0,14400.0,32000.0,70000.0,97500.0,27000.0,348000.0,75000.0,54000.0,20000.0,54996.0,54200.0,51600.0,94000.0,38000.0,127000.0,46000.0,61680.0,50000.0,120000.0,23000.0,69000.0,36000.0,148616.0,20000.0,77400.0,89000.0,50000.0,33036.0,70000.0,29000.0,55000.0,154000.0,50000.0,135000.0,47004.0,30000.0,48000.0,130000.0,150000.0,34000.0,33009.0,70000.0,38500.0,27000.0,125000.0,75400.0,35000.0,57408.0,20400.0,55000.0,52000.0,80000.0,45000.0,56004.0,63402.0,105000.0,49000.0,59000.0,29100.0,16800.0,69996.0,44582.0,15085.0,159000.0,15000.0,98656.0,62500.0,33000.0,37000.0,52000.0,42000.0,39996.0,82000.0,60000.0,65000.0,163000.0,100000.0,46852.0,53000.0,49000.0,55000.0,44000.0,75000.0,55000.0,21648.0,200000.0,39000.0,29536.0,76320.0,29004.0,56000.0,45000.0,41004.0,90000.0,23000.0,45000.0,95800.0,90000.0,46000.0,36996.0,35000.0,115731.0,32000.0,56650.0,45600.0,52188.0,57000.0,50000.0,60000.0,80000.0,50004.0,31000.0,29664.0,25000.0,55000.0,30996.0,65000.0,57000.0,65458.0,32640.0,40000.0,32000.0,54000.0,80000.0,61000.0,13200.0,61000.0,31500.0,57995.0,25000.0,36000.0,114054.0,80000.0,21600.0,105400.0,59000.0,66000.0,33000.0,95000.0,60000.0,74000.0,72000.0,45600.0,117005.0,54000.0,36400.0,113000.0,84996.0,65000.0,53100.0,27000.0,72000.0,39996.0,50000.0,170000.0,70000.0,78000.0,34800.0,92800.0,65004.0,140987.0,34000.0,38400.0,95000.0,54996.0,120000.0,24000.0,48000.0,34656.0,56000.0,24000.0,42500.0,36000.0,56000.0,42900.0,45000.0,80256.0,15600.0,88712.0,20000.0,14400.0,59000.0,70000.0,40000.0,80000.0,58800.0,39000.0,72000.0,54000.0,76000.0,48100.0,23196.0,68004.0,37000.0,40000.0,60000.0,38904.0,200000.0,76000.0,108000.0,14400.0,43000.0,92000.0,130000.0,90000.0,70000.0,90000.0,54000.0,137057.0,33000.0,70000.0,180000.0,87000.0,10800.0,68000.0,13440.0,88000.0,143485.0,30000.0,143000.0,24996.0,50000.0,30000.0,77004.0,56000.0,267000.0,30000.0,98004.0,64000.0,28000.0,56000.0,137400.0,193000.0,44000.0,101000.0,109000.0,73000.0,65158.0,58000.0,43000.0,25140.0,32400.0,95000.0,45000.0,108000.0,42804.0,54400.0,69000.0,66000.0,75000.0,50000.0,85000.0,64000.0,50000.0,18000.0,56000.0,64404.0,100000.0,51600.0,33996.0,145000.0,96000.0,91800.0,125000.0,75000.0,27259.0,35820.0,72000.0,75000.0,96000.0,102489.0,95500.0,250000.0,52828.0,80000.0,132000.0,40000.0,35000.0,48000.0,35004.0,42996.0,69996.0,24300.0,89000.0,59000.0,54996.0,28800.0,46000.0,38126.0,40000.0,75840.0,46000.0,41000.0,70000.0,44000.0,46500.0,22800.0,42504.0,32900.0,24000.0,60000.0,74004.0,39480.0,110000.0,89000.0,40525.0,91800.0,35000.0,42000.0,125000.0,52800.0,124000.0,66000.0,80004.0,53000.0,42996.0,22596.0,34800.0,52500.0,97000.0,120000.0,40000.0,64500.0,60000.0,54000.0,41004.0,18000.0,65000.0,57996.0,32000.0,43200.0,78000.0,41000.0,62000.0,28880.0,28000.0,41000.0,96053.0,32000.0,160000.0,59004.0,46500.0,70000.0,78000.0,37200.0,68500.0,30000.0,85000.0,102300.0,40720.0,29004.0,25000.0,50000.0,72000.0,36000.0,35000.0,45500.0,58000.0,90000.0,67222.0,30480.0,564000.0,120000.0,73000.0,99996.0,75000.0,60682.0,25000.0,72000.0,43000.0,48000.0,37680.0,44900.0,32400.0,125000.0,69996.0,74000.0,16094.0,91000.0,31000.0,42000.0,35000.0,53000.0,36000.0,93000.0,70000.0,38052.0,26000.0,23000.0,122000.0,24996.0,54996.0,42996.0,26000.0,68000.0,84000.0,38000.0,17688.0,40000.0,52000.0,70000.0,27000.0,69000.0,36194.0,45000.0,51356.0,41000.0,78996.0,68000.0,45000.0,39600.0,53360.0,46000.0,36000.0,37000.0,35000.0,225000.0,41820.0,54396.0,60000.0,39600.0,75000.0,100000.0,120000.0,56000.0,175000.0,41600.0,57400.0,150750.0,75500.0,20000.0,67000.0,85000.0,120000.0,53000.0,52000.0,56472.0,90000.0,62000.0,113000.0,175000.0,27600.0,34800.0,54000.0,32868.0,35000.0,52000.0,52000.0,37950.0,31000.0,48000.0,93000.0,65000.0,60000.0,76800.0,57000.0,51900.0,69996.0,69000.0,200000.0,64000.0,84000.0,49920.0,40000.0,51000.0,33000.0,105000.0,36000.0,33000.0,52000.0,22200.0,117014.0,29000.0,50000.0,77200.0,34000.0,59000.0,125000.0,29000.0,50000.0,51996.0,75000.0,34500.0,78200.0,50000.0,42000.0,50000.0,74000.0,25000.0,99000.0,98004.0,75000.0,103000.0,45996.0,108000.0,41000.0,56004.0,56030.0,60000.0,36228.0,43000.0,53000.0,96000.0,64000.0,36895.0,24996.0,259000.0,130000.0,60000.0,70000.0,66000.0,35000.0,71000.0,78000.0,113000.0,39996.0,54000.0,45000.0,57000.0,140000.0,40680.0,101000.0,28800.0,42000.0,65000.0,53796.0,65000.0,180000.0,83600.0,44000.0,68400.0,154000.0,39000.0,46000.0,73000.0,36000.0,65004.0,54000.0,65000.0,44000.0,55059.0,20000.0,70000.0,91200.0,95620.0,84000.0,35000.0,51996.0,25000.0,67000.0,56000.0,30000.0,41000.0,90000.0,30000.0,60000.0,63844.0,160000.0,40000.0,45000.0,36000.0,78000.0,130000.0,81996.0,41000.0,112774.0,55000.0,57000.0,62570.0,118400.0,33500.0,98000.0,80000.0,36000.0,45000.0,63344.0,98760.0,480000.0,65000.0,60000.0,40000.0,78000.0,66000.0,60000.0,22800.0,80208.0,28000.0,48000.0,60000.0,180000.0,88000.0,43200.0,27000.0,50000.0,98004.0,88970.0,35000.0,90000.0,19992.0,90000.0,48000.0,97000.0,18000.0,75000.0,55512.0,39996.0,36000.0,50000.0,59000.0,68000.0,54000.0,76800.0,50000.0,18000.0,55000.0,52000.0,63000.0,52000.0,44000.0,73000.0,138000.0,75000.0,82500.0,73500.0,114000.0,40000.0,46000.0,80000.0,72000.0,87000.0,49000.0,55000.0,52000.0,30000.0,88000.0,70553.0,43000.0,62000.0,30000.0,30000.0,33800.0,16800.0,30000.0,29004.0,74000.0,72000.0,24000.0,43000.0,63996.0,75000.0,78000.0,45000.0,63300.0,68000.0,55000.0,200000.0,42000.0,42000.0,69000.0,88000.0,81380.0,72000.0,82650.0,61200.0,79632.0,46000.0,45000.0,36504.0,52800.0,65004.0,42000.0,52000.0,37500.0,43680.0,139200.0,60000.0,57000.0,40000.0,68000.0,56472.0,58000.0,50000.0,52000.0,53664.0,30000.0,175000.0,102000.0,70000.0,48686.0,18720.0,61500.0,16800.0,26010.0,80000.0,48000.0,94000.0,50000.0,70550.0,47500.0,60000.0,90000.0,60000.0,99600.0,74000.0,41004.0,140000.0,36000.0,48880.0,48000.0,50000.0,20400.0,52000.0,43000.0,62900.0,100000.0,78000.0,42000.0,34000.0,9600.0,48000.0,62900.0,51600.0,56448.0,80000.0,201450.0,24996.0,41500.0,45000.0,60000.0,59200.0,18000.0,35000.0,44000.0,255000.0,33000.0,45000.0,36000.0,45000.0,163000.0,100000.0,65004.0,67000.0,90000.0,63000.0,53000.0,90000.0,99200.0,45600.0,50000.0,87500.0,42000.0,30000.0,72600.0,31200.0,57860.0,92000.0,54996.0,46000.0,26000.0,30000.0,38196.0,225000.0,60000.0,45000.0,52000.0,105000.0,60000.0,42000.0,27000.0,41000.0,39000.0,27138.0,125375.0,28800.0,45000.0,20004.0,94000.0,50000.0,60000.0,36000.0,42000.0,44000.0,51996.0,88000.0,36628.0,76296.0,130000.0,103000.0,106000.0,36000.0,46000.0,49000.0,99000.0,42500.0,33996.0,23400.0,33000.0,50000.0,34500.0,31075.0,46000.0,25200.0,63000.0,31850.0,150000.0,54000.0,57200.0,72100.0,34800.0,156000.0,83000.0,22800.0,36000.0,95000.0,203500.0,50400.0,45000.0,130000.0,24000.0,176608.0,75000.0,62000.0,49500.0,60000.0,90000.0,51000.0,27000.0,37200.0,35000.0,25200.0,15360.0,40000.0,61200.0,21996.0,44000.0,18000.0,84000.0,60900.0,48000.0,87000.0,45000.0,98000.0,250000.0,77040.0,50000.0,35000.0,63000.0,68000.0,120000.0,64000.0,79050.0,32400.0,100000.0,110000.0,55000.0,54996.0,80000.0,62050.0,49200.0,52884.0,30000.0,56000.0,44000.0,120000.0,60000.0,93600.0,58500.0,55200.0,38004.0,38000.0,37000.0,97000.0,69900.0,98000.0,33600.0,14500.0,90000.0,80000.0,20000.0,144997.0,45000.0,26400.0,92000.0,120000.0,25000.0,42000.0,52000.0,48000.0,75000.0,110000.0,72000.0,99996.0,42000.0,30000.0,40944.0,42000.0,39000.0,78500.0,60000.0,19200.0,69000.0,56100.0,21500.0,19240.0,74000.0,72194.0,44000.0,134748.0,18000.0,65000.0,90000.0,54000.0,58500.0,58650.0,52800.0,95000.0,33600.0,375000.0,103000.0,42000.0,86000.0,67500.0,25200.0,81000.0,28000.0,80000.0,54000.0,87000.0,80000.0,45500.0,37000.0,62366.0,107000.0,24000.0,90000.0,15000.0,45000.0,72000.0,42000.0,44000.0,38500.0,32500.0,23000.0,18000.0,47000.0,175000.0,54000.0,270000.0,52000.0,38482.0,48000.0,67000.0,45600.0,118320.0,49404.0,150000.0,100000.0,78000.0,86105.0,96000.0,90000.0,69000.0,68000.0,100800.0,83200.0,70000.0,20000.0,50000.0,29000.0,49000.0,29568.0,35000.0,156326.0,28000.0,60000.0,45000.0,56000.0,94000.0,40000.0,42996.0,85000.0,45760.0,45000.0,73000.0,135000.0,35000.0,216000.0,60000.0,39000.0,97296.0,101000.0,33600.0,35000.0,65000.0,46000.0,72000.0,61628.0,75000.0,351699.0,33000.0,32000.0,20004.0,31000.0,49000.0,40000.0,46104.0,76800.0,64000.0,84000.0,54000.0,135996.0,53000.0,45000.0,65000.0,44000.0,88000.0,40000.0,184992.0,50004.0,133000.0,33000.0,67000.0,550000.0,132000.0,30000.0,75000.0,72000.0,48715.0,36000.0,59000.0,83000.0,85000.0,32400.0,60000.0,78000.0,38400.0,60000.0,36000.0,40000.0,95000.0,60000.0,44500.0,72000.0,29000.0,35000.0,60000.0,56400.0,78500.0,33600.0,54011.0,38000.0,59000.0,71000.0,40777.0,52000.0,114000.0,53000.0,33198.0,102000.0,25000.0,57996.0,135000.0,60000.0,55000.0,51621.0,40000.0,58000.0,52800.0,26400.0,30200.0,78000.0,50000.0,62047.0,18000.0,35000.0,32400.0,36000.0,65496.0,123600.0,52000.0,50004.0,95000.0,24840.0,27048.0,95000.0,44400.0,80000.0,120000.0,65000.0,50000.0,57188.0,45000.0,40800.0,140000.0,46500.0,70000.0,38000.0,33000.0,40000.0,120000.0,148000.0,38000.0,57240.0,22000.0,160000.0,26400.0,15600.0,49200.0,68000.0,83200.0,85000.0,78000.0,78500.0,120000.0,24000.0,52000.0,25800.0,89000.0,40000.0,42000.0,48000.0,16320.0,36000.0,72000.0,53760.0,90000.0,84500.0,30000.0,75000.0,62532.0,30000.0,166000.0,55000.0,34500.0,244800.0,52000.0,69000.0,157200.0,54000.0,28500.0,43000.0,72204.0,40000.0,91000.0,30000.0,80000.0,44000.0,130000.0,45000.0,14400.0,114000.0,105000.0,50000.0,45000.0,60000.0,50000.0,93000.0,157500.0,36000.0,18000.0,9600.0,55000.0,38000.0,87000.0,23000.0,48000.0,30000.0,36000.0,27600.0,72000.0,105000.0,27864.0,39500.0,30000.0,31100.0,100000.0,39996.0,150000.0,27600.0,42000.0,60000.0,102000.0,66800.0,19498.0,45204.0,30000.0,36000.0,150000.0,61000.0,100000.0,34800.0,50000.0,44196.0,110000.0,115000.0,54400.0,43000.0,96000.0,50000.0,60000.0,28800.0,51850.0,46700.0,21996.0,32240.0,25000.0,150000.0,55000.0,128000.0,70000.0,80000.0,20004.0,26400.0,98000.0,78200.0,40000.0,708000.0,150000.0,30000.0,117000.0,24000.0,32000.0,22800.0,56000.0,53000.0,11000.0,37000.0,36000.0,60000.0,100000.0,90000.0,94992.0,57600.0,48000.0,30000.0,60000.0,79000.0,61838.0,60000.0,53117.0,47000.0,37000.0,61000.0,56000.0,65000.0,120000.0,200000.0,60000.0,76000.0,24000.0,30000.0,85000.0,88000.0,53000.0,28692.0,71000.0,50004.0,160000.0,56000.0,200000.0,50000.0,38300.0,31000.0,57000.0,30873.0,30929.0,59000.0,40000.0,55000.0,84000.0,30000.0,66504.0,79272.0,33000.0,25000.0,65000.0,44000.0,14000.0,94050.0,46272.0,78500.0,49896.0,62500.0,33600.0,65000.0,28000.0,79701.0,103250.0,30000.0,44000.0,30000.0,130000.0,95004.0,50000.0,43275.0,122400.0,16000.0,36672.0,45000.0,54000.0,36450.0,125000.0,89000.0,80000.0,75000.0,60000.0,75000.0,60000.0,42000.0,30000.0,100000.0,23000.0,40000.0,75000.0,61800.0,43000.0,18000.0,55164.0,36500.0,24000.0,65000.0,58000.0,24996.0,42000.0,26400.0,26000.0,36000.0,34444.0,34000.0,70000.0,36000.0,24696.0,42000.0,31776.0,60000.0,70000.0,58000.0,55000.0,86400.0,72000.0,115000.0,73680.0,70500.0,60000.0,40000.0,66000.0,63996.0,88500.0,140000.0,16000.0,56000.0,55000.0,105000.0,39000.0,75000.0,38400.0,36000.0,32004.0,23004.0,60000.0,65000.0,37200.0,46000.0,48000.0,36000.0,44000.0,65280.0,55000.0,75000.0,60000.0,35000.0,30000.0,46000.0,30000.0,14400.0,29472.0,57996.0,80000.0,80000.0,48996.0,40000.0,87300.0,65000.0,53995.0,37000.0,92000.0,38600.0,60000.0,34800.0,72000.0,62475.0,70000.0,105000.0,95000.0,50400.0,69600.0,106000.0,60600.0,78000.0,49000.0,56664.0,33996.0,70000.0,42000.0,60000.0,66661.0,112000.0,55000.0,130000.0,99996.0,70000.0,48000.0,68000.0,46000.0,80000.0,56700.0,39000.0,35100.0,80000.0,32400.0,85000.0,45000.0,10800.0,77000.0,85000.0,72890.0,120000.0,113000.0,72000.0,98000.0,28000.0,35000.0,28672.0,52000.0,25000.0,70000.0,74000.0,61147.0,35000.0,41496.0,66420.0,75000.0,64000.0,31000.0,104000.0,94200.0,54000.0,62500.0,85000.0,65000.0,50000.0,70000.0,25200.0,37200.0,42000.0,33000.0,100000.0,48000.0,45000.0,101000.0,30000.0,40000.0,49008.0,50000.0,70000.0,68000.0,176004.0,30000.0,30000.0,79768.0,40000.0,37680.0,57000.0,87360.0,45600.0,80000.0,47004.0,19200.0,69000.0,180000.0,52000.0,74000.0,158000.0,132000.0,92000.0,54000.0,71004.0,45900.0,74700.0,74400.0,70000.0,36000.0,32000.0,59964.0,39000.0,84000.0,59497.0,29120.0,66600.0,75996.0,25200.0,22800.0,83000.0,50004.0,40428.0,30422.0,33000.0,32000.0,20400.0,74900.0,40000.0,30000.0,59484.0,32500.0,54000.0,65000.0,82300.0,68000.0,60000.0,46800.0,24000.0,37595.0,56000.0,50004.0,44000.0,24000.0,28000.0,51500.0,56000.0,53000.0,62000.0,48000.0,108000.0,48000.0,49000.0,55000.0,50000.0,58000.0,60000.0,83000.0,58900.0,65000.0,105600.0,100000.0,78000.0,175436.0,43500.0,100000.0,72000.0,32000.0,100000.0,33000.0,24000.0,125000.0,47004.0,155867.0,41000.0,67000.0,68000.0,45000.0,90000.0,44000.0,54000.0,49920.0,50004.0,110000.0,77000.0,31200.0,145000.0,39000.0,71000.0,51500.0,102000.0,165000.0,20400.0,57000.0,40000.0,30000.0,32000.0,15000.0,49000.0,68000.0,69996.0,68000.0,40000.0,38400.0,140000.0,39996.0,48000.0,65000.0,42000.0,120000.0,17108.0,120000.0,112000.0,72000.0,90000.0,58000.0,88000.0,28200.0,213000.0,81000.0,66000.0,32000.0,100000.0,120000.0,55000.0,60000.0,69600.0,50000.0,72000.0,110000.0,28800.0,39000.0,43949.0,12000.0,53000.0,53000.0,60000.0,41196.0,74000.0,42000.0,44782.0,60000.0,20400.0,74000.0,50000.0,120000.0,50000.0,41000.0,40000.0,30000.0,60000.0,52692.0,200000.0,108000.0,42000.0,59000.0,110000.0,47000.0,95000.0,82000.0,125000.0,75000.0,65000.0,140000.0,200000.0,40000.0,55392.0,60000.0,73000.0,40000.0,30000.0,50000.0,31000.0,28500.0,38599.0,84000.0,32000.0,168000.0,37500.0,54000.0,47412.0,27000.0,150000.0,34320.0,49500.0,62900.0,68804.0,51298.0,48000.0,40500.0,24000.0,34099.0,42000.0,40000.0,80000.0,74800.0,100000.0,88000.0,15000.0,51000.0,12000.0,30000.0,62000.0,26500.0,19968.0,48000.0,108000.0,21600.0,108000.0,48000.0,47500.0,30000.0,53000.0,90000.0,25000.0,60000.0,100000.0,73200.0,26000.0,50000.0,114400.0,47380.0,76500.0,37200.0,46000.0,96000.0,120000.0,60000.0,61100.0,43000.0,50000.0,96000.0,36000.0,32000.0,36789.0,61000.0,61300.0,71604.0,32004.0,118000.0,85000.0,60000.0,110000.0,100000.0,222000.0,37212.0,87000.0,56604.0,34400.0,126000.0,45600.0,115200.0,74000.0,21000.0,180000.0,100000.0,38000.0,63000.0,160000.0,40000.0,55000.0,14400.0,27500.0,156000.0,74784.0,60000.0,30000.0,78000.0,50000.0,38688.0,12720.0,59000.0,107000.0,25716.0,125000.0,54400.0,84000.0,57700.0,80000.0,37423.0,60000.0,21600.0,105000.0,13000.0,51000.0,45000.0,70000.0,80000.0,200000.0,20868.0,40000.0,16800.0,40000.0,59000.0,20400.0,22000.0,85000.0,36100.0,77000.0,80000.0,57424.0,50000.0,57000.0,48048.0,60000.0,92000.0,30000.0,84000.0,74004.0,160800.0,41000.0,30000.0,24000.0,115742.0,56525.0,32400.0,43000.0,108000.0,150000.0,36050.0,38000.0,65000.0,57900.0,47000.0,42000.0,34800.0,72000.0,28800.0,45000.0,83300.0,72000.0,35000.0,28000.0,23000.0,85000.0,42162.0,75000.0,40000.0,151000.0,87996.0,67000.0,92000.0,153000.0,47000.0,58000.0,50400.0,57000.0,38400.0,65000.0,60000.0,88000.0,65004.0,35256.0,114996.0,38000.0,50000.0,86260.0,67500.0,34000.0,82500.0,54000.0,32000.0,64800.0,54000.0,95459.0,36996.0,75000.0,71496.0,27600.0,120000.0,65000.0,62000.0,40000.0,61402.0,55000.0,33600.0,101416.0,31000.0,24240.0,52800.0,65000.0,80000.0,70000.0,77000.0,130000.0,56496.0,75400.0,15000.0,32000.0,71400.0,26000.0,38400.0,82000.0,29000.0,110000.0,117516.0,50000.0,58000.0,38000.0,55000.0,54000.0,39996.0,66500.0,60000.0,100000.0,40000.0,48000.0,110000.0,15000.0,18000.0,32000.0,60000.0,35000.0,30000.0,39000.0,92000.0,62000.0,33000.0,36000.0,85000.0,85000.0,14400.0,38000.0,130000.0,220000.0,62000.0,50000.0,35000.0,42000.0,4200.0,40000.0,71000.0,142500.0,43000.0,90000.0,64464.0,11000.0,51996.0,36588.0,36000.0,46000.0,50000.0,34100.0,50000.0,24000.0,81900.0,96000.0,135000.0,288000.0,64800.0,55000.0,55000.0,57000.0,100000.0,74000.0,94896.0,50000.0,80000.0,67000.0,12996.0,210000.0,58000.0,200000.0,104525.0,62500.0,93500.0,51000.0,60000.0,100000.0,36120.0,60000.0,63996.0,68120.0,73000.0,40269.0,270300.0,56000.0,48000.0,75000.0,124800.0,45984.0,97000.0,76486.0,91000.0,76000.0,72000.0,37500.0,50000.0,21000.0,39600.0,95000.0,140004.0,42000.0,45204.0,60000.0,55140.0,35000.0,67000.0,37980.0,60000.0,30720.0,39000.0,85000.0,84000.0,35004.0,100596.0,45000.0,69000.0,35000.0,12000.0,44000.0,35000.0,49000.0,40000.0,44000.0,180000.0,100000.0,75000.0,32000.0,21600.0,53500.0,69996.0,75000.0,84000.0,62000.0,24000.0,35000.0,58656.0,66000.0,55000.0,18000.0,74800.0,50004.0,10000.0,36000.0,31000.0,60000.0,52000.0,80000.0,48200.0,42000.0,36000.0,200100.0,85000.0,221004.0,36000.0,62217.0,32004.0,40000.0,78000.0,136092.0,123000.0,65200.0,75000.0,120000.0,58000.0,49560.0,52000.0,39552.0,39000.0,33600.0,25000.0,55000.0,54000.0,35000.0,59000.0,51000.0,31824.0,62000.0,55016.0,102960.0,218000.0,103000.0,85000.0,80000.0,31224.0,100000.0,86500.0,36000.0,30000.0,130000.0,29772.0,42000.0,31785.0,15600.0,113050.0,92000.0,60000.0,37440.0,66000.0,52833.0,126000.0,30000.0,55200.0,65000.0,39000.0,28000.0,26004.0,22680.0,42000.0,145000.0,44000.0,63208.0,68500.0,60000.0,36000.0,93000.0,24000.0,25200.0,61000.0,61717.0,66920.0,36996.0,90080.0,39000.0,79000.0,29000.0,90100.0,74400.0,90000.0,188000.0,16000.0,74000.0,32500.0,20000.0,74900.0,80000.0,103000.0,37000.0,22800.0,72000.0,40000.0,70000.0,50000.0,30000.0,65000.0,64212.0,39996.0,13500.0,115000.0,39000.0,54000.0,45000.0,45063.0,47000.0,60000.0,90000.0,56000.0,85000.0,65000.0,132000.0,62000.0,110000.0,84996.0,50000.0,23000.0,54084.0,70000.0,58344.0,108000.0,32997.0,71400.0,113000.0,55000.0,110000.0,38000.0,35000.0,100000.0,170000.0,44000.0,115000.0,38748.0,25000.0,50000.0,74500.0,100000.0,85900.0,73000.0,28800.0,145000.0,53636.0,21600.0,96000.0,50004.0,170000.0,120000.0,46500.0,82000.0,28800.0,52000.0,67992.0,30188.0,85000.0,37440.0,138000.0,65453.0,60000.0,34000.0,64500.0,114000.0,25000.0,42000.0,97000.0,25000.0,60000.0,37000.0,54000.0,98004.0,125000.0,39000.0,55000.0,50000.0,75000.0,90000.0,168000.0,30000.0,100000.0,120000.0,14400.0,120000.0,55550.0,42000.0,27840.0,70000.0,75000.0,53000.0,73000.0,76000.0,65004.0,48715.0,47000.0,24000.0,28800.0,14400.0,80000.0,30000.0,110000.0,45000.0,75000.0,100000.0,35000.0,24996.0,39962.0,23500.0,34600.0,54036.0,100000.0,266000.0,31200.0,80000.0,100000.0,34000.0,70000.0,61000.0,81000.0,54996.0,12600.0,49000.0,50000.0,612000.0,40000.0,28000.0,95000.0,96000.0,115000.0,200000.0,54000.0,30000.0,80000.0,34000.0,110000.0,52260.0,38000.0,45000.0,200000.0,62000.0,65000.0,20000.0,75000.0,79000.0,50000.0,48996.0,96000.0,74064.0,100300.0,43000.0,144000.0,53000.0,92000.0,85000.0,140000.0,30000.0,32000.0,33996.0,67000.0,90000.0,25000.0,54000.0,57175.0,42000.0,15000.0,150000.0,70000.0,12996.0,42000.0,96000.0,57000.0,40500.0,60000.0,146000.0,38268.0,30000.0,40000.0,101400.0,43200.0,95000.0,65000.0,73000.0,63508.0,45500.0,70000.0,17760.0,64000.0,26784.0,85000.0,42000.0,75000.0,90996.0,31000.0,44400.0,30000.0,60000.0,60000.0,60000.0,10800.0,48000.0,90000.0,165996.0,100000.0,110000.0,40000.0,40000.0,39600.0,33280.0,118000.0,70000.0,34000.0,68000.0,28800.0,60000.0,50350.0,46000.0,65000.0,63000.0,90000.0,70000.0,42000.0,44000.0,40574.0,27000.0,28800.0,37000.0,39915.0,42500.0,22000.0,85000.0,78000.0,52000.0,120000.0,27996.0,30280.0,66000.0,18000.0,66000.0,78386.0,65000.0,73400.0,60000.0,360000.0,37000.0,44000.0,98000.0,61000.0,43000.0,60000.0,48000.0,48132.0,85000.0,25200.0,21000.0,96000.0,51000.0,109000.0,65000.0,80000.0,20000.0,82710.0,30000.0,84000.0,95000.0,55000.0,51600.0,80000.0,72000.0,20796.0,84000.0,50000.0,75000.0,45996.0,44000.0,170004.0,20000.0,150000.0,70000.0,22800.0,50000.0,41000.0,225000.0,91800.0,47000.0,95000.0,219996.0,12000.0,40000.0,38500.0,30000.0,72000.0,48000.0,60000.0,18000.0,56839.0,48300.0,92795.0,39000.0,24000.0,33666.0,60000.0,21000.0,30000.0,51500.0,30000.0,69638.0,117000.0,91000.0,77000.0,34400.0,65000.0,201000.0,45000.0,42000.0,75000.0,72000.0,42000.0,54000.0,95000.0,90000.0,55000.0,45000.0,48000.0,60000.0,40000.0,110496.0,18000.0,49000.0,64000.0,38000.0,74600.0,30996.0,120000.0,32000.0,93000.0,60228.0,38000.0,75996.0,78000.0,41784.0,25000.0,55000.0,60000.0,72000.0,20000.0,72000.0,48000.0,90000.0,60000.0,60516.0,18000.0,70000.0,112123.0,54000.0,75000.0,65000.0,64000.0,32000.0,80569.0,50000.0,60000.0,300000.0,78000.0,120000.0,44160.0,46800.0,47000.0,36000.0,89000.0,65867.0,78000.0,60000.0,44000.0,45000.0,32700.0,45000.0,73163.0,44000.0,50000.0,24960.0,33600.0,93000.0,39000.0,80000.0,34900.0,46000.0,42000.0,96000.0,35000.0,70000.0,35000.0,56160.0,200000.0,48960.0,19200.0,54000.0,35000.0,100000.0,80004.0,30000.0,86875.0,80000.0,80000.0,58650.0,24000.0,52000.0,60000.0,66000.0,45000.0,60000.0,85000.0,43200.0,48000.0,140000.0,38469.0,86000.0,70000.0,52500.0,44928.0,50004.0,44400.0,60000.0,105000.0,31200.0,40000.0,28800.0,30000.0,93200.0,58000.0,55000.0,55000.0,44500.0,46000.0,95000.0,48000.0,190000.0,43000.0,25000.0,85000.0,37000.0,30000.0,52800.0,171500.0,95000.0,95000.0,27000.0,55000.0,71000.0,57000.0,89018.0,120000.0,39996.0,180000.0,12000.0,40000.0,73000.0,30000.0,91200.0,180000.0,90000.0,39000.0,60000.0,39996.0,40000.0,26400.0,67092.0,55840.0,46000.0,42000.0,12000.0,50000.0,55000.0,105398.0,35600.0,106000.0,30000.0,90000.0,24000.0,110000.0,84456.0,98603.0,191250.0,33481.0,42000.0,31200.0,28128.0,43400.0,65000.0,60000.0,120000.0,84000.0,38400.0,60000.0,100000.0,32000.0,32304.0,90000.0,226000.0,120000.0,180000.0,70000.0,136000.0,80000.0,50000.0,41400.0,95000.0,64000.0,60132.0,25200.0,60000.0,44000.0,67000.0,43812.0,54696.0,120000.0,60000.0,35000.0,20000.0,42500.0,35000.0,100000.0,55000.0,39000.0,45192.0,57192.0,75000.0,63000.0,32400.0,115000.0,72000.0,22406.0,80000.0,46000.0,30000.0,100000.0,58000.0,73000.0,36000.0,55900.0,36000.0,48000.0,150000.0,48000.0,58000.0,200000.0,50000.0,30000.0,120000.0,46809.0,90000.0,85000.0,40000.0,118000.0,27000.0,35000.0,34000.0,35000.0,96000.0,88400.0,107000.0,18000.0,20000.0,60000.0,60000.0,33048.0,120000.0,100000.0,51168.0,56000.0,45600.0,130000.0,142000.0,140000.0,70000.0,65000.0,39600.0,34999.0,85000.0,63000.0,112000.0,20000.0,68000.0,30000.0,95000.0,150000.0,136092.0,33000.0,60000.0,37440.0,85000.0,72000.0,48250.0,106800.0,66240.0,55000.0,45180.0,240000.0,54000.0,300000.0,50000.0,53000.0,56312.0,56000.0,28000.0,65000.0,56000.0,75288.0,129900.0,60000.0,100000.0,34000.0,65000.0,216000.0,91800.0,96000.0,54000.0,54828.0,30000.0,98320.0,64000.0,48000.0,47544.0,56100.0,72000.0,50400.0,30000.0,120000.0,67752.0,33000.0,46000.0,32004.0,51000.0,60000.0,50000.0,70000.0,19200.0,61000.0,29000.0,60000.0,70000.0,57000.0,32000.0,39000.0,56045.0,40992.0,48000.0,65000.0,29000.0,78402.0,72000.0,60400.0,110000.0,130000.0,40000.0,105000.0,42000.0,120000.0,36000.0,120000.0,60000.0,72000.0,63800.0,56400.0,65000.0,50280.0,24000.0,63000.0,36000.0,30000.0,76000.0,120000.0,46500.0,780000.0,109900.0,78000.0,250000.0,15000.0,45000.0,109000.0,50000.0,37000.0,50000.0,83000.0,60000.0,44300.0,68000.0,288000.0,72000.0,175000.0,54000.0,53481.0,30000.0,90000.0,14400.0,23387.0,144000.0,50000.0,33500.0,44000.0,85000.0,41500.0,100000.0,80000.0,50000.0,28800.0,60000.0,75000.0,62050.0,63000.0,65004.0,65000.0,158000.0,155800.0,28800.0,45000.0,74000.0,80000.0,56004.0,74000.0,70008.0,59617.0,57996.0,44630.0,72000.0,95000.0,44000.0,41004.0,75000.0,46000.0,75000.0,96000.0,38500.0,225000.0,250000.0,45000.0,54000.0,175000.0,45600.0,73000.0,25000.0,70000.0,63996.0,58000.0,42504.0,72000.0,78369.0,54000.0,45000.0,40000.0,46000.0,40800.0,55000.0,58000.0,27600.0,60000.0,121000.0,34800.0,48000.0,54000.0,51000.0,54000.0,81000.0,145000.0,300000.0,39000.0,48000.0,91800.0,52000.0,110000.0,54000.0,120000.0,20000.0,27000.0,130000.0,72000.0,65000.0,79000.0,58979.0,73000.0,49000.0,105000.0,68000.0,37000.0,28000.0,47000.0,74256.0,40000.0,240000.0,35000.0,54100.0,44000.0,130000.0,44004.0,87950.0,234600.0,125000.0,78000.0,29004.0,12000.0,69996.0,62000.0,59000.0,148000.0,53285.0,25000.0,59000.0,101000.0,105000.0,34000.0,39000.0,155000.0,32000.0,80000.0,70000.0,55000.0,300000.0,75000.0,59000.0,70000.0,44400.0,55500.0,100000.0,63000.0,53000.0,73000.0,110000.0,55000.0,45000.0,30000.0,22800.0,52800.0,65000.0,41000.0,68000.0,41000.0,75000.0,57600.0,87550.0,30000.0,12000.0,65338.0,45000.0,90000.0,106000.0,55000.0,35004.0,90000.0,75000.0,50000.0,55000.0,50000.0,42000.0,30000.0,74000.0,95000.0,52680.0,44000.0,24000.0,23040.0,44172.0,96000.0,72324.0,40000.0,56004.0,60000.0,60000.0,60000.0,60000.0,20000.0,26000.0,120000.0,50000.0,26000.0,65935.0,60000.0,45996.0,63000.0,33000.0,75000.0,21600.0,95000.0,42000.0,31200.0,42000.0,85280.0,85000.0,144996.0,115000.0,91000.0,105600.0,62000.0,75000.0,70900.0,14400.0,70000.0,68750.0,60132.0,122000.0,75000.0,213000.0,56000.0,95000.0,44000.0,242400.0,50000.0,118000.0,91000.0,73000.0,43000.0,78000.0,100000.0,105804.0,50000.0,21424.0,250000.0,18204.0,50000.0,42500.0,90000.0,45000.0,29000.0,15000.0,60000.0,63000.0,195000.0,72800.0,100000.0,41869.0,89849.0,30000.0,68580.0,65000.0,135000.0,25000.0,34000.0,70000.0,40000.0,26650.0,100000.0,58000.0,99000.0,58800.0,134300.0,92000.0,59000.0,55000.0,35000.0,540600.0,53000.0,45000.0,48000.0,82500.0,40000.0,30000.0,60000.0,74000.0,62910.0,130000.0,38000.0,42300.0,51684.0,27996.0,42000.0,76000.0,20000.0,24996.0,86000.0,36000.0,72000.0,62800.0,68496.0,10000.0,99000.0,61615.0,47000.0,39184.0,120000.0,50000.0,30000.0,105000.0,48000.0,37000.0,72467.0,44000.0,65000.0,66500.0,70000.0,60000.0,80000.0,62004.0,65000.0,57800.0,48000.0,126132.0,36000.0,78792.0,35000.0,93000.0,34068.0,76404.0,80000.0,122004.0,44160.0,59000.0,37000.0,42000.0,30000.0,50000.0,32800.0,46800.0,20400.0,100000.0,72000.0,24000.0,14400.0,55400.0,60000.0,51500.0,20000.0,18000.0,64000.0,50000.0,42500.0,36000.0,44000.0,59000.0,30000.0,62500.0,105804.0,42000.0,25000.0,230000.0,125000.0,50000.0,130000.0,38000.0,128474.0,34868.0,25200.0,54000.0,64000.0,160000.0,63000.0,90000.0,38000.0,49600.0,73000.0,45000.0,60000.0,250000.0,74000.0,81600.0,47000.0,82500.0,30000.0,32000.0,45000.0,36000.0,33000.0,42000.0,87360.0,63000.0,40200.0,25000.0,76872.0,45000.0,54996.0,101000.0,32340.0,71820.0,34000.0,32000.0,107004.0,27600.0,35000.0,703800.0,117000.0,33000.0,40000.0,40000.0,26000.0,63000.0,29000.0,36000.0,62000.0,90000.0,35000.0,31000.0,35000.0,48000.0,61200.0,70000.0,84000.0,70000.0,20000.0,60000.0,62000.0,51267.0,125000.0,56000.0,70000.0,75000.0,73000.0,24000.0,50004.0,53200.0,40000.0,30000.0,45000.0,120000.0,26500.0,93000.0,202040.0,62400.0,100000.0,80004.0,75000.0,60000.0,120999.0,42224.0,35000.0,46000.0,16800.0,32004.0,60000.0,42000.0,50000.0,36000.0,44000.0,27048.0,50500.0,42000.0,62000.0,55000.0,53004.0,65000.0,26400.0,45600.0,41300.0,51996.0,55920.0,90301.0,36000.0,69996.0,32000.0,69996.0,70000.0,30636.0,39500.0,126996.0,98000.0,38000.0,90000.0,73000.0,124000.0,65000.0,31000.0,100300.0,78000.0,275004.0,39000.0,86000.0,60000.0,80000.0,48000.0,80000.0,58617.0,77000.0,49000.0,45000.0,80004.0,50000.0,37500.0,60000.0,33600.0,54660.0,105000.0,70000.0,175000.0,90000.0,40000.0,64000.0,14088.0,37344.0,47000.0,50100.0,35000.0,51600.0,103000.0,40000.0,69000.0,95000.0,12000.0,30000.0,75500.0,27000.0,30000.0,100840.0,115600.0,62000.0,45000.0,69996.0,121008.0,143000.0,25000.0,80000.0,51500.0,80000.0,55000.0,51996.0,39204.0,73000.0,87550.0,65000.0,70000.0,37992.0,108600.0,60000.0,54000.0,45000.0,41579.0,112000.0,78400.0,70404.0,46000.0,101000.0,76597.0,84996.0,170850.0,53000.0,28800.0,35004.0,43000.0,64000.0,305000.0,12000.0,49000.0,50000.0,62000.0,27360.0,65000.0,80000.0,48000.0,57500.0,85000.0,37000.0,30000.0,34000.0,72000.0,45000.0,33000.0,94185.0,248735.0,54000.0,32000.0,110000.0,39000.0,60000.0,180000.0,40000.0,65004.0,67550.0,105000.0,46873.0,97908.0,33000.0,70000.0,55596.0,45000.0,45000.0,36000.0,14400.0,39000.0,60000.0,45000.0,47000.0,19368.0,75000.0,44000.0,102000.0,49200.0,50004.0,78000.0,79992.0,59000.0,42000.0,40000.0,50000.0,80000.0,86004.0,30000.0,31200.0,110000.0,45000.0,57192.0,62130.0,63500.0,45000.0,50000.0,56000.0,38000.0,300000.0,45000.0,33000.0,51000.0,39000.0,32000.0,8000.0,78000.0,60000.0,55000.0,56004.0,66000.0,72000.0,141000.0,56204.0,47000.0,34800.0,35000.0,55000.0,32000.0,48996.0,33996.0,43949.0,80000.0,24000.0,33000.0,35000.0,65000.0,77604.0,113000.0,30000.0,40000.0,37000.0,35004.0,48996.0,139992.0,52800.0,39996.0,60000.0,39600.0,136000.0,30000.0,64000.0,135000.0,26785.0,75200.0,82632.0,80000.0,38000.0,78000.0,44000.0,72000.0,75000.0,32000.0,75000.0,75000.0,27036.0,30000.0,60000.0,62000.0,54000.0,24000.0,49578.0,40000.0,56000.0,110000.0,20800.0,25000.0,35004.0,80000.0,92000.0,44000.0,12000.0,74000.0,65000.0,35000.0,30000.0,99996.0,38000.0,73000.0,135000.0,49963.0,30000.0,81600.0,60996.0,78000.0,120000.0,48000.0,62900.0,80000.0,45000.0,105000.0,16800.0,78000.0,30000.0,50400.0,126000.0,74000.0,37500.0,39996.0,95000.0,60000.0,57223.0,55000.0,95000.0,33996.0,85000.0,36000.0,39000.0,80000.0,50000.0,75805.0,65000.0,46000.0,62000.0,29996.0,26000.0,54000.0,125000.0,49000.0,20004.0,78000.0,70500.0,117000.0,53500.0,35000.0,57000.0,22292.0,40000.0,65000.0,69000.0,67000.0,45000.0,35000.0,40000.0,92341.0,65000.0,63000.0,130500.0,80832.0,84000.0,130000.0,37596.0,95000.0,60000.0,176000.0,40000.0,46680.0,43000.0,24000.0,72000.0,39996.0,40556.0,23400.0,36000.0,90000.0,110000.0,19176.0,28800.0,84000.0,36000.0,12000.0,45000.0,116000.0,39996.0,48000.0,40000.0,88000.0,55000.0,42000.0,120000.0,67675.0,110000.0,30000.0,77000.0,27000.0,44000.0,20000.0,45996.0,73000.0,36000.0,50004.0,34000.0,61000.0,54000.0,30000.0,110000.0,90000.0,65000.0,122000.0,42900.0,46500.0,74000.0,66500.0,24000.0,55000.0,30840.0,28000.0,71400.0,144000.0,175000.0,65000.0,104000.0,70000.0,92000.0,180000.0,100000.0,73000.0,62500.0,37818.0,16000.0,147750.0,45000.0,28000.0,18000.0,35496.0,30000.0,145000.0,49853.0,54000.0,69000.0,43300.0,62000.0,54503.0,52000.0,65000.0,46809.0,107800.0,122000.0,134300.0,74000.0,75000.0,75333.0,68000.0,59160.0,75000.0,24000.0,35000.0,58000.0,27040.0,72500.0,62400.0,145000.0,128000.0,57200.0,51480.0,100000.0,30000.0,105000.0,59000.0,38004.0,46000.0,75000.0,63996.0,25000.0,119000.0,62500.0,57000.0,26796.0,75000.0,39000.0,35000.0,35000.0,19000.0,400000.0,90000.0,24000.0,40000.0,50000.0,80000.0,47000.0,153000.0,150000.0,66000.0,117000.0,42000.0,24996.0,30000.0,69400.0,60000.0,92000.0,100000.0,52000.0,85000.0,26400.0,53467.0,69996.0,87000.0,36000.0,90000.0,95000.0,49000.0,29000.0,60000.0,51996.0,82000.0,86400.0,60000.0,54000.0,66500.0,77100.0,66000.0,55000.0,60350.0,28800.0,17000.0,28000.0,89004.0,42000.0,40000.0,65000.0,86000.0,52000.0,56000.0,38000.0,79000.0,22000.0,80000.0,72576.0,65000.0,48500.0,37157.0,30000.0,42000.0,47000.0,43200.0,67600.0,35000.0,60000.0,35000.0,54000.0,50000.0,72500.0,57000.0,60000.0,30000.0,30000.0,23000.0,65000.0,40000.0,58992.0,30000.0,57996.0,173467.0,38000.0,100000.0,90522.0,162500.0,22000.0,97188.0,43000.0,45000.0,34800.0,140000.0,41000.0,75000.0,91800.0,72000.0,57359.0,55000.0,96000.0,108000.0,44000.0,33100.0,24000.0,60000.0,40000.0,90000.0,225000.0,70000.0,175000.0,112992.0,62000.0,135000.0,94000.0,45000.0,27972.0,27568.0,100000.0,66500.0,34000.0,120000.0,84000.0,48989.0,44000.0,62000.0,143500.0,27600.0,140000.0,90000.0,44000.0,12000.0,55000.0,56000.0,73000.0,18000.0,50004.0,36903.0,70000.0,26000.0,60000.0,56000.0,61000.0,120000.0,96000.0,14400.0,18000.0,55000.0,33000.0,34000.0,80000.0,72700.0,58000.0,55000.0,92000.0,500000.0,86400.0,100000.0,65004.0,72250.0,77000.0,110000.0,68000.0,60000.0,88000.0,85000.0,49200.0,30000.0,522000.0,122000.0,60000.0,52400.0,61000.0,69600.0,35000.0,60353.0,79050.0,29004.0,120000.0,120000.0,100000.0,74568.0,48000.0,49000.0,30900.0,60000.0,59004.0,61104.0,105000.0,65007.0,39996.0,48000.0,20000.0,78000.0,40000.0,40000.0,24000.0,32640.0,60000.0,31600.0,49200.0,190000.0,50361.0,32000.0,62400.0,40000.0,200000.0,43500.0,37100.0,120000.0,20000.0,58650.0,50000.0,90000.0,90000.0,144000.0,39996.0,110000.0,180000.0,44000.0,28000.0,130000.0,83000.0,57500.0,60000.0,138000.0,58000.0,64049.0,42000.0,150086.0,114000.0,20800.0,39000.0,39520.0,21000.0,38400.0,57000.0,72000.0,40000.0,95000.0,118000.0,95000.0,336000.0,14400.0,135000.0,55000.0,10000.0,164000.0,60000.0,85000.0,45600.0,52000.0,58608.0,60000.0,70000.0,31000.0,67500.0,27000.0,100000.0,51250.0,108000.0,35000.0,62540.0,80000.0,55500.0,120000.0,30000.0,21600.0,23000.0,180488.0,34000.0,45000.0,55000.0,64000.0,85200.0,26000.0,13200.0,77500.0,60000.0,24000.0,67983.0,30000.0,67000.0,51000.0,38400.0,25000.0,65000.0,29136.0,45000.0,90700.0,43000.0,72000.0,59000.0,40000.0,40246.0,72000.0,180000.0,66996.0,31000.0,41000.0,65000.0,100000.0,130000.0,30000.0,117832.0,72000.0,90000.0,34560.0,21000.0,45900.0,45000.0,113000.0,51996.0,82000.0,35004.0,48000.0,80600.0,78000.0,120000.0,55000.0,109000.0,77350.0,55000.0,64000.0,48500.0,146000.0,42000.0,92000.0,58125.0,49500.0,35000.0,30000.0,48000.0,35941.0,50000.0,35000.0,39000.0,210000.0,195000.0,27000.0,65000.0,60000.0,34000.0,48800.0,250000.0,35000.0,98000.0,90000.0,65000.0,30000.0,96000.0,48000.0,78000.0,19200.0,60000.0,124992.0,54400.0,83000.0,58000.0,48000.0,72000.0,40000.0,24000.0,48000.0,55000.0,64000.0,30000.0,60000.0,82500.0,38000.0,50000.0,55000.0,120000.0,100000.0,250000.0,39000.0,86000.0,90000.0,55000.0,71500.0,26100.0,63000.0,36000.0,41340.0,98000.0,62000.0,36000.0,83199.0,26880.0,38000.0,415000.0,54996.0,90000.0,31200.0,34900.0,46000.0,75000.0,20000.0,115000.0,30000.0,50000.0,38000.0,50988.0,13380.0,84996.0,54000.0,150000.0,54000.0,32400.0,32644.0,38000.0,85000.0,1200000.0,86000.0,78000.0,92250.0,315000.0,44000.0,44004.0,70000.0,40000.0,77940.0,96000.0,75689.0,34600.0,44000.0,92000.0,200000.0,75670.0,36000.0,56500.0,65000.0,95000.0,33600.0,40000.0,230000.0,120000.0,82000.0,125000.0,45000.0,144000.0,135000.0,32400.0,48000.0,40000.0,38400.0,48000.0,61000.0,43000.0,52000.0,24000.0,96000.0,27385.0,55000.0,46800.0,54000.0,34000.0,90000.0,60000.0,45000.0,40000.0,43000.0,60000.0,88000.0,54000.0,54000.0,40000.0,37200.0,36000.0,83100.0,26000.0,175000.0,45000.0,54000.0,110000.0,70000.0,50000.0,120000.0,51000.0,74000.0,58600.0,39996.0,84996.0,72000.0,36800.0,95000.0,80000.0,18000.0,78504.0,50600.0,54072.0,51000.0,46000.0,72500.0,20004.0,64000.0,35000.0,70000.0,38400.0,30000.0,40000.0,182004.0,82000.0,50004.0,65000.0,28176.0,44000.0,110000.0,90000.0,69000.0,33000.0,64000.0,150000.0,120000.0,54578.0,62000.0,150000.0,35000.0,120000.0,75000.0,10000.0,57850.0,58650.0,145000.0,34320.0,27911.0,17000.0,100000.0,90000.0,31800.0,160669.0,62400.0,65500.0,54000.0,27000.0,22800.0,50004.0,71760.0,82700.0,104004.0,60000.0,48000.0,55000.0,69000.0,65280.0,50000.0,52000.0,60000.0,57600.0,46000.0,116000.0,70000.0,37920.0,52000.0,67300.0,36000.0,138000.0,24000.0,93000.0,400000.0,45000.0,60996.0,32000.0,24000.0,140000.0,53352.0,54000.0,72000.0,117000.0,78252.0,25000.0,35000.0,78000.0,82000.0,225000.0,70000.0,30000.0,24000.0,37200.0,67000.0,29000.0,48000.0,29120.0,60000.0,84000.0,65304.0,36000.0,21000.0,85000.0,56000.0,51600.0,65000.0,107000.0,82000.0,70360.0,46000.0,62000.0,45000.0,90000.0,85000.0,19200.0,42996.0,37004.0,54000.0,86700.0,25000.0,35500.0,39000.0,37000.0,65000.0,60000.0,68000.0,96000.0,39000.0,46000.0,19200.0,96000.0,60000.0,45000.0,70000.0,180000.0,67000.0,14400.0,46800.0,87000.0,60000.0,56000.0,50000.0,87000.0,34416.0,45000.0,73000.0,50000.0,35000.0,70000.0,42806.0,47652.0,120000.0,65000.0,45992.0,92000.0,26124.0,36000.0,120000.0,25056.0,150000.0,84996.0,39200.0,48000.0,50200.0,52500.0,60000.0,48000.0,60000.0,48000.0,26400.0,155000.0,65000.0,175000.0,74400.0,150000.0,101000.0,109000.0,18000.0,66000.0,124499.0,58000.0,45000.0,91200.0,84000.0,126400.0,52000.0,40000.0,54912.0,130992.0,98406.0,26400.0,62758.0,82570.0,27000.0,120000.0,68000.0,66912.0,39000.0,96000.0,120000.0,32000.0,138000.0,105000.0,30000.0,47000.0,59785.0,40000.0,60000.0,63000.0,103000.0,25000.0,19000.0,102500.0,66000.0,43200.0,220000.0,62000.0,36000.0,95000.0,63000.0,33000.0,30000.0,97781.0,45000.0,21600.0,46999.0,77000.0,91000.0,96000.0,40320.0,48000.0,100000.0,184000.0,15600.0,80000.0,100000.0,65000.0,22000.0,69900.0,30000.0,84000.0,34000.0,60000.0,25000.0,55000.0,39396.0,32000.0,32004.0,28800.0,16000.0,49349.0,75000.0,56000.0,26400.0,90000.0,75000.0,52800.0,60000.0,45600.0,30996.0,91000.0,98000.0,56000.0,42000.0,24996.0,25000.0,72500.0,63000.0,74360.0,80000.0,65000.0,70000.0,37440.0,62500.0,42000.0,65000.0,36000.0,52000.0,54000.0,28000.0,39000.0,39700.0,51996.0,76596.0,50000.0,66000.0,42000.0,38004.0,97000.0,90000.0,95000.0,250000.0,34000.0,107000.0,52000.0,34000.0,65000.0,40000.0,23400.0,110500.0,46000.0,27900.0,75800.0,72000.0,29000.0,55000.0,80000.0,78000.0,80004.0,60000.0,23040.0,53000.0,45000.0,59000.0,70600.0,78000.0,33000.0,84996.0,32000.0,72644.0,54000.0,50500.0,200000.0,40000.0,53000.0,36000.0,36600.0,35000.0,146990.0,40000.0,70000.0,50000.0,52569.0,29000.0,100000.0,65000.0,96000.0,16400.0,120000.0,50000.0,47580.0,50400.0,56253.0,83300.0,32004.0,30000.0,131000.0,75000.0,60000.0,45000.0,140000.0,24000.0,70000.0,105000.0,43236.0,40000.0,61000.0,69000.0,48000.0,120000.0,57500.0,44004.0,63200.0,98736.0,79000.0,48996.0,32000.0,175000.0,25000.0,30000.0,89000.0,70000.0,28800.0,136173.0,79050.0,55000.0,50000.0,130000.0,30000.0,33000.0,25000.0,120000.0,66000.0,100000.0,40104.0,89772.0,22000.0,38004.0,30000.0,57500.0,127500.0,30000.0,150000.0,88000.0,63000.0,42000.0,34580.0,31000.0,37920.0,72000.0,65000.0,128000.0,31000.0,105000.0,54000.0,54000.0,115000.0,144500.0,74000.0,30000.0,108000.0,50000.0,48000.0,90000.0,28150.0,60000.0,50000.0,38400.0,55000.0,73000.0,70000.0,51500.0,140000.0,30000.0,73000.0,74337.0,65600.0,155000.0,75000.0,86000.0,97000.0,59000.0,54000.0,39000.0,54000.0,60000.0,79800.0,12000.0,114996.0,56100.0,36000.0,58750.0,45300.0,46585.0,50000.0,42996.0,60000.0,25200.0,50000.0,118000.0,31000.0,150000.0,85596.0,88900.0,65004.0,60000.0,22790.0,124500.0,64775.0,57692.0,99000.0,65000.0,80000.0,46000.0,44000.0,72000.0,39000.0,22100.0,75000.0,96500.0,65000.0,40000.0,110000.0,54000.0,32000.0,85000.0,56000.0,160000.0,99996.0,35004.0,60000.0,136000.0,34500.0,88000.0,90000.0,65000.0,54000.0,115000.0,31500.0,39000.0,95000.0,96339.0,51000.0,85392.0,38400.0,92000.0,76000.0,108000.0,65856.0,25000.0,36996.0,13440.0,38000.0,78000.0,75000.0,85000.0,56755.0,44000.0,48500.0,30000.0,120000.0,58000.0,62400.0,64000.0,19000.0,171996.0,44000.0,16800.0,48000.0,97000.0,33600.0,27000.0,84996.0,107800.0,85000.0,20000.0,37000.0,44000.0,110000.0,18144.0,20400.0,108000.0,21600.0,41000.0,240000.0,40000.0,82008.0,61000.0,64000.0,80000.0,4000.0,30000.0,30297.0,60000.0,55000.0,78996.0,72000.0,35000.0,54000.0,120000.0,99996.0,41303.0,94000.0,69996.0,80000.0,12000.0,34000.0,72000.0,85000.0,28000.0,30000.0,34560.0,40000.0,65000.0,29000.0,60000.0,65000.0,15996.0,21600.0,58000.0,40000.0,34000.0,32652.0,100000.0,43000.0,35000.0,175000.0,48000.0,13200.0,36000.0,35000.0,35000.0,97000.0,33600.0,71004.0,42000.0,48000.0,47581.0,48000.0,65000.0,52000.0,42000.0,53000.0,70000.0,37500.0,54996.0,24996.0,100010.0,42000.0,75000.0,66996.0,33600.0,30288.0,141000.0,61000.0,55000.0,123000.0,75000.0,50000.0,89100.0,42000.0,140000.0,36000.0,70000.0,44004.0,60000.0,19200.0,58033.0,60000.0,50400.0,65400.0,102000.0,46392.0,24000.0,60000.0,60000.0,65000.0,65000.0,33600.0,48000.0,95000.0,54000.0,39000.0,190000.0,30000.0,27200.0,60000.0,60000.0,48000.0,94527.0,21000.0,38004.0,53000.0,36000.0,24000.0,40000.0,101000.0,110000.0,65488.0,36000.0,80000.0,60000.0,120000.0,70000.0,54196.0,127000.0,45996.0,70000.0,59827.0,80000.0,147000.0,50000.0,90000.0,81300.0,88812.0,53000.0,110000.0,35000.0,32000.0,44966.0,70000.0,40000.0,230000.0,76500.0,59000.0,52000.0,48000.0,72000.0,35500.0,103200.0,65000.0,66000.0,25000.0,78000.0,64000.0,34000.0,40308.0,30000.0,72000.0,218000.0,57000.0,28000.0,19404.0,78000.0,74000.0,60000.0,60000.0,45000.0,60500.0,78000.0,45000.0,70000.0,88512.0,56253.0,140000.0,110000.0,600000.0,74000.0,51300.0,49000.0,65000.0,135000.0,45500.0,45000.0,35004.0,67000.0,41000.0,26400.0,59520.0,108000.0,52000.0,56000.0,28700.0,113000.0,40000.0,29640.0,48000.0,72000.0,66000.0,42996.0,43500.0,89004.0,75000.0,69996.0,102000.0,37000.0,60000.0,62000.0,37400.0,36000.0,130000.0,55000.0,70000.0,70000.0,116300.0,55000.0,40000.0,175000.0,34560.0,18000.0,46500.0,60000.0,44004.0,90000.0,69996.0,48000.0,54000.0,59000.0,43680.0,59366.0,62532.0,192000.0,83000.0,34000.0,80000.0,65000.0,155000.0,96000.0,58000.0,115600.0,105400.0,54400.0,43200.0,54000.0,90474.0,23000.0,90000.0,39516.0,70000.0,160000.0,117696.0,27000.0,90000.0,58800.0,52000.0,32995.0,48000.0,34000.0,70000.0,28000.0,45000.0,60000.0,37584.0,80000.0,62400.0,75000.0,24091.0,41000.0,25000.0,85000.0,55000.0,96500.0,38400.0,42000.0,49000.0,105000.0,86000.0,60000.0,62000.0,73000.0,52000.0,126000.0,41500.0,46800.0,34000.0,26400.0,44000.0,180000.0,31200.0,50000.0,38000.0,70000.0,84000.0,60000.0,45600.0,69000.0,48000.0,50000.0,19200.0,43000.0,58000.0,50000.0,53688.0,33000.0,53000.0,157000.0,52000.0,60000.0,62000.0,60000.0,101000.0,47000.0,25200.0,92500.0,120000.0,21600.0,133000.0,135000.0,36000.0,45000.0,48000.0,60000.0,60000.0,60000.0,85100.0,45000.0,60000.0,65000.0,26000.0,85000.0,30000.0,45200.0,52000.0,43000.0,43000.0,40000.0,35000.0,45000.0,104000.0,60000.0,109800.0,27040.0,14400.0,40000.0,120000.0,110000.0,90000.0,50400.0,25000.0,130000.0,56000.0,25000.0,40000.0,74000.0,77385.0,105000.0,52800.0,49800.0,18700.0,136000.0,52809.0,55000.0,95000.0,37400.0,60000.0,60000.0,82000.0,60000.0,92000.0,16800.0,60500.0,30000.0,23000.0,19200.0,52500.0,35352.0,21000.0,94140.0,28000.0,52800.0,62400.0,110000.0,135000.0,72000.0,58000.0,23000.0,36400.0,49500.0,97200.0,60000.0,105000.0,42000.0,24000.0,50400.0,69575.0,215662.0,38400.0,48000.0,36000.0,49000.0,43000.0,16500.0,97000.0,140000.0,60000.0,44004.0,72000.0,85000.0,95000.0,95950.0,86400.0,45000.0,36000.0,49000.0,49000.0,82150.0,42500.0,193000.0,36000.0,50000.0,47004.0,50000.0,69996.0,100000.0,70000.0,66000.0,40000.0,175000.0,106000.0,42000.0,75000.0,43200.0,52800.0,44000.0,88000.0,45000.0,51996.0,83500.0,49000.0,94128.0,70000.0,40000.0,115000.0,800000.0,50000.0,51600.0,90000.0,68004.0,104000.0,65000.0,32000.0,75000.0,21000.0,48000.0,50000.0,48000.0,110000.0,46000.0,84240.0,40000.0,85584.0,100000.0,70000.0,46713.0,55000.0,30500.0,60000.0,32000.0,70204.0,38556.0,80000.0,60000.0,68000.0,120000.0,103200.0,12000.0,74237.0,30500.0,29328.0,85000.0,96000.0,35000.0,45000.0,75000.0,40000.0,31000.0,48000.0,24000.0,30000.0,80000.0,28800.0,62000.0,28000.0,60000.0,57800.0,35000.0,64200.0,249999.0,39504.0,75000.0,37200.0,50000.0,46000.0,62000.0,47500.0,66300.0,18000.0,60000.0,58800.0,90000.0,66000.0,25000.0,59600.0,43000.0,51036.0,40000.0,59000.0,44000.0,88500.0,69000.0,36000.0,24000.0,44760.0,29000.0,24000.0,46000.0,60000.0,45000.0,59000.0,59800.0,215000.0,30000.0,90000.0,68000.0,60000.0,25800.0,80000.0,23000.0,133000.0,29916.0,45000.0,138000.0,25000.0,78000.0,14400.0,50000.0,35520.0,199000.0,100000.0,109000.0,86004.0,90000.0,49000.0,45727.0,75000.0,44000.0,30000.0,35100.0,80000.0,31000.0,40000.0,75000.0,61000.0,88000.0,65000.0,48000.0,51000.0,35000.0,51000.0,39500.0,51996.0,54000.0,40000.0,65000.0,90000.0,25000.0,65000.0,44000.0,58000.0,119496.0,24000.0,50004.0,88000.0,48000.0,90996.0,45000.0,95000.0,123000.0,18000.0,65000.0,85000.0,64000.0,34400.0,73000.0,68480.0,21600.0,36000.0,65000.0,51996.0,95327.0,32000.0,80000.0,41000.0,27996.0,57000.0,69000.0,33600.0,85000.0,80000.0,41000.0,91224.0,65000.0,150000.0,42996.0,65000.0,31200.0,31200.0,57006.0,98000.0,66504.0,38304.0,54000.0,25000.0,33600.0,23000.0,84456.0,30000.0,42000.0,33000.0,53808.0,9600.0,62000.0,85000.0,120000.0,78000.0,72000.0,83000.0,61000.0,42000.0,42000.0,135000.0,30000.0,170000.0,37440.0,54000.0,45760.0,24000.0,159996.0,51996.0,42996.0,40000.0,24000.0,36000.0,40000.0,80000.0,40000.0,46800.0,104000.0,121000.0,54000.0,42000.0,60000.0,102000.0,120000.0,100000.0,69930.0,85000.0,70550.0,40000.0,28000.0,49000.0,31000.0,280000.0,24396.0,67430.0,56000.0,45000.0,63500.0,55000.0,38000.0,20000.0,83000.0,44064.0,25000.0,120000.0,84000.0,18000.0,120000.0,63000.0,30000.0,62900.0,48500.0,36996.0,54000.0,69000.0,75000.0,84906.0,31200.0,39000.0,50000.0,90000.0,15204.0,21600.0,34000.0,117000.0,86000.0,77500.0,20640.0,34900.0,125000.0,105000.0,92700.0,116000.0,20000.0,60000.0,119000.0,80000.0,42100.0,28500.0,65000.0,62000.0,25000.0,52000.0,60000.0,51852.0,48000.0,40000.0,87547.0,74000.0,18300.0,26989.0,43800.0,60000.0,54000.0,105500.0,16000.0,34000.0,30000.0,91234.0,26000.0,60000.0,51320.0,55000.0,104400.0,50000.0,68004.0,30000.0,45000.0,87000.0,253000.0,45000.0,79800.0,187000.0,109000.0,50000.0,88000.0,62000.0,65000.0,58000.0,82729.0,59700.0,64000.0,44000.0,38400.0,60000.0,100000.0,41600.0,81600.0,83500.0,50000.0,22000.0,120000.0,57504.0,40000.0,50268.0,150000.0,57068.0,62000.0,84996.0,20004.0,61000.0,26900.0,39996.0,60000.0,24996.0,42000.0,36000.0,68000.0,43000.0,37200.0,79000.0,46000.0,28000.0,38000.0,189996.0,38000.0,96000.0,120000.0,25200.0,115800.0,360000.0,175500.0,63000.0,116000.0,42000.0,88000.0,40050.0,89849.0,33000.0,33000.0,150000.0,45000.0,65000.0,36000.0,48000.0,57996.0,87000.0,70000.0,46000.0,98000.0,21600.0,36500.0,40000.0,58320.0,53000.0,58239.0,45000.0,78000.0,40752.0,55000.0,63000.0,38400.0,350000.0,90000.0,25632.0,25899.0,90000.0,75000.0,233000.0,23000.0,52102.0,170000.0,40000.0,130000.0,42000.0,110000.0,59000.0,33000.0,14040.0,170000.0,45000.0,54000.0,60000.0,96500.0,119004.0,21000.0,60000.0,56000.0,30000.0,85272.0,78996.0,175000.0,35713.0,26880.0,75000.0,22944.0,40000.0,54400.0,33000.0,48000.0,36996.0,58000.0,36000.0,30000.0,31000.0,70000.0,58000.0,74520.0,9840.0,62500.0,29400.0,131000.0,52000.0,30000.0,79000.0,19200.0,48000.0,52044.0,21600.0,54000.0,12500.0,121000.0,34320.0,42000.0,125000.0,62900.0,44000.0,89004.0,16000.0,75000.0,110000.0,69000.0,45600.0,60000.0,24000.0,30500.0,66000.0,70000.0,99000.0,93500.0,19200.0,70000.0,83000.0,52000.0,21600.0,120000.0,21403.0,72000.0,50000.0,75000.0,34000.0,92111.0,185000.0,54400.0,44000.0,100000.0,96000.0,22500.0,80000.0,116000.0,34000.0,22000.0,93000.0,108803.0,100000.0,43200.0,41000.0,65000.0,66000.0,28800.0,30000.0,35665.0,45900.0,67000.0,57744.0,100000.0,235000.0,50000.0,104000.0,40000.0,57000.0,63000.0,120000.0,100000.0,43860.0,70000.0,53000.0,54000.0,66000.0,75000.0,38004.0,75000.0,50740.0,25000.0,24000.0,138000.0,21600.0,27000.0,43000.0,22800.0,45000.0,93600.0,155000.0,34800.0,84996.0,62691.0,55000.0,34980.0,86095.0,75000.0,42000.0,56928.0,135000.0,33000.0,68000.0,40000.0,77000.0,86044.0,26000.0,69000.0,33000.0,180000.0,108960.0,24000.0,90000.0,55000.0,27000.0,61000.0,60000.0,36000.0,65136.0,21000.0,34000.0,99000.0,138000.0,31000.0,13200.0,24000.0,125000.0,70000.0,49304.0,40000.0,26000.0,90000.0,84000.0,85000.0,33000.0,119000.0,60000.0,100000.0,75000.0,90000.0,79500.0,50800.0,60000.0,168000.0,29500.0,42000.0,58000.0,18000.0,200000.0,115275.0,33168.0,102500.0,31200.0,27000.0,185000.0,78000.0,30000.0,57000.0,35100.0,55000.0,75996.0,65000.0,36000.0,71000.0,38000.0,85000.0,78000.0,52200.0,82000.0,73100.0,120000.0,170000.0,39600.0,45000.0,140000.0,200000.0,44000.0,60000.0,102996.0,48442.0,80000.0,52000.0,58000.0,51000.0,100000.0,26400.0,30000.0,70004.0,130000.0,35500.0,19200.0,154000.0,140000.0,52000.0,59500.0,90000.0,49000.0,63000.0,60000.0,54900.0,48000.0,127000.0,48000.0,37308.0,32500.0,63000.0,40000.0,59000.0,25000.0,125000.0,72500.0,238000.0,400000.0,34008.0,42500.0,40000.0,50004.0,32000.0,103000.0,39000.0,48000.0,42000.0,26400.0,32004.0,170000.0,50000.0,95000.0,54316.0,14400.0,140000.0,107450.0,95004.0,72000.0,50433.0,27500.0,60000.0,60000.0,55000.0,80000.0,39000.0,53004.0,49500.0,48000.0,86000.0,52000.0,111000.0,110000.0,35000.0,48000.0,54008.0,53000.0,42504.0,63096.0,21600.0,32500.0,37000.0,33600.0,40000.0,90000.0,39000.0,30000.0,50000.0,43000.0,43000.0,78000.0,330000.0,14400.0,51996.0,90000.0,80000.0,38400.0,55000.0,58000.0,300000.0,20000.0,50000.0,50000.0,125600.0,60000.0,44960.0,25000.0,13500.0,41300.0,56400.0,50000.0,29004.0,28800.0,35000.0,65004.0,72000.0,123000.0,55000.0,95000.0,55000.0,132000.0,51000.0,62900.0,120000.0,50000.0,48000.0,13920.0,19200.0,52000.0,28000.0,78000.0,63564.0,51669.0,180000.0,40000.0,81600.0,80004.0,51000.0,63211.0,35000.0,64000.0,64800.0,66000.0,66000.0,61020.0,27000.0,50000.0,18576.0,140000.0,74000.0,50000.0,71000.0,17000.0,71000.0,19000.0,130000.0,101500.0,18204.0,42000.0,72100.0,73500.0,45996.0,78000.0,64000.0,79872.0,30000.0,58000.0,25000.0,28000.0,18720.0,80000.0,25200.0,69108.0,85000.0,31500.0,115000.0,42000.0,90000.0,192000.0,75000.0,30035.0,30000.0,104550.0,32400.0,116000.0,86000.0,219300.0,77248.0,120000.0,42000.0,186000.0,33227.0,36000.0,48000.0,180000.0,36000.0,80004.0,70000.0,80000.0,96900.0,110000.0,79900.0,21000.0,170000.0,44000.0,70000.0,76248.0,38000.0,86604.0,42000.0,100000.0,124000.0,37600.0,51000.0,35000.0,17676.0,40000.0,106369.0,52000.0,62000.0,31200.0,80000.0,48996.0,37000.0,60000.0,114000.0,85000.0,50000.0,33321.0,83000.0,36996.0,54528.0,50000.0,49200.0,50000.0,52000.0,100000.0,80004.0,113000.0,33600.0,34000.0,200000.0,130000.0,176000.0,55000.0,45000.0,60000.0,59796.0,57000.0,102000.0,33000.0,28000.0,37200.0,68000.0,60000.0,250000.0,75744.0,80000.0,60000.0,54480.0,42096.0,14000.0,48000.0,145986.0,26000.0,43000.0,45000.0,34819.0,54000.0,66300.0,50000.0,33288.0,47000.0,28800.0,92000.0,60000.0,50000.0,51000.0,46450.0,30000.0,60000.0,19250.0,140000.0,56000.0,62000.0,63000.0,157000.0,59000.0,60000.0,81000.0,50663.0,66996.0,22000.0,23396.0,38400.0,30000.0,50000.0,40000.0,18000.0,48000.0,21000.0,30000.0,70000.0,43000.0,31000.0,55000.0,62500.0,70000.0,140000.0,55000.0,29140.0,90000.0,33600.0,40000.0,72000.0,80409.0,77078.0,90000.0,40000.0,49152.0,30000.0,45000.0,56000.0,48756.0,71000.0,72500.0,49788.0,62500.0,54000.0,18000.0,70000.0,39000.0,50000.0,50004.0,36100.0,62000.0,40000.0,50000.0,83200.0,40440.0,38400.0,36000.0,54000.0,48600.0,55000.0,19200.0,64600.0,40500.0,110925.0,66000.0,60000.0,25920.0,85000.0,80000.0,31200.0,75600.0,30252.0,33000.0,72000.0,52000.0,95000.0,42000.0,36000.0,159200.0,60675.0,60000.0,35496.0,51700.0,47000.0,26400.0,57000.0,36000.0,55000.0,105201.0,86000.0,73527.0,78000.0,20000.0,32400.0,30000.0,98000.0,218000.0,54080.0,51600.0,125000.0,36000.0,34600.0,47000.0,25568.0,34500.0,90000.0,93200.0,61000.0,39000.0,76000.0,95000.0,70000.0,36000.0,67000.0,118400.0,81600.0,85000.0,79750.0,79000.0,68400.0,42000.0,65000.0,40200.0,65000.0,96000.0,145000.0,58000.0,50000.0,65000.0,83000.0,30000.0,32500.0,27048.0,46000.0,56000.0,50000.0,50100.0,135000.0,21300.0,55704.0,100000.0,100000.0,102000.0,170000.0,75000.0,93000.0,50400.0,54000.0,200000.0,23000.0,50400.0,90000.0,73200.0,128500.0,55476.0,92200.0,80000.0,25000.0,100000.0,56368.0,118000.0,77237.0,158000.0,24000.0,85000.0,60000.0,56100.0,89000.0,140000.0,75000.0,110000.0,39000.0,145000.0,43000.0,119000.0,95000.0,21600.0,47000.0,38628.0,86004.0,42500.0,34000.0,42000.0,53000.0,35500.0,51600.0,31760.0,25200.0,139380.0,32004.0,42000.0,150000.0,128000.0,55000.0,74500.0,100000.0,190000.0,46654.0,77000.0,35000.0,20000.0,44000.0,40000.0,78000.0,59000.0,54000.0,57600.0,36000.0,36000.0,45000.0,90000.0,30000.0,19000.0,66960.0,70000.0,44200.0,58000.0,96996.0,126000.0,55000.0,30000.0,30000.0,48000.0,25000.0,50000.0,22992.0,58000.0,48000.0,40000.0,30000.0,42000.0,22000.0,75000.0,8000.0,60000.0,39000.0,40000.0,30067.0,75000.0,32112.0,25000.0,84000.0,70356.0,45000.0,101000.0,38117.0,24000.0,150000.0,51400.0,48686.0,58000.0,44400.0,45000.0,60000.0,48000.0,84906.0,45000.0,48000.0,60626.0,69000.0,72900.0,200000.0,24000.0,79000.0,34000.0,110000.0,13000.0,79200.0,65000.0,32000.0,49000.0,39270.0,18000.0,100000.0,83000.0,32000.0,120000.0,46500.0,56500.0,37000.0,54000.0,54000.0,24000.0,36500.0,62352.0,24000.0,54000.0,37000.0,54000.0,130008.0,40000.0,84000.0,41000.0,36000.0,116004.0,150000.0,80070.0,70000.0,27852.0,40000.0,55812.0,120000.0,37245.0,30000.0,90000.0,36000.0,80004.0,118000.0,24000.0,65004.0,20000.0,120000.0,24000.0,60000.0,50000.0,51996.0,80000.0,101000.0,50000.0,56000.0,92004.0,90000.0,29120.0,20400.0,75000.0,115000.0,36000.0,120000.0,35000.0,42000.0,75000.0,50000.0,34000.0,36000.0,85000.0,26400.0,41004.0,53000.0,95000.0,35000.0,50000.0,83000.0,52000.0,43000.0,36000.0,54500.0,58200.0,70000.0,80000.0,27000.0,44004.0,110400.0,43000.0,26004.0,30809.0,320000.0,70000.0,169000.0,56100.0,65000.0,26880.0,32000.0,46800.0,74000.0,205000.0,30000.0,78000.0,31000.0,39996.0,57000.0,305000.0,30000.0,56000.0,60000.0,62496.0,9600.0,29856.0,138000.0,60000.0,36480.0,39000.0,24000.0,70000.0,52000.0,7904.0,92000.0,112200.0,65000.0,162000.0,75000.0,56000.0,100000.0,68000.0,55000.0,32352.0,75000.0,138000.0,72000.0,37700.0,105000.0,43000.0,84000.0,44500.0,134400.0,51500.0,107000.0,64800.0,70000.0,54380.0,232050.0,36400.0,93000.0,55000.0,50663.0,35000.0,250000.0,55000.0,88000.0,13200.0,120000.0,200000.0,64000.0,48000.0,70000.0,16500.0,480000.0,29000.0,100000.0,26000.0,45000.0,17000.0,41000.0,65000.0,48956.0,21600.0,68000.0,45000.0,92652.0,49000.0,95000.0,60000.0,49536.0,56000.0,36000.0,75000.0,48500.0,60000.0,350000.0,34000.0,75000.0,55000.0,49000.0,60000.0,54000.0,43200.0,57057.0,30000.0,125000.0,100000.0,105000.0,72072.0,65000.0,53000.0,55000.0,98000.0,29820.0,89000.0,66000.0,45000.0,70000.0,20400.0,100000.0,30000.0,50400.0,48000.0,91800.0,14400.0,24000.0,89000.0,20400.0,59000.0,60000.0,45000.0,51000.0,54000.0,45000.0,25000.0,56000.0,85000.0,78000.0,51000.0,34000.0,38340.0,38000.0,30288.0,52000.0,32200.0,30000.0,50500.0,67200.0,80000.0,62000.0,80000.0,62400.0,84191.0,50000.0,54000.0,75000.0,94050.0,39996.0,65600.0,95004.0,47004.0,69000.0,43200.0,140000.0,37000.0,44400.0,6000.0,74000.0,70000.0,34000.0,54400.0,30000.0,85992.0,34000.0,72000.0,63000.0,36000.0,38400.0,73500.0,62000.0,46000.0,75000.0,156000.0,70000.0,37000.0,110000.0,65000.0,62500.0,100000.0,91000.0,64000.0,53000.0,75000.0,188000.0,172000.0,84000.0,572400.0,42300.0,60000.0,50000.0,19200.0,120000.0,80000.0,120000.0,11029.0,82000.0,70000.0,115000.0,54000.0,28800.0,140000.0,36000.0,178364.0,40000.0,53600.0,65500.0,48000.0,46000.0,300000.0,36000.0,165000.0,43955.0,66000.0,91000.0,125000.0,64000.0,50500.0,46300.0,73000.0,48000.0,96384.0,75000.0,36432.0,185000.0,40000.0,51996.0,78600.0,90000.0,90000.0,72000.0,99996.0,45000.0,65000.0,69790.0,43000.0,75000.0,81000.0,124000.0,32000.0,37200.0,51600.0,45000.0,44004.0,60000.0,40000.0,90000.0,60785.0,38000.0,57000.0,50000.0,99500.0,110000.0,120000.0,65000.0,59619.0,25716.0,32004.0,32004.0,37200.0,42000.0,56920.0,60000.0,18456.0,30000.0,71015.0,69000.0,120000.0,34800.0,63360.0,120000.0,63000.0,68000.0,45600.0,29000.0,34000.0,45000.0,50000.0,70000.0,15000.0,99670.0,103000.0,36000.0,41664.0,65000.0,30000.0,46800.0,46028.0,65000.0,70000.0,156600.0,31500.0,37459.0,60000.0,97356.0,40000.0,75000.0,60000.0,85000.0,48000.0,125000.0,155796.0,59004.0,118000.0,71884.0,42000.0,34000.0,58000.0,70000.0,23000.0,90000.0,104800.0,75000.0,80000.0,62000.0,40800.0,42996.0,612000.0,16000.0,70000.0,190000.0,58650.0,65004.0,54996.0,30000.0,74800.0,63000.0,96000.0,54996.0,52000.0,54000.0,83000.0,68000.0,4800.0,35000.0,20000.0,76000.0,46500.0,36000.0,98000.0,45000.0,72000.0,50700.0,9600.0,200000.0,111460.0,57600.0,48000.0,27311.0,40000.0,130000.0,138000.0,78000.0,100000.0,90000.0,36000.0,40000.0,75000.0,72000.0,60000.0,55000.0,82000.0,60000.0,110000.0,16800.0,90000.0,118000.0,91000.0,30000.0,95000.0,24000.0,60000.0,74004.0,75500.0,98000.0,64000.0,37000.0,27720.0,35000.0,72000.0,40000.0,29000.0,36000.0,96060.0,23000.0,30000.0,170000.0,35000.0,27996.0,40452.0,40000.0,40000.0,53000.0,73000.0,81000.0,52000.0,35000.0,65000.0,35000.0,30000.0,11476.0,61200.0,96588.0,173000.0,72000.0,70834.0,36000.0,64500.0,72060.0,24000.0,25000.0,70000.0,30000.0,90000.0,42264.0,19200.0,26500.0,57000.0,45000.0,70000.0,65000.0,26000.0,26004.0,45000.0,89028.0,110000.0,55000.0,60000.0,99996.0,45344.0,72100.0,75000.0,25000.0,55000.0,45000.0,65000.0,98280.0,60000.0,51300.0,30000.0,140000.0,32496.0,80000.0,63000.0,72000.0,116600.0,30000.0,144000.0,42000.0,36000.0,131000.0,37000.0,38400.0,55560.0,90000.0,87000.0,30000.0,74800.0,95000.0,72204.0,35000.0,62500.0,50000.0,200000.0,29000.0,58000.0,105500.0,85248.0,52000.0,155000.0,12000.0,75000.0,60000.0,40000.0,36400.0,36000.0,52000.0,82000.0,30000.0,34800.0,25000.0,113000.0,19000.0,40000.0,54996.0,41000.0,36000.0,30000.0,22800.0,71884.0,130000.0,83500.0,83300.0,100000.0,75996.0,56160.0,97000.0,33996.0,202300.0,34000.0,62000.0,30000.0,130000.0,66000.0,51000.0,56000.0,40000.0,75000.0,115000.0,64000.0,44004.0,75000.0,34000.0,46000.0,30720.0,45000.0,96000.0,60000.0,79112.0,22000.0,40000.0,50000.0,57120.0,35292.0,92000.0,32000.0,45000.0,77040.0,68000.0,76800.0,32000.0,57006.0,108000.0,65000.0,29000.0,65000.0,48000.0,35000.0,50000.0,40000.0,110000.0,70000.0,100000.0,153000.0,44000.0,53591.0,58800.0,50000.0,36000.0,54000.0,50000.0,75000.0,42000.0,22000.0,62000.0,30576.0,30000.0,85000.0,86807.0,30000.0,52240.0,50000.0,73000.0,100000.0,114000.0,87000.0,96000.0,74000.0,87600.0,56000.0,35400.0,103241.0,100000.0,44000.0,60000.0,48400.0,63000.0,34000.0,61000.0,57500.0,135000.0,80000.0,33000.0,59500.0,68500.0,44004.0,74000.0,33000.0,104000.0,87504.0,80308.0,53088.0,45432.0,60000.0,115200.0,48000.0,87000.0,32400.0,48000.0,66000.0,48000.0,25000.0,110000.0,60000.0,105000.0,44000.0,63000.0,46800.0,60000.0,85000.0,60000.0,108000.0,60000.0,67656.0,72000.0,150000.0,57000.0,80000.0,142000.0,125000.0,22800.0,28800.0,42552.0,34500.0,135000.0,37000.0,60000.0,106000.0,41000.0,30000.0,56033.0,136000.0,78000.0,98000.0,50000.0,54000.0,96000.0,62050.0,88296.0,43000.0,48000.0,97000.0,41000.0,62000.0,48500.0,60000.0,30000.0,79600.0,131000.0,56256.0,49000.0,72000.0,65025.0,45000.0,29000.0,48000.0,65000.0,34800.0,76000.0,88000.0,44004.0,37000.0,25279.0,46800.0,24432.0,50000.0,30000.0,51000.0,55000.0,54000.0,49000.0,24996.0,85000.0,67000.0,75000.0,104000.0,34000.0,68000.0,46000.0,37500.0,42000.0,62400.0,69592.0,48902.0,60000.0,225000.0,43738.0,110000.0,130000.0,334000.0,120000.0,25000.0,110000.0,21600.0,99504.0,66384.0,40000.0,148000.0,60000.0,75000.0,45000.0,50400.0,62000.0,99700.0,67000.0,65000.0,40000.0,31200.0,114000.0,34000.0,96000.0,23004.0,47000.0,75000.0,48000.0,54996.0,118000.0,86400.0,60000.0,18000.0,42500.0,54000.0,30300.0,36000.0,68000.0,145000.0,61000.0,29000.0,84000.0,50000.0,38000.0,20000.0,80000.0,30000.0,44000.0,101000.0,63000.0,26400.0,128000.0,44196.0,52000.0,55080.0,62000.0,85000.0,85000.0,140000.0,80000.0,120000.0,87120.0,65100.0,64500.0,68255.0,30000.0,28800.0,60000.0,46000.0,130000.0,28800.0,82000.0,44000.0,48000.0,36000.0,62500.0,30000.0,25000.0,60000.0,118000.0,49000.0,55000.0,60000.0,144000.0,30000.0,50000.0,121500.0,75000.0,47000.0,44959.0,114996.0,71000.0,159996.0,44000.0,90000.0,45000.0,48996.0,80000.0,60000.0,100000.0,15500.0,50000.0,75000.0,121000.0,78000.0,51992.0,31000.0,39000.0,183700.0,58000.0,16000.0,38000.0,32004.0,72000.0,42000.0,33666.0,20000.0,55000.0,70000.0,60000.0,45000.0,39327.0,66200.0,36000.0,97781.0,102000.0,64052.0,42000.0,47484.0,116500.0,44500.0,46144.0,13000.0,43000.0,120000.0,55182.0,30000.0,90000.0,53000.0,60000.0,104371.0,25000.0,52000.0,44000.0,80000.0,93000.0,105000.0,85000.0,84000.0,205000.0,69000.0,69000.0,30784.0,32400.0,150000.0,57500.0,24840.0,100000.0,76000.0,34000.0,27600.0,69743.0,19200.0,53000.0,26400.0,98000.0,67992.0,70000.0,95000.0,55000.0,40000.0,33864.0,60000.0,105000.0,33000.0,112000.0,57886.0,44000.0,58216.0,30000.0,90000.0,33000.0,62000.0,18000.0,125000.0,32500.0,70000.0,76000.0,112123.0,55200.0,68400.0,111000.0,36000.0,72000.0,99000.0,19200.0,30000.0,72000.0,69528.0,63000.0,55000.0,44760.0,24000.0,114132.0,50004.0,50000.0,80000.0,175000.0,69000.0,110000.0,39996.0,100000.0,33996.0,75000.0,48000.0,76000.0,71000.0,225000.0,67000.0,18000.0,35000.0,82500.0,24000.0,80000.0,38000.0,63180.0,45000.0,84000.0,33000.0,35000.0,32000.0,42000.0,50000.0,66000.0,72250.0,38168.0,81000.0,132650.0,74004.0,28608.0,151000.0,33000.0,44000.0,69996.0,42000.0,50000.0,90000.0,48000.0,70000.0,189000.0,78000.0,17004.0,97000.0,56000.0,175000.0,88000.0,145000.0,78000.0,120000.0,174000.0,120000.0,135000.0,48000.0,42000.0,77200.0,42000.0,79200.0,62300.0,48000.0,50000.0,21600.0,42000.0,54000.0,52000.0,40000.0,75873.0,42000.0,70000.0,74000.0,47000.0,26000.0,80000.0,56000.0,35500.0,46000.0,55000.0,41000.0,80000.0,31000.0,86000.0,50000.0,80000.0,44412.0,58000.0,56500.0,100000.0,36000.0,80000.0,40000.0,24000.0,24000.0,76800.0,10800.0,61995.0,76000.0,51000.0,88000.0,61000.0,33321.0,30000.0,16020.0,22000.0,60000.0,55000.0,59813.0,37460.0,73000.0,84000.0,75000.0,75000.0,74000.0,48000.0,80000.0,79000.0,45756.0,40000.0,90000.0,28596.0,34000.0,45000.0,73580.0,69000.0,47000.0,26880.0,113000.0,78000.0,24996.0,115000.0,60000.0,99000.0,48500.0,62000.0,36000.0,90000.0,28000.0,21000.0,52800.0,55000.0,109200.0,150000.0,70000.0,92000.0,95000.0,20000.0,60000.0,54996.0,118374.0,42000.0,85000.0,54000.0,120000.0,75000.0,25200.0,65004.0,270000.0,74778.0,102000.0,56000.0,86000.0,87000.0,47500.0,50000.0,51000.0,42000.0,120000.0,47800.0,26400.0,75000.0,25000.0,41004.0,37500.0,31000.0,63000.0,70000.0,294000.0,50000.0,24600.0,77000.0,83004.0,45000.0,30000.0,70550.0,59004.0,34000.0,97000.0,110000.0,21000.0,62000.0,29766.0,78000.0,80004.0,75000.0,77250.0,54924.0,48000.0,180000.0,29000.0,30000.0,36000.0,48200.0,55000.0,33000.0,38272.0,30000.0,56000.0,33000.0,30000.0,14000.0,41718.0,53000.0,42000.0,58575.0,18000.0,30000.0,40500.0,125000.0,43000.0,74000.0,38000.0,30000.0,52000.0,30000.0,12360.0,30000.0,70000.0,52704.0,32000.0,54000.0,72000.0,95000.0,75000.0,72000.0,62000.0,58000.0,115000.0,95000.0,64900.0,40000.0,24000.0,31944.0,37500.0,55000.0,50750.0,59000.0,105000.0,54000.0,52000.0,93000.0,50000.0,38000.0,68000.0,31000.0,48000.0,60000.0,75000.0,54000.0,35000.0,100000.0,50000.0,42000.0,85000.0,30000.0,30000.0,42000.0,60000.0,91384.0,50000.0,77976.0,20000.0,95000.0,30000.0,53250.0,54000.0,138000.0,42200.0,58000.0,54996.0,66000.0,31200.0,41600.0,36000.0,60000.0,36000.0,45000.0,40000.0,168000.0,58020.0,41000.0,110000.0,46000.0,50000.0,140000.0,70550.0,43000.0,36000.0,154000.0,52000.0,130000.0,84000.0,48000.0,35000.0,65000.0,29000.0,55000.0,24000.0,98000.0,65000.0,13200.0,102000.0,28800.0,116000.0,100000.0,91560.0,100000.0,47900.0,112000.0,35000.0,40000.0,44000.0,98132.0,124000.0,95004.0,99996.0,78000.0,80000.0,50000.0,45000.0,45000.0,26400.0,50000.0,39000.0,33000.0,36100.0,40000.0,32000.0,75000.0,40000.0,61250.0,65000.0,95000.0,60000.0,38000.0,24000.0,64000.0,78000.0,54000.0,158000.0,40000.0,60000.0,140000.0,14400.0,155004.0,96000.0,50000.0,36000.0,32000.0,58788.0,32304.0,60000.0,24960.0,96000.0,23000.0,131004.0,34255.0,40000.0,76000.0,54225.0,60000.0,43200.0,105000.0,48000.0,66560.0,71000.0,60000.0,32400.0,35000.0,57000.0,101138.0,60000.0,17688.0,198171.0,24000.0,51000.0,31680.0,52000.0,140000.0,40056.0,120000.0,168000.0,48000.0,93492.0,150000.0,41000.0,100000.0,16800.0,98300.0,98000.0,23000.0,79000.0,84000.0,55000.0,67386.0,79820.0,135000.0,25062.0,60000.0,29280.0,50000.0,85000.0,60000.0,33000.0,100000.0,39000.0,109000.0,82000.0,54000.0,58752.0,21120.0,76000.0,82000.0,63900.0,73000.0,130000.0,13500.0,62364.0,41500.0,38400.0,59400.0,40000.0,33500.0,78000.0,42000.0,74000.0,61200.0,19200.0,100000.0,38400.0,72250.0,160000.0,90000.0,39500.0,21600.0,49000.0,122000.0,55243.0,69077.0,85000.0,42000.0,27500.0,44004.0,49200.0,40000.0,31000.0,80000.0,54000.0,30576.0,150000.0,85000.0,38400.0,21600.0,190000.0,75000.0,75000.0,100280.0,57600.0,60000.0,14400.0,44004.0,106000.0,46800.0,34000.0,21600.0,45000.0,88000.0,105000.0,61000.0,136000.0,89523.0,24000.0,106000.0,32000.0,36928.0,39000.0,50000.0,116004.0,37800.0,74000.0,80400.0,57000.0,24148.0,74263.0,70000.0,48000.0,20004.0,90636.0,62000.0,35004.0,50426.0,23700.0,48000.0,99600.0,100000.0,47133.0,36000.0,75000.0,42900.0,56000.0,60000.0,60000.0,70000.0,141600.0,52000.0,186063.0,72000.0,92004.0,60000.0,48000.0,24900.0,78600.0,69000.0,79200.0,48000.0,98000.0,30996.0,24000.0,98004.0,45000.0,123996.0,45500.0,50000.0,60000.0,44000.0,50000.0,125000.0,75000.0,90722.0,23000.0,45000.0,75000.0,89796.0,82100.0,131040.0,50724.0,325000.0,33000.0,70000.0,50000.0,24000.0,38880.0,50000.0,111000.0,99518.0,53000.0,70197.0,95000.0,112000.0,170004.0,27000.0,70000.0,30000.0,78456.0,42000.0,72000.0,53000.0,55000.0,48996.0,135000.0,46500.0,49000.0,50000.0,86000.0,44000.0,42886.0,55000.0,36000.0,36000.0,35300.0,75000.0,96000.0,37000.0,100000.0,30000.0,85000.0,65000.0,95000.0,50000.0,90000.0,72000.0,73000.0,81000.0,90080.0,36000.0,55000.0,28000.0,82800.0,136000.0,69996.0,48701.0,120000.0,50000.0,89000.0,72061.0,80000.0,72252.0,31200.0,61000.0,54000.0,57600.0,21600.0,42000.0,90000.0,41000.0,112140.0,52800.0,32000.0,54996.0,47580.0,90000.0,61000.0,52106.0,90000.0,39996.0,72000.0,32000.0,43000.0,56000.0,82000.0,57996.0,101000.0,43600.0,47000.0,87000.0,47000.0,44724.0,45000.0,126251.0,201000.0,72000.0,100000.0,20000.0,76500.0,83004.0,69600.0,46000.0,24000.0,168000.0,70000.0,40000.0,26237.0,75000.0,32796.0,149385.0,69000.0,35000.0,62000.0,96000.0,60000.0,85000.0,150000.0,36000.0,33000.0,56004.0,50400.0,357000.0,51000.0,50000.0,100000.0,27600.0,39000.0,90000.0,41000.0,34400.0,38000.0,62000.0,98000.0,112000.0,92700.0,50000.0,48000.0,50000.0,110000.0,46000.0,65000.0,43000.0,45000.0,89250.0,66000.0,109000.0,30000.0,54996.0,52700.0,175000.0,49000.0,14400.0,57000.0,29500.0,27000.0,117000.0,60000.0,48000.0,24000.0,38000.0,78000.0,150000.0,80000.0,10000.0,80000.0,23000.0,40000.0,120000.0,67000.0,10000.0,75000.0,37500.0,60000.0,42000.0,43000.0,78305.0,41000.0,43000.0,70000.0,170000.0,32000.0,34000.0,30000.0,32000.0,29000.0,113400.0,28080.0,28800.0,40000.0,34000.0,32000.0,100000.0,21996.0,138000.0,50000.0,40992.0,30000.0,130000.0,40000.0,35000.0,32400.0,80000.0,122000.0,47000.0,33996.0,36000.0,32000.0,50000.0,55000.0,82000.0,39000.0,105000.0,70000.0,30000.0,117000.0,55400.0,54000.0,69000.0,65000.0,78996.0,99600.0,72396.0,60000.0,40000.0,50004.0,45000.0,25000.0,140004.0,49200.0,61000.0,110000.0,32000.0,92508.0,125000.0,49000.0,48000.0,42910.0,42000.0,60000.0,65000.0,42000.0,53922.0,170000.0,35000.0,39000.0,34000.0,54000.0,42500.0,38004.0,61500.0,75000.0,120000.0,107000.0,67000.0,44000.0,57000.0,111000.0,51600.0,93132.0,48996.0,45000.0,49176.0,75000.0,25000.0,64000.0,77000.0,60900.0,32000.0,62500.0,90000.0,36000.0,46000.0,39000.0,48609.0,65000.0,76800.0,300000.0,80000.0,15600.0,14400.0,135000.0,31000.0,72000.0,54000.0,119500.0,120000.0,50650.0,53000.0,20000.0,45000.0,70000.0,50000.0,64999.0,400000.0,62050.0,70000.0,60000.0,85000.0,83000.0,66000.0,124000.0,47000.0,40224.0,48000.0,56000.0,35000.0,78000.0,45000.0,70000.0,85500.0,68000.0,150000.0,65000.0,55000.0,23000.0,113000.0,62400.0,30000.0,132652.0,30000.0,42000.0,69000.0,59000.0,49000.0,75000.0,54000.0,38000.0,30000.0,55000.0,81000.0,30000.0,75000.0,60000.0,24000.0,73992.0,25800.0,56208.0,37000.0,28800.0,80000.0,44004.0,45000.0,42000.0,70000.0,105508.0,45000.0,32000.0,46000.0,18200.0,172000.0,57000.0,47000.0,42996.0,20400.0,51319.0,102000.0,37440.0,36000.0,24996.0,40000.0,12000.0,70000.0,28038.0,34000.0,72000.0,72000.0,78500.0,33000.0,145000.0,80000.0,32000.0,48000.0,83000.0,104000.0,50000.0,70000.0,24600.0,95000.0,125000.0,30000.0,90996.0,78000.0,23000.0,140000.0,36000.0,44004.0,36000.0,32000.0,16800.0,28800.0,95000.0,55000.0,50000.0,110000.0,46744.0,130000.0,46000.0,42000.0,57000.0,35000.0,59700.0,84000.0,61500.0,27000.0,62000.0,72000.0,31609.0,61400.0,56000.0,180000.0,52000.0,70000.0,59000.0,59497.0,53808.0,95000.0,80600.0,44000.0,39300.0,61615.0,86000.0,50000.0,83000.0,115000.0,19200.0,26400.0,28584.0,79200.0,33000.0,120000.0,40000.0,103000.0,60000.0,60400.0,49000.0,42000.0,9000.0,60000.0,33000.0,120000.0,38400.0,40320.0,31577.0,80000.0,39312.0,49362.0,65000.0,117000.0,125000.0,160000.0,125000.0,53184.0,69996.0,70000.0,130000.0,17000.0,32004.0,32000.0,68000.0,24960.0,60000.0,79000.0,37000.0,90000.0,59000.0,234000.0,71000.0,42000.0,54263.0,40000.0,51000.0,60000.0,35000.0,80000.0,57000.0,70000.0,45000.0,29000.0,37300.0,65000.0,45000.0,31000.0,30000.0,200000.0,50000.0,78000.0,55000.0,60000.0,30000.0,65000.0,73000.0,28704.0,75000.0,72800.0,87000.0,33000.0,7200.0,28590.0,65000.0,32004.0,92000.0,66500.0,80000.0,51500.0,86400.0,98000.0,70000.0,102000.0,21600.0,223000.0,80000.0,100000.0,107364.0,39000.0,59004.0,150000.0,94500.0,77800.0,40800.0,96000.0,40000.0,25000.0,28560.0,16800.0,68000.0,45630.0,37000.0,25400.0,26000.0,124000.0,61000.0,75600.0,40000.0,58570.0,52000.0,112000.0,57996.0,85000.0,81000.0,110000.0,60000.0,120000.0,50000.0,24744.0,48000.0,132000.0,36000.0,77000.0,260000.0,35496.0,45000.0,36000.0,49400.0,77500.0,40000.0,48000.0,62900.0,38000.0,45888.0,103000.0,29000.0,72000.0,216000.0,84000.0,55000.0,40000.0,22718.0,94000.0,33600.0,72000.0,50000.0,82000.0,58650.0,67600.0,83300.0,381450.0,80004.0,35000.0,44400.0,113300.0,106000.0,100000.0,35427.0,53000.0,68000.0,50400.0,35000.0,275000.0,89904.0,36000.0,30000.0,27000.0,75000.0,24000.0,75000.0,32000.0,38000.0,65000.0,188000.0,39996.0,75000.0,55900.0,75000.0,25000.0,75600.0,35000.0,37000.0,46000.0,140000.0,17352.0,75000.0,80000.0,59000.0,90000.0,73000.0,54000.0,50000.0,100000.0,53000.0,39000.0,24000.0,28000.0,51000.0,53000.0,60000.0,48000.0,51541.0,35000.0,48000.0,36000.0,125000.0,265000.0,52800.0,120000.0,55000.0,141000.0,33500.0,65000.0,13200.0,106000.0,93492.0,48000.0,37148.0,79864.0,95000.0,15500.0,72000.0,45000.0,24000.0,224000.0,37500.0,40000.0,48000.0,33600.0,16200.0,88000.0,84000.0,25000.0,67000.0,45000.0,45000.0,54000.0,32500.0,64700.0,40000.0,55000.0,57460.0,70000.0,90000.0,50000.0,60000.0,120000.0,40000.0,30000.0,21600.0,37000.0,42000.0,40000.0,70000.0,24000.0,62000.0,50000.0,25000.0,95004.0,125000.0,90444.0,92004.0,47840.0,125800.0,50000.0,66000.0,60000.0,56000.0,40000.0,20000.0,150000.0,33000.0,36000.0,117696.0,19200.0,34000.0,96000.0,120000.0,60000.0,60000.0,134000.0,117000.0,53000.0,60096.0,85000.0,90000.0,215662.0,100000.0,29000.0,45000.0,27600.0,15600.0,45000.0,66560.0,57600.0,80000.0,115000.0,67644.0,55392.0,36500.0,48996.0,33000.0,52000.0,33600.0,50000.0,45000.0,44000.0,26940.0,84500.0,42000.0,50000.0,140000.0,40499.0,100000.0,65000.0,50000.0,64000.0,33000.0,136000.0,43200.0,71500.0,40800.0,30000.0,130000.0,71000.0,67400.0,200000.0,59004.0,35000.0,80000.0,52000.0,24000.0,29520.0,30000.0,32004.0,17280.0,36000.0,20800.0,12000.0,60000.0,83004.0,43200.0,87000.0,48000.0,45300.0,25000.0,155004.0,44000.0,68000.0,90996.0,42000.0,85000.0,74476.0,54731.0,72000.0,165000.0,50000.0,88000.0,49510.0,34000.0,25200.0,55000.0,75000.0,100896.0,70000.0,42000.0,45000.0,34000.0,61000.0,42000.0,75000.0,115000.0,42000.0,160000.0,68399.0,83000.0,57000.0,26568.0,120000.0,64000.0,45000.0,105600.0,110000.0,31416.0,80000.0,113000.0,64500.0,35000.0,42000.0,63600.0,47000.0,45000.0,64000.0,44894.0,48000.0,138000.0,39000.0,75000.0,52000.0,15915.0,35000.0,75996.0,71004.0,63000.0,14400.0,60000.0,54000.0,58000.0,64000.0,47748.0,69600.0,14400.0,69000.0,80000.0,235000.0,23000.0,30000.0,40000.0,72000.0,35064.0,185000.0,70000.0,23000.0,100000.0,60500.0,55200.0,60000.0,57840.0,38000.0,57000.0,37600.0,70000.0,18864.0,200000.0,54000.0,23000.0,125000.0,46000.0,32000.0,130000.0,72000.0,150000.0,61000.0,24000.0,110000.0,13200.0,40000.0,30000.0,21360.0,51500.0,132000.0,38000.0,48000.0,96000.0,82000.0,82000.0,76254.0,48000.0,60000.0,26000.0,38400.0,54000.0,48000.0,60000.0,19200.0,25000.0,120000.0,96000.0,54000.0,15600.0,35000.0,125000.0,30000.0,60000.0,116000.0,160000.0,30000.0,34000.0,40000.0,39996.0,74000.0,54000.0,77000.0,41000.0,70000.0,27852.0,53000.0,68000.0,101500.0,54996.0,50000.0,21600.0,108000.0,39996.0,90000.0,62050.0,72400.0,60000.0,72000.0,50000.0,60000.0,64500.0,62352.0,36000.0,100000.0,150000.0,144000.0,20640.0,20000.0,58000.0,47200.0,47000.0,135000.0,72800.0,50000.0,24000.0,51000.0,37500.0,36000.0,97700.0,480000.0,70000.0,59393.0,140000.0,55000.0,72000.0,125000.0,68000.0,42000.0,50700.0,59000.0,70000.0,95000.0,72000.0,38400.0,70000.0,120000.0,91000.0,14400.0,72000.0,60000.0,280000.0,159000.0,54000.0,80000.0,55000.0,32000.0,30000.0,63844.0,27340.0,53000.0,70000.0,40000.0,85000.0,40000.0,130000.0,100000.0,65000.0,75000.0,74004.0,100000.0,48000.0,33600.0,27040.0,25000.0,97440.0,78000.0,36000.0,45000.0,20000.0,66000.0,72000.0,100000.0,125000.0,25000.0,60000.0,85000.0,28000.0,202000.0,74000.0,78000.0,39000.0,77533.0,55000.0,31200.0,136000.0,46150.0,31776.0,36000.0,85000.0,34800.0,70000.0,30900.0,69996.0,70000.0,33800.0,60000.0,108000.0,35000.0,30000.0,70000.0,24000.0,108000.0,55344.0,55000.0,130000.0,42769.0,44500.0,50000.0,52000.0,54000.0,37000.0,52000.0,50000.0,51000.0,45600.0,53595.0,75000.0,100000.0,33000.0,84996.0,73000.0,126000.0,28800.0,72000.0,54000.0,29000.0,66560.0,130000.0,44000.0,36000.0,46000.0,42000.0,95000.0,30000.0,10560.0,54000.0,38200.0,69700.0,100000.0,36000.0,28800.0,50000.0,71000.0,100000.0,29000.0,70000.0,50000.0,23000.0,34000.0,57000.0,20400.0,195000.0,89000.0,75000.0,68000.0,120000.0,47500.0,51000.0,33600.0,40000.0,53832.0,36000.0,75000.0,40000.0,124000.0,61000.0,92500.0,53004.0,30000.0,75000.0,32000.0,42000.0,34000.0,39996.0,20000.0,46000.0,39996.0,92000.0,130000.0,57700.0,120000.0,170000.0,68000.0,110000.0,52000.0,150000.0,105000.0,82116.0,62500.0,81996.0,201000.0,41725.0,42000.0,47000.0,25200.0,275000.0,43200.0,40000.0,63000.0,65000.0,38004.0,36500.0,125000.0,50400.0,45000.0,45000.0,48000.0,38000.0,71000.0,51000.0,35000.0,60000.0,90000.0,93000.0,25200.0,60000.0,54000.0,140000.0,26000.0,61200.0,42000.0,58000.0,86000.0,58000.0,72000.0,90000.0,46500.0,48000.0,52800.0,65000.0,52000.0,24449.0,27600.0,17000.0,30000.0,130000.0,80000.0,26004.0,90000.0,140000.0,17916.0,54000.0,30000.0,105000.0,120000.0,62004.0,45000.0,21000.0,100000.0,75000.0,56628.0,45600.0,60000.0,75000.0,18000.0,48000.0,70000.0,92000.0,238000.0,37000.0,89204.0,30000.0,46325.0,74758.0,29000.0,97000.0,138000.0,120390.0,42000.0,65000.0,29120.0,54000.0,48000.0,55000.0,75000.0,72000.0,18720.0,48000.0,50000.0,50123.0,75000.0,79200.0,85000.0,60000.0,74000.0,34359.0,138000.0,42000.0,50400.0,24000.0,102000.0,55000.0,45000.0,35000.0,71040.0,48000.0,69936.0,22000.0,99000.0,54000.0,44000.0,48000.0,50000.0,50000.0,110000.0,44196.0,35000.0,30000.0,153000.0,60000.0,44000.0,12000.0,70000.0,200000.0,38400.0,10800.0,43580.0,91800.0,77200.0,33000.0,50176.0,100000.0,18996.0,23198.0,89602.0,40000.0,59004.0,40000.0,150000.0,72000.0,120000.0,65000.0,120000.0,36996.0,30000.0,42765.0,168000.0,42000.0,100000.0,44000.0,24000.0,49000.0,44000.0,46000.0,45996.0,49641.0,83000.0,38000.0,48000.0,39000.0,105000.0,34000.0,60000.0,107004.0,85000.0,36000.0,52000.0,90000.0,30000.0,58327.0,44000.0,72000.0,50004.0,68004.0,150000.0,45000.0,45600.0,96000.0,120000.0,24720.0,28000.0,27000.0,108041.0,54000.0,88000.0,50880.0,83000.0,50402.0,25000.0,24000.0,14400.0,28000.0,96000.0,14400.0,60000.0,44400.0,44000.0,25000.0,87700.0,73000.0,110000.0,77100.0,29000.0,75000.0,60000.0,44000.0,112224.0,70920.0,112000.0,35000.0,55000.0,37876.0,188000.0,26004.0,112000.0,47000.0,50000.0,27000.0,28000.0,29232.0,35000.0,65000.0,50000.0,55000.0,65004.0,80004.0,741600.0,132000.0,130000.0,30000.0,75000.0,225000.0,17676.0,39000.0,36000.0,65000.0,59534.0,54000.0,24000.0,128000.0,135000.0,28000.0,43200.0,63235.0,28128.0,126000.0,33000.0,108000.0,75000.0,140000.0,50508.0,39000.0,65000.0,56950.0,75000.0,50000.0,43344.0,80004.0,35500.0,100000.0,42000.0,60000.0,40000.0,30000.0,106000.0,72000.0,65000.0,74004.0,96000.0,24168.0,32500.0,46000.0,38000.0,24449.0,38000.0,79200.0,243600.0,87600.0,98000.0,47818.0,55000.0,55000.0,83000.0,24000.0,55000.0,27996.0,19200.0,47700.0,22480.0,100450.0,39000.0,37000.0,47000.0,40000.0,58000.0,39500.0,110000.0,67392.0,120000.0,62000.0,235000.0,9600.0,72858.0,71000.0,45000.0,80500.0,84000.0,50000.0,30000.0,53004.0,100300.0,42504.0,55000.0,45000.0,23350.0,9600.0,35000.0,41000.0,40000.0,82000.0,75000.0,90000.0,44000.0,40000.0,47000.0,42000.0,75000.0,69996.0,65000.0,130000.0,48000.0,36000.0,31200.0,108000.0,38000.0,100000.0,88000.0,58000.0,117000.0,41000.0,48000.0,81000.0,35000.0,100000.0,94000.0,80000.0,160000.0,128000.0,26500.0,46000.0,38500.0,78000.0,108000.0,41004.0,60100.0,29496.0,80000.0,65500.0,26400.0,64125.0,35000.0,100000.0,76080.0,114996.0,24500.0,91000.0,85000.0,14400.0,65000.0,181408.0,101000.0,69000.0,48000.0,65000.0,37620.0,29000.0,32000.0,108000.0,75000.0,100000.0,263004.0,61000.0,66000.0,118000.0,24000.0,47000.0,86500.0,40000.0,44000.0,48000.0,60000.0,110004.0,45000.0,18000.0,122000.0,156000.0,115000.0,14400.0,97500.0,59000.0,27120.0,67000.0,86000.0,66000.0,83200.0,115000.0,45000.0,34404.0,54000.0,253000.0,48000.0,108000.0,67147.0,60000.0,71500.0,120000.0,45204.0,48000.0,58800.0,50000.0,88400.0,120000.0,81996.0,135000.0,21000.0,34000.0,33640.0,55000.0,40000.0,25000.0,84000.0,40000.0,277104.0,115200.0,70000.0,55250.0,45000.0,40000.0,30000.0,900000.0,33000.0,85000.0,50000.0,425000.0,60000.0,87600.0,44000.0,130000.0,72000.0,52692.0,72000.0,30000.0,91000.0,53500.0,65450.0,28000.0,24000.0,36000.0,37000.0,44000.0,25700.0,69830.0,53500.0,34000.0,119500.0,45136.0,118000.0,108000.0,75000.0,33600.0,56400.0,55000.0,54000.0,135660.0,55000.0,60000.0,96000.0,84996.0,38000.0,36225.0,73440.0,60000.0,144000.0,48000.0,89000.0,50000.0,30548.0,100000.0,60000.0,30000.0,45000.0,36000.0,50000.0,80000.0,77650.0,90000.0,55560.0,58000.0,80000.0,60000.0,126000.0,52000.0,85000.0,102058.0,88128.0,96000.0,38400.0,27000.0,30000.0,34000.0,86500.0,65004.0,80004.0,35000.0,74000.0,275000.0,98056.0,39000.0,35004.0,21840.0,62000.0,35360.0,61200.0,35000.0,43000.0,64000.0,32000.0,40000.0,67807.0,45000.0,43800.0,35820.0,41600.0,47000.0,65004.0,48000.0,61000.0,31200.0,762000.0,34942.0,30555.0,30000.0,38016.0,67800.0,36100.0,80004.0,70000.0,92500.0,65000.0,35600.0,40000.0,35000.0,42996.0,60000.0,60000.0,60000.0,60380.0,31000.0,119000.0,32000.0,130000.0,35200.0,46000.0,50000.0,43900.0,69000.0,34000.0,75800.0,17600.0,42500.0,48000.0,115000.0,120000.0,43000.0,120000.0,79050.0,40000.0,30809.0,53000.0,200000.0,94128.0,63000.0,45000.0,74100.0,83000.0,83234.0,120640.0,135000.0,30000.0,60000.0,30000.0,58650.0,46800.0,40000.0,62393.0,45000.0,60000.0,41779.0,99800.0,43200.0,60000.0,287000.0,74500.0,30000.0,64000.0,40008.0,43200.0,44000.0,54000.0,36000.0,46000.0,66000.0,52526.0,40000.0,100000.0,58000.0,35364.0,58000.0,73000.0,78000.0,49900.0,57500.0,37000.0,80004.0,47000.0,22500.0,30000.0,49000.0,180000.0,70000.0,105000.0,75000.0,62000.0,65000.0,30000.0,60000.0,49500.0,53000.0,55000.0,115000.0,50000.0,50400.0,61400.0,51000.0,42996.0,28000.0,32000.0,27264.0,45000.0,66000.0,57000.0,38400.0,46000.0,70092.0,62000.0,45600.0,62000.0,110000.0,60000.0,43200.0,45600.0,64000.0,60000.0,85000.0,58650.0,90000.0,22968.0,68000.0,44544.0,21600.0,35280.0,81360.0,31200.0,52000.0,120000.0,30000.0,49000.0,109000.0,25200.0,34000.0,72000.0,95000.0,63996.0,45000.0,48000.0,48000.0,75000.0,31100.0,45000.0,44640.0,36000.0,55000.0,81996.0,90000.0,20000.0,54000.0,60000.0,38000.0,65000.0,42000.0,42000.0,148350.0,78000.0,43000.0,111996.0,140787.0,106226.0,47004.0,25000.0,51000.0,22608.0,66000.0,49530.0,47480.0,75000.0,50000.0,59000.0,37500.0,85000.0,54000.0,47000.0,85000.0,78300.0,48996.0,59000.0,50000.0,35000.0,84500.0,45000.0,46000.0,78000.0,30000.0,105000.0,75000.0,100000.0,108639.0,66120.0,103000.0,100000.0,36000.0,49441.0,34000.0,72000.0,68000.0,72000.0,55000.0,69996.0,21600.0,57240.0,77000.0,95000.0,25000.0,55000.0,60000.0,201000.0,93000.0,28000.0,55000.0,36000.0,43680.0,115000.0,40100.0,120000.0,59004.0,20640.0,72000.0,15996.0,180000.0,600000.0,57000.0,24000.0,77544.0,79000.0,24500.0,92000.0,70000.0,38400.0,28800.0,29000.0,50000.0,12000.0,100000.0,75000.0,38400.0,45000.0,32000.0,51000.0,40000.0,98000.0,37000.0,79000.0,93000.0,65000.0,33996.0,120000.0,40000.0,24000.0,48000.0,165000.0,65000.0,37000.0,44000.0,34988.0,100000.0,43000.0,70000.0,39996.0,78200.0,72000.0,45000.0,63000.0,42564.0,36700.0,62000.0,70000.0,33000.0,100000.0,83000.0,27600.0,97600.0,34000.0,70000.0,50000.0,74000.0,90000.0,107000.0,99996.0,80000.0,92085.0,39996.0,24000.0,160000.0,40000.0,70000.0,60000.0,160000.0,62000.0,70000.0,61000.0,37500.0,130000.0,22800.0,175000.0,32500.0,97000.0,30000.0,55000.0,114000.0,60000.0,50000.0,75000.0,15000.0,56000.0,45600.0,40000.0,60000.0,89250.0,52500.0,36000.0,70000.0,40000.0,39600.0,24996.0,55000.0,29000.0,31000.0,42000.0,54000.0,38667.0,75000.0,54000.0,108928.0,69000.0,31704.0,91500.0,57492.0,41000.0,65450.0,110000.0,46000.0,71000.0,45243.0,35000.0,90000.0,30000.0,70000.0,19000.0,48879.0,77000.0,60000.0,59000.0,71400.0,30000.0,39996.0,42000.0,60000.0,48000.0,36000.0,79636.0,39000.0,30000.0,16800.0,62050.0,120000.0,45000.0,28550.0,18000.0,66000.0,28800.0,80000.0,98000.0,54996.0,42000.0,82308.0,49536.0,74000.0,124726.0,54586.0,77000.0,21500.0,80000.0,70000.0,30000.0,667680.0,91000.0,60000.0,444000.0,40000.0,42000.0,53000.0,72000.0,103000.0,80000.0,75000.0,61000.0,130000.0,108000.0,63189.0,44000.0,27000.0,69000.0,47000.0,18996.0,80000.0,27300.0,90000.0,124800.0,104740.0,34500.0,54548.0,45630.0,60000.0,45288.0,53000.0,90000.0,107004.0,153000.0,65000.0,51600.0,53307.0,84996.0,70000.0,125000.0,85000.0,62500.0,38400.0,120000.0,90000.0,152004.0,33000.0,32000.0,18000.0,95000.0,69000.0,61000.0,25000.0,97000.0,15600.0,60000.0,39996.0,83000.0,54400.0,348000.0,64000.0,60000.0,7800.0,50004.0,50000.0,68000.0,52500.0,68400.0,60000.0,33000.0,70000.0,55000.0,18996.0,31000.0,70000.0,69000.0,30000.0,30852.0,108000.0,88000.0,75000.0,30000.0,114000.0,85000.0,63720.0,51200.0,50508.0,78000.0,50000.0,32400.0,63000.0,47500.0,150000.0,150000.0,48000.0,92000.0,45600.0,56000.0,55000.0,150000.0,77000.0,86500.0,108000.0,22000.0,408000.0,75000.0,22596.0,28800.0,100000.0,80000.0,62000.0,45000.0,50000.0,52800.0,49000.0,65004.0,15000.0,43500.0,38500.0,42000.0,70000.0,32968.0,59500.0,57600.0,54000.0,91000.0,50000.0,62000.0,65500.0,140000.0,73000.0,80000.0,27000.0,50250.0,50004.0,28800.0,54000.0,55000.0,74250.0,64999.0,30000.0,120000.0,73000.0,48000.0,42000.0,138000.0,51000.0,48000.0,72000.0,80000.0,48000.0,66000.0,35000.0,94976.0,48000.0,95000.0,185000.0,60000.0,56056.0,29000.0,39580.0,32000.0,62000.0,52800.0,23916.0,70000.0,62000.0,80000.0,73000.0,63000.0,42000.0,31200.0,70446.0,62000.0,71400.0,32240.0,78000.0,48000.0,175000.0,63000.0,145000.0,65000.0,30000.0,95000.0,66000.0,28800.0,48000.0,59000.0,50252.0,55000.0,59000.0,74400.0,61289.0,72500.0,21996.0,53000.0,67000.0,110000.0,38000.0,75000.0,130000.0,108000.0,45000.0,82000.0,200000.0,40000.0,52000.0,50000.0,105000.0,50000.0,41000.0,49000.0,104606.0,34000.0,30000.0,42000.0,42000.0,29730.0,37000.0,53000.0,35000.0,52769.0,34500.0,40000.0,27600.0,82359.0,95000.0,37000.0,30000.0,24000.0,74700.0,65993.0,35000.0,95000.0,36000.0,34000.0,60000.0,29000.0,110000.0,75000.0,94000.0,33000.0,55000.0,56000.0,68231.0,101000.0,32000.0,110000.0,40000.0,62467.0,45000.0,30000.0,61959.0,75000.0,55000.0,37000.0,190000.0,49000.0,109000.0,41838.0,85000.0,175000.0,51000.0,50000.0,42000.0,85000.0,33600.0,41600.0,51000.0,35000.0,66000.0,52800.0,244000.0,68640.0,39600.0,40000.0,90000.0,33456.0,70000.0,100000.0,69900.0,165500.0,33400.0,98000.0,104736.0,40800.0,69805.0,33772.0,32000.0,57000.0,70553.0,72000.0,82000.0,40000.0,38000.0,32213.0,28000.0,14400.0,340000.0,150000.0,54000.0,25000.0,170000.0,31000.0,93600.0,20000.0,78000.0,76000.0,30000.0,36000.0,78000.0,34900.0,54600.0,40000.0,60000.0,77004.0,140000.0,78000.0,30000.0,143123.0,105897.0,58800.0,150000.0,47000.0,40000.0,75000.0,18000.0,50000.0,77368.0,24000.0,38400.0,124596.0,86376.0,70254.0,33996.0,82500.0,156000.0,56952.0,26496.0,30000.0,90050.0,38004.0,25040.0,132000.0,23400.0,72250.0,120000.0,47000.0,40000.0,101000.0,45000.0,54000.0,101877.0,40000.0,71000.0,85000.0,480000.0,65000.0,30000.0,160000.0,138000.0,40000.0,14400.0,144000.0,85000.0,39996.0,36000.0,56000.0,54000.0,45000.0,150000.0,32000.0,50000.0,91000.0,120000.0,50000.0,33000.0,57996.0,100000.0,29000.0,70800.0,93000.0,60000.0,80000.0,79000.0,37000.0,130000.0,40000.0,80000.0,180000.0,68000.0,75000.0,195000.0,110000.0,48000.0,90000.0,72000.0,78000.0,80400.0,88000.0,117000.0,27560.0,76000.0,31897.0,24000.0,102000.0,96000.0,16428.0,163232.0,20400.0,68004.0,90000.0,70000.0,46000.0,66000.0,46000.0,22300.0,45000.0,47000.0,34000.0,65004.0,45000.0,40320.0,12000.0,28000.0,75693.0,17000.0,121680.0,60000.0,55000.0,108000.0,150000.0,28000.0,42000.0,35000.0,128000.0,72000.0,60000.0,33500.0,60000.0,91800.0,49464.0,29120.0,40000.0,40000.0,96050.0,45600.0,72000.0,90000.0,86000.0,30000.0,28800.0,62400.0,107000.0,72250.0,48500.0,39750.0,50000.0,42500.0,90000.0,50000.0,140000.0,143000.0,61000.0,26000.0,35000.0,19200.0,62200.0,33600.0,36000.0,39000.0,70000.0,85000.0,19200.0,64600.0,54000.0,56004.0,74237.0,135000.0,41000.0,31000.0,75000.0,18000.0,28800.0,23000.0,220836.0,74004.0,42000.0,51500.0,250000.0,60000.0,64600.0,36108.0,45000.0,57000.0,75000.0,55000.0,27600.0,65000.0,36000.0,61000.0,45000.0,12000.0,50000.0,91800.0,61572.0,44000.0,56496.0,20520.0,41000.0,125000.0,90000.0,34000.0,50000.0,30000.0,43000.0,28800.0,36000.0,70000.0,45600.0,39996.0,47500.0,44000.0,48000.0,75000.0,50000.0,54000.0,25000.0,32000.0,78513.0,35000.0,42000.0,159800.0,48000.0,82438.0,53590.0,45000.0,29400.0,140987.0,34000.0,39700.0,69900.0,59004.0,39000.0,60000.0,75000.0,40000.0,58000.0,47000.0,45996.0,45000.0,95200.0,58000.0,50400.0,87504.0,85000.0,45000.0,44000.0,21000.0,66000.0,113000.0,30000.0,32280.0,120996.0,75000.0,97000.0,24996.0,60000.0,50000.0,46000.0,45000.0,63996.0,55000.0,336000.0,45000.0,80004.0,70000.0,65000.0,50000.0,16800.0,64000.0,55000.0,65200.0,36000.0,47000.0,65000.0,60000.0,72000.0,45000.0,95000.0,30000.0,40000.0,143004.0,69000.0,92000.0,135000.0,55000.0,39000.0,160000.0,92700.0,102996.0,35000.0,175000.0,75000.0,48000.0,32642.0,78000.0,63000.0,46900.0,29200.0,25000.0,200000.0,26004.0,30000.0,118000.0,75000.0,29000.0,70000.0,45996.0,87000.0,77368.0,150000.0,62400.0,18000.0,52000.0,31200.0,45000.0,99750.0,200000.0,74000.0,68000.0,70000.0,91000.0,98000.0,125000.0,134000.0,144000.0,33600.0,64500.0,54000.0,101000.0,90096.0,87000.0,144000.0,140000.0,27204.0,240000.0,130000.0,30000.0,66000.0,234000.0,50000.0,69996.0,49000.0,54000.0,27000.0,64000.0,225000.0,24000.0,76596.0,103000.0,29120.0,138000.0,172500.0,70000.0,82656.0,64999.0,96000.0,40000.0,50000.0,56000.0,120000.0,37000.0,69600.0,42000.0,55000.0,49500.0,63000.0,65000.0,165000.0,48000.0,75000.0,22000.0,258000.0,250000.0,60200.0,74500.0,65000.0,98500.0,56500.0,33600.0,101004.0,72000.0,45000.0,80000.0,69000.0,49110.0,15000.0,15000.0,42000.0,30636.0,91440.0,60000.0,70000.0,57000.0,39000.0,71004.0,99000.0,28800.0,60000.0,64000.0,34000.0,24000.0,30000.0,28800.0,64000.0,38000.0,113000.0,40000.0,63400.0,95000.0,60000.0,45000.0,41000.0,33000.0,54000.0,35004.0,69996.0,65000.0,31500.0,35000.0,92000.0,33996.0,56400.0,34320.0,56000.0,103000.0,90000.0,39000.0,86496.0,110000.0,45000.0,69912.0,55845.0,59000.0,40000.0,102000.0,62900.0,50004.0,43000.0,78000.0,40000.0,47300.0,22260.0,33500.0,27000.0,80004.0,62400.0,96000.0,385000.0,88000.0,30000.0,39900.0,50000.0,160000.0,110000.0,40000.0,25000.0,48000.0,75000.0,26400.0,62000.0,70000.0,33300.0,105000.0,105000.0,75000.0,54072.0,83000.0,109000.0,27000.0,100000.0,24000.0,36000.0,40000.0,48000.0,46256.0,138000.0,45000.0,123000.0,63000.0,85000.0,19200.0,51000.0,34000.0,70000.0,36000.0,74000.0,80000.0,48000.0,33000.0,140000.0,33225.0,41600.0,142000.0,65000.0,78000.0,116000.0,60000.0,38400.0,38000.0,43000.0,53000.0,81000.0,25000.0,9600.0,135000.0,101004.0,78000.0,143000.0,75000.0,28000.0,21324.0,136000.0,70000.0,24216.0,55000.0,117000.0,86400.0,91392.0,69000.0,58000.0,35000.0,72000.0,31200.0,39996.0,92904.0,70000.0,26976.0,52000.0,98000.0,96050.0,192000.0,100000.0,70000.0,32000.0,80000.0,46800.0,69000.0,110000.0,35960.0,62000.0,28000.0,58000.0,98000.0,70000.0,84996.0,60000.0,112000.0,35100.0,80000.0,52000.0,86000.0,36000.0,66912.0,65000.0,117300.0,25000.0,60000.0,150000.0,228000.0,72000.0,72000.0,30000.0,67641.0,90000.0,55000.0,115000.0,58000.0,80500.0,111000.0,70000.0,70000.0,60000.0,65000.0,60000.0,74000.0,100000.0,52000.0,245000.0,38000.0,51504.0,38000.0,30000.0,32000.0,41000.0,48661.0,102000.0,35000.0,36000.0,82000.0,84000.0,56000.0,67000.0,108060.0,19200.0,40800.0,61000.0,74000.0,50000.0,170000.0,85000.0,148000.0,70000.0,74028.0,50000.0,75996.0,29676.0,52320.0,100000.0,46800.0,108000.0,36000.0,30000.0,122000.0,32000.0,65000.0,75000.0,37120.0,26400.0,78000.0,50000.0,45600.0,66000.0,24000.0,38000.0,52000.0,80000.0,35028.0,73000.0,28000.0,64000.0,34482.0,27600.0,42000.0,48000.0,89800.0,105000.0,18000.0,124100.0,39000.0,70000.0,71040.0,109500.0,53796.0,47000.0,171996.0,49000.0,72000.0,66000.0,87996.0,20244.0,70000.0,60000.0,40000.0,87204.0,80496.0,99000.0,80000.0,38000.0,40000.0,45000.0,43000.0,48000.0,30000.0,63000.0,30000.0,60000.0,19800.0,34000.0,32000.0,46000.0,40000.0,39000.0,45000.0,65000.0,60000.0,48000.0,19250.0,26237.0,27024.0,200000.0,35000.0,42000.0,49000.0,45000.0,90000.0,34800.0,27600.0,24000.0,64000.0,30000.0,78000.0,29000.0,59000.0,100000.0,62000.0,66000.0,42900.0,60000.0,351699.0,44000.0,24996.0,58608.0,80000.0,84000.0,39314.0,249996.0,93000.0,51000.0,76000.0,58000.0,135000.0,32878.0,127000.0,12000.0,60000.0,39000.0,42000.0,60000.0,48000.0,63000.0,40000.0,98004.0,67000.0,45336.0,51000.0,43200.0,154000.0,78000.0,48152.0,19000.0,47250.0,30000.0,60000.0,50000.0,75000.0,175000.0,95000.0,75000.0,68000.0,50000.0,44208.0,42252.0,113000.0,28000.0,54000.0,52000.0,15120.0,73909.0,70000.0,76800.0,175000.0,70000.0,21600.0,61200.0,25000.0,32000.0,147500.0,90000.0,72000.0,19800.0,160000.0,38000.0,65000.0,14400.0,62000.0,52000.0,40000.0,152000.0,62000.0,63800.0,50000.0,36000.0,50000.0,103641.0,92000.0,32000.0,90000.0,53500.0,88000.0,176800.0,78411.0,35000.0,64000.0,66888.0,138000.0,33736.0,64000.0,64000.0,56000.0,29004.0,96050.0,38500.0,98000.0,80000.0,125000.0,57000.0,107400.0,499800.0,204000.0,40800.0,56100.0,50000.0,87600.0,189000.0,58800.0,85000.0,13288.0,70004.0,51996.0,60000.0,65000.0,106000.0,35500.0,60000.0,25404.0,22000.0,60000.0,262000.0,48996.0,47000.0,17000.0,45000.0,95000.0,34800.0,130000.0,42000.0,43000.0,55000.0,84996.0,44000.0,90000.0,75000.0,50000.0,102000.0,30000.0,78300.0,30000.0,72000.0,30000.0,45000.0,42300.0,92000.0,44004.0,40000.0,83004.0,60000.0,92000.0,27000.0,201400.0,75000.0,65000.0,29000.0,26000.0,49000.0,30000.0,46739.0,69996.0,24000.0,60000.0,55000.0,39000.0,128000.0,89000.0,61000.0,30004.0,93600.0,38000.0,73000.0,66000.0,25000.0,100000.0,105000.0,75000.0,35000.0,43200.0,57600.0,54000.0,37681.0,75000.0,60000.0,54050.0,21112.0,32000.0,35000.0,48000.0,20000.0,54833.0,60000.0,32760.0,50000.0,52000.0,39000.0,15600.0,66000.0,51480.0,43680.0,40800.0,127992.0,62004.0,26000.0,70000.0,120000.0,55000.0,30000.0,97000.0,33000.0,99996.0,99000.0,39000.0,57600.0,50000.0,75000.0,47756.0,55680.0,55000.0,30000.0,114000.0,31200.0,54000.0,76500.0,95000.0,57204.0,62400.0,56000.0,41504.0,51600.0,45000.0,38000.0,42240.0,36000.0,62000.0,88800.0,30000.0,30000.0,55000.0,80000.0,27096.0,96050.0,32400.0,44000.0,50000.0,40000.0,63830.0,29000.0,46500.0,84000.0,62000.0,50000.0,103000.0,67392.0,28800.0,42000.0,90000.0,62500.0,80000.0,59000.0,18492.0,85000.0,53321.0,49000.0,41196.0,18000.0,117000.0,75000.0,97000.0,32400.0,103000.0,94000.0,27504.0,36500.0,120000.0,60000.0,19440.0,85500.0,100000.0,28000.0,54000.0,48000.0,31000.0,38060.0,159960.0,83000.0,60000.0,51000.0,62000.0,35392.0,69996.0,63996.0,60000.0,60000.0,79000.0,72000.0,78000.0,56004.0,54000.0,65000.0,39000.0,31200.0,109000.0,69000.0,53000.0,42600.0,29570.0,20000.0,110000.0,25716.0,35000.0,71000.0,33996.0,56000.0,42200.0,56000.0,70000.0,48000.0,69996.0,70000.0,43000.0,116000.0,60000.0,62165.0,96000.0,185000.0,30000.0,46000.0,60000.0,28800.0,46800.0,24500.0,41500.0,79050.0,66000.0,37000.0,95000.0,62000.0,60000.0,50000.0,33000.0,70000.0,71520.0,138000.0,54000.0,51850.0,44340.0,40000.0,180000.0,29500.0,34000.0,43000.0,150000.0,160000.0,84695.0,40000.0,77000.0,45000.0,31200.0,14400.0,61000.0,35000.0,15000.0,50000.0,15600.0,52000.0,30000.0,43500.0,64992.0,50402.0,80000.0,60000.0,45000.0,48750.0,74004.0,28000.0,68000.0,21000.0,50000.0,15000.0,300000.0,22800.0,76000.0,56000.0,47700.0,30000.0,30000.0,42494.0,38100.0,66920.0,26880.0,44000.0,69000.0,30900.0,70000.0,110000.0,63400.0,36000.0,40000.0,70800.0,69996.0,65000.0,29000.0,48000.0,125000.0,80000.0,40000.0,31200.0,26000.0,90000.0,38790.0,40000.0,65000.0,39800.0,44000.0,26000.0,30996.0,84000.0,68000.0,99275.0,62004.0,25000.0,55000.0,60353.0,50000.0,136000.0,60000.0,69600.0,195000.0,275000.0,37000.0,65004.0,64000.0,36000.0,54996.0,67704.0,160000.0,55728.0,60000.0,76000.0,10000.0,72000.0,54000.0,82000.0,75400.0,35050.0,78000.0,26240.0,50000.0,20000.0,88800.0,40000.0,87000.0,64000.0,35000.0,62500.0,72000.0,63000.0,36000.0,65000.0,36000.0,36750.0,154000.0,47000.0,84000.0,95000.0,65000.0,47000.0,125000.0,19800.0,26400.0,38400.0,25740.0,51000.0,38496.0,33000.0,38000.0,24000.0,31500.0,83000.0,42000.0,74000.0,35000.0,157000.0,72000.0,32500.0,31200.0,43000.0,50000.0,57600.0,45608.0,65000.0,51000.0,57110.0,46000.0,49268.0,38400.0,75000.0,64000.0,28000.0,65000.0,120000.0,24000.0,45000.0,50000.0,42000.0,63000.0,19200.0,48000.0,37440.0,32352.0,73500.0,83400.0,30000.0,32004.0,12000.0,43000.0,60000.0,14400.0,50000.0,76500.0,35000.0,60612.0,65144.0,24000.0,138000.0,47148.0,41000.0,45000.0,34000.0,62000.0,30000.0,57600.0,48000.0,47000.0,67000.0,53000.0,192000.0,26400.0,130000.0,128000.0,37017.0,30720.0,21000.0,38000.0,75000.0,120000.0,26500.0,101000.0,35000.0,20400.0,85000.0,88000.0,20400.0,45000.0,76500.0,15000.0,34800.0,48000.0,77000.0,65000.0,30000.0,102000.0,41496.0,90000.0,15600.0,105000.0,63000.0,60000.0,53000.0,38400.0,59000.0,62400.0,48000.0,25200.0,34992.0,48000.0,48000.0,33000.0,50000.0,82000.0,115000.0,14400.0,90000.0,40000.0,78750.0,106870.0,66000.0,54000.0,135000.0,44000.0,111996.0,40680.0,33504.0,27000.0,75000.0,75000.0,60140.0,22000.0,140000.0,165000.0,168000.0,40000.0,22000.0,39000.0,24000.0,59484.0,89400.0,55000.0,77000.0,220000.0,100000.0,140000.0,27000.0,50000.0,60000.0,63402.0,34000.0,54400.0,21996.0,45600.0,50000.0,68700.0,103500.0,31200.0,90000.0,25992.0,120000.0,123996.0,74424.0,30000.0,26000.0,58000.0,94837.0,22884.0,144000.0,70000.0,178650.0,60000.0,54000.0,55000.0,56400.0,50000.0,33400.0,150000.0,50000.0,41000.0,115000.0,93000.0,78956.0,25500.0,86400.0,91500.0,56400.0,50000.0,75000.0,99000.0,70000.0,108000.0,45000.0,56004.0,65000.0,55900.0,64575.0,60996.0,120000.0,105000.0,33000.0,150000.0,40000.0,35000.0,56400.0,42996.0,55000.0,62204.0,28320.0,66996.0,2039784.0,40000.0,35004.0,85000.0,40000.0,94000.0,64000.0,52000.0,53724.0,61000.0,24000.0,40000.0,42000.0,40000.0,50000.0,45840.0,138996.0,31200.0,39600.0,12000.0,58000.0,85000.0,36000.0,54084.0,33996.0,108000.0,79900.0,39000.0,74000.0,160000.0,100000.0,52000.0,60000.0,53196.0,53000.0,57996.0,63599.0,78301.0,65000.0,30000.0,84000.0,29200.0,49800.0,50532.0,73000.0,33000.0,46596.0,49920.0,30000.0,117000.0,62400.0,50000.0,38400.0,65800.0,144000.0,92000.0,100000.0,19200.0,32450.0,210000.0,48000.0,34000.0,30000.0,26124.0,15000.0,250000.0,45000.0,30000.0,50000.0,32500.0,56800.0,87500.0,71000.0,50000.0,50000.0,84996.0,40000.0,65000.0,62000.0,48000.0,110000.0,40000.0,62500.0,44208.0,24996.0,28800.0,17000.0,54000.0,54000.0,61211.0,60000.0,37000.0,90000.0,52000.0,60000.0,77250.0,55032.0,60000.0,115000.0,24000.0,160000.0,60000.0,48257.0,28000.0,91228.0,93000.0,114400.0,44000.0,96216.0,33280.0,45000.0,45004.0,24000.0,70000.0,115000.0,60000.0,88400.0,31000.0,19000.0,77052.0,36082.0,70000.0,39520.0,54000.0,25000.0,85000.0,52000.0,71500.0,40500.0,64000.0,55000.0,80000.0,66000.0,60000.0,180000.0,50000.0,80000.0,25000.0,40000.0,72250.0,48000.0,110000.0,55000.0,115000.0,105000.0,65000.0,33168.0,65000.0,43000.0,65000.0,50000.0,56000.0,73000.0,35000.0,67200.0,14400.0,65000.0,70000.0,25000.0,43000.0,26400.0,54000.0,63000.0,26400.0,30000.0,33996.0,74000.0,75000.0,44000.0,75000.0,85000.0,60000.0,129000.0,45000.0,42000.0,61440.0,123000.0,24000.0,60000.0,70910.0,120000.0,40308.0,73000.0,59000.0,51000.0,57000.0,85000.0,63000.0,55000.0,60000.0,115000.0,28800.0,168000.0,53000.0,65000.0,30000.0,50000.0,56000.0,64312.0,53000.0,60000.0,61656.0,65000.0,180000.0,110000.0,135000.0,78000.0,95000.0,26400.0,61836.0,64000.0,49993.0,70000.0,65000.0,110000.0,78000.0,48000.0,45000.0,72000.0,50400.0,110000.0,48888.0,50000.0,48996.0,48000.0,55000.0,68004.0,101000.0,80000.0,65000.0,54000.0,150000.0,32000.0,64500.0,51996.0,27000.0,33600.0,110888.0,93000.0,33000.0,62000.0,37315.0,86004.0,69000.0,111996.0,70000.0,42000.0,31000.0,30000.0,42500.0,83000.0,46000.0,24543.0,62004.0,64000.0,115000.0,104000.0,63000.0,57000.0,64000.0,46000.0,50000.0,110000.0,76000.0,70000.0,43218.0,37947.0,115000.0,65000.0,55000.0,82500.0,55000.0,144000.0,65000.0,37500.0,15000.0,98240.0,81000.0,45000.0,98004.0,75860.0,60000.0,54000.0,24000.0,52000.0,165000.0,132500.0,77385.0,72000.0,32000.0,87000.0,49980.0,57000.0,22300.0,85000.0,100000.0,175000.0,69000.0,60000.0,42996.0,190000.0,28000.0,57600.0,18000.0,73500.0,135000.0,67000.0,60000.0,69000.0,92000.0,55200.0,55400.0,60000.0,62000.0,70000.0,50000.0,36000.0,100000.0,92000.0,65450.0,19200.0,37560.0,63000.0,89800.0,74196.0,95000.0,90000.0,60000.0,36000.0,48000.0,30000.0,90000.0,144000.0,48000.0,96000.0,52000.0,28800.0,78000.0,35004.0,61284.0,27376.0,70000.0,118000.0,44000.0,72000.0,66000.0,65000.0,108000.0,78000.0,85000.0,36000.0,58000.0,95000.0,55000.0,48600.0,62000.0,42000.0,115000.0,60000.0,39900.0,131004.0,50000.0,75000.0,50500.0,86500.0,75000.0,44400.0,45727.0,50000.0,52000.0,47700.0,26000.0,33600.0,52000.0,48000.0,24000.0,60000.0,249996.0,30000.0,190000.0,44000.0,62900.0,35000.0,58900.0,36000.0,60000.0,25000.0,82000.0,73700.0,240000.0,91000.0,30000.0,56400.0,50000.0,40000.0,80000.0,70000.0,53979.0,54000.0,130000.0,54000.0,52000.0,69000.0,30000.0,63300.0,64000.0,30000.0,44400.0,42000.0,33888.0,80000.0,72444.0,55000.0,55530.0,100000.0,20000.0,50400.0,85000.0,75000.0,60132.0,110004.0,50000.0,66352.0,87600.0,26592.0,72000.0,20008.0,40000.0,49992.0,70000.0,42000.0,38000.0,43000.0,62000.0,33000.0,28000.0,47292.0,23400.0,39000.0,62000.0,34000.0,45678.0,64500.0,126000.0,91200.0,44000.0,134000.0,28800.0,121000.0,92000.0,52176.0,64000.0,280000.0,65000.0,36000.0,20000.0,84000.0,77100.0,96053.0,39000.0,20800.0,50000.0,29004.0,75000.0,71352.0,40000.0,62000.0,54000.0,65000.0,55308.0,50000.0,18000.0,16800.0,80000.0,55000.0,60000.0,32000.0,144000.0,53819.0,64000.0,56000.0,42000.0,23421.0,20000.0,60000.0,54000.0,55008.0,54000.0,110000.0,107496.0,49992.0,73000.0,73000.0,65000.0,30000.0,65000.0,320000.0,68000.0,40000.0,50000.0,54000.0,36000.0,42000.0,25000.0,38500.0,54600.0,65004.0,40000.0,85224.0,33600.0,51996.0,62000.0,29004.0,48996.0,25000.0,40000.0,109000.0,67200.0,112500.0,51000.0,38000.0,54000.0,33000.0,61360.0,19200.0,65400.0,40000.0,105000.0,115000.0,59500.0,103000.0,34000.0,56000.0,69000.0,130000.0,65000.0,48000.0,36000.0,38400.0,24000.0,45000.0,119000.0,42000.0,22880.0,30000.0,32400.0,160000.0,45000.0,42000.0,140000.0,120000.0,33000.0,45000.0,30000.0,62004.0,142800.0,104000.0,10000.0,75000.0,100000.0,36500.0,84000.0,49000.0,67200.0,75000.0,44000.0,93000.0,36000.0,56000.0,48000.0,43000.0,61200.0,40000.0,65000.0,35000.0,33000.0,40000.0,60000.0,24000.0,33048.0,101424.0,30000.0,34000.0,50000.0,105000.0,58000.0,43500.0,27600.0,70000.0,53664.0,90000.0,74000.0,65000.0,19200.0,85000.0,45000.0,27000.0,60000.0,28000.0,98240.0,49800.0,60000.0,33600.0,78000.0,60000.0,19680.0,60000.0,45000.0,150000.0,60000.0,54996.0,20000.0,67150.0,50000.0,44500.0,93450.0,47211.0,69996.0,128000.0,180000.0,29894.0,98000.0,45000.0,54000.0,50000.0,70000.0,42000.0,125555.0,55000.0,57000.0,74400.0,59000.0,115000.0,31200.0,41000.0,162000.0,72000.0,158000.0,55000.0,73000.0,100000.0,33600.0,90000.0,30000.0,8000.0,32000.0,45600.0,72000.0,29120.0,73008.0,69000.0,41000.0,60000.0,122000.0,41508.0,62000.0,65000.0,110000.0,55000.0,59712.0,58500.0,46000.0,81000.0,95000.0,67000.0,65000.0,31680.0,120000.0,90000.0,103000.0,100000.0,80000.0,60036.0,55000.0,62000.0,90000.0,88296.0,94000.0,51000.0,65000.0,30000.0,35220.0,108000.0,85000.0,40000.0,84996.0,68900.0,21000.0,39900.0,60000.0,19000.0,20000.0,30028.0,33000.0,27600.0,77004.0,114000.0,250000.0,84996.0,45000.0,103992.0,50004.0,45000.0,65000.0,39000.0,62000.0,145000.0,31800.0,125000.0,120000.0,103000.0,82000.0,30000.0,39996.0,70800.0,80000.0,64000.0,30000.0,77000.0,161000.0,57000.0,25000.0,51000.0,50000.0,33000.0,193086.0,63000.0,70000.0,83000.0,75000.0,91800.0,100000.0,70000.0,42000.0,604000.0,156000.0,14000.0,30000.0,97000.0,100000.0,48000.0,42000.0,58195.0,31200.0,85000.0,25800.0,55236.0,36852.0,87048.0,59000.0,16500.0,57000.0,43600.0,28800.0,93000.0,50000.0,47664.0,30000.0,38000.0,65000.0,34000.0,12000.0,58000.0,174996.0,85000.0,70000.0,72000.0,82000.0,52500.0,55000.0,43200.0,54000.0,65600.0,20000.0,65000.0,55000.0,200000.0,43000.0,61000.0,89000.0,65000.0,58000.0,28000.0,24000.0,17004.0,120000.0,34000.0,44004.0,52500.0,75000.0,120000.0,39000.0,51996.0,53000.0,780000.0,55000.0,54000.0,25200.0,55000.0,42000.0,123000.0,29000.0,88900.0,75000.0,54400.0,84000.0,16200.0,85000.0,33388.0,50000.0,40000.0,46320.0,84000.0,30000.0,168288.0,117300.0,36707.0,140000.0,228000.0,50000.0,64000.0,30000.0,65496.0,54000.0,13200.0,53000.0,63000.0,87950.0,780000.0,120000.0,39500.0,33000.0,70800.0,98000.0,80748.0,66300.0,50000.0,60000.0,58000.0,38400.0,35000.0,24000.0,40000.0,87500.0,42000.0,61041.0,57000.0,101877.0,39996.0,78000.0,60000.0,46800.0,24000.0,65000.0,69996.0,79200.0,65000.0,80000.0,37232.0,38004.0,80000.0,55000.0,21000.0,10636.0,28000.0,29120.0,59000.0,132000.0,58000.0,56600.0,180000.0,67000.0,58000.0,42000.0,44400.0,106000.0,110000.0,71232.0,58380.0,72500.0,26000.0,59000.0,88000.0,54000.0,54000.0,38004.0,70885.0,52000.0,23000.0,180000.0,59600.0,24000.0,63996.0,105000.0,78000.0,37200.0,44000.0,84000.0,19500.0,28800.0,42200.0,60000.0,63000.0,96000.0,44000.0,70000.0,110000.0,90000.0,72000.0,24000.0,82000.0,39500.0,32004.0,35000.0,60000.0,40000.0,48000.0,40560.0,50000.0,105000.0,82305.0,63400.0,69000.0,55000.0,88560.0,86000.0,25000.0,58800.0,32000.0,59363.0,105000.0,112000.0,24000.0,43000.0,65000.0,59000.0,70000.0,75000.0,49000.0,59000.0,54996.0,74000.0,36000.0,54996.0,29004.0,21216.0,72000.0,31200.0,63000.0,35000.0,27000.0,65000.0,48500.0,110000.0,30000.0,37920.0,40000.0,54383.0,59000.0,45000.0,82450.0,54000.0,37500.0,44000.0,28596.0,80000.0,100000.0,145000.0,75000.0,81504.0,91000.0,32640.0,40800.0,62400.0,93218.0,241875.0,96000.0,52600.0,25596.0,24000.0,33200.0,66725.0,40000.0,33300.0,27996.0,55000.0,105000.0,62000.0,38000.0,29553.0,40000.0,12000.0,50000.0,72000.0,504000.0,34800.0,62677.0,84000.0,34000.0,30000.0,80400.0,49000.0,60000.0,35500.0,47000.0,68000.0,70000.0,60000.0,42000.0,23004.0,56100.0,69000.0,99000.0,66000.0,52000.0,55000.0,21996.0,91200.0,69000.0,28000.0,58000.0,53040.0,120000.0,42000.0,26400.0,24000.0,120000.0,85000.0,720000.0,44000.0,200000.0,51000.0,46097.0,50000.0,52000.0,72000.0,115000.0,65000.0,42000.0,68000.0,45000.0,40000.0,32000.0,96000.0,67000.0,36000.0,35000.0,50000.0,51000.0,100000.0,46800.0,35000.0,45000.0,85000.0,18000.0,24000.0,200000.0,36000.0,45000.0,125000.0,117996.0,64000.0,58000.0,125000.0,35000.0,48000.0,18000.0,12000.0,45000.0,82000.0,35004.0,98400.0,52128.0,38400.0,18456.0,54000.0,140004.0,72000.0,65000.0,26000.0,81000.0,29000.0,90000.0,13000.0,86004.0,45000.0,42000.0,20000.0,75638.0,95000.0,45000.0,49270.0,38004.0,31200.0,50000.0,67000.0,43200.0,70000.0,103560.0,135000.0,36000.0,32220.0,106369.0,50000.0,63000.0,30000.0,35000.0,98000.0,51000.0,54000.0,129996.0,41892.0,45000.0,102000.0,64000.0,80000.0,66000.0,33000.0,65496.0,72000.0,24000.0,28000.0,65000.0,70000.0,57996.0,45000.0,37793.0,62004.0,25300.0,46000.0,70000.0,30000.0,26000.0,200000.0,30000.0,44000.0,30000.0,68000.0,70000.0,43000.0,39960.0,53000.0,55000.0,90000.0,37000.0,162480.0,60204.0,80000.0,48960.0,102000.0,50000.0,40000.0,24044.0,35000.0,24000.0,30000.0,22500.0,69000.0,98000.0,93000.0,48000.0,66000.0,33000.0,54586.0,39600.0,75000.0,65000.0,96000.0,47000.0,50000.0,150000.0,49000.0,51996.0,19200.0,72000.0,18000.0,78000.0,63996.0,30000.0,95000.0,69000.0,40800.0,130000.0,84000.0,92004.0,142000.0,50000.0,96000.0,29000.0,72000.0,94000.0,30000.0,40000.0,450000.0,31500.0,45600.0,158000.0,32000.0,127000.0,40000.0,67145.0,52000.0,30500.0,140000.0,115000.0,49000.0,60000.0,90000.0,30000.0,80000.0,65000.0,66000.0,61000.0,55000.0,60000.0,48000.0,88000.0,75000.0,100000.0,36100.0,25000.0,41600.0,86000.0,31000.0,50000.0,27000.0,82560.0,30000.0,75500.0,107000.0,19200.0,125000.0,35000.0,42000.0,45000.0,70000.0,91000.0,70000.0,68000.0,20004.0,105000.0,45000.0,87000.0,66000.0,60000.0,60000.0,88000.0,36000.0,125000.0,32400.0,95000.0,115000.0,41004.0,105000.0,64000.0,151000.0,106000.0,187000.0,40000.0,63000.0,62000.0,33600.0,45000.0,100000.0,67000.0,35000.0,14400.0,38000.0,100000.0,40000.0,19680.0,50000.0,175000.0,45996.0,25000.0,53000.0,81500.0,70000.0,57000.0,75000.0,32500.0,61000.0,97600.0,95000.0,72500.0,80000.0,115752.0,123000.0,160000.0,50000.0,76000.0,225000.0,56700.0,55000.0,29004.0,42000.0,54000.0,19200.0,55000.0,45000.0,52500.0,90000.0,95000.0,94102.0,62000.0,39000.0,84000.0,71738.0,32000.0,150000.0,40000.0,55000.0,135000.0,30000.0,552000.0,75000.0,27996.0,139000.0,30000.0,40000.0,100000.0,68000.0,84000.0,58500.0,30000.0,207182.0,63150.0,39000.0,27996.0,95000.0,275000.0,32400.0,44000.0,50000.0,36100.0,65000.0,47800.0,67000.0,21600.0,42000.0,65000.0,58000.0,79200.0,37000.0,70000.0,65000.0,45000.0,38400.0,30000.0,57700.0,20000.0,75000.0,45000.0,80000.0,30000.0,90000.0,42000.0,67200.0,80000.0,71000.0,150000.0,31500.0,82500.0,65000.0,55000.0,44000.0,48000.0,150000.0,19200.0,40000.0,65000.0,160000.0,21360.0,53000.0,53000.0,63000.0,72000.0,110000.0,55000.0,70000.0,33000.0,157544.0,72500.0,42000.0,58000.0,76344.0,44000.0,54000.0,30000.0,300000.0,150000.0,48000.0,60070.0,180000.0,92000.0,90000.0,210000.0,17496.0,130000.0,33600.0,75000.0,51996.0,200000.0,65004.0,119604.0,84000.0,61800.0,125000.0,48000.0,175000.0,75000.0,28000.0,98000.0,52000.0,59000.0,65000.0,50000.0,21000.0,30652.0,50000.0,126000.0,110000.0,113135.0,60000.0,75000.0,106000.0,98700.0,52000.0,39000.0,43000.0,66240.0,60000.0,55000.0,135000.0,81000.0,98000.0,29000.0,35000.0,50000.0,50000.0,45000.0,84000.0,106000.0,40000.0,38004.0,47000.0,30000.0,30000.0,69000.0,52000.0,46000.0,69500.0,50000.0,38100.0,78500.0,45000.0,144000.0,158000.0,20800.0,11000.0,41004.0,20400.0,50004.0,50000.0,46704.0,32000.0,31200.0,81204.0,48000.0,45996.0,72000.0,75000.0,51996.0,49000.0,62400.0,60000.0,92700.0,78000.0,25000.0,83004.0,147000.0,273655.0,47000.0,100000.0,35004.0,65000.0,102400.0,45000.0,46800.0,30000.0,53000.0,63000.0,40000.0,50000.0,43000.0,44640.0,82600.0,57800.0,42996.0,52000.0,72204.0,75000.0,70000.0,38000.0,33280.0,75000.0,28000.0,100000.0,42000.0,85000.0,115000.0,30000.0,30000.0,79000.0,50000.0,207182.0,63000.0,51000.0,70000.0,150000.0,40000.0,84000.0,42000.0,55000.0,67320.0,30840.0,48500.0,96000.0,70000.0,34000.0,80000.0,67014.0,78408.0,65000.0,80100.0,111262.0,127500.0,60000.0,39120.0,100000.0,40058.0,37000.0,430000.0,39000.0,95400.0,54400.0,105600.0,38000.0,75000.0,55000.0,57200.0,27600.0,51684.0,88000.0,45504.0,36614.0,54000.0,38000.0,48000.0,68400.0,24000.0,48000.0,48996.0,95000.0,66000.0,59617.0,47000.0,76500.0,40000.0,90000.0,24000.0,27120.0,185000.0,39500.0,65000.0,35000.0,100000.0,68000.0,57335.0,11000.0,45000.0,130000.0,25000.0,148000.0,48074.0,57000.0,56004.0,45000.0,30000.0,150000.0,21000.0,60000.0,42000.0,86000.0,30680.0,48000.0,45000.0,53000.0,52800.0,60000.0,48000.0,60000.0,12996.0,75288.0,60000.0,80000.0,34000.0,72000.0,56000.0,44004.0,120600.0,83000.0,98000.0,46000.0,40000.0,150000.0,36000.0,64000.0,45000.0,32004.0,140000.0,75000.0,90000.0,52000.0,80000.0,69500.0,25000.0,38000.0,37800.0,62654.0,41277.0,100000.0,25920.0,38400.0,156000.0,32000.0,60000.0,40800.0,72972.0,54000.0,48000.0,82000.0,84000.0,70000.0,36000.0,39996.0,24000.0,50000.0,25000.0,75000.0,95000.0,30000.0,60000.0,60140.0,57564.0,79000.0,25920.0,67000.0,55000.0,65000.0,58000.0,49861.0,68004.0,23000.0,65000.0,22000.0,25000.0,110000.0,56000.0,72000.0,74678.0,72000.0,60000.0,29000.0,60000.0,86000.0,30000.0,40000.0,52000.0,130000.0,56700.0,287300.0,35482.0,40000.0,59004.0,54000.0,102000.0,67350.0,71004.0,55000.0,44000.0,80004.0,48000.0,39000.0,60000.0,140000.0,45000.0,73000.0,45600.0,38400.0,45000.0,130000.0,53000.0,53000.0,90000.0,22080.0,71000.0,25920.0,44000.0,70000.0,24000.0,18840.0,84996.0,57200.0,108000.0,54500.0,40000.0,66000.0,52000.0,54000.0,43000.0,80000.0,65000.0,30000.0,54000.0,81000.0,57750.0,50000.0,91000.0,78000.0,85000.0,20000.0,149981.0,96000.0,48000.0,97000.0,56950.0,130000.0,28704.0,26400.0,105000.0,43008.0,27096.0,42000.0,44000.0,74000.0,55200.0,51000.0,115000.0,155000.0,14400.0,62050.0,24000.0,85000.0,51996.0,44004.0,73500.0,39000.0,84500.0,50000.0,38000.0,63000.0,13200.0,34560.0,61455.0,30000.0,54000.0,31500.0,24000.0,150000.0,125000.0,120000.0,36000.0,50000.0,44940.0,30000.0,40000.0,30000.0,34000.0,70000.0,30000.0,54000.0,110000.0,100000.0,80266.0,42000.0,60000.0,49000.0,125000.0,26000.0,57600.0,85000.0,137004.0,34000.0,45000.0,48996.0,148000.0,69204.0,54000.0,40800.0,26400.0,59004.0,55000.0,27600.0,38400.0,41004.0,69736.0,60000.0,65000.0,50000.0,55316.0,62200.0,65000.0,77940.0,31200.0,51000.0,25000.0,28000.0,72000.0,95000.0,85000.0,31200.0,113000.0,36000.0,83137.0,85000.0,48000.0,77250.0,40000.0,105999.0,48000.0,35000.0,62000.0,30000.0,68803.0,51000.0,50000.0,45000.0,108000.0,26500.0,47000.0,36996.0,94692.0,98004.0,36900.0,52000.0,58000.0,48000.0,43000.0,90000.0,44000.0,44000.0,83000.0,145000.0,126000.0,55000.0,59000.0,39779.0,54000.0,39996.0,70500.0,60000.0,6000.0,30000.0,27000.0,46645.0,28000.0,155000.0,65000.0,20000.0,98000.0,81000.0,85000.0,50000.0,50000.0,37800.0,36480.0,41558.0,72000.0,32000.0,94000.0,46080.0,135000.0,130000.0,81000.0,30000.0,32000.0,96000.0,22812.0,36000.0,48000.0,29000.0,92400.0,44000.0,30000.0,90000.0,648000.0,45000.0,62000.0,66948.0,21000.0,50004.0,60000.0,25000.0,30796.0,33000.0,38200.0,82000.0,130000.0,45000.0,130000.0,26400.0,31000.0,137481.0,72096.0,105000.0,94000.0,87600.0,87988.0,96000.0,58560.0,140000.0,89000.0,40000.0,32108.0,39996.0,114800.0,76000.0,95827.0,45600.0,260000.0,35004.0,19764.0,39689.0,35000.0,55000.0,39000.0,37000.0,50000.0,53000.0,55272.0,41000.0,88000.0,100000.0,31000.0,84000.0,51996.0,24000.0,80000.0,56700.0,45996.0,39996.0,45000.0,40000.0,38004.0,70522.0,58947.0,38400.0,90000.0,108000.0,52000.0,38568.0,116000.0,45000.0,78000.0,53000.0,21600.0,33000.0,129000.0,75000.0,80000.0,105400.0,75000.0,60000.0,93000.0,80000.0,34000.0,45000.0,30000.0,120000.0,70000.0,56004.0,75000.0,78000.0,51000.0,63000.0,13000.0,35000.0,60000.0,19200.0,69000.0,76160.0,46976.0,42000.0,74000.0,57000.0,45600.0,45000.0,42642.0,45000.0,20004.0,69000.0,100000.0,89100.0,46000.0,28685.0,44000.0,59600.0,18000.0,67000.0,148000.0,103000.0,105000.0,156000.0,42000.0,150000.0,39000.0,43200.0,26004.0,42000.0,44460.0,53376.0,44400.0,26000.0,130000.0,78000.0,97000.0,20160.0,85000.0,114750.0,87000.0,90000.0,110000.0,60000.0,48956.0,80000.0,66000.0,52000.0,127000.0,99000.0,40000.0,62100.0,24000.0,45000.0,18000.0,90000.0,28800.0,20400.0,18000.0,28000.0,225000.0,70000.0,64000.0,65592.0,42000.0,25000.0,65000.0,148000.0,150000.0,44000.0,290000.0,62050.0,150000.0,86670.0,80000.0,90000.0,155000.0,85000.0,80000.0,24000.0,130000.0,75000.0,32000.0,82000.0,60000.0,85000.0,46000.0,72000.0,66000.0,125000.0,42000.0,48000.0,78885.0,99000.0,45000.0,85000.0,44000.0,30000.0,92000.0,39996.0,82000.0,120000.0,105000.0,49000.0,51600.0,21000.0,120000.0,60000.0,68848.0,87000.0,80000.0,88000.0,58000.0,150000.0,35000.0,75000.0,18000.0,84000.0,79000.0,134000.0,66000.0,38000.0,75000.0,84000.0,28000.0,73992.0,110004.0,26400.0,33000.0,73440.0,96640.0,32500.0,36000.0,78000.0,65004.0,35000.0,55200.0,64000.0,84000.0,24000.0,61104.0,35000.0,150600.0,40000.0,40000.0,24000.0,75000.0,15000.0,55782.0,55600.0,30000.0,57240.0,77700.0,65000.0,50000.0,25000.0,55000.0,49000.0,80000.0,120000.0,36500.0,50160.0,42000.0,57800.0,42240.0,60000.0,66348.0,44304.0,39124.0,53000.0,46000.0,40800.0,21000.0,100000.0,69500.0,65000.0,133300.0,20000.0,30720.0,30000.0,36000.0,338000.0,42000.0,102000.0,60000.0,90000.0,40000.0,57744.0,80000.0,112800.0,33000.0,39996.0,23198.0,156000.0,58000.0,47500.0,42000.0,85000.0,40000.0,50000.0,70176.0,100000.0,144000.0,88000.0,51996.0,58000.0,115000.0,21000.0,57664.0,70000.0,128400.0,73500.0,105018.0,75000.0,30000.0,65379.0,300000.0,30000.0,40000.0,157500.0,36000.0,74000.0,95000.0,47800.0,50648.0,170004.0,12000.0,75000.0,63400.0,70000.0,34000.0,19200.0,85000.0,30000.0,33000.0,105000.0,60000.0,63000.0,45000.0,52000.0,60000.0,36000.0,50000.0,60000.0,35000.0,108820.0,120000.0,50000.0,24996.0,36000.0,71700.0,31200.0,51600.0,50000.0,9600.0,120000.0,31400.0,85000.0,29004.0,72000.0,48500.0,40800.0,34000.0,42000.0,36000.0,42000.0,30000.0,44000.0,112500.0,67983.0,110004.0,51492.0,54000.0,55000.0,36000.0,36000.0,59004.0,195000.0,49536.0,45000.0,60000.0,80000.0,75000.0,40800.0,60000.0,125000.0,52000.0,50000.0,25200.0,178000.0,42000.0,125000.0,36000.0,50004.0,42000.0,73000.0,53000.0,36000.0,39996.0,60000.0,25200.0,33000.0,42000.0,40000.0,75000.0,35000.0,75000.0,60000.0,65000.0,19200.0,14400.0,65004.0,65028.0,47496.0,47360.0,35000.0,58000.0,44000.0,24600.0,75000.0,60000.0,55000.0,92000.0,125004.0,57564.0,36000.0,59500.0,83000.0,140000.0,59000.0,36000.0,32400.0,49548.0,75000.0,65000.0,34800.0,29435.0,40000.0,42000.0,40000.0,52500.0,44500.0,90000.0,40000.0,20800.0,74000.0,54000.0,85000.0,115000.0,82000.0,65984.0,64000.0,31200.0,50000.0,39896.0,26500.0,53000.0,20000.0,28800.0,65000.0,23000.0,66000.0,110000.0,75000.0,97500.0,30000.0,12000.0,43000.0,55000.0,98000.0,110000.0,78400.0,110000.0,108000.0,63000.0,75000.0,57000.0,90000.0,23000.0,50000.0,65000.0,74880.0,56000.0,92407.0,18000.0,30000.0,73440.0,46800.0,51000.0,100000.0,59317.0,156000.0,78000.0,47000.0,48000.0,26400.0,125000.0,58800.0,43680.0,42994.0,35000.0,100016.0,68000.0,42000.0,65000.0,57000.0,58000.0,52000.0,37200.0,31417.0,36000.0,33000.0,75000.0,192000.0,21000.0,78000.0,30000.0,39000.0,64000.0,44000.0,24960.0,16000.0,52000.0,65000.0,209000.0,107280.0,69000.0,50000.0,48235.0,231252.0,63000.0,51043.0,30000.0,58000.0,65000.0,170000.0,62900.0,120000.0,121000.0,46350.0,174462.0,66252.0,85000.0,90000.0,25000.0,54000.0,168000.0,44000.0,61000.0,39000.0,34000.0,20743.0,27600.0,52800.0,72000.0,83000.0,25000.0,62000.0,39868.0,38000.0,55000.0,18835.0,45286.0,47908.0,72000.0,106000.0,133000.0,108000.0,96000.0,32200.0,155000.0,108000.0,183000.0,36000.0,54000.0,107000.0,37000.0,61500.0,55000.0,91234.0,25000.0,65074.0,57000.0,75000.0,35000.0,70000.0,47208.0,42996.0,39600.0,50400.0,60000.0,20640.0,26000.0,30000.0,72000.0,95000.0,28000.0,100000.0,69000.0,37000.0,90000.0,33000.0,53004.0,100000.0,30000.0,47052.0,42000.0,54996.0,55000.0,135000.0,38423.0,50000.0,41400.0,60000.0,32000.0,46500.0,200000.0,36000.0,32484.0,60000.0,160000.0,32000.0,55200.0,62200.0,70550.0,35000.0,56000.0,63582.0,24000.0,65000.0,55000.0,50000.0,37076.0,77927.0,155000.0,220000.0,19200.0,46000.0,125000.0,110000.0,100000.0,35600.0,80004.0,32000.0,105000.0,56000.0,82600.0,120000.0,62839.0,31200.0,60000.0,78000.0,140900.0,69000.0,50000.0,93000.0,53500.0,41892.0,36000.0,37500.0,32468.0,28500.0,78000.0,28000.0,135000.0,100000.0,130000.0,107000.0,55000.0,60000.0,52000.0,64300.0,35556.0,34000.0,27000.0,52000.0,58500.0,55000.0,74000.0,15360.0,70356.0,52000.0,50000.0,31000.0,39000.0,52000.0,55000.0,75000.0,39996.0,100000.0,65000.0,64000.0,80000.0,54000.0,40800.0,58000.0,64000.0,40000.0,24000.0,50000.0,126000.0,14573.0,55000.0,120000.0,60000.0,30000.0,110000.0,85000.0,52000.0,21600.0,31000.0,57504.0,30100.0,120000.0,44000.0,33800.0,78996.0,71004.0,68400.0,42000.0,55530.0,70000.0,35000.0,81000.0,32000.0,100000.0,138000.0,22800.0,53000.0,32000.0,83500.0,79985.0,65000.0,18996.0,39600.0,44000.0,47000.0,37200.0,59578.0,75000.0,44720.0,32000.0,57936.0,27120.0,50160.0,113000.0,74400.0,72000.0,65000.0,36000.0,35000.0,130000.0,55000.0,100000.0,118000.0,115000.0,10000.0,65000.0,604000.0,92500.0,30000.0,21120.0,51000.0,43000.0,74797.0,26748.0,114237.0,34500.0,78000.0,42000.0,62000.0,100300.0,30000.0,49200.0,80000.0,225000.0,78000.0,58000.0,60000.0,86004.0,120000.0,60000.0,85000.0,62000.0,15000.0,55704.0,39996.0,29500.0,31732.0,42000.0,75905.0,74000.0,27600.0,105504.0,72194.0,21996.0,80000.0,30000.0,47000.0,51000.0,42500.0,60000.0,44000.0,115000.0,42500.0,22800.0,160000.0,58000.0,40000.0,35600.0,63000.0,120000.0,50000.0,44000.0,115000.0,45000.0,70000.0,34200.0,35000.0,20664.0,40000.0,160000.0,25000.0,68000.0,100000.0,80000.0,53000.0,90000.0,61500.0,104000.0,38400.0,100995.0,46500.0,52000.0,50000.0,167000.0,65000.0,10000.0,65000.0,50361.0,150000.0,108000.0,36000.0,30000.0,69000.0,75000.0,38400.0,75360.0,29000.0,41600.0,48000.0,70000.0,76800.0,35000.0,75000.0,65061.0,70000.0,46330.0,19800.0,111000.0,24000.0,48000.0,30000.0,36996.0,45468.0,110000.0,48000.0,68000.0,45000.0,48000.0,60996.0,38000.0,34800.0,30996.0,205000.0,68000.0,44684.0,48000.0,46000.0,30000.0,100000.0,35000.0,90000.0,60000.0,78000.0,68000.0,100843.0,38000.0,51500.0,114000.0,80000.0,305000.0,24000.0,26000.0,45000.0,20160.0,65000.0,66215.0,75000.0,96000.0,65000.0,90000.0,33276.0,122000.0,48000.0,28800.0,94350.0,34138.0,60000.0,29004.0,110000.0,57996.0,33852.0,47508.0,68670.0,64000.0,80000.0,77000.0,57000.0,48000.0,40000.0,87000.0,90000.0,112000.0,80000.0,85000.0,46113.0,57000.0,40000.0,15000.0,31000.0,250000.0,38400.0,30000.0,72600.0,76500.0,37500.0,39996.0,116000.0,46344.0,50000.0,54000.0,30000.0,55000.0,60000.0,77385.0,18701.0,24000.0,20000.0,57000.0,150000.0,43200.0,14000.0,36662.0,204000.0,109200.0,69000.0,54000.0,75000.0,30000.0,29000.0,63816.0,165000.0,70000.0,64000.0,25368.0,75000.0,46996.0,65000.0,50000.0,18720.0,41400.0,59000.0,189996.0,78000.0,33996.0,48000.0,69600.0,85000.0,88000.0,39000.0,70000.0,84000.0,88000.0,95000.0,58704.0,170000.0,82000.0,60000.0,12960.0,51000.0,55000.0,32000.0,48000.0,84000.0,78500.0,37980.0,40000.0,80000.0,26400.0,54000.0,85000.0,37342.0,85000.0,153000.0,14400.0,74000.0,33000.0,35400.0,32400.0,65000.0,56784.0,125000.0,100000.0,300000.0,147000.0,126000.0,44000.0,90000.0,26400.0,60000.0,42000.0,66300.0,85296.0,98000.0,35300.0,78000.0,70200.0,44004.0,52000.0,95000.0,54000.0,124000.0,30996.0,148716.0,42000.0,225000.0,50343.0,96000.0,65600.0,120000.0,46097.0,80000.0,95400.0,46800.0,54000.0,45000.0,76000.0,72000.0,50000.0,71874.0,36396.0,92004.0,70000.0,67000.0,31104.0,27000.0,98000.0,77065.0,60000.0,148000.0,44475.0,30996.0,100000.0,60000.0,30996.0,45000.0,130000.0,61425.0,40000.0,58000.0,55000.0,58650.0,30500.0,110000.0,69500.0,90000.0,48000.0,60000.0,54000.0,37000.0,117600.0,9600.0,65000.0,31200.0,51000.0,50000.0,54000.0,36000.0,84000.0,44640.0,175000.0,75000.0,59600.0,40000.0,35000.0,62316.0,35000.0,84000.0,61200.0,59436.0,39000.0,61450.0,46000.0,75000.0,100000.0,65000.0,36000.0,50000.0,130000.0,48000.0,140000.0,27336.0,20000.0,32400.0,60600.0,95000.0,28000.0,63500.0,59000.0,65004.0,43000.0,67000.0,39000.0,49000.0,53800.0,57000.0,30000.0,58000.0,145000.0,18700.0,38400.0,68500.0,63000.0,34000.0,30456.0,22800.0,50426.0,90000.0,71000.0,85000.0,84996.0,25000.0,13200.0,101000.0,66000.0,96000.0,61000.0,74000.0,16800.0,124000.0,105000.0,36000.0,75000.0,83000.0,103000.0,60000.0,73000.0,80000.0,59000.0,44400.0,44000.0,86000.0,36000.0,119000.0,15000.0,71020.0,58600.0,82000.0,19200.0,75000.0,48000.0,90000.0,94000.0,45000.0,30000.0,55000.0,35000.0,108000.0,26400.0,61547.0,55000.0,37800.0,70000.0,40000.0,25000.0,150000.0,36000.0,85000.0,288000.0,50000.0,300000.0,87000.0,29000.0,140000.0,36000.0,135000.0,145000.0,35000.0,120000.0,75000.0,32000.0,26880.0,73164.0,75653.0,35196.0,71000.0,70000.0,48000.0,51000.0,103500.0,80000.0,72000.0,129996.0,38000.0,81000.0,95000.0,151000.0,36000.0,52000.0,41244.0,100000.0,30960.0,27168.0,50000.0,100000.0,83768.0,48000.0,40000.0,40000.0,36996.0,31200.0,30000.0,60000.0,49000.0,48000.0,30000.0,54000.0,47000.0,68872.0,50000.0,61200.0,46300.0,27996.0,35100.0,76000.0,48880.0,75000.0,96000.0,40000.0,63500.0,16428.0,26400.0,78000.0,59000.0,76000.0,135000.0,60000.0,32000.0,69000.0,70000.0,63410.0,28000.0,56100.0,100000.0,58000.0,104000.0,72000.0,30000.0,126000.0,55000.0,36996.0,28800.0,103000.0,57000.0,50000.0,32900.0,82000.0,78000.0,43000.0,45000.0,48000.0,77078.0,67150.0,40000.0,65000.0,36000.0,116000.0,55000.0,120000.0,45000.0,90000.0,52000.0,95000.0,52000.0,34000.0,64800.0,150000.0,101000.0,51600.0,35000.0,70000.0,60000.0,52000.0,68000.0,50000.0,45000.0,32400.0,70000.0,65000.0,25920.0,33996.0,20000.0,58000.0,74000.0,120000.0,80000.0,174996.0,50000.0,49000.0,150000.0,18000.0,43150.0,70000.0,28800.0,20000.0,75000.0,72000.0,75250.0,90000.0,60000.0,32000.0,52728.0,35000.0,28000.0,54996.0,92004.0,36000.0,55000.0,24996.0,43200.0,55000.0,38000.0,39600.0,55000.0,60000.0,55000.0,24432.0,60000.0,95000.0,102000.0,39420.0,72000.0,60000.0,41784.0,25344.0,38000.0,43000.0,30000.0,78000.0,40000.0,49000.0,54200.0,32000.0,90000.0,117000.0,35000.0,170000.0,215000.0,19200.0,123735.0,84000.0,17720.0,45336.0,72000.0,31513.0,113000.0,200000.0,78500.0,44000.0,51000.0,52800.0,81804.0,77496.0,54000.0,53000.0,77367.0,29000.0,44004.0,36000.0,42000.0,33600.0,70000.0,45000.0,34348.0,69000.0,84175.0,66725.0,58668.0,60000.0,120000.0,150000.0,90000.0,126000.0,44000.0,28080.0,70000.0,100970.0,41000.0,30000.0,63000.0,34000.0,66888.0,50000.0,37000.0,130000.0,54996.0,34000.0,42000.0,110000.0,44400.0,114000.0,62000.0,70000.0,39504.0,65000.0,30000.0,69600.0,48000.0,154000.0,80000.0,82000.0,29000.0,42000.0,36996.0,57408.0,43000.0,30000.0,81000.0,42000.0,120000.0,45000.0,50000.0,22800.0,225000.0,105000.0,143004.0,74000.0,64800.0,44000.0,45000.0,30996.0,95892.0,33000.0,70000.0,99000.0,125000.0,42500.0,45000.0,104000.0,60000.0,56000.0,99000.0,35000.0,42900.0,50000.0,200000.0,49000.0,45000.0,68400.0,60000.0,50000.0,102000.0,38004.0,34000.0,68000.0,108000.0,76000.0,49000.0,70000.0,74000.0,70000.0,86000.0,22800.0,125000.0,52000.0,70000.0,80000.0,84000.0,43200.0,44000.0,30000.0,69000.0,58650.0,84996.0,54072.0,100300.0,50000.0,56525.0,97000.0,90000.0,15000.0,51400.0,42000.0,72000.0,201000.0,39996.0,31000.0,140000.0,75000.0,26400.0,52000.0,84000.0,36000.0,32000.0,118068.0,49278.0,30000.0,33600.0,99996.0,125000.0,45000.0,44000.0,107000.0,56000.0,54000.0,93000.0,33996.0,65000.0,52000.0,42000.0,96000.0,120000.0,50000.0,21600.0,54996.0,88000.0,90000.0,55000.0,54000.0,55000.0,51000.0,58500.0,31000.0,57450.0,45000.0,125000.0,50000.0,75000.0,76000.0,26000.0,68000.0,141000.0,19200.0,120456.0,52680.0,96000.0,108000.0,93000.0,52000.0,12000.0,158000.0,14400.0,24000.0,51252.0,33600.0,100000.0,30000.0,48996.0,49000.0,31200.0,47233.0,55000.0,120000.0,60000.0,47000.0,35000.0,48000.0,32000.0,87000.0,43000.0,76176.0,80004.0,47600.0,138000.0,53684.0,66000.0,79416.0,93600.0,26000.0,12000.0,65000.0,116000.0,19800.0,8088.0,35100.0,42000.0,63900.0,75000.0,69600.0,65707.0,140000.0,9900.0,116004.0,60000.0,26400.0,54000.0,57000.0,92000.0,40800.0,58296.0,24000.0,35000.0,42000.0,50000.0,90000.0,19728.0,57000.0,26000.0,19968.0,20000.0,41000.0,33250.0,140000.0,40000.0,24000.0,40000.0,48000.0,58000.0,80000.0,27302.0,85000.0,80000.0,46800.0,55000.0,36000.0,33990.0,30300.0,55000.0,45000.0,50000.0,35000.0,105000.0,33500.0,168000.0,29000.0,36480.0,23800.0,42000.0,30000.0,160000.0,44400.0,80340.0,36000.0,32000.0,21600.0,54996.0,36000.0,58000.0,100000.0,109200.0,38000.0,66000.0,80000.0,42000.0,43000.0,50000.0,88000.0,24996.0,55000.0,64800.0,40000.0,70000.0,27996.0,40800.0,64260.0,42000.0,15000.0,36000.0,45000.0,100010.0,24000.0,60000.0,38196.0,42500.0,44000.0,54000.0,53329.0,25200.0,150000.0,48000.0,156000.0,33600.0,19200.0,45000.0,36000.0,37260.0,71200.0,80000.0,28000.0,120000.0,39000.0,30000.0,165000.0,72000.0,89000.0,70550.0,48000.0,35004.0,64000.0,21700.0,44000.0,162350.0,33716.0,44500.0,23500.0,86304.0,50000.0,90000.0,31200.0,80000.0,75000.0,54804.0,94000.0,165000.0,48000.0,138000.0,25000.0,35400.0,12000.0,53500.0,127000.0,37000.0,51600.0,31700.0,55000.0,52000.0,37000.0,83195.0,96000.0,120000.0,24000.0,66000.0,106800.0,48000.0,95000.0,51600.0,74000.0,50000.0,45000.0,142000.0,45312.0,60000.0,64000.0,53500.0,92000.0,24000.0,93158.0,104000.0,88140.0,62496.0,45000.0,55000.0,40000.0,46000.0,25200.0,30000.0,90000.0,95000.0,51500.0,43000.0,100000.0,56004.0,90000.0,45000.0,27996.0,60000.0,52000.0,40000.0,25000.0,48000.0,62004.0,38568.0,40000.0,32004.0,78000.0,130000.0,41000.0,45450.0,48000.0,60000.0,45000.0,92000.0,49920.0,75500.0,39600.0,108000.0,25000.0,77182.0,25200.0,47760.0,50000.0,84000.0,50000.0,73000.0,90000.0,44000.0,110000.0,49500.0,68900.0,87000.0,62400.0,31164.0,58896.0,74000.0,80000.0,35000.0,40000.0,60000.0,72000.0,32000.0,54000.0,39000.0,70000.0,47000.0,32400.0,47000.0,56000.0,112445.0,115000.0,34884.0,30000.0,39300.0,60000.0,90000.0,95500.0,76800.0,50004.0,35000.0,28452.0,50000.0,31500.0,63800.0,22440.0,28896.0,42000.0,47000.0,28800.0,61000.0,105000.0,87000.0,600000.0,34000.0,36000.0,55000.0,70000.0,70000.0,62004.0,40200.0,41235.0,41000.0,90000.0,145000.0,55000.0,105000.0,70000.0,34400.0,58650.0,20400.0,40800.0,78000.0,78000.0,32640.0,50000.0,33000.0,40000.0,43000.0,79000.0,72000.0,97500.0,95000.0,84000.0,105000.0,85000.0,67000.0,114996.0,50000.0,68500.0,125000.0,100000.0,75744.0,30000.0,55000.0,67000.0,68000.0,132000.0,63533.0,50000.0,45000.0,79632.0,62844.0,28000.0,60000.0,40000.0,115000.0,36000.0,46394.0,30000.0,35000.0,62496.0,32000.0,85000.0,51000.0,51540.0,112000.0,37000.0,95000.0,42000.0,46000.0,51840.0,36000.0,90000.0,96000.0,65000.0,71000.0,62004.0,56004.0,55200.0,136240.0,92000.0,38000.0,100000.0,95000.0,30000.0,86000.0,58000.0,34200.0,66000.0,112000.0,75000.0,35000.0,123000.0,130000.0,36000.0,54996.0,32000.0,42000.0,65000.0,62400.0,55000.0,60000.0,29000.0,40000.0,36000.0,57000.0,44500.0,33948.0,27000.0,66000.0,24000.0,60000.0,50808.0,45000.0,54000.0,43000.0,69000.0,48000.0,75000.0,80000.0,155000.0,38400.0,60000.0,54050.0,22000.0,27600.0,95000.0,65000.0,36000.0,36000.0,68736.0,92004.0,42000.0,84996.0,19200.0,49000.0,149616.0,148410.0,30000.0,38400.0,30000.0,85000.0,130000.0,64500.0,57600.0,141996.0,24000.0,149400.0,51000.0,53000.0,91092.0,35000.0,47000.0,72000.0,135000.0,42000.0,72000.0,48000.0,67000.0,69000.0,60000.0,78000.0,30000.0,61000.0,48000.0,25000.0,51043.0,68000.0,135000.0,200000.0,58000.0,37050.0,50400.0,40000.0,97333.0,78000.0,39000.0,69000.0,67200.0,54000.0,76668.0,122000.0,72800.0,60000.0,42000.0,88000.0,39000.0,121000.0,80000.0,47000.0,53000.0,108350.0,93240.0,132000.0,27000.0,24000.0,97000.0,56400.0,81000.0,42000.0,47000.0,38000.0,70000.0,58000.0,29000.0,43000.0,41000.0,40000.0,105000.0,33000.0,45000.0,41916.0,73000.0,30000.0,47000.0,79000.0,85000.0,115000.0,60000.0,37000.0,27996.0,53100.0,60000.0,60000.0,81600.0,62000.0,50000.0,63132.0,70000.0,72000.0,43000.0,100000.0,38400.0,10080.0,34000.0,50000.0,45000.0,98000.0,33000.0,100000.0,27600.0,29124.0,90000.0,34152.0,32000.0,75000.0,40000.0,58000.0,39996.0,20000.0,72400.0,45200.0,25000.0,60000.0,40000.0,30372.0,78000.0,80000.0,85920.0,82000.0,40000.0,65000.0,60000.0,28800.0,53004.0,81500.0,70000.0,35827.0,55692.0,39000.0,63000.0,75000.0,31200.0,146000.0,30000.0,36000.0,60000.0,136000.0,88000.0,30000.0,153000.0,75000.0,56000.0,60000.0,65004.0,78000.0,55000.0,55000.0,37000.0,62361.0,88900.0,60000.0,130000.0,50000.0,45000.0,52000.0,97750.0,45600.0,59000.0,42072.0,45000.0,70550.0,24000.0,53000.0,34174.0,31221.0,78000.0,95000.0,65000.0,32000.0,90000.0,74784.0,144996.0,42996.0,17721.0,55000.0,28800.0,42000.0,62000.0,58000.0,92500.0,27252.0,53000.0,18000.0,37000.0,62050.0,41600.0,40000.0,48996.0,45000.0,73000.0,62500.0,30000.0,42000.0,68608.0,120000.0,130000.0,27500.0,41628.0,18000.0,63000.0,66500.0,55000.0,24000.0,56000.0,20000.0,56400.0,37200.0,73000.0,37000.0,14400.0,127500.0,93000.0,93000.0,75000.0,32000.0,50004.0,80000.0,53000.0,12000.0,48000.0,83300.0,82500.0,62000.0,50000.0,100000.0,72996.0,48000.0,56000.0,68000.0,85000.0,24960.0,42000.0,11760.0,48600.0,173000.0,42000.0,90000.0,365000.0,85000.0,75000.0,33996.0,48000.0,24000.0,98080.0,75000.0,27600.0,90000.0,129996.0,120000.0,58000.0,71151.0,47000.0,34000.0,56004.0,50000.0,25000.0,70000.0,54252.0,70000.0,65000.0,85850.0,48000.0,36000.0,48526.0,38832.0,108202.0,39900.0,29400.0,89000.0,28800.0,49200.0,24000.0,42000.0,200000.0,200000.0,24000.0,50000.0,68000.0,44000.0,98000.0,125000.0,62000.0,41280.0,83957.0,115000.0,67000.0,120000.0,53000.0,92000.0,34000.0,56000.0,48000.0,55000.0,52000.0,72000.0,14400.0,32560.0,80500.0,80750.0,44000.0,32000.0,140000.0,174708.0,47000.0,75000.0,49200.0,110000.0,65000.0,54216.0,60000.0,56000.0,48000.0,67260.0,75000.0,42000.0,30000.0,80004.0,57500.0,54000.0,80000.0,136000.0,21000.0,46000.0,70550.0,97000.0,62400.0,64000.0,56902.0,86004.0,42000.0,133000.0,50000.0,49716.0,65000.0,64000.0,51000.0,108000.0,30000.0,60000.0,45600.0,14400.0,59000.0,124886.0,35000.0,40000.0,42000.0,16800.0,42000.0,44664.0,93000.0,120000.0,91000.0,65004.0,33000.0,42996.0,54600.0,125000.0,21600.0,57000.0,57600.0,15120.0,130000.0,55000.0,21000.0,55000.0,60000.0,24000.0,120000.0,57500.0,50000.0,100400.0,82000.0,55500.0,425000.0,126000.0,51060.0,61000.0,52000.0,69996.0,63000.0,140000.0,28000.0,45000.0,42000.0,24000.0,50400.0,41000.0,110004.0,55000.0,130000.0,42504.0,37152.0,80004.0,59196.0,65000.0,62000.0,150000.0,31800.0,25200.0,100300.0,72000.0,30000.0,192000.0,120000.0,75000.0,60000.0,70000.0,70000.0,82800.0,96000.0,29000.0,25000.0,95000.0,32000.0,87360.0,38769.0,110000.0,65000.0,45000.0,100000.0,80140.0,70082.0,80400.0,58650.0,56000.0,63000.0,141000.0,165000.0,92000.0,70800.0,45000.0,111239.0,35000.0,148000.0,21600.0,150000.0,47110.0,19200.0,37000.0,83000.0,24414.0,48000.0,44640.0,40000.0,18000.0,49700.0,370000.0,69996.0,112500.0,44000.0,56100.0,44000.0,52000.0,32760.0,42000.0,63600.0,36780.0,82800.0,95004.0,74000.0,59000.0,65000.0,85000.0,55000.0,50400.0,51000.0,56864.0,49000.0,53400.0,54000.0,210000.0,54000.0,51000.0,65000.0,64200.0,62000.0,18000.0,65004.0,63600.0,82500.0,24996.0,186000.0,56000.0,85634.0,32000.0,91000.0,40500.0,75000.0,120000.0,65000.0,81000.0,65000.0,30000.0,165000.0,156000.0,45500.0,48000.0,113000.0,95000.0,44004.0,26400.0,65000.0,17500.0,41000.0,60000.0,32004.0,75000.0,35000.0,26000.0,45000.0,100000.0,120000.0,69000.0,60000.0,101400.0,48000.0,80000.0,49777.0,105000.0,56524.0,89004.0,29666.0,53000.0,80000.0,60996.0,48000.0,90000.0,50000.0,30144.0,51000.0,59450.0,47800.0,63000.0,35500.0,19200.0,45600.0,53124.0,110000.0,50650.0,60000.0,83252.0,140000.0,50450.0,48096.0,69000.0,26400.0,26000.0,113000.0,40000.0,32000.0,33000.0,190000.0,40000.0,19200.0,83500.0,50000.0,33000.0,50000.0,39996.0,78000.0,91000.0,81500.0,48000.0,70000.0,68000.0,46800.0,148350.0,10800.0,165000.0,65000.0,37800.0,111917.0,90000.0,58000.0,30000.0,200000.0,54000.0,85000.0,90000.0,50000.0,126996.0,50129.0,55000.0,24000.0,45000.0,135000.0,40000.0,50000.0,18000.0,44000.0,31200.0,28800.0,120000.0,39996.0,30000.0,80000.0,153600.0,24000.0,30000.0,60000.0,91800.0,39996.0,45000.0,210000.0,220000.0,58800.0,68004.0,30000.0,59450.0,88000.0,500000.0,44400.0,87000.0,78000.0,17000.0,38400.0,56900.0,38400.0,32000.0,60000.0,38400.0,58800.0,27000.0,150000.0,52000.0,12000.0,83000.0,45000.0,132000.0,25200.0,38004.0,73000.0,71500.0,45000.0,26000.0,81000.0,44630.0,85000.0,46000.0,82440.0,88055.0,83000.0,62004.0,750000.0,100000.0,42000.0,50000.0,37440.0,83300.0,56400.0,100000.0,36000.0,85757.0,49000.0,45020.0,36850.0,105000.0,105000.0,67000.0,48000.0,45000.0,47000.0,64000.0,13273.0,44000.0,52582.0,94800.0,30000.0,33600.0,113000.0,26496.0,80000.0,52000.0,57738.0,62100.0,29000.0,47000.0,85000.0,32000.0,36000.0,28800.0,36000.0,46116.0,108800.0,267000.0,45000.0,24000.0,41500.0,40800.0,48000.0,70000.0,66000.0,66000.0,35000.0,40000.0,49500.0,47000.0,65000.0,32000.0,48000.0,33600.0,18000.0,66000.0,35880.0,122880.0,49000.0,29000.0,30000.0,70000.0,29976.0,60000.0,60000.0,43000.0,64900.0,34500.0,42000.0,65000.0,8004.0,108160.0,44000.0,43000.0,24091.0,45600.0,65000.0,78000.0,58000.0,39900.0,24000.0,62000.0,32244.0,65000.0,50000.0,47540.0,108000.0,126000.0,65000.0,60000.0,45000.0,27996.0,51480.0,54000.0,95000.0,85000.0,36000.0,30000.0,60000.0,68551.0,32004.0,87000.0,30000.0,55000.0,53000.0,37500.0,45000.0,100000.0,50400.0,18000.0,31193.0,100000.0,85000.0,50000.0,38400.0,48000.0,73000.0,90000.0,35000.0,22000.0,35652.0,84000.0,55000.0,78000.0,60000.0,120000.0,25000.0,157500.0,40000.0,18000.0,58000.0,63000.0,45000.0,62496.0,32400.0,133800.0,108996.0,91000.0,30000.0,50000.0,57000.0,20000.0,120000.0,15000.0,29000.0,56000.0,13000.0,39000.0,36000.0,34500.0,39000.0,115000.0,77000.0,62400.0,36000.0,52000.0,75996.0,40000.0,69996.0,48360.0,102400.0,120000.0,21600.0,66000.0,26004.0,77000.0,88000.0,54996.0,36800.0,39600.0,84996.0,76800.0,75000.0,40000.0,100000.0,42000.0,48000.0,26400.0,35400.0,120000.0,67000.0,34800.0,325000.0,90000.0,6000.0,70000.0,44500.0,31200.0,40000.0,39000.0,22000.0,178000.0,42000.0,60000.0,60400.0,58800.0,32400.0,45000.0,96000.0,39216.0,38400.0,56000.0,110000.0,71000.0,200004.0,55000.0,47000.0,47400.0,35600.0,96000.0,75000.0,185000.0,34132.0,98000.0,120000.0,30000.0,27040.0,74000.0,27996.0,43200.0,60000.0,55000.0,50000.0,260000.0,96000.0,31000.0,50000.0,39996.0,62000.0,42000.0,104000.0,59000.0,175000.0,55000.0,36120.0,40000.0,38000.0,79894.0,37090.0,73008.0,70872.0,49000.0,30159.0,79000.0,45000.0,55000.0,60000.0,72000.0,70000.0,50000.0,150000.0,46200.0,106839.0,83000.0,56000.0,44000.0,88000.0,138000.0,144000.0,28800.0,120000.0,43000.0,65000.0,34000.0,58800.0,38000.0,123000.0,41000.0,48000.0,46300.0,55000.0,24000.0,68508.0,54400.0,44000.0,21600.0,40000.0,25200.0,24000.0,82560.0,60000.0,34056.0,50000.0,35368.0,24000.0,84000.0,24996.0,55000.0,38000.0,51000.0,50000.0,30000.0,58560.0,250000.0,39000.0,158000.0,72000.0,75555.0,69000.0,45928.0,71500.0,20988.0,75000.0,39000.0,77000.0,40800.0,56000.0,70000.0,60000.0,50004.0,120000.0,53000.0,35000.0,30720.0,135000.0,60000.0,85000.0,14400.0,55596.0,101000.0,79536.0,77954.0,48000.0,70399.0,60000.0,60350.0,60000.0,60000.0,74000.0,61000.0,18000.0,50000.0,38004.0,60000.0,54996.0,66300.0,67200.0,48279.0,115000.0,187000.0,125000.0,116004.0,65000.0,62903.0,73000.0,90000.0,33000.0,102211.0,39000.0,185000.0,47000.0,35496.0,74000.0,85000.0,64000.0,35000.0,80000.0,47000.0,76250.0,48000.0,32000.0,64000.0,39000.0,27000.0,108000.0,38000.0,43000.0,29000.0,120000.0,78500.0,34200.0,102400.0,60400.0,31800.0,83600.0,29400.0,34000.0,70000.0,65004.0,96000.0,44400.0,74000.0,75000.0,60000.0,39000.0,27252.0,34200.0,31000.0,94000.0,66000.0,148000.0,54996.0,69996.0,40000.0,19200.0,140000.0,48700.0,120000.0,31692.0,120000.0,20000.0,186996.0,75000.0,40000.0,59000.0,50000.0,42000.0,30000.0,27600.0,31200.0,35000.0,46000.0,48000.0,90000.0,77705.0,76500.0,108000.0,102500.0,65000.0,85000.0,100000.0,61800.0,35000.0,110000.0,40000.0,73500.0,65000.0,14400.0,34404.0,38000.0,81600.0,51000.0,55500.0,84000.0,85000.0,74000.0,225000.0,31875.0,66500.0,45996.0,29000.0,120000.0,228000.0,60000.0,39000.0,25000.0,54000.0,70000.0,35000.0,39996.0,62000.0,85000.0,65000.0,28000.0,90000.0,47000.0,36000.0,110000.0,52000.0,25000.0,77000.0,62500.0,60000.0,39000.0,57300.0,59000.0,78100.0,77000.0,61500.0,74000.0,93900.0,118000.0,54000.0,24996.0,110000.0,42000.0,78000.0,40000.0,55365.0,120000.0,105000.0,101000.0,102000.0,72150.0,23004.0,64000.0,78000.0,115000.0,111280.0,66000.0,49000.0,67200.0,57000.0,35256.0,36000.0,67000.0,74100.0,24000.0,108000.0,61584.0,68000.0,55000.0,36000.0,138550.0,75000.0,39000.0,50000.0,70000.0,69000.0,85000.0,61650.0,42000.0,100000.0,57000.0,47000.0,70000.0,89532.0,61200.0,55800.0,44400.0,65000.0,95000.0,198000.0,123144.0,50000.0,68000.0,51000.0,33996.0,37000.0,15600.0,103000.0,100000.0,36000.0,52020.0,74000.0,54000.0,39300.0,18000.0,31000.0,75000.0,43288.0,54000.0,72000.0,20000.0,150000.0,49000.0,60000.0,54000.0,110000.0,65000.0,78996.0,63000.0,102000.0,49000.0,54000.0,30000.0,49000.0,40000.0,17400.0,60000.0,55000.0,60000.0,35000.0,66000.0,90000.0,84000.0,72000.0,69000.0,76248.0,178000.0,50000.0,85155.0,18996.0,69000.0,35000.0,75000.0,76000.0,75000.0,53712.0,47000.0,59000.0,64000.0,72000.0,67000.0,44000.0,75000.0,120000.0,41196.0,70000.0,59004.0,36000.0,38250.0,88668.0,27040.0,41000.0,52000.0,87000.0,48000.0,85000.0,50000.0,100000.0,33996.0,47000.0,17544.0,100000.0,65000.0,16000.0,24996.0,51400.0,69000.0,45000.0,45000.0,25000.0,28000.0,85000.0,67500.0,100000.0,76000.0,56000.0,27000.0,30000.0,58600.0,48000.0,48645.0,63000.0,105999.0,28590.0,70000.0,86250.0,48000.0,34000.0,35000.0,120000.0,100000.0,108000.0,24000.0,48000.0,47340.0,120000.0,148750.0,20000.0,54600.0,73004.0,26000.0,45000.0,40000.0,28872.0,150000.0,112000.0,77800.0,75600.0,72000.0,77000.0,50000.0,24996.0,46000.0,80000.0,34000.0,13440.0,65000.0,47500.0,62400.0,112921.0,130000.0,60000.0,46000.0,47000.0,45000.0,45000.0,48000.0,70000.0,45000.0,130000.0,48000.0,120000.0,46704.0,85000.0,40000.0,62500.0,50000.0,36000.0,83000.0,56004.0,120000.0,26004.0,32000.0,85000.0,50000.0,61766.0,51000.0,26000.0,63834.0,21600.0,53000.0,16000.0,64424.0,54000.0,76248.0,74000.0,29238.0,52000.0,24000.0,65000.0,58000.0,27996.0,103000.0,94000.0,100000.0,39000.0,60000.0,53004.0,80000.0,40000.0,140000.0,136000.0,68000.0,115200.0,92000.0,85500.0,60000.0,69000.0,37000.0,45000.0,94104.0,62000.0,34000.0,32760.0,33000.0,54996.0,132000.0,112000.0,75000.0,48000.0,61900.0,45000.0,33500.0,40000.0,28000.0,57996.0,26400.0,61260.0,95000.0,38272.0,45000.0,75600.0,89772.0,89004.0,35000.0,75000.0,67700.0,58000.0,61000.0,75000.0,81120.0,51500.0,40000.0,37440.0,42000.0,112000.0,80004.0,108800.0,42000.0,28000.0,51000.0,42000.0,60000.0,41000.0,24000.0,46464.0,84000.0,49200.0,65000.0,153000.0,38000.0,58000.0,44000.0,47004.0,71000.0,300000.0,42756.0,82000.0,80400.0,105000.0,42000.0,285000.0,52728.0,54000.0,48000.0,68000.0,75000.0,167300.0,62400.0,45000.0,75000.0,32400.0,40000.0,40800.0,142000.0,103000.0,70000.0,100000.0,19500.0,32760.0,30000.0,51996.0,100000.0,72000.0,24000.0,56000.0,70000.0,58000.0,31200.0,143000.0,120000.0,51000.0,68000.0,24000.0,97000.0,83820.0,135000.0,42870.0,50000.0,15000.0,48000.0,52000.0,44500.0,50000.0,50000.0,19000.0,66000.0,47000.0,60000.0,55000.0,65450.0,50004.0,63996.0,90000.0,34000.0,70200.0,24000.0,70000.0,33000.0,39000.0,20000.0,60000.0,106358.0,15120.0,36000.0,35000.0,53000.0,61200.0,46000.0,84000.0,81000.0,58000.0,143000.0,14800.0,55000.0,41000.0,50000.0,31000.0,31000.0,40000.0,51000.0,85000.0,56004.0,26000.0,38400.0,15000.0,50000.0,74400.0,51000.0,90000.0,45000.0,50000.0,66480.0,57600.0,148000.0,237000.0,60000.0,75000.0,48000.0,36000.0,38000.0,83886.0,105000.0,25200.0,160000.0,42000.0,28800.0,21600.0,71000.0,90000.0,76000.0,120000.0,93000.0,121000.0,40000.0,75000.0,128000.0,83000.0,15600.0,60000.0,84000.0,43000.0,75000.0,28000.0,95000.0,60000.0,90000.0,75000.0,21600.0,35000.0,46080.0,80000.0,75000.0,36708.0,34000.0,20000.0,93000.0,26400.0,48000.0,37700.0,160000.0,74000.0,75000.0,114500.0,97000.0,72000.0,47230.0,62472.0,29760.0,37000.0,180000.0,29952.0,69790.0,62400.0,79000.0,19200.0,35000.0,44964.0,29100.0,46000.0,63000.0,60000.0,500000.0,77508.0,70000.0,41520.0,61781.0,95000.0,75000.0,39000.0,90000.0,45000.0,50000.0,67476.0,78000.0,49000.0,72000.0,59448.0,112000.0,54120.0,84000.0,65000.0,20400.0,44604.0,36153.0,40000.0,29280.0,84000.0,17520.0,48996.0,75000.0,60000.0,90000.0,36000.0,21600.0,65000.0,84000.0,168000.0,69996.0,56500.0,34995.0,75000.0,53549.0,70000.0,40800.0,50000.0,30000.0,80000.0,61200.0,57000.0,81000.0,60000.0,24000.0,52500.0,36000.0,59020.0,84000.0,50800.0,80000.0,24500.0,43000.0,700000.0,225000.0,25000.0,36000.0,35568.0,103000.0,65400.0,54000.0,119000.0,135000.0,43000.0,52000.0,145656.0,60000.0,55500.0,65000.0,64800.0,40000.0,72000.0,114000.0,108800.0,23587.0,62004.0,85000.0,45000.0,44000.0,50000.0,89000.0,14400.0,67000.0,42500.0,80000.0,139016.0,30000.0,145000.0,33500.0,71000.0,44004.0,59000.0,68000.0,48000.0,55000.0,66800.0,47000.0,23040.0,19000.0,40000.0,36000.0,73000.0,35000.0,117000.0,51150.0,68004.0,60000.0,61440.0,47000.0,65000.0,96300.0,55000.0,48000.0,12480.0,42000.0,27000.0,27600.0,116700.0,65000.0,79000.0,150000.0,45000.0,40113.0,47256.0,200000.0,70000.0,48000.0,120000.0,12000.0,201000.0,72000.0,78000.0,74346.0,42000.0,37000.0,37000.0,33996.0,72000.0,63000.0,31000.0,68000.0,120000.0,103000.0,37000.0,85000.0,29120.0,16000.0,54000.0,30000.0,36000.0,79000.0,90000.0,35000.0,78000.0,72000.0,25200.0,75000.0,42000.0,33000.0,175000.0,99000.0,48396.0,70000.0,100000.0,111000.0,21340.0,40000.0,52500.0,61498.0,59000.0,91800.0,41000.0,85000.0,60000.0,50000.0,106000.0,98800.0,82000.0,25000.0,45996.0,81120.0,70000.0,39900.0,52700.0,100000.0,20664.0,100000.0,31200.0,120000.0,78000.0,50760.0,73000.0,55000.0,33996.0,70000.0,148080.0,43000.0,32160.0,56000.0,35000.0,86500.0,36000.0,258000.0,54000.0,12360.0,170000.0,27996.0,34320.0,41000.0,25000.0,215000.0,40000.0,84400.0,45000.0,70000.0,57000.0,120000.0,78000.0,60000.0,60000.0,61000.0,131040.0,100000.0,130000.0,85000.0,52000.0,28500.0,60000.0,18000.0,34000.0,50004.0,120000.0,32769.0,33000.0,40000.0,42000.0,52000.0,88200.0,104800.0,72000.0,104000.0,63996.0,78413.0,50760.0,30000.0,60000.0,45000.0,40000.0,25000.0,42000.0,67422.0,47500.0,80000.0,128165.0,45516.0,58500.0,88000.0,95004.0,48564.0,95000.0,15000.0,45000.0,43000.0,33996.0,170000.0,105000.0,27000.0,51000.0,40900.0,80000.0,42000.0,60000.0,23004.0,39500.0,55000.0,45000.0,44000.0,69000.0,71000.0,51996.0,48000.0,55000.0,80400.0,121000.0,44000.0,31200.0,42000.0,59000.0,65000.0,45000.0,76268.0,123000.0,26400.0,112732.0,120000.0,36000.0,61848.0,60000.0,53000.0,371000.0,69600.0,30016.0,44400.0,33600.0,41000.0,82500.0,114000.0,56000.0,89000.0,65000.0,67000.0,66143.0,34000.0,110000.0,78000.0,60000.0,86400.0,49000.0,60000.0,60000.0,180000.0,50000.0,40000.0,70000.0,41000.0,99085.0,65000.0,86000.0,115000.0,63000.0,81600.0,53000.0,100000.0,103992.0,100000.0,42000.0,54000.0,70000.0,30000.0,22000.0,67000.0,60000.0,100000.0,35000.0,39000.0,44307.0,21000.0,58000.0,59600.0,72000.0,40000.0,36000.0,32000.0,50000.0,41500.0,100000.0,38001.0,56000.0,55000.0,15000.0,35004.0,28900.0,74029.0,35000.0,136000.0,70000.0,50000.0,43000.0,29004.0,30000.0,34000.0,62400.0,48996.0,119000.0,120000.0,93600.0,125000.0,100580.0,18000.0,45000.0,99800.0,40000.0,79000.0,80000.0,65004.0,124080.0,40800.0,69000.0,38400.0,100000.0,36000.0,36000.0,70000.0,37200.0,24000.0,30000.0,87000.0,90000.0,110000.0,38400.0,80000.0,44390.0,28000.0,60000.0,70000.0,30000.0,102500.0,36000.0,119000.0,106000.0,41600.0,40000.0,77964.0,32004.0,55000.0,74000.0,147884.0,14400.0,49000.0,67500.0,42000.0,36140.0,72000.0,56000.0,59004.0,107473.0,45999.0,150000.0,38896.0,55000.0,70000.0,62000.0,38450.0,93000.0,25000.0,186000.0,53196.0,75000.0,25000.0,84000.0,51000.0,45500.0,13000.0,30000.0,52000.0,120000.0,44004.0,120000.0,72000.0,49000.0,96000.0,128000.0,53000.0,60000.0,70000.0,48000.0,96000.0,20800.0,325550.0,125000.0,33000.0,38400.0,75000.0,60000.0,64000.0,38000.0,33996.0,39996.0,59000.0,46152.0,70000.0,92000.0,88000.0,83000.0,27996.0,63000.0,60000.0,45000.0,60775.0,95000.0,52880.0,37000.0,65000.0,35000.0,52000.0,225000.0,90000.0,34800.0,45996.0,67000.0,12000.0,22000.0,25000.0,34800.0,38500.0,44000.0,48000.0,36000.0,100000.0,110000.0,75000.0,100000.0,84000.0,65000.0,45000.0,45000.0,33600.0,120000.0,34000.0,121000.0,39800.0,67524.0,41800.0,57996.0,34320.0,100000.0,99000.0,55200.0,57000.0,44000.0,65000.0,39000.0,36000.0,87000.0,260000.0,66500.0,74999.0,113000.0,52000.0,60000.0,65004.0,72000.0,25200.0,35000.0,39000.0,122000.0,44500.0,30600.0,102000.0,50000.0,55000.0,105000.0,120000.0,30000.0,85000.0,19500.0,75000.0,55605.0,33189.0,30000.0,65500.0,134748.0,102000.0,50000.0,50004.0,42000.0,50000.0,31500.0,30000.0,75000.0,54000.0,32000.0,54000.0,96000.0,27000.0,100000.0,24000.0,48996.0,24000.0,30000.0,160000.0,100000.0,96000.0,35000.0,100000.0,70000.0,62000.0,83500.0,58200.0,37000.0,38000.0,38000.0,42000.0,85332.0,50000.0,9000.0,71496.0,57996.0,26208.0,106000.0,76000.0,50000.0,38400.0,125000.0,45000.0,48000.0,38004.0,54500.0,24000.0,71046.0,110000.0,65000.0,34980.0,70000.0,50000.0,55000.0,75600.0,300000.0,85000.0,28800.0,80000.0,75000.0,115000.0,65000.0,70000.0,69000.0,233000.0,55200.0,145000.0,24000.0,22004.0,76000.0,119000.0,40906.0,25000.0,57500.0,44000.0,132000.0,50000.0,50000.0,54000.0,76300.0,130000.0,30000.0,57000.0,41000.0,103000.0,69000.0,80000.0,60000.0,200000.0,76000.0,65004.0,56004.0,97000.0,30000.0,85000.0,54499.0,40000.0,76000.0,85000.0,77000.0,72000.0,7200.0,100000.0,50500.0,126000.0,34000.0,38000.0,95000.0,35004.0,160000.0,20000.0,27000.0,67147.0,108000.0,45000.0,75000.0,42230.0,24000.0,115000.0,95000.0,70000.0,81000.0,25000.0,50000.0,85000.0,65000.0,80490.0,36000.0,85000.0,48000.0,71400.0,43200.0,41000.0,41000.0,300000.0,71520.0,73000.0,90000.0,94000.0,59000.0,35000.0,60000.0,51504.0,28800.0,57000.0,12120.0,140000.0,55000.0,70000.0,84000.0,81000.0,78708.0,125000.0,100000.0,30500.0,30000.0,55000.0,108600.0,61200.0,74000.0,78000.0,64000.0,46296.0,80000.0,51300.0,91800.0,72500.0,56100.0,69000.0,52000.0,59800.0,60000.0,57000.0,64000.0,25000.0,72000.0,25000.0,30000.0,44000.0,74000.0,66996.0,50000.0,49500.0,63000.0,50000.0,75000.0,50460.0,62352.0,30000.0,65000.0,50000.0,72000.0,54000.0,36000.0,65000.0,38400.0,10000.0,48000.0,24000.0,39996.0,33000.0,168000.0,41000.0,48000.0,49000.0,67000.0,25000.0,42000.0,120000.0,53800.0,29004.0,61000.0,45000.0,65700.0,18000.0,71000.0,36000.0,115275.0,180000.0,35000.0,72345.0,75000.0,80000.0,117000.0,48000.0,60000.0,99996.0,62400.0,119000.0,100000.0,24000.0,36000.0,56000.0,77000.0,91000.0,53000.0,72000.0,87278.0,75000.0,67500.0,34000.0,32800.0,62900.0,76000.0,85000.0,43200.0,34300.0,27024.0,102000.0,108000.0,26500.0,32400.0,14400.0,100000.0,25000.0,128000.0,52000.0,54000.0,40000.0,109000.0,40000.0,93000.0,80000.0,57175.0,48000.0,20400.0,37200.0,118075.0,64197.0,20000.0,80000.0,68004.0,186000.0,22240.0,68250.0,30000.0,65000.0,60000.0,50000.0,51996.0,72800.0,115000.0,33600.0,99000.0,62000.0,66847.0,52000.0,50000.0,35000.0,32500.0,94000.0,33000.0,75000.0,87999.0,32000.0,86000.0,45000.0,39336.0,54000.0,14000.0,30000.0,50000.0,19000.0,25920.0,50000.0,65000.0,51420.0,133000.0,261800.0,73000.0,125000.0,30288.0,56000.0,60000.0,26400.0,130000.0,44000.0,26400.0,900000.0,70000.0,51996.0,78000.0,32000.0,9600.0,96000.0,102000.0,66000.0,57996.0,34000.0,56650.0,25000.0,79440.0,100000.0,60000.0,85000.0,71000.0,70000.0,95000.0,84000.0,74000.0,53000.0,30000.0,37500.0,260000.0,31200.0,35000.0,105500.0,170000.0,24000.0,48000.0,36000.0,46000.0,90000.0,98000.0,32968.0,55000.0,62500.0,115000.0,15600.0,43000.0,110000.0,90000.0,125000.0,53000.0,45000.0,34200.0,41979.0,60626.0,63600.0,16000.0,38004.0,38400.0,44991.0,40000.0,45000.0,76200.0,99996.0,45600.0,33000.0,72500.0,153660.0,38000.0,81000.0,94400.0,74400.0,49000.0,98000.0,24000.0,96000.0,165000.0,42500.0,38496.0,210000.0,42000.0,79992.0,29000.0,68000.0,56000.0,100000.0,54600.0,45000.0,40000.0,59650.0,52000.0,34000.0,77625.0,26000.0,66000.0,70560.0,55000.0,99996.0,54870.0,90000.0,160000.0,75000.0,97583.0,73000.0,300000.0,39396.0,120000.0,75000.0,12000.0,83000.0,85000.0,95000.0,69500.0,44000.0,144000.0,52000.0,83000.0,54000.0,48000.0,56000.0,60000.0,120000.0,82000.0,33000.0,64000.0,83000.0,75000.0,24000.0,25000.0,94800.0,223000.0,42000.0,52992.0,183000.0,14400.0,48000.0,75000.0,100000.0,24000.0,45500.0,69000.0,55000.0,49500.0,110000.0,16800.0,36000.0,50000.0,60000.0,43200.0,67000.0,50004.0,51600.0,58000.0,92000.0,45000.0,19200.0,70000.0,84000.0,20004.0,52000.0,66100.0,85000.0,42682.0,21000.0,30000.0,63000.0,74600.0,75800.0,60000.0,21600.0,30000.0,120000.0,65000.0,120000.0,30000.0,86000.0,50000.0,61000.0,60000.0,54500.0,26400.0,57600.0,31200.0,45000.0,96000.0,34800.0,66614.0,42000.0,48000.0,90000.0,32878.0,66000.0,43000.0,69000.0,40000.0,14400.0,64000.0,18000.0,132132.0,65000.0,36000.0,110000.0,85000.0,62400.0,90000.0,90000.0,29000.0,32500.0,54000.0,75000.0,67450.0,30000.0,42000.0,30000.0,50000.0,78111.0,47200.0,116000.0,46000.0,88000.0,74360.0,31000.0,92000.0,18000.0,30000.0,22452.0,63000.0,66000.0,64260.0,54000.0,58000.0,87000.0,47000.0,128000.0,22356.0,45000.0,66000.0,49000.0,62000.0,21000.0,30996.0,54000.0,48000.0,32698.0,80004.0,63000.0,84000.0,78000.0,59000.0,90000.0,50100.0,100000.0,74000.0,72000.0,96000.0,45000.0,95000.0,35000.0,80171.0,90000.0,37000.0,33600.0,130104.0,39000.0,66504.0,54000.0,68400.0,60000.0,70000.0,50200.0,19200.0,35325.0,70000.0,57200.0,140000.0,75000.0,165000.0,30000.0,92000.0,40000.0,137000.0,38000.0,60000.0,27000.0,24000.0,95000.0,36000.0,30000.0,150000.0,40000.0,58000.0,60000.0,62962.0,45996.0,44000.0,100000.0,75000.0,73000.0,150000.0,235000.0,80000.0,410000.0,42000.0,77000.0,50000.0,30000.0,59000.0,54000.0,36000.0,38000.0,70000.0,79000.0,52000.0,75000.0,66000.0,42000.0,50000.0,70000.0,36000.0,38000.0,54996.0,60000.0,56100.0,110000.0,33000.0,15996.0,150000.0,70000.0,120000.0,39000.0,52000.0,105000.0,101400.0,80000.0,91000.0,132640.0,32000.0,100000.0,36000.0,75000.0,160000.0,48000.0,65499.0,30000.0,26000.0,60000.0,59000.0,65000.0,51492.0,31404.0,80000.0,53000.0,144000.0,65000.0,27012.0,28000.0,36000.0,39996.0,36000.0,50000.0,30000.0,146000.0,45000.0,40000.0,31200.0,90000.0,36156.0,73000.0,44000.0,30000.0,75000.0,28080.0,60000.0,52000.0,75000.0,98000.0,126000.0,30000.0,79100.0,66887.0,195000.0,89000.0,45000.0,258000.0,42000.0,70000.0,76000.0,113000.0,118000.0,30000.0,76500.0,188000.0,72000.0,80000.0,64000.0,35500.0,46500.0,66000.0,60000.0,30892.0,41000.0,37000.0,24000.0,74000.0,110000.0,63996.0,29000.0,43200.0,188004.0,75000.0,64000.0,90888.0,200004.0,61400.0,115000.0,77000.0,33600.0,35000.0,80000.0,120000.0,15600.0,54080.0,37000.0,50000.0,25000.0,80004.0,86000.0,221850.0,35000.0,78996.0,78096.0,26000.0,48000.0,171194.0,20000.0,50000.0,45000.0,51000.0,69996.0,64600.0,33000.0,50000.0,30000.0,30720.0,43500.0,26300.0,84000.0,39996.0,66000.0,42000.0,32000.0,80000.0,200000.0,54000.0,33000.0,65000.0,58800.0,86000.0,30000.0,89520.0,153000.0,38400.0,50000.0,28800.0,50016.0,42000.0,50000.0,102000.0,72000.0,50000.0,150000.0,34000.0,69000.0,69950.0,36396.0,67000.0,73000.0,100000.0,24996.0,44000.0,46000.0,32000.0,75000.0,51000.0,22200.0,54996.0,227500.0,62500.0,50000.0,34000.0,56000.0,116000.0,43500.0,80400.0,50000.0,95000.0,60000.0,60000.0,44000.0,45000.0,80000.0,99996.0,108000.0,30000.0,63000.0,30000.0,138000.0,81000.0,158000.0,125000.0,60000.0,79000.0,100000.0,50000.0,78000.0,112200.0,97000.0,29000.0,26000.0,36538.0,69000.0,23587.0,70000.0,60000.0,47900.0,80196.0,55000.0,54000.0,109000.0,100000.0,90000.0,49161.0,24000.0,54080.0,30000.0,60000.0,95000.0,44000.0,102000.0,33600.0,133000.0,29004.0,78000.0,100000.0,129600.0,117500.0,42000.0,10000.0,59004.0,216000.0,70000.0,28000.0,123000.0,93000.0,45000.0,25000.0,47000.0,102213.0,30000.0,100000.0,40100.0,24000.0,52700.0,70000.0,65004.0,30000.0,33004.0,54000.0,41004.0,145000.0,44000.0,48000.0,62500.0,38000.0,72000.0,94000.0,65000.0,74880.0,94200.0,80000.0,39000.0,43500.0,96000.0,54000.0,110000.0,200000.0,40000.0,135000.0,27600.0,45000.0,83000.0,95000.0,120000.0,35000.0,62000.0,87292.0,60000.0,106000.0,100000.0,40000.0,70000.0,69360.0,70000.0,32198.0,59000.0,67500.0,45000.0,48000.0,42500.0,110000.0,90000.0,65000.0,63600.0,36000.0,44000.0,50000.0,80952.0,42000.0,35000.0,160000.0,60000.0,37000.0,63719.0,33772.0,41000.0,52000.0,15996.0,18000.0,33000.0,390000.0,37000.0,30500.0,160000.0,86250.0,63200.0,25000.0,61959.0,34000.0,40000.0,38400.0,66000.0,33280.0,39000.0,75000.0,36250.0,50000.0,96300.0,49000.0,85000.0,30000.0,16107.0,97192.0,50750.0,50000.0,95004.0,90000.0,40000.0,75000.0,73000.0,40000.0,198000.0,63000.0,43300.0,100000.0,60000.0,123000.0,47300.0,50000.0,54000.0,59000.0,31500.0,35000.0,83000.0,61000.0,60000.0,66000.0,78000.0,54000.0,73000.0,32000.0,150000.0,88000.0,90000.0,50400.0,98400.0,22000.0,65000.0,45000.0,62000.0,70000.0,49901.0,122000.0,90000.0,14400.0,49278.0,55000.0,22000.0,30000.0,54566.0,94000.0,25920.0,56400.0,62000.0,50725.0,79700.0,54996.0,52000.0,60000.0,102000.0,47000.0,60000.0,30000.0,100000.0,44094.0,73000.0,60000.0,68000.0,5500.0,55000.0,60000.0,82000.0,63000.0,29654.0,56000.0,40000.0,49200.0,33012.0,21000.0,45996.0,55000.0,34900.0,31200.0,54099.0,110000.0,66000.0,56950.0,52800.0,30000.0,110000.0,114000.0,71000.0,51000.0,32500.0,39000.0,60000.0,129996.0,22000.0,24000.0,30000.0,105859.0,102540.0,99600.0,23004.0,88000.0,56100.0,90000.0,66000.0,41000.0,34515.0,50004.0,58650.0,54000.0,45756.0,46852.0,45000.0,30000.0,125000.0,38400.0,39000.0,30996.0,28000.0,62000.0,40000.0,36400.0,42000.0,115000.0,32956.0,81204.0,74900.0,31000.0,49571.0,41900.0,48300.0,68700.0,85000.0,75000.0,130000.0,30000.0,30069.0,40000.0,170000.0,45000.0,125004.0,66360.0,45000.0,31200.0,118374.0,35000.0,54996.0,50000.0,42000.0,25200.0,75000.0,110000.0,50000.0,32000.0,50000.0,52650.0,36000.0,79000.0,40000.0,35400.0,45000.0,30412.0,62100.0,30000.0,50000.0,35360.0,42000.0,20000.0,45840.0,103000.0,45000.0,36000.0,42000.0,50004.0,53616.0,22000.0,31200.0,30000.0,45000.0,43000.0,88500.0,54000.0,48000.0,307000.0,70200.0,101424.0,42000.0,108000.0,72400.0,130000.0,44000.0,78000.0,35280.0,29100.0,28404.0,70000.0,60000.0,35000.0,44600.0,74700.0,65000.0,52000.0,60000.0,50000.0,51000.0,24000.0,110000.0,30000.0,58075.0,120000.0,48000.0,49600.0,129700.0,63000.0,38000.0,40560.0,68508.0,62000.0,60000.0,26400.0,50049.0,168000.0,110000.0,40000.0,156000.0,74000.0,71000.0,90000.0,35000.0,52000.0,60000.0,53000.0,39996.0,53500.0,83000.0,145000.0,59000.0,35000.0,118000.0,39325.0,98000.0,44000.0,58000.0,52000.0,40000.0,60000.0,60000.0,57800.0,34000.0,78000.0,62000.0,35000.0,56004.0,52000.0,51000.0,65004.0,61776.0,31200.0,68004.0,30000.0,48600.0,110000.0,90000.0,84000.0,29000.0,230004.0,41000.0,52000.0,58170.0,82000.0,43000.0,75000.0,40000.0,75000.0,78000.0,51000.0,24000.0,45000.0,45000.0,54996.0,66500.0,60000.0,54000.0,66996.0,83000.0,120000.0,65520.0,87000.0,115000.0,57312.0,47515.0,64000.0,54000.0,81000.0,54000.0,48000.0,31200.0,60000.0,80000.0,43000.0,73600.0,60000.0,35000.0,69000.0,66000.0,59000.0,32000.0,65000.0,110000.0,36000.0,70000.0,18000.0,40000.0,69000.0,33600.0,28000.0,30000.0,115000.0,50000.0,52000.0,27000.0,52400.0,65000.0,44700.0,54000.0,46500.0,60000.0,60000.0,37000.0,24000.0,96000.0,44000.0,62000.0,29780.0,50700.0,46000.0,55000.0,122004.0,45000.0,135000.0,115000.0,31000.0,48000.0,45100.0,48000.0,60000.0,60000.0,67440.0,65000.0,146000.0,43000.0,37000.0,69996.0,103000.0,38000.0,50000.0,45600.0,49000.0,80000.0,113698.0,150000.0,56000.0,65000.0,300000.0,52800.0,78000.0,50000.0,50000.0,24000.0,45000.0,86004.0,21888.0,85000.0,160000.0,45000.0,51000.0,140000.0,44500.0,52000.0,56000.0,70000.0,30000.0,68000.0,103832.0,48450.0,83004.0,100000.0,60000.0,67000.0,75000.0,34000.0,85200.0,25000.0,80004.0,32000.0,165000.0,72000.0,100000.0,58000.0,65000.0,52000.0,33600.0,50000.0,60000.0,76597.0,60000.0,25000.0,45000.0,87000.0,120000.0,27000.0,57500.0,185000.0,54000.0,85000.0,100000.0,36000.0,85000.0,174000.0,50000.0,110000.0,48000.0,36000.0,31500.0,34000.0,33316.0,80000.0,60000.0,60000.0,57600.0,50000.0,29700.0,42000.0,34977.0,71328.0,7500.0,68000.0,120000.0,21000.0,69000.0,45000.0,16120.0,40000.0,58000.0,69000.0,54000.0,36960.0,92000.0,24000.0,44000.0,19200.0,47000.0,175000.0,100815.0,80000.0,143000.0,75000.0,40000.0,63000.0,133000.0,62916.0,88596.0,30000.0,63177.0,60000.0,154000.0,35000.0,54000.0,77350.0,47000.0,113217.0,45000.0,45996.0,50004.0,45000.0,30000.0,52000.0,122000.0,36000.0,30000.0,35000.0,65000.0,38000.0,47000.0,42000.0,111000.0,73000.0,30000.0,30000.0,51996.0,98000.0,40000.0,30000.0,95000.0,97000.0,75000.0,26400.0,30000.0,71000.0,17280.0,53500.0,18000.0,42000.0,69000.0,34662.0,26400.0,115000.0,158000.0,80000.0,83004.0,60000.0,240000.0,80000.0,68000.0,69000.0,27600.0,103000.0,34000.0,84000.0,120000.0,75000.0,34000.0,42000.0,170000.0,37900.0,20000.0,44000.0,80000.0,30000.0,35000.0,32004.0,84000.0,40000.0,42000.0,29856.0,26000.0,42600.0,30000.0,60000.0,37500.0,28800.0,50500.0,37200.0,32000.0,80000.0,66000.0,60000.0,80000.0,72000.0,125004.0,90000.0,72000.0,84000.0,18000.0,22000.0,64800.0,52596.0,65454.0,65500.0,48500.0,112689.0,60000.0,22000.0,36000.0,43000.0,48000.0,79000.0,94965.0,79500.0,34000.0,31000.0,18000.0,36000.0,24000.0,52000.0,97000.0,102000.0,64000.0,33200.0,78000.0,58000.0,18000.0,55000.0,68000.0,55700.0,50000.0,60000.0,47800.0,50000.0,21000.0,67000.0,122000.0,45000.0,80000.0,113000.0,19200.0,79560.0,30600.0,29000.0,96000.0,92000.0,179000.0,32004.0,162000.0,49032.0,75000.0,33900.0,70000.0,57655.0,122000.0,53004.0,85000.0,80000.0,136000.0,37344.0,27600.0,127741.0,27996.0,42000.0,35000.0,55600.0,74800.0,51000.0,42000.0,48000.0,59000.0,38500.0,34040.0,65000.0,50000.0,50000.0,72000.0,27000.0,90000.0,50000.0,91000.0,120000.0,34000.0,36000.0,60000.0,74000.0,48000.0,66996.0,40000.0,42000.0,61000.0,37500.0,70000.0,55000.0,65000.0,45000.0,46151.0,80400.0,42000.0,54000.0,13200.0,69764.0,12000.0,54000.0,20400.0,51000.0,71000.0,48255.0,42000.0,20400.0,94000.0,95000.0,25200.0,100000.0,18000.0,150000.0,34000.0,30000.0,71000.0,100000.0,145000.0,40000.0,86000.0,50000.0,59363.0,62496.0,38400.0,30000.0,81120.0,88200.0,92000.0,190000.0,31200.0,44000.0,30000.0,110000.0,65000.0,40800.0,60000.0,18000.0,31200.0,84000.0,42000.0,62200.0,75000.0,22000.0,143375.0,39000.0,46000.0,27052.0,122500.0,102240.0,100000.0,47000.0,175000.0,52500.0,50000.0,82000.0,27000.0,37000.0,300000.0,39672.0,165000.0,56000.0,108000.0,80000.0,105000.0,70000.0,100000.0,34310.0,88000.0,115000.0,92000.0,125000.0,24996.0,70000.0,65000.0,29000.0,38000.0,31200.0,90000.0,45480.0,52692.0,34000.0,70000.0,27000.0,244000.0,88000.0,28000.0,55000.0,30000.0,37965.0,49000.0,33000.0,59000.0,82000.0,55000.0,27000.0,50000.0,55000.0,120000.0,91800.0,30000.0,75000.0,30000.0,220000.0,37740.0,50000.0,31224.0,85000.0,22000.0,27000.0,23000.0,58200.0,140004.0,200000.0,48000.0,114440.0,46610.0,64000.0,68000.0,144000.0,56136.0,55000.0,75000.0,123000.0,85000.0,36000.0,59506.0,100000.0,21340.0,54000.0,34000.0,1362000.0,145008.0,99000.0,42000.0,60000.0,100300.0,200000.0,54996.0,120000.0,55000.0,44004.0,82000.0,78200.0,41000.0,77250.0,42000.0,58650.0,85000.0,52800.0,95111.0,80400.0,40000.0,50000.0,70000.0,40000.0,76000.0,105000.0,43200.0,31200.0,49000.0,40000.0,26004.0,49800.0,52000.0,70500.0,69000.0,80000.0,30000.0,88000.0,40000.0,88824.0,39600.0,84000.0,44700.0,172000.0,636000.0,33600.0,15840.0,137000.0,49000.0,75000.0,31000.0,18460.0,60000.0,60000.0,82000.0,48000.0,32000.0,18000.0,24000.0,50004.0,78000.0,26400.0,75000.0,92000.0,120000.0,122500.0,52000.0,100000.0,64049.0,133000.0,90000.0,110000.0,41000.0,32400.0,40000.0,70000.0,55000.0,92000.0,120000.0,39996.0,65000.0,125000.0,115000.0,65000.0,71000.0,70000.0,105000.0,63000.0,65000.0,21000.0,65004.0,80000.0,38200.0,45000.0,88824.0,57000.0,130000.0,59000.0,48000.0,39600.0,54996.0,200000.0,53000.0,43000.0,60000.0,49000.0,29962.0,160000.0,50000.0,116899.0,123000.0,21600.0,306000.0,39000.0,36000.0,32000.0,66560.0,42108.0,80000.0,58000.0,40000.0,18000.0,85000.0,125000.0,39240.0,96000.0,45000.0,35000.0,78700.0,29000.0,102000.0,59600.0,60000.0,37000.0,55488.0,70000.0,38000.0,57000.0,52000.0,91992.0,99996.0,29000.0,101000.0,40000.0,42000.0,33996.0,70000.0,18500.0,38500.0,38000.0,54000.0,190000.0,104550.0,70032.0,60000.0,138000.0,48000.0,40020.0,29406.0,47300.0,24000.0,80000.0,40800.0,54600.0,140000.0,60000.0,66300.0,50000.0,36500.0,65000.0,58000.0,50004.0,39996.0,65000.0,118000.0,42600.0,56400.0,73185.0,33000.0,65000.0,96000.0,73200.0,53808.0,55000.0,69935.0,75000.0,39600.0,52000.0,42000.0,22880.0,140000.0,80000.0,30000.0,36000.0,90000.0,60000.0,70572.0,53000.0,60000.0,30000.0,49700.0,60350.0,38000.0,45000.0,30000.0,71400.0,41000.0,56525.0,45000.0,85000.0,52000.0,60000.0,132000.0,95000.0,130000.0,37000.0,66000.0,87000.0,44000.0,102000.0,45000.0,83000.0,210000.0,140000.0,52739.0,45500.0,53000.0,19632.0,95000.0,29736.0,36000.0,25000.0,24000.0,55000.0,52000.0,100000.0,66396.0,54000.0,26400.0,45000.0,51000.0,20400.0,24000.0,47000.0,95000.0,56000.0,250000.0,51000.0,54000.0,13000.0,24000.0,49000.0,106000.0,28800.0,94500.0,37200.0,54000.0,55160.0,70000.0,106000.0,100000.0,40934.0,35000.0,108717.0,36000.0,40000.0,14400.0,55000.0,200000.0,120000.0,58000.0,115000.0,75000.0,29000.0,32200.0,56000.0,40000.0,98000.0,65000.0,110000.0,44000.0,79000.0,46560.0,30000.0,78000.0,27500.0,98000.0,90000.0,32640.0,135000.0,54000.0,59000.0,40000.0,67596.0,105000.0,36000.0,72000.0,29000.0,114000.0,63000.0,160000.0,32000.0,33504.0,45900.0,20928.0,50000.0,36000.0,20000.0,204000.0,77000.0,66300.0,79500.0,125000.0,70000.0,19200.0,96050.0,45843.0,231252.0,43000.0,185000.0,129996.0,40000.0,71000.0,65000.0,36000.0,32000.0,40000.0,150000.0,45432.0,24000.0,350000.0,36000.0,65000.0,78700.0,51000.0,56000.0,27600.0,87000.0,48000.0,66000.0,90000.0,80000.0,39000.0,41000.0,35000.0,90000.0,90000.0,70176.0,70000.0,93000.0,500000.0,17108.0,57000.0,82000.0,95000.0,51600.0,65000.0,95000.0,111000.0,28500.0,228000.0,114000.0,54000.0,130000.0,49000.0,28114.0,41004.0,54288.0,83004.0,37000.0,83203.0,105000.0,60000.0,44000.0,42000.0,58650.0,39432.0,105000.0,72000.0,26000.0,65412.0,110000.0,136112.0,35000.0,50500.0,30000.0,68000.0,28000.0,74000.0,75000.0,108000.0,131400.0,75996.0,24000.0,98518.0,42000.0,50000.0,55200.0,43495.0,49872.0,41000.0,59000.0,95000.0,75000.0,110000.0,39200.0,50055.0,125000.0,61100.0,50000.0,28800.0,45000.0,15000.0,130000.0,36000.0,85500.0,60000.0,44000.0,45000.0,32000.0,71400.0,32000.0,55000.0,95000.0,34000.0,27000.0,90000.0,30000.0,65544.0,65000.0,20400.0,35360.0,58650.0,60000.0,35000.0,78000.0,109200.0,14400.0,23000.0,65000.0,90000.0,98000.0,58868.0,70000.0,68400.0,81600.0,110004.0,50000.0,75000.0,54000.0,94940.0,101500.0,71004.0,53000.0,40500.0,42000.0,51600.0,120000.0,60996.0,60000.0,12000.0,52800.0,26400.0,72000.0,24000.0,78000.0,63000.0,58000.0,60000.0,42000.0,96000.0,45000.0,94000.0,60000.0,49000.0,27880.0,40000.0,38400.0,58000.0,75000.0,55200.0,49000.0,24000.0,95000.0,50000.0,63000.0,55000.0,50000.0,60000.0,49668.0,71000.0,48600.0,29865.0,34500.0,69000.0,35000.0,75000.0,74000.0,21000.0,74628.0,53004.0,70800.0,75000.0,118000.0,45000.0,78000.0,13000.0,57600.0,12000.0,91800.0,52160.0,66420.0,54000.0,51000.0,62900.0,200000.0,132000.0,36000.0,47133.0,70550.0,34200.0,42000.0,65000.0,36000.0,81000.0,62000.0,40000.0,180000.0,44000.0,48000.0,110000.0,40000.0,48000.0,100000.0,68000.0,37392.0,120000.0,68000.0,87000.0,20000.0,30000.0,150000.0,42000.0,90000.0,42240.0,21996.0,76000.0,62000.0,20800.0,54000.0,130000.0,140000.0,52000.0,30000.0,29112.0,78000.0,36000.0,70000.0,65000.0,36000.0,78000.0,18720.0,26000.0,56000.0,80000.0,120775.0,45000.0,44000.0,80000.0,83000.0,110000.0,55000.0,57996.0,50000.0,95000.0,24000.0,40000.0,30000.0,33360.0,59000.0,70000.0,16800.0,88000.0,48000.0,160000.0,23000.0,112976.0,32400.0,40000.0,58000.0,137000.0,115000.0,45000.0,65000.0,32004.0,24000.0,50000.0,115900.0,44000.0,37000.0,62000.0,96000.0,38000.0,65000.0,63000.0,19136.0,120000.0,150000.0,29000.0,35000.0,50000.0,78000.0,34000.0,55400.0,78720.0,96000.0,26400.0,75000.0,61200.0,10000.0,38400.0,38000.0,50000.0,14400.0,75000.0,53532.0,45000.0,52000.0,55000.0,31000.0,42000.0,63250.0,68000.0,97000.0,72000.0,125000.0,65000.0,62000.0,44500.0,70000.0,67000.0,63000.0,12996.0,35000.0,57996.0,36000.0,44000.0,40000.0,175000.0,84998.0,70224.0,55000.0,50000.0,205000.0,38760.0,19896.0,25200.0,58650.0,75000.0,48000.0,43000.0,43000.0,52000.0,39000.0,18700.0,56000.0,72500.0,71000.0,34000.0,48000.0,54000.0,57600.0,60500.0,136000.0,87000.0,65000.0,48192.0,91000.0,81120.0,24856.0,57000.0,36000.0,189000.0,48000.0,29500.0,70000.0,60000.0,13806.0,49000.0,47004.0,174000.0,33000.0,42000.0,65900.0,95000.0,55000.0,130000.0,27360.0,36000.0,69000.0,78000.0,67000.0,26000.0,50000.0,70560.0,75000.0,70000.0,54000.0,90000.0,36000.0,33000.0,39000.0,73000.0,90000.0,91000.0,165000.0,85000.0,84996.0,46140.0,45000.0,52000.0,77000.0,90000.0,45000.0,180000.0,100000.0,170000.0,37000.0,128500.0,84000.0,80000.0,50000.0,32496.0,30000.0,185000.0,107004.0,58000.0,45000.0,76500.0,16800.0,74984.0,22680.0,92000.0,50252.0,39000.0,83100.0,34800.0,35325.0,92004.0,30000.0,125000.0,86028.0,31200.0,40000.0,200000.0,74800.0,21312.0,112000.0,72000.0,63000.0,55000.0,180000.0,43200.0,82000.0,69996.0,120000.0,54400.0,26000.0,21600.0,63600.0,54000.0,37423.0,120000.0,60000.0,27036.0,24000.0,105000.0,48000.0,85000.0,35004.0,61000.0,36000.0,60000.0,32000.0,31008.0,57400.0,50500.0,59400.0,42000.0,21000.0,234000.0,80400.0,25344.0,54000.0,43200.0,64000.0,72000.0,35000.0,51000.0,150000.0,22600.0,76200.0,58000.0,24960.0,58000.0,36500.0,49000.0,36000.0,44160.0,16000.0,55800.0,45600.0,60000.0,29040.0,105996.0,48000.0,125000.0,42000.0,75000.0,78000.0,94773.0,140000.0,65000.0,36000.0,90000.0,54860.0,71201.0,130000.0,63000.0,148000.0,19200.0,48000.0,500000.0,381450.0,27031.0,31000.0,13000.0,65000.0,109720.0,92000.0,70000.0,90000.0,37000.0,24000.0,43000.0,159996.0,165000.0,148000.0,150000.0,15300.0,15000.0,37000.0,42000.0,125000.0,59000.0,170000.0,69528.0,90000.0,53000.0,125000.0,98400.0,38400.0,25000.0,50950.0,18000.0,16800.0,15360.0,52000.0,59000.0,46000.0,130000.0,91800.0,36000.0,84000.0,80700.0,42000.0,48000.0,78504.0,33280.0,120000.0,70000.0,30500.0,50000.0,80000.0,140000.0,39000.0,52000.0,54000.0,61000.0,40000.0,52000.0,65000.0,29000.0,39600.0,60000.0,42320.0,35500.0,94500.0,59520.0,90000.0,151000.0,31000.0,85000.0,75000.0,91000.0,83000.0,36000.0,93000.0,48000.0,65000.0,52000.0,130000.0,50000.0,83000.0,21000.0,28000.0,52000.0,134000.0,56000.0,50000.0,130000.0,60000.0,30000.0,155000.0,45000.0,108366.0,70000.0,55000.0,35000.0,40000.0,29000.0,50000.0,85000.0,40000.0,48000.0,51160.0,39000.0,59000.0,30000.0,31000.0,86000.0,32000.0,36400.0,76000.0,24000.0,65000.0,94000.0,83236.0,51600.0,91000.0,63000.0,48500.0,30000.0,30000.0,116400.0,36000.0,25000.0,55000.0,48000.0,24000.0,33600.0,37000.0,75000.0,62280.0,73000.0,60000.0,75000.0,60000.0,52800.0,65000.0,129996.0,92000.0,83800.0,64000.0,53000.0,39600.0,36000.0,77004.0,133900.0,46500.0,50000.0,66000.0,30000.0,120000.0,22000.0,102000.0,145124.0,57000.0,36000.0,43000.0,110000.0,137004.0,160000.0,80000.0,445000.0,110000.0,60000.0,67619.0,85000.0,85000.0,45996.0,81996.0,107000.0,65000.0,48000.0,24000.0,85000.0,64000.0,62050.0,110000.0,28800.0,110000.0,52000.0,52000.0,53408.0,85000.0,42000.0,60000.0,135000.0,86100.0,72960.0,25000.0,102552.0,50000.0,90000.0,45000.0,55000.0,114400.0,38000.0,51000.0,42000.0,35000.0,36000.0,19200.0,82000.0,21600.0,83000.0,50000.0,33280.0,40000.0,46000.0,88000.0,95000.0,63504.0,59300.0,38244.0,53000.0,40800.0,37000.0,62500.0,80300.0,97700.0,23000.0,55200.0,25500.0,35000.0,150000.0,26400.0,38000.0,104000.0,35000.0,30000.0,54000.0,36000.0,50400.0,45888.0,79500.0,80000.0,62400.0,122000.0,115000.0,24960.0,45000.0,76000.0,50004.0,85000.0,30000.0,48000.0,30000.0,94500.0,36000.0,130208.0,42000.0,75000.0,80208.0,173088.0,50000.0,55000.0,80000.0,80000.0,145000.0,45000.0,27600.0,67500.0,70000.0,61754.0,66000.0,66000.0,81000.0,70000.0,42000.0,122400.0,35808.0,98000.0,54000.0,85000.0,19200.0,26729.0,65200.0,57000.0,47500.0,137000.0,50000.0,336000.0,70000.0,77500.0,84000.0,110000.0,108000.0,60520.0,30000.0,45000.0,30000.0,59000.0,57960.0,28000.0,72000.0,62400.0,85000.0,50000.0,95004.0,68000.0,28000.0,55000.0,49995.0,30000.0,31000.0,130000.0,59000.0,34000.0,30000.0,34000.0,106000.0,170000.0,15000.0,44000.0,42500.0,80000.0,40000.0,18000.0,48000.0,29000.0,142800.0,54000.0,52000.0,30996.0,170000.0,25200.0,42000.0,90900.0,20000.0,144000.0,62400.0,77000.0,123000.0,90000.0,84780.0,43200.0,57000.0,30857.0,36500.0,38000.0,40000.0,112000.0,151000.0,65000.0,46000.0,54000.0,36000.0,78996.0,56000.0,75000.0,37500.0,120000.0,50000.0,64000.0,35350.0,200000.0,59000.0,85000.0,37273.0,60626.0,81000.0,32400.0,50004.0,225000.0,47300.0,50000.0,33280.0,28000.0,86000.0,45000.0,72000.0,47700.0,50000.0,24000.0,105000.0,61000.0,66000.0,50004.0,66125.0,58000.0,38000.0,50960.0,50952.0,83290.0,45000.0,60000.0,75000.0,31200.0,23920.0,105000.0,85000.0,27600.0,78000.0,50004.0,33600.0,189996.0,57000.0,48000.0,30000.0,60000.0,126000.0,87200.0,102616.0,36129.0,175000.0,66300.0,35360.0,62000.0,39000.0,80000.0,35000.0,163000.0,66300.0,22000.0,29000.0,81193.0,35000.0,27600.0,86000.0,35000.0,60000.0,31000.0,56000.0,76668.0,48000.0,27456.0,47900.0,28968.0,67000.0,66000.0,30000.0,29496.0,34928.0,47000.0,154000.0,90996.0,27600.0,96000.0,33000.0,21600.0,80690.0,76000.0,43000.0,51996.0,50000.0,50052.0,55000.0,63000.0,112500.0,60000.0,33600.0,38014.0,50000.0,73248.0,26000.0,84000.0,26400.0,60000.0,56972.0,135000.0,65000.0,32000.0,42000.0,30000.0,20000.0,125000.0,75600.0,275000.0,36000.0,780000.0,44975.0,53000.0,120000.0,45000.0,19200.0,76800.0,33600.0,52600.0,35000.0,99000.0,60000.0,100000.0,80000.0,49000.0,37000.0,53000.0,45000.0,40800.0,130000.0,98000.0,50000.0,35004.0,43000.0,75000.0,85000.0,73000.0,120000.0,41000.0,66500.0,54252.0,105000.0,68648.0,62000.0,73660.0,106000.0,62500.0,68000.0,44000.0,67000.0,34000.0,34000.0,54000.0,45000.0,93080.0,36000.0,52000.0,55000.0,150000.0,200004.0,64956.0,110000.0,66300.0,92700.0,46500.0,82000.0,112000.0,72000.0,85000.0,310400.0,20000.0,110000.0,90000.0,70000.0,98480.0,113000.0,57000.0,47088.0,75000.0,84000.0,41000.0,54000.0,45000.0,160000.0,50000.0,75000.0,45000.0,19200.0,72000.0,81000.0,38400.0,48000.0,114000.0,65000.0,61080.0,65000.0,54996.0,33000.0,67807.0,35000.0,39000.0,75000.0,24000.0,120000.0,67000.0,40800.0,92259.0,35000.0,71000.0,48852.0,40000.0,40000.0,103000.0,82000.0,75000.0,125000.0,75000.0,45600.0,57500.0,160000.0,65000.0,210000.0,44796.0,50000.0,100000.0,40000.0,29004.0,110000.0,54000.0,43200.0,86800.0,38000.0,67000.0,80000.0,114600.0,28080.0,25200.0,61500.0,49000.0,56784.0,45000.0,28800.0,42000.0,30000.0,86000.0,45000.0,85000.0,46500.0,40000.0,100000.0,35000.0,47472.0,74415.0,52000.0,83904.0,57504.0,31000.0,64000.0,44400.0,27804.0,48000.0,65000.0,54000.0,38000.0,50000.0,36000.0,30000.0,52000.0,60000.0,36000.0,24996.0,119500.0,55000.0,56004.0,125004.0,70550.0,31000.0,66000.0,30000.0,130000.0,28800.0,33300.0,40000.0,54000.0,24000.0,93500.0,26400.0,78000.0,61600.0,86000.0,84000.0,27500.0,112500.0,95000.0,37000.0,80000.0,160000.0,69996.0,69000.0,63440.0,44000.0,97000.0,51012.0,34000.0,115000.0,94000.0,60000.0,280000.0,84000.0,58800.0,53000.0,80000.0,31000.0,53550.0,70000.0,95000.0,50000.0,41000.0,36000.0,200000.0,50285.0,21600.0,16800.0,65000.0,45000.0,24000.0,79000.0,75000.0,44000.0,49000.0,44000.0,54000.0,80000.0,39000.0,42000.0,34000.0,71000.0,36000.0,80000.0,110000.0,60000.0,66000.0,225000.0,45000.0,156000.0,92000.0,30000.0,120000.0,45996.0,54996.0,50000.0,160000.0,81996.0,24000.0,120000.0,27036.0,39996.0,78700.0,43200.0,15600.0,60000.0,65004.0,98000.0,51996.0,29000.0,24000.0,49000.0,36000.0,73000.0,50000.0,44000.0,17004.0,14400.0,100505.0,42000.0,90000.0,34000.0,35000.0,73200.0,30000.0,42000.0,120000.0,50000.0,79416.0,138000.0,125000.0,98000.0,67500.0,63000.0,80500.0,31440.0,204000.0,31400.0,30120.0,45000.0,32400.0,56000.0,86000.0,40000.0,127000.0,120000.0,68000.0,65000.0,21600.0,37800.0,27000.0,48000.0,48000.0,95680.0,125000.0,84996.0,55000.0,108000.0,36000.0,61150.0,85000.0,90000.0,59000.0,780000.0,68000.0,36000.0,30000.0,79200.0,47000.0,50000.0,33000.0,84000.0,82000.0,39000.0,96000.0,21000.0,56004.0,44000.0,69000.0,155142.0,55000.0,30000.0,170000.0,159600.0,32000.0,50000.0,41745.0,36000.0,70000.0,49548.0,39000.0,68000.0,100000.0,70236.0,93000.0,45150.0,115000.0,56403.0,20400.0,74000.0,115154.0,45200.0,35004.0,28000.0,42000.0,34000.0,54000.0,75971.0,61500.0,29004.0,65000.0,80004.0,44000.0,44000.0,88000.0,75500.0,62500.0,59000.0,70000.0,21000.0,30720.0,50000.0,74000.0,102000.0,95000.0,90000.0,80000.0,84000.0,135000.0,39000.0,76000.0,80000.0,22800.0,62000.0,37000.0,58000.0,45000.0,40000.0,36400.0,115000.0,36400.0,55044.0,20000.0,84000.0,44000.0,27600.0,71000.0,81000.0,59000.0,30000.0,150000.0,104000.0,180000.0,34000.0,60000.0,68000.0,30000.0,91000.0,55000.0,30000.0,175000.0,32000.0,12000.0,136000.0,30792.0,32000.0,100000.0,54000.0,126500.0,52000.0,85000.0,190000.0,113000.0,48500.0,62000.0,51000.0,75000.0,82000.0,57100.0,100000.0,51000.0,62000.0,90000.0,60000.0,46000.0,30960.0,85000.0,42000.0,50000.0,44449.0,53000.0,34800.0,58650.0,24000.0,120000.0,94000.0,36000.0,132000.0,42000.0,68000.0,50000.0,300000.0,60000.0,8500.0,75000.0,78000.0,54000.0,22884.0,48000.0,75000.0,85000.0,91800.0,62004.0,70000.0,85000.0,86000.0,70000.0,44000.0,38000.0,85000.0,84000.0,50000.0,88000.0,62900.0,86000.0,97000.0,30000.0,66000.0,72000.0,40000.0,16800.0,33009.0,35000.0,57996.0,107004.0,75000.0,115000.0,120000.0,44000.0,47184.0,220000.0,57248.0,114000.0,61000.0,26004.0,47000.0,45000.0,40000.0,48000.0,55000.0,47928.0,85000.0,108000.0,50004.0,38196.0,60000.0,37000.0,53000.0,47700.0,65000.0,27442.0,72000.0,75000.0,69996.0,47160.0,90000.0,47000.0,77000.0,38000.0,33500.0,69000.0,115500.0,130050.0,40000.0,15000.0,78948.0,67775.0,30000.0,70000.0,22800.0,110500.0,24000.0,28000.0,57355.0,84191.0,34800.0,87000.0,70000.0,48000.0,36000.0,63000.0,45576.0,35000.0,59000.0,30000.0,105000.0,84000.0,113500.0,62000.0,35000.0,24947.0,40040.0,130000.0,40000.0,52000.0,50000.0,53000.0,30000.0,38400.0,98000.0,69764.0,155000.0,100000.0,45000.0,24996.0,19200.0,69000.0,50000.0,39000.0,200000.0,102000.0,113004.0,38000.0,60996.0,65000.0,50000.0,34000.0,63500.0,45240.0,36000.0,47840.0,24000.0,82000.0,66000.0,32000.0,57996.0,57431.0,35000.0,30000.0,118189.0,42000.0,68375.0,160000.0,58000.0,48000.0,43200.0,46000.0,60480.0,60000.0,65000.0,35000.0,24000.0,120000.0,34000.0,65000.0,105000.0,65000.0,125000.0,47500.0,400000.0,84000.0,26400.0,75000.0,40000.0,45000.0,70000.0,30000.0,42000.0,48000.0,42000.0,55000.0,52000.0,24000.0,62900.0,56000.0,60000.0,20004.0,58000.0,109000.0,30000.0,92000.0,52000.0,50000.0,79536.0,32900.0,26000.0,71400.0,130000.0,106000.0,49000.0,24000.0,36700.0,90000.0,113000.0,55000.0,74000.0,80004.0,40000.0,100000.0,51750.0,89000.0,57000.0,47000.0,15090.0,900000.0,280000.0,33000.0,80000.0,97000.0,60000.0,95000.0,80000.0,60000.0,42000.0,49680.0,60000.0,32000.0,45000.0,30000.0,40000.0,40000.0,15192.0,62000.0,12000.0,240000.0,27000.0,96000.0,95000.0,47000.0,150000.0,36000.0,31200.0,85000.0,33195.0,60000.0,44000.0,48000.0,66000.0,32000.0,36300.0,66996.0,46000.0,37000.0,26000.0,22000.0,77237.0,45000.0,48000.0,39400.0,44000.0,49000.0,62000.0,57500.0,117300.0,63000.0,56996.0,102000.0,28800.0,54000.0,25000.0,70596.0,45000.0,45000.0,65004.0,121000.0,67000.0,61476.0,55000.0,26400.0,79800.0,75000.0,30000.0,46000.0,56004.0,73000.0,40000.0,40000.0,26400.0,44000.0,85000.0,47000.0,28800.0,110000.0,60500.0,68000.0,117500.0,68000.0,28000.0,85100.0,52000.0,40000.0,35000.0,39456.0,125000.0,40000.0,300000.0,31800.0,28500.0,30000.0,40000.0,25000.0,50496.0,39862.0,100111.0,36000.0,30000.0,18720.0,102000.0,72000.0,69000.0,15000.0,61300.0,95004.0,34000.0,48000.0,120000.0,30000.0,140000.0,325000.0,30000.0,77000.0,42240.0,40000.0,47000.0,95000.0,40000.0,80400.0,121200.0,44000.0,30000.0,31000.0,88000.0,28000.0,45000.0,46000.0,30000.0,90000.0,200000.0,37000.0,50000.0,47844.0,24000.0,66000.0,90000.0,28500.0,68000.0,55000.0,90000.0,82000.0,17376.0,31200.0,24000.0,54000.0,101000.0,75885.0,60500.0,57000.0,132000.0,74000.0,91700.0,41604.0,43772.0,65000.0,110000.0,80000.0,50000.0,26000.0,54000.0,38000.0,74000.0,78300.0,32000.0,44000.0,42000.0,52000.0,62900.0,34900.0,83000.0,115000.0,45000.0,105000.0,46000.0,31000.0,16000.0,61000.0,115000.0,49200.0,65000.0,67000.0,30000.0,50000.0,64000.0,15000.0,70000.0,50000.0,25000.0,60500.0,56000.0,53000.0,54000.0,105000.0,50000.0,95000.0,56200.0,36000.0,26000.0,75000.0,49000.0,83000.0,21000.0,35000.0,118000.0,47000.0,43000.0,54000.0,33500.0,95142.0,68000.0,35360.0,40000.0,75000.0,59000.0,286000.0,130000.0,68000.0,95200.0,40000.0,85000.0,14400.0,37000.0,96000.0,42000.0,35640.0,93000.0,80000.0,61000.0,53976.0,24000.0,24000.0,103044.0,65000.0,65000.0,100000.0,26000.0,75000.0,37676.0,40000.0,80000.0,71000.0,90000.0,66000.0,62000.0,30000.0,24000.0,71000.0,55259.0,42000.0,40000.0,42000.0,33996.0,23000.0,30000.0,60000.0,41000.0,62000.0,26010.0,105000.0,49200.0,39600.0,88000.0,120000.0,110000.0,54000.0,45000.0,42000.0,60000.0,24000.0,43000.0,31000.0,40000.0,25200.0,60000.0,265000.0,106369.0,40404.0,144000.0,56048.0,54100.0,23800.0,37200.0,22884.0,58000.0,56100.0,50700.0,181000.0,30996.0,75797.0,57996.0,54000.0,99996.0,75531.0,32400.0,85272.0,82000.0,119004.0,69000.0,50000.0,120000.0,62892.0,30000.0,125004.0,96500.0,30000.0,60000.0,40000.0,78000.0,50000.0,38004.0,72000.0,72000.0,24000.0,52000.0,28000.0,26400.0,100080.0,93500.0,52000.0,44000.0,43971.0,65000.0,36120.0,128000.0,75000.0,100000.0,42000.0,62000.0,65000.0,77000.0,90000.0,49000.0,118000.0,54990.0,70000.0,51840.0,58650.0,35020.0,75000.0,47900.0,38400.0,44000.0,28800.0,62692.0,44400.0,30000.0,137000.0,60000.0,52000.0,25480.0,60000.0,22800.0,34000.0,132000.0,122000.0,53004.0,192000.0,34000.0,140000.0,48000.0,60000.0,103000.0,68004.0,85000.0,78000.0,53004.0,57000.0,48000.0,42000.0,54600.0,40000.0,42224.0,68340.0,30000.0,65000.0,45000.0,49000.0,159996.0,60000.0,29100.0,185000.0,64464.0,72000.0,62000.0,100000.0,80000.0,38112.0,55000.0,50000.0,32004.0,72000.0,50000.0,50000.0,38400.0,30000.0,31200.0,80000.0,21360.0,80004.0,68000.0,31000.0,95000.0,46000.0,62502.0,55000.0,88000.0,36684.0,41200.0,68000.0,30000.0,23000.0,55000.0,55530.0,23520.0,20400.0,39000.0,72000.0,30720.0,61200.0,38400.0,49600.0,50000.0,60000.0,58000.0,96000.0,25000.0,65000.0,35000.0,61350.0,130000.0,22000.0,84000.0,39996.0,55000.0,125004.0,102368.0,60675.0,70000.0,54400.0,46000.0,52000.0,90000.0,88000.0,24000.0,90000.0,15600.0,141000.0,54996.0,45378.0,78000.0,36000.0,44600.0,75000.0,65004.0,75000.0,38420.0,88000.0,100000.0,48000.0,31000.0,49635.0,95000.0,40000.0,50820.0,65004.0,80500.0,67275.0,50000.0,26400.0,70500.0,77000.0,28800.0,24960.0,44000.0,38000.0,70000.0,38000.0,63000.0,160000.0,30000.0,30000.0,55000.0,116400.0,37200.0,60000.0,138000.0,48000.0,55000.0,120000.0,31200.0,65000.0,56888.0,285000.0,35900.0,166000.0,84000.0,42000.0,87000.0,31200.0,51600.0,20000.0,47004.0,26688.0,60000.0,142000.0,36000.0,15600.0,41000.0,24000.0,126500.0,80000.0,82000.0,135000.0,51000.0,96500.0,35004.0,55000.0,36000.0,57468.0,85000.0,72000.0,96000.0,48500.0,65000.0,41808.0,61000.0,21000.0,90000.0,25200.0,23868.0,56000.0,250000.0,75000.0,26000.0,49493.0,125000.0,63996.0,41200.0,125000.0,40800.0,115000.0,115000.0,50000.0,20004.0,78000.0,64000.0,35000.0,65748.0,82524.0,110000.0,100000.0,75000.0,84000.0,15000.0,66300.0,72054.0,72000.0,115000.0,70000.0,51000.0,120000.0,65000.0,99000.0,51000.0,45691.0,24996.0,56004.0,30000.0,153000.0,12000.0,32004.0,48996.0,49000.0,31836.0,67500.0,60000.0,22800.0,98000.0,60000.0,34000.0,55000.0,71400.0,124886.0,44000.0,29950.0,28650.0,62000.0,66300.0,23004.0,46000.0,34500.0,42000.0,38000.0,97850.0,75000.0,24996.0,43000.0,12360.0,51000.0,30000.0,76250.0,50000.0,32004.0,35000.0,34000.0,116664.0,68000.0,84000.0,75000.0,70000.0,27993.0,54590.0,35352.0,55260.0,45000.0,125000.0,36000.0,35100.0,24000.0,90000.0,34480.0,36000.0,36000.0,107000.0,62000.0,75000.0,49000.0,118000.0,24000.0,39600.0,48000.0,46000.0,75000.0,80300.0,30000.0,90000.0,100000.0,44000.0,18000.0,120000.0,105000.0,240000.0,140000.0,41124.0,44400.0,130000.0,54000.0,40000.0,50000.0,54996.0,96000.0,7800.0,268000.0,38004.0,22178.0,38000.0,32000.0,64000.0,48000.0,14880.0,35000.0,24000.0,61000.0,95000.0,76000.0,88000.0,69000.0,28800.0,32000.0,38400.0,43000.0,41000.0,90000.0,65004.0,30000.0,180000.0,40080.0,120000.0,52800.0,26976.0,138000.0,55000.0,110000.0,29000.0,42000.0,30000.0,39516.0,244800.0,89000.0,52000.0,72000.0,90000.0,59000.0,124800.0,29360.0,62400.0,80000.0,36000.0,65000.0,59800.0,75000.0,48996.0,108000.0,31800.0,104000.0,51456.0,47000.0,14400.0,170000.0,99100.0,73000.0,55000.0,40000.0,57000.0,51000.0,48500.0,93000.0,22404.0,74797.0,60000.0,91154.0,27599.0,138000.0,98000.0,30000.0,80000.0,57600.0,36000.0,118000.0,66000.0,74872.0,78000.0,75600.0,27000.0,93000.0,53851.0,90000.0,40000.0,87000.0,108000.0,60000.0,37200.0,60350.0,44000.0,34000.0,140000.0,17676.0,69996.0,34000.0,24000.0,81000.0,28000.0,150000.0,36000.0,77000.0,27600.0,155000.0,80000.0,50000.0,64600.0,114000.0,55000.0,18000.0,40000.0,56000.0,24000.0,107004.0,82000.0,51000.0,116000.0,81000.0,38000.0,95000.0,68000.0,44004.0,85596.0,24000.0,46890.0,130000.0,38769.0,80000.0,70000.0,52000.0,29000.0,24000.0,50000.0,85000.0,190000.0,110000.0,24960.0,65000.0,56000.0,125000.0,40000.0,90000.0,14400.0,53004.0,57000.0,42000.0,200000.0,55000.0,44004.0,39996.0,53826.0,40000.0,66420.0,4800.0,40800.0,64973.0,90000.0,33650.0,56461.0,153000.0,39000.0,26000.0,82000.0,85000.0,84000.0,30132.0,45000.0,140000.0,55000.0,45000.0,30000.0,95000.0,36000.0,32758.0,65000.0,50000.0,58000.0,34000.0,48000.0,60000.0,60000.0,85000.0,65000.0,85000.0,30123.0,68500.0,42000.0,120000.0,80000.0,95000.0,85000.0,75996.0,29000.0,95000.0,61000.0,69996.0,38400.0,11520.0,47840.0,62500.0,78000.0,115000.0,26400.0,32400.0,62004.0,57996.0,140000.0,22884.0,50000.0,85000.0,24000.0,97000.0,150000.0,99780.0,76000.0,32000.0,101400.0,137720.0,53000.0,55000.0,29088.0,30000.0,65000.0,39600.0,75000.0,60000.0,12000.0,64000.0,80004.0,45000.0,72000.0,42000.0,82500.0,21300.0,31000.0,56000.0,46000.0,75000.0,83004.0,24000.0,40000.0,53000.0,5000.0,64000.0,72500.0,34000.0,32400.0,100000.0,48000.0,69996.0,39960.0,40000.0,35000.0,94000.0,102000.0,170000.0,60996.0,39500.0,50793.0,64000.0,44000.0,30000.0,36000.0,49244.0,35000.0,25200.0,40000.0,72800.0,20000.0,68004.0,50000.0,85000.0,32000.0,55004.0,60000.0,72800.0,140000.0,121000.0,90096.0,85000.0,110196.0,48000.0,58000.0,59928.0,35000.0,138000.0,85000.0,37090.0,95000.0,68000.0,115000.0,42000.0,24000.0,30000.0,30416.0,52249.0,90000.0,24000.0,35000.0,66300.0,79000.0,58000.0,48000.0,30000.0,37500.0,24000.0,150000.0,48000.0,62000.0,34000.0,80000.0,110000.0,90000.0,103000.0,182500.0,78200.0,48000.0,80000.0,21600.0,57720.0,50000.0,55400.0,95000.0,44000.0,20064.0,28000.0,44000.0,28800.0,108000.0,48000.0,70000.0,120000.0,52000.0,120000.0,55000.0,78000.0,56000.0,90000.0,120000.0,34000.0,150000.0,30996.0,82000.0,77000.0,42500.0,22000.0,52660.0,55000.0,32000.0,50985.0,42000.0,120000.0,122000.0,72000.0,70000.0,87500.0,32000.0,28080.0,30720.0,78000.0,55200.0,55000.0,37680.0,77270.0,42000.0,30000.0,55000.0,53400.0,52000.0,97356.0,60000.0,33000.0,142000.0,143000.0,32000.0,54000.0,18000.0,33000.0,40000.0,52000.0,40000.0,82000.0,67000.0,54000.0,72000.0,32000.0,66000.0,60000.0,23004.0,43738.0,90000.0,300000.0,114000.0,15000.0,42000.0,120000.0,44000.0,54000.0,45996.0,54996.0,73000.0,66300.0,60000.0,92000.0,20500.0,24996.0,43000.0,86500.0,200000.0,40000.0,30000.0,66996.0,53000.0,51000.0,33000.0,44000.0,25000.0,21000.0,36000.0,260000.0,31000.0,12000.0,57000.0,94500.0,36400.0,52582.0,90000.0,70000.0,34000.0,97000.0,200000.0,68000.0,32000.0,182500.0,58800.0,32220.0,45000.0,42000.0,29570.0,93000.0,75000.0,52000.0,73000.0,57600.0,92000.0,66996.0,31200.0,49000.0,41600.0,28000.0,65000.0,36000.0,76400.0,123000.0,64320.0,90000.0,62500.0,29102.0,46000.0,21600.0,41000.0,95800.0,62000.0,430000.0,22000.0,65000.0,77385.0,74800.0,73882.0,62000.0,31323.0,28644.0,91200.0,69000.0,37648.0,70000.0,40000.0,140000.0,43920.0,50000.0,29400.0,36184.0,45000.0,72000.0,75000.0,54000.0,91200.0,150000.0,80000.0,52000.0,350000.0,36000.0,116000.0,45000.0,68000.0,48000.0,96000.0,48000.0,46000.0,84000.0,192000.0,76788.0,95000.0,30400.0,76960.0,75000.0,65000.0,42000.0,54000.0,30000.0,25000.0,53000.0,120999.0,400000.0,42000.0,63000.0,26568.0,70500.0,40000.0,25440.0,81000.0,9960.0,63000.0,35000.0,50004.0,30000.0,50000.0,85000.0,35000.0,118500.0,62400.0,34560.0,67746.0,110244.0,80000.0,30000.0,102540.0,71000.0,50000.0,42100.0,22000.0,80000.0,36000.0,55000.0,50000.0,66000.0,29000.0,38004.0,48000.0,36000.0,54400.0,89004.0,9732.0,34800.0,63000.0,31356.0,48996.0,39000.0,15600.0,28000.0,50500.0,1200000.0,42016.0,45673.0,31000.0,33564.0,51600.0,50000.0,150000.0,44000.0,68000.0,350000.0,30225.0,103000.0,22000.0,48712.0,84200.0,34500.0,33600.0,92000.0,33280.0,71000.0,75000.0,55000.0,33000.0,65000.0,100000.0,52000.0,83000.0,34000.0,63000.0,102000.0,72000.0,76464.0,88500.0,42000.0,24500.0,40000.0,27700.0,37400.0,60000.0,34000.0,34000.0,33600.0,275004.0,110000.0,86000.0,78000.0,39600.0,46800.0,168000.0,49296.0,28800.0,115000.0,32450.0,29000.0,50000.0,19000.0,27996.0,70000.0,113000.0,80000.0,140300.0,49000.0,55152.0,64500.0,89520.0,30000.0,54000.0,80000.0,97000.0,80000.0,55000.0,45000.0,36000.0,34560.0,72136.0,139008.0,48000.0,72000.0,68100.0,105000.0,22800.0,29160.0,40800.0,39990.0,60000.0,78000.0,33000.0,39996.0,85000.0,550000.0,43200.0,60000.0,74000.0,87000.0,64000.0,38400.0,56700.0,24000.0,78625.0,81004.0,70000.0,47471.0,36000.0,72000.0,26400.0,60500.0,24000.0,80000.0,72000.0,14800.0,36000.0,60000.0,57000.0,68004.0,68004.0,65600.0,46200.0,70000.0,115000.0,49000.0,64000.0,41400.0,12000.0,39000.0,80000.0,72996.0,120000.0,46000.0,69000.0,103872.0,148000.0,75000.0,70000.0,24168.0,21816.0,40000.0,70000.0,40500.0,85000.0,38000.0,120000.0,42000.0,57996.0,155000.0,107203.0,30000.0,72000.0,21600.0,38000.0,45000.0,27996.0,30000.0,4080.0,40560.0,36000.0,40000.0,45000.0,21600.0,188004.0,61455.0,35000.0,68500.0,110004.0,125000.0,24000.0,100000.0,57504.0,44000.0,83000.0,65000.0,36000.0,36000.0,73000.0,88020.0,40100.0,62256.0,50004.0,41000.0,54000.0,100000.0,31000.0,123000.0,65000.0,46800.0,48602.0,33000.0,63000.0,38000.0,60000.0,118300.0,60000.0,47000.0,34560.0,48000.0,88500.0,79500.0,39000.0,60000.0,40000.0,74600.0,75000.0,52809.0,100000.0,81000.0,24000.0,29120.0,42000.0,38000.0,140000.0,55000.0,30996.0,31200.0,17280.0,15000.0,32000.0,138000.0,114750.0,73100.0,25000.0,106982.0,37200.0,95004.0,60000.0,27600.0,44000.0,46000.0,65000.0,48000.0,48000.0,59000.0,82350.0,75000.0,30720.0,32000.0,35380.0,60000.0,61000.0,25200.0,96000.0,34000.0,38000.0,35000.0,44400.0,110500.0,38000.0,150000.0,44004.0,119700.0,80196.0,72000.0,48000.0,96000.0,28880.0,24000.0,66800.0,62000.0,44470.0,54000.0,50000.0,12000.0,56400.0,45996.0,55000.0,48000.0,50000.0,26400.0,60000.0,19200.0,290000.0,150000.0,215000.0,65004.0,156000.0,70000.0,69000.0,53408.0,69000.0,60000.0,88365.0,55000.0,75000.0,95000.0,48000.0,60000.0,60000.0,12000.0,42000.0,74000.0,290000.0,19600.0,94000.0,50000.0,30000.0,37000.0,70000.0,60589.0,34500.0,100000.0,75000.0,28000.0,92300.0,39000.0,66661.0,70000.0,74004.0,182952.0,36500.0,171870.0,67092.0,63324.0,80004.0,54000.0,77268.0,102996.0,31000.0,47000.0,60000.0,34000.0,105000.0,59000.0,23000.0,97700.0,43200.0,55000.0,54000.0,57000.0,128148.0,30000.0,74196.0,55000.0,227500.0,54000.0,39000.0,48000.0,107000.0,85000.0,88000.0,50176.0,42000.0,90000.0,160000.0,33900.0,76460.0,160000.0,147000.0,31000.0,41000.0,60000.0,35976.0,80000.0,98000.0,48500.0,205000.0,75689.0,110000.0,50000.0,50600.0,125000.0,32400.0,50000.0,47000.0,105000.0,40000.0,77000.0,54000.0,84996.0,60372.0,31000.0,36000.0,43200.0,78000.0,47000.0,45000.0,35000.0,78000.0,73000.0,35004.0,21000.0,106000.0,29000.0,68004.0,40000.0,95000.0,42000.0,120000.0,99996.0,37200.0,42000.0,80000.0,42000.0,34000.0,162000.0,42000.0,52800.0,36000.0,61000.0,42000.0,109500.0,50000.0,75000.0,51000.0,43218.0,43337.0,96000.0,90000.0,30000.0,157500.0,90000.0,48000.0,110000.0,71000.0,36816.0,51600.0,112000.0,135000.0,20000.0,163000.0,58100.0,59000.0,30000.0,250000.0,36100.0,40000.0,101000.0,42000.0,74000.0,120000.0,48000.0,58650.0,125000.0,54000.0,39875.0,10800.0,135000.0,115000.0,44000.0,29000.0,25000.0,50400.0,100000.0,25000.0,36000.0,30000.0,65000.0,150000.0,75000.0,65000.0,41600.0,30000.0,98000.0,36276.0,38244.0,42597.0,74000.0,50000.0,24414.0,75000.0,36000.0,28500.0,50004.0,200004.0,137004.0,98000.0,75181.0,60000.0,81000.0,51000.0,48000.0,52000.0,140000.0,19200.0,38000.0,70000.0,68000.0,50000.0,67000.0,30720.0,86000.0,83004.0,30000.0,42000.0,51850.0,90000.0,32496.0,84000.0,85000.0,46000.0,54000.0,97000.0,123000.0,39000.0,28880.0,52000.0,75000.0,42000.0,120000.0,64800.0,28600.0,37440.0,48000.0,80000.0,28000.0,85000.0,46000.0,41000.0,20280.0,130000.0,47233.0,16800.0,67000.0,74004.0,108000.0,35000.0,60000.0,14400.0,52000.0,32000.0,36000.0,14400.0,73000.0,42000.0,60000.0,98400.0,53004.0,24000.0,64800.0,35000.0,79631.0,80000.0,25000.0,46000.0,74880.0,42000.0,47820.0,200000.0,46000.0,98000.0,65000.0,73600.0,63000.0,34000.0,128000.0,166000.0,50000.0,132000.0,54960.0,119000.0,43000.0,50000.0,14650.0,62000.0,34500.0,41000.0,30000.0,96000.0,76042.0,100000.0,87000.0,22800.0,85392.0,65000.0,50004.0,41004.0,32000.0,42288.0,42000.0,15600.0,23500.0,63600.0,42000.0,39000.0,28500.0,37440.0,112000.0,55000.0,120000.0,48000.0,157544.0,55000.0,60000.0,51000.0,68850.0,30000.0,106921.0,41000.0,16000.0,30000.0,76000.0,40320.0,51996.0,45996.0,26400.0,43633.0,44000.0,74706.0,180000.0,39760.0,97000.0,59000.0,42000.0,70000.0,49600.0,36000.0,91800.0,83500.0,36000.0,60000.0,95610.0,21000.0,28140.0,77385.0,62400.0,62065.0,100000.0,200000.0,42000.0,90000.0,36000.0,46000.0,117014.0,34000.0,34000.0,34000.0,90000.0,105000.0,30000.0,24000.0,15360.0,42328.0,72000.0,90000.0,30000.0,40000.0,250000.0,67000.0,76596.0,65000.0,112000.0,60000.0,40000.0,48000.0,85000.0,86000.0,61000.0,60000.0,40000.0,45600.0,120000.0,52700.0,32400.0,36000.0,120000.0,130000.0,280000.0,71599.0,33996.0,45000.0,60635.0,65000.0,45000.0,40000.0,78200.0,58896.0,39600.0,48500.0,63000.0,24000.0,33000.0,110000.0,43200.0,80000.0,140004.0,46180.0,36996.0,139913.0,107806.0,120000.0,49000.0,45000.0,40000.0,50000.0,56000.0,54500.0,33600.0,80000.0,60000.0,72000.0,35000.0,55000.0,54000.0,45000.0,62250.0,49200.0,39000.0,63750.0,95000.0,75000.0,34000.0,80500.0,100000.0,57000.0,42000.0,40000.0,101004.0,79000.0,110000.0,40000.0,100000.0,80000.0,45000.0,65100.0,65000.0,130000.0,61656.0,122000.0,65000.0,30000.0,92000.0,59000.0,44500.0,26880.0,88000.0,25000.0,33000.0,60000.0,60000.0,48912.0,140000.0,75000.0,225000.0,13806.0,51200.0,43800.0,88000.0,93000.0,38000.0,72000.0,96000.0,350000.0,35004.0,59904.0,19200.0,73000.0,70000.0,152000.0,24000.0,30000.0,30000.0,38000.0,55000.0,56650.0,48000.0,60000.0,40000.0,34500.0,120000.0,51000.0,30000.0,125000.0,97000.0,30000.0,110000.0,30000.0,80000.0,50004.0,41500.0,59000.0,216000.0,102031.0,31200.0,59000.0,155000.0,58000.0,110000.0,50000.0,57000.0,70000.0,61000.0,120000.0,62000.0,54000.0,135000.0,90000.0,15600.0,64000.0,96000.0,200000.0,72800.0,42000.0,145000.0,42000.0,56000.0,65000.0,43000.0,36000.0,130000.0,31200.0,36000.0,103000.0,46000.0,70000.0,75000.0,260000.0,80000.0,53808.0,74400.0,72000.0,34000.0,93000.0,42000.0,20400.0,67171.0,25788.0,79500.0,46800.0,45806.0,80000.0,120000.0,76000.0,44000.0,104000.0,45996.0,54000.0,30000.0,55784.0,85000.0,32200.0,60000.0,31200.0,175000.0,41033.0,44500.0,118000.0,32496.0,69846.0,60682.0,100000.0,40000.0,65000.0,60000.0,52000.0,70000.0,120000.0,32000.0,40000.0,24000.0,111147.0,66000.0,85000.0,45600.0,78000.0,78000.0,75000.0,70000.0,46776.0,46500.0,100000.0,112000.0,109200.0,73000.0,51024.0,75000.0,32496.0,53826.0,46800.0,53000.0,63000.0,138000.0,68000.0,48000.0,25000.0,28800.0,83000.0,87800.0,57000.0,54000.0,63504.0,32000.0,52000.0,47000.0,30000.0,40000.0,108800.0,66000.0,10000.0,38000.0,34000.0,23500.0,43992.0,36000.0,37200.0,25000.0,294000.0,69000.0,55000.0,90000.0,64000.0,63000.0,70000.0,60000.0,52000.0,70000.0,25200.0,57500.0,60000.0,24000.0,72600.0,37500.0,36000.0,87000.0,45000.0,29000.0,75000.0,60000.0,33000.0,125000.0,120000.0,88000.0,38160.0,30000.0,59068.0,20000.0,65000.0,225000.0,80004.0,18000.0,69000.0,63000.0,34000.0,115000.0,134000.0,81000.0,78000.0,60000.0,83000.0,78204.0,39000.0,43288.0,44400.0,50000.0,65000.0,72000.0,48000.0,54000.0,47000.0,47000.0,100000.0,59200.0,36000.0,45000.0,64000.0,40000.0,36000.0,30000.0,42000.0,83000.0,72000.0,54504.0,75000.0,50000.0,15600.0,175000.0,33600.0,72500.0,33996.0,18000.0,60000.0,26004.0,21812.0,42000.0,240000.0,40000.0,50000.0,62000.0,33996.0,51000.0,19000.0,33078.0,46800.0,66924.0,56628.0,37000.0,74000.0,40000.0,46000.0,65000.0,36000.0,97000.0,55000.0,65000.0,30000.0,34000.0,56000.0,75000.0,56000.0,38000.0,34000.0,42000.0,35000.0,50000.0,29000.0,55000.0,45000.0,95000.0,33360.0,58000.0,34000.0,42000.0,115000.0,12240.0,82000.0,95000.0,72000.0,78132.0,25000.0,52000.0,42000.0,30000.0,35000.0,81600.0,107000.0,30004.0,43000.0,57996.0,34500.0,40680.0,49000.0,80000.0,33000.0,82000.0,28800.0,72000.0,23040.0,30200.0,66000.0,42000.0,64000.0,74000.0,55404.0,36000.0,38000.0,209000.0,32000.0,30000.0,150000.0,84000.0,29400.0,49000.0,58000.0,89908.0,108000.0,65000.0,79000.0,128000.0,33600.0,75000.0,31000.0,79380.0,214200.0,11029.0,45600.0,59000.0,37500.0,28600.0,79200.0,78600.0,36000.0,156000.0,72000.0,66000.0,32960.0,54000.0,96000.0,42000.0,55000.0,150500.0,106000.0,66690.0,51800.0,50000.0,45000.0,30000.0,145000.0,41496.0,52800.0,45000.0,24000.0,55000.0,54000.0,18600.0,130000.0,86000.0,25500.0,41000.0,52000.0,45000.0,54000.0,52260.0,28800.0,20800.0,48000.0,68000.0,34999.0,78840.0,37000.0,100000.0,55000.0,60000.0,48000.0,54000.0,85000.0,42000.0,38400.0,29000.0,45000.0,75000.0,37000.0,41717.0,55000.0,70000.0,31000.0,50000.0,30000.0,46080.0,50000.0,29004.0,34000.0,35520.0,70000.0,30000.0,130000.0,62000.0,78000.0,47000.0,60000.0,78000.0,65000.0,33276.0,26400.0,66000.0,150000.0,58650.0,65000.0,51000.0,35000.0,69476.0,80000.0,60000.0,135000.0,36800.0,59354.0,73000.0,42000.0,37200.0,93000.0,135000.0,31836.0,39000.0,33448.0,75000.0,30992.0,42000.0,66000.0,73000.0,41000.0,22800.0,15600.0,30000.0,35000.0,80400.0,78000.0,100000.0,120000.0,30400.0,42000.0,60000.0,48000.0,26000.0,31131.0,41998.0,60000.0,52000.0,67500.0,85000.0,39000.0,64680.0,56655.0,35000.0,17400.0,20000.0,35000.0,48000.0,60000.0,53000.0,71000.0,97000.0,33000.0,39456.0,60000.0,40000.0,30000.0,100000.0,48756.0,90000.0,30000.0,56324.0,42996.0,53352.0,110000.0,51000.0,20000.0,39996.0,76000.0,72900.0,40000.0,84000.0,50000.0,74476.0,32496.0,48000.0,55000.0,86004.0,144000.0,60000.0,68324.0,55000.0,50000.0,35000.0,54000.0,65000.0,216000.0,80000.0,75000.0,40000.0,20500.0,30000.0,68000.0,31000.0,90000.0,50000.0,30000.0,99996.0,96000.0,45000.0,30000.0,80000.0,31800.0,36000.0,30000.0,66948.0,25000.0,52000.0,39000.0,28320.0,120000.0,108000.0,40000.0,62050.0,34000.0,75000.0,60000.0,48000.0,90000.0,28000.0,96000.0,39900.0,33612.0,44908.0,30000.0,36000.0,19200.0,135000.0,37000.0,100000.0,190000.0,115000.0,76992.0,59500.0,64000.0,37200.0,55812.0,80000.0,55000.0,50400.0,110000.0,115000.0,54000.0,85000.0,72000.0,33204.0,48000.0,60000.0,84000.0,64000.0,62000.0,120000.0,120000.0,62047.0,99996.0,182500.0,60000.0,20000.0,52800.0,13200.0,90000.0,29000.0,40000.0,86000.0,27000.0,75000.0,46776.0,30000.0,70000.0,4800.0,30000.0,59000.0,24000.0,24000.0,36000.0,74004.0,59000.0,57912.0,60000.0,52416.0,42179.0,118000.0,199000.0,170000.0,40000.0,85000.0,31000.0,62000.0,75000.0,65000.0,64000.0,53004.0,69600.0,8472.0,36000.0,48000.0,95000.0,100000.0,55800.0,39960.0,56000.0,120000.0,42000.0,50000.0,48000.0,140000.0,300000.0,62050.0,52584.0,60000.0,30000.0,20400.0,56331.0,53774.0,23400.0,48000.0,78504.0,70000.0,22708.0,42996.0,53664.0,106000.0,40000.0,60000.0,45000.0,43200.0,180000.0,11440.0,47520.0,28800.0,62400.0,38400.0,102000.0,30000.0,14400.0,32000.0,66000.0,140000.0,47500.0,223800.0,76000.0,33000.0,30000.0,52000.0,44000.0,42000.0,39000.0,81120.0,44000.0,36000.0,96500.0,165000.0,35000.0,77700.0,119000.0,115000.0,50000.0,42000.0,39600.0,89000.0,97750.0,67000.0,117500.0,81996.0,53004.0,74000.0,79500.0,150000.0,24000.0,75000.0,148000.0,37000.0,30000.0,46000.0,95004.0,48000.0,94700.0,70000.0,47211.0,100000.0,42000.0,300000.0,55000.0,29004.0,64000.0,39500.0,67000.0,64992.0,55600.0,30000.0,45600.0,35000.0,50000.0,40000.0,55000.0,40000.0,12000.0,78862.0,55000.0,70000.0,28284.0,100000.0,15600.0,95000.0,35000.0,50000.0,37200.0,60000.0,50000.0,49000.0,40000.0,130000.0,19000.0,50000.0,70000.0,85000.0,150000.0,25000.0,38000.0,85000.0,72000.0,39520.0,95000.0,48000.0,33000.0,45600.0,108000.0,29760.0,39000.0,34000.0,84000.0,36000.0,30000.0,32000.0,100000.0,72000.0,42000.0,65000.0,27000.0,62100.0,50911.0,16800.0,55000.0,39000.0,31000.0,48000.0,40000.0,48000.0,188000.0,82500.0,64000.0,32000.0,77256.0,150000.0,56400.0,108600.0,12960.0,19012.0,108000.0,145124.0,62000.0,26004.0,47232.0,60000.0,34000.0,42000.0,110000.0,91000.0,76554.0,72000.0,95000.0,59000.0,25000.0,67000.0,68926.0,85000.0,45000.0,81960.0,92000.0,95000.0,45000.0,45000.0,70000.0,71599.0,81000.0,59000.0,75000.0,85000.0,60000.0,54400.0,76000.0,72000.0,37080.0,69000.0,49000.0,36933.0,18000.0,41464.0,33600.0,450000.0,24000.0,20000.0,65000.0,33000.0,120000.0,96000.0,50000.0,85000.0,59000.0,61193.0,45295.0,63000.0,69500.0,45000.0,57996.0,80000.0,62000.0,51000.0,120000.0,140000.0,44875.0,75000.0,35000.0,37000.0,30000.0,42320.0,52800.0,57600.0,72000.0,68515.0,40000.0,62000.0,49000.0,43108.0,20000.0,32000.0,102000.0,120602.0,69600.0,37200.0,52000.0,53000.0,94800.0,90000.0,96000.0,58000.0,57000.0,53000.0,50000.0,45000.0,130000.0,58000.0,106000.0,85000.0,120000.0,36000.0,26000.0,65000.0,30000.0,170000.0,30000.0,125000.0,28800.0,23000.0,98000.0,58000.0,15600.0,102000.0,60000.0,90000.0,60000.0,56000.0,92004.0,88000.0,24000.0,101000.0,82000.0,86000.0,45500.0,24000.0,108000.0,55000.0,92000.0,20000.0,65000.0,45000.0,34000.0,120000.0,65000.0,28800.0,120000.0,47000.0,74867.0,44094.0,32000.0,150000.0,92000.0,60000.0,54000.0,77004.0,50000.0,59000.0,50000.0,49700.0,60000.0,90000.0,54400.0,180000.0,56100.0,40000.0,85000.0,60000.0,26400.0,100000.0,54000.0,29124.0,110000.0,30000.0,59500.0,60000.0,42000.0,54000.0,26400.0,65000.0,180396.0,45360.0,38000.0,27000.0,140000.0,156000.0,37008.0,28800.0,37000.0,61000.0,55000.0,80000.0,75600.0,65000.0,40000.0,60000.0,397800.0,33000.0,32000.0,43590.0,85000.0,35000.0,54000.0,54000.0,55000.0,44000.0,50300.0,72000.0,19404.0,40000.0,68553.0,73000.0,168000.0,36600.0,18000.0,95000.0,52000.0,126000.0,26453.0,160000.0,31200.0,90000.0,123000.0,62467.0,60000.0,67500.0,70000.0,140004.0,49000.0,30000.0,70000.0,46000.0,51000.0,59000.0,55000.0,33200.0,51000.0,34800.0,45000.0,48000.0,36000.0,50000.0,28800.0,95000.0,48000.0,200000.0,35000.0,15000.0,51500.0,30000.0,36000.0,39000.0,50000.0,65000.0,75000.0,90000.0,44004.0,35000.0,58951.0,186000.0,107000.0,54000.0,46000.0,30000.0,62400.0,95000.0,54000.0,160000.0,30000.0,91000.0,55000.0,24000.0,67000.0,31000.0,36000.0,32640.0,97000.0,60000.0,33996.0,97000.0,200000.0,150000.0,70000.0,55000.0,63000.0,25320.0,118000.0,132444.0,38500.0,78000.0,60000.0,70000.0,91000.0,51996.0,120000.0,30996.0,130000.0,78700.0,72000.0,21000.0,71000.0,16000.0,31200.0,108000.0,37000.0,67800.0,85000.0,30000.0,90000.0,62900.0,56000.0,42996.0,88000.0,30000.0,69000.0,33000.0,60000.0,60000.0,72000.0,62000.0,81000.0,117400.0,25000.0,75000.0,20400.0,42000.0,60000.0,80000.0,21600.0,48000.0,56000.0,49200.0,74000.0,35000.0,204000.0,58000.0,80000.0,60000.0,42000.0,48000.0,37000.0,75000.0,124000.0,62496.0,48000.0,61500.0,54000.0,33000.0,50000.0,110000.0,65000.0,10560.0,30000.0,72000.0,96000.0,64000.0,60000.0,31200.0,59000.0,56000.0,53550.0,44000.0,64500.0,96900.0,104000.0,58700.0,40800.0,68480.0,90000.0,40000.0,53000.0,170000.0,75000.0,51000.0,43500.0,109000.0,110000.0,81000.0,18200.0,60000.0,69500.0,145000.0,51000.0,79400.0,85000.0,168600.0,127992.0,60000.0,19200.0,91200.0,170000.0,43200.0,86706.0,75000.0,24000.0,43200.0,46000.0,100000.0,53000.0,72000.0,46500.0,107364.0,100000.0,45000.0,38000.0,39750.0,21221.0,120000.0,88000.0,60000.0,69996.0,108000.0,28800.0,116000.0,79618.0,48000.0,40800.0,57000.0,71688.0,32500.0,20520.0,34000.0,80000.0,62500.0,57600.0,50000.0,85000.0,97000.0,75000.0,163400.0,62000.0,96600.0,130000.0,89000.0,137000.0,40000.0,42000.0,37000.0,27500.0,44000.0,76000.0,20400.0,55000.0,74000.0,35000.0,52000.0,48672.0,91229.0,36000.0,75000.0,30000.0,31200.0,86000.0,62000.0,43200.0,65000.0,45600.0,45204.0,21996.0,60000.0,60000.0,65000.0,56000.0,42000.0,45000.0,30000.0,44000.0,75000.0,240000.0,61000.0,55000.0,110000.0,80000.0,28600.0,39900.0,82000.0,29000.0,60000.0,42000.0,58000.0,160000.0,43200.0,48000.0,48000.0,47500.0,80000.0,107500.0,80000.0,12000.0,45600.0,60000.0,50000.0,20796.0,104371.0,80000.0,65000.0,158004.0,82000.0,100000.0,57700.0,115000.0,60000.0,60072.0,17004.0,46000.0,59000.0,44000.0,150000.0,50031.0,110000.0,125000.0,50000.0,102996.0,37500.0,128000.0,130992.0,48996.0,54250.0,67000.0,43000.0,74500.0,112500.0,82000.0,55000.0,100000.0,38400.0,38400.0,32400.0,34000.0,101000.0,98000.0,87000.0,44995.0,46800.0,70000.0,22320.0,72444.0,50400.0,103000.0,75000.0,36500.0,65000.0,41600.0,33600.0,60000.0,35088.0,56000.0,36000.0,75000.0,53000.0,76000.0,44531.0,80000.0,80000.0,56004.0,46500.0,55000.0,128600.0,179000.0,90000.0,57996.0,70000.0,28000.0,105000.0,141000.0,56400.0,19200.0,105000.0,69996.0,68000.0,32004.0,48000.0,30712.0,95000.0,51800.0,45000.0,40000.0,69000.0,38000.0,108288.0,101900.0,74800.0,125000.0,14500.0,82000.0,40610.0,46200.0,50000.0,65000.0,130000.0,36000.0,45000.0,50725.0,54000.0,64600.0,45000.0,86000.0,115000.0,24000.0,117000.0,35500.0,33600.0,55000.0,33996.0,40000.0,56000.0,100000.0,26000.0,23652.0,54000.0,134500.0,15523.0,55000.0,75000.0,97000.0,36000.0,31920.0,53500.0,66000.0,39600.0,140400.0,103992.0,47412.0,10000.0,77500.0,105000.0,37200.0,66000.0,27996.0,110000.0,45000.0,31000.0,85000.0,121000.0,69996.0,98000.0,39512.0,26000.0,75000.0,56400.0,32000.0,54000.0,84000.0,130000.0,60000.0,45000.0,69000.0,40000.0,30000.0,98000.0,85000.0,30000.0,59000.0,40704.0,44000.0,94800.0,145000.0,25000.0,46000.0,36600.0,50000.0,54000.0,45000.0,32000.0,22000.0,90722.0,38000.0,50000.0,60000.0,33000.0,51648.0,40000.0,47000.0,70000.0,38000.0,48000.0,64000.0,146000.0,72000.0,54996.0,25200.0,50000.0,76000.0,26000.0,30000.0,70000.0,150000.0,50000.0,75744.0,55000.0,75000.0,100000.0,82000.0,45000.0,138000.0,83000.0,53742.0,127000.0,85000.0,52700.0,85000.0,33280.0,72000.0,61499.0,40000.0,21600.0,64402.0,49000.0,72000.0,108000.0,52000.0,45000.0,86748.0,123000.0,32160.0,15000.0,120000.0,39996.0,66300.0,100000.0,35000.0,49074.0,47500.0,31000.0,31000.0,51000.0,120000.0,48000.0,63000.0,54996.0,30000.0,57300.0,93000.0,46500.0,75000.0,128000.0,189000.0,72000.0,1440000.0,60500.0,37500.0,82500.0,39600.0,77004.0,80000.0,21600.0,30000.0,71000.0,88000.0,60000.0,83004.0,45000.0,42500.0,55000.0,75000.0,65000.0,90000.0,62400.0,24000.0,60000.0,53000.0,52000.0,108000.0,41838.0,25000.0,40000.0,51996.0,49152.0,30000.0,15000.0,69500.0,33000.0,66250.0,390000.0,65025.0,53295.0,25600.0,35000.0,45000.0,60000.0,90000.0,58000.0,69350.0,42000.0,36500.0,85500.0,45000.0,65000.0,40800.0,72996.0,33000.0,48000.0,75000.0,65000.0,40000.0,21000.0,25000.0,120000.0,45000.0,60000.0,48504.0,20004.0,57000.0,52000.0,78000.0,130920.0,35100.0,52000.0,75000.0,27800.0,40044.0,36000.0,65000.0,65000.0,70000.0,180000.0,35000.0,88000.0,49713.0,48000.0,75000.0,45000.0,70000.0,220836.0,49000.0,60000.0,75573.0,20000.0,41600.0,78300.0,115000.0,50000.0,45000.0,80000.0,37200.0,52000.0,90000.0,53000.0,94000.0,120000.0,75885.0,25000.0,56888.0,69504.0,65000.0,55000.0,18000.0,36960.0,39000.0,57000.0,32500.0,16800.0,35880.0,21600.0,94000.0,20000.0,88000.0,36000.0,90000.0,36000.0,100000.0,54000.0,33600.0,55000.0,90000.0,78000.0,25000.0,41682.0,38400.0,85000.0,162000.0,28000.0,69000.0,78000.0,50000.0,40000.0,74000.0,60000.0,33763.0,70000.0,89700.0,54000.0,60000.0,30000.0,81960.0,34800.0,67000.0,14400.0,80000.0,79000.0,74800.0,45000.0,83604.0,115000.0,87996.0,62000.0,42000.0,30500.0,170000.0,74004.0,50000.0,52000.0,41600.0,83000.0,70000.0,50000.0,80000.0,98400.0,46000.0,225000.0,92500.0,100000.0,62000.0,40000.0,78000.0,23000.0,50000.0,168952.0,90000.0,50004.0,70000.0,61200.0,81000.0,85000.0,48000.0,77000.0,151200.0,43680.0,16000.0,36000.0,75000.0,37200.0,86502.0,73000.0,70000.0,50004.0,64151.0,61000.0,65000.0,49344.0,67642.0,42200.0,70000.0,124992.0,60000.0,19200.0,58000.0,29000.0,45000.0,65000.0,75000.0,64000.0,30000.0,52000.0,39000.0,58000.0,30000.0,38400.0,32580.0,56004.0,40000.0,49000.0,100000.0,51000.0,74000.0,110000.0,58000.0,30000.0,110000.0,31000.0,76000.0,40000.0,36000.0,85000.0,170000.0,33600.0,24300.0,36000.0,39000.0,150996.0,49000.0,151800.0,67000.0,105000.0,115000.0,65000.0,45000.0,20000.0,69996.0,25104.0,69000.0,50000.0,30000.0,41000.0,54000.0,80000.0,32400.0,39000.0,125000.0,20000.0,115000.0,45000.0,20000.0,52576.0,77000.0,36933.0,42500.0,37000.0,84996.0,138000.0,50000.0,65000.0,30000.0,50000.0,52000.0,90000.0,64656.0,32647.0,31000.0,75000.0,51888.0,42500.0,71000.0,65000.0,34000.0,62000.0,70000.0,57300.0,31200.0,82000.0,56000.0,36120.0,125800.0,98450.0,90000.0,40000.0,49963.0,62000.0,38000.0,45000.0,60000.0,15600.0,35000.0,70000.0,65004.0,40000.0,65453.0,23040.0,65000.0,30996.0,72000.0,19200.0,72000.0,74797.0,39600.0,31200.0,29000.0,87000.0,77385.0,104740.0,33195.0,44700.0,22000.0,53000.0,54000.0,42000.0,69996.0,26000.0,60000.0,87000.0,20000.0,18008.0,64600.0,72000.0,50000.0,110000.0,33685.0,69000.0,45000.0,72000.0,35316.0,102000.0,42900.0,45408.0,185000.0,37000.0,33600.0,33000.0,85500.0,62400.0,54996.0,74909.0,86652.0,43000.0,54000.0,58650.0,150000.0,61498.0,45000.0,25000.0,72000.0,45000.0,35000.0,150000.0,89000.0,21600.0,55000.0,60000.0,52000.0,150075.0,126000.0,39600.0,79000.0,81000.0,15600.0,275000.0,70000.0,105000.0,12000.0,54996.0,31200.0,160000.0,21864.0,25000.0,51996.0,37000.0,41500.0,80000.0,69000.0,22800.0,70000.0,76800.0,51621.0,35000.0,138600.0,21000.0,55992.0,56000.0,42000.0,70000.0,53000.0,37500.0,68000.0,58000.0,33000.0,82000.0,50000.0,15000.0,54000.0,30720.0,52000.0,90000.0,60000.0,165000.0,43500.0,33000.0,45000.0,124000.0,117000.0,19200.0,65000.0,67200.0,65000.0,55008.0,35000.0,30720.0,204000.0,68004.0,87000.0,32000.0,60000.0,50000.0,47500.0,82000.0,304800.0,120000.0,49200.0,84000.0,54000.0,69000.0,65000.0,102000.0,50205.0,55000.0,31200.0,28000.0,55000.0,83600.0,37008.0,112200.0,60000.0,93600.0,45000.0,35000.0,33000.0,53004.0,25200.0,102000.0,51298.0,35000.0,38000.0,35000.0,47500.0,38000.0,30960.0,95000.0,36500.0,16200.0,52524.0,55070.0,116000.0,30988.0,14400.0,123000.0,36000.0,55000.0,29000.0,82000.0,68000.0,36000.0,30000.0,40000.0,36000.0,59497.0,52000.0,39000.0,40000.0,18000.0,72000.0,34000.0,28800.0,48000.0,75000.0,45000.0,60000.0,99996.0,110000.0,84554.0,79200.0,108000.0,43000.0,45600.0,36000.0,44000.0,35000.0,57000.0,63000.0,56016.0,70000.0,66000.0,31000.0,60000.0,71004.0,35000.0,36400.0,30000.0,109000.0,52000.0,200000.0,18000.0,68000.0,96050.0,160000.0,86610.0,110000.0,60000.0,69996.0,36000.0,43000.0,48000.0,72612.0,30000.0,60000.0,64000.0,80400.0,33396.0,56000.0,55000.0,52106.0,53000.0,68500.0,75000.0,45000.0,48000.0,20000.0,45000.0,103970.0,28800.0,91000.0,30000.0,27500.0,30000.0,96000.0,18000.0,110000.0,72000.0,79100.0,125000.0,25000.0,87000.0,129700.0,46344.0,85000.0,59000.0,12000.0,70000.0,54000.0,46400.0,52500.0,55400.0,45000.0,35364.0,89000.0,52000.0,26000.0,138000.0,38000.0,78000.0,72000.0,115731.0,37200.0,74500.0,150792.0,75000.0,51600.0,50000.0,22000.0,45000.0,30000.0,40000.0,70000.0,108000.0,40000.0,45600.0,49200.0,48000.0,72000.0,100000.0,69000.0,49140.0,68000.0,57336.0,22296.0,65000.0,56000.0,130000.0,113000.0,36000.0,54000.0,30000.0,42000.0,42000.0,95000.0,244800.0,83625.0,81120.0,125000.0,45000.0,62000.0,32000.0,33600.0,90000.0,50000.0,42000.0,66500.0,150000.0,71000.0,75000.0,105000.0,92000.0,120000.0,92801.0,71004.0,69867.0,12000.0,57000.0,85000.0,64000.0,30000.0,51600.0,73000.0,105000.0,63000.0,65000.0,115000.0,120000.0,30000.0,42000.0,70000.0,36000.0,68000.0,127500.0,24000.0,23040.0,52000.0,60000.0,54000.0,60000.0,76000.0,53000.0,44500.0,34000.0,115000.0,55008.0,122004.0,60000.0,69000.0,45000.0,47004.0,66000.0,54000.0,145596.0,33000.0,45000.0,75500.0,44400.0,48000.0,84000.0,126252.0,50000.0,24996.0,64151.0,100000.0,60000.0,58000.0,123000.0,260000.0,35000.0,24000.0,52000.0,32000.0,82000.0,63000.0,38004.0,54000.0,54000.0,50600.0,138000.0,46000.0,38000.0,60000.0,125000.0,25000.0,30000.0,48000.0,140000.0,90000.0,18000.0,80004.0,24000.0,36500.0,34000.0,102000.0,67000.0,96000.0,90000.0,65000.0,55000.0,37500.0,145000.0,27000.0,52100.0,27600.0,16800.0,48000.0,77000.0,135000.0,74000.0,58000.0,54000.0,59000.0,20400.0,125004.0,70000.0,78000.0,80000.0,50000.0,100000.0,45000.0,43000.0,150000.0,30784.0,89000.0,47580.0,49000.0,35000.0,36000.0,30000.0,60000.0,36000.0,76000.0,360000.0,60000.0,9600.0,77000.0,72000.0,61260.0,72000.0,16320.0,42996.0,121200.0,45000.0,53000.0,34780.0,85000.0,51996.0,38500.0,68000.0,90000.0,57996.0,53000.0,55684.0,55000.0,76896.0,90000.0,10800.0,75996.0,98004.0,48000.0,31200.0,60000.0,28000.0,45400.0,36000.0,190000.0,50000.0,20000.0,53913.0,80000.0,21000.0,57000.0,50400.0,20800.0,54000.0,60000.0,75000.0,84000.0,58000.0,72000.0,50000.0,40000.0,48000.0,54000.0,140000.0,48000.0,43680.0,34000.0,58000.0,50000.0,69000.0,30000.0,105000.0,85000.0,29000.0,45000.0,48000.0,100000.0,57504.0,123000.0,40800.0,75000.0,60000.0,24000.0,43000.0,45000.0,76000.0,79000.0,53000.0,51600.0,50000.0,18000.0,232500.0,91080.0,74872.0,76000.0,105000.0,80000.0,135000.0,49000.0,85000.0,85000.0,80000.0,72000.0,140000.0,48000.0,28500.0,35010.0,77000.0,60000.0,45792.0,28800.0,44000.0,140000.0,63000.0,90000.0,54000.0,37000.0,65004.0,33000.0,34000.0,30000.0,48800.0,42312.0,36500.0,32000.0,285000.0,37000.0,306000.0,24960.0,21168.0,60000.0,87000.0,102000.0,130000.0,36000.0,45000.0,55000.0,37400.0,93000.0,120000.0,100000.0,175000.0,54000.0,66000.0,39000.0,45012.0,16800.0,32000.0,90000.0,40000.0,30000.0,130000.0,55000.0,55000.0,65000.0,109488.0,45000.0,42000.0,18000.0,250000.0,108000.0,75000.0,54000.0,47400.0,55000.0,14400.0,120000.0,60000.0,151800.0,48720.0,60000.0,74000.0,40000.0,60000.0,33600.0,45000.0,64450.0,32000.0,45000.0,26000.0,39480.0,48600.0,95000.0,43000.0,40872.0,36000.0,64600.0,48000.0,80000.0,140300.0,27000.0,50000.0,40000.0,51000.0,35040.0,130000.0,80001.0,69000.0,80000.0,36000.0,51000.0,276000.0,64000.0,135000.0,68000.0,30000.0,95000.0,75000.0,60000.0,37200.0,25000.0,70000.0,33000.0,116004.0,34000.0,21996.0,30000.0,70000.0,54400.0,45996.0,33144.0,53326.0,80800.0,85000.0,62900.0,16200.0,35000.0,57772.0,71400.0,54000.0,70000.0,57996.0,70000.0,125000.0,84000.0,56004.0,69000.0,26000.0,65000.0,95000.0,58100.0,33000.0,50000.0,38400.0,62050.0,9600.0,120000.0,73000.0,85000.0,42500.0,90000.0,70000.0,75000.0,28500.0,57000.0,24000.0,33996.0,96000.0,30000.0,72000.0,92341.0,138000.0,59000.0,55000.0,29760.0,108000.0,60000.0,75000.0,30000.0,45000.0,73500.0,120000.0,30000.0,24000.0,89000.0,35000.0,33000.0,120000.0,64200.0,80004.0,39760.0,48000.0,40000.0,51000.0,90000.0,65000.0,48384.0,95000.0,99855.0,100000.0,103000.0,32000.0,52780.0,67000.0,52000.0,238000.0,22800.0,25000.0,41000.0,76066.0,55000.0,238000.0,40000.0,28000.0,51000.0,47000.0,110000.0,110000.0,35000.0,18000.0,68000.0,66000.0,90000.0,50364.0,408000.0,39996.0,88200.0,59400.0,30000.0,42000.0,43000.0,135000.0,148000.0,39600.0,113900.0,45600.0,78000.0,48400.0,98280.0,75000.0,96000.0,40000.0,130000.0,43000.0,48000.0,90000.0,42000.0,78000.0,106000.0,44500.0,88000.0,77000.0,38000.0,80000.0,42000.0,165000.0,20000.0,57000.0,59000.0,53000.0,120000.0,72000.0,33280.0,120000.0,70000.0,65004.0,56004.0,57000.0,27840.0,65000.0,76800.0,35000.0,53040.0,53000.0,95000.0,54000.0,90084.0,31836.0,25000.0,49200.0,29120.0,51312.0,29244.0,47000.0,20000.0,60000.0,25000.0,50000.0,60000.0,29004.0,60000.0,57240.0,18200.0,69000.0,33888.0,33000.0,70000.0,35400.0,54000.0,38400.0,36000.0,52800.0,69000.0,38004.0,74000.0,29000.0,74400.0,25000.0,78000.0,57000.0,33600.0,33600.0,50000.0,45600.0,75000.0,80000.0,56000.0,125000.0,78000.0,54000.0,44400.0,81400.0,138571.0,88500.0,112000.0,29004.0,46000.0,60000.0,150000.0,150000.0,69000.0,160000.0,59000.0,60000.0,25000.0,30000.0,84000.0,92700.0,43000.0,103000.0,17280.0,34000.0,50000.0,103000.0,30000.0,14400.0,65000.0,55000.0,90000.0,54996.0,9600.0,37000.0,48000.0,48996.0,75000.0,60000.0,61000.0,75000.0,70000.0,49000.0,39600.0,120000.0,56400.0,98004.0,92000.0,50000.0,85000.0,100000.0,96000.0,66000.0,31800.0,70000.0,44000.0,64000.0,99000.0,83200.0,250000.0,40000.0,48000.0,15000.0,95000.0,150000.0,100000.0,26000.0,30000.0,15000.0,150000.0,107900.0,78000.0,95004.0,34000.0,67500.0,59000.0,40000.0,65000.0,43200.0,91000.0,90000.0,30000.0,115500.0,25500.0,33000.0,78000.0,57000.0,48000.0,62510.0,39996.0,139008.0,100000.0,65000.0,74000.0,24996.0,60000.0,141000.0,68000.0,48528.0,250000.0,87000.0,62400.0,95950.0,80000.0,43300.0,178008.0,47000.0,75000.0,84000.0,70000.0,30000.0,200000.0,98000.0,150000.0,72000.0,26004.0,75000.0,43200.0,46000.0,108000.0,29232.0,63000.0,74000.0,42000.0,90000.0,51000.0,32000.0,50000.0,78996.0,65000.0,36000.0,38000.0,28956.0,87000.0,25000.0,24000.0,42720.0,50000.0,62000.0,57600.0,74000.0,84000.0,88000.0,45000.0,144000.0,55000.0,95000.0,44000.0,22884.0,69996.0,155000.0,36000.0,91800.0,40000.0,12816.0,28800.0,35000.0,18240.0,39996.0,30000.0,48000.0,42000.0,76000.0,20000.0,50400.0,39000.0,42200.0,27000.0,77000.0,41000.0,210000.0,35000.0,48000.0,57600.0,61000.0,52500.0,15300.0,28000.0,58000.0,47360.0,74000.0,29004.0,45600.0,43000.0,20000.0,52275.0,54000.0,38000.0,50000.0,65000.0,78400.0,68000.0,31200.0,29000.0,80000.0,115000.0,240000.0,56950.0,306000.0,42000.0,37000.0,144000.0,75000.0,12000.0,131004.0,85000.0,67500.0,60000.0,33000.0,46000.0,76000.0,19200.0,60000.0,30000.0,53947.0,61000.0,30000.0,31500.0,54000.0,50000.0,35000.0,91644.0,36000.0,50000.0,77000.0,61000.0,34000.0,190000.0,54000.0,21360.0,36000.0,71760.0,31150.0,80000.0,55000.0,80000.0,59000.0,96000.0,55000.0,87000.0,69780.0,68000.0,35000.0,210000.0,47000.0,95000.0,54000.0,72000.0,111740.0,72000.0,72000.0,30000.0,55000.0,68000.0,64000.0,32268.0,33800.0,72000.0,35000.0,50000.0,76500.0,92000.0,36600.0,44991.0,52000.0,71004.0,73000.0,250000.0,86000.0,61500.0,25000.0,60500.0,72516.0,60000.0,60000.0,150000.0,63000.0,37000.0,80500.0,38700.0,79404.0,200000.0,109000.0,60000.0,100000.0,14400.0,71000.0,32000.0,40200.0,120000.0,40000.0,33600.0,108000.0,130000.0,80004.0,99000.0,48000.0,80000.0,92004.0,33504.0,45000.0,34000.0,49000.0,19000.0,108000.0,113000.0,26500.0,68000.0,186480.0,180000.0,75000.0,17640.0,75000.0,40740.0,98000.0,25000.0,24000.0,53000.0,45000.0,120000.0,49000.0,63000.0,28800.0,115154.0,33800.0,73000.0,35000.0,40000.0,75127.0,35196.0,36400.0,45600.0,60000.0,36000.0,26400.0,117000.0,82404.0,19498.0,40000.0,54000.0,42000.0,42000.0,62400.0,55000.0,37000.0,83400.0,80000.0,75000.0,35000.0,75000.0,30000.0,44000.0,51000.0,64000.0,21000.0,80000.0,50000.0,130000.0,70000.0,62000.0,44000.0,60000.0,31970.0,15996.0,16800.0,33660.0,68000.0,200000.0,40000.0,30000.0,60000.0,54000.0,32000.0,48732.0,300000.0,42000.0,39672.0,35000.0,46000.0,24000.0,95400.0,39000.0,93000.0,56000.0,90000.0,20004.0,43000.0,65200.0,95000.0,37000.0,74700.0,74000.0,100000.0,30972.0,51780.0,37000.0,30000.0,81000.0,28675.0,60000.0,66000.0,50000.0,37200.0,98400.0,150000.0,100000.0,38000.0,49000.0,48000.0,45000.0,40000.0,40000.0,55000.0,39000.0,68000.0,100000.0,62000.0,96000.0,39000.0,235000.0,200000.0,32400.0,37290.0,25200.0,70000.0,33000.0,60000.0,44000.0,90000.0,71500.0,109920.0,60000.0,85000.0,510000.0,21840.0,100000.0,948000.0,51000.0,41196.0,48000.0,28800.0,60000.0,112404.0,60000.0,100000.0,95000.0,34000.0,72000.0,23624.0,55000.0,75000.0,40750.0,52479.0,55000.0,120000.0,39600.0,124000.0,70000.0,210000.0,55680.0,93600.0,54000.0,35000.0,92004.0,42000.0,73500.0,60000.0,33600.0,57000.0,60000.0,36000.0,57000.0,42000.0,33600.0,108000.0,200000.0,78000.0,72000.0,30240.0,54000.0,48000.0,35000.0,30000.0,125000.0,75000.0,24000.0,86000.0,90400.0,93000.0,75912.0,80000.0,51996.0,52000.0,80689.0,48000.0,30000.0,21000.0,38000.0,65000.0,35000.0,39000.0,52000.0,26085.0,39456.0,53800.0,42000.0,159800.0,85000.0,145000.0,12000.0,33600.0,68000.0,40000.0,38000.0,112455.0,37000.0,25000.0,60000.0,40000.0,80000.0,38400.0,36000.0,38376.0,65000.0,40000.0,43200.0,42000.0,110000.0,24000.0,48000.0,36000.0,116000.0,90000.0,45000.0,39600.0,30000.0,18000.0,60000.0,34000.0,85000.0,48562.0,40000.0,51600.0,69570.0,33600.0,105000.0,60000.0,75000.0,57000.0,50000.0,42000.0,45000.0,50000.0,42000.0,73000.0,60500.0,36000.0,140000.0,45000.0,70400.0,200000.0,70000.0,64000.0,56000.0,80000.0,44100.0,29000.0,61000.0,25200.0,56000.0,19000.0,79000.0,49800.0,120000.0,762000.0,45630.0,84996.0,41000.0,28000.0,65000.0,300000.0,46000.0,74000.0,96000.0,90000.0,38500.0,101000.0,60000.0,54000.0,48000.0,65000.0,106925.0,48996.0,57000.0,32000.0,30000.0,42000.0,150000.0,45000.0,96000.0,36000.0,60000.0,38400.0,53000.0,39000.0,40000.0,37200.0,97500.0,25000.0,112000.0,51000.0,60000.0,103000.0,12000.0,65000.0,55000.0,28800.0,28000.0,45000.0,57000.0,69996.0,52000.0,54996.0,58000.0,110000.0,95000.0,66000.0,113000.0,10668.0,33660.0,46200.0,43000.0,40000.0,63000.0,86000.0,25000.0,37850.0,32000.0,95000.0,29976.0,32000.0,76344.0,121000.0,60000.0,127500.0,73000.0,95000.0,24996.0,170496.0,43000.0,53000.0,37000.0,42000.0,38000.0],\"y0\":\" \",\"yaxis\":\"y\",\"type\":\"box\"}],                        {\"template\":{\"data\":{\"bar\":[{\"error_x\":{\"color\":\"#2a3f5f\"},\"error_y\":{\"color\":\"#2a3f5f\"},\"marker\":{\"line\":{\"color\":\"#E5ECF6\",\"width\":0.5},\"pattern\":{\"fillmode\":\"overlay\",\"size\":10,\"solidity\":0.2}},\"type\":\"bar\"}],\"barpolar\":[{\"marker\":{\"line\":{\"color\":\"#E5ECF6\",\"width\":0.5},\"pattern\":{\"fillmode\":\"overlay\",\"size\":10,\"solidity\":0.2}},\"type\":\"barpolar\"}],\"carpet\":[{\"aaxis\":{\"endlinecolor\":\"#2a3f5f\",\"gridcolor\":\"white\",\"linecolor\":\"white\",\"minorgridcolor\":\"white\",\"startlinecolor\":\"#2a3f5f\"},\"baxis\":{\"endlinecolor\":\"#2a3f5f\",\"gridcolor\":\"white\",\"linecolor\":\"white\",\"minorgridcolor\":\"white\",\"startlinecolor\":\"#2a3f5f\"},\"type\":\"carpet\"}],\"choropleth\":[{\"colorbar\":{\"outlinewidth\":0,\"ticks\":\"\"},\"type\":\"choropleth\"}],\"contour\":[{\"colorbar\":{\"outlinewidth\":0,\"ticks\":\"\"},\"colorscale\":[[0.0,\"#0d0887\"],[0.1111111111111111,\"#46039f\"],[0.2222222222222222,\"#7201a8\"],[0.3333333333333333,\"#9c179e\"],[0.4444444444444444,\"#bd3786\"],[0.5555555555555556,\"#d8576b\"],[0.6666666666666666,\"#ed7953\"],[0.7777777777777778,\"#fb9f3a\"],[0.8888888888888888,\"#fdca26\"],[1.0,\"#f0f921\"]],\"type\":\"contour\"}],\"contourcarpet\":[{\"colorbar\":{\"outlinewidth\":0,\"ticks\":\"\"},\"type\":\"contourcarpet\"}],\"heatmap\":[{\"colorbar\":{\"outlinewidth\":0,\"ticks\":\"\"},\"colorscale\":[[0.0,\"#0d0887\"],[0.1111111111111111,\"#46039f\"],[0.2222222222222222,\"#7201a8\"],[0.3333333333333333,\"#9c179e\"],[0.4444444444444444,\"#bd3786\"],[0.5555555555555556,\"#d8576b\"],[0.6666666666666666,\"#ed7953\"],[0.7777777777777778,\"#fb9f3a\"],[0.8888888888888888,\"#fdca26\"],[1.0,\"#f0f921\"]],\"type\":\"heatmap\"}],\"heatmapgl\":[{\"colorbar\":{\"outlinewidth\":0,\"ticks\":\"\"},\"colorscale\":[[0.0,\"#0d0887\"],[0.1111111111111111,\"#46039f\"],[0.2222222222222222,\"#7201a8\"],[0.3333333333333333,\"#9c179e\"],[0.4444444444444444,\"#bd3786\"],[0.5555555555555556,\"#d8576b\"],[0.6666666666666666,\"#ed7953\"],[0.7777777777777778,\"#fb9f3a\"],[0.8888888888888888,\"#fdca26\"],[1.0,\"#f0f921\"]],\"type\":\"heatmapgl\"}],\"histogram\":[{\"marker\":{\"pattern\":{\"fillmode\":\"overlay\",\"size\":10,\"solidity\":0.2}},\"type\":\"histogram\"}],\"histogram2d\":[{\"colorbar\":{\"outlinewidth\":0,\"ticks\":\"\"},\"colorscale\":[[0.0,\"#0d0887\"],[0.1111111111111111,\"#46039f\"],[0.2222222222222222,\"#7201a8\"],[0.3333333333333333,\"#9c179e\"],[0.4444444444444444,\"#bd3786\"],[0.5555555555555556,\"#d8576b\"],[0.6666666666666666,\"#ed7953\"],[0.7777777777777778,\"#fb9f3a\"],[0.8888888888888888,\"#fdca26\"],[1.0,\"#f0f921\"]],\"type\":\"histogram2d\"}],\"histogram2dcontour\":[{\"colorbar\":{\"outlinewidth\":0,\"ticks\":\"\"},\"colorscale\":[[0.0,\"#0d0887\"],[0.1111111111111111,\"#46039f\"],[0.2222222222222222,\"#7201a8\"],[0.3333333333333333,\"#9c179e\"],[0.4444444444444444,\"#bd3786\"],[0.5555555555555556,\"#d8576b\"],[0.6666666666666666,\"#ed7953\"],[0.7777777777777778,\"#fb9f3a\"],[0.8888888888888888,\"#fdca26\"],[1.0,\"#f0f921\"]],\"type\":\"histogram2dcontour\"}],\"mesh3d\":[{\"colorbar\":{\"outlinewidth\":0,\"ticks\":\"\"},\"type\":\"mesh3d\"}],\"parcoords\":[{\"line\":{\"colorbar\":{\"outlinewidth\":0,\"ticks\":\"\"}},\"type\":\"parcoords\"}],\"pie\":[{\"automargin\":true,\"type\":\"pie\"}],\"scatter\":[{\"marker\":{\"colorbar\":{\"outlinewidth\":0,\"ticks\":\"\"}},\"type\":\"scatter\"}],\"scatter3d\":[{\"line\":{\"colorbar\":{\"outlinewidth\":0,\"ticks\":\"\"}},\"marker\":{\"colorbar\":{\"outlinewidth\":0,\"ticks\":\"\"}},\"type\":\"scatter3d\"}],\"scattercarpet\":[{\"marker\":{\"colorbar\":{\"outlinewidth\":0,\"ticks\":\"\"}},\"type\":\"scattercarpet\"}],\"scattergeo\":[{\"marker\":{\"colorbar\":{\"outlinewidth\":0,\"ticks\":\"\"}},\"type\":\"scattergeo\"}],\"scattergl\":[{\"marker\":{\"colorbar\":{\"outlinewidth\":0,\"ticks\":\"\"}},\"type\":\"scattergl\"}],\"scattermapbox\":[{\"marker\":{\"colorbar\":{\"outlinewidth\":0,\"ticks\":\"\"}},\"type\":\"scattermapbox\"}],\"scatterpolar\":[{\"marker\":{\"colorbar\":{\"outlinewidth\":0,\"ticks\":\"\"}},\"type\":\"scatterpolar\"}],\"scatterpolargl\":[{\"marker\":{\"colorbar\":{\"outlinewidth\":0,\"ticks\":\"\"}},\"type\":\"scatterpolargl\"}],\"scatterternary\":[{\"marker\":{\"colorbar\":{\"outlinewidth\":0,\"ticks\":\"\"}},\"type\":\"scatterternary\"}],\"surface\":[{\"colorbar\":{\"outlinewidth\":0,\"ticks\":\"\"},\"colorscale\":[[0.0,\"#0d0887\"],[0.1111111111111111,\"#46039f\"],[0.2222222222222222,\"#7201a8\"],[0.3333333333333333,\"#9c179e\"],[0.4444444444444444,\"#bd3786\"],[0.5555555555555556,\"#d8576b\"],[0.6666666666666666,\"#ed7953\"],[0.7777777777777778,\"#fb9f3a\"],[0.8888888888888888,\"#fdca26\"],[1.0,\"#f0f921\"]],\"type\":\"surface\"}],\"table\":[{\"cells\":{\"fill\":{\"color\":\"#EBF0F8\"},\"line\":{\"color\":\"white\"}},\"header\":{\"fill\":{\"color\":\"#C8D4E3\"},\"line\":{\"color\":\"white\"}},\"type\":\"table\"}]},\"layout\":{\"annotationdefaults\":{\"arrowcolor\":\"#2a3f5f\",\"arrowhead\":0,\"arrowwidth\":1},\"autotypenumbers\":\"strict\",\"coloraxis\":{\"colorbar\":{\"outlinewidth\":0,\"ticks\":\"\"}},\"colorscale\":{\"diverging\":[[0,\"#8e0152\"],[0.1,\"#c51b7d\"],[0.2,\"#de77ae\"],[0.3,\"#f1b6da\"],[0.4,\"#fde0ef\"],[0.5,\"#f7f7f7\"],[0.6,\"#e6f5d0\"],[0.7,\"#b8e186\"],[0.8,\"#7fbc41\"],[0.9,\"#4d9221\"],[1,\"#276419\"]],\"sequential\":[[0.0,\"#0d0887\"],[0.1111111111111111,\"#46039f\"],[0.2222222222222222,\"#7201a8\"],[0.3333333333333333,\"#9c179e\"],[0.4444444444444444,\"#bd3786\"],[0.5555555555555556,\"#d8576b\"],[0.6666666666666666,\"#ed7953\"],[0.7777777777777778,\"#fb9f3a\"],[0.8888888888888888,\"#fdca26\"],[1.0,\"#f0f921\"]],\"sequentialminus\":[[0.0,\"#0d0887\"],[0.1111111111111111,\"#46039f\"],[0.2222222222222222,\"#7201a8\"],[0.3333333333333333,\"#9c179e\"],[0.4444444444444444,\"#bd3786\"],[0.5555555555555556,\"#d8576b\"],[0.6666666666666666,\"#ed7953\"],[0.7777777777777778,\"#fb9f3a\"],[0.8888888888888888,\"#fdca26\"],[1.0,\"#f0f921\"]]},\"colorway\":[\"#636efa\",\"#EF553B\",\"#00cc96\",\"#ab63fa\",\"#FFA15A\",\"#19d3f3\",\"#FF6692\",\"#B6E880\",\"#FF97FF\",\"#FECB52\"],\"font\":{\"color\":\"#2a3f5f\"},\"geo\":{\"bgcolor\":\"white\",\"lakecolor\":\"white\",\"landcolor\":\"#E5ECF6\",\"showlakes\":true,\"showland\":true,\"subunitcolor\":\"white\"},\"hoverlabel\":{\"align\":\"left\"},\"hovermode\":\"closest\",\"mapbox\":{\"style\":\"light\"},\"paper_bgcolor\":\"white\",\"plot_bgcolor\":\"#E5ECF6\",\"polar\":{\"angularaxis\":{\"gridcolor\":\"white\",\"linecolor\":\"white\",\"ticks\":\"\"},\"bgcolor\":\"#E5ECF6\",\"radialaxis\":{\"gridcolor\":\"white\",\"linecolor\":\"white\",\"ticks\":\"\"}},\"scene\":{\"xaxis\":{\"backgroundcolor\":\"#E5ECF6\",\"gridcolor\":\"white\",\"gridwidth\":2,\"linecolor\":\"white\",\"showbackground\":true,\"ticks\":\"\",\"zerolinecolor\":\"white\"},\"yaxis\":{\"backgroundcolor\":\"#E5ECF6\",\"gridcolor\":\"white\",\"gridwidth\":2,\"linecolor\":\"white\",\"showbackground\":true,\"ticks\":\"\",\"zerolinecolor\":\"white\"},\"zaxis\":{\"backgroundcolor\":\"#E5ECF6\",\"gridcolor\":\"white\",\"gridwidth\":2,\"linecolor\":\"white\",\"showbackground\":true,\"ticks\":\"\",\"zerolinecolor\":\"white\"}},\"shapedefaults\":{\"line\":{\"color\":\"#2a3f5f\"}},\"ternary\":{\"aaxis\":{\"gridcolor\":\"white\",\"linecolor\":\"white\",\"ticks\":\"\"},\"baxis\":{\"gridcolor\":\"white\",\"linecolor\":\"white\",\"ticks\":\"\"},\"bgcolor\":\"#E5ECF6\",\"caxis\":{\"gridcolor\":\"white\",\"linecolor\":\"white\",\"ticks\":\"\"}},\"title\":{\"x\":0.05},\"xaxis\":{\"automargin\":true,\"gridcolor\":\"white\",\"linecolor\":\"white\",\"ticks\":\"\",\"title\":{\"standoff\":15},\"zerolinecolor\":\"white\",\"zerolinewidth\":2},\"yaxis\":{\"automargin\":true,\"gridcolor\":\"white\",\"linecolor\":\"white\",\"ticks\":\"\",\"title\":{\"standoff\":15},\"zerolinecolor\":\"white\",\"zerolinewidth\":2}}},\"xaxis\":{\"anchor\":\"y\",\"domain\":[0.0,1.0]},\"yaxis\":{\"anchor\":\"x\",\"domain\":[0.0,1.0],\"title\":{\"text\":\"salario_anual\"}},\"legend\":{\"tracegroupgap\":0},\"title\":{\"text\":\"Sal\\u00e1rio Anual\"},\"boxmode\":\"group\",\"height\":800,\"width\":400},                        {\"responsive\": true}                    ).then(function(){\n",
              "                            \n",
              "var gd = document.getElementById('f83eed46-dcee-4f3f-8ce6-27481a7844a7');\n",
              "var x = new MutationObserver(function (mutations, observer) {{\n",
              "        var display = window.getComputedStyle(gd).display;\n",
              "        if (!display || display === 'none') {{\n",
              "            console.log([gd, 'removed!']);\n",
              "            Plotly.purge(gd);\n",
              "            observer.disconnect();\n",
              "        }}\n",
              "}});\n",
              "\n",
              "// Listen for the removal of the full notebook cells\n",
              "var notebookContainer = gd.closest('#notebook-container');\n",
              "if (notebookContainer) {{\n",
              "    x.observe(notebookContainer, {childList: true});\n",
              "}}\n",
              "\n",
              "// Listen for the clearing of the current output cell\n",
              "var outputEl = gd.closest('.output');\n",
              "if (outputEl) {{\n",
              "    x.observe(outputEl, {childList: true});\n",
              "}}\n",
              "\n",
              "                        })                };                            </script>        </div>\n",
              "</body>\n",
              "</html>"
            ]
          },
          "metadata": {}
        }
      ],
      "source": [
        "import plotly.express as px\n",
        "\n",
        "fig = px.box(dados, \n",
        "             y=\"salario_anual\",\n",
        "             width=400,\n",
        "             height=800,\n",
        "             title = 'Salário Anual')\n",
        "fig.show()"
      ]
    },
    {
      "cell_type": "markdown",
      "metadata": {
        "id": "oRrbCw5khpPd"
      },
      "source": [
        "Através das visualizações gráficas, consegue-se traçar um valor adequado para remoção dos outliers:"
      ]
    },
    {
      "cell_type": "code",
      "execution_count": 26,
      "metadata": {
        "colab": {
          "base_uri": "https://localhost:8080/",
          "height": 0
        },
        "id": "7oeycIrkh00x",
        "outputId": "e282803e-3114-45a8-a8e0-7bda440b43bf"
      },
      "outputs": [
        {
          "output_type": "execute_result",
          "data": {
            "text/plain": [
              "       idade  salario_anual situacao_imovel  anos_empregado  \\\n",
              "1284      63      1782000.0            Rent              13   \n",
              "6183      36      1200000.0             Own              16   \n",
              "11484     50       900000.0        Mortgage              11   \n",
              "13654     42      2039784.0            Rent               0   \n",
              "20002     37       900000.0        Mortgage               5   \n",
              "21437     47      1362000.0        Mortgage               9   \n",
              "23388     58       900000.0            Rent              18   \n",
              "24608     32      1200000.0        Mortgage               1   \n",
              "26835     44      1440000.0        Mortgage               7   \n",
              "28420     34       948000.0        Mortgage              18   \n",
              "\n",
              "       motivo_emprestimo pontuacao_emprestimo  total_a_emprestar  juros  \\\n",
              "1284           Education                    C            12025.0  14.27   \n",
              "6183             Medical                    A            10000.0   6.54   \n",
              "11484  Debtconsolidation                    B            30000.0  12.69   \n",
              "13654            Venture                    C             8450.0  12.29   \n",
              "20002           Personal                    C            25000.0  12.87   \n",
              "21437            Venture                    A             6600.0   7.74   \n",
              "23388  Debtconsolidation                    C            19600.0  13.98   \n",
              "24608            Venture                    A            12000.0   7.51   \n",
              "26835  Debtconsolidation                    A             6400.0   7.40   \n",
              "28420           Personal                    B             2000.0   9.99   \n",
              "\n",
              "       possibilidade_inadimplencia  percentual_emprestimo_renda  \\\n",
              "1284                             0                         0.01   \n",
              "6183                             0                         0.01   \n",
              "11484                            0                         0.03   \n",
              "13654                            0                         0.00   \n",
              "20002                            0                         0.03   \n",
              "21437                            0                         0.00   \n",
              "23388                            0                         0.02   \n",
              "24608                            0                         0.01   \n",
              "26835                            0                         0.00   \n",
              "28420                            0                         0.00   \n",
              "\n",
              "      ja_foi_inadimplente  anos_de_credito  \n",
              "1284                    N             30.0  \n",
              "6183                    N             11.0  \n",
              "11484                   N             15.0  \n",
              "13654                   Y             15.0  \n",
              "20002                   Y             13.0  \n",
              "21437                   N             17.0  \n",
              "23388                   N             28.0  \n",
              "24608                   N              8.0  \n",
              "26835                   N             15.0  \n",
              "28420                   N              7.0  "
            ],
            "text/html": [
              "\n",
              "  <div id=\"df-da2f1247-763f-4700-b381-ba6c71756f57\">\n",
              "    <div class=\"colab-df-container\">\n",
              "      <div>\n",
              "<style scoped>\n",
              "    .dataframe tbody tr th:only-of-type {\n",
              "        vertical-align: middle;\n",
              "    }\n",
              "\n",
              "    .dataframe tbody tr th {\n",
              "        vertical-align: top;\n",
              "    }\n",
              "\n",
              "    .dataframe thead th {\n",
              "        text-align: right;\n",
              "    }\n",
              "</style>\n",
              "<table border=\"1\" class=\"dataframe\">\n",
              "  <thead>\n",
              "    <tr style=\"text-align: right;\">\n",
              "      <th></th>\n",
              "      <th>idade</th>\n",
              "      <th>salario_anual</th>\n",
              "      <th>situacao_imovel</th>\n",
              "      <th>anos_empregado</th>\n",
              "      <th>motivo_emprestimo</th>\n",
              "      <th>pontuacao_emprestimo</th>\n",
              "      <th>total_a_emprestar</th>\n",
              "      <th>juros</th>\n",
              "      <th>possibilidade_inadimplencia</th>\n",
              "      <th>percentual_emprestimo_renda</th>\n",
              "      <th>ja_foi_inadimplente</th>\n",
              "      <th>anos_de_credito</th>\n",
              "    </tr>\n",
              "  </thead>\n",
              "  <tbody>\n",
              "    <tr>\n",
              "      <th>1284</th>\n",
              "      <td>63</td>\n",
              "      <td>1782000.0</td>\n",
              "      <td>Rent</td>\n",
              "      <td>13</td>\n",
              "      <td>Education</td>\n",
              "      <td>C</td>\n",
              "      <td>12025.0</td>\n",
              "      <td>14.27</td>\n",
              "      <td>0</td>\n",
              "      <td>0.01</td>\n",
              "      <td>N</td>\n",
              "      <td>30.0</td>\n",
              "    </tr>\n",
              "    <tr>\n",
              "      <th>6183</th>\n",
              "      <td>36</td>\n",
              "      <td>1200000.0</td>\n",
              "      <td>Own</td>\n",
              "      <td>16</td>\n",
              "      <td>Medical</td>\n",
              "      <td>A</td>\n",
              "      <td>10000.0</td>\n",
              "      <td>6.54</td>\n",
              "      <td>0</td>\n",
              "      <td>0.01</td>\n",
              "      <td>N</td>\n",
              "      <td>11.0</td>\n",
              "    </tr>\n",
              "    <tr>\n",
              "      <th>11484</th>\n",
              "      <td>50</td>\n",
              "      <td>900000.0</td>\n",
              "      <td>Mortgage</td>\n",
              "      <td>11</td>\n",
              "      <td>Debtconsolidation</td>\n",
              "      <td>B</td>\n",
              "      <td>30000.0</td>\n",
              "      <td>12.69</td>\n",
              "      <td>0</td>\n",
              "      <td>0.03</td>\n",
              "      <td>N</td>\n",
              "      <td>15.0</td>\n",
              "    </tr>\n",
              "    <tr>\n",
              "      <th>13654</th>\n",
              "      <td>42</td>\n",
              "      <td>2039784.0</td>\n",
              "      <td>Rent</td>\n",
              "      <td>0</td>\n",
              "      <td>Venture</td>\n",
              "      <td>C</td>\n",
              "      <td>8450.0</td>\n",
              "      <td>12.29</td>\n",
              "      <td>0</td>\n",
              "      <td>0.00</td>\n",
              "      <td>Y</td>\n",
              "      <td>15.0</td>\n",
              "    </tr>\n",
              "    <tr>\n",
              "      <th>20002</th>\n",
              "      <td>37</td>\n",
              "      <td>900000.0</td>\n",
              "      <td>Mortgage</td>\n",
              "      <td>5</td>\n",
              "      <td>Personal</td>\n",
              "      <td>C</td>\n",
              "      <td>25000.0</td>\n",
              "      <td>12.87</td>\n",
              "      <td>0</td>\n",
              "      <td>0.03</td>\n",
              "      <td>Y</td>\n",
              "      <td>13.0</td>\n",
              "    </tr>\n",
              "    <tr>\n",
              "      <th>21437</th>\n",
              "      <td>47</td>\n",
              "      <td>1362000.0</td>\n",
              "      <td>Mortgage</td>\n",
              "      <td>9</td>\n",
              "      <td>Venture</td>\n",
              "      <td>A</td>\n",
              "      <td>6600.0</td>\n",
              "      <td>7.74</td>\n",
              "      <td>0</td>\n",
              "      <td>0.00</td>\n",
              "      <td>N</td>\n",
              "      <td>17.0</td>\n",
              "    </tr>\n",
              "    <tr>\n",
              "      <th>23388</th>\n",
              "      <td>58</td>\n",
              "      <td>900000.0</td>\n",
              "      <td>Rent</td>\n",
              "      <td>18</td>\n",
              "      <td>Debtconsolidation</td>\n",
              "      <td>C</td>\n",
              "      <td>19600.0</td>\n",
              "      <td>13.98</td>\n",
              "      <td>0</td>\n",
              "      <td>0.02</td>\n",
              "      <td>N</td>\n",
              "      <td>28.0</td>\n",
              "    </tr>\n",
              "    <tr>\n",
              "      <th>24608</th>\n",
              "      <td>32</td>\n",
              "      <td>1200000.0</td>\n",
              "      <td>Mortgage</td>\n",
              "      <td>1</td>\n",
              "      <td>Venture</td>\n",
              "      <td>A</td>\n",
              "      <td>12000.0</td>\n",
              "      <td>7.51</td>\n",
              "      <td>0</td>\n",
              "      <td>0.01</td>\n",
              "      <td>N</td>\n",
              "      <td>8.0</td>\n",
              "    </tr>\n",
              "    <tr>\n",
              "      <th>26835</th>\n",
              "      <td>44</td>\n",
              "      <td>1440000.0</td>\n",
              "      <td>Mortgage</td>\n",
              "      <td>7</td>\n",
              "      <td>Debtconsolidation</td>\n",
              "      <td>A</td>\n",
              "      <td>6400.0</td>\n",
              "      <td>7.40</td>\n",
              "      <td>0</td>\n",
              "      <td>0.00</td>\n",
              "      <td>N</td>\n",
              "      <td>15.0</td>\n",
              "    </tr>\n",
              "    <tr>\n",
              "      <th>28420</th>\n",
              "      <td>34</td>\n",
              "      <td>948000.0</td>\n",
              "      <td>Mortgage</td>\n",
              "      <td>18</td>\n",
              "      <td>Personal</td>\n",
              "      <td>B</td>\n",
              "      <td>2000.0</td>\n",
              "      <td>9.99</td>\n",
              "      <td>0</td>\n",
              "      <td>0.00</td>\n",
              "      <td>N</td>\n",
              "      <td>7.0</td>\n",
              "    </tr>\n",
              "  </tbody>\n",
              "</table>\n",
              "</div>\n",
              "      <button class=\"colab-df-convert\" onclick=\"convertToInteractive('df-da2f1247-763f-4700-b381-ba6c71756f57')\"\n",
              "              title=\"Convert this dataframe to an interactive table.\"\n",
              "              style=\"display:none;\">\n",
              "        \n",
              "  <svg xmlns=\"http://www.w3.org/2000/svg\" height=\"24px\"viewBox=\"0 0 24 24\"\n",
              "       width=\"24px\">\n",
              "    <path d=\"M0 0h24v24H0V0z\" fill=\"none\"/>\n",
              "    <path d=\"M18.56 5.44l.94 2.06.94-2.06 2.06-.94-2.06-.94-.94-2.06-.94 2.06-2.06.94zm-11 1L8.5 8.5l.94-2.06 2.06-.94-2.06-.94L8.5 2.5l-.94 2.06-2.06.94zm10 10l.94 2.06.94-2.06 2.06-.94-2.06-.94-.94-2.06-.94 2.06-2.06.94z\"/><path d=\"M17.41 7.96l-1.37-1.37c-.4-.4-.92-.59-1.43-.59-.52 0-1.04.2-1.43.59L10.3 9.45l-7.72 7.72c-.78.78-.78 2.05 0 2.83L4 21.41c.39.39.9.59 1.41.59.51 0 1.02-.2 1.41-.59l7.78-7.78 2.81-2.81c.8-.78.8-2.07 0-2.86zM5.41 20L4 18.59l7.72-7.72 1.47 1.35L5.41 20z\"/>\n",
              "  </svg>\n",
              "      </button>\n",
              "      \n",
              "  <style>\n",
              "    .colab-df-container {\n",
              "      display:flex;\n",
              "      flex-wrap:wrap;\n",
              "      gap: 12px;\n",
              "    }\n",
              "\n",
              "    .colab-df-convert {\n",
              "      background-color: #E8F0FE;\n",
              "      border: none;\n",
              "      border-radius: 50%;\n",
              "      cursor: pointer;\n",
              "      display: none;\n",
              "      fill: #1967D2;\n",
              "      height: 32px;\n",
              "      padding: 0 0 0 0;\n",
              "      width: 32px;\n",
              "    }\n",
              "\n",
              "    .colab-df-convert:hover {\n",
              "      background-color: #E2EBFA;\n",
              "      box-shadow: 0px 1px 2px rgba(60, 64, 67, 0.3), 0px 1px 3px 1px rgba(60, 64, 67, 0.15);\n",
              "      fill: #174EA6;\n",
              "    }\n",
              "\n",
              "    [theme=dark] .colab-df-convert {\n",
              "      background-color: #3B4455;\n",
              "      fill: #D2E3FC;\n",
              "    }\n",
              "\n",
              "    [theme=dark] .colab-df-convert:hover {\n",
              "      background-color: #434B5C;\n",
              "      box-shadow: 0px 1px 3px 1px rgba(0, 0, 0, 0.15);\n",
              "      filter: drop-shadow(0px 1px 2px rgba(0, 0, 0, 0.3));\n",
              "      fill: #FFFFFF;\n",
              "    }\n",
              "  </style>\n",
              "\n",
              "      <script>\n",
              "        const buttonEl =\n",
              "          document.querySelector('#df-da2f1247-763f-4700-b381-ba6c71756f57 button.colab-df-convert');\n",
              "        buttonEl.style.display =\n",
              "          google.colab.kernel.accessAllowed ? 'block' : 'none';\n",
              "\n",
              "        async function convertToInteractive(key) {\n",
              "          const element = document.querySelector('#df-da2f1247-763f-4700-b381-ba6c71756f57');\n",
              "          const dataTable =\n",
              "            await google.colab.kernel.invokeFunction('convertToInteractive',\n",
              "                                                     [key], {});\n",
              "          if (!dataTable) return;\n",
              "\n",
              "          const docLinkHtml = 'Like what you see? Visit the ' +\n",
              "            '<a target=\"_blank\" href=https://colab.research.google.com/notebooks/data_table.ipynb>data table notebook</a>'\n",
              "            + ' to learn more about interactive tables.';\n",
              "          element.innerHTML = '';\n",
              "          dataTable['output_type'] = 'display_data';\n",
              "          await google.colab.output.renderOutput(dataTable, element);\n",
              "          const docLink = document.createElement('div');\n",
              "          docLink.innerHTML = docLinkHtml;\n",
              "          element.appendChild(docLink);\n",
              "        }\n",
              "      </script>\n",
              "    </div>\n",
              "  </div>\n",
              "  "
            ]
          },
          "metadata": {},
          "execution_count": 26
        }
      ],
      "source": [
        "dados.loc[dados['salario_anual'] > 800000]"
      ]
    },
    {
      "cell_type": "markdown",
      "metadata": {
        "id": "B3uQfviejzVF"
      },
      "source": [
        "Removendo outliers do dataset:"
      ]
    },
    {
      "cell_type": "code",
      "source": [
        "dados.drop(dados[dados['salario_anual'] > 800000].index, inplace = True)"
      ],
      "metadata": {
        "id": "WqswsFBSxKkY"
      },
      "execution_count": 27,
      "outputs": []
    },
    {
      "cell_type": "markdown",
      "metadata": {
        "id": "JVAkm7uBstbo"
      },
      "source": [
        "Reavaliando visualizações gráficas:"
      ]
    },
    {
      "cell_type": "code",
      "execution_count": 28,
      "metadata": {
        "colab": {
          "base_uri": "https://localhost:8080/",
          "height": 0
        },
        "id": "DeHTRLICslao",
        "outputId": "4df6b955-2a34-4b80-d10a-c524f2fb2883"
      },
      "outputs": [
        {
          "output_type": "display_data",
          "data": {
            "text/plain": [
              "<Figure size 864x576 with 1 Axes>"
            ],
            "image/png": "[encoded data removed]"
          },
          "metadata": {
            "needs_background": "light"
          }
        }
      ],
      "source": [
        "import seaborn as sns\n",
        "\n",
        "ax = sns.displot(dados['salario_anual'], kde= True)\n",
        "ax.set(xlabel= 'Salário Anual', ylabel= 'Densidade', title= 'Distribuição do Salário Anual')\n",
        "ax.figure.set_size_inches(12,8)"
      ]
    },
    {
      "cell_type": "code",
      "execution_count": 29,
      "metadata": {
        "colab": {
          "base_uri": "https://localhost:8080/",
          "height": 0
        },
        "id": "Y7wpAJwQsZEQ",
        "outputId": "932d1181-ae10-4761-f47d-3207db803711"
      },
      "outputs": [
        {
          "output_type": "display_data",
          "data": {
            "text/html": [
              "<html>\n",
              "<head><meta charset=\"utf-8\" /></head>\n",
              "<body>\n",
              "    <div>            <script src=\"https://cdnjs.cloudflare.com/ajax/libs/mathjax/2.7.5/MathJax.js?config=TeX-AMS-MML_SVG\"></script><script type=\"text/javascript\">if (window.MathJax) {MathJax.Hub.Config({SVG: {font: \"STIX-Web\"}});}</script>                <script type=\"text/javascript\">window.PlotlyConfig = {MathJaxConfig: 'local'};</script>\n",
              "        <script src=\"https://cdn.plot.ly/plotly-2.8.3.min.js\"></script>                <div id=\"9cf9dfa7-3705-471d-b0c6-7a13bdfbbf0c\" class=\"plotly-graph-div\" style=\"height:800px; width:400px;\"></div>            <script type=\"text/javascript\">                                    window.PLOTLYENV=window.PLOTLYENV || {};                                    if (document.getElementById(\"9cf9dfa7-3705-471d-b0c6-7a13bdfbbf0c\")) {                    Plotly.newPlot(                        \"9cf9dfa7-3705-471d-b0c6-7a13bdfbbf0c\",                        [{\"alignmentgroup\":\"True\",\"hovertemplate\":\"salario_anual=%{y}<extra></extra>\",\"legendgroup\":\"\",\"marker\":{\"color\":\"#636efa\"},\"name\":\"\",\"notched\":false,\"offsetgroup\":\"\",\"orientation\":\"v\",\"showlegend\":false,\"x0\":\" \",\"xaxis\":\"x\",\"y\":[50000.0,45000.0,155142.0,49232.0,125000.0,50000.0,38400.0,30000.0,54000.0,33996.0,29120.0,75000.0,85000.0,80000.0,87550.0,99996.0,80400.0,36000.0,70000.0,36000.0,47000.0,100000.0,100000.0,62900.0,41500.0,78000.0,115000.0,65000.0,32000.0,150000.0,58000.0,54000.0,31200.0,70000.0,273700.0,99400.0,75000.0,177160.0,60174.0,112995.0,72000.0,50000.0,92700.0,36100.0,57700.0,40000.0,19200.0,81000.0,60000.0,29120.0,42000.0,17000.0,118812.0,26400.0,42000.0,93000.0,60000.0,68000.0,48000.0,66996.0,50000.0,46000.0,87895.0,66000.0,35000.0,250000.0,140304.0,31680.0,84300.0,50000.0,28800.0,70399.0,42000.0,152229.0,35000.0,41900.0,155004.0,26400.0,29004.0,60000.0,80000.0,127500.0,20000.0,120000.0,77000.0,32000.0,69600.0,23712.0,60000.0,42856.0,89000.0,125000.0,60000.0,140000.0,73524.0,182004.0,47000.0,61000.0,75000.0,96713.0,35000.0,76000.0,29364.0,45000.0,220000.0,45000.0,43200.0,55200.0,96408.0,40000.0,85000.0,39000.0,190000.0,30000.0,37700.0,18000.0,41300.0,48712.0,37500.0,78000.0,45000.0,105000.0,60000.0,45996.0,75000.0,250000.0,54000.0,58000.0,110000.0,54996.0,81000.0,61200.0,52000.0,78465.0,25591.0,62000.0,69000.0,52000.0,49600.0,30000.0,62004.0,15000.0,60000.0,69996.0,26000.0,99473.0,59147.0,44000.0,75000.0,26000.0,24000.0,28800.0,80000.0,30000.0,95000.0,27983.0,87000.0,24000.0,83000.0,125004.0,50000.0,73000.0,26000.0,168600.0,47928.0,40000.0,14000.0,130000.0,50000.0,60000.0,85000.0,54000.0,60000.0,24000.0,50000.0,54000.0,59000.0,43200.0,50000.0,40000.0,37560.0,52500.0,108000.0,47000.0,58000.0,73700.0,55315.0,43000.0,68000.0,32000.0,126696.0,20292.0,50000.0,20000.0,31200.0,35000.0,43500.0,38400.0,59000.0,48000.0,42000.0,102300.0,43200.0,99500.0,90750.0,48000.0,47052.0,130000.0,125000.0,30000.0,42000.0,66300.0,40000.0,95000.0,48000.0,172000.0,61000.0,47000.0,39480.0,55000.0,67200.0,9600.0,22000.0,54996.0,193800.0,85000.0,54000.0,42000.0,80000.0,25000.0,110400.0,52800.0,200000.0,18500.0,154000.0,144000.0,18000.0,49000.0,24960.0,120000.0,31000.0,60000.0,66000.0,83050.0,62903.0,80000.0,18287.0,35375.0,112260.0,35364.0,58000.0,54000.0,68500.0,36300.0,46000.0,65000.0,75000.0,39996.0,24000.0,42000.0,39000.0,48000.0,29000.0,238000.0,85000.0,90000.0,60000.0,80000.0,54000.0,90000.0,68400.0,126000.0,38400.0,33288.0,37008.0,46728.0,36000.0,60000.0,44000.0,75600.0,73008.0,66000.0,90000.0,60000.0,24000.0,95000.0,16800.0,50000.0,18000.0,24000.0,45000.0,110000.0,48000.0,75000.0,44000.0,60000.0,30000.0,84000.0,50000.0,91800.0,43000.0,24000.0,60000.0,40944.0,114000.0,24000.0,62201.0,57000.0,70000.0,30000.0,151900.0,180000.0,37800.0,40000.0,47700.0,70000.0,36000.0,56000.0,37000.0,42000.0,56400.0,50000.0,32388.0,78420.0,96000.0,110000.0,69000.0,38000.0,140000.0,82000.0,38604.0,26000.0,48000.0,52000.0,25000.0,29950.0,54000.0,99996.0,37500.0,55000.0,48840.0,73000.0,53950.0,64000.0,80000.0,39000.0,48000.0,32000.0,48000.0,60000.0,50000.0,125000.0,55000.0,61000.0,88000.0,51500.0,86400.0,14400.0,80000.0,28800.0,33000.0,48000.0,115000.0,85000.0,41000.0,48000.0,64500.0,113800.0,80000.0,23766.0,98000.0,32400.0,143150.0,50000.0,33000.0,38000.0,60000.0,63000.0,35000.0,28000.0,62000.0,480000.0,98000.0,75000.0,32000.0,54000.0,74568.0,64000.0,110888.0,56244.0,76000.0,51000.0,55000.0,88000.0,34800.0,56052.0,76000.0,29376.0,15600.0,41200.0,180000.0,65000.0,26496.0,76000.0,99000.0,75000.0,59000.0,85000.0,80000.0,61400.0,53000.0,55000.0,34000.0,156000.0,33267.0,75000.0,80000.0,21600.0,85000.0,63500.0,165000.0,44447.0,36000.0,71004.0,64000.0,117996.0,32500.0,74400.0,74000.0,47000.0,200000.0,68400.0,140000.0,90000.0,28550.0,59000.0,19200.0,130900.0,88512.0,91560.0,60000.0,42000.0,55000.0,76000.0,42996.0,48000.0,21000.0,80000.0,50000.0,21996.0,40000.0,98280.0,82560.0,81120.0,60000.0,60000.0,140000.0,300000.0,75000.0,85000.0,56000.0,65000.0,79996.0,60000.0,84996.0,18000.0,55000.0,75000.0,84000.0,60000.0,95000.0,30000.0,82000.0,69000.0,120000.0,64000.0,60000.0,65000.0,20400.0,50000.0,40351.0,33276.0,15000.0,32000.0,65000.0,91000.0,35000.0,42000.0,120000.0,50000.0,58608.0,50000.0,38000.0,89004.0,24000.0,56000.0,10000.0,62000.0,86000.0,33800.0,28000.0,55000.0,48000.0,56000.0,33000.0,73000.0,85000.0,95028.0,67992.0,40792.0,30000.0,125000.0,46443.0,21000.0,18300.0,60000.0,74000.0,225000.0,35000.0,65000.0,38400.0,18000.0,190000.0,32900.0,39000.0,50000.0,29000.0,69743.0,60000.0,38643.0,54996.0,25000.0,12000.0,39600.0,50000.0,50000.0,160000.0,25480.0,32400.0,26780.0,36000.0,77000.0,80000.0,96000.0,72000.0,200000.0,51000.0,28692.0,97000.0,26280.0,24000.0,48000.0,125000.0,57000.0,33600.0,150000.0,87000.0,45324.0,154000.0,32000.0,12000.0,126000.0,56400.0,48996.0,12600.0,50000.0,42000.0,40000.0,29004.0,87000.0,68000.0,42000.0,63945.0,90000.0,27000.0,32000.0,70000.0,87500.0,45000.0,67200.0,55000.0,30000.0,72000.0,45000.0,40000.0,36000.0,43000.0,67000.0,66000.0,30000.0,32000.0,36000.0,65000.0,60000.0,80000.0,30000.0,67900.0,42000.0,75531.0,85000.0,28008.0,47500.0,48000.0,29000.0,40116.0,40000.0,60000.0,60000.0,110000.0,70000.0,77000.0,78000.0,75000.0,67150.0,21600.0,26729.0,30000.0,85000.0,45000.0,76700.0,24480.0,85000.0,47000.0,64698.0,84000.0,82000.0,80000.0,96000.0,40000.0,62000.0,24500.0,27996.0,50000.0,41000.0,44000.0,75000.0,103000.0,40000.0,24290.0,80004.0,60000.0,24000.0,60000.0,60000.0,53004.0,33600.0,50000.0,75000.0,140000.0,55000.0,29000.0,60000.0,45996.0,65000.0,55782.0,84000.0,74000.0,35000.0,130208.0,40000.0,50000.0,32000.0,41000.0,90000.0,26400.0,66000.0,72500.0,65000.0,50000.0,201000.0,155000.0,38000.0,38340.0,48996.0,14400.0,32376.0,45000.0,32993.0,21000.0,60000.0,42000.0,75000.0,79200.0,110000.0,60000.0,103000.0,30996.0,49000.0,165000.0,64900.0,58650.0,75000.0,46000.0,55152.0,38400.0,129600.0,54000.0,49812.0,78000.0,52000.0,43200.0,45000.0,12996.0,87550.0,65000.0,57600.0,74000.0,112000.0,26000.0,45760.0,98000.0,97800.0,50700.0,51000.0,60000.0,35000.0,26400.0,63000.0,110000.0,109000.0,32004.0,59000.0,25596.0,21600.0,37000.0,67000.0,52000.0,90000.0,100500.0,75000.0,75852.0,154008.0,38850.0,77000.0,12600.0,90000.0,40000.0,107000.0,51000.0,34000.0,32500.0,75000.0,37200.0,31000.0,65219.0,17573.0,60000.0,60000.0,55000.0,45000.0,110400.0,30000.0,68500.0,65416.0,65000.0,45000.0,64800.0,48000.0,80000.0,31416.0,47125.0,88000.0,42240.0,67200.0,59500.0,39996.0,75000.0,185000.0,32304.0,60000.0,36000.0,31400.0,106000.0,98300.0,60000.0,49000.0,66000.0,30000.0,45000.0,21600.0,62000.0,42000.0,37000.0,50000.0,44000.0,90000.0,40000.0,41004.0,48996.0,105000.0,200000.0,28800.0,103000.0,38004.0,62400.0,35000.0,96636.0,80000.0,73073.0,42000.0,45000.0,48000.0,60040.0,79000.0,60000.0,30000.0,30000.0,105600.0,54000.0,44000.0,105000.0,19200.0,52000.0,180000.0,71500.0,52250.0,51000.0,65000.0,64000.0,74000.0,97000.0,48000.0,78996.0,37000.0,39000.0,84000.0,42000.0,75000.0,65000.0,54000.0,39000.0,52250.0,62000.0,111150.0,70000.0,38000.0,48000.0,27983.0,71500.0,72000.0,80000.0,72000.0,50000.0,52000.0,26000.0,57160.0,99300.0,100860.0,65000.0,42000.0,45000.0,102000.0,75000.0,54792.0,92000.0,61828.0,125000.0,44000.0,90000.0,71652.0,88620.0,45000.0,30000.0,54000.0,47000.0,57600.0,69996.0,42000.0,80000.0,49000.0,26500.0,30000.0,102000.0,40581.0,45176.0,96720.0,51000.0,50400.0,25000.0,50000.0,51200.0,52000.0,75000.0,41100.0,39000.0,79000.0,16800.0,75000.0,74700.0,110000.0,135000.0,26400.0,44000.0,85000.0,108000.0,31200.0,74400.0,60000.0,51500.0,30000.0,45000.0,69000.0,116000.0,95000.0,24000.0,25100.0,75000.0,90000.0,34000.0,30000.0,68496.0,56400.0,62500.0,45000.0,110000.0,78000.0,40000.0,52000.0,25000.0,21120.0,117500.0,41000.0,100000.0,45489.0,140000.0,59000.0,32388.0,111016.0,81972.0,105996.0,48876.0,120000.0,30000.0,62400.0,34000.0,130000.0,70000.0,34152.0,49200.0,39600.0,84000.0,40000.0,36000.0,57000.0,64000.0,53000.0,34000.0,46800.0,145000.0,40000.0,44004.0,36800.0,70000.0,70000.0,45000.0,72000.0,30000.0,92000.0,53000.0,45000.0,119000.0,85000.0,50000.0,65000.0,60000.0,96000.0,34000.0,84000.0,54000.0,60500.0,38000.0,30000.0,38000.0,54000.0,48000.0,79650.0,15456.0,85000.0,29000.0,180000.0,202000.0,73200.0,48000.0,42504.0,146000.0,150000.0,15000.0,44000.0,150000.0,30000.0,97000.0,60000.0,18000.0,45000.0,132000.0,100000.0,60000.0,32000.0,75000.0,67000.0,100000.0,40000.0,80000.0,36000.0,62467.0,86004.0,35000.0,69000.0,65000.0,74004.0,61200.0,74000.0,24000.0,60000.0,80000.0,31000.0,40800.0,39870.0,44400.0,27840.0,90000.0,62000.0,192000.0,135600.0,56000.0,39600.0,114600.0,30000.0,132000.0,80730.0,49029.0,66000.0,68000.0,80000.0,82300.0,61000.0,164000.0,50000.0,72000.0,22000.0,110000.0,165000.0,90000.0,19200.0,29000.0,120000.0,21600.0,57600.0,60000.0,31200.0,15000.0,62900.0,97500.0,14400.0,45000.0,72500.0,130000.0,86000.0,100800.0,75000.0,81600.0,18984.0,31200.0,29534.0,75480.0,38004.0,47000.0,123144.0,51000.0,73200.0,54000.0,110000.0,42048.0,30996.0,60000.0,100000.0,120000.0,141000.0,62040.0,78000.0,57000.0,105000.0,75000.0,39000.0,40000.0,70000.0,57000.0,144000.0,53500.0,105000.0,84000.0,65000.0,38100.0,54000.0,70000.0,44000.0,21600.0,65000.0,42000.0,89610.0,64800.0,35000.0,26400.0,87000.0,60000.0,59000.0,95000.0,100000.0,49000.0,25200.0,75000.0,31200.0,34368.0,28000.0,44000.0,24000.0,35000.0,42000.0,52300.0,60000.0,19800.0,60000.0,30000.0,30000.0,57600.0,35000.0,5000.0,60000.0,54996.0,66150.0,96000.0,68000.0,85000.0,62500.0,74000.0,86004.0,33000.0,54417.0,74628.0,72000.0,74000.0,72000.0,111000.0,64500.0,18000.0,55000.0,35000.0,86000.0,29004.0,52000.0,200000.0,115000.0,120000.0,85000.0,47000.0,62400.0,43000.0,64000.0,70000.0,69000.0,28500.0,44000.0,73000.0,22406.0,70000.0,36000.0,30000.0,153000.0,25960.0,70000.0,60629.0,90000.0,35576.0,105500.0,24000.0,60000.0,39000.0,51996.0,22800.0,83600.0,128000.0,33000.0,46000.0,220000.0,83000.0,33600.0,31000.0,46700.0,96000.0,23340.0,60000.0,80000.0,51996.0,36000.0,70000.0,36000.0,85000.0,21600.0,85000.0,60000.0,108000.0,60000.0,36000.0,42000.0,97000.0,20352.0,48989.0,40000.0,51600.0,69360.0,95000.0,70000.0,53000.0,80000.0,56000.0,34800.0,64800.0,21000.0,60000.0,80000.0,49500.0,13500.0,30000.0,420000.0,38400.0,64000.0,71000.0,30000.0,24996.0,21600.0,45000.0,30000.0,81996.0,113200.0,52000.0,36000.0,43000.0,9600.0,97750.0,70200.0,75000.0,72000.0,48000.0,66500.0,110000.0,21000.0,51072.0,45000.0,75000.0,34000.0,38500.0,34000.0,36000.0,110000.0,61000.0,66000.0,32000.0,33000.0,28500.0,12000.0,23920.0,39270.0,64548.0,70000.0,40000.0,40000.0,35000.0,85000.0,60000.0,153000.0,195054.0,44000.0,37000.0,48500.0,22188.0,30000.0,36000.0,30000.0,24000.0,26000.0,74500.0,72000.0,44400.0,55600.0,12996.0,88000.0,70000.0,117996.0,53155.0,23004.0,79000.0,53000.0,52000.0,57770.0,83135.0,43200.0,145000.0,35496.0,45000.0,42360.0,71000.0,80000.0,86000.0,60000.0,69000.0,96500.0,120000.0,34000.0,37086.0,12000.0,109500.0,45000.0,39996.0,49000.0,55000.0,37000.0,27600.0,12240.0,43500.0,24000.0,96000.0,46551.0,73000.0,27040.0,76654.0,85000.0,33204.0,80000.0,80000.0,21600.0,30500.0,63000.0,120000.0,62400.0,91000.0,45000.0,47000.0,104000.0,30000.0,168750.0,32000.0,47831.0,22800.0,54000.0,24000.0,51000.0,14004.0,55000.0,113800.0,60000.0,25000.0,39500.0,36000.0,65000.0,40000.0,48000.0,87000.0,25000.0,96000.0,42000.0,54590.0,74970.0,70000.0,30500.0,25200.0,100000.0,142000.0,130000.0,95000.0,86000.0,96000.0,60000.0,41000.0,48000.0,90200.0,38000.0,95000.0,31200.0,26000.0,48000.0,99000.0,14400.0,46000.0,45996.0,47000.0,83000.0,110000.0,12000.0,28800.0,96000.0,80000.0,79100.0,33000.0,41004.0,39000.0,111000.0,45792.0,78000.0,52000.0,55000.0,51300.0,21600.0,57552.0,230000.0,18000.0,62500.0,73000.0,87000.0,38400.0,54996.0,250000.0,28800.0,70000.0,59004.0,115000.0,50000.0,44582.0,49200.0,44400.0,86000.0,14400.0,52800.0,48000.0,50780.0,84000.0,56000.0,70000.0,100000.0,125000.0,40000.0,36000.0,41700.0,38004.0,50000.0,36000.0,52000.0,80000.0,21000.0,24960.0,14400.0,69000.0,15000.0,87000.0,30000.0,145000.0,41000.0,54000.0,69228.0,75000.0,28500.0,140000.0,60000.0,18000.0,108000.0,191000.0,29004.0,36396.0,70000.0,78000.0,87504.0,62000.0,11389.0,120000.0,66000.0,33000.0,42000.0,60000.0,40000.0,26500.0,44160.0,37440.0,52000.0,100000.0,100800.0,62400.0,30000.0,39000.0,45000.0,135000.0,64000.0,90000.0,240000.0,100000.0,54000.0,21996.0,57600.0,36900.0,158367.0,69846.0,111000.0,64000.0,95000.0,18000.0,36000.0,95000.0,175000.0,64600.0,80000.0,28800.0,39996.0,55000.0,95000.0,96000.0,52703.0,66400.0,75000.0,98056.0,72000.0,72800.0,120000.0,48000.0,32000.0,73000.0,56864.0,83000.0,63000.0,51395.0,60000.0,31000.0,74000.0,51500.0,52800.0,73000.0,42000.0,45000.0,41000.0,32678.0,81800.0,35000.0,35000.0,24000.0,87000.0,16800.0,56000.0,12000.0,100000.0,92500.0,9600.0,60000.0,51000.0,52000.0,35000.0,32000.0,25000.0,87800.0,61490.0,31500.0,68004.0,35000.0,72000.0,32000.0,40000.0,69000.0,45000.0,65000.0,33150.0,68000.0,48000.0,55000.0,65000.0,57400.0,65000.0,80000.0,66000.0,47000.0,48000.0,28089.0,87500.0,90000.0,90000.0,18000.0,85000.0,51000.0,28989.0,30000.0,120000.0,44400.0,80038.0,70000.0,26000.0,85000.0,22000.0,71000.0,33600.0,87500.0,60000.0,48000.0,27600.0,54000.0,40000.0,80000.0,33600.0,34000.0,50000.0,95000.0,24000.0,75000.0,100800.0,72000.0,9600.0,75000.0,34000.0,52479.0,51630.0,138000.0,87996.0,42000.0,48000.0,22560.0,59004.0,19200.0,45000.0,40277.0,50000.0,20000.0,40800.0,52500.0,30000.0,65000.0,100800.0,71007.0,107000.0,48000.0,74400.0,82500.0,80160.0,30000.0,115500.0,70000.0,68000.0,57500.0,50000.0,30000.0,58800.0,75000.0,50000.0,10980.0,45000.0,81000.0,23004.0,113000.0,61000.0,35004.0,220000.0,39600.0,55000.0,24000.0,80000.0,60000.0,52704.0,100000.0,85000.0,110000.0,42000.0,72893.0,44400.0,40000.0,65000.0,41000.0,42000.0,100000.0,93000.0,70000.0,34300.0,52000.0,75000.0,100000.0,86400.0,30000.0,76860.0,33000.0,75600.0,38400.0,35416.0,140000.0,92000.0,28800.0,140000.0,75600.0,30000.0,42000.0,29376.0,72000.0,59600.0,83000.0,42000.0,52800.0,82600.0,37000.0,50000.0,29040.0,45000.0,28800.0,35000.0,58313.0,46000.0,46000.0,65000.0,59000.0,73000.0,37000.0,38300.0,90996.0,148000.0,50000.0,64000.0,20000.0,50000.0,66300.0,44000.0,84000.0,40000.0,33000.0,28000.0,51000.0,27840.0,66000.0,38400.0,85000.0,50000.0,86400.0,35000.0,23000.0,75000.0,26000.0,32400.0,105000.0,74500.0,113676.0,72000.0,60000.0,60000.0,89440.0,56148.0,90000.0,56400.0,47000.0,45000.0,57000.0,39996.0,130000.0,61000.0,57016.0,20000.0,37000.0,140000.0,85000.0,22044.0,32000.0,75000.0,36000.0,50000.0,72400.0,30000.0,39000.0,62040.0,62800.0,85000.0,147996.0,52000.0,138000.0,39860.0,82400.0,49000.0,34000.0,80607.0,18000.0,123996.0,72000.0,77000.0,34900.0,49110.0,55438.0,59475.0,58000.0,87996.0,41280.0,140000.0,69000.0,28000.0,97000.0,90000.0,27000.0,50000.0,45600.0,95000.0,96000.0,83004.0,36000.0,54000.0,60000.0,36000.0,160000.0,26400.0,28800.0,26004.0,31000.0,150000.0,45000.0,62000.0,36000.0,75000.0,54000.0,68000.0,35004.0,63000.0,24000.0,65000.0,40000.0,122500.0,87000.0,33000.0,75000.0,27600.0,26000.0,58000.0,60000.0,238000.0,30000.0,75000.0,54000.0,34000.0,41000.0,104000.0,69996.0,140000.0,75000.0,35000.0,22000.0,19200.0,83200.0,39000.0,123000.0,80000.0,72000.0,159960.0,150000.0,51600.0,45150.0,38000.0,75000.0,100000.0,30320.0,30000.0,37200.0,20000.0,32004.0,65000.0,45504.0,54000.0,24000.0,56000.0,114000.0,70000.0,45000.0,148000.0,150000.0,33685.0,70000.0,122000.0,75000.0,30000.0,66000.0,48000.0,120000.0,40000.0,80000.0,40000.0,74000.0,43680.0,58000.0,60000.0,116000.0,80000.0,24000.0,54000.0,110000.0,132750.0,50400.0,72000.0,30000.0,70125.0,102000.0,82000.0,40000.0,68666.0,47380.0,45840.0,32400.0,128000.0,88560.0,75000.0,149385.0,36499.0,95004.0,30000.0,46000.0,70000.0,38400.0,94000.0,230000.0,67600.0,30000.0,43080.0,60000.0,86400.0,19200.0,35004.0,48000.0,40000.0,64777.0,35000.0,70000.0,55000.0,66000.0,66000.0,60000.0,55059.0,48996.0,98400.0,98000.0,58000.0,31200.0,42000.0,45000.0,20400.0,38160.0,19820.0,125004.0,51000.0,48000.0,32004.0,79200.0,31776.0,60000.0,92000.0,62000.0,130000.0,155000.0,52000.0,31500.0,50000.0,300000.0,57000.0,117000.0,33600.0,39912.0,48000.0,80000.0,78000.0,48226.0,32890.0,52500.0,35000.0,143000.0,50000.0,108000.0,30372.0,22896.0,60000.0,107000.0,43680.0,75000.0,32918.0,30000.0,79000.0,49200.0,90000.0,40000.0,52000.0,42500.0,98600.0,47000.0,138000.0,145000.0,200000.0,45000.0,90000.0,80000.0,47496.0,70000.0,300000.0,44400.0,30144.0,33000.0,91000.0,80000.0,48000.0,32400.0,55680.0,60000.0,468000.0,50496.0,41000.0,40272.0,69000.0,113000.0,61200.0,65200.0,65000.0,73000.0,75000.0,42000.0,46992.0,49008.0,73000.0,24000.0,68500.0,40000.0,24000.0,34046.0,30400.0,34000.0,180000.0,43000.0,29004.0,69000.0,66000.0,15000.0,47000.0,95000.0,80000.0,52000.0,43000.0,108000.0,116000.0,54000.0,30000.0,30000.0,24000.0,27600.0,75000.0,48000.0,33000.0,28000.0,24000.0,25000.0,70000.0,40000.0,53000.0,20000.0,75576.0,63000.0,65000.0,100000.0,50000.0,41000.0,80000.0,30000.0,72000.0,68000.0,104550.0,70000.0,72000.0,200000.0,60000.0,77000.0,136625.0,58800.0,54000.0,54000.0,51500.0,60000.0,85000.0,31577.0,126000.0,39000.0,50000.0,47000.0,40000.0,81600.0,85800.0,125000.0,52000.0,48000.0,30000.0,45000.0,160000.0,81500.0,52000.0,54000.0,41300.0,85000.0,75000.0,24600.0,50000.0,36000.0,15000.0,18720.0,48000.0,24000.0,14400.0,32000.0,70000.0,97500.0,27000.0,348000.0,75000.0,54000.0,20000.0,54996.0,54200.0,51600.0,94000.0,38000.0,127000.0,46000.0,61680.0,50000.0,120000.0,23000.0,69000.0,36000.0,148616.0,20000.0,77400.0,89000.0,50000.0,33036.0,70000.0,29000.0,55000.0,154000.0,50000.0,135000.0,47004.0,30000.0,48000.0,130000.0,150000.0,34000.0,33009.0,70000.0,38500.0,27000.0,125000.0,75400.0,35000.0,57408.0,20400.0,55000.0,52000.0,80000.0,45000.0,56004.0,63402.0,105000.0,49000.0,59000.0,29100.0,16800.0,69996.0,44582.0,15085.0,159000.0,15000.0,98656.0,62500.0,33000.0,37000.0,52000.0,42000.0,39996.0,82000.0,60000.0,65000.0,163000.0,100000.0,46852.0,53000.0,49000.0,55000.0,44000.0,75000.0,55000.0,21648.0,200000.0,39000.0,29536.0,76320.0,29004.0,56000.0,45000.0,41004.0,90000.0,23000.0,45000.0,95800.0,90000.0,46000.0,36996.0,35000.0,115731.0,32000.0,56650.0,45600.0,52188.0,57000.0,50000.0,60000.0,80000.0,50004.0,31000.0,29664.0,25000.0,55000.0,30996.0,65000.0,57000.0,65458.0,32640.0,40000.0,32000.0,54000.0,80000.0,61000.0,13200.0,61000.0,31500.0,57995.0,25000.0,36000.0,114054.0,80000.0,21600.0,105400.0,59000.0,66000.0,33000.0,95000.0,60000.0,74000.0,72000.0,45600.0,117005.0,54000.0,36400.0,113000.0,84996.0,65000.0,53100.0,27000.0,72000.0,39996.0,50000.0,170000.0,70000.0,78000.0,34800.0,92800.0,65004.0,140987.0,34000.0,38400.0,95000.0,54996.0,120000.0,24000.0,48000.0,34656.0,56000.0,24000.0,42500.0,36000.0,56000.0,42900.0,45000.0,80256.0,15600.0,88712.0,20000.0,14400.0,59000.0,70000.0,40000.0,80000.0,58800.0,39000.0,72000.0,54000.0,76000.0,48100.0,23196.0,68004.0,37000.0,40000.0,60000.0,38904.0,200000.0,76000.0,108000.0,14400.0,43000.0,92000.0,130000.0,90000.0,70000.0,90000.0,54000.0,137057.0,33000.0,70000.0,180000.0,87000.0,10800.0,68000.0,13440.0,88000.0,143485.0,30000.0,143000.0,24996.0,50000.0,30000.0,77004.0,56000.0,267000.0,30000.0,98004.0,64000.0,28000.0,56000.0,137400.0,193000.0,44000.0,101000.0,109000.0,73000.0,65158.0,58000.0,43000.0,25140.0,32400.0,95000.0,45000.0,108000.0,42804.0,54400.0,69000.0,66000.0,75000.0,50000.0,85000.0,64000.0,50000.0,18000.0,56000.0,64404.0,100000.0,51600.0,33996.0,145000.0,96000.0,91800.0,125000.0,75000.0,27259.0,35820.0,72000.0,75000.0,96000.0,102489.0,95500.0,250000.0,52828.0,80000.0,132000.0,40000.0,35000.0,48000.0,35004.0,42996.0,69996.0,24300.0,89000.0,59000.0,54996.0,28800.0,46000.0,38126.0,40000.0,75840.0,46000.0,41000.0,70000.0,44000.0,46500.0,22800.0,42504.0,32900.0,24000.0,60000.0,74004.0,39480.0,110000.0,89000.0,40525.0,91800.0,35000.0,42000.0,125000.0,52800.0,124000.0,66000.0,80004.0,53000.0,42996.0,22596.0,34800.0,52500.0,97000.0,120000.0,40000.0,64500.0,60000.0,54000.0,41004.0,18000.0,65000.0,57996.0,32000.0,43200.0,78000.0,41000.0,62000.0,28880.0,28000.0,41000.0,96053.0,32000.0,160000.0,59004.0,46500.0,70000.0,78000.0,37200.0,68500.0,30000.0,85000.0,102300.0,40720.0,29004.0,25000.0,50000.0,72000.0,36000.0,35000.0,45500.0,58000.0,90000.0,67222.0,30480.0,564000.0,120000.0,73000.0,99996.0,75000.0,60682.0,25000.0,72000.0,43000.0,48000.0,37680.0,44900.0,32400.0,125000.0,69996.0,74000.0,16094.0,91000.0,31000.0,42000.0,35000.0,53000.0,36000.0,93000.0,70000.0,38052.0,26000.0,23000.0,122000.0,24996.0,54996.0,42996.0,26000.0,68000.0,84000.0,38000.0,17688.0,40000.0,52000.0,70000.0,27000.0,69000.0,36194.0,45000.0,51356.0,41000.0,78996.0,68000.0,45000.0,39600.0,53360.0,46000.0,36000.0,37000.0,35000.0,225000.0,41820.0,54396.0,60000.0,39600.0,75000.0,100000.0,120000.0,56000.0,175000.0,41600.0,57400.0,150750.0,75500.0,20000.0,67000.0,85000.0,120000.0,53000.0,52000.0,56472.0,90000.0,62000.0,113000.0,175000.0,27600.0,34800.0,54000.0,32868.0,35000.0,52000.0,52000.0,37950.0,31000.0,48000.0,93000.0,65000.0,60000.0,76800.0,57000.0,51900.0,69996.0,69000.0,200000.0,64000.0,84000.0,49920.0,40000.0,51000.0,33000.0,105000.0,36000.0,33000.0,52000.0,22200.0,117014.0,29000.0,50000.0,77200.0,34000.0,59000.0,125000.0,29000.0,50000.0,51996.0,75000.0,34500.0,78200.0,50000.0,42000.0,50000.0,74000.0,25000.0,99000.0,98004.0,75000.0,103000.0,45996.0,108000.0,41000.0,56004.0,56030.0,60000.0,36228.0,43000.0,53000.0,96000.0,64000.0,36895.0,24996.0,259000.0,130000.0,60000.0,70000.0,66000.0,35000.0,71000.0,78000.0,113000.0,39996.0,54000.0,45000.0,57000.0,140000.0,40680.0,101000.0,28800.0,42000.0,65000.0,53796.0,65000.0,180000.0,83600.0,44000.0,68400.0,154000.0,39000.0,46000.0,73000.0,36000.0,65004.0,54000.0,65000.0,44000.0,55059.0,20000.0,70000.0,91200.0,95620.0,84000.0,35000.0,51996.0,25000.0,67000.0,56000.0,30000.0,41000.0,90000.0,30000.0,60000.0,63844.0,160000.0,40000.0,45000.0,36000.0,78000.0,130000.0,81996.0,41000.0,112774.0,55000.0,57000.0,62570.0,118400.0,33500.0,98000.0,80000.0,36000.0,45000.0,63344.0,98760.0,480000.0,65000.0,60000.0,40000.0,78000.0,66000.0,60000.0,22800.0,80208.0,28000.0,48000.0,60000.0,180000.0,88000.0,43200.0,27000.0,50000.0,98004.0,88970.0,35000.0,90000.0,19992.0,90000.0,48000.0,97000.0,18000.0,75000.0,55512.0,39996.0,36000.0,50000.0,59000.0,68000.0,54000.0,76800.0,50000.0,18000.0,55000.0,52000.0,63000.0,52000.0,44000.0,73000.0,138000.0,75000.0,82500.0,73500.0,114000.0,40000.0,46000.0,80000.0,72000.0,87000.0,49000.0,55000.0,52000.0,30000.0,88000.0,70553.0,43000.0,62000.0,30000.0,30000.0,33800.0,16800.0,30000.0,29004.0,74000.0,72000.0,24000.0,43000.0,63996.0,75000.0,78000.0,45000.0,63300.0,68000.0,55000.0,200000.0,42000.0,42000.0,69000.0,88000.0,81380.0,72000.0,82650.0,61200.0,79632.0,46000.0,45000.0,36504.0,52800.0,65004.0,42000.0,52000.0,37500.0,43680.0,139200.0,60000.0,57000.0,40000.0,68000.0,56472.0,58000.0,50000.0,52000.0,53664.0,30000.0,175000.0,102000.0,70000.0,48686.0,18720.0,61500.0,16800.0,26010.0,80000.0,48000.0,94000.0,50000.0,70550.0,47500.0,60000.0,90000.0,60000.0,99600.0,74000.0,41004.0,140000.0,36000.0,48880.0,48000.0,50000.0,20400.0,52000.0,43000.0,62900.0,100000.0,78000.0,42000.0,34000.0,9600.0,48000.0,62900.0,51600.0,56448.0,80000.0,201450.0,24996.0,41500.0,45000.0,60000.0,59200.0,18000.0,35000.0,44000.0,255000.0,33000.0,45000.0,36000.0,45000.0,163000.0,100000.0,65004.0,67000.0,90000.0,63000.0,53000.0,90000.0,99200.0,45600.0,50000.0,87500.0,42000.0,30000.0,72600.0,31200.0,57860.0,92000.0,54996.0,46000.0,26000.0,30000.0,38196.0,225000.0,60000.0,45000.0,52000.0,105000.0,60000.0,42000.0,27000.0,41000.0,39000.0,27138.0,125375.0,28800.0,45000.0,20004.0,94000.0,50000.0,60000.0,36000.0,42000.0,44000.0,51996.0,88000.0,36628.0,76296.0,130000.0,103000.0,106000.0,36000.0,46000.0,49000.0,99000.0,42500.0,33996.0,23400.0,33000.0,50000.0,34500.0,31075.0,46000.0,25200.0,63000.0,31850.0,150000.0,54000.0,57200.0,72100.0,34800.0,156000.0,83000.0,22800.0,36000.0,95000.0,203500.0,50400.0,45000.0,130000.0,24000.0,176608.0,75000.0,62000.0,49500.0,60000.0,90000.0,51000.0,27000.0,37200.0,35000.0,25200.0,15360.0,40000.0,61200.0,21996.0,44000.0,18000.0,84000.0,60900.0,48000.0,87000.0,45000.0,98000.0,250000.0,77040.0,50000.0,35000.0,63000.0,68000.0,120000.0,64000.0,79050.0,32400.0,100000.0,110000.0,55000.0,54996.0,80000.0,62050.0,49200.0,52884.0,30000.0,56000.0,44000.0,120000.0,60000.0,93600.0,58500.0,55200.0,38004.0,38000.0,37000.0,97000.0,69900.0,98000.0,33600.0,14500.0,90000.0,80000.0,20000.0,144997.0,45000.0,26400.0,92000.0,120000.0,25000.0,42000.0,52000.0,48000.0,75000.0,110000.0,72000.0,99996.0,42000.0,30000.0,40944.0,42000.0,39000.0,78500.0,60000.0,19200.0,69000.0,56100.0,21500.0,19240.0,74000.0,72194.0,44000.0,134748.0,18000.0,65000.0,90000.0,54000.0,58500.0,58650.0,52800.0,95000.0,33600.0,375000.0,103000.0,42000.0,86000.0,67500.0,25200.0,81000.0,28000.0,80000.0,54000.0,87000.0,80000.0,45500.0,37000.0,62366.0,107000.0,24000.0,90000.0,15000.0,45000.0,72000.0,42000.0,44000.0,38500.0,32500.0,23000.0,18000.0,47000.0,175000.0,54000.0,270000.0,52000.0,38482.0,48000.0,67000.0,45600.0,118320.0,49404.0,150000.0,100000.0,78000.0,86105.0,96000.0,90000.0,69000.0,68000.0,100800.0,83200.0,70000.0,20000.0,50000.0,29000.0,49000.0,29568.0,35000.0,156326.0,28000.0,60000.0,45000.0,56000.0,94000.0,40000.0,42996.0,85000.0,45760.0,45000.0,73000.0,135000.0,35000.0,216000.0,60000.0,39000.0,97296.0,101000.0,33600.0,35000.0,65000.0,46000.0,72000.0,61628.0,75000.0,351699.0,33000.0,32000.0,20004.0,31000.0,49000.0,40000.0,46104.0,76800.0,64000.0,84000.0,54000.0,135996.0,53000.0,45000.0,65000.0,44000.0,88000.0,40000.0,184992.0,50004.0,133000.0,33000.0,67000.0,550000.0,132000.0,30000.0,75000.0,72000.0,48715.0,36000.0,59000.0,83000.0,85000.0,32400.0,60000.0,78000.0,38400.0,60000.0,36000.0,40000.0,95000.0,60000.0,44500.0,72000.0,29000.0,35000.0,60000.0,56400.0,78500.0,33600.0,54011.0,38000.0,59000.0,71000.0,40777.0,52000.0,114000.0,53000.0,33198.0,102000.0,25000.0,57996.0,135000.0,60000.0,55000.0,51621.0,40000.0,58000.0,52800.0,26400.0,30200.0,78000.0,50000.0,62047.0,18000.0,35000.0,32400.0,36000.0,65496.0,123600.0,52000.0,50004.0,95000.0,24840.0,27048.0,95000.0,44400.0,80000.0,120000.0,65000.0,50000.0,57188.0,45000.0,40800.0,140000.0,46500.0,70000.0,38000.0,33000.0,40000.0,120000.0,148000.0,38000.0,57240.0,22000.0,160000.0,26400.0,15600.0,49200.0,68000.0,83200.0,85000.0,78000.0,78500.0,120000.0,24000.0,52000.0,25800.0,89000.0,40000.0,42000.0,48000.0,16320.0,36000.0,72000.0,53760.0,90000.0,84500.0,30000.0,75000.0,62532.0,30000.0,166000.0,55000.0,34500.0,244800.0,52000.0,69000.0,157200.0,54000.0,28500.0,43000.0,72204.0,40000.0,91000.0,30000.0,80000.0,44000.0,130000.0,45000.0,14400.0,114000.0,105000.0,50000.0,45000.0,60000.0,50000.0,93000.0,157500.0,36000.0,18000.0,9600.0,55000.0,38000.0,87000.0,23000.0,48000.0,30000.0,36000.0,27600.0,72000.0,105000.0,27864.0,39500.0,30000.0,31100.0,100000.0,39996.0,150000.0,27600.0,42000.0,60000.0,102000.0,66800.0,19498.0,45204.0,30000.0,36000.0,150000.0,61000.0,100000.0,34800.0,50000.0,44196.0,110000.0,115000.0,54400.0,43000.0,96000.0,50000.0,60000.0,28800.0,51850.0,46700.0,21996.0,32240.0,25000.0,150000.0,55000.0,128000.0,70000.0,80000.0,20004.0,26400.0,98000.0,78200.0,40000.0,708000.0,150000.0,30000.0,117000.0,24000.0,32000.0,22800.0,56000.0,53000.0,11000.0,37000.0,36000.0,60000.0,100000.0,90000.0,94992.0,57600.0,48000.0,30000.0,60000.0,79000.0,61838.0,60000.0,53117.0,47000.0,37000.0,61000.0,56000.0,65000.0,120000.0,200000.0,60000.0,76000.0,24000.0,30000.0,85000.0,88000.0,53000.0,28692.0,71000.0,50004.0,160000.0,56000.0,200000.0,50000.0,38300.0,31000.0,57000.0,30873.0,30929.0,59000.0,40000.0,55000.0,84000.0,30000.0,66504.0,79272.0,33000.0,25000.0,65000.0,44000.0,14000.0,94050.0,46272.0,78500.0,49896.0,62500.0,33600.0,65000.0,28000.0,79701.0,103250.0,30000.0,44000.0,30000.0,130000.0,95004.0,50000.0,43275.0,122400.0,16000.0,36672.0,45000.0,54000.0,36450.0,125000.0,89000.0,80000.0,75000.0,60000.0,75000.0,60000.0,42000.0,30000.0,100000.0,23000.0,40000.0,75000.0,61800.0,43000.0,18000.0,55164.0,36500.0,24000.0,65000.0,58000.0,24996.0,42000.0,26400.0,26000.0,36000.0,34444.0,34000.0,70000.0,36000.0,24696.0,42000.0,31776.0,60000.0,70000.0,58000.0,55000.0,86400.0,72000.0,115000.0,73680.0,70500.0,60000.0,40000.0,66000.0,63996.0,88500.0,140000.0,16000.0,56000.0,55000.0,105000.0,39000.0,75000.0,38400.0,36000.0,32004.0,23004.0,60000.0,65000.0,37200.0,46000.0,48000.0,36000.0,44000.0,65280.0,55000.0,75000.0,60000.0,35000.0,30000.0,46000.0,30000.0,14400.0,29472.0,57996.0,80000.0,80000.0,48996.0,40000.0,87300.0,65000.0,53995.0,37000.0,92000.0,38600.0,60000.0,34800.0,72000.0,62475.0,70000.0,105000.0,95000.0,50400.0,69600.0,106000.0,60600.0,78000.0,49000.0,56664.0,33996.0,70000.0,42000.0,60000.0,66661.0,112000.0,55000.0,130000.0,99996.0,70000.0,48000.0,68000.0,46000.0,80000.0,56700.0,39000.0,35100.0,80000.0,32400.0,85000.0,45000.0,10800.0,77000.0,85000.0,72890.0,120000.0,113000.0,72000.0,98000.0,28000.0,35000.0,28672.0,52000.0,25000.0,70000.0,74000.0,61147.0,35000.0,41496.0,66420.0,75000.0,64000.0,31000.0,104000.0,94200.0,54000.0,62500.0,85000.0,65000.0,50000.0,70000.0,25200.0,37200.0,42000.0,33000.0,100000.0,48000.0,45000.0,101000.0,30000.0,40000.0,49008.0,50000.0,70000.0,68000.0,176004.0,30000.0,30000.0,79768.0,40000.0,37680.0,57000.0,87360.0,45600.0,80000.0,47004.0,19200.0,69000.0,180000.0,52000.0,74000.0,158000.0,132000.0,92000.0,54000.0,71004.0,45900.0,74700.0,74400.0,70000.0,36000.0,32000.0,59964.0,39000.0,84000.0,59497.0,29120.0,66600.0,75996.0,25200.0,22800.0,83000.0,50004.0,40428.0,30422.0,33000.0,32000.0,20400.0,74900.0,40000.0,30000.0,59484.0,32500.0,54000.0,65000.0,82300.0,68000.0,60000.0,46800.0,24000.0,37595.0,56000.0,50004.0,44000.0,24000.0,28000.0,51500.0,56000.0,53000.0,62000.0,48000.0,108000.0,48000.0,49000.0,55000.0,50000.0,58000.0,60000.0,83000.0,58900.0,65000.0,105600.0,100000.0,78000.0,175436.0,43500.0,100000.0,72000.0,32000.0,100000.0,33000.0,24000.0,125000.0,47004.0,155867.0,41000.0,67000.0,68000.0,45000.0,90000.0,44000.0,54000.0,49920.0,50004.0,110000.0,77000.0,31200.0,145000.0,39000.0,71000.0,51500.0,102000.0,165000.0,20400.0,57000.0,40000.0,30000.0,32000.0,15000.0,49000.0,68000.0,69996.0,68000.0,40000.0,38400.0,140000.0,39996.0,48000.0,65000.0,42000.0,120000.0,17108.0,120000.0,112000.0,72000.0,90000.0,58000.0,88000.0,28200.0,213000.0,81000.0,66000.0,32000.0,100000.0,120000.0,55000.0,60000.0,69600.0,50000.0,72000.0,110000.0,28800.0,39000.0,43949.0,12000.0,53000.0,53000.0,60000.0,41196.0,74000.0,42000.0,44782.0,60000.0,20400.0,74000.0,50000.0,120000.0,50000.0,41000.0,40000.0,30000.0,60000.0,52692.0,200000.0,108000.0,42000.0,59000.0,110000.0,47000.0,95000.0,82000.0,125000.0,75000.0,65000.0,140000.0,200000.0,40000.0,55392.0,60000.0,73000.0,40000.0,30000.0,50000.0,31000.0,28500.0,38599.0,84000.0,32000.0,168000.0,37500.0,54000.0,47412.0,27000.0,150000.0,34320.0,49500.0,62900.0,68804.0,51298.0,48000.0,40500.0,24000.0,34099.0,42000.0,40000.0,80000.0,74800.0,100000.0,88000.0,15000.0,51000.0,12000.0,30000.0,62000.0,26500.0,19968.0,48000.0,108000.0,21600.0,108000.0,48000.0,47500.0,30000.0,53000.0,90000.0,25000.0,60000.0,100000.0,73200.0,26000.0,50000.0,114400.0,47380.0,76500.0,37200.0,46000.0,96000.0,120000.0,60000.0,61100.0,43000.0,50000.0,96000.0,36000.0,32000.0,36789.0,61000.0,61300.0,71604.0,32004.0,118000.0,85000.0,60000.0,110000.0,100000.0,222000.0,37212.0,87000.0,56604.0,34400.0,126000.0,45600.0,115200.0,74000.0,21000.0,180000.0,100000.0,38000.0,63000.0,160000.0,40000.0,55000.0,14400.0,27500.0,156000.0,74784.0,60000.0,30000.0,78000.0,50000.0,38688.0,12720.0,59000.0,107000.0,25716.0,125000.0,54400.0,84000.0,57700.0,80000.0,37423.0,60000.0,21600.0,105000.0,13000.0,51000.0,45000.0,70000.0,80000.0,200000.0,20868.0,40000.0,16800.0,40000.0,59000.0,20400.0,22000.0,85000.0,36100.0,77000.0,80000.0,57424.0,50000.0,57000.0,48048.0,60000.0,92000.0,30000.0,84000.0,74004.0,160800.0,41000.0,30000.0,24000.0,115742.0,56525.0,32400.0,43000.0,108000.0,150000.0,36050.0,38000.0,65000.0,57900.0,47000.0,42000.0,34800.0,72000.0,28800.0,45000.0,83300.0,72000.0,35000.0,28000.0,23000.0,85000.0,42162.0,75000.0,40000.0,151000.0,87996.0,67000.0,92000.0,153000.0,47000.0,58000.0,50400.0,57000.0,38400.0,65000.0,60000.0,88000.0,65004.0,35256.0,114996.0,38000.0,50000.0,86260.0,67500.0,34000.0,82500.0,54000.0,32000.0,64800.0,54000.0,95459.0,36996.0,75000.0,71496.0,27600.0,120000.0,65000.0,62000.0,40000.0,61402.0,55000.0,33600.0,101416.0,31000.0,24240.0,52800.0,65000.0,80000.0,70000.0,77000.0,130000.0,56496.0,75400.0,15000.0,32000.0,71400.0,26000.0,38400.0,82000.0,29000.0,110000.0,117516.0,50000.0,58000.0,38000.0,55000.0,54000.0,39996.0,66500.0,60000.0,100000.0,40000.0,48000.0,110000.0,15000.0,18000.0,32000.0,60000.0,35000.0,30000.0,39000.0,92000.0,62000.0,33000.0,36000.0,85000.0,85000.0,14400.0,38000.0,130000.0,220000.0,62000.0,50000.0,35000.0,42000.0,4200.0,40000.0,71000.0,142500.0,43000.0,90000.0,64464.0,11000.0,51996.0,36588.0,36000.0,46000.0,50000.0,34100.0,50000.0,24000.0,81900.0,96000.0,135000.0,288000.0,64800.0,55000.0,55000.0,57000.0,100000.0,74000.0,94896.0,50000.0,80000.0,67000.0,12996.0,210000.0,58000.0,200000.0,104525.0,62500.0,93500.0,51000.0,60000.0,100000.0,36120.0,60000.0,63996.0,68120.0,73000.0,40269.0,270300.0,56000.0,48000.0,75000.0,124800.0,45984.0,97000.0,76486.0,91000.0,76000.0,72000.0,37500.0,50000.0,21000.0,39600.0,95000.0,140004.0,42000.0,45204.0,60000.0,55140.0,35000.0,67000.0,37980.0,60000.0,30720.0,39000.0,85000.0,84000.0,35004.0,100596.0,45000.0,69000.0,35000.0,12000.0,44000.0,35000.0,49000.0,40000.0,44000.0,180000.0,100000.0,75000.0,32000.0,21600.0,53500.0,69996.0,75000.0,84000.0,62000.0,24000.0,35000.0,58656.0,66000.0,55000.0,18000.0,74800.0,50004.0,10000.0,36000.0,31000.0,60000.0,52000.0,80000.0,48200.0,42000.0,36000.0,200100.0,85000.0,221004.0,36000.0,62217.0,32004.0,40000.0,78000.0,136092.0,123000.0,65200.0,75000.0,120000.0,58000.0,49560.0,52000.0,39552.0,39000.0,33600.0,25000.0,55000.0,54000.0,35000.0,59000.0,51000.0,31824.0,62000.0,55016.0,102960.0,218000.0,103000.0,85000.0,80000.0,31224.0,100000.0,86500.0,36000.0,30000.0,130000.0,29772.0,42000.0,31785.0,15600.0,113050.0,92000.0,60000.0,37440.0,66000.0,52833.0,126000.0,30000.0,55200.0,65000.0,39000.0,28000.0,26004.0,22680.0,42000.0,145000.0,44000.0,63208.0,68500.0,60000.0,36000.0,93000.0,24000.0,25200.0,61000.0,61717.0,66920.0,36996.0,90080.0,39000.0,79000.0,29000.0,90100.0,74400.0,90000.0,188000.0,16000.0,74000.0,32500.0,20000.0,74900.0,80000.0,103000.0,37000.0,22800.0,72000.0,40000.0,70000.0,50000.0,30000.0,65000.0,64212.0,39996.0,13500.0,115000.0,39000.0,54000.0,45000.0,45063.0,47000.0,60000.0,90000.0,56000.0,85000.0,65000.0,132000.0,62000.0,110000.0,84996.0,50000.0,23000.0,54084.0,70000.0,58344.0,108000.0,32997.0,71400.0,113000.0,55000.0,110000.0,38000.0,35000.0,100000.0,170000.0,44000.0,115000.0,38748.0,25000.0,50000.0,74500.0,100000.0,85900.0,73000.0,28800.0,145000.0,53636.0,21600.0,96000.0,50004.0,170000.0,120000.0,46500.0,82000.0,28800.0,52000.0,67992.0,30188.0,85000.0,37440.0,138000.0,65453.0,60000.0,34000.0,64500.0,114000.0,25000.0,42000.0,97000.0,25000.0,60000.0,37000.0,54000.0,98004.0,125000.0,39000.0,55000.0,50000.0,75000.0,90000.0,168000.0,30000.0,100000.0,120000.0,14400.0,120000.0,55550.0,42000.0,27840.0,70000.0,75000.0,53000.0,73000.0,76000.0,65004.0,48715.0,47000.0,24000.0,28800.0,14400.0,80000.0,30000.0,110000.0,45000.0,75000.0,100000.0,35000.0,24996.0,39962.0,23500.0,34600.0,54036.0,100000.0,266000.0,31200.0,80000.0,100000.0,34000.0,70000.0,61000.0,81000.0,54996.0,12600.0,49000.0,50000.0,612000.0,40000.0,28000.0,95000.0,96000.0,115000.0,200000.0,54000.0,30000.0,80000.0,34000.0,110000.0,52260.0,38000.0,45000.0,200000.0,62000.0,65000.0,20000.0,75000.0,79000.0,50000.0,48996.0,96000.0,74064.0,100300.0,43000.0,144000.0,53000.0,92000.0,85000.0,140000.0,30000.0,32000.0,33996.0,67000.0,90000.0,25000.0,54000.0,57175.0,42000.0,15000.0,150000.0,70000.0,12996.0,42000.0,96000.0,57000.0,40500.0,60000.0,146000.0,38268.0,30000.0,40000.0,101400.0,43200.0,95000.0,65000.0,73000.0,63508.0,45500.0,70000.0,17760.0,64000.0,26784.0,85000.0,42000.0,75000.0,90996.0,31000.0,44400.0,30000.0,60000.0,60000.0,60000.0,10800.0,48000.0,90000.0,165996.0,100000.0,110000.0,40000.0,40000.0,39600.0,33280.0,118000.0,70000.0,34000.0,68000.0,28800.0,60000.0,50350.0,46000.0,65000.0,63000.0,90000.0,70000.0,42000.0,44000.0,40574.0,27000.0,28800.0,37000.0,39915.0,42500.0,22000.0,85000.0,78000.0,52000.0,120000.0,27996.0,30280.0,66000.0,18000.0,66000.0,78386.0,65000.0,73400.0,60000.0,360000.0,37000.0,44000.0,98000.0,61000.0,43000.0,60000.0,48000.0,48132.0,85000.0,25200.0,21000.0,96000.0,51000.0,109000.0,65000.0,80000.0,20000.0,82710.0,30000.0,84000.0,95000.0,55000.0,51600.0,80000.0,72000.0,20796.0,84000.0,50000.0,75000.0,45996.0,44000.0,170004.0,20000.0,150000.0,70000.0,22800.0,50000.0,41000.0,225000.0,91800.0,47000.0,95000.0,219996.0,12000.0,40000.0,38500.0,30000.0,72000.0,48000.0,60000.0,18000.0,56839.0,48300.0,92795.0,39000.0,24000.0,33666.0,60000.0,21000.0,30000.0,51500.0,30000.0,69638.0,117000.0,91000.0,77000.0,34400.0,65000.0,201000.0,45000.0,42000.0,75000.0,72000.0,42000.0,54000.0,95000.0,90000.0,55000.0,45000.0,48000.0,60000.0,40000.0,110496.0,18000.0,49000.0,64000.0,38000.0,74600.0,30996.0,120000.0,32000.0,93000.0,60228.0,38000.0,75996.0,78000.0,41784.0,25000.0,55000.0,60000.0,72000.0,20000.0,72000.0,48000.0,90000.0,60000.0,60516.0,18000.0,70000.0,112123.0,54000.0,75000.0,65000.0,64000.0,32000.0,80569.0,50000.0,60000.0,300000.0,78000.0,120000.0,44160.0,46800.0,47000.0,36000.0,89000.0,65867.0,78000.0,60000.0,44000.0,45000.0,32700.0,45000.0,73163.0,44000.0,50000.0,24960.0,33600.0,93000.0,39000.0,80000.0,34900.0,46000.0,42000.0,96000.0,35000.0,70000.0,35000.0,56160.0,200000.0,48960.0,19200.0,54000.0,35000.0,100000.0,80004.0,30000.0,86875.0,80000.0,80000.0,58650.0,24000.0,52000.0,60000.0,66000.0,45000.0,60000.0,85000.0,43200.0,48000.0,140000.0,38469.0,86000.0,70000.0,52500.0,44928.0,50004.0,44400.0,60000.0,105000.0,31200.0,40000.0,28800.0,30000.0,93200.0,58000.0,55000.0,55000.0,44500.0,46000.0,95000.0,48000.0,190000.0,43000.0,25000.0,85000.0,37000.0,30000.0,52800.0,171500.0,95000.0,95000.0,27000.0,55000.0,71000.0,57000.0,89018.0,120000.0,39996.0,180000.0,12000.0,40000.0,73000.0,30000.0,91200.0,180000.0,90000.0,39000.0,60000.0,39996.0,40000.0,26400.0,67092.0,55840.0,46000.0,42000.0,12000.0,50000.0,55000.0,105398.0,35600.0,106000.0,30000.0,90000.0,24000.0,110000.0,84456.0,98603.0,191250.0,33481.0,42000.0,31200.0,28128.0,43400.0,65000.0,60000.0,120000.0,84000.0,38400.0,60000.0,100000.0,32000.0,32304.0,90000.0,226000.0,120000.0,180000.0,70000.0,136000.0,80000.0,50000.0,41400.0,95000.0,64000.0,60132.0,25200.0,60000.0,44000.0,67000.0,43812.0,54696.0,120000.0,60000.0,35000.0,20000.0,42500.0,35000.0,100000.0,55000.0,39000.0,45192.0,57192.0,75000.0,63000.0,32400.0,115000.0,72000.0,22406.0,80000.0,46000.0,30000.0,100000.0,58000.0,73000.0,36000.0,55900.0,36000.0,48000.0,150000.0,48000.0,58000.0,200000.0,50000.0,30000.0,120000.0,46809.0,90000.0,85000.0,40000.0,118000.0,27000.0,35000.0,34000.0,35000.0,96000.0,88400.0,107000.0,18000.0,20000.0,60000.0,60000.0,33048.0,120000.0,100000.0,51168.0,56000.0,45600.0,130000.0,142000.0,140000.0,70000.0,65000.0,39600.0,34999.0,85000.0,63000.0,112000.0,20000.0,68000.0,30000.0,95000.0,150000.0,136092.0,33000.0,60000.0,37440.0,85000.0,72000.0,48250.0,106800.0,66240.0,55000.0,45180.0,240000.0,54000.0,300000.0,50000.0,53000.0,56312.0,56000.0,28000.0,65000.0,56000.0,75288.0,129900.0,60000.0,100000.0,34000.0,65000.0,216000.0,91800.0,96000.0,54000.0,54828.0,30000.0,98320.0,64000.0,48000.0,47544.0,56100.0,72000.0,50400.0,30000.0,120000.0,67752.0,33000.0,46000.0,32004.0,51000.0,60000.0,50000.0,70000.0,19200.0,61000.0,29000.0,60000.0,70000.0,57000.0,32000.0,39000.0,56045.0,40992.0,48000.0,65000.0,29000.0,78402.0,72000.0,60400.0,110000.0,130000.0,40000.0,105000.0,42000.0,120000.0,36000.0,120000.0,60000.0,72000.0,63800.0,56400.0,65000.0,50280.0,24000.0,63000.0,36000.0,30000.0,76000.0,120000.0,46500.0,780000.0,109900.0,78000.0,250000.0,15000.0,45000.0,109000.0,50000.0,37000.0,50000.0,83000.0,60000.0,44300.0,68000.0,288000.0,72000.0,175000.0,54000.0,53481.0,30000.0,90000.0,14400.0,23387.0,144000.0,50000.0,33500.0,44000.0,85000.0,41500.0,100000.0,80000.0,50000.0,28800.0,60000.0,75000.0,62050.0,63000.0,65004.0,65000.0,158000.0,155800.0,28800.0,45000.0,74000.0,80000.0,56004.0,74000.0,70008.0,59617.0,57996.0,44630.0,72000.0,95000.0,44000.0,41004.0,75000.0,46000.0,75000.0,96000.0,38500.0,225000.0,250000.0,45000.0,54000.0,175000.0,45600.0,73000.0,25000.0,70000.0,63996.0,58000.0,42504.0,72000.0,78369.0,54000.0,45000.0,40000.0,46000.0,40800.0,55000.0,58000.0,27600.0,60000.0,121000.0,34800.0,48000.0,54000.0,51000.0,54000.0,81000.0,145000.0,300000.0,39000.0,48000.0,91800.0,52000.0,110000.0,54000.0,120000.0,20000.0,27000.0,130000.0,72000.0,65000.0,79000.0,58979.0,73000.0,49000.0,105000.0,68000.0,37000.0,28000.0,47000.0,74256.0,40000.0,240000.0,35000.0,54100.0,44000.0,130000.0,44004.0,87950.0,234600.0,125000.0,78000.0,29004.0,12000.0,69996.0,62000.0,59000.0,148000.0,53285.0,25000.0,59000.0,101000.0,105000.0,34000.0,39000.0,155000.0,32000.0,80000.0,70000.0,55000.0,300000.0,75000.0,59000.0,70000.0,44400.0,55500.0,100000.0,63000.0,53000.0,73000.0,110000.0,55000.0,45000.0,30000.0,22800.0,52800.0,65000.0,41000.0,68000.0,41000.0,75000.0,57600.0,87550.0,30000.0,12000.0,65338.0,45000.0,90000.0,106000.0,55000.0,35004.0,90000.0,75000.0,50000.0,55000.0,50000.0,42000.0,30000.0,74000.0,95000.0,52680.0,44000.0,24000.0,23040.0,44172.0,96000.0,72324.0,40000.0,56004.0,60000.0,60000.0,60000.0,60000.0,20000.0,26000.0,120000.0,50000.0,26000.0,65935.0,60000.0,45996.0,63000.0,33000.0,75000.0,21600.0,95000.0,42000.0,31200.0,42000.0,85280.0,85000.0,144996.0,115000.0,91000.0,105600.0,62000.0,75000.0,70900.0,14400.0,70000.0,68750.0,60132.0,122000.0,75000.0,213000.0,56000.0,95000.0,44000.0,242400.0,50000.0,118000.0,91000.0,73000.0,43000.0,78000.0,100000.0,105804.0,50000.0,21424.0,250000.0,18204.0,50000.0,42500.0,90000.0,45000.0,29000.0,15000.0,60000.0,63000.0,195000.0,72800.0,100000.0,41869.0,89849.0,30000.0,68580.0,65000.0,135000.0,25000.0,34000.0,70000.0,40000.0,26650.0,100000.0,58000.0,99000.0,58800.0,134300.0,92000.0,59000.0,55000.0,35000.0,540600.0,53000.0,45000.0,48000.0,82500.0,40000.0,30000.0,60000.0,74000.0,62910.0,130000.0,38000.0,42300.0,51684.0,27996.0,42000.0,76000.0,20000.0,24996.0,86000.0,36000.0,72000.0,62800.0,68496.0,10000.0,99000.0,61615.0,47000.0,39184.0,120000.0,50000.0,30000.0,105000.0,48000.0,37000.0,72467.0,44000.0,65000.0,66500.0,70000.0,60000.0,80000.0,62004.0,65000.0,57800.0,48000.0,126132.0,36000.0,78792.0,35000.0,93000.0,34068.0,76404.0,80000.0,122004.0,44160.0,59000.0,37000.0,42000.0,30000.0,50000.0,32800.0,46800.0,20400.0,100000.0,72000.0,24000.0,14400.0,55400.0,60000.0,51500.0,20000.0,18000.0,64000.0,50000.0,42500.0,36000.0,44000.0,59000.0,30000.0,62500.0,105804.0,42000.0,25000.0,230000.0,125000.0,50000.0,130000.0,38000.0,128474.0,34868.0,25200.0,54000.0,64000.0,160000.0,63000.0,90000.0,38000.0,49600.0,73000.0,45000.0,60000.0,250000.0,74000.0,81600.0,47000.0,82500.0,30000.0,32000.0,45000.0,36000.0,33000.0,42000.0,87360.0,63000.0,40200.0,25000.0,76872.0,45000.0,54996.0,101000.0,32340.0,71820.0,34000.0,32000.0,107004.0,27600.0,35000.0,703800.0,117000.0,33000.0,40000.0,40000.0,26000.0,63000.0,29000.0,36000.0,62000.0,90000.0,35000.0,31000.0,35000.0,48000.0,61200.0,70000.0,84000.0,70000.0,20000.0,60000.0,62000.0,51267.0,125000.0,56000.0,70000.0,75000.0,73000.0,24000.0,50004.0,53200.0,40000.0,30000.0,45000.0,120000.0,26500.0,93000.0,202040.0,62400.0,100000.0,80004.0,75000.0,60000.0,120999.0,42224.0,35000.0,46000.0,16800.0,32004.0,60000.0,42000.0,50000.0,36000.0,44000.0,27048.0,50500.0,42000.0,62000.0,55000.0,53004.0,65000.0,26400.0,45600.0,41300.0,51996.0,55920.0,90301.0,36000.0,69996.0,32000.0,69996.0,70000.0,30636.0,39500.0,126996.0,98000.0,38000.0,90000.0,73000.0,124000.0,65000.0,31000.0,100300.0,78000.0,275004.0,39000.0,86000.0,60000.0,80000.0,48000.0,80000.0,58617.0,77000.0,49000.0,45000.0,80004.0,50000.0,37500.0,60000.0,33600.0,54660.0,105000.0,70000.0,175000.0,90000.0,40000.0,64000.0,14088.0,37344.0,47000.0,50100.0,35000.0,51600.0,103000.0,40000.0,69000.0,95000.0,12000.0,30000.0,75500.0,27000.0,30000.0,100840.0,115600.0,62000.0,45000.0,69996.0,121008.0,143000.0,25000.0,80000.0,51500.0,80000.0,55000.0,51996.0,39204.0,73000.0,87550.0,65000.0,70000.0,37992.0,108600.0,60000.0,54000.0,45000.0,41579.0,112000.0,78400.0,70404.0,46000.0,101000.0,76597.0,84996.0,170850.0,53000.0,28800.0,35004.0,43000.0,64000.0,305000.0,12000.0,49000.0,50000.0,62000.0,27360.0,65000.0,80000.0,48000.0,57500.0,85000.0,37000.0,30000.0,34000.0,72000.0,45000.0,33000.0,94185.0,248735.0,54000.0,32000.0,110000.0,39000.0,60000.0,180000.0,40000.0,65004.0,67550.0,105000.0,46873.0,97908.0,33000.0,70000.0,55596.0,45000.0,45000.0,36000.0,14400.0,39000.0,60000.0,45000.0,47000.0,19368.0,75000.0,44000.0,102000.0,49200.0,50004.0,78000.0,79992.0,59000.0,42000.0,40000.0,50000.0,80000.0,86004.0,30000.0,31200.0,110000.0,45000.0,57192.0,62130.0,63500.0,45000.0,50000.0,56000.0,38000.0,300000.0,45000.0,33000.0,51000.0,39000.0,32000.0,8000.0,78000.0,60000.0,55000.0,56004.0,66000.0,72000.0,141000.0,56204.0,47000.0,34800.0,35000.0,55000.0,32000.0,48996.0,33996.0,43949.0,80000.0,24000.0,33000.0,35000.0,65000.0,77604.0,113000.0,30000.0,40000.0,37000.0,35004.0,48996.0,139992.0,52800.0,39996.0,60000.0,39600.0,136000.0,30000.0,64000.0,135000.0,26785.0,75200.0,82632.0,80000.0,38000.0,78000.0,44000.0,72000.0,75000.0,32000.0,75000.0,75000.0,27036.0,30000.0,60000.0,62000.0,54000.0,24000.0,49578.0,40000.0,56000.0,110000.0,20800.0,25000.0,35004.0,80000.0,92000.0,44000.0,12000.0,74000.0,65000.0,35000.0,30000.0,99996.0,38000.0,73000.0,135000.0,49963.0,30000.0,81600.0,60996.0,78000.0,120000.0,48000.0,62900.0,80000.0,45000.0,105000.0,16800.0,78000.0,30000.0,50400.0,126000.0,74000.0,37500.0,39996.0,95000.0,60000.0,57223.0,55000.0,95000.0,33996.0,85000.0,36000.0,39000.0,80000.0,50000.0,75805.0,65000.0,46000.0,62000.0,29996.0,26000.0,54000.0,125000.0,49000.0,20004.0,78000.0,70500.0,117000.0,53500.0,35000.0,57000.0,22292.0,40000.0,65000.0,69000.0,67000.0,45000.0,35000.0,40000.0,92341.0,65000.0,63000.0,130500.0,80832.0,84000.0,130000.0,37596.0,95000.0,60000.0,176000.0,40000.0,46680.0,43000.0,24000.0,72000.0,39996.0,40556.0,23400.0,36000.0,90000.0,110000.0,19176.0,28800.0,84000.0,36000.0,12000.0,45000.0,116000.0,39996.0,48000.0,40000.0,88000.0,55000.0,42000.0,120000.0,67675.0,110000.0,30000.0,77000.0,27000.0,44000.0,20000.0,45996.0,73000.0,36000.0,50004.0,34000.0,61000.0,54000.0,30000.0,110000.0,90000.0,65000.0,122000.0,42900.0,46500.0,74000.0,66500.0,24000.0,55000.0,30840.0,28000.0,71400.0,144000.0,175000.0,65000.0,104000.0,70000.0,92000.0,180000.0,100000.0,73000.0,62500.0,37818.0,16000.0,147750.0,45000.0,28000.0,18000.0,35496.0,30000.0,145000.0,49853.0,54000.0,69000.0,43300.0,62000.0,54503.0,52000.0,65000.0,46809.0,107800.0,122000.0,134300.0,74000.0,75000.0,75333.0,68000.0,59160.0,75000.0,24000.0,35000.0,58000.0,27040.0,72500.0,62400.0,145000.0,128000.0,57200.0,51480.0,100000.0,30000.0,105000.0,59000.0,38004.0,46000.0,75000.0,63996.0,25000.0,119000.0,62500.0,57000.0,26796.0,75000.0,39000.0,35000.0,35000.0,19000.0,400000.0,90000.0,24000.0,40000.0,50000.0,80000.0,47000.0,153000.0,150000.0,66000.0,117000.0,42000.0,24996.0,30000.0,69400.0,60000.0,92000.0,100000.0,52000.0,85000.0,26400.0,53467.0,69996.0,87000.0,36000.0,90000.0,95000.0,49000.0,29000.0,60000.0,51996.0,82000.0,86400.0,60000.0,54000.0,66500.0,77100.0,66000.0,55000.0,60350.0,28800.0,17000.0,28000.0,89004.0,42000.0,40000.0,65000.0,86000.0,52000.0,56000.0,38000.0,79000.0,22000.0,80000.0,72576.0,65000.0,48500.0,37157.0,30000.0,42000.0,47000.0,43200.0,67600.0,35000.0,60000.0,35000.0,54000.0,50000.0,72500.0,57000.0,60000.0,30000.0,30000.0,23000.0,65000.0,40000.0,58992.0,30000.0,57996.0,173467.0,38000.0,100000.0,90522.0,162500.0,22000.0,97188.0,43000.0,45000.0,34800.0,140000.0,41000.0,75000.0,91800.0,72000.0,57359.0,55000.0,96000.0,108000.0,44000.0,33100.0,24000.0,60000.0,40000.0,90000.0,225000.0,70000.0,175000.0,112992.0,62000.0,135000.0,94000.0,45000.0,27972.0,27568.0,100000.0,66500.0,34000.0,120000.0,84000.0,48989.0,44000.0,62000.0,143500.0,27600.0,140000.0,90000.0,44000.0,12000.0,55000.0,56000.0,73000.0,18000.0,50004.0,36903.0,70000.0,26000.0,60000.0,56000.0,61000.0,120000.0,96000.0,14400.0,18000.0,55000.0,33000.0,34000.0,80000.0,72700.0,58000.0,55000.0,92000.0,500000.0,86400.0,100000.0,65004.0,72250.0,77000.0,110000.0,68000.0,60000.0,88000.0,85000.0,49200.0,30000.0,522000.0,122000.0,60000.0,52400.0,61000.0,69600.0,35000.0,60353.0,79050.0,29004.0,120000.0,120000.0,100000.0,74568.0,48000.0,49000.0,30900.0,60000.0,59004.0,61104.0,105000.0,65007.0,39996.0,48000.0,20000.0,78000.0,40000.0,40000.0,24000.0,32640.0,60000.0,31600.0,49200.0,190000.0,50361.0,32000.0,62400.0,40000.0,200000.0,43500.0,37100.0,120000.0,20000.0,58650.0,50000.0,90000.0,90000.0,144000.0,39996.0,110000.0,180000.0,44000.0,28000.0,130000.0,83000.0,57500.0,60000.0,138000.0,58000.0,64049.0,42000.0,150086.0,114000.0,20800.0,39000.0,39520.0,21000.0,38400.0,57000.0,72000.0,40000.0,95000.0,118000.0,95000.0,336000.0,14400.0,135000.0,55000.0,10000.0,164000.0,60000.0,85000.0,45600.0,52000.0,58608.0,60000.0,70000.0,31000.0,67500.0,27000.0,100000.0,51250.0,108000.0,35000.0,62540.0,80000.0,55500.0,120000.0,30000.0,21600.0,23000.0,180488.0,34000.0,45000.0,55000.0,64000.0,85200.0,26000.0,13200.0,77500.0,60000.0,24000.0,67983.0,30000.0,67000.0,51000.0,38400.0,25000.0,65000.0,29136.0,45000.0,90700.0,43000.0,72000.0,59000.0,40000.0,40246.0,72000.0,180000.0,66996.0,31000.0,41000.0,65000.0,100000.0,130000.0,30000.0,117832.0,72000.0,90000.0,34560.0,21000.0,45900.0,45000.0,113000.0,51996.0,82000.0,35004.0,48000.0,80600.0,78000.0,120000.0,55000.0,109000.0,77350.0,55000.0,64000.0,48500.0,146000.0,42000.0,92000.0,58125.0,49500.0,35000.0,30000.0,48000.0,35941.0,50000.0,35000.0,39000.0,210000.0,195000.0,27000.0,65000.0,60000.0,34000.0,48800.0,250000.0,35000.0,98000.0,90000.0,65000.0,30000.0,96000.0,48000.0,78000.0,19200.0,60000.0,124992.0,54400.0,83000.0,58000.0,48000.0,72000.0,40000.0,24000.0,48000.0,55000.0,64000.0,30000.0,60000.0,82500.0,38000.0,50000.0,55000.0,120000.0,100000.0,250000.0,39000.0,86000.0,90000.0,55000.0,71500.0,26100.0,63000.0,36000.0,41340.0,98000.0,62000.0,36000.0,83199.0,26880.0,38000.0,415000.0,54996.0,90000.0,31200.0,34900.0,46000.0,75000.0,20000.0,115000.0,30000.0,50000.0,38000.0,50988.0,13380.0,84996.0,54000.0,150000.0,54000.0,32400.0,32644.0,38000.0,85000.0,86000.0,78000.0,92250.0,315000.0,44000.0,44004.0,70000.0,40000.0,77940.0,96000.0,75689.0,34600.0,44000.0,92000.0,200000.0,75670.0,36000.0,56500.0,65000.0,95000.0,33600.0,40000.0,230000.0,120000.0,82000.0,125000.0,45000.0,144000.0,135000.0,32400.0,48000.0,40000.0,38400.0,48000.0,61000.0,43000.0,52000.0,24000.0,96000.0,27385.0,55000.0,46800.0,54000.0,34000.0,90000.0,60000.0,45000.0,40000.0,43000.0,60000.0,88000.0,54000.0,54000.0,40000.0,37200.0,36000.0,83100.0,26000.0,175000.0,45000.0,54000.0,110000.0,70000.0,50000.0,120000.0,51000.0,74000.0,58600.0,39996.0,84996.0,72000.0,36800.0,95000.0,80000.0,18000.0,78504.0,50600.0,54072.0,51000.0,46000.0,72500.0,20004.0,64000.0,35000.0,70000.0,38400.0,30000.0,40000.0,182004.0,82000.0,50004.0,65000.0,28176.0,44000.0,110000.0,90000.0,69000.0,33000.0,64000.0,150000.0,120000.0,54578.0,62000.0,150000.0,35000.0,120000.0,75000.0,10000.0,57850.0,58650.0,145000.0,34320.0,27911.0,17000.0,100000.0,90000.0,31800.0,160669.0,62400.0,65500.0,54000.0,27000.0,22800.0,50004.0,71760.0,82700.0,104004.0,60000.0,48000.0,55000.0,69000.0,65280.0,50000.0,52000.0,60000.0,57600.0,46000.0,116000.0,70000.0,37920.0,52000.0,67300.0,36000.0,138000.0,24000.0,93000.0,400000.0,45000.0,60996.0,32000.0,24000.0,140000.0,53352.0,54000.0,72000.0,117000.0,78252.0,25000.0,35000.0,78000.0,82000.0,225000.0,70000.0,30000.0,24000.0,37200.0,67000.0,29000.0,48000.0,29120.0,60000.0,84000.0,65304.0,36000.0,21000.0,85000.0,56000.0,51600.0,65000.0,107000.0,82000.0,70360.0,46000.0,62000.0,45000.0,90000.0,85000.0,19200.0,42996.0,37004.0,54000.0,86700.0,25000.0,35500.0,39000.0,37000.0,65000.0,60000.0,68000.0,96000.0,39000.0,46000.0,19200.0,96000.0,60000.0,45000.0,70000.0,180000.0,67000.0,14400.0,46800.0,87000.0,60000.0,56000.0,50000.0,87000.0,34416.0,45000.0,73000.0,50000.0,35000.0,70000.0,42806.0,47652.0,120000.0,65000.0,45992.0,92000.0,26124.0,36000.0,120000.0,25056.0,150000.0,84996.0,39200.0,48000.0,50200.0,52500.0,60000.0,48000.0,60000.0,48000.0,26400.0,155000.0,65000.0,175000.0,74400.0,150000.0,101000.0,109000.0,18000.0,66000.0,124499.0,58000.0,45000.0,91200.0,84000.0,126400.0,52000.0,40000.0,54912.0,130992.0,98406.0,26400.0,62758.0,82570.0,27000.0,120000.0,68000.0,66912.0,39000.0,96000.0,120000.0,32000.0,138000.0,105000.0,30000.0,47000.0,59785.0,40000.0,60000.0,63000.0,103000.0,25000.0,19000.0,102500.0,66000.0,43200.0,220000.0,62000.0,36000.0,95000.0,63000.0,33000.0,30000.0,97781.0,45000.0,21600.0,46999.0,77000.0,91000.0,96000.0,40320.0,48000.0,100000.0,184000.0,15600.0,80000.0,100000.0,65000.0,22000.0,69900.0,30000.0,84000.0,34000.0,60000.0,25000.0,55000.0,39396.0,32000.0,32004.0,28800.0,16000.0,49349.0,75000.0,56000.0,26400.0,90000.0,75000.0,52800.0,60000.0,45600.0,30996.0,91000.0,98000.0,56000.0,42000.0,24996.0,25000.0,72500.0,63000.0,74360.0,80000.0,65000.0,70000.0,37440.0,62500.0,42000.0,65000.0,36000.0,52000.0,54000.0,28000.0,39000.0,39700.0,51996.0,76596.0,50000.0,66000.0,42000.0,38004.0,97000.0,90000.0,95000.0,250000.0,34000.0,107000.0,52000.0,34000.0,65000.0,40000.0,23400.0,110500.0,46000.0,27900.0,75800.0,72000.0,29000.0,55000.0,80000.0,78000.0,80004.0,60000.0,23040.0,53000.0,45000.0,59000.0,70600.0,78000.0,33000.0,84996.0,32000.0,72644.0,54000.0,50500.0,200000.0,40000.0,53000.0,36000.0,36600.0,35000.0,146990.0,40000.0,70000.0,50000.0,52569.0,29000.0,100000.0,65000.0,96000.0,16400.0,120000.0,50000.0,47580.0,50400.0,56253.0,83300.0,32004.0,30000.0,131000.0,75000.0,60000.0,45000.0,140000.0,24000.0,70000.0,105000.0,43236.0,40000.0,61000.0,69000.0,48000.0,120000.0,57500.0,44004.0,63200.0,98736.0,79000.0,48996.0,32000.0,175000.0,25000.0,30000.0,89000.0,70000.0,28800.0,136173.0,79050.0,55000.0,50000.0,130000.0,30000.0,33000.0,25000.0,120000.0,66000.0,100000.0,40104.0,89772.0,22000.0,38004.0,30000.0,57500.0,127500.0,30000.0,150000.0,88000.0,63000.0,42000.0,34580.0,31000.0,37920.0,72000.0,65000.0,128000.0,31000.0,105000.0,54000.0,54000.0,115000.0,144500.0,74000.0,30000.0,108000.0,50000.0,48000.0,90000.0,28150.0,60000.0,50000.0,38400.0,55000.0,73000.0,70000.0,51500.0,140000.0,30000.0,73000.0,74337.0,65600.0,155000.0,75000.0,86000.0,97000.0,59000.0,54000.0,39000.0,54000.0,60000.0,79800.0,12000.0,114996.0,56100.0,36000.0,58750.0,45300.0,46585.0,50000.0,42996.0,60000.0,25200.0,50000.0,118000.0,31000.0,150000.0,85596.0,88900.0,65004.0,60000.0,22790.0,124500.0,64775.0,57692.0,99000.0,65000.0,80000.0,46000.0,44000.0,72000.0,39000.0,22100.0,75000.0,96500.0,65000.0,40000.0,110000.0,54000.0,32000.0,85000.0,56000.0,160000.0,99996.0,35004.0,60000.0,136000.0,34500.0,88000.0,90000.0,65000.0,54000.0,115000.0,31500.0,39000.0,95000.0,96339.0,51000.0,85392.0,38400.0,92000.0,76000.0,108000.0,65856.0,25000.0,36996.0,13440.0,38000.0,78000.0,75000.0,85000.0,56755.0,44000.0,48500.0,30000.0,120000.0,58000.0,62400.0,64000.0,19000.0,171996.0,44000.0,16800.0,48000.0,97000.0,33600.0,27000.0,84996.0,107800.0,85000.0,20000.0,37000.0,44000.0,110000.0,18144.0,20400.0,108000.0,21600.0,41000.0,240000.0,40000.0,82008.0,61000.0,64000.0,80000.0,4000.0,30000.0,30297.0,60000.0,55000.0,78996.0,72000.0,35000.0,54000.0,120000.0,99996.0,41303.0,94000.0,69996.0,80000.0,12000.0,34000.0,72000.0,85000.0,28000.0,30000.0,34560.0,40000.0,65000.0,29000.0,60000.0,65000.0,15996.0,21600.0,58000.0,40000.0,34000.0,32652.0,100000.0,43000.0,35000.0,175000.0,48000.0,13200.0,36000.0,35000.0,35000.0,97000.0,33600.0,71004.0,42000.0,48000.0,47581.0,48000.0,65000.0,52000.0,42000.0,53000.0,70000.0,37500.0,54996.0,24996.0,100010.0,42000.0,75000.0,66996.0,33600.0,30288.0,141000.0,61000.0,55000.0,123000.0,75000.0,50000.0,89100.0,42000.0,140000.0,36000.0,70000.0,44004.0,60000.0,19200.0,58033.0,60000.0,50400.0,65400.0,102000.0,46392.0,24000.0,60000.0,60000.0,65000.0,65000.0,33600.0,48000.0,95000.0,54000.0,39000.0,190000.0,30000.0,27200.0,60000.0,60000.0,48000.0,94527.0,21000.0,38004.0,53000.0,36000.0,24000.0,40000.0,101000.0,110000.0,65488.0,36000.0,80000.0,60000.0,120000.0,70000.0,54196.0,127000.0,45996.0,70000.0,59827.0,80000.0,147000.0,50000.0,90000.0,81300.0,88812.0,53000.0,110000.0,35000.0,32000.0,44966.0,70000.0,40000.0,230000.0,76500.0,59000.0,52000.0,48000.0,72000.0,35500.0,103200.0,65000.0,66000.0,25000.0,78000.0,64000.0,34000.0,40308.0,30000.0,72000.0,218000.0,57000.0,28000.0,19404.0,78000.0,74000.0,60000.0,60000.0,45000.0,60500.0,78000.0,45000.0,70000.0,88512.0,56253.0,140000.0,110000.0,600000.0,74000.0,51300.0,49000.0,65000.0,135000.0,45500.0,45000.0,35004.0,67000.0,41000.0,26400.0,59520.0,108000.0,52000.0,56000.0,28700.0,113000.0,40000.0,29640.0,48000.0,72000.0,66000.0,42996.0,43500.0,89004.0,75000.0,69996.0,102000.0,37000.0,60000.0,62000.0,37400.0,36000.0,130000.0,55000.0,70000.0,70000.0,116300.0,55000.0,40000.0,175000.0,34560.0,18000.0,46500.0,60000.0,44004.0,90000.0,69996.0,48000.0,54000.0,59000.0,43680.0,59366.0,62532.0,192000.0,83000.0,34000.0,80000.0,65000.0,155000.0,96000.0,58000.0,115600.0,105400.0,54400.0,43200.0,54000.0,90474.0,23000.0,90000.0,39516.0,70000.0,160000.0,117696.0,27000.0,90000.0,58800.0,52000.0,32995.0,48000.0,34000.0,70000.0,28000.0,45000.0,60000.0,37584.0,80000.0,62400.0,75000.0,24091.0,41000.0,25000.0,85000.0,55000.0,96500.0,38400.0,42000.0,49000.0,105000.0,86000.0,60000.0,62000.0,73000.0,52000.0,126000.0,41500.0,46800.0,34000.0,26400.0,44000.0,180000.0,31200.0,50000.0,38000.0,70000.0,84000.0,60000.0,45600.0,69000.0,48000.0,50000.0,19200.0,43000.0,58000.0,50000.0,53688.0,33000.0,53000.0,157000.0,52000.0,60000.0,62000.0,60000.0,101000.0,47000.0,25200.0,92500.0,120000.0,21600.0,133000.0,135000.0,36000.0,45000.0,48000.0,60000.0,60000.0,60000.0,85100.0,45000.0,60000.0,65000.0,26000.0,85000.0,30000.0,45200.0,52000.0,43000.0,43000.0,40000.0,35000.0,45000.0,104000.0,60000.0,109800.0,27040.0,14400.0,40000.0,120000.0,110000.0,90000.0,50400.0,25000.0,130000.0,56000.0,25000.0,40000.0,74000.0,77385.0,105000.0,52800.0,49800.0,18700.0,136000.0,52809.0,55000.0,95000.0,37400.0,60000.0,60000.0,82000.0,60000.0,92000.0,16800.0,60500.0,30000.0,23000.0,19200.0,52500.0,35352.0,21000.0,94140.0,28000.0,52800.0,62400.0,110000.0,135000.0,72000.0,58000.0,23000.0,36400.0,49500.0,97200.0,60000.0,105000.0,42000.0,24000.0,50400.0,69575.0,215662.0,38400.0,48000.0,36000.0,49000.0,43000.0,16500.0,97000.0,140000.0,60000.0,44004.0,72000.0,85000.0,95000.0,95950.0,86400.0,45000.0,36000.0,49000.0,49000.0,82150.0,42500.0,193000.0,36000.0,50000.0,47004.0,50000.0,69996.0,100000.0,70000.0,66000.0,40000.0,175000.0,106000.0,42000.0,75000.0,43200.0,52800.0,44000.0,88000.0,45000.0,51996.0,83500.0,49000.0,94128.0,70000.0,40000.0,115000.0,800000.0,50000.0,51600.0,90000.0,68004.0,104000.0,65000.0,32000.0,75000.0,21000.0,48000.0,50000.0,48000.0,110000.0,46000.0,84240.0,40000.0,85584.0,100000.0,70000.0,46713.0,55000.0,30500.0,60000.0,32000.0,70204.0,38556.0,80000.0,60000.0,68000.0,120000.0,103200.0,12000.0,74237.0,30500.0,29328.0,85000.0,96000.0,35000.0,45000.0,75000.0,40000.0,31000.0,48000.0,24000.0,30000.0,80000.0,28800.0,62000.0,28000.0,60000.0,57800.0,35000.0,64200.0,249999.0,39504.0,75000.0,37200.0,50000.0,46000.0,62000.0,47500.0,66300.0,18000.0,60000.0,58800.0,90000.0,66000.0,25000.0,59600.0,43000.0,51036.0,40000.0,59000.0,44000.0,88500.0,69000.0,36000.0,24000.0,44760.0,29000.0,24000.0,46000.0,60000.0,45000.0,59000.0,59800.0,215000.0,30000.0,90000.0,68000.0,60000.0,25800.0,80000.0,23000.0,133000.0,29916.0,45000.0,138000.0,25000.0,78000.0,14400.0,50000.0,35520.0,199000.0,100000.0,109000.0,86004.0,90000.0,49000.0,45727.0,75000.0,44000.0,30000.0,35100.0,80000.0,31000.0,40000.0,75000.0,61000.0,88000.0,65000.0,48000.0,51000.0,35000.0,51000.0,39500.0,51996.0,54000.0,40000.0,65000.0,90000.0,25000.0,65000.0,44000.0,58000.0,119496.0,24000.0,50004.0,88000.0,48000.0,90996.0,45000.0,95000.0,123000.0,18000.0,65000.0,85000.0,64000.0,34400.0,73000.0,68480.0,21600.0,36000.0,65000.0,51996.0,95327.0,32000.0,80000.0,41000.0,27996.0,57000.0,69000.0,33600.0,85000.0,80000.0,41000.0,91224.0,65000.0,150000.0,42996.0,65000.0,31200.0,31200.0,57006.0,98000.0,66504.0,38304.0,54000.0,25000.0,33600.0,23000.0,84456.0,30000.0,42000.0,33000.0,53808.0,9600.0,62000.0,85000.0,120000.0,78000.0,72000.0,83000.0,61000.0,42000.0,42000.0,135000.0,30000.0,170000.0,37440.0,54000.0,45760.0,24000.0,159996.0,51996.0,42996.0,40000.0,24000.0,36000.0,40000.0,80000.0,40000.0,46800.0,104000.0,121000.0,54000.0,42000.0,60000.0,102000.0,120000.0,100000.0,69930.0,85000.0,70550.0,40000.0,28000.0,49000.0,31000.0,280000.0,24396.0,67430.0,56000.0,45000.0,63500.0,55000.0,38000.0,20000.0,83000.0,44064.0,25000.0,120000.0,84000.0,18000.0,120000.0,63000.0,30000.0,62900.0,48500.0,36996.0,54000.0,69000.0,75000.0,84906.0,31200.0,39000.0,50000.0,90000.0,15204.0,21600.0,34000.0,117000.0,86000.0,77500.0,20640.0,34900.0,125000.0,105000.0,92700.0,116000.0,20000.0,60000.0,119000.0,80000.0,42100.0,28500.0,65000.0,62000.0,25000.0,52000.0,60000.0,51852.0,48000.0,40000.0,87547.0,74000.0,18300.0,26989.0,43800.0,60000.0,54000.0,105500.0,16000.0,34000.0,30000.0,91234.0,26000.0,60000.0,51320.0,55000.0,104400.0,50000.0,68004.0,30000.0,45000.0,87000.0,253000.0,45000.0,79800.0,187000.0,109000.0,50000.0,88000.0,62000.0,65000.0,58000.0,82729.0,59700.0,64000.0,44000.0,38400.0,60000.0,100000.0,41600.0,81600.0,83500.0,50000.0,22000.0,120000.0,57504.0,40000.0,50268.0,150000.0,57068.0,62000.0,84996.0,20004.0,61000.0,26900.0,39996.0,60000.0,24996.0,42000.0,36000.0,68000.0,43000.0,37200.0,79000.0,46000.0,28000.0,38000.0,189996.0,38000.0,96000.0,120000.0,25200.0,115800.0,360000.0,175500.0,63000.0,116000.0,42000.0,88000.0,40050.0,89849.0,33000.0,33000.0,150000.0,45000.0,65000.0,36000.0,48000.0,57996.0,87000.0,70000.0,46000.0,98000.0,21600.0,36500.0,40000.0,58320.0,53000.0,58239.0,45000.0,78000.0,40752.0,55000.0,63000.0,38400.0,350000.0,90000.0,25632.0,25899.0,90000.0,75000.0,233000.0,23000.0,52102.0,170000.0,40000.0,130000.0,42000.0,110000.0,59000.0,33000.0,14040.0,170000.0,45000.0,54000.0,60000.0,96500.0,119004.0,21000.0,60000.0,56000.0,30000.0,85272.0,78996.0,175000.0,35713.0,26880.0,75000.0,22944.0,40000.0,54400.0,33000.0,48000.0,36996.0,58000.0,36000.0,30000.0,31000.0,70000.0,58000.0,74520.0,9840.0,62500.0,29400.0,131000.0,52000.0,30000.0,79000.0,19200.0,48000.0,52044.0,21600.0,54000.0,12500.0,121000.0,34320.0,42000.0,125000.0,62900.0,44000.0,89004.0,16000.0,75000.0,110000.0,69000.0,45600.0,60000.0,24000.0,30500.0,66000.0,70000.0,99000.0,93500.0,19200.0,70000.0,83000.0,52000.0,21600.0,120000.0,21403.0,72000.0,50000.0,75000.0,34000.0,92111.0,185000.0,54400.0,44000.0,100000.0,96000.0,22500.0,80000.0,116000.0,34000.0,22000.0,93000.0,108803.0,100000.0,43200.0,41000.0,65000.0,66000.0,28800.0,30000.0,35665.0,45900.0,67000.0,57744.0,100000.0,235000.0,50000.0,104000.0,40000.0,57000.0,63000.0,120000.0,100000.0,43860.0,70000.0,53000.0,54000.0,66000.0,75000.0,38004.0,75000.0,50740.0,25000.0,24000.0,138000.0,21600.0,27000.0,43000.0,22800.0,45000.0,93600.0,155000.0,34800.0,84996.0,62691.0,55000.0,34980.0,86095.0,75000.0,42000.0,56928.0,135000.0,33000.0,68000.0,40000.0,77000.0,86044.0,26000.0,69000.0,33000.0,180000.0,108960.0,24000.0,90000.0,55000.0,27000.0,61000.0,60000.0,36000.0,65136.0,21000.0,34000.0,99000.0,138000.0,31000.0,13200.0,24000.0,125000.0,70000.0,49304.0,40000.0,26000.0,90000.0,84000.0,85000.0,33000.0,119000.0,60000.0,100000.0,75000.0,90000.0,79500.0,50800.0,60000.0,168000.0,29500.0,42000.0,58000.0,18000.0,200000.0,115275.0,33168.0,102500.0,31200.0,27000.0,185000.0,78000.0,30000.0,57000.0,35100.0,55000.0,75996.0,65000.0,36000.0,71000.0,38000.0,85000.0,78000.0,52200.0,82000.0,73100.0,120000.0,170000.0,39600.0,45000.0,140000.0,200000.0,44000.0,60000.0,102996.0,48442.0,80000.0,52000.0,58000.0,51000.0,100000.0,26400.0,30000.0,70004.0,130000.0,35500.0,19200.0,154000.0,140000.0,52000.0,59500.0,90000.0,49000.0,63000.0,60000.0,54900.0,48000.0,127000.0,48000.0,37308.0,32500.0,63000.0,40000.0,59000.0,25000.0,125000.0,72500.0,238000.0,400000.0,34008.0,42500.0,40000.0,50004.0,32000.0,103000.0,39000.0,48000.0,42000.0,26400.0,32004.0,170000.0,50000.0,95000.0,54316.0,14400.0,140000.0,107450.0,95004.0,72000.0,50433.0,27500.0,60000.0,60000.0,55000.0,80000.0,39000.0,53004.0,49500.0,48000.0,86000.0,52000.0,111000.0,110000.0,35000.0,48000.0,54008.0,53000.0,42504.0,63096.0,21600.0,32500.0,37000.0,33600.0,40000.0,90000.0,39000.0,30000.0,50000.0,43000.0,43000.0,78000.0,330000.0,14400.0,51996.0,90000.0,80000.0,38400.0,55000.0,58000.0,300000.0,20000.0,50000.0,50000.0,125600.0,60000.0,44960.0,25000.0,13500.0,41300.0,56400.0,50000.0,29004.0,28800.0,35000.0,65004.0,72000.0,123000.0,55000.0,95000.0,55000.0,132000.0,51000.0,62900.0,120000.0,50000.0,48000.0,13920.0,19200.0,52000.0,28000.0,78000.0,63564.0,51669.0,180000.0,40000.0,81600.0,80004.0,51000.0,63211.0,35000.0,64000.0,64800.0,66000.0,66000.0,61020.0,27000.0,50000.0,18576.0,140000.0,74000.0,50000.0,71000.0,17000.0,71000.0,19000.0,130000.0,101500.0,18204.0,42000.0,72100.0,73500.0,45996.0,78000.0,64000.0,79872.0,30000.0,58000.0,25000.0,28000.0,18720.0,80000.0,25200.0,69108.0,85000.0,31500.0,115000.0,42000.0,90000.0,192000.0,75000.0,30035.0,30000.0,104550.0,32400.0,116000.0,86000.0,219300.0,77248.0,120000.0,42000.0,186000.0,33227.0,36000.0,48000.0,180000.0,36000.0,80004.0,70000.0,80000.0,96900.0,110000.0,79900.0,21000.0,170000.0,44000.0,70000.0,76248.0,38000.0,86604.0,42000.0,100000.0,124000.0,37600.0,51000.0,35000.0,17676.0,40000.0,106369.0,52000.0,62000.0,31200.0,80000.0,48996.0,37000.0,60000.0,114000.0,85000.0,50000.0,33321.0,83000.0,36996.0,54528.0,50000.0,49200.0,50000.0,52000.0,100000.0,80004.0,113000.0,33600.0,34000.0,200000.0,130000.0,176000.0,55000.0,45000.0,60000.0,59796.0,57000.0,102000.0,33000.0,28000.0,37200.0,68000.0,60000.0,250000.0,75744.0,80000.0,60000.0,54480.0,42096.0,14000.0,48000.0,145986.0,26000.0,43000.0,45000.0,34819.0,54000.0,66300.0,50000.0,33288.0,47000.0,28800.0,92000.0,60000.0,50000.0,51000.0,46450.0,30000.0,60000.0,19250.0,140000.0,56000.0,62000.0,63000.0,157000.0,59000.0,60000.0,81000.0,50663.0,66996.0,22000.0,23396.0,38400.0,30000.0,50000.0,40000.0,18000.0,48000.0,21000.0,30000.0,70000.0,43000.0,31000.0,55000.0,62500.0,70000.0,140000.0,55000.0,29140.0,90000.0,33600.0,40000.0,72000.0,80409.0,77078.0,90000.0,40000.0,49152.0,30000.0,45000.0,56000.0,48756.0,71000.0,72500.0,49788.0,62500.0,54000.0,18000.0,70000.0,39000.0,50000.0,50004.0,36100.0,62000.0,40000.0,50000.0,83200.0,40440.0,38400.0,36000.0,54000.0,48600.0,55000.0,19200.0,64600.0,40500.0,110925.0,66000.0,60000.0,25920.0,85000.0,80000.0,31200.0,75600.0,30252.0,33000.0,72000.0,52000.0,95000.0,42000.0,36000.0,159200.0,60675.0,60000.0,35496.0,51700.0,47000.0,26400.0,57000.0,36000.0,55000.0,105201.0,86000.0,73527.0,78000.0,20000.0,32400.0,30000.0,98000.0,218000.0,54080.0,51600.0,125000.0,36000.0,34600.0,47000.0,25568.0,34500.0,90000.0,93200.0,61000.0,39000.0,76000.0,95000.0,70000.0,36000.0,67000.0,118400.0,81600.0,85000.0,79750.0,79000.0,68400.0,42000.0,65000.0,40200.0,65000.0,96000.0,145000.0,58000.0,50000.0,65000.0,83000.0,30000.0,32500.0,27048.0,46000.0,56000.0,50000.0,50100.0,135000.0,21300.0,55704.0,100000.0,100000.0,102000.0,170000.0,75000.0,93000.0,50400.0,54000.0,200000.0,23000.0,50400.0,90000.0,73200.0,128500.0,55476.0,92200.0,80000.0,25000.0,100000.0,56368.0,118000.0,77237.0,158000.0,24000.0,85000.0,60000.0,56100.0,89000.0,140000.0,75000.0,110000.0,39000.0,145000.0,43000.0,119000.0,95000.0,21600.0,47000.0,38628.0,86004.0,42500.0,34000.0,42000.0,53000.0,35500.0,51600.0,31760.0,25200.0,139380.0,32004.0,42000.0,150000.0,128000.0,55000.0,74500.0,100000.0,190000.0,46654.0,77000.0,35000.0,20000.0,44000.0,40000.0,78000.0,59000.0,54000.0,57600.0,36000.0,36000.0,45000.0,90000.0,30000.0,19000.0,66960.0,70000.0,44200.0,58000.0,96996.0,126000.0,55000.0,30000.0,30000.0,48000.0,25000.0,50000.0,22992.0,58000.0,48000.0,40000.0,30000.0,42000.0,22000.0,75000.0,8000.0,60000.0,39000.0,40000.0,30067.0,75000.0,32112.0,25000.0,84000.0,70356.0,45000.0,101000.0,38117.0,24000.0,150000.0,51400.0,48686.0,58000.0,44400.0,45000.0,60000.0,48000.0,84906.0,45000.0,48000.0,60626.0,69000.0,72900.0,200000.0,24000.0,79000.0,34000.0,110000.0,13000.0,79200.0,65000.0,32000.0,49000.0,39270.0,18000.0,100000.0,83000.0,32000.0,120000.0,46500.0,56500.0,37000.0,54000.0,54000.0,24000.0,36500.0,62352.0,24000.0,54000.0,37000.0,54000.0,130008.0,40000.0,84000.0,41000.0,36000.0,116004.0,150000.0,80070.0,70000.0,27852.0,40000.0,55812.0,120000.0,37245.0,30000.0,90000.0,36000.0,80004.0,118000.0,24000.0,65004.0,20000.0,120000.0,24000.0,60000.0,50000.0,51996.0,80000.0,101000.0,50000.0,56000.0,92004.0,90000.0,29120.0,20400.0,75000.0,115000.0,36000.0,120000.0,35000.0,42000.0,75000.0,50000.0,34000.0,36000.0,85000.0,26400.0,41004.0,53000.0,95000.0,35000.0,50000.0,83000.0,52000.0,43000.0,36000.0,54500.0,58200.0,70000.0,80000.0,27000.0,44004.0,110400.0,43000.0,26004.0,30809.0,320000.0,70000.0,169000.0,56100.0,65000.0,26880.0,32000.0,46800.0,74000.0,205000.0,30000.0,78000.0,31000.0,39996.0,57000.0,305000.0,30000.0,56000.0,60000.0,62496.0,9600.0,29856.0,138000.0,60000.0,36480.0,39000.0,24000.0,70000.0,52000.0,7904.0,92000.0,112200.0,65000.0,162000.0,75000.0,56000.0,100000.0,68000.0,55000.0,32352.0,75000.0,138000.0,72000.0,37700.0,105000.0,43000.0,84000.0,44500.0,134400.0,51500.0,107000.0,64800.0,70000.0,54380.0,232050.0,36400.0,93000.0,55000.0,50663.0,35000.0,250000.0,55000.0,88000.0,13200.0,120000.0,200000.0,64000.0,48000.0,70000.0,16500.0,480000.0,29000.0,100000.0,26000.0,45000.0,17000.0,41000.0,65000.0,48956.0,21600.0,68000.0,45000.0,92652.0,49000.0,95000.0,60000.0,49536.0,56000.0,36000.0,75000.0,48500.0,60000.0,350000.0,34000.0,75000.0,55000.0,49000.0,60000.0,54000.0,43200.0,57057.0,30000.0,125000.0,100000.0,105000.0,72072.0,65000.0,53000.0,55000.0,98000.0,29820.0,89000.0,66000.0,45000.0,70000.0,20400.0,100000.0,30000.0,50400.0,48000.0,91800.0,14400.0,24000.0,89000.0,20400.0,59000.0,60000.0,45000.0,51000.0,54000.0,45000.0,25000.0,56000.0,85000.0,78000.0,51000.0,34000.0,38340.0,38000.0,30288.0,52000.0,32200.0,30000.0,50500.0,67200.0,80000.0,62000.0,80000.0,62400.0,84191.0,50000.0,54000.0,75000.0,94050.0,39996.0,65600.0,95004.0,47004.0,69000.0,43200.0,140000.0,37000.0,44400.0,6000.0,74000.0,70000.0,34000.0,54400.0,30000.0,85992.0,34000.0,72000.0,63000.0,36000.0,38400.0,73500.0,62000.0,46000.0,75000.0,156000.0,70000.0,37000.0,110000.0,65000.0,62500.0,100000.0,91000.0,64000.0,53000.0,75000.0,188000.0,172000.0,84000.0,572400.0,42300.0,60000.0,50000.0,19200.0,120000.0,80000.0,120000.0,11029.0,82000.0,70000.0,115000.0,54000.0,28800.0,140000.0,36000.0,178364.0,40000.0,53600.0,65500.0,48000.0,46000.0,300000.0,36000.0,165000.0,43955.0,66000.0,91000.0,125000.0,64000.0,50500.0,46300.0,73000.0,48000.0,96384.0,75000.0,36432.0,185000.0,40000.0,51996.0,78600.0,90000.0,90000.0,72000.0,99996.0,45000.0,65000.0,69790.0,43000.0,75000.0,81000.0,124000.0,32000.0,37200.0,51600.0,45000.0,44004.0,60000.0,40000.0,90000.0,60785.0,38000.0,57000.0,50000.0,99500.0,110000.0,120000.0,65000.0,59619.0,25716.0,32004.0,32004.0,37200.0,42000.0,56920.0,60000.0,18456.0,30000.0,71015.0,69000.0,120000.0,34800.0,63360.0,120000.0,63000.0,68000.0,45600.0,29000.0,34000.0,45000.0,50000.0,70000.0,15000.0,99670.0,103000.0,36000.0,41664.0,65000.0,30000.0,46800.0,46028.0,65000.0,70000.0,156600.0,31500.0,37459.0,60000.0,97356.0,40000.0,75000.0,60000.0,85000.0,48000.0,125000.0,155796.0,59004.0,118000.0,71884.0,42000.0,34000.0,58000.0,70000.0,23000.0,90000.0,104800.0,75000.0,80000.0,62000.0,40800.0,42996.0,612000.0,16000.0,70000.0,190000.0,58650.0,65004.0,54996.0,30000.0,74800.0,63000.0,96000.0,54996.0,52000.0,54000.0,83000.0,68000.0,4800.0,35000.0,20000.0,76000.0,46500.0,36000.0,98000.0,45000.0,72000.0,50700.0,9600.0,200000.0,111460.0,57600.0,48000.0,27311.0,40000.0,130000.0,138000.0,78000.0,100000.0,90000.0,36000.0,40000.0,75000.0,72000.0,60000.0,55000.0,82000.0,60000.0,110000.0,16800.0,90000.0,118000.0,91000.0,30000.0,95000.0,24000.0,60000.0,74004.0,75500.0,98000.0,64000.0,37000.0,27720.0,35000.0,72000.0,40000.0,29000.0,36000.0,96060.0,23000.0,30000.0,170000.0,35000.0,27996.0,40452.0,40000.0,40000.0,53000.0,73000.0,81000.0,52000.0,35000.0,65000.0,35000.0,30000.0,11476.0,61200.0,96588.0,173000.0,72000.0,70834.0,36000.0,64500.0,72060.0,24000.0,25000.0,70000.0,30000.0,90000.0,42264.0,19200.0,26500.0,57000.0,45000.0,70000.0,65000.0,26000.0,26004.0,45000.0,89028.0,110000.0,55000.0,60000.0,99996.0,45344.0,72100.0,75000.0,25000.0,55000.0,45000.0,65000.0,98280.0,60000.0,51300.0,30000.0,140000.0,32496.0,80000.0,63000.0,72000.0,116600.0,30000.0,144000.0,42000.0,36000.0,131000.0,37000.0,38400.0,55560.0,90000.0,87000.0,30000.0,74800.0,95000.0,72204.0,35000.0,62500.0,50000.0,200000.0,29000.0,58000.0,105500.0,85248.0,52000.0,155000.0,12000.0,75000.0,60000.0,40000.0,36400.0,36000.0,52000.0,82000.0,30000.0,34800.0,25000.0,113000.0,19000.0,40000.0,54996.0,41000.0,36000.0,30000.0,22800.0,71884.0,130000.0,83500.0,83300.0,100000.0,75996.0,56160.0,97000.0,33996.0,202300.0,34000.0,62000.0,30000.0,130000.0,66000.0,51000.0,56000.0,40000.0,75000.0,115000.0,64000.0,44004.0,75000.0,34000.0,46000.0,30720.0,45000.0,96000.0,60000.0,79112.0,22000.0,40000.0,50000.0,57120.0,35292.0,92000.0,32000.0,45000.0,77040.0,68000.0,76800.0,32000.0,57006.0,108000.0,65000.0,29000.0,65000.0,48000.0,35000.0,50000.0,40000.0,110000.0,70000.0,100000.0,153000.0,44000.0,53591.0,58800.0,50000.0,36000.0,54000.0,50000.0,75000.0,42000.0,22000.0,62000.0,30576.0,30000.0,85000.0,86807.0,30000.0,52240.0,50000.0,73000.0,100000.0,114000.0,87000.0,96000.0,74000.0,87600.0,56000.0,35400.0,103241.0,100000.0,44000.0,60000.0,48400.0,63000.0,34000.0,61000.0,57500.0,135000.0,80000.0,33000.0,59500.0,68500.0,44004.0,74000.0,33000.0,104000.0,87504.0,80308.0,53088.0,45432.0,60000.0,115200.0,48000.0,87000.0,32400.0,48000.0,66000.0,48000.0,25000.0,110000.0,60000.0,105000.0,44000.0,63000.0,46800.0,60000.0,85000.0,60000.0,108000.0,60000.0,67656.0,72000.0,150000.0,57000.0,80000.0,142000.0,125000.0,22800.0,28800.0,42552.0,34500.0,135000.0,37000.0,60000.0,106000.0,41000.0,30000.0,56033.0,136000.0,78000.0,98000.0,50000.0,54000.0,96000.0,62050.0,88296.0,43000.0,48000.0,97000.0,41000.0,62000.0,48500.0,60000.0,30000.0,79600.0,131000.0,56256.0,49000.0,72000.0,65025.0,45000.0,29000.0,48000.0,65000.0,34800.0,76000.0,88000.0,44004.0,37000.0,25279.0,46800.0,24432.0,50000.0,30000.0,51000.0,55000.0,54000.0,49000.0,24996.0,85000.0,67000.0,75000.0,104000.0,34000.0,68000.0,46000.0,37500.0,42000.0,62400.0,69592.0,48902.0,60000.0,225000.0,43738.0,110000.0,130000.0,334000.0,120000.0,25000.0,110000.0,21600.0,99504.0,66384.0,40000.0,148000.0,60000.0,75000.0,45000.0,50400.0,62000.0,99700.0,67000.0,65000.0,40000.0,31200.0,114000.0,34000.0,96000.0,23004.0,47000.0,75000.0,48000.0,54996.0,118000.0,86400.0,60000.0,18000.0,42500.0,54000.0,30300.0,36000.0,68000.0,145000.0,61000.0,29000.0,84000.0,50000.0,38000.0,20000.0,80000.0,30000.0,44000.0,101000.0,63000.0,26400.0,128000.0,44196.0,52000.0,55080.0,62000.0,85000.0,85000.0,140000.0,80000.0,120000.0,87120.0,65100.0,64500.0,68255.0,30000.0,28800.0,60000.0,46000.0,130000.0,28800.0,82000.0,44000.0,48000.0,36000.0,62500.0,30000.0,25000.0,60000.0,118000.0,49000.0,55000.0,60000.0,144000.0,30000.0,50000.0,121500.0,75000.0,47000.0,44959.0,114996.0,71000.0,159996.0,44000.0,90000.0,45000.0,48996.0,80000.0,60000.0,100000.0,15500.0,50000.0,75000.0,121000.0,78000.0,51992.0,31000.0,39000.0,183700.0,58000.0,16000.0,38000.0,32004.0,72000.0,42000.0,33666.0,20000.0,55000.0,70000.0,60000.0,45000.0,39327.0,66200.0,36000.0,97781.0,102000.0,64052.0,42000.0,47484.0,116500.0,44500.0,46144.0,13000.0,43000.0,120000.0,55182.0,30000.0,90000.0,53000.0,60000.0,104371.0,25000.0,52000.0,44000.0,80000.0,93000.0,105000.0,85000.0,84000.0,205000.0,69000.0,69000.0,30784.0,32400.0,150000.0,57500.0,24840.0,100000.0,76000.0,34000.0,27600.0,69743.0,19200.0,53000.0,26400.0,98000.0,67992.0,70000.0,95000.0,55000.0,40000.0,33864.0,60000.0,105000.0,33000.0,112000.0,57886.0,44000.0,58216.0,30000.0,90000.0,33000.0,62000.0,18000.0,125000.0,32500.0,70000.0,76000.0,112123.0,55200.0,68400.0,111000.0,36000.0,72000.0,99000.0,19200.0,30000.0,72000.0,69528.0,63000.0,55000.0,44760.0,24000.0,114132.0,50004.0,50000.0,80000.0,175000.0,69000.0,110000.0,39996.0,100000.0,33996.0,75000.0,48000.0,76000.0,71000.0,225000.0,67000.0,18000.0,35000.0,82500.0,24000.0,80000.0,38000.0,63180.0,45000.0,84000.0,33000.0,35000.0,32000.0,42000.0,50000.0,66000.0,72250.0,38168.0,81000.0,132650.0,74004.0,28608.0,151000.0,33000.0,44000.0,69996.0,42000.0,50000.0,90000.0,48000.0,70000.0,189000.0,78000.0,17004.0,97000.0,56000.0,175000.0,88000.0,145000.0,78000.0,120000.0,174000.0,120000.0,135000.0,48000.0,42000.0,77200.0,42000.0,79200.0,62300.0,48000.0,50000.0,21600.0,42000.0,54000.0,52000.0,40000.0,75873.0,42000.0,70000.0,74000.0,47000.0,26000.0,80000.0,56000.0,35500.0,46000.0,55000.0,41000.0,80000.0,31000.0,86000.0,50000.0,80000.0,44412.0,58000.0,56500.0,100000.0,36000.0,80000.0,40000.0,24000.0,24000.0,76800.0,10800.0,61995.0,76000.0,51000.0,88000.0,61000.0,33321.0,30000.0,16020.0,22000.0,60000.0,55000.0,59813.0,37460.0,73000.0,84000.0,75000.0,75000.0,74000.0,48000.0,80000.0,79000.0,45756.0,40000.0,90000.0,28596.0,34000.0,45000.0,73580.0,69000.0,47000.0,26880.0,113000.0,78000.0,24996.0,115000.0,60000.0,99000.0,48500.0,62000.0,36000.0,90000.0,28000.0,21000.0,52800.0,55000.0,109200.0,150000.0,70000.0,92000.0,95000.0,20000.0,60000.0,54996.0,118374.0,42000.0,85000.0,54000.0,120000.0,75000.0,25200.0,65004.0,270000.0,74778.0,102000.0,56000.0,86000.0,87000.0,47500.0,50000.0,51000.0,42000.0,120000.0,47800.0,26400.0,75000.0,25000.0,41004.0,37500.0,31000.0,63000.0,70000.0,294000.0,50000.0,24600.0,77000.0,83004.0,45000.0,30000.0,70550.0,59004.0,34000.0,97000.0,110000.0,21000.0,62000.0,29766.0,78000.0,80004.0,75000.0,77250.0,54924.0,48000.0,180000.0,29000.0,30000.0,36000.0,48200.0,55000.0,33000.0,38272.0,30000.0,56000.0,33000.0,30000.0,14000.0,41718.0,53000.0,42000.0,58575.0,18000.0,30000.0,40500.0,125000.0,43000.0,74000.0,38000.0,30000.0,52000.0,30000.0,12360.0,30000.0,70000.0,52704.0,32000.0,54000.0,72000.0,95000.0,75000.0,72000.0,62000.0,58000.0,115000.0,95000.0,64900.0,40000.0,24000.0,31944.0,37500.0,55000.0,50750.0,59000.0,105000.0,54000.0,52000.0,93000.0,50000.0,38000.0,68000.0,31000.0,48000.0,60000.0,75000.0,54000.0,35000.0,100000.0,50000.0,42000.0,85000.0,30000.0,30000.0,42000.0,60000.0,91384.0,50000.0,77976.0,20000.0,95000.0,30000.0,53250.0,54000.0,138000.0,42200.0,58000.0,54996.0,66000.0,31200.0,41600.0,36000.0,60000.0,36000.0,45000.0,40000.0,168000.0,58020.0,41000.0,110000.0,46000.0,50000.0,140000.0,70550.0,43000.0,36000.0,154000.0,52000.0,130000.0,84000.0,48000.0,35000.0,65000.0,29000.0,55000.0,24000.0,98000.0,65000.0,13200.0,102000.0,28800.0,116000.0,100000.0,91560.0,100000.0,47900.0,112000.0,35000.0,40000.0,44000.0,98132.0,124000.0,95004.0,99996.0,78000.0,80000.0,50000.0,45000.0,45000.0,26400.0,50000.0,39000.0,33000.0,36100.0,40000.0,32000.0,75000.0,40000.0,61250.0,65000.0,95000.0,60000.0,38000.0,24000.0,64000.0,78000.0,54000.0,158000.0,40000.0,60000.0,140000.0,14400.0,155004.0,96000.0,50000.0,36000.0,32000.0,58788.0,32304.0,60000.0,24960.0,96000.0,23000.0,131004.0,34255.0,40000.0,76000.0,54225.0,60000.0,43200.0,105000.0,48000.0,66560.0,71000.0,60000.0,32400.0,35000.0,57000.0,101138.0,60000.0,17688.0,198171.0,24000.0,51000.0,31680.0,52000.0,140000.0,40056.0,120000.0,168000.0,48000.0,93492.0,150000.0,41000.0,100000.0,16800.0,98300.0,98000.0,23000.0,79000.0,84000.0,55000.0,67386.0,79820.0,135000.0,25062.0,60000.0,29280.0,50000.0,85000.0,60000.0,33000.0,100000.0,39000.0,109000.0,82000.0,54000.0,58752.0,21120.0,76000.0,82000.0,63900.0,73000.0,130000.0,13500.0,62364.0,41500.0,38400.0,59400.0,40000.0,33500.0,78000.0,42000.0,74000.0,61200.0,19200.0,100000.0,38400.0,72250.0,160000.0,90000.0,39500.0,21600.0,49000.0,122000.0,55243.0,69077.0,85000.0,42000.0,27500.0,44004.0,49200.0,40000.0,31000.0,80000.0,54000.0,30576.0,150000.0,85000.0,38400.0,21600.0,190000.0,75000.0,75000.0,100280.0,57600.0,60000.0,14400.0,44004.0,106000.0,46800.0,34000.0,21600.0,45000.0,88000.0,105000.0,61000.0,136000.0,89523.0,24000.0,106000.0,32000.0,36928.0,39000.0,50000.0,116004.0,37800.0,74000.0,80400.0,57000.0,24148.0,74263.0,70000.0,48000.0,20004.0,90636.0,62000.0,35004.0,50426.0,23700.0,48000.0,99600.0,100000.0,47133.0,36000.0,75000.0,42900.0,56000.0,60000.0,60000.0,70000.0,141600.0,52000.0,186063.0,72000.0,92004.0,60000.0,48000.0,24900.0,78600.0,69000.0,79200.0,48000.0,98000.0,30996.0,24000.0,98004.0,45000.0,123996.0,45500.0,50000.0,60000.0,44000.0,50000.0,125000.0,75000.0,90722.0,23000.0,45000.0,75000.0,89796.0,82100.0,131040.0,50724.0,325000.0,33000.0,70000.0,50000.0,24000.0,38880.0,50000.0,111000.0,99518.0,53000.0,70197.0,95000.0,112000.0,170004.0,27000.0,70000.0,30000.0,78456.0,42000.0,72000.0,53000.0,55000.0,48996.0,135000.0,46500.0,49000.0,50000.0,86000.0,44000.0,42886.0,55000.0,36000.0,36000.0,35300.0,75000.0,96000.0,37000.0,100000.0,30000.0,85000.0,65000.0,95000.0,50000.0,90000.0,72000.0,73000.0,81000.0,90080.0,36000.0,55000.0,28000.0,82800.0,136000.0,69996.0,48701.0,120000.0,50000.0,89000.0,72061.0,80000.0,72252.0,31200.0,61000.0,54000.0,57600.0,21600.0,42000.0,90000.0,41000.0,112140.0,52800.0,32000.0,54996.0,47580.0,90000.0,61000.0,52106.0,90000.0,39996.0,72000.0,32000.0,43000.0,56000.0,82000.0,57996.0,101000.0,43600.0,47000.0,87000.0,47000.0,44724.0,45000.0,126251.0,201000.0,72000.0,100000.0,20000.0,76500.0,83004.0,69600.0,46000.0,24000.0,168000.0,70000.0,40000.0,26237.0,75000.0,32796.0,149385.0,69000.0,35000.0,62000.0,96000.0,60000.0,85000.0,150000.0,36000.0,33000.0,56004.0,50400.0,357000.0,51000.0,50000.0,100000.0,27600.0,39000.0,90000.0,41000.0,34400.0,38000.0,62000.0,98000.0,112000.0,92700.0,50000.0,48000.0,50000.0,110000.0,46000.0,65000.0,43000.0,45000.0,89250.0,66000.0,109000.0,30000.0,54996.0,52700.0,175000.0,49000.0,14400.0,57000.0,29500.0,27000.0,117000.0,60000.0,48000.0,24000.0,38000.0,78000.0,150000.0,80000.0,10000.0,80000.0,23000.0,40000.0,120000.0,67000.0,10000.0,75000.0,37500.0,60000.0,42000.0,43000.0,78305.0,41000.0,43000.0,70000.0,170000.0,32000.0,34000.0,30000.0,32000.0,29000.0,113400.0,28080.0,28800.0,40000.0,34000.0,32000.0,100000.0,21996.0,138000.0,50000.0,40992.0,30000.0,130000.0,40000.0,35000.0,32400.0,80000.0,122000.0,47000.0,33996.0,36000.0,32000.0,50000.0,55000.0,82000.0,39000.0,105000.0,70000.0,30000.0,117000.0,55400.0,54000.0,69000.0,65000.0,78996.0,99600.0,72396.0,60000.0,40000.0,50004.0,45000.0,25000.0,140004.0,49200.0,61000.0,110000.0,32000.0,92508.0,125000.0,49000.0,48000.0,42910.0,42000.0,60000.0,65000.0,42000.0,53922.0,170000.0,35000.0,39000.0,34000.0,54000.0,42500.0,38004.0,61500.0,75000.0,120000.0,107000.0,67000.0,44000.0,57000.0,111000.0,51600.0,93132.0,48996.0,45000.0,49176.0,75000.0,25000.0,64000.0,77000.0,60900.0,32000.0,62500.0,90000.0,36000.0,46000.0,39000.0,48609.0,65000.0,76800.0,300000.0,80000.0,15600.0,14400.0,135000.0,31000.0,72000.0,54000.0,119500.0,120000.0,50650.0,53000.0,20000.0,45000.0,70000.0,50000.0,64999.0,400000.0,62050.0,70000.0,60000.0,85000.0,83000.0,66000.0,124000.0,47000.0,40224.0,48000.0,56000.0,35000.0,78000.0,45000.0,70000.0,85500.0,68000.0,150000.0,65000.0,55000.0,23000.0,113000.0,62400.0,30000.0,132652.0,30000.0,42000.0,69000.0,59000.0,49000.0,75000.0,54000.0,38000.0,30000.0,55000.0,81000.0,30000.0,75000.0,60000.0,24000.0,73992.0,25800.0,56208.0,37000.0,28800.0,80000.0,44004.0,45000.0,42000.0,70000.0,105508.0,45000.0,32000.0,46000.0,18200.0,172000.0,57000.0,47000.0,42996.0,20400.0,51319.0,102000.0,37440.0,36000.0,24996.0,40000.0,12000.0,70000.0,28038.0,34000.0,72000.0,72000.0,78500.0,33000.0,145000.0,80000.0,32000.0,48000.0,83000.0,104000.0,50000.0,70000.0,24600.0,95000.0,125000.0,30000.0,90996.0,78000.0,23000.0,140000.0,36000.0,44004.0,36000.0,32000.0,16800.0,28800.0,95000.0,55000.0,50000.0,110000.0,46744.0,130000.0,46000.0,42000.0,57000.0,35000.0,59700.0,84000.0,61500.0,27000.0,62000.0,72000.0,31609.0,61400.0,56000.0,180000.0,52000.0,70000.0,59000.0,59497.0,53808.0,95000.0,80600.0,44000.0,39300.0,61615.0,86000.0,50000.0,83000.0,115000.0,19200.0,26400.0,28584.0,79200.0,33000.0,120000.0,40000.0,103000.0,60000.0,60400.0,49000.0,42000.0,9000.0,60000.0,33000.0,120000.0,38400.0,40320.0,31577.0,80000.0,39312.0,49362.0,65000.0,117000.0,125000.0,160000.0,125000.0,53184.0,69996.0,70000.0,130000.0,17000.0,32004.0,32000.0,68000.0,24960.0,60000.0,79000.0,37000.0,90000.0,59000.0,234000.0,71000.0,42000.0,54263.0,40000.0,51000.0,60000.0,35000.0,80000.0,57000.0,70000.0,45000.0,29000.0,37300.0,65000.0,45000.0,31000.0,30000.0,200000.0,50000.0,78000.0,55000.0,60000.0,30000.0,65000.0,73000.0,28704.0,75000.0,72800.0,87000.0,33000.0,7200.0,28590.0,65000.0,32004.0,92000.0,66500.0,80000.0,51500.0,86400.0,98000.0,70000.0,102000.0,21600.0,223000.0,80000.0,100000.0,107364.0,39000.0,59004.0,150000.0,94500.0,77800.0,40800.0,96000.0,40000.0,25000.0,28560.0,16800.0,68000.0,45630.0,37000.0,25400.0,26000.0,124000.0,61000.0,75600.0,40000.0,58570.0,52000.0,112000.0,57996.0,85000.0,81000.0,110000.0,60000.0,120000.0,50000.0,24744.0,48000.0,132000.0,36000.0,77000.0,260000.0,35496.0,45000.0,36000.0,49400.0,77500.0,40000.0,48000.0,62900.0,38000.0,45888.0,103000.0,29000.0,72000.0,216000.0,84000.0,55000.0,40000.0,22718.0,94000.0,33600.0,72000.0,50000.0,82000.0,58650.0,67600.0,83300.0,381450.0,80004.0,35000.0,44400.0,113300.0,106000.0,100000.0,35427.0,53000.0,68000.0,50400.0,35000.0,275000.0,89904.0,36000.0,30000.0,27000.0,75000.0,24000.0,75000.0,32000.0,38000.0,65000.0,188000.0,39996.0,75000.0,55900.0,75000.0,25000.0,75600.0,35000.0,37000.0,46000.0,140000.0,17352.0,75000.0,80000.0,59000.0,90000.0,73000.0,54000.0,50000.0,100000.0,53000.0,39000.0,24000.0,28000.0,51000.0,53000.0,60000.0,48000.0,51541.0,35000.0,48000.0,36000.0,125000.0,265000.0,52800.0,120000.0,55000.0,141000.0,33500.0,65000.0,13200.0,106000.0,93492.0,48000.0,37148.0,79864.0,95000.0,15500.0,72000.0,45000.0,24000.0,224000.0,37500.0,40000.0,48000.0,33600.0,16200.0,88000.0,84000.0,25000.0,67000.0,45000.0,45000.0,54000.0,32500.0,64700.0,40000.0,55000.0,57460.0,70000.0,90000.0,50000.0,60000.0,120000.0,40000.0,30000.0,21600.0,37000.0,42000.0,40000.0,70000.0,24000.0,62000.0,50000.0,25000.0,95004.0,125000.0,90444.0,92004.0,47840.0,125800.0,50000.0,66000.0,60000.0,56000.0,40000.0,20000.0,150000.0,33000.0,36000.0,117696.0,19200.0,34000.0,96000.0,120000.0,60000.0,60000.0,134000.0,117000.0,53000.0,60096.0,85000.0,90000.0,215662.0,100000.0,29000.0,45000.0,27600.0,15600.0,45000.0,66560.0,57600.0,80000.0,115000.0,67644.0,55392.0,36500.0,48996.0,33000.0,52000.0,33600.0,50000.0,45000.0,44000.0,26940.0,84500.0,42000.0,50000.0,140000.0,40499.0,100000.0,65000.0,50000.0,64000.0,33000.0,136000.0,43200.0,71500.0,40800.0,30000.0,130000.0,71000.0,67400.0,200000.0,59004.0,35000.0,80000.0,52000.0,24000.0,29520.0,30000.0,32004.0,17280.0,36000.0,20800.0,12000.0,60000.0,83004.0,43200.0,87000.0,48000.0,45300.0,25000.0,155004.0,44000.0,68000.0,90996.0,42000.0,85000.0,74476.0,54731.0,72000.0,165000.0,50000.0,88000.0,49510.0,34000.0,25200.0,55000.0,75000.0,100896.0,70000.0,42000.0,45000.0,34000.0,61000.0,42000.0,75000.0,115000.0,42000.0,160000.0,68399.0,83000.0,57000.0,26568.0,120000.0,64000.0,45000.0,105600.0,110000.0,31416.0,80000.0,113000.0,64500.0,35000.0,42000.0,63600.0,47000.0,45000.0,64000.0,44894.0,48000.0,138000.0,39000.0,75000.0,52000.0,15915.0,35000.0,75996.0,71004.0,63000.0,14400.0,60000.0,54000.0,58000.0,64000.0,47748.0,69600.0,14400.0,69000.0,80000.0,235000.0,23000.0,30000.0,40000.0,72000.0,35064.0,185000.0,70000.0,23000.0,100000.0,60500.0,55200.0,60000.0,57840.0,38000.0,57000.0,37600.0,70000.0,18864.0,200000.0,54000.0,23000.0,125000.0,46000.0,32000.0,130000.0,72000.0,150000.0,61000.0,24000.0,110000.0,13200.0,40000.0,30000.0,21360.0,51500.0,132000.0,38000.0,48000.0,96000.0,82000.0,82000.0,76254.0,48000.0,60000.0,26000.0,38400.0,54000.0,48000.0,60000.0,19200.0,25000.0,120000.0,96000.0,54000.0,15600.0,35000.0,125000.0,30000.0,60000.0,116000.0,160000.0,30000.0,34000.0,40000.0,39996.0,74000.0,54000.0,77000.0,41000.0,70000.0,27852.0,53000.0,68000.0,101500.0,54996.0,50000.0,21600.0,108000.0,39996.0,90000.0,62050.0,72400.0,60000.0,72000.0,50000.0,60000.0,64500.0,62352.0,36000.0,100000.0,150000.0,144000.0,20640.0,20000.0,58000.0,47200.0,47000.0,135000.0,72800.0,50000.0,24000.0,51000.0,37500.0,36000.0,97700.0,480000.0,70000.0,59393.0,140000.0,55000.0,72000.0,125000.0,68000.0,42000.0,50700.0,59000.0,70000.0,95000.0,72000.0,38400.0,70000.0,120000.0,91000.0,14400.0,72000.0,60000.0,280000.0,159000.0,54000.0,80000.0,55000.0,32000.0,30000.0,63844.0,27340.0,53000.0,70000.0,40000.0,85000.0,40000.0,130000.0,100000.0,65000.0,75000.0,74004.0,100000.0,48000.0,33600.0,27040.0,25000.0,97440.0,78000.0,36000.0,45000.0,20000.0,66000.0,72000.0,100000.0,125000.0,25000.0,60000.0,85000.0,28000.0,202000.0,74000.0,78000.0,39000.0,77533.0,55000.0,31200.0,136000.0,46150.0,31776.0,36000.0,85000.0,34800.0,70000.0,30900.0,69996.0,70000.0,33800.0,60000.0,108000.0,35000.0,30000.0,70000.0,24000.0,108000.0,55344.0,55000.0,130000.0,42769.0,44500.0,50000.0,52000.0,54000.0,37000.0,52000.0,50000.0,51000.0,45600.0,53595.0,75000.0,100000.0,33000.0,84996.0,73000.0,126000.0,28800.0,72000.0,54000.0,29000.0,66560.0,130000.0,44000.0,36000.0,46000.0,42000.0,95000.0,30000.0,10560.0,54000.0,38200.0,69700.0,100000.0,36000.0,28800.0,50000.0,71000.0,100000.0,29000.0,70000.0,50000.0,23000.0,34000.0,57000.0,20400.0,195000.0,89000.0,75000.0,68000.0,120000.0,47500.0,51000.0,33600.0,40000.0,53832.0,36000.0,75000.0,40000.0,124000.0,61000.0,92500.0,53004.0,30000.0,75000.0,32000.0,42000.0,34000.0,39996.0,20000.0,46000.0,39996.0,92000.0,130000.0,57700.0,120000.0,170000.0,68000.0,110000.0,52000.0,150000.0,105000.0,82116.0,62500.0,81996.0,201000.0,41725.0,42000.0,47000.0,25200.0,275000.0,43200.0,40000.0,63000.0,65000.0,38004.0,36500.0,125000.0,50400.0,45000.0,45000.0,48000.0,38000.0,71000.0,51000.0,35000.0,60000.0,90000.0,93000.0,25200.0,60000.0,54000.0,140000.0,26000.0,61200.0,42000.0,58000.0,86000.0,58000.0,72000.0,90000.0,46500.0,48000.0,52800.0,65000.0,52000.0,24449.0,27600.0,17000.0,30000.0,130000.0,80000.0,26004.0,90000.0,140000.0,17916.0,54000.0,30000.0,105000.0,120000.0,62004.0,45000.0,21000.0,100000.0,75000.0,56628.0,45600.0,60000.0,75000.0,18000.0,48000.0,70000.0,92000.0,238000.0,37000.0,89204.0,30000.0,46325.0,74758.0,29000.0,97000.0,138000.0,120390.0,42000.0,65000.0,29120.0,54000.0,48000.0,55000.0,75000.0,72000.0,18720.0,48000.0,50000.0,50123.0,75000.0,79200.0,85000.0,60000.0,74000.0,34359.0,138000.0,42000.0,50400.0,24000.0,102000.0,55000.0,45000.0,35000.0,71040.0,48000.0,69936.0,22000.0,99000.0,54000.0,44000.0,48000.0,50000.0,50000.0,110000.0,44196.0,35000.0,30000.0,153000.0,60000.0,44000.0,12000.0,70000.0,200000.0,38400.0,10800.0,43580.0,91800.0,77200.0,33000.0,50176.0,100000.0,18996.0,23198.0,89602.0,40000.0,59004.0,40000.0,150000.0,72000.0,120000.0,65000.0,120000.0,36996.0,30000.0,42765.0,168000.0,42000.0,100000.0,44000.0,24000.0,49000.0,44000.0,46000.0,45996.0,49641.0,83000.0,38000.0,48000.0,39000.0,105000.0,34000.0,60000.0,107004.0,85000.0,36000.0,52000.0,90000.0,30000.0,58327.0,44000.0,72000.0,50004.0,68004.0,150000.0,45000.0,45600.0,96000.0,120000.0,24720.0,28000.0,27000.0,108041.0,54000.0,88000.0,50880.0,83000.0,50402.0,25000.0,24000.0,14400.0,28000.0,96000.0,14400.0,60000.0,44400.0,44000.0,25000.0,87700.0,73000.0,110000.0,77100.0,29000.0,75000.0,60000.0,44000.0,112224.0,70920.0,112000.0,35000.0,55000.0,37876.0,188000.0,26004.0,112000.0,47000.0,50000.0,27000.0,28000.0,29232.0,35000.0,65000.0,50000.0,55000.0,65004.0,80004.0,741600.0,132000.0,130000.0,30000.0,75000.0,225000.0,17676.0,39000.0,36000.0,65000.0,59534.0,54000.0,24000.0,128000.0,135000.0,28000.0,43200.0,63235.0,28128.0,126000.0,33000.0,108000.0,75000.0,140000.0,50508.0,39000.0,65000.0,56950.0,75000.0,50000.0,43344.0,80004.0,35500.0,100000.0,42000.0,60000.0,40000.0,30000.0,106000.0,72000.0,65000.0,74004.0,96000.0,24168.0,32500.0,46000.0,38000.0,24449.0,38000.0,79200.0,243600.0,87600.0,98000.0,47818.0,55000.0,55000.0,83000.0,24000.0,55000.0,27996.0,19200.0,47700.0,22480.0,100450.0,39000.0,37000.0,47000.0,40000.0,58000.0,39500.0,110000.0,67392.0,120000.0,62000.0,235000.0,9600.0,72858.0,71000.0,45000.0,80500.0,84000.0,50000.0,30000.0,53004.0,100300.0,42504.0,55000.0,45000.0,23350.0,9600.0,35000.0,41000.0,40000.0,82000.0,75000.0,90000.0,44000.0,40000.0,47000.0,42000.0,75000.0,69996.0,65000.0,130000.0,48000.0,36000.0,31200.0,108000.0,38000.0,100000.0,88000.0,58000.0,117000.0,41000.0,48000.0,81000.0,35000.0,100000.0,94000.0,80000.0,160000.0,128000.0,26500.0,46000.0,38500.0,78000.0,108000.0,41004.0,60100.0,29496.0,80000.0,65500.0,26400.0,64125.0,35000.0,100000.0,76080.0,114996.0,24500.0,91000.0,85000.0,14400.0,65000.0,181408.0,101000.0,69000.0,48000.0,65000.0,37620.0,29000.0,32000.0,108000.0,75000.0,100000.0,263004.0,61000.0,66000.0,118000.0,24000.0,47000.0,86500.0,40000.0,44000.0,48000.0,60000.0,110004.0,45000.0,18000.0,122000.0,156000.0,115000.0,14400.0,97500.0,59000.0,27120.0,67000.0,86000.0,66000.0,83200.0,115000.0,45000.0,34404.0,54000.0,253000.0,48000.0,108000.0,67147.0,60000.0,71500.0,120000.0,45204.0,48000.0,58800.0,50000.0,88400.0,120000.0,81996.0,135000.0,21000.0,34000.0,33640.0,55000.0,40000.0,25000.0,84000.0,40000.0,277104.0,115200.0,70000.0,55250.0,45000.0,40000.0,30000.0,33000.0,85000.0,50000.0,425000.0,60000.0,87600.0,44000.0,130000.0,72000.0,52692.0,72000.0,30000.0,91000.0,53500.0,65450.0,28000.0,24000.0,36000.0,37000.0,44000.0,25700.0,69830.0,53500.0,34000.0,119500.0,45136.0,118000.0,108000.0,75000.0,33600.0,56400.0,55000.0,54000.0,135660.0,55000.0,60000.0,96000.0,84996.0,38000.0,36225.0,73440.0,60000.0,144000.0,48000.0,89000.0,50000.0,30548.0,100000.0,60000.0,30000.0,45000.0,36000.0,50000.0,80000.0,77650.0,90000.0,55560.0,58000.0,80000.0,60000.0,126000.0,52000.0,85000.0,102058.0,88128.0,96000.0,38400.0,27000.0,30000.0,34000.0,86500.0,65004.0,80004.0,35000.0,74000.0,275000.0,98056.0,39000.0,35004.0,21840.0,62000.0,35360.0,61200.0,35000.0,43000.0,64000.0,32000.0,40000.0,67807.0,45000.0,43800.0,35820.0,41600.0,47000.0,65004.0,48000.0,61000.0,31200.0,762000.0,34942.0,30555.0,30000.0,38016.0,67800.0,36100.0,80004.0,70000.0,92500.0,65000.0,35600.0,40000.0,35000.0,42996.0,60000.0,60000.0,60000.0,60380.0,31000.0,119000.0,32000.0,130000.0,35200.0,46000.0,50000.0,43900.0,69000.0,34000.0,75800.0,17600.0,42500.0,48000.0,115000.0,120000.0,43000.0,120000.0,79050.0,40000.0,30809.0,53000.0,200000.0,94128.0,63000.0,45000.0,74100.0,83000.0,83234.0,120640.0,135000.0,30000.0,60000.0,30000.0,58650.0,46800.0,40000.0,62393.0,45000.0,60000.0,41779.0,99800.0,43200.0,60000.0,287000.0,74500.0,30000.0,64000.0,40008.0,43200.0,44000.0,54000.0,36000.0,46000.0,66000.0,52526.0,40000.0,100000.0,58000.0,35364.0,58000.0,73000.0,78000.0,49900.0,57500.0,37000.0,80004.0,47000.0,22500.0,30000.0,49000.0,180000.0,70000.0,105000.0,75000.0,62000.0,65000.0,30000.0,60000.0,49500.0,53000.0,55000.0,115000.0,50000.0,50400.0,61400.0,51000.0,42996.0,28000.0,32000.0,27264.0,45000.0,66000.0,57000.0,38400.0,46000.0,70092.0,62000.0,45600.0,62000.0,110000.0,60000.0,43200.0,45600.0,64000.0,60000.0,85000.0,58650.0,90000.0,22968.0,68000.0,44544.0,21600.0,35280.0,81360.0,31200.0,52000.0,120000.0,30000.0,49000.0,109000.0,25200.0,34000.0,72000.0,95000.0,63996.0,45000.0,48000.0,48000.0,75000.0,31100.0,45000.0,44640.0,36000.0,55000.0,81996.0,90000.0,20000.0,54000.0,60000.0,38000.0,65000.0,42000.0,42000.0,148350.0,78000.0,43000.0,111996.0,140787.0,106226.0,47004.0,25000.0,51000.0,22608.0,66000.0,49530.0,47480.0,75000.0,50000.0,59000.0,37500.0,85000.0,54000.0,47000.0,85000.0,78300.0,48996.0,59000.0,50000.0,35000.0,84500.0,45000.0,46000.0,78000.0,30000.0,105000.0,75000.0,100000.0,108639.0,66120.0,103000.0,100000.0,36000.0,49441.0,34000.0,72000.0,68000.0,72000.0,55000.0,69996.0,21600.0,57240.0,77000.0,95000.0,25000.0,55000.0,60000.0,201000.0,93000.0,28000.0,55000.0,36000.0,43680.0,115000.0,40100.0,120000.0,59004.0,20640.0,72000.0,15996.0,180000.0,600000.0,57000.0,24000.0,77544.0,79000.0,24500.0,92000.0,70000.0,38400.0,28800.0,29000.0,50000.0,12000.0,100000.0,75000.0,38400.0,45000.0,32000.0,51000.0,40000.0,98000.0,37000.0,79000.0,93000.0,65000.0,33996.0,120000.0,40000.0,24000.0,48000.0,165000.0,65000.0,37000.0,44000.0,34988.0,100000.0,43000.0,70000.0,39996.0,78200.0,72000.0,45000.0,63000.0,42564.0,36700.0,62000.0,70000.0,33000.0,100000.0,83000.0,27600.0,97600.0,34000.0,70000.0,50000.0,74000.0,90000.0,107000.0,99996.0,80000.0,92085.0,39996.0,24000.0,160000.0,40000.0,70000.0,60000.0,160000.0,62000.0,70000.0,61000.0,37500.0,130000.0,22800.0,175000.0,32500.0,97000.0,30000.0,55000.0,114000.0,60000.0,50000.0,75000.0,15000.0,56000.0,45600.0,40000.0,60000.0,89250.0,52500.0,36000.0,70000.0,40000.0,39600.0,24996.0,55000.0,29000.0,31000.0,42000.0,54000.0,38667.0,75000.0,54000.0,108928.0,69000.0,31704.0,91500.0,57492.0,41000.0,65450.0,110000.0,46000.0,71000.0,45243.0,35000.0,90000.0,30000.0,70000.0,19000.0,48879.0,77000.0,60000.0,59000.0,71400.0,30000.0,39996.0,42000.0,60000.0,48000.0,36000.0,79636.0,39000.0,30000.0,16800.0,62050.0,120000.0,45000.0,28550.0,18000.0,66000.0,28800.0,80000.0,98000.0,54996.0,42000.0,82308.0,49536.0,74000.0,124726.0,54586.0,77000.0,21500.0,80000.0,70000.0,30000.0,667680.0,91000.0,60000.0,444000.0,40000.0,42000.0,53000.0,72000.0,103000.0,80000.0,75000.0,61000.0,130000.0,108000.0,63189.0,44000.0,27000.0,69000.0,47000.0,18996.0,80000.0,27300.0,90000.0,124800.0,104740.0,34500.0,54548.0,45630.0,60000.0,45288.0,53000.0,90000.0,107004.0,153000.0,65000.0,51600.0,53307.0,84996.0,70000.0,125000.0,85000.0,62500.0,38400.0,120000.0,90000.0,152004.0,33000.0,32000.0,18000.0,95000.0,69000.0,61000.0,25000.0,97000.0,15600.0,60000.0,39996.0,83000.0,54400.0,348000.0,64000.0,60000.0,7800.0,50004.0,50000.0,68000.0,52500.0,68400.0,60000.0,33000.0,70000.0,55000.0,18996.0,31000.0,70000.0,69000.0,30000.0,30852.0,108000.0,88000.0,75000.0,30000.0,114000.0,85000.0,63720.0,51200.0,50508.0,78000.0,50000.0,32400.0,63000.0,47500.0,150000.0,150000.0,48000.0,92000.0,45600.0,56000.0,55000.0,150000.0,77000.0,86500.0,108000.0,22000.0,408000.0,75000.0,22596.0,28800.0,100000.0,80000.0,62000.0,45000.0,50000.0,52800.0,49000.0,65004.0,15000.0,43500.0,38500.0,42000.0,70000.0,32968.0,59500.0,57600.0,54000.0,91000.0,50000.0,62000.0,65500.0,140000.0,73000.0,80000.0,27000.0,50250.0,50004.0,28800.0,54000.0,55000.0,74250.0,64999.0,30000.0,120000.0,73000.0,48000.0,42000.0,138000.0,51000.0,48000.0,72000.0,80000.0,48000.0,66000.0,35000.0,94976.0,48000.0,95000.0,185000.0,60000.0,56056.0,29000.0,39580.0,32000.0,62000.0,52800.0,23916.0,70000.0,62000.0,80000.0,73000.0,63000.0,42000.0,31200.0,70446.0,62000.0,71400.0,32240.0,78000.0,48000.0,175000.0,63000.0,145000.0,65000.0,30000.0,95000.0,66000.0,28800.0,48000.0,59000.0,50252.0,55000.0,59000.0,74400.0,61289.0,72500.0,21996.0,53000.0,67000.0,110000.0,38000.0,75000.0,130000.0,108000.0,45000.0,82000.0,200000.0,40000.0,52000.0,50000.0,105000.0,50000.0,41000.0,49000.0,104606.0,34000.0,30000.0,42000.0,42000.0,29730.0,37000.0,53000.0,35000.0,52769.0,34500.0,40000.0,27600.0,82359.0,95000.0,37000.0,30000.0,24000.0,74700.0,65993.0,35000.0,95000.0,36000.0,34000.0,60000.0,29000.0,110000.0,75000.0,94000.0,33000.0,55000.0,56000.0,68231.0,101000.0,32000.0,110000.0,40000.0,62467.0,45000.0,30000.0,61959.0,75000.0,55000.0,37000.0,190000.0,49000.0,109000.0,41838.0,85000.0,175000.0,51000.0,50000.0,42000.0,85000.0,33600.0,41600.0,51000.0,35000.0,66000.0,52800.0,244000.0,68640.0,39600.0,40000.0,90000.0,33456.0,70000.0,100000.0,69900.0,165500.0,33400.0,98000.0,104736.0,40800.0,69805.0,33772.0,32000.0,57000.0,70553.0,72000.0,82000.0,40000.0,38000.0,32213.0,28000.0,14400.0,340000.0,150000.0,54000.0,25000.0,170000.0,31000.0,93600.0,20000.0,78000.0,76000.0,30000.0,36000.0,78000.0,34900.0,54600.0,40000.0,60000.0,77004.0,140000.0,78000.0,30000.0,143123.0,105897.0,58800.0,150000.0,47000.0,40000.0,75000.0,18000.0,50000.0,77368.0,24000.0,38400.0,124596.0,86376.0,70254.0,33996.0,82500.0,156000.0,56952.0,26496.0,30000.0,90050.0,38004.0,25040.0,132000.0,23400.0,72250.0,120000.0,47000.0,40000.0,101000.0,45000.0,54000.0,101877.0,40000.0,71000.0,85000.0,480000.0,65000.0,30000.0,160000.0,138000.0,40000.0,14400.0,144000.0,85000.0,39996.0,36000.0,56000.0,54000.0,45000.0,150000.0,32000.0,50000.0,91000.0,120000.0,50000.0,33000.0,57996.0,100000.0,29000.0,70800.0,93000.0,60000.0,80000.0,79000.0,37000.0,130000.0,40000.0,80000.0,180000.0,68000.0,75000.0,195000.0,110000.0,48000.0,90000.0,72000.0,78000.0,80400.0,88000.0,117000.0,27560.0,76000.0,31897.0,24000.0,102000.0,96000.0,16428.0,163232.0,20400.0,68004.0,90000.0,70000.0,46000.0,66000.0,46000.0,22300.0,45000.0,47000.0,34000.0,65004.0,45000.0,40320.0,12000.0,28000.0,75693.0,17000.0,121680.0,60000.0,55000.0,108000.0,150000.0,28000.0,42000.0,35000.0,128000.0,72000.0,60000.0,33500.0,60000.0,91800.0,49464.0,29120.0,40000.0,40000.0,96050.0,45600.0,72000.0,90000.0,86000.0,30000.0,28800.0,62400.0,107000.0,72250.0,48500.0,39750.0,50000.0,42500.0,90000.0,50000.0,140000.0,143000.0,61000.0,26000.0,35000.0,19200.0,62200.0,33600.0,36000.0,39000.0,70000.0,85000.0,19200.0,64600.0,54000.0,56004.0,74237.0,135000.0,41000.0,31000.0,75000.0,18000.0,28800.0,23000.0,220836.0,74004.0,42000.0,51500.0,250000.0,60000.0,64600.0,36108.0,45000.0,57000.0,75000.0,55000.0,27600.0,65000.0,36000.0,61000.0,45000.0,12000.0,50000.0,91800.0,61572.0,44000.0,56496.0,20520.0,41000.0,125000.0,90000.0,34000.0,50000.0,30000.0,43000.0,28800.0,36000.0,70000.0,45600.0,39996.0,47500.0,44000.0,48000.0,75000.0,50000.0,54000.0,25000.0,32000.0,78513.0,35000.0,42000.0,159800.0,48000.0,82438.0,53590.0,45000.0,29400.0,140987.0,34000.0,39700.0,69900.0,59004.0,39000.0,60000.0,75000.0,40000.0,58000.0,47000.0,45996.0,45000.0,95200.0,58000.0,50400.0,87504.0,85000.0,45000.0,44000.0,21000.0,66000.0,113000.0,30000.0,32280.0,120996.0,75000.0,97000.0,24996.0,60000.0,50000.0,46000.0,45000.0,63996.0,55000.0,336000.0,45000.0,80004.0,70000.0,65000.0,50000.0,16800.0,64000.0,55000.0,65200.0,36000.0,47000.0,65000.0,60000.0,72000.0,45000.0,95000.0,30000.0,40000.0,143004.0,69000.0,92000.0,135000.0,55000.0,39000.0,160000.0,92700.0,102996.0,35000.0,175000.0,75000.0,48000.0,32642.0,78000.0,63000.0,46900.0,29200.0,25000.0,200000.0,26004.0,30000.0,118000.0,75000.0,29000.0,70000.0,45996.0,87000.0,77368.0,150000.0,62400.0,18000.0,52000.0,31200.0,45000.0,99750.0,200000.0,74000.0,68000.0,70000.0,91000.0,98000.0,125000.0,134000.0,144000.0,33600.0,64500.0,54000.0,101000.0,90096.0,87000.0,144000.0,140000.0,27204.0,240000.0,130000.0,30000.0,66000.0,234000.0,50000.0,69996.0,49000.0,54000.0,27000.0,64000.0,225000.0,24000.0,76596.0,103000.0,29120.0,138000.0,172500.0,70000.0,82656.0,64999.0,96000.0,40000.0,50000.0,56000.0,120000.0,37000.0,69600.0,42000.0,55000.0,49500.0,63000.0,65000.0,165000.0,48000.0,75000.0,22000.0,258000.0,250000.0,60200.0,74500.0,65000.0,98500.0,56500.0,33600.0,101004.0,72000.0,45000.0,80000.0,69000.0,49110.0,15000.0,15000.0,42000.0,30636.0,91440.0,60000.0,70000.0,57000.0,39000.0,71004.0,99000.0,28800.0,60000.0,64000.0,34000.0,24000.0,30000.0,28800.0,64000.0,38000.0,113000.0,40000.0,63400.0,95000.0,60000.0,45000.0,41000.0,33000.0,54000.0,35004.0,69996.0,65000.0,31500.0,35000.0,92000.0,33996.0,56400.0,34320.0,56000.0,103000.0,90000.0,39000.0,86496.0,110000.0,45000.0,69912.0,55845.0,59000.0,40000.0,102000.0,62900.0,50004.0,43000.0,78000.0,40000.0,47300.0,22260.0,33500.0,27000.0,80004.0,62400.0,96000.0,385000.0,88000.0,30000.0,39900.0,50000.0,160000.0,110000.0,40000.0,25000.0,48000.0,75000.0,26400.0,62000.0,70000.0,33300.0,105000.0,105000.0,75000.0,54072.0,83000.0,109000.0,27000.0,100000.0,24000.0,36000.0,40000.0,48000.0,46256.0,138000.0,45000.0,123000.0,63000.0,85000.0,19200.0,51000.0,34000.0,70000.0,36000.0,74000.0,80000.0,48000.0,33000.0,140000.0,33225.0,41600.0,142000.0,65000.0,78000.0,116000.0,60000.0,38400.0,38000.0,43000.0,53000.0,81000.0,25000.0,9600.0,135000.0,101004.0,78000.0,143000.0,75000.0,28000.0,21324.0,136000.0,70000.0,24216.0,55000.0,117000.0,86400.0,91392.0,69000.0,58000.0,35000.0,72000.0,31200.0,39996.0,92904.0,70000.0,26976.0,52000.0,98000.0,96050.0,192000.0,100000.0,70000.0,32000.0,80000.0,46800.0,69000.0,110000.0,35960.0,62000.0,28000.0,58000.0,98000.0,70000.0,84996.0,60000.0,112000.0,35100.0,80000.0,52000.0,86000.0,36000.0,66912.0,65000.0,117300.0,25000.0,60000.0,150000.0,228000.0,72000.0,72000.0,30000.0,67641.0,90000.0,55000.0,115000.0,58000.0,80500.0,111000.0,70000.0,70000.0,60000.0,65000.0,60000.0,74000.0,100000.0,52000.0,245000.0,38000.0,51504.0,38000.0,30000.0,32000.0,41000.0,48661.0,102000.0,35000.0,36000.0,82000.0,84000.0,56000.0,67000.0,108060.0,19200.0,40800.0,61000.0,74000.0,50000.0,170000.0,85000.0,148000.0,70000.0,74028.0,50000.0,75996.0,29676.0,52320.0,100000.0,46800.0,108000.0,36000.0,30000.0,122000.0,32000.0,65000.0,75000.0,37120.0,26400.0,78000.0,50000.0,45600.0,66000.0,24000.0,38000.0,52000.0,80000.0,35028.0,73000.0,28000.0,64000.0,34482.0,27600.0,42000.0,48000.0,89800.0,105000.0,18000.0,124100.0,39000.0,70000.0,71040.0,109500.0,53796.0,47000.0,171996.0,49000.0,72000.0,66000.0,87996.0,20244.0,70000.0,60000.0,40000.0,87204.0,80496.0,99000.0,80000.0,38000.0,40000.0,45000.0,43000.0,48000.0,30000.0,63000.0,30000.0,60000.0,19800.0,34000.0,32000.0,46000.0,40000.0,39000.0,45000.0,65000.0,60000.0,48000.0,19250.0,26237.0,27024.0,200000.0,35000.0,42000.0,49000.0,45000.0,90000.0,34800.0,27600.0,24000.0,64000.0,30000.0,78000.0,29000.0,59000.0,100000.0,62000.0,66000.0,42900.0,60000.0,351699.0,44000.0,24996.0,58608.0,80000.0,84000.0,39314.0,249996.0,93000.0,51000.0,76000.0,58000.0,135000.0,32878.0,127000.0,12000.0,60000.0,39000.0,42000.0,60000.0,48000.0,63000.0,40000.0,98004.0,67000.0,45336.0,51000.0,43200.0,154000.0,78000.0,48152.0,19000.0,47250.0,30000.0,60000.0,50000.0,75000.0,175000.0,95000.0,75000.0,68000.0,50000.0,44208.0,42252.0,113000.0,28000.0,54000.0,52000.0,15120.0,73909.0,70000.0,76800.0,175000.0,70000.0,21600.0,61200.0,25000.0,32000.0,147500.0,90000.0,72000.0,19800.0,160000.0,38000.0,65000.0,14400.0,62000.0,52000.0,40000.0,152000.0,62000.0,63800.0,50000.0,36000.0,50000.0,103641.0,92000.0,32000.0,90000.0,53500.0,88000.0,176800.0,78411.0,35000.0,64000.0,66888.0,138000.0,33736.0,64000.0,64000.0,56000.0,29004.0,96050.0,38500.0,98000.0,80000.0,125000.0,57000.0,107400.0,499800.0,204000.0,40800.0,56100.0,50000.0,87600.0,189000.0,58800.0,85000.0,13288.0,70004.0,51996.0,60000.0,65000.0,106000.0,35500.0,60000.0,25404.0,22000.0,60000.0,262000.0,48996.0,47000.0,17000.0,45000.0,95000.0,34800.0,130000.0,42000.0,43000.0,55000.0,84996.0,44000.0,90000.0,75000.0,50000.0,102000.0,30000.0,78300.0,30000.0,72000.0,30000.0,45000.0,42300.0,92000.0,44004.0,40000.0,83004.0,60000.0,92000.0,27000.0,201400.0,75000.0,65000.0,29000.0,26000.0,49000.0,30000.0,46739.0,69996.0,24000.0,60000.0,55000.0,39000.0,128000.0,89000.0,61000.0,30004.0,93600.0,38000.0,73000.0,66000.0,25000.0,100000.0,105000.0,75000.0,35000.0,43200.0,57600.0,54000.0,37681.0,75000.0,60000.0,54050.0,21112.0,32000.0,35000.0,48000.0,20000.0,54833.0,60000.0,32760.0,50000.0,52000.0,39000.0,15600.0,66000.0,51480.0,43680.0,40800.0,127992.0,62004.0,26000.0,70000.0,120000.0,55000.0,30000.0,97000.0,33000.0,99996.0,99000.0,39000.0,57600.0,50000.0,75000.0,47756.0,55680.0,55000.0,30000.0,114000.0,31200.0,54000.0,76500.0,95000.0,57204.0,62400.0,56000.0,41504.0,51600.0,45000.0,38000.0,42240.0,36000.0,62000.0,88800.0,30000.0,30000.0,55000.0,80000.0,27096.0,96050.0,32400.0,44000.0,50000.0,40000.0,63830.0,29000.0,46500.0,84000.0,62000.0,50000.0,103000.0,67392.0,28800.0,42000.0,90000.0,62500.0,80000.0,59000.0,18492.0,85000.0,53321.0,49000.0,41196.0,18000.0,117000.0,75000.0,97000.0,32400.0,103000.0,94000.0,27504.0,36500.0,120000.0,60000.0,19440.0,85500.0,100000.0,28000.0,54000.0,48000.0,31000.0,38060.0,159960.0,83000.0,60000.0,51000.0,62000.0,35392.0,69996.0,63996.0,60000.0,60000.0,79000.0,72000.0,78000.0,56004.0,54000.0,65000.0,39000.0,31200.0,109000.0,69000.0,53000.0,42600.0,29570.0,20000.0,110000.0,25716.0,35000.0,71000.0,33996.0,56000.0,42200.0,56000.0,70000.0,48000.0,69996.0,70000.0,43000.0,116000.0,60000.0,62165.0,96000.0,185000.0,30000.0,46000.0,60000.0,28800.0,46800.0,24500.0,41500.0,79050.0,66000.0,37000.0,95000.0,62000.0,60000.0,50000.0,33000.0,70000.0,71520.0,138000.0,54000.0,51850.0,44340.0,40000.0,180000.0,29500.0,34000.0,43000.0,150000.0,160000.0,84695.0,40000.0,77000.0,45000.0,31200.0,14400.0,61000.0,35000.0,15000.0,50000.0,15600.0,52000.0,30000.0,43500.0,64992.0,50402.0,80000.0,60000.0,45000.0,48750.0,74004.0,28000.0,68000.0,21000.0,50000.0,15000.0,300000.0,22800.0,76000.0,56000.0,47700.0,30000.0,30000.0,42494.0,38100.0,66920.0,26880.0,44000.0,69000.0,30900.0,70000.0,110000.0,63400.0,36000.0,40000.0,70800.0,69996.0,65000.0,29000.0,48000.0,125000.0,80000.0,40000.0,31200.0,26000.0,90000.0,38790.0,40000.0,65000.0,39800.0,44000.0,26000.0,30996.0,84000.0,68000.0,99275.0,62004.0,25000.0,55000.0,60353.0,50000.0,136000.0,60000.0,69600.0,195000.0,275000.0,37000.0,65004.0,64000.0,36000.0,54996.0,67704.0,160000.0,55728.0,60000.0,76000.0,10000.0,72000.0,54000.0,82000.0,75400.0,35050.0,78000.0,26240.0,50000.0,20000.0,88800.0,40000.0,87000.0,64000.0,35000.0,62500.0,72000.0,63000.0,36000.0,65000.0,36000.0,36750.0,154000.0,47000.0,84000.0,95000.0,65000.0,47000.0,125000.0,19800.0,26400.0,38400.0,25740.0,51000.0,38496.0,33000.0,38000.0,24000.0,31500.0,83000.0,42000.0,74000.0,35000.0,157000.0,72000.0,32500.0,31200.0,43000.0,50000.0,57600.0,45608.0,65000.0,51000.0,57110.0,46000.0,49268.0,38400.0,75000.0,64000.0,28000.0,65000.0,120000.0,24000.0,45000.0,50000.0,42000.0,63000.0,19200.0,48000.0,37440.0,32352.0,73500.0,83400.0,30000.0,32004.0,12000.0,43000.0,60000.0,14400.0,50000.0,76500.0,35000.0,60612.0,65144.0,24000.0,138000.0,47148.0,41000.0,45000.0,34000.0,62000.0,30000.0,57600.0,48000.0,47000.0,67000.0,53000.0,192000.0,26400.0,130000.0,128000.0,37017.0,30720.0,21000.0,38000.0,75000.0,120000.0,26500.0,101000.0,35000.0,20400.0,85000.0,88000.0,20400.0,45000.0,76500.0,15000.0,34800.0,48000.0,77000.0,65000.0,30000.0,102000.0,41496.0,90000.0,15600.0,105000.0,63000.0,60000.0,53000.0,38400.0,59000.0,62400.0,48000.0,25200.0,34992.0,48000.0,48000.0,33000.0,50000.0,82000.0,115000.0,14400.0,90000.0,40000.0,78750.0,106870.0,66000.0,54000.0,135000.0,44000.0,111996.0,40680.0,33504.0,27000.0,75000.0,75000.0,60140.0,22000.0,140000.0,165000.0,168000.0,40000.0,22000.0,39000.0,24000.0,59484.0,89400.0,55000.0,77000.0,220000.0,100000.0,140000.0,27000.0,50000.0,60000.0,63402.0,34000.0,54400.0,21996.0,45600.0,50000.0,68700.0,103500.0,31200.0,90000.0,25992.0,120000.0,123996.0,74424.0,30000.0,26000.0,58000.0,94837.0,22884.0,144000.0,70000.0,178650.0,60000.0,54000.0,55000.0,56400.0,50000.0,33400.0,150000.0,50000.0,41000.0,115000.0,93000.0,78956.0,25500.0,86400.0,91500.0,56400.0,50000.0,75000.0,99000.0,70000.0,108000.0,45000.0,56004.0,65000.0,55900.0,64575.0,60996.0,120000.0,105000.0,33000.0,150000.0,40000.0,35000.0,56400.0,42996.0,55000.0,62204.0,28320.0,66996.0,40000.0,35004.0,85000.0,40000.0,94000.0,64000.0,52000.0,53724.0,61000.0,24000.0,40000.0,42000.0,40000.0,50000.0,45840.0,138996.0,31200.0,39600.0,12000.0,58000.0,85000.0,36000.0,54084.0,33996.0,108000.0,79900.0,39000.0,74000.0,160000.0,100000.0,52000.0,60000.0,53196.0,53000.0,57996.0,63599.0,78301.0,65000.0,30000.0,84000.0,29200.0,49800.0,50532.0,73000.0,33000.0,46596.0,49920.0,30000.0,117000.0,62400.0,50000.0,38400.0,65800.0,144000.0,92000.0,100000.0,19200.0,32450.0,210000.0,48000.0,34000.0,30000.0,26124.0,15000.0,250000.0,45000.0,30000.0,50000.0,32500.0,56800.0,87500.0,71000.0,50000.0,50000.0,84996.0,40000.0,65000.0,62000.0,48000.0,110000.0,40000.0,62500.0,44208.0,24996.0,28800.0,17000.0,54000.0,54000.0,61211.0,60000.0,37000.0,90000.0,52000.0,60000.0,77250.0,55032.0,60000.0,115000.0,24000.0,160000.0,60000.0,48257.0,28000.0,91228.0,93000.0,114400.0,44000.0,96216.0,33280.0,45000.0,45004.0,24000.0,70000.0,115000.0,60000.0,88400.0,31000.0,19000.0,77052.0,36082.0,70000.0,39520.0,54000.0,25000.0,85000.0,52000.0,71500.0,40500.0,64000.0,55000.0,80000.0,66000.0,60000.0,180000.0,50000.0,80000.0,25000.0,40000.0,72250.0,48000.0,110000.0,55000.0,115000.0,105000.0,65000.0,33168.0,65000.0,43000.0,65000.0,50000.0,56000.0,73000.0,35000.0,67200.0,14400.0,65000.0,70000.0,25000.0,43000.0,26400.0,54000.0,63000.0,26400.0,30000.0,33996.0,74000.0,75000.0,44000.0,75000.0,85000.0,60000.0,129000.0,45000.0,42000.0,61440.0,123000.0,24000.0,60000.0,70910.0,120000.0,40308.0,73000.0,59000.0,51000.0,57000.0,85000.0,63000.0,55000.0,60000.0,115000.0,28800.0,168000.0,53000.0,65000.0,30000.0,50000.0,56000.0,64312.0,53000.0,60000.0,61656.0,65000.0,180000.0,110000.0,135000.0,78000.0,95000.0,26400.0,61836.0,64000.0,49993.0,70000.0,65000.0,110000.0,78000.0,48000.0,45000.0,72000.0,50400.0,110000.0,48888.0,50000.0,48996.0,48000.0,55000.0,68004.0,101000.0,80000.0,65000.0,54000.0,150000.0,32000.0,64500.0,51996.0,27000.0,33600.0,110888.0,93000.0,33000.0,62000.0,37315.0,86004.0,69000.0,111996.0,70000.0,42000.0,31000.0,30000.0,42500.0,83000.0,46000.0,24543.0,62004.0,64000.0,115000.0,104000.0,63000.0,57000.0,64000.0,46000.0,50000.0,110000.0,76000.0,70000.0,43218.0,37947.0,115000.0,65000.0,55000.0,82500.0,55000.0,144000.0,65000.0,37500.0,15000.0,98240.0,81000.0,45000.0,98004.0,75860.0,60000.0,54000.0,24000.0,52000.0,165000.0,132500.0,77385.0,72000.0,32000.0,87000.0,49980.0,57000.0,22300.0,85000.0,100000.0,175000.0,69000.0,60000.0,42996.0,190000.0,28000.0,57600.0,18000.0,73500.0,135000.0,67000.0,60000.0,69000.0,92000.0,55200.0,55400.0,60000.0,62000.0,70000.0,50000.0,36000.0,100000.0,92000.0,65450.0,19200.0,37560.0,63000.0,89800.0,74196.0,95000.0,90000.0,60000.0,36000.0,48000.0,30000.0,90000.0,144000.0,48000.0,96000.0,52000.0,28800.0,78000.0,35004.0,61284.0,27376.0,70000.0,118000.0,44000.0,72000.0,66000.0,65000.0,108000.0,78000.0,85000.0,36000.0,58000.0,95000.0,55000.0,48600.0,62000.0,42000.0,115000.0,60000.0,39900.0,131004.0,50000.0,75000.0,50500.0,86500.0,75000.0,44400.0,45727.0,50000.0,52000.0,47700.0,26000.0,33600.0,52000.0,48000.0,24000.0,60000.0,249996.0,30000.0,190000.0,44000.0,62900.0,35000.0,58900.0,36000.0,60000.0,25000.0,82000.0,73700.0,240000.0,91000.0,30000.0,56400.0,50000.0,40000.0,80000.0,70000.0,53979.0,54000.0,130000.0,54000.0,52000.0,69000.0,30000.0,63300.0,64000.0,30000.0,44400.0,42000.0,33888.0,80000.0,72444.0,55000.0,55530.0,100000.0,20000.0,50400.0,85000.0,75000.0,60132.0,110004.0,50000.0,66352.0,87600.0,26592.0,72000.0,20008.0,40000.0,49992.0,70000.0,42000.0,38000.0,43000.0,62000.0,33000.0,28000.0,47292.0,23400.0,39000.0,62000.0,34000.0,45678.0,64500.0,126000.0,91200.0,44000.0,134000.0,28800.0,121000.0,92000.0,52176.0,64000.0,280000.0,65000.0,36000.0,20000.0,84000.0,77100.0,96053.0,39000.0,20800.0,50000.0,29004.0,75000.0,71352.0,40000.0,62000.0,54000.0,65000.0,55308.0,50000.0,18000.0,16800.0,80000.0,55000.0,60000.0,32000.0,144000.0,53819.0,64000.0,56000.0,42000.0,23421.0,20000.0,60000.0,54000.0,55008.0,54000.0,110000.0,107496.0,49992.0,73000.0,73000.0,65000.0,30000.0,65000.0,320000.0,68000.0,40000.0,50000.0,54000.0,36000.0,42000.0,25000.0,38500.0,54600.0,65004.0,40000.0,85224.0,33600.0,51996.0,62000.0,29004.0,48996.0,25000.0,40000.0,109000.0,67200.0,112500.0,51000.0,38000.0,54000.0,33000.0,61360.0,19200.0,65400.0,40000.0,105000.0,115000.0,59500.0,103000.0,34000.0,56000.0,69000.0,130000.0,65000.0,48000.0,36000.0,38400.0,24000.0,45000.0,119000.0,42000.0,22880.0,30000.0,32400.0,160000.0,45000.0,42000.0,140000.0,120000.0,33000.0,45000.0,30000.0,62004.0,142800.0,104000.0,10000.0,75000.0,100000.0,36500.0,84000.0,49000.0,67200.0,75000.0,44000.0,93000.0,36000.0,56000.0,48000.0,43000.0,61200.0,40000.0,65000.0,35000.0,33000.0,40000.0,60000.0,24000.0,33048.0,101424.0,30000.0,34000.0,50000.0,105000.0,58000.0,43500.0,27600.0,70000.0,53664.0,90000.0,74000.0,65000.0,19200.0,85000.0,45000.0,27000.0,60000.0,28000.0,98240.0,49800.0,60000.0,33600.0,78000.0,60000.0,19680.0,60000.0,45000.0,150000.0,60000.0,54996.0,20000.0,67150.0,50000.0,44500.0,93450.0,47211.0,69996.0,128000.0,180000.0,29894.0,98000.0,45000.0,54000.0,50000.0,70000.0,42000.0,125555.0,55000.0,57000.0,74400.0,59000.0,115000.0,31200.0,41000.0,162000.0,72000.0,158000.0,55000.0,73000.0,100000.0,33600.0,90000.0,30000.0,8000.0,32000.0,45600.0,72000.0,29120.0,73008.0,69000.0,41000.0,60000.0,122000.0,41508.0,62000.0,65000.0,110000.0,55000.0,59712.0,58500.0,46000.0,81000.0,95000.0,67000.0,65000.0,31680.0,120000.0,90000.0,103000.0,100000.0,80000.0,60036.0,55000.0,62000.0,90000.0,88296.0,94000.0,51000.0,65000.0,30000.0,35220.0,108000.0,85000.0,40000.0,84996.0,68900.0,21000.0,39900.0,60000.0,19000.0,20000.0,30028.0,33000.0,27600.0,77004.0,114000.0,250000.0,84996.0,45000.0,103992.0,50004.0,45000.0,65000.0,39000.0,62000.0,145000.0,31800.0,125000.0,120000.0,103000.0,82000.0,30000.0,39996.0,70800.0,80000.0,64000.0,30000.0,77000.0,161000.0,57000.0,25000.0,51000.0,50000.0,33000.0,193086.0,63000.0,70000.0,83000.0,75000.0,91800.0,100000.0,70000.0,42000.0,604000.0,156000.0,14000.0,30000.0,97000.0,100000.0,48000.0,42000.0,58195.0,31200.0,85000.0,25800.0,55236.0,36852.0,87048.0,59000.0,16500.0,57000.0,43600.0,28800.0,93000.0,50000.0,47664.0,30000.0,38000.0,65000.0,34000.0,12000.0,58000.0,174996.0,85000.0,70000.0,72000.0,82000.0,52500.0,55000.0,43200.0,54000.0,65600.0,20000.0,65000.0,55000.0,200000.0,43000.0,61000.0,89000.0,65000.0,58000.0,28000.0,24000.0,17004.0,120000.0,34000.0,44004.0,52500.0,75000.0,120000.0,39000.0,51996.0,53000.0,780000.0,55000.0,54000.0,25200.0,55000.0,42000.0,123000.0,29000.0,88900.0,75000.0,54400.0,84000.0,16200.0,85000.0,33388.0,50000.0,40000.0,46320.0,84000.0,30000.0,168288.0,117300.0,36707.0,140000.0,228000.0,50000.0,64000.0,30000.0,65496.0,54000.0,13200.0,53000.0,63000.0,87950.0,780000.0,120000.0,39500.0,33000.0,70800.0,98000.0,80748.0,66300.0,50000.0,60000.0,58000.0,38400.0,35000.0,24000.0,40000.0,87500.0,42000.0,61041.0,57000.0,101877.0,39996.0,78000.0,60000.0,46800.0,24000.0,65000.0,69996.0,79200.0,65000.0,80000.0,37232.0,38004.0,80000.0,55000.0,21000.0,10636.0,28000.0,29120.0,59000.0,132000.0,58000.0,56600.0,180000.0,67000.0,58000.0,42000.0,44400.0,106000.0,110000.0,71232.0,58380.0,72500.0,26000.0,59000.0,88000.0,54000.0,54000.0,38004.0,70885.0,52000.0,23000.0,180000.0,59600.0,24000.0,63996.0,105000.0,78000.0,37200.0,44000.0,84000.0,19500.0,28800.0,42200.0,60000.0,63000.0,96000.0,44000.0,70000.0,110000.0,90000.0,72000.0,24000.0,82000.0,39500.0,32004.0,35000.0,60000.0,40000.0,48000.0,40560.0,50000.0,105000.0,82305.0,63400.0,69000.0,55000.0,88560.0,86000.0,25000.0,58800.0,32000.0,59363.0,105000.0,112000.0,24000.0,43000.0,65000.0,59000.0,70000.0,75000.0,49000.0,59000.0,54996.0,74000.0,36000.0,54996.0,29004.0,21216.0,72000.0,31200.0,63000.0,35000.0,27000.0,65000.0,48500.0,110000.0,30000.0,37920.0,40000.0,54383.0,59000.0,45000.0,82450.0,54000.0,37500.0,44000.0,28596.0,80000.0,100000.0,145000.0,75000.0,81504.0,91000.0,32640.0,40800.0,62400.0,93218.0,241875.0,96000.0,52600.0,25596.0,24000.0,33200.0,66725.0,40000.0,33300.0,27996.0,55000.0,105000.0,62000.0,38000.0,29553.0,40000.0,12000.0,50000.0,72000.0,504000.0,34800.0,62677.0,84000.0,34000.0,30000.0,80400.0,49000.0,60000.0,35500.0,47000.0,68000.0,70000.0,60000.0,42000.0,23004.0,56100.0,69000.0,99000.0,66000.0,52000.0,55000.0,21996.0,91200.0,69000.0,28000.0,58000.0,53040.0,120000.0,42000.0,26400.0,24000.0,120000.0,85000.0,720000.0,44000.0,200000.0,51000.0,46097.0,50000.0,52000.0,72000.0,115000.0,65000.0,42000.0,68000.0,45000.0,40000.0,32000.0,96000.0,67000.0,36000.0,35000.0,50000.0,51000.0,100000.0,46800.0,35000.0,45000.0,85000.0,18000.0,24000.0,200000.0,36000.0,45000.0,125000.0,117996.0,64000.0,58000.0,125000.0,35000.0,48000.0,18000.0,12000.0,45000.0,82000.0,35004.0,98400.0,52128.0,38400.0,18456.0,54000.0,140004.0,72000.0,65000.0,26000.0,81000.0,29000.0,90000.0,13000.0,86004.0,45000.0,42000.0,20000.0,75638.0,95000.0,45000.0,49270.0,38004.0,31200.0,50000.0,67000.0,43200.0,70000.0,103560.0,135000.0,36000.0,32220.0,106369.0,50000.0,63000.0,30000.0,35000.0,98000.0,51000.0,54000.0,129996.0,41892.0,45000.0,102000.0,64000.0,80000.0,66000.0,33000.0,65496.0,72000.0,24000.0,28000.0,65000.0,70000.0,57996.0,45000.0,37793.0,62004.0,25300.0,46000.0,70000.0,30000.0,26000.0,200000.0,30000.0,44000.0,30000.0,68000.0,70000.0,43000.0,39960.0,53000.0,55000.0,90000.0,37000.0,162480.0,60204.0,80000.0,48960.0,102000.0,50000.0,40000.0,24044.0,35000.0,24000.0,30000.0,22500.0,69000.0,98000.0,93000.0,48000.0,66000.0,33000.0,54586.0,39600.0,75000.0,65000.0,96000.0,47000.0,50000.0,150000.0,49000.0,51996.0,19200.0,72000.0,18000.0,78000.0,63996.0,30000.0,95000.0,69000.0,40800.0,130000.0,84000.0,92004.0,142000.0,50000.0,96000.0,29000.0,72000.0,94000.0,30000.0,40000.0,450000.0,31500.0,45600.0,158000.0,32000.0,127000.0,40000.0,67145.0,52000.0,30500.0,140000.0,115000.0,49000.0,60000.0,90000.0,30000.0,80000.0,65000.0,66000.0,61000.0,55000.0,60000.0,48000.0,88000.0,75000.0,100000.0,36100.0,25000.0,41600.0,86000.0,31000.0,50000.0,27000.0,82560.0,30000.0,75500.0,107000.0,19200.0,125000.0,35000.0,42000.0,45000.0,70000.0,91000.0,70000.0,68000.0,20004.0,105000.0,45000.0,87000.0,66000.0,60000.0,60000.0,88000.0,36000.0,125000.0,32400.0,95000.0,115000.0,41004.0,105000.0,64000.0,151000.0,106000.0,187000.0,40000.0,63000.0,62000.0,33600.0,45000.0,100000.0,67000.0,35000.0,14400.0,38000.0,100000.0,40000.0,19680.0,50000.0,175000.0,45996.0,25000.0,53000.0,81500.0,70000.0,57000.0,75000.0,32500.0,61000.0,97600.0,95000.0,72500.0,80000.0,115752.0,123000.0,160000.0,50000.0,76000.0,225000.0,56700.0,55000.0,29004.0,42000.0,54000.0,19200.0,55000.0,45000.0,52500.0,90000.0,95000.0,94102.0,62000.0,39000.0,84000.0,71738.0,32000.0,150000.0,40000.0,55000.0,135000.0,30000.0,552000.0,75000.0,27996.0,139000.0,30000.0,40000.0,100000.0,68000.0,84000.0,58500.0,30000.0,207182.0,63150.0,39000.0,27996.0,95000.0,275000.0,32400.0,44000.0,50000.0,36100.0,65000.0,47800.0,67000.0,21600.0,42000.0,65000.0,58000.0,79200.0,37000.0,70000.0,65000.0,45000.0,38400.0,30000.0,57700.0,20000.0,75000.0,45000.0,80000.0,30000.0,90000.0,42000.0,67200.0,80000.0,71000.0,150000.0,31500.0,82500.0,65000.0,55000.0,44000.0,48000.0,150000.0,19200.0,40000.0,65000.0,160000.0,21360.0,53000.0,53000.0,63000.0,72000.0,110000.0,55000.0,70000.0,33000.0,157544.0,72500.0,42000.0,58000.0,76344.0,44000.0,54000.0,30000.0,300000.0,150000.0,48000.0,60070.0,180000.0,92000.0,90000.0,210000.0,17496.0,130000.0,33600.0,75000.0,51996.0,200000.0,65004.0,119604.0,84000.0,61800.0,125000.0,48000.0,175000.0,75000.0,28000.0,98000.0,52000.0,59000.0,65000.0,50000.0,21000.0,30652.0,50000.0,126000.0,110000.0,113135.0,60000.0,75000.0,106000.0,98700.0,52000.0,39000.0,43000.0,66240.0,60000.0,55000.0,135000.0,81000.0,98000.0,29000.0,35000.0,50000.0,50000.0,45000.0,84000.0,106000.0,40000.0,38004.0,47000.0,30000.0,30000.0,69000.0,52000.0,46000.0,69500.0,50000.0,38100.0,78500.0,45000.0,144000.0,158000.0,20800.0,11000.0,41004.0,20400.0,50004.0,50000.0,46704.0,32000.0,31200.0,81204.0,48000.0,45996.0,72000.0,75000.0,51996.0,49000.0,62400.0,60000.0,92700.0,78000.0,25000.0,83004.0,147000.0,273655.0,47000.0,100000.0,35004.0,65000.0,102400.0,45000.0,46800.0,30000.0,53000.0,63000.0,40000.0,50000.0,43000.0,44640.0,82600.0,57800.0,42996.0,52000.0,72204.0,75000.0,70000.0,38000.0,33280.0,75000.0,28000.0,100000.0,42000.0,85000.0,115000.0,30000.0,30000.0,79000.0,50000.0,207182.0,63000.0,51000.0,70000.0,150000.0,40000.0,84000.0,42000.0,55000.0,67320.0,30840.0,48500.0,96000.0,70000.0,34000.0,80000.0,67014.0,78408.0,65000.0,80100.0,111262.0,127500.0,60000.0,39120.0,100000.0,40058.0,37000.0,430000.0,39000.0,95400.0,54400.0,105600.0,38000.0,75000.0,55000.0,57200.0,27600.0,51684.0,88000.0,45504.0,36614.0,54000.0,38000.0,48000.0,68400.0,24000.0,48000.0,48996.0,95000.0,66000.0,59617.0,47000.0,76500.0,40000.0,90000.0,24000.0,27120.0,185000.0,39500.0,65000.0,35000.0,100000.0,68000.0,57335.0,11000.0,45000.0,130000.0,25000.0,148000.0,48074.0,57000.0,56004.0,45000.0,30000.0,150000.0,21000.0,60000.0,42000.0,86000.0,30680.0,48000.0,45000.0,53000.0,52800.0,60000.0,48000.0,60000.0,12996.0,75288.0,60000.0,80000.0,34000.0,72000.0,56000.0,44004.0,120600.0,83000.0,98000.0,46000.0,40000.0,150000.0,36000.0,64000.0,45000.0,32004.0,140000.0,75000.0,90000.0,52000.0,80000.0,69500.0,25000.0,38000.0,37800.0,62654.0,41277.0,100000.0,25920.0,38400.0,156000.0,32000.0,60000.0,40800.0,72972.0,54000.0,48000.0,82000.0,84000.0,70000.0,36000.0,39996.0,24000.0,50000.0,25000.0,75000.0,95000.0,30000.0,60000.0,60140.0,57564.0,79000.0,25920.0,67000.0,55000.0,65000.0,58000.0,49861.0,68004.0,23000.0,65000.0,22000.0,25000.0,110000.0,56000.0,72000.0,74678.0,72000.0,60000.0,29000.0,60000.0,86000.0,30000.0,40000.0,52000.0,130000.0,56700.0,287300.0,35482.0,40000.0,59004.0,54000.0,102000.0,67350.0,71004.0,55000.0,44000.0,80004.0,48000.0,39000.0,60000.0,140000.0,45000.0,73000.0,45600.0,38400.0,45000.0,130000.0,53000.0,53000.0,90000.0,22080.0,71000.0,25920.0,44000.0,70000.0,24000.0,18840.0,84996.0,57200.0,108000.0,54500.0,40000.0,66000.0,52000.0,54000.0,43000.0,80000.0,65000.0,30000.0,54000.0,81000.0,57750.0,50000.0,91000.0,78000.0,85000.0,20000.0,149981.0,96000.0,48000.0,97000.0,56950.0,130000.0,28704.0,26400.0,105000.0,43008.0,27096.0,42000.0,44000.0,74000.0,55200.0,51000.0,115000.0,155000.0,14400.0,62050.0,24000.0,85000.0,51996.0,44004.0,73500.0,39000.0,84500.0,50000.0,38000.0,63000.0,13200.0,34560.0,61455.0,30000.0,54000.0,31500.0,24000.0,150000.0,125000.0,120000.0,36000.0,50000.0,44940.0,30000.0,40000.0,30000.0,34000.0,70000.0,30000.0,54000.0,110000.0,100000.0,80266.0,42000.0,60000.0,49000.0,125000.0,26000.0,57600.0,85000.0,137004.0,34000.0,45000.0,48996.0,148000.0,69204.0,54000.0,40800.0,26400.0,59004.0,55000.0,27600.0,38400.0,41004.0,69736.0,60000.0,65000.0,50000.0,55316.0,62200.0,65000.0,77940.0,31200.0,51000.0,25000.0,28000.0,72000.0,95000.0,85000.0,31200.0,113000.0,36000.0,83137.0,85000.0,48000.0,77250.0,40000.0,105999.0,48000.0,35000.0,62000.0,30000.0,68803.0,51000.0,50000.0,45000.0,108000.0,26500.0,47000.0,36996.0,94692.0,98004.0,36900.0,52000.0,58000.0,48000.0,43000.0,90000.0,44000.0,44000.0,83000.0,145000.0,126000.0,55000.0,59000.0,39779.0,54000.0,39996.0,70500.0,60000.0,6000.0,30000.0,27000.0,46645.0,28000.0,155000.0,65000.0,20000.0,98000.0,81000.0,85000.0,50000.0,50000.0,37800.0,36480.0,41558.0,72000.0,32000.0,94000.0,46080.0,135000.0,130000.0,81000.0,30000.0,32000.0,96000.0,22812.0,36000.0,48000.0,29000.0,92400.0,44000.0,30000.0,90000.0,648000.0,45000.0,62000.0,66948.0,21000.0,50004.0,60000.0,25000.0,30796.0,33000.0,38200.0,82000.0,130000.0,45000.0,130000.0,26400.0,31000.0,137481.0,72096.0,105000.0,94000.0,87600.0,87988.0,96000.0,58560.0,140000.0,89000.0,40000.0,32108.0,39996.0,114800.0,76000.0,95827.0,45600.0,260000.0,35004.0,19764.0,39689.0,35000.0,55000.0,39000.0,37000.0,50000.0,53000.0,55272.0,41000.0,88000.0,100000.0,31000.0,84000.0,51996.0,24000.0,80000.0,56700.0,45996.0,39996.0,45000.0,40000.0,38004.0,70522.0,58947.0,38400.0,90000.0,108000.0,52000.0,38568.0,116000.0,45000.0,78000.0,53000.0,21600.0,33000.0,129000.0,75000.0,80000.0,105400.0,75000.0,60000.0,93000.0,80000.0,34000.0,45000.0,30000.0,120000.0,70000.0,56004.0,75000.0,78000.0,51000.0,63000.0,13000.0,35000.0,60000.0,19200.0,69000.0,76160.0,46976.0,42000.0,74000.0,57000.0,45600.0,45000.0,42642.0,45000.0,20004.0,69000.0,100000.0,89100.0,46000.0,28685.0,44000.0,59600.0,18000.0,67000.0,148000.0,103000.0,105000.0,156000.0,42000.0,150000.0,39000.0,43200.0,26004.0,42000.0,44460.0,53376.0,44400.0,26000.0,130000.0,78000.0,97000.0,20160.0,85000.0,114750.0,87000.0,90000.0,110000.0,60000.0,48956.0,80000.0,66000.0,52000.0,127000.0,99000.0,40000.0,62100.0,24000.0,45000.0,18000.0,90000.0,28800.0,20400.0,18000.0,28000.0,225000.0,70000.0,64000.0,65592.0,42000.0,25000.0,65000.0,148000.0,150000.0,44000.0,290000.0,62050.0,150000.0,86670.0,80000.0,90000.0,155000.0,85000.0,80000.0,24000.0,130000.0,75000.0,32000.0,82000.0,60000.0,85000.0,46000.0,72000.0,66000.0,125000.0,42000.0,48000.0,78885.0,99000.0,45000.0,85000.0,44000.0,30000.0,92000.0,39996.0,82000.0,120000.0,105000.0,49000.0,51600.0,21000.0,120000.0,60000.0,68848.0,87000.0,80000.0,88000.0,58000.0,150000.0,35000.0,75000.0,18000.0,84000.0,79000.0,134000.0,66000.0,38000.0,75000.0,84000.0,28000.0,73992.0,110004.0,26400.0,33000.0,73440.0,96640.0,32500.0,36000.0,78000.0,65004.0,35000.0,55200.0,64000.0,84000.0,24000.0,61104.0,35000.0,150600.0,40000.0,40000.0,24000.0,75000.0,15000.0,55782.0,55600.0,30000.0,57240.0,77700.0,65000.0,50000.0,25000.0,55000.0,49000.0,80000.0,120000.0,36500.0,50160.0,42000.0,57800.0,42240.0,60000.0,66348.0,44304.0,39124.0,53000.0,46000.0,40800.0,21000.0,100000.0,69500.0,65000.0,133300.0,20000.0,30720.0,30000.0,36000.0,338000.0,42000.0,102000.0,60000.0,90000.0,40000.0,57744.0,80000.0,112800.0,33000.0,39996.0,23198.0,156000.0,58000.0,47500.0,42000.0,85000.0,40000.0,50000.0,70176.0,100000.0,144000.0,88000.0,51996.0,58000.0,115000.0,21000.0,57664.0,70000.0,128400.0,73500.0,105018.0,75000.0,30000.0,65379.0,300000.0,30000.0,40000.0,157500.0,36000.0,74000.0,95000.0,47800.0,50648.0,170004.0,12000.0,75000.0,63400.0,70000.0,34000.0,19200.0,85000.0,30000.0,33000.0,105000.0,60000.0,63000.0,45000.0,52000.0,60000.0,36000.0,50000.0,60000.0,35000.0,108820.0,120000.0,50000.0,24996.0,36000.0,71700.0,31200.0,51600.0,50000.0,9600.0,120000.0,31400.0,85000.0,29004.0,72000.0,48500.0,40800.0,34000.0,42000.0,36000.0,42000.0,30000.0,44000.0,112500.0,67983.0,110004.0,51492.0,54000.0,55000.0,36000.0,36000.0,59004.0,195000.0,49536.0,45000.0,60000.0,80000.0,75000.0,40800.0,60000.0,125000.0,52000.0,50000.0,25200.0,178000.0,42000.0,125000.0,36000.0,50004.0,42000.0,73000.0,53000.0,36000.0,39996.0,60000.0,25200.0,33000.0,42000.0,40000.0,75000.0,35000.0,75000.0,60000.0,65000.0,19200.0,14400.0,65004.0,65028.0,47496.0,47360.0,35000.0,58000.0,44000.0,24600.0,75000.0,60000.0,55000.0,92000.0,125004.0,57564.0,36000.0,59500.0,83000.0,140000.0,59000.0,36000.0,32400.0,49548.0,75000.0,65000.0,34800.0,29435.0,40000.0,42000.0,40000.0,52500.0,44500.0,90000.0,40000.0,20800.0,74000.0,54000.0,85000.0,115000.0,82000.0,65984.0,64000.0,31200.0,50000.0,39896.0,26500.0,53000.0,20000.0,28800.0,65000.0,23000.0,66000.0,110000.0,75000.0,97500.0,30000.0,12000.0,43000.0,55000.0,98000.0,110000.0,78400.0,110000.0,108000.0,63000.0,75000.0,57000.0,90000.0,23000.0,50000.0,65000.0,74880.0,56000.0,92407.0,18000.0,30000.0,73440.0,46800.0,51000.0,100000.0,59317.0,156000.0,78000.0,47000.0,48000.0,26400.0,125000.0,58800.0,43680.0,42994.0,35000.0,100016.0,68000.0,42000.0,65000.0,57000.0,58000.0,52000.0,37200.0,31417.0,36000.0,33000.0,75000.0,192000.0,21000.0,78000.0,30000.0,39000.0,64000.0,44000.0,24960.0,16000.0,52000.0,65000.0,209000.0,107280.0,69000.0,50000.0,48235.0,231252.0,63000.0,51043.0,30000.0,58000.0,65000.0,170000.0,62900.0,120000.0,121000.0,46350.0,174462.0,66252.0,85000.0,90000.0,25000.0,54000.0,168000.0,44000.0,61000.0,39000.0,34000.0,20743.0,27600.0,52800.0,72000.0,83000.0,25000.0,62000.0,39868.0,38000.0,55000.0,18835.0,45286.0,47908.0,72000.0,106000.0,133000.0,108000.0,96000.0,32200.0,155000.0,108000.0,183000.0,36000.0,54000.0,107000.0,37000.0,61500.0,55000.0,91234.0,25000.0,65074.0,57000.0,75000.0,35000.0,70000.0,47208.0,42996.0,39600.0,50400.0,60000.0,20640.0,26000.0,30000.0,72000.0,95000.0,28000.0,100000.0,69000.0,37000.0,90000.0,33000.0,53004.0,100000.0,30000.0,47052.0,42000.0,54996.0,55000.0,135000.0,38423.0,50000.0,41400.0,60000.0,32000.0,46500.0,200000.0,36000.0,32484.0,60000.0,160000.0,32000.0,55200.0,62200.0,70550.0,35000.0,56000.0,63582.0,24000.0,65000.0,55000.0,50000.0,37076.0,77927.0,155000.0,220000.0,19200.0,46000.0,125000.0,110000.0,100000.0,35600.0,80004.0,32000.0,105000.0,56000.0,82600.0,120000.0,62839.0,31200.0,60000.0,78000.0,140900.0,69000.0,50000.0,93000.0,53500.0,41892.0,36000.0,37500.0,32468.0,28500.0,78000.0,28000.0,135000.0,100000.0,130000.0,107000.0,55000.0,60000.0,52000.0,64300.0,35556.0,34000.0,27000.0,52000.0,58500.0,55000.0,74000.0,15360.0,70356.0,52000.0,50000.0,31000.0,39000.0,52000.0,55000.0,75000.0,39996.0,100000.0,65000.0,64000.0,80000.0,54000.0,40800.0,58000.0,64000.0,40000.0,24000.0,50000.0,126000.0,14573.0,55000.0,120000.0,60000.0,30000.0,110000.0,85000.0,52000.0,21600.0,31000.0,57504.0,30100.0,120000.0,44000.0,33800.0,78996.0,71004.0,68400.0,42000.0,55530.0,70000.0,35000.0,81000.0,32000.0,100000.0,138000.0,22800.0,53000.0,32000.0,83500.0,79985.0,65000.0,18996.0,39600.0,44000.0,47000.0,37200.0,59578.0,75000.0,44720.0,32000.0,57936.0,27120.0,50160.0,113000.0,74400.0,72000.0,65000.0,36000.0,35000.0,130000.0,55000.0,100000.0,118000.0,115000.0,10000.0,65000.0,604000.0,92500.0,30000.0,21120.0,51000.0,43000.0,74797.0,26748.0,114237.0,34500.0,78000.0,42000.0,62000.0,100300.0,30000.0,49200.0,80000.0,225000.0,78000.0,58000.0,60000.0,86004.0,120000.0,60000.0,85000.0,62000.0,15000.0,55704.0,39996.0,29500.0,31732.0,42000.0,75905.0,74000.0,27600.0,105504.0,72194.0,21996.0,80000.0,30000.0,47000.0,51000.0,42500.0,60000.0,44000.0,115000.0,42500.0,22800.0,160000.0,58000.0,40000.0,35600.0,63000.0,120000.0,50000.0,44000.0,115000.0,45000.0,70000.0,34200.0,35000.0,20664.0,40000.0,160000.0,25000.0,68000.0,100000.0,80000.0,53000.0,90000.0,61500.0,104000.0,38400.0,100995.0,46500.0,52000.0,50000.0,167000.0,65000.0,10000.0,65000.0,50361.0,150000.0,108000.0,36000.0,30000.0,69000.0,75000.0,38400.0,75360.0,29000.0,41600.0,48000.0,70000.0,76800.0,35000.0,75000.0,65061.0,70000.0,46330.0,19800.0,111000.0,24000.0,48000.0,30000.0,36996.0,45468.0,110000.0,48000.0,68000.0,45000.0,48000.0,60996.0,38000.0,34800.0,30996.0,205000.0,68000.0,44684.0,48000.0,46000.0,30000.0,100000.0,35000.0,90000.0,60000.0,78000.0,68000.0,100843.0,38000.0,51500.0,114000.0,80000.0,305000.0,24000.0,26000.0,45000.0,20160.0,65000.0,66215.0,75000.0,96000.0,65000.0,90000.0,33276.0,122000.0,48000.0,28800.0,94350.0,34138.0,60000.0,29004.0,110000.0,57996.0,33852.0,47508.0,68670.0,64000.0,80000.0,77000.0,57000.0,48000.0,40000.0,87000.0,90000.0,112000.0,80000.0,85000.0,46113.0,57000.0,40000.0,15000.0,31000.0,250000.0,38400.0,30000.0,72600.0,76500.0,37500.0,39996.0,116000.0,46344.0,50000.0,54000.0,30000.0,55000.0,60000.0,77385.0,18701.0,24000.0,20000.0,57000.0,150000.0,43200.0,14000.0,36662.0,204000.0,109200.0,69000.0,54000.0,75000.0,30000.0,29000.0,63816.0,165000.0,70000.0,64000.0,25368.0,75000.0,46996.0,65000.0,50000.0,18720.0,41400.0,59000.0,189996.0,78000.0,33996.0,48000.0,69600.0,85000.0,88000.0,39000.0,70000.0,84000.0,88000.0,95000.0,58704.0,170000.0,82000.0,60000.0,12960.0,51000.0,55000.0,32000.0,48000.0,84000.0,78500.0,37980.0,40000.0,80000.0,26400.0,54000.0,85000.0,37342.0,85000.0,153000.0,14400.0,74000.0,33000.0,35400.0,32400.0,65000.0,56784.0,125000.0,100000.0,300000.0,147000.0,126000.0,44000.0,90000.0,26400.0,60000.0,42000.0,66300.0,85296.0,98000.0,35300.0,78000.0,70200.0,44004.0,52000.0,95000.0,54000.0,124000.0,30996.0,148716.0,42000.0,225000.0,50343.0,96000.0,65600.0,120000.0,46097.0,80000.0,95400.0,46800.0,54000.0,45000.0,76000.0,72000.0,50000.0,71874.0,36396.0,92004.0,70000.0,67000.0,31104.0,27000.0,98000.0,77065.0,60000.0,148000.0,44475.0,30996.0,100000.0,60000.0,30996.0,45000.0,130000.0,61425.0,40000.0,58000.0,55000.0,58650.0,30500.0,110000.0,69500.0,90000.0,48000.0,60000.0,54000.0,37000.0,117600.0,9600.0,65000.0,31200.0,51000.0,50000.0,54000.0,36000.0,84000.0,44640.0,175000.0,75000.0,59600.0,40000.0,35000.0,62316.0,35000.0,84000.0,61200.0,59436.0,39000.0,61450.0,46000.0,75000.0,100000.0,65000.0,36000.0,50000.0,130000.0,48000.0,140000.0,27336.0,20000.0,32400.0,60600.0,95000.0,28000.0,63500.0,59000.0,65004.0,43000.0,67000.0,39000.0,49000.0,53800.0,57000.0,30000.0,58000.0,145000.0,18700.0,38400.0,68500.0,63000.0,34000.0,30456.0,22800.0,50426.0,90000.0,71000.0,85000.0,84996.0,25000.0,13200.0,101000.0,66000.0,96000.0,61000.0,74000.0,16800.0,124000.0,105000.0,36000.0,75000.0,83000.0,103000.0,60000.0,73000.0,80000.0,59000.0,44400.0,44000.0,86000.0,36000.0,119000.0,15000.0,71020.0,58600.0,82000.0,19200.0,75000.0,48000.0,90000.0,94000.0,45000.0,30000.0,55000.0,35000.0,108000.0,26400.0,61547.0,55000.0,37800.0,70000.0,40000.0,25000.0,150000.0,36000.0,85000.0,288000.0,50000.0,300000.0,87000.0,29000.0,140000.0,36000.0,135000.0,145000.0,35000.0,120000.0,75000.0,32000.0,26880.0,73164.0,75653.0,35196.0,71000.0,70000.0,48000.0,51000.0,103500.0,80000.0,72000.0,129996.0,38000.0,81000.0,95000.0,151000.0,36000.0,52000.0,41244.0,100000.0,30960.0,27168.0,50000.0,100000.0,83768.0,48000.0,40000.0,40000.0,36996.0,31200.0,30000.0,60000.0,49000.0,48000.0,30000.0,54000.0,47000.0,68872.0,50000.0,61200.0,46300.0,27996.0,35100.0,76000.0,48880.0,75000.0,96000.0,40000.0,63500.0,16428.0,26400.0,78000.0,59000.0,76000.0,135000.0,60000.0,32000.0,69000.0,70000.0,63410.0,28000.0,56100.0,100000.0,58000.0,104000.0,72000.0,30000.0,126000.0,55000.0,36996.0,28800.0,103000.0,57000.0,50000.0,32900.0,82000.0,78000.0,43000.0,45000.0,48000.0,77078.0,67150.0,40000.0,65000.0,36000.0,116000.0,55000.0,120000.0,45000.0,90000.0,52000.0,95000.0,52000.0,34000.0,64800.0,150000.0,101000.0,51600.0,35000.0,70000.0,60000.0,52000.0,68000.0,50000.0,45000.0,32400.0,70000.0,65000.0,25920.0,33996.0,20000.0,58000.0,74000.0,120000.0,80000.0,174996.0,50000.0,49000.0,150000.0,18000.0,43150.0,70000.0,28800.0,20000.0,75000.0,72000.0,75250.0,90000.0,60000.0,32000.0,52728.0,35000.0,28000.0,54996.0,92004.0,36000.0,55000.0,24996.0,43200.0,55000.0,38000.0,39600.0,55000.0,60000.0,55000.0,24432.0,60000.0,95000.0,102000.0,39420.0,72000.0,60000.0,41784.0,25344.0,38000.0,43000.0,30000.0,78000.0,40000.0,49000.0,54200.0,32000.0,90000.0,117000.0,35000.0,170000.0,215000.0,19200.0,123735.0,84000.0,17720.0,45336.0,72000.0,31513.0,113000.0,200000.0,78500.0,44000.0,51000.0,52800.0,81804.0,77496.0,54000.0,53000.0,77367.0,29000.0,44004.0,36000.0,42000.0,33600.0,70000.0,45000.0,34348.0,69000.0,84175.0,66725.0,58668.0,60000.0,120000.0,150000.0,90000.0,126000.0,44000.0,28080.0,70000.0,100970.0,41000.0,30000.0,63000.0,34000.0,66888.0,50000.0,37000.0,130000.0,54996.0,34000.0,42000.0,110000.0,44400.0,114000.0,62000.0,70000.0,39504.0,65000.0,30000.0,69600.0,48000.0,154000.0,80000.0,82000.0,29000.0,42000.0,36996.0,57408.0,43000.0,30000.0,81000.0,42000.0,120000.0,45000.0,50000.0,22800.0,225000.0,105000.0,143004.0,74000.0,64800.0,44000.0,45000.0,30996.0,95892.0,33000.0,70000.0,99000.0,125000.0,42500.0,45000.0,104000.0,60000.0,56000.0,99000.0,35000.0,42900.0,50000.0,200000.0,49000.0,45000.0,68400.0,60000.0,50000.0,102000.0,38004.0,34000.0,68000.0,108000.0,76000.0,49000.0,70000.0,74000.0,70000.0,86000.0,22800.0,125000.0,52000.0,70000.0,80000.0,84000.0,43200.0,44000.0,30000.0,69000.0,58650.0,84996.0,54072.0,100300.0,50000.0,56525.0,97000.0,90000.0,15000.0,51400.0,42000.0,72000.0,201000.0,39996.0,31000.0,140000.0,75000.0,26400.0,52000.0,84000.0,36000.0,32000.0,118068.0,49278.0,30000.0,33600.0,99996.0,125000.0,45000.0,44000.0,107000.0,56000.0,54000.0,93000.0,33996.0,65000.0,52000.0,42000.0,96000.0,120000.0,50000.0,21600.0,54996.0,88000.0,90000.0,55000.0,54000.0,55000.0,51000.0,58500.0,31000.0,57450.0,45000.0,125000.0,50000.0,75000.0,76000.0,26000.0,68000.0,141000.0,19200.0,120456.0,52680.0,96000.0,108000.0,93000.0,52000.0,12000.0,158000.0,14400.0,24000.0,51252.0,33600.0,100000.0,30000.0,48996.0,49000.0,31200.0,47233.0,55000.0,120000.0,60000.0,47000.0,35000.0,48000.0,32000.0,87000.0,43000.0,76176.0,80004.0,47600.0,138000.0,53684.0,66000.0,79416.0,93600.0,26000.0,12000.0,65000.0,116000.0,19800.0,8088.0,35100.0,42000.0,63900.0,75000.0,69600.0,65707.0,140000.0,9900.0,116004.0,60000.0,26400.0,54000.0,57000.0,92000.0,40800.0,58296.0,24000.0,35000.0,42000.0,50000.0,90000.0,19728.0,57000.0,26000.0,19968.0,20000.0,41000.0,33250.0,140000.0,40000.0,24000.0,40000.0,48000.0,58000.0,80000.0,27302.0,85000.0,80000.0,46800.0,55000.0,36000.0,33990.0,30300.0,55000.0,45000.0,50000.0,35000.0,105000.0,33500.0,168000.0,29000.0,36480.0,23800.0,42000.0,30000.0,160000.0,44400.0,80340.0,36000.0,32000.0,21600.0,54996.0,36000.0,58000.0,100000.0,109200.0,38000.0,66000.0,80000.0,42000.0,43000.0,50000.0,88000.0,24996.0,55000.0,64800.0,40000.0,70000.0,27996.0,40800.0,64260.0,42000.0,15000.0,36000.0,45000.0,100010.0,24000.0,60000.0,38196.0,42500.0,44000.0,54000.0,53329.0,25200.0,150000.0,48000.0,156000.0,33600.0,19200.0,45000.0,36000.0,37260.0,71200.0,80000.0,28000.0,120000.0,39000.0,30000.0,165000.0,72000.0,89000.0,70550.0,48000.0,35004.0,64000.0,21700.0,44000.0,162350.0,33716.0,44500.0,23500.0,86304.0,50000.0,90000.0,31200.0,80000.0,75000.0,54804.0,94000.0,165000.0,48000.0,138000.0,25000.0,35400.0,12000.0,53500.0,127000.0,37000.0,51600.0,31700.0,55000.0,52000.0,37000.0,83195.0,96000.0,120000.0,24000.0,66000.0,106800.0,48000.0,95000.0,51600.0,74000.0,50000.0,45000.0,142000.0,45312.0,60000.0,64000.0,53500.0,92000.0,24000.0,93158.0,104000.0,88140.0,62496.0,45000.0,55000.0,40000.0,46000.0,25200.0,30000.0,90000.0,95000.0,51500.0,43000.0,100000.0,56004.0,90000.0,45000.0,27996.0,60000.0,52000.0,40000.0,25000.0,48000.0,62004.0,38568.0,40000.0,32004.0,78000.0,130000.0,41000.0,45450.0,48000.0,60000.0,45000.0,92000.0,49920.0,75500.0,39600.0,108000.0,25000.0,77182.0,25200.0,47760.0,50000.0,84000.0,50000.0,73000.0,90000.0,44000.0,110000.0,49500.0,68900.0,87000.0,62400.0,31164.0,58896.0,74000.0,80000.0,35000.0,40000.0,60000.0,72000.0,32000.0,54000.0,39000.0,70000.0,47000.0,32400.0,47000.0,56000.0,112445.0,115000.0,34884.0,30000.0,39300.0,60000.0,90000.0,95500.0,76800.0,50004.0,35000.0,28452.0,50000.0,31500.0,63800.0,22440.0,28896.0,42000.0,47000.0,28800.0,61000.0,105000.0,87000.0,600000.0,34000.0,36000.0,55000.0,70000.0,70000.0,62004.0,40200.0,41235.0,41000.0,90000.0,145000.0,55000.0,105000.0,70000.0,34400.0,58650.0,20400.0,40800.0,78000.0,78000.0,32640.0,50000.0,33000.0,40000.0,43000.0,79000.0,72000.0,97500.0,95000.0,84000.0,105000.0,85000.0,67000.0,114996.0,50000.0,68500.0,125000.0,100000.0,75744.0,30000.0,55000.0,67000.0,68000.0,132000.0,63533.0,50000.0,45000.0,79632.0,62844.0,28000.0,60000.0,40000.0,115000.0,36000.0,46394.0,30000.0,35000.0,62496.0,32000.0,85000.0,51000.0,51540.0,112000.0,37000.0,95000.0,42000.0,46000.0,51840.0,36000.0,90000.0,96000.0,65000.0,71000.0,62004.0,56004.0,55200.0,136240.0,92000.0,38000.0,100000.0,95000.0,30000.0,86000.0,58000.0,34200.0,66000.0,112000.0,75000.0,35000.0,123000.0,130000.0,36000.0,54996.0,32000.0,42000.0,65000.0,62400.0,55000.0,60000.0,29000.0,40000.0,36000.0,57000.0,44500.0,33948.0,27000.0,66000.0,24000.0,60000.0,50808.0,45000.0,54000.0,43000.0,69000.0,48000.0,75000.0,80000.0,155000.0,38400.0,60000.0,54050.0,22000.0,27600.0,95000.0,65000.0,36000.0,36000.0,68736.0,92004.0,42000.0,84996.0,19200.0,49000.0,149616.0,148410.0,30000.0,38400.0,30000.0,85000.0,130000.0,64500.0,57600.0,141996.0,24000.0,149400.0,51000.0,53000.0,91092.0,35000.0,47000.0,72000.0,135000.0,42000.0,72000.0,48000.0,67000.0,69000.0,60000.0,78000.0,30000.0,61000.0,48000.0,25000.0,51043.0,68000.0,135000.0,200000.0,58000.0,37050.0,50400.0,40000.0,97333.0,78000.0,39000.0,69000.0,67200.0,54000.0,76668.0,122000.0,72800.0,60000.0,42000.0,88000.0,39000.0,121000.0,80000.0,47000.0,53000.0,108350.0,93240.0,132000.0,27000.0,24000.0,97000.0,56400.0,81000.0,42000.0,47000.0,38000.0,70000.0,58000.0,29000.0,43000.0,41000.0,40000.0,105000.0,33000.0,45000.0,41916.0,73000.0,30000.0,47000.0,79000.0,85000.0,115000.0,60000.0,37000.0,27996.0,53100.0,60000.0,60000.0,81600.0,62000.0,50000.0,63132.0,70000.0,72000.0,43000.0,100000.0,38400.0,10080.0,34000.0,50000.0,45000.0,98000.0,33000.0,100000.0,27600.0,29124.0,90000.0,34152.0,32000.0,75000.0,40000.0,58000.0,39996.0,20000.0,72400.0,45200.0,25000.0,60000.0,40000.0,30372.0,78000.0,80000.0,85920.0,82000.0,40000.0,65000.0,60000.0,28800.0,53004.0,81500.0,70000.0,35827.0,55692.0,39000.0,63000.0,75000.0,31200.0,146000.0,30000.0,36000.0,60000.0,136000.0,88000.0,30000.0,153000.0,75000.0,56000.0,60000.0,65004.0,78000.0,55000.0,55000.0,37000.0,62361.0,88900.0,60000.0,130000.0,50000.0,45000.0,52000.0,97750.0,45600.0,59000.0,42072.0,45000.0,70550.0,24000.0,53000.0,34174.0,31221.0,78000.0,95000.0,65000.0,32000.0,90000.0,74784.0,144996.0,42996.0,17721.0,55000.0,28800.0,42000.0,62000.0,58000.0,92500.0,27252.0,53000.0,18000.0,37000.0,62050.0,41600.0,40000.0,48996.0,45000.0,73000.0,62500.0,30000.0,42000.0,68608.0,120000.0,130000.0,27500.0,41628.0,18000.0,63000.0,66500.0,55000.0,24000.0,56000.0,20000.0,56400.0,37200.0,73000.0,37000.0,14400.0,127500.0,93000.0,93000.0,75000.0,32000.0,50004.0,80000.0,53000.0,12000.0,48000.0,83300.0,82500.0,62000.0,50000.0,100000.0,72996.0,48000.0,56000.0,68000.0,85000.0,24960.0,42000.0,11760.0,48600.0,173000.0,42000.0,90000.0,365000.0,85000.0,75000.0,33996.0,48000.0,24000.0,98080.0,75000.0,27600.0,90000.0,129996.0,120000.0,58000.0,71151.0,47000.0,34000.0,56004.0,50000.0,25000.0,70000.0,54252.0,70000.0,65000.0,85850.0,48000.0,36000.0,48526.0,38832.0,108202.0,39900.0,29400.0,89000.0,28800.0,49200.0,24000.0,42000.0,200000.0,200000.0,24000.0,50000.0,68000.0,44000.0,98000.0,125000.0,62000.0,41280.0,83957.0,115000.0,67000.0,120000.0,53000.0,92000.0,34000.0,56000.0,48000.0,55000.0,52000.0,72000.0,14400.0,32560.0,80500.0,80750.0,44000.0,32000.0,140000.0,174708.0,47000.0,75000.0,49200.0,110000.0,65000.0,54216.0,60000.0,56000.0,48000.0,67260.0,75000.0,42000.0,30000.0,80004.0,57500.0,54000.0,80000.0,136000.0,21000.0,46000.0,70550.0,97000.0,62400.0,64000.0,56902.0,86004.0,42000.0,133000.0,50000.0,49716.0,65000.0,64000.0,51000.0,108000.0,30000.0,60000.0,45600.0,14400.0,59000.0,124886.0,35000.0,40000.0,42000.0,16800.0,42000.0,44664.0,93000.0,120000.0,91000.0,65004.0,33000.0,42996.0,54600.0,125000.0,21600.0,57000.0,57600.0,15120.0,130000.0,55000.0,21000.0,55000.0,60000.0,24000.0,120000.0,57500.0,50000.0,100400.0,82000.0,55500.0,425000.0,126000.0,51060.0,61000.0,52000.0,69996.0,63000.0,140000.0,28000.0,45000.0,42000.0,24000.0,50400.0,41000.0,110004.0,55000.0,130000.0,42504.0,37152.0,80004.0,59196.0,65000.0,62000.0,150000.0,31800.0,25200.0,100300.0,72000.0,30000.0,192000.0,120000.0,75000.0,60000.0,70000.0,70000.0,82800.0,96000.0,29000.0,25000.0,95000.0,32000.0,87360.0,38769.0,110000.0,65000.0,45000.0,100000.0,80140.0,70082.0,80400.0,58650.0,56000.0,63000.0,141000.0,165000.0,92000.0,70800.0,45000.0,111239.0,35000.0,148000.0,21600.0,150000.0,47110.0,19200.0,37000.0,83000.0,24414.0,48000.0,44640.0,40000.0,18000.0,49700.0,370000.0,69996.0,112500.0,44000.0,56100.0,44000.0,52000.0,32760.0,42000.0,63600.0,36780.0,82800.0,95004.0,74000.0,59000.0,65000.0,85000.0,55000.0,50400.0,51000.0,56864.0,49000.0,53400.0,54000.0,210000.0,54000.0,51000.0,65000.0,64200.0,62000.0,18000.0,65004.0,63600.0,82500.0,24996.0,186000.0,56000.0,85634.0,32000.0,91000.0,40500.0,75000.0,120000.0,65000.0,81000.0,65000.0,30000.0,165000.0,156000.0,45500.0,48000.0,113000.0,95000.0,44004.0,26400.0,65000.0,17500.0,41000.0,60000.0,32004.0,75000.0,35000.0,26000.0,45000.0,100000.0,120000.0,69000.0,60000.0,101400.0,48000.0,80000.0,49777.0,105000.0,56524.0,89004.0,29666.0,53000.0,80000.0,60996.0,48000.0,90000.0,50000.0,30144.0,51000.0,59450.0,47800.0,63000.0,35500.0,19200.0,45600.0,53124.0,110000.0,50650.0,60000.0,83252.0,140000.0,50450.0,48096.0,69000.0,26400.0,26000.0,113000.0,40000.0,32000.0,33000.0,190000.0,40000.0,19200.0,83500.0,50000.0,33000.0,50000.0,39996.0,78000.0,91000.0,81500.0,48000.0,70000.0,68000.0,46800.0,148350.0,10800.0,165000.0,65000.0,37800.0,111917.0,90000.0,58000.0,30000.0,200000.0,54000.0,85000.0,90000.0,50000.0,126996.0,50129.0,55000.0,24000.0,45000.0,135000.0,40000.0,50000.0,18000.0,44000.0,31200.0,28800.0,120000.0,39996.0,30000.0,80000.0,153600.0,24000.0,30000.0,60000.0,91800.0,39996.0,45000.0,210000.0,220000.0,58800.0,68004.0,30000.0,59450.0,88000.0,500000.0,44400.0,87000.0,78000.0,17000.0,38400.0,56900.0,38400.0,32000.0,60000.0,38400.0,58800.0,27000.0,150000.0,52000.0,12000.0,83000.0,45000.0,132000.0,25200.0,38004.0,73000.0,71500.0,45000.0,26000.0,81000.0,44630.0,85000.0,46000.0,82440.0,88055.0,83000.0,62004.0,750000.0,100000.0,42000.0,50000.0,37440.0,83300.0,56400.0,100000.0,36000.0,85757.0,49000.0,45020.0,36850.0,105000.0,105000.0,67000.0,48000.0,45000.0,47000.0,64000.0,13273.0,44000.0,52582.0,94800.0,30000.0,33600.0,113000.0,26496.0,80000.0,52000.0,57738.0,62100.0,29000.0,47000.0,85000.0,32000.0,36000.0,28800.0,36000.0,46116.0,108800.0,267000.0,45000.0,24000.0,41500.0,40800.0,48000.0,70000.0,66000.0,66000.0,35000.0,40000.0,49500.0,47000.0,65000.0,32000.0,48000.0,33600.0,18000.0,66000.0,35880.0,122880.0,49000.0,29000.0,30000.0,70000.0,29976.0,60000.0,60000.0,43000.0,64900.0,34500.0,42000.0,65000.0,8004.0,108160.0,44000.0,43000.0,24091.0,45600.0,65000.0,78000.0,58000.0,39900.0,24000.0,62000.0,32244.0,65000.0,50000.0,47540.0,108000.0,126000.0,65000.0,60000.0,45000.0,27996.0,51480.0,54000.0,95000.0,85000.0,36000.0,30000.0,60000.0,68551.0,32004.0,87000.0,30000.0,55000.0,53000.0,37500.0,45000.0,100000.0,50400.0,18000.0,31193.0,100000.0,85000.0,50000.0,38400.0,48000.0,73000.0,90000.0,35000.0,22000.0,35652.0,84000.0,55000.0,78000.0,60000.0,120000.0,25000.0,157500.0,40000.0,18000.0,58000.0,63000.0,45000.0,62496.0,32400.0,133800.0,108996.0,91000.0,30000.0,50000.0,57000.0,20000.0,120000.0,15000.0,29000.0,56000.0,13000.0,39000.0,36000.0,34500.0,39000.0,115000.0,77000.0,62400.0,36000.0,52000.0,75996.0,40000.0,69996.0,48360.0,102400.0,120000.0,21600.0,66000.0,26004.0,77000.0,88000.0,54996.0,36800.0,39600.0,84996.0,76800.0,75000.0,40000.0,100000.0,42000.0,48000.0,26400.0,35400.0,120000.0,67000.0,34800.0,325000.0,90000.0,6000.0,70000.0,44500.0,31200.0,40000.0,39000.0,22000.0,178000.0,42000.0,60000.0,60400.0,58800.0,32400.0,45000.0,96000.0,39216.0,38400.0,56000.0,110000.0,71000.0,200004.0,55000.0,47000.0,47400.0,35600.0,96000.0,75000.0,185000.0,34132.0,98000.0,120000.0,30000.0,27040.0,74000.0,27996.0,43200.0,60000.0,55000.0,50000.0,260000.0,96000.0,31000.0,50000.0,39996.0,62000.0,42000.0,104000.0,59000.0,175000.0,55000.0,36120.0,40000.0,38000.0,79894.0,37090.0,73008.0,70872.0,49000.0,30159.0,79000.0,45000.0,55000.0,60000.0,72000.0,70000.0,50000.0,150000.0,46200.0,106839.0,83000.0,56000.0,44000.0,88000.0,138000.0,144000.0,28800.0,120000.0,43000.0,65000.0,34000.0,58800.0,38000.0,123000.0,41000.0,48000.0,46300.0,55000.0,24000.0,68508.0,54400.0,44000.0,21600.0,40000.0,25200.0,24000.0,82560.0,60000.0,34056.0,50000.0,35368.0,24000.0,84000.0,24996.0,55000.0,38000.0,51000.0,50000.0,30000.0,58560.0,250000.0,39000.0,158000.0,72000.0,75555.0,69000.0,45928.0,71500.0,20988.0,75000.0,39000.0,77000.0,40800.0,56000.0,70000.0,60000.0,50004.0,120000.0,53000.0,35000.0,30720.0,135000.0,60000.0,85000.0,14400.0,55596.0,101000.0,79536.0,77954.0,48000.0,70399.0,60000.0,60350.0,60000.0,60000.0,74000.0,61000.0,18000.0,50000.0,38004.0,60000.0,54996.0,66300.0,67200.0,48279.0,115000.0,187000.0,125000.0,116004.0,65000.0,62903.0,73000.0,90000.0,33000.0,102211.0,39000.0,185000.0,47000.0,35496.0,74000.0,85000.0,64000.0,35000.0,80000.0,47000.0,76250.0,48000.0,32000.0,64000.0,39000.0,27000.0,108000.0,38000.0,43000.0,29000.0,120000.0,78500.0,34200.0,102400.0,60400.0,31800.0,83600.0,29400.0,34000.0,70000.0,65004.0,96000.0,44400.0,74000.0,75000.0,60000.0,39000.0,27252.0,34200.0,31000.0,94000.0,66000.0,148000.0,54996.0,69996.0,40000.0,19200.0,140000.0,48700.0,120000.0,31692.0,120000.0,20000.0,186996.0,75000.0,40000.0,59000.0,50000.0,42000.0,30000.0,27600.0,31200.0,35000.0,46000.0,48000.0,90000.0,77705.0,76500.0,108000.0,102500.0,65000.0,85000.0,100000.0,61800.0,35000.0,110000.0,40000.0,73500.0,65000.0,14400.0,34404.0,38000.0,81600.0,51000.0,55500.0,84000.0,85000.0,74000.0,225000.0,31875.0,66500.0,45996.0,29000.0,120000.0,228000.0,60000.0,39000.0,25000.0,54000.0,70000.0,35000.0,39996.0,62000.0,85000.0,65000.0,28000.0,90000.0,47000.0,36000.0,110000.0,52000.0,25000.0,77000.0,62500.0,60000.0,39000.0,57300.0,59000.0,78100.0,77000.0,61500.0,74000.0,93900.0,118000.0,54000.0,24996.0,110000.0,42000.0,78000.0,40000.0,55365.0,120000.0,105000.0,101000.0,102000.0,72150.0,23004.0,64000.0,78000.0,115000.0,111280.0,66000.0,49000.0,67200.0,57000.0,35256.0,36000.0,67000.0,74100.0,24000.0,108000.0,61584.0,68000.0,55000.0,36000.0,138550.0,75000.0,39000.0,50000.0,70000.0,69000.0,85000.0,61650.0,42000.0,100000.0,57000.0,47000.0,70000.0,89532.0,61200.0,55800.0,44400.0,65000.0,95000.0,198000.0,123144.0,50000.0,68000.0,51000.0,33996.0,37000.0,15600.0,103000.0,100000.0,36000.0,52020.0,74000.0,54000.0,39300.0,18000.0,31000.0,75000.0,43288.0,54000.0,72000.0,20000.0,150000.0,49000.0,60000.0,54000.0,110000.0,65000.0,78996.0,63000.0,102000.0,49000.0,54000.0,30000.0,49000.0,40000.0,17400.0,60000.0,55000.0,60000.0,35000.0,66000.0,90000.0,84000.0,72000.0,69000.0,76248.0,178000.0,50000.0,85155.0,18996.0,69000.0,35000.0,75000.0,76000.0,75000.0,53712.0,47000.0,59000.0,64000.0,72000.0,67000.0,44000.0,75000.0,120000.0,41196.0,70000.0,59004.0,36000.0,38250.0,88668.0,27040.0,41000.0,52000.0,87000.0,48000.0,85000.0,50000.0,100000.0,33996.0,47000.0,17544.0,100000.0,65000.0,16000.0,24996.0,51400.0,69000.0,45000.0,45000.0,25000.0,28000.0,85000.0,67500.0,100000.0,76000.0,56000.0,27000.0,30000.0,58600.0,48000.0,48645.0,63000.0,105999.0,28590.0,70000.0,86250.0,48000.0,34000.0,35000.0,120000.0,100000.0,108000.0,24000.0,48000.0,47340.0,120000.0,148750.0,20000.0,54600.0,73004.0,26000.0,45000.0,40000.0,28872.0,150000.0,112000.0,77800.0,75600.0,72000.0,77000.0,50000.0,24996.0,46000.0,80000.0,34000.0,13440.0,65000.0,47500.0,62400.0,112921.0,130000.0,60000.0,46000.0,47000.0,45000.0,45000.0,48000.0,70000.0,45000.0,130000.0,48000.0,120000.0,46704.0,85000.0,40000.0,62500.0,50000.0,36000.0,83000.0,56004.0,120000.0,26004.0,32000.0,85000.0,50000.0,61766.0,51000.0,26000.0,63834.0,21600.0,53000.0,16000.0,64424.0,54000.0,76248.0,74000.0,29238.0,52000.0,24000.0,65000.0,58000.0,27996.0,103000.0,94000.0,100000.0,39000.0,60000.0,53004.0,80000.0,40000.0,140000.0,136000.0,68000.0,115200.0,92000.0,85500.0,60000.0,69000.0,37000.0,45000.0,94104.0,62000.0,34000.0,32760.0,33000.0,54996.0,132000.0,112000.0,75000.0,48000.0,61900.0,45000.0,33500.0,40000.0,28000.0,57996.0,26400.0,61260.0,95000.0,38272.0,45000.0,75600.0,89772.0,89004.0,35000.0,75000.0,67700.0,58000.0,61000.0,75000.0,81120.0,51500.0,40000.0,37440.0,42000.0,112000.0,80004.0,108800.0,42000.0,28000.0,51000.0,42000.0,60000.0,41000.0,24000.0,46464.0,84000.0,49200.0,65000.0,153000.0,38000.0,58000.0,44000.0,47004.0,71000.0,300000.0,42756.0,82000.0,80400.0,105000.0,42000.0,285000.0,52728.0,54000.0,48000.0,68000.0,75000.0,167300.0,62400.0,45000.0,75000.0,32400.0,40000.0,40800.0,142000.0,103000.0,70000.0,100000.0,19500.0,32760.0,30000.0,51996.0,100000.0,72000.0,24000.0,56000.0,70000.0,58000.0,31200.0,143000.0,120000.0,51000.0,68000.0,24000.0,97000.0,83820.0,135000.0,42870.0,50000.0,15000.0,48000.0,52000.0,44500.0,50000.0,50000.0,19000.0,66000.0,47000.0,60000.0,55000.0,65450.0,50004.0,63996.0,90000.0,34000.0,70200.0,24000.0,70000.0,33000.0,39000.0,20000.0,60000.0,106358.0,15120.0,36000.0,35000.0,53000.0,61200.0,46000.0,84000.0,81000.0,58000.0,143000.0,14800.0,55000.0,41000.0,50000.0,31000.0,31000.0,40000.0,51000.0,85000.0,56004.0,26000.0,38400.0,15000.0,50000.0,74400.0,51000.0,90000.0,45000.0,50000.0,66480.0,57600.0,148000.0,237000.0,60000.0,75000.0,48000.0,36000.0,38000.0,83886.0,105000.0,25200.0,160000.0,42000.0,28800.0,21600.0,71000.0,90000.0,76000.0,120000.0,93000.0,121000.0,40000.0,75000.0,128000.0,83000.0,15600.0,60000.0,84000.0,43000.0,75000.0,28000.0,95000.0,60000.0,90000.0,75000.0,21600.0,35000.0,46080.0,80000.0,75000.0,36708.0,34000.0,20000.0,93000.0,26400.0,48000.0,37700.0,160000.0,74000.0,75000.0,114500.0,97000.0,72000.0,47230.0,62472.0,29760.0,37000.0,180000.0,29952.0,69790.0,62400.0,79000.0,19200.0,35000.0,44964.0,29100.0,46000.0,63000.0,60000.0,500000.0,77508.0,70000.0,41520.0,61781.0,95000.0,75000.0,39000.0,90000.0,45000.0,50000.0,67476.0,78000.0,49000.0,72000.0,59448.0,112000.0,54120.0,84000.0,65000.0,20400.0,44604.0,36153.0,40000.0,29280.0,84000.0,17520.0,48996.0,75000.0,60000.0,90000.0,36000.0,21600.0,65000.0,84000.0,168000.0,69996.0,56500.0,34995.0,75000.0,53549.0,70000.0,40800.0,50000.0,30000.0,80000.0,61200.0,57000.0,81000.0,60000.0,24000.0,52500.0,36000.0,59020.0,84000.0,50800.0,80000.0,24500.0,43000.0,700000.0,225000.0,25000.0,36000.0,35568.0,103000.0,65400.0,54000.0,119000.0,135000.0,43000.0,52000.0,145656.0,60000.0,55500.0,65000.0,64800.0,40000.0,72000.0,114000.0,108800.0,23587.0,62004.0,85000.0,45000.0,44000.0,50000.0,89000.0,14400.0,67000.0,42500.0,80000.0,139016.0,30000.0,145000.0,33500.0,71000.0,44004.0,59000.0,68000.0,48000.0,55000.0,66800.0,47000.0,23040.0,19000.0,40000.0,36000.0,73000.0,35000.0,117000.0,51150.0,68004.0,60000.0,61440.0,47000.0,65000.0,96300.0,55000.0,48000.0,12480.0,42000.0,27000.0,27600.0,116700.0,65000.0,79000.0,150000.0,45000.0,40113.0,47256.0,200000.0,70000.0,48000.0,120000.0,12000.0,201000.0,72000.0,78000.0,74346.0,42000.0,37000.0,37000.0,33996.0,72000.0,63000.0,31000.0,68000.0,120000.0,103000.0,37000.0,85000.0,29120.0,16000.0,54000.0,30000.0,36000.0,79000.0,90000.0,35000.0,78000.0,72000.0,25200.0,75000.0,42000.0,33000.0,175000.0,99000.0,48396.0,70000.0,100000.0,111000.0,21340.0,40000.0,52500.0,61498.0,59000.0,91800.0,41000.0,85000.0,60000.0,50000.0,106000.0,98800.0,82000.0,25000.0,45996.0,81120.0,70000.0,39900.0,52700.0,100000.0,20664.0,100000.0,31200.0,120000.0,78000.0,50760.0,73000.0,55000.0,33996.0,70000.0,148080.0,43000.0,32160.0,56000.0,35000.0,86500.0,36000.0,258000.0,54000.0,12360.0,170000.0,27996.0,34320.0,41000.0,25000.0,215000.0,40000.0,84400.0,45000.0,70000.0,57000.0,120000.0,78000.0,60000.0,60000.0,61000.0,131040.0,100000.0,130000.0,85000.0,52000.0,28500.0,60000.0,18000.0,34000.0,50004.0,120000.0,32769.0,33000.0,40000.0,42000.0,52000.0,88200.0,104800.0,72000.0,104000.0,63996.0,78413.0,50760.0,30000.0,60000.0,45000.0,40000.0,25000.0,42000.0,67422.0,47500.0,80000.0,128165.0,45516.0,58500.0,88000.0,95004.0,48564.0,95000.0,15000.0,45000.0,43000.0,33996.0,170000.0,105000.0,27000.0,51000.0,40900.0,80000.0,42000.0,60000.0,23004.0,39500.0,55000.0,45000.0,44000.0,69000.0,71000.0,51996.0,48000.0,55000.0,80400.0,121000.0,44000.0,31200.0,42000.0,59000.0,65000.0,45000.0,76268.0,123000.0,26400.0,112732.0,120000.0,36000.0,61848.0,60000.0,53000.0,371000.0,69600.0,30016.0,44400.0,33600.0,41000.0,82500.0,114000.0,56000.0,89000.0,65000.0,67000.0,66143.0,34000.0,110000.0,78000.0,60000.0,86400.0,49000.0,60000.0,60000.0,180000.0,50000.0,40000.0,70000.0,41000.0,99085.0,65000.0,86000.0,115000.0,63000.0,81600.0,53000.0,100000.0,103992.0,100000.0,42000.0,54000.0,70000.0,30000.0,22000.0,67000.0,60000.0,100000.0,35000.0,39000.0,44307.0,21000.0,58000.0,59600.0,72000.0,40000.0,36000.0,32000.0,50000.0,41500.0,100000.0,38001.0,56000.0,55000.0,15000.0,35004.0,28900.0,74029.0,35000.0,136000.0,70000.0,50000.0,43000.0,29004.0,30000.0,34000.0,62400.0,48996.0,119000.0,120000.0,93600.0,125000.0,100580.0,18000.0,45000.0,99800.0,40000.0,79000.0,80000.0,65004.0,124080.0,40800.0,69000.0,38400.0,100000.0,36000.0,36000.0,70000.0,37200.0,24000.0,30000.0,87000.0,90000.0,110000.0,38400.0,80000.0,44390.0,28000.0,60000.0,70000.0,30000.0,102500.0,36000.0,119000.0,106000.0,41600.0,40000.0,77964.0,32004.0,55000.0,74000.0,147884.0,14400.0,49000.0,67500.0,42000.0,36140.0,72000.0,56000.0,59004.0,107473.0,45999.0,150000.0,38896.0,55000.0,70000.0,62000.0,38450.0,93000.0,25000.0,186000.0,53196.0,75000.0,25000.0,84000.0,51000.0,45500.0,13000.0,30000.0,52000.0,120000.0,44004.0,120000.0,72000.0,49000.0,96000.0,128000.0,53000.0,60000.0,70000.0,48000.0,96000.0,20800.0,325550.0,125000.0,33000.0,38400.0,75000.0,60000.0,64000.0,38000.0,33996.0,39996.0,59000.0,46152.0,70000.0,92000.0,88000.0,83000.0,27996.0,63000.0,60000.0,45000.0,60775.0,95000.0,52880.0,37000.0,65000.0,35000.0,52000.0,225000.0,90000.0,34800.0,45996.0,67000.0,12000.0,22000.0,25000.0,34800.0,38500.0,44000.0,48000.0,36000.0,100000.0,110000.0,75000.0,100000.0,84000.0,65000.0,45000.0,45000.0,33600.0,120000.0,34000.0,121000.0,39800.0,67524.0,41800.0,57996.0,34320.0,100000.0,99000.0,55200.0,57000.0,44000.0,65000.0,39000.0,36000.0,87000.0,260000.0,66500.0,74999.0,113000.0,52000.0,60000.0,65004.0,72000.0,25200.0,35000.0,39000.0,122000.0,44500.0,30600.0,102000.0,50000.0,55000.0,105000.0,120000.0,30000.0,85000.0,19500.0,75000.0,55605.0,33189.0,30000.0,65500.0,134748.0,102000.0,50000.0,50004.0,42000.0,50000.0,31500.0,30000.0,75000.0,54000.0,32000.0,54000.0,96000.0,27000.0,100000.0,24000.0,48996.0,24000.0,30000.0,160000.0,100000.0,96000.0,35000.0,100000.0,70000.0,62000.0,83500.0,58200.0,37000.0,38000.0,38000.0,42000.0,85332.0,50000.0,9000.0,71496.0,57996.0,26208.0,106000.0,76000.0,50000.0,38400.0,125000.0,45000.0,48000.0,38004.0,54500.0,24000.0,71046.0,110000.0,65000.0,34980.0,70000.0,50000.0,55000.0,75600.0,300000.0,85000.0,28800.0,80000.0,75000.0,115000.0,65000.0,70000.0,69000.0,233000.0,55200.0,145000.0,24000.0,22004.0,76000.0,119000.0,40906.0,25000.0,57500.0,44000.0,132000.0,50000.0,50000.0,54000.0,76300.0,130000.0,30000.0,57000.0,41000.0,103000.0,69000.0,80000.0,60000.0,200000.0,76000.0,65004.0,56004.0,97000.0,30000.0,85000.0,54499.0,40000.0,76000.0,85000.0,77000.0,72000.0,7200.0,100000.0,50500.0,126000.0,34000.0,38000.0,95000.0,35004.0,160000.0,20000.0,27000.0,67147.0,108000.0,45000.0,75000.0,42230.0,24000.0,115000.0,95000.0,70000.0,81000.0,25000.0,50000.0,85000.0,65000.0,80490.0,36000.0,85000.0,48000.0,71400.0,43200.0,41000.0,41000.0,300000.0,71520.0,73000.0,90000.0,94000.0,59000.0,35000.0,60000.0,51504.0,28800.0,57000.0,12120.0,140000.0,55000.0,70000.0,84000.0,81000.0,78708.0,125000.0,100000.0,30500.0,30000.0,55000.0,108600.0,61200.0,74000.0,78000.0,64000.0,46296.0,80000.0,51300.0,91800.0,72500.0,56100.0,69000.0,52000.0,59800.0,60000.0,57000.0,64000.0,25000.0,72000.0,25000.0,30000.0,44000.0,74000.0,66996.0,50000.0,49500.0,63000.0,50000.0,75000.0,50460.0,62352.0,30000.0,65000.0,50000.0,72000.0,54000.0,36000.0,65000.0,38400.0,10000.0,48000.0,24000.0,39996.0,33000.0,168000.0,41000.0,48000.0,49000.0,67000.0,25000.0,42000.0,120000.0,53800.0,29004.0,61000.0,45000.0,65700.0,18000.0,71000.0,36000.0,115275.0,180000.0,35000.0,72345.0,75000.0,80000.0,117000.0,48000.0,60000.0,99996.0,62400.0,119000.0,100000.0,24000.0,36000.0,56000.0,77000.0,91000.0,53000.0,72000.0,87278.0,75000.0,67500.0,34000.0,32800.0,62900.0,76000.0,85000.0,43200.0,34300.0,27024.0,102000.0,108000.0,26500.0,32400.0,14400.0,100000.0,25000.0,128000.0,52000.0,54000.0,40000.0,109000.0,40000.0,93000.0,80000.0,57175.0,48000.0,20400.0,37200.0,118075.0,64197.0,20000.0,80000.0,68004.0,186000.0,22240.0,68250.0,30000.0,65000.0,60000.0,50000.0,51996.0,72800.0,115000.0,33600.0,99000.0,62000.0,66847.0,52000.0,50000.0,35000.0,32500.0,94000.0,33000.0,75000.0,87999.0,32000.0,86000.0,45000.0,39336.0,54000.0,14000.0,30000.0,50000.0,19000.0,25920.0,50000.0,65000.0,51420.0,133000.0,261800.0,73000.0,125000.0,30288.0,56000.0,60000.0,26400.0,130000.0,44000.0,26400.0,70000.0,51996.0,78000.0,32000.0,9600.0,96000.0,102000.0,66000.0,57996.0,34000.0,56650.0,25000.0,79440.0,100000.0,60000.0,85000.0,71000.0,70000.0,95000.0,84000.0,74000.0,53000.0,30000.0,37500.0,260000.0,31200.0,35000.0,105500.0,170000.0,24000.0,48000.0,36000.0,46000.0,90000.0,98000.0,32968.0,55000.0,62500.0,115000.0,15600.0,43000.0,110000.0,90000.0,125000.0,53000.0,45000.0,34200.0,41979.0,60626.0,63600.0,16000.0,38004.0,38400.0,44991.0,40000.0,45000.0,76200.0,99996.0,45600.0,33000.0,72500.0,153660.0,38000.0,81000.0,94400.0,74400.0,49000.0,98000.0,24000.0,96000.0,165000.0,42500.0,38496.0,210000.0,42000.0,79992.0,29000.0,68000.0,56000.0,100000.0,54600.0,45000.0,40000.0,59650.0,52000.0,34000.0,77625.0,26000.0,66000.0,70560.0,55000.0,99996.0,54870.0,90000.0,160000.0,75000.0,97583.0,73000.0,300000.0,39396.0,120000.0,75000.0,12000.0,83000.0,85000.0,95000.0,69500.0,44000.0,144000.0,52000.0,83000.0,54000.0,48000.0,56000.0,60000.0,120000.0,82000.0,33000.0,64000.0,83000.0,75000.0,24000.0,25000.0,94800.0,223000.0,42000.0,52992.0,183000.0,14400.0,48000.0,75000.0,100000.0,24000.0,45500.0,69000.0,55000.0,49500.0,110000.0,16800.0,36000.0,50000.0,60000.0,43200.0,67000.0,50004.0,51600.0,58000.0,92000.0,45000.0,19200.0,70000.0,84000.0,20004.0,52000.0,66100.0,85000.0,42682.0,21000.0,30000.0,63000.0,74600.0,75800.0,60000.0,21600.0,30000.0,120000.0,65000.0,120000.0,30000.0,86000.0,50000.0,61000.0,60000.0,54500.0,26400.0,57600.0,31200.0,45000.0,96000.0,34800.0,66614.0,42000.0,48000.0,90000.0,32878.0,66000.0,43000.0,69000.0,40000.0,14400.0,64000.0,18000.0,132132.0,65000.0,36000.0,110000.0,85000.0,62400.0,90000.0,90000.0,29000.0,32500.0,54000.0,75000.0,67450.0,30000.0,42000.0,30000.0,50000.0,78111.0,47200.0,116000.0,46000.0,88000.0,74360.0,31000.0,92000.0,18000.0,30000.0,22452.0,63000.0,66000.0,64260.0,54000.0,58000.0,87000.0,47000.0,128000.0,22356.0,45000.0,66000.0,49000.0,62000.0,21000.0,30996.0,54000.0,48000.0,32698.0,80004.0,63000.0,84000.0,78000.0,59000.0,90000.0,50100.0,100000.0,74000.0,72000.0,96000.0,45000.0,95000.0,35000.0,80171.0,90000.0,37000.0,33600.0,130104.0,39000.0,66504.0,54000.0,68400.0,60000.0,70000.0,50200.0,19200.0,35325.0,70000.0,57200.0,140000.0,75000.0,165000.0,30000.0,92000.0,40000.0,137000.0,38000.0,60000.0,27000.0,24000.0,95000.0,36000.0,30000.0,150000.0,40000.0,58000.0,60000.0,62962.0,45996.0,44000.0,100000.0,75000.0,73000.0,150000.0,235000.0,80000.0,410000.0,42000.0,77000.0,50000.0,30000.0,59000.0,54000.0,36000.0,38000.0,70000.0,79000.0,52000.0,75000.0,66000.0,42000.0,50000.0,70000.0,36000.0,38000.0,54996.0,60000.0,56100.0,110000.0,33000.0,15996.0,150000.0,70000.0,120000.0,39000.0,52000.0,105000.0,101400.0,80000.0,91000.0,132640.0,32000.0,100000.0,36000.0,75000.0,160000.0,48000.0,65499.0,30000.0,26000.0,60000.0,59000.0,65000.0,51492.0,31404.0,80000.0,53000.0,144000.0,65000.0,27012.0,28000.0,36000.0,39996.0,36000.0,50000.0,30000.0,146000.0,45000.0,40000.0,31200.0,90000.0,36156.0,73000.0,44000.0,30000.0,75000.0,28080.0,60000.0,52000.0,75000.0,98000.0,126000.0,30000.0,79100.0,66887.0,195000.0,89000.0,45000.0,258000.0,42000.0,70000.0,76000.0,113000.0,118000.0,30000.0,76500.0,188000.0,72000.0,80000.0,64000.0,35500.0,46500.0,66000.0,60000.0,30892.0,41000.0,37000.0,24000.0,74000.0,110000.0,63996.0,29000.0,43200.0,188004.0,75000.0,64000.0,90888.0,200004.0,61400.0,115000.0,77000.0,33600.0,35000.0,80000.0,120000.0,15600.0,54080.0,37000.0,50000.0,25000.0,80004.0,86000.0,221850.0,35000.0,78996.0,78096.0,26000.0,48000.0,171194.0,20000.0,50000.0,45000.0,51000.0,69996.0,64600.0,33000.0,50000.0,30000.0,30720.0,43500.0,26300.0,84000.0,39996.0,66000.0,42000.0,32000.0,80000.0,200000.0,54000.0,33000.0,65000.0,58800.0,86000.0,30000.0,89520.0,153000.0,38400.0,50000.0,28800.0,50016.0,42000.0,50000.0,102000.0,72000.0,50000.0,150000.0,34000.0,69000.0,69950.0,36396.0,67000.0,73000.0,100000.0,24996.0,44000.0,46000.0,32000.0,75000.0,51000.0,22200.0,54996.0,227500.0,62500.0,50000.0,34000.0,56000.0,116000.0,43500.0,80400.0,50000.0,95000.0,60000.0,60000.0,44000.0,45000.0,80000.0,99996.0,108000.0,30000.0,63000.0,30000.0,138000.0,81000.0,158000.0,125000.0,60000.0,79000.0,100000.0,50000.0,78000.0,112200.0,97000.0,29000.0,26000.0,36538.0,69000.0,23587.0,70000.0,60000.0,47900.0,80196.0,55000.0,54000.0,109000.0,100000.0,90000.0,49161.0,24000.0,54080.0,30000.0,60000.0,95000.0,44000.0,102000.0,33600.0,133000.0,29004.0,78000.0,100000.0,129600.0,117500.0,42000.0,10000.0,59004.0,216000.0,70000.0,28000.0,123000.0,93000.0,45000.0,25000.0,47000.0,102213.0,30000.0,100000.0,40100.0,24000.0,52700.0,70000.0,65004.0,30000.0,33004.0,54000.0,41004.0,145000.0,44000.0,48000.0,62500.0,38000.0,72000.0,94000.0,65000.0,74880.0,94200.0,80000.0,39000.0,43500.0,96000.0,54000.0,110000.0,200000.0,40000.0,135000.0,27600.0,45000.0,83000.0,95000.0,120000.0,35000.0,62000.0,87292.0,60000.0,106000.0,100000.0,40000.0,70000.0,69360.0,70000.0,32198.0,59000.0,67500.0,45000.0,48000.0,42500.0,110000.0,90000.0,65000.0,63600.0,36000.0,44000.0,50000.0,80952.0,42000.0,35000.0,160000.0,60000.0,37000.0,63719.0,33772.0,41000.0,52000.0,15996.0,18000.0,33000.0,390000.0,37000.0,30500.0,160000.0,86250.0,63200.0,25000.0,61959.0,34000.0,40000.0,38400.0,66000.0,33280.0,39000.0,75000.0,36250.0,50000.0,96300.0,49000.0,85000.0,30000.0,16107.0,97192.0,50750.0,50000.0,95004.0,90000.0,40000.0,75000.0,73000.0,40000.0,198000.0,63000.0,43300.0,100000.0,60000.0,123000.0,47300.0,50000.0,54000.0,59000.0,31500.0,35000.0,83000.0,61000.0,60000.0,66000.0,78000.0,54000.0,73000.0,32000.0,150000.0,88000.0,90000.0,50400.0,98400.0,22000.0,65000.0,45000.0,62000.0,70000.0,49901.0,122000.0,90000.0,14400.0,49278.0,55000.0,22000.0,30000.0,54566.0,94000.0,25920.0,56400.0,62000.0,50725.0,79700.0,54996.0,52000.0,60000.0,102000.0,47000.0,60000.0,30000.0,100000.0,44094.0,73000.0,60000.0,68000.0,5500.0,55000.0,60000.0,82000.0,63000.0,29654.0,56000.0,40000.0,49200.0,33012.0,21000.0,45996.0,55000.0,34900.0,31200.0,54099.0,110000.0,66000.0,56950.0,52800.0,30000.0,110000.0,114000.0,71000.0,51000.0,32500.0,39000.0,60000.0,129996.0,22000.0,24000.0,30000.0,105859.0,102540.0,99600.0,23004.0,88000.0,56100.0,90000.0,66000.0,41000.0,34515.0,50004.0,58650.0,54000.0,45756.0,46852.0,45000.0,30000.0,125000.0,38400.0,39000.0,30996.0,28000.0,62000.0,40000.0,36400.0,42000.0,115000.0,32956.0,81204.0,74900.0,31000.0,49571.0,41900.0,48300.0,68700.0,85000.0,75000.0,130000.0,30000.0,30069.0,40000.0,170000.0,45000.0,125004.0,66360.0,45000.0,31200.0,118374.0,35000.0,54996.0,50000.0,42000.0,25200.0,75000.0,110000.0,50000.0,32000.0,50000.0,52650.0,36000.0,79000.0,40000.0,35400.0,45000.0,30412.0,62100.0,30000.0,50000.0,35360.0,42000.0,20000.0,45840.0,103000.0,45000.0,36000.0,42000.0,50004.0,53616.0,22000.0,31200.0,30000.0,45000.0,43000.0,88500.0,54000.0,48000.0,307000.0,70200.0,101424.0,42000.0,108000.0,72400.0,130000.0,44000.0,78000.0,35280.0,29100.0,28404.0,70000.0,60000.0,35000.0,44600.0,74700.0,65000.0,52000.0,60000.0,50000.0,51000.0,24000.0,110000.0,30000.0,58075.0,120000.0,48000.0,49600.0,129700.0,63000.0,38000.0,40560.0,68508.0,62000.0,60000.0,26400.0,50049.0,168000.0,110000.0,40000.0,156000.0,74000.0,71000.0,90000.0,35000.0,52000.0,60000.0,53000.0,39996.0,53500.0,83000.0,145000.0,59000.0,35000.0,118000.0,39325.0,98000.0,44000.0,58000.0,52000.0,40000.0,60000.0,60000.0,57800.0,34000.0,78000.0,62000.0,35000.0,56004.0,52000.0,51000.0,65004.0,61776.0,31200.0,68004.0,30000.0,48600.0,110000.0,90000.0,84000.0,29000.0,230004.0,41000.0,52000.0,58170.0,82000.0,43000.0,75000.0,40000.0,75000.0,78000.0,51000.0,24000.0,45000.0,45000.0,54996.0,66500.0,60000.0,54000.0,66996.0,83000.0,120000.0,65520.0,87000.0,115000.0,57312.0,47515.0,64000.0,54000.0,81000.0,54000.0,48000.0,31200.0,60000.0,80000.0,43000.0,73600.0,60000.0,35000.0,69000.0,66000.0,59000.0,32000.0,65000.0,110000.0,36000.0,70000.0,18000.0,40000.0,69000.0,33600.0,28000.0,30000.0,115000.0,50000.0,52000.0,27000.0,52400.0,65000.0,44700.0,54000.0,46500.0,60000.0,60000.0,37000.0,24000.0,96000.0,44000.0,62000.0,29780.0,50700.0,46000.0,55000.0,122004.0,45000.0,135000.0,115000.0,31000.0,48000.0,45100.0,48000.0,60000.0,60000.0,67440.0,65000.0,146000.0,43000.0,37000.0,69996.0,103000.0,38000.0,50000.0,45600.0,49000.0,80000.0,113698.0,150000.0,56000.0,65000.0,300000.0,52800.0,78000.0,50000.0,50000.0,24000.0,45000.0,86004.0,21888.0,85000.0,160000.0,45000.0,51000.0,140000.0,44500.0,52000.0,56000.0,70000.0,30000.0,68000.0,103832.0,48450.0,83004.0,100000.0,60000.0,67000.0,75000.0,34000.0,85200.0,25000.0,80004.0,32000.0,165000.0,72000.0,100000.0,58000.0,65000.0,52000.0,33600.0,50000.0,60000.0,76597.0,60000.0,25000.0,45000.0,87000.0,120000.0,27000.0,57500.0,185000.0,54000.0,85000.0,100000.0,36000.0,85000.0,174000.0,50000.0,110000.0,48000.0,36000.0,31500.0,34000.0,33316.0,80000.0,60000.0,60000.0,57600.0,50000.0,29700.0,42000.0,34977.0,71328.0,7500.0,68000.0,120000.0,21000.0,69000.0,45000.0,16120.0,40000.0,58000.0,69000.0,54000.0,36960.0,92000.0,24000.0,44000.0,19200.0,47000.0,175000.0,100815.0,80000.0,143000.0,75000.0,40000.0,63000.0,133000.0,62916.0,88596.0,30000.0,63177.0,60000.0,154000.0,35000.0,54000.0,77350.0,47000.0,113217.0,45000.0,45996.0,50004.0,45000.0,30000.0,52000.0,122000.0,36000.0,30000.0,35000.0,65000.0,38000.0,47000.0,42000.0,111000.0,73000.0,30000.0,30000.0,51996.0,98000.0,40000.0,30000.0,95000.0,97000.0,75000.0,26400.0,30000.0,71000.0,17280.0,53500.0,18000.0,42000.0,69000.0,34662.0,26400.0,115000.0,158000.0,80000.0,83004.0,60000.0,240000.0,80000.0,68000.0,69000.0,27600.0,103000.0,34000.0,84000.0,120000.0,75000.0,34000.0,42000.0,170000.0,37900.0,20000.0,44000.0,80000.0,30000.0,35000.0,32004.0,84000.0,40000.0,42000.0,29856.0,26000.0,42600.0,30000.0,60000.0,37500.0,28800.0,50500.0,37200.0,32000.0,80000.0,66000.0,60000.0,80000.0,72000.0,125004.0,90000.0,72000.0,84000.0,18000.0,22000.0,64800.0,52596.0,65454.0,65500.0,48500.0,112689.0,60000.0,22000.0,36000.0,43000.0,48000.0,79000.0,94965.0,79500.0,34000.0,31000.0,18000.0,36000.0,24000.0,52000.0,97000.0,102000.0,64000.0,33200.0,78000.0,58000.0,18000.0,55000.0,68000.0,55700.0,50000.0,60000.0,47800.0,50000.0,21000.0,67000.0,122000.0,45000.0,80000.0,113000.0,19200.0,79560.0,30600.0,29000.0,96000.0,92000.0,179000.0,32004.0,162000.0,49032.0,75000.0,33900.0,70000.0,57655.0,122000.0,53004.0,85000.0,80000.0,136000.0,37344.0,27600.0,127741.0,27996.0,42000.0,35000.0,55600.0,74800.0,51000.0,42000.0,48000.0,59000.0,38500.0,34040.0,65000.0,50000.0,50000.0,72000.0,27000.0,90000.0,50000.0,91000.0,120000.0,34000.0,36000.0,60000.0,74000.0,48000.0,66996.0,40000.0,42000.0,61000.0,37500.0,70000.0,55000.0,65000.0,45000.0,46151.0,80400.0,42000.0,54000.0,13200.0,69764.0,12000.0,54000.0,20400.0,51000.0,71000.0,48255.0,42000.0,20400.0,94000.0,95000.0,25200.0,100000.0,18000.0,150000.0,34000.0,30000.0,71000.0,100000.0,145000.0,40000.0,86000.0,50000.0,59363.0,62496.0,38400.0,30000.0,81120.0,88200.0,92000.0,190000.0,31200.0,44000.0,30000.0,110000.0,65000.0,40800.0,60000.0,18000.0,31200.0,84000.0,42000.0,62200.0,75000.0,22000.0,143375.0,39000.0,46000.0,27052.0,122500.0,102240.0,100000.0,47000.0,175000.0,52500.0,50000.0,82000.0,27000.0,37000.0,300000.0,39672.0,165000.0,56000.0,108000.0,80000.0,105000.0,70000.0,100000.0,34310.0,88000.0,115000.0,92000.0,125000.0,24996.0,70000.0,65000.0,29000.0,38000.0,31200.0,90000.0,45480.0,52692.0,34000.0,70000.0,27000.0,244000.0,88000.0,28000.0,55000.0,30000.0,37965.0,49000.0,33000.0,59000.0,82000.0,55000.0,27000.0,50000.0,55000.0,120000.0,91800.0,30000.0,75000.0,30000.0,220000.0,37740.0,50000.0,31224.0,85000.0,22000.0,27000.0,23000.0,58200.0,140004.0,200000.0,48000.0,114440.0,46610.0,64000.0,68000.0,144000.0,56136.0,55000.0,75000.0,123000.0,85000.0,36000.0,59506.0,100000.0,21340.0,54000.0,34000.0,145008.0,99000.0,42000.0,60000.0,100300.0,200000.0,54996.0,120000.0,55000.0,44004.0,82000.0,78200.0,41000.0,77250.0,42000.0,58650.0,85000.0,52800.0,95111.0,80400.0,40000.0,50000.0,70000.0,40000.0,76000.0,105000.0,43200.0,31200.0,49000.0,40000.0,26004.0,49800.0,52000.0,70500.0,69000.0,80000.0,30000.0,88000.0,40000.0,88824.0,39600.0,84000.0,44700.0,172000.0,636000.0,33600.0,15840.0,137000.0,49000.0,75000.0,31000.0,18460.0,60000.0,60000.0,82000.0,48000.0,32000.0,18000.0,24000.0,50004.0,78000.0,26400.0,75000.0,92000.0,120000.0,122500.0,52000.0,100000.0,64049.0,133000.0,90000.0,110000.0,41000.0,32400.0,40000.0,70000.0,55000.0,92000.0,120000.0,39996.0,65000.0,125000.0,115000.0,65000.0,71000.0,70000.0,105000.0,63000.0,65000.0,21000.0,65004.0,80000.0,38200.0,45000.0,88824.0,57000.0,130000.0,59000.0,48000.0,39600.0,54996.0,200000.0,53000.0,43000.0,60000.0,49000.0,29962.0,160000.0,50000.0,116899.0,123000.0,21600.0,306000.0,39000.0,36000.0,32000.0,66560.0,42108.0,80000.0,58000.0,40000.0,18000.0,85000.0,125000.0,39240.0,96000.0,45000.0,35000.0,78700.0,29000.0,102000.0,59600.0,60000.0,37000.0,55488.0,70000.0,38000.0,57000.0,52000.0,91992.0,99996.0,29000.0,101000.0,40000.0,42000.0,33996.0,70000.0,18500.0,38500.0,38000.0,54000.0,190000.0,104550.0,70032.0,60000.0,138000.0,48000.0,40020.0,29406.0,47300.0,24000.0,80000.0,40800.0,54600.0,140000.0,60000.0,66300.0,50000.0,36500.0,65000.0,58000.0,50004.0,39996.0,65000.0,118000.0,42600.0,56400.0,73185.0,33000.0,65000.0,96000.0,73200.0,53808.0,55000.0,69935.0,75000.0,39600.0,52000.0,42000.0,22880.0,140000.0,80000.0,30000.0,36000.0,90000.0,60000.0,70572.0,53000.0,60000.0,30000.0,49700.0,60350.0,38000.0,45000.0,30000.0,71400.0,41000.0,56525.0,45000.0,85000.0,52000.0,60000.0,132000.0,95000.0,130000.0,37000.0,66000.0,87000.0,44000.0,102000.0,45000.0,83000.0,210000.0,140000.0,52739.0,45500.0,53000.0,19632.0,95000.0,29736.0,36000.0,25000.0,24000.0,55000.0,52000.0,100000.0,66396.0,54000.0,26400.0,45000.0,51000.0,20400.0,24000.0,47000.0,95000.0,56000.0,250000.0,51000.0,54000.0,13000.0,24000.0,49000.0,106000.0,28800.0,94500.0,37200.0,54000.0,55160.0,70000.0,106000.0,100000.0,40934.0,35000.0,108717.0,36000.0,40000.0,14400.0,55000.0,200000.0,120000.0,58000.0,115000.0,75000.0,29000.0,32200.0,56000.0,40000.0,98000.0,65000.0,110000.0,44000.0,79000.0,46560.0,30000.0,78000.0,27500.0,98000.0,90000.0,32640.0,135000.0,54000.0,59000.0,40000.0,67596.0,105000.0,36000.0,72000.0,29000.0,114000.0,63000.0,160000.0,32000.0,33504.0,45900.0,20928.0,50000.0,36000.0,20000.0,204000.0,77000.0,66300.0,79500.0,125000.0,70000.0,19200.0,96050.0,45843.0,231252.0,43000.0,185000.0,129996.0,40000.0,71000.0,65000.0,36000.0,32000.0,40000.0,150000.0,45432.0,24000.0,350000.0,36000.0,65000.0,78700.0,51000.0,56000.0,27600.0,87000.0,48000.0,66000.0,90000.0,80000.0,39000.0,41000.0,35000.0,90000.0,90000.0,70176.0,70000.0,93000.0,500000.0,17108.0,57000.0,82000.0,95000.0,51600.0,65000.0,95000.0,111000.0,28500.0,228000.0,114000.0,54000.0,130000.0,49000.0,28114.0,41004.0,54288.0,83004.0,37000.0,83203.0,105000.0,60000.0,44000.0,42000.0,58650.0,39432.0,105000.0,72000.0,26000.0,65412.0,110000.0,136112.0,35000.0,50500.0,30000.0,68000.0,28000.0,74000.0,75000.0,108000.0,131400.0,75996.0,24000.0,98518.0,42000.0,50000.0,55200.0,43495.0,49872.0,41000.0,59000.0,95000.0,75000.0,110000.0,39200.0,50055.0,125000.0,61100.0,50000.0,28800.0,45000.0,15000.0,130000.0,36000.0,85500.0,60000.0,44000.0,45000.0,32000.0,71400.0,32000.0,55000.0,95000.0,34000.0,27000.0,90000.0,30000.0,65544.0,65000.0,20400.0,35360.0,58650.0,60000.0,35000.0,78000.0,109200.0,14400.0,23000.0,65000.0,90000.0,98000.0,58868.0,70000.0,68400.0,81600.0,110004.0,50000.0,75000.0,54000.0,94940.0,101500.0,71004.0,53000.0,40500.0,42000.0,51600.0,120000.0,60996.0,60000.0,12000.0,52800.0,26400.0,72000.0,24000.0,78000.0,63000.0,58000.0,60000.0,42000.0,96000.0,45000.0,94000.0,60000.0,49000.0,27880.0,40000.0,38400.0,58000.0,75000.0,55200.0,49000.0,24000.0,95000.0,50000.0,63000.0,55000.0,50000.0,60000.0,49668.0,71000.0,48600.0,29865.0,34500.0,69000.0,35000.0,75000.0,74000.0,21000.0,74628.0,53004.0,70800.0,75000.0,118000.0,45000.0,78000.0,13000.0,57600.0,12000.0,91800.0,52160.0,66420.0,54000.0,51000.0,62900.0,200000.0,132000.0,36000.0,47133.0,70550.0,34200.0,42000.0,65000.0,36000.0,81000.0,62000.0,40000.0,180000.0,44000.0,48000.0,110000.0,40000.0,48000.0,100000.0,68000.0,37392.0,120000.0,68000.0,87000.0,20000.0,30000.0,150000.0,42000.0,90000.0,42240.0,21996.0,76000.0,62000.0,20800.0,54000.0,130000.0,140000.0,52000.0,30000.0,29112.0,78000.0,36000.0,70000.0,65000.0,36000.0,78000.0,18720.0,26000.0,56000.0,80000.0,120775.0,45000.0,44000.0,80000.0,83000.0,110000.0,55000.0,57996.0,50000.0,95000.0,24000.0,40000.0,30000.0,33360.0,59000.0,70000.0,16800.0,88000.0,48000.0,160000.0,23000.0,112976.0,32400.0,40000.0,58000.0,137000.0,115000.0,45000.0,65000.0,32004.0,24000.0,50000.0,115900.0,44000.0,37000.0,62000.0,96000.0,38000.0,65000.0,63000.0,19136.0,120000.0,150000.0,29000.0,35000.0,50000.0,78000.0,34000.0,55400.0,78720.0,96000.0,26400.0,75000.0,61200.0,10000.0,38400.0,38000.0,50000.0,14400.0,75000.0,53532.0,45000.0,52000.0,55000.0,31000.0,42000.0,63250.0,68000.0,97000.0,72000.0,125000.0,65000.0,62000.0,44500.0,70000.0,67000.0,63000.0,12996.0,35000.0,57996.0,36000.0,44000.0,40000.0,175000.0,84998.0,70224.0,55000.0,50000.0,205000.0,38760.0,19896.0,25200.0,58650.0,75000.0,48000.0,43000.0,43000.0,52000.0,39000.0,18700.0,56000.0,72500.0,71000.0,34000.0,48000.0,54000.0,57600.0,60500.0,136000.0,87000.0,65000.0,48192.0,91000.0,81120.0,24856.0,57000.0,36000.0,189000.0,48000.0,29500.0,70000.0,60000.0,13806.0,49000.0,47004.0,174000.0,33000.0,42000.0,65900.0,95000.0,55000.0,130000.0,27360.0,36000.0,69000.0,78000.0,67000.0,26000.0,50000.0,70560.0,75000.0,70000.0,54000.0,90000.0,36000.0,33000.0,39000.0,73000.0,90000.0,91000.0,165000.0,85000.0,84996.0,46140.0,45000.0,52000.0,77000.0,90000.0,45000.0,180000.0,100000.0,170000.0,37000.0,128500.0,84000.0,80000.0,50000.0,32496.0,30000.0,185000.0,107004.0,58000.0,45000.0,76500.0,16800.0,74984.0,22680.0,92000.0,50252.0,39000.0,83100.0,34800.0,35325.0,92004.0,30000.0,125000.0,86028.0,31200.0,40000.0,200000.0,74800.0,21312.0,112000.0,72000.0,63000.0,55000.0,180000.0,43200.0,82000.0,69996.0,120000.0,54400.0,26000.0,21600.0,63600.0,54000.0,37423.0,120000.0,60000.0,27036.0,24000.0,105000.0,48000.0,85000.0,35004.0,61000.0,36000.0,60000.0,32000.0,31008.0,57400.0,50500.0,59400.0,42000.0,21000.0,234000.0,80400.0,25344.0,54000.0,43200.0,64000.0,72000.0,35000.0,51000.0,150000.0,22600.0,76200.0,58000.0,24960.0,58000.0,36500.0,49000.0,36000.0,44160.0,16000.0,55800.0,45600.0,60000.0,29040.0,105996.0,48000.0,125000.0,42000.0,75000.0,78000.0,94773.0,140000.0,65000.0,36000.0,90000.0,54860.0,71201.0,130000.0,63000.0,148000.0,19200.0,48000.0,500000.0,381450.0,27031.0,31000.0,13000.0,65000.0,109720.0,92000.0,70000.0,90000.0,37000.0,24000.0,43000.0,159996.0,165000.0,148000.0,150000.0,15300.0,15000.0,37000.0,42000.0,125000.0,59000.0,170000.0,69528.0,90000.0,53000.0,125000.0,98400.0,38400.0,25000.0,50950.0,18000.0,16800.0,15360.0,52000.0,59000.0,46000.0,130000.0,91800.0,36000.0,84000.0,80700.0,42000.0,48000.0,78504.0,33280.0,120000.0,70000.0,30500.0,50000.0,80000.0,140000.0,39000.0,52000.0,54000.0,61000.0,40000.0,52000.0,65000.0,29000.0,39600.0,60000.0,42320.0,35500.0,94500.0,59520.0,90000.0,151000.0,31000.0,85000.0,75000.0,91000.0,83000.0,36000.0,93000.0,48000.0,65000.0,52000.0,130000.0,50000.0,83000.0,21000.0,28000.0,52000.0,134000.0,56000.0,50000.0,130000.0,60000.0,30000.0,155000.0,45000.0,108366.0,70000.0,55000.0,35000.0,40000.0,29000.0,50000.0,85000.0,40000.0,48000.0,51160.0,39000.0,59000.0,30000.0,31000.0,86000.0,32000.0,36400.0,76000.0,24000.0,65000.0,94000.0,83236.0,51600.0,91000.0,63000.0,48500.0,30000.0,30000.0,116400.0,36000.0,25000.0,55000.0,48000.0,24000.0,33600.0,37000.0,75000.0,62280.0,73000.0,60000.0,75000.0,60000.0,52800.0,65000.0,129996.0,92000.0,83800.0,64000.0,53000.0,39600.0,36000.0,77004.0,133900.0,46500.0,50000.0,66000.0,30000.0,120000.0,22000.0,102000.0,145124.0,57000.0,36000.0,43000.0,110000.0,137004.0,160000.0,80000.0,445000.0,110000.0,60000.0,67619.0,85000.0,85000.0,45996.0,81996.0,107000.0,65000.0,48000.0,24000.0,85000.0,64000.0,62050.0,110000.0,28800.0,110000.0,52000.0,52000.0,53408.0,85000.0,42000.0,60000.0,135000.0,86100.0,72960.0,25000.0,102552.0,50000.0,90000.0,45000.0,55000.0,114400.0,38000.0,51000.0,42000.0,35000.0,36000.0,19200.0,82000.0,21600.0,83000.0,50000.0,33280.0,40000.0,46000.0,88000.0,95000.0,63504.0,59300.0,38244.0,53000.0,40800.0,37000.0,62500.0,80300.0,97700.0,23000.0,55200.0,25500.0,35000.0,150000.0,26400.0,38000.0,104000.0,35000.0,30000.0,54000.0,36000.0,50400.0,45888.0,79500.0,80000.0,62400.0,122000.0,115000.0,24960.0,45000.0,76000.0,50004.0,85000.0,30000.0,48000.0,30000.0,94500.0,36000.0,130208.0,42000.0,75000.0,80208.0,173088.0,50000.0,55000.0,80000.0,80000.0,145000.0,45000.0,27600.0,67500.0,70000.0,61754.0,66000.0,66000.0,81000.0,70000.0,42000.0,122400.0,35808.0,98000.0,54000.0,85000.0,19200.0,26729.0,65200.0,57000.0,47500.0,137000.0,50000.0,336000.0,70000.0,77500.0,84000.0,110000.0,108000.0,60520.0,30000.0,45000.0,30000.0,59000.0,57960.0,28000.0,72000.0,62400.0,85000.0,50000.0,95004.0,68000.0,28000.0,55000.0,49995.0,30000.0,31000.0,130000.0,59000.0,34000.0,30000.0,34000.0,106000.0,170000.0,15000.0,44000.0,42500.0,80000.0,40000.0,18000.0,48000.0,29000.0,142800.0,54000.0,52000.0,30996.0,170000.0,25200.0,42000.0,90900.0,20000.0,144000.0,62400.0,77000.0,123000.0,90000.0,84780.0,43200.0,57000.0,30857.0,36500.0,38000.0,40000.0,112000.0,151000.0,65000.0,46000.0,54000.0,36000.0,78996.0,56000.0,75000.0,37500.0,120000.0,50000.0,64000.0,35350.0,200000.0,59000.0,85000.0,37273.0,60626.0,81000.0,32400.0,50004.0,225000.0,47300.0,50000.0,33280.0,28000.0,86000.0,45000.0,72000.0,47700.0,50000.0,24000.0,105000.0,61000.0,66000.0,50004.0,66125.0,58000.0,38000.0,50960.0,50952.0,83290.0,45000.0,60000.0,75000.0,31200.0,23920.0,105000.0,85000.0,27600.0,78000.0,50004.0,33600.0,189996.0,57000.0,48000.0,30000.0,60000.0,126000.0,87200.0,102616.0,36129.0,175000.0,66300.0,35360.0,62000.0,39000.0,80000.0,35000.0,163000.0,66300.0,22000.0,29000.0,81193.0,35000.0,27600.0,86000.0,35000.0,60000.0,31000.0,56000.0,76668.0,48000.0,27456.0,47900.0,28968.0,67000.0,66000.0,30000.0,29496.0,34928.0,47000.0,154000.0,90996.0,27600.0,96000.0,33000.0,21600.0,80690.0,76000.0,43000.0,51996.0,50000.0,50052.0,55000.0,63000.0,112500.0,60000.0,33600.0,38014.0,50000.0,73248.0,26000.0,84000.0,26400.0,60000.0,56972.0,135000.0,65000.0,32000.0,42000.0,30000.0,20000.0,125000.0,75600.0,275000.0,36000.0,780000.0,44975.0,53000.0,120000.0,45000.0,19200.0,76800.0,33600.0,52600.0,35000.0,99000.0,60000.0,100000.0,80000.0,49000.0,37000.0,53000.0,45000.0,40800.0,130000.0,98000.0,50000.0,35004.0,43000.0,75000.0,85000.0,73000.0,120000.0,41000.0,66500.0,54252.0,105000.0,68648.0,62000.0,73660.0,106000.0,62500.0,68000.0,44000.0,67000.0,34000.0,34000.0,54000.0,45000.0,93080.0,36000.0,52000.0,55000.0,150000.0,200004.0,64956.0,110000.0,66300.0,92700.0,46500.0,82000.0,112000.0,72000.0,85000.0,310400.0,20000.0,110000.0,90000.0,70000.0,98480.0,113000.0,57000.0,47088.0,75000.0,84000.0,41000.0,54000.0,45000.0,160000.0,50000.0,75000.0,45000.0,19200.0,72000.0,81000.0,38400.0,48000.0,114000.0,65000.0,61080.0,65000.0,54996.0,33000.0,67807.0,35000.0,39000.0,75000.0,24000.0,120000.0,67000.0,40800.0,92259.0,35000.0,71000.0,48852.0,40000.0,40000.0,103000.0,82000.0,75000.0,125000.0,75000.0,45600.0,57500.0,160000.0,65000.0,210000.0,44796.0,50000.0,100000.0,40000.0,29004.0,110000.0,54000.0,43200.0,86800.0,38000.0,67000.0,80000.0,114600.0,28080.0,25200.0,61500.0,49000.0,56784.0,45000.0,28800.0,42000.0,30000.0,86000.0,45000.0,85000.0,46500.0,40000.0,100000.0,35000.0,47472.0,74415.0,52000.0,83904.0,57504.0,31000.0,64000.0,44400.0,27804.0,48000.0,65000.0,54000.0,38000.0,50000.0,36000.0,30000.0,52000.0,60000.0,36000.0,24996.0,119500.0,55000.0,56004.0,125004.0,70550.0,31000.0,66000.0,30000.0,130000.0,28800.0,33300.0,40000.0,54000.0,24000.0,93500.0,26400.0,78000.0,61600.0,86000.0,84000.0,27500.0,112500.0,95000.0,37000.0,80000.0,160000.0,69996.0,69000.0,63440.0,44000.0,97000.0,51012.0,34000.0,115000.0,94000.0,60000.0,280000.0,84000.0,58800.0,53000.0,80000.0,31000.0,53550.0,70000.0,95000.0,50000.0,41000.0,36000.0,200000.0,50285.0,21600.0,16800.0,65000.0,45000.0,24000.0,79000.0,75000.0,44000.0,49000.0,44000.0,54000.0,80000.0,39000.0,42000.0,34000.0,71000.0,36000.0,80000.0,110000.0,60000.0,66000.0,225000.0,45000.0,156000.0,92000.0,30000.0,120000.0,45996.0,54996.0,50000.0,160000.0,81996.0,24000.0,120000.0,27036.0,39996.0,78700.0,43200.0,15600.0,60000.0,65004.0,98000.0,51996.0,29000.0,24000.0,49000.0,36000.0,73000.0,50000.0,44000.0,17004.0,14400.0,100505.0,42000.0,90000.0,34000.0,35000.0,73200.0,30000.0,42000.0,120000.0,50000.0,79416.0,138000.0,125000.0,98000.0,67500.0,63000.0,80500.0,31440.0,204000.0,31400.0,30120.0,45000.0,32400.0,56000.0,86000.0,40000.0,127000.0,120000.0,68000.0,65000.0,21600.0,37800.0,27000.0,48000.0,48000.0,95680.0,125000.0,84996.0,55000.0,108000.0,36000.0,61150.0,85000.0,90000.0,59000.0,780000.0,68000.0,36000.0,30000.0,79200.0,47000.0,50000.0,33000.0,84000.0,82000.0,39000.0,96000.0,21000.0,56004.0,44000.0,69000.0,155142.0,55000.0,30000.0,170000.0,159600.0,32000.0,50000.0,41745.0,36000.0,70000.0,49548.0,39000.0,68000.0,100000.0,70236.0,93000.0,45150.0,115000.0,56403.0,20400.0,74000.0,115154.0,45200.0,35004.0,28000.0,42000.0,34000.0,54000.0,75971.0,61500.0,29004.0,65000.0,80004.0,44000.0,44000.0,88000.0,75500.0,62500.0,59000.0,70000.0,21000.0,30720.0,50000.0,74000.0,102000.0,95000.0,90000.0,80000.0,84000.0,135000.0,39000.0,76000.0,80000.0,22800.0,62000.0,37000.0,58000.0,45000.0,40000.0,36400.0,115000.0,36400.0,55044.0,20000.0,84000.0,44000.0,27600.0,71000.0,81000.0,59000.0,30000.0,150000.0,104000.0,180000.0,34000.0,60000.0,68000.0,30000.0,91000.0,55000.0,30000.0,175000.0,32000.0,12000.0,136000.0,30792.0,32000.0,100000.0,54000.0,126500.0,52000.0,85000.0,190000.0,113000.0,48500.0,62000.0,51000.0,75000.0,82000.0,57100.0,100000.0,51000.0,62000.0,90000.0,60000.0,46000.0,30960.0,85000.0,42000.0,50000.0,44449.0,53000.0,34800.0,58650.0,24000.0,120000.0,94000.0,36000.0,132000.0,42000.0,68000.0,50000.0,300000.0,60000.0,8500.0,75000.0,78000.0,54000.0,22884.0,48000.0,75000.0,85000.0,91800.0,62004.0,70000.0,85000.0,86000.0,70000.0,44000.0,38000.0,85000.0,84000.0,50000.0,88000.0,62900.0,86000.0,97000.0,30000.0,66000.0,72000.0,40000.0,16800.0,33009.0,35000.0,57996.0,107004.0,75000.0,115000.0,120000.0,44000.0,47184.0,220000.0,57248.0,114000.0,61000.0,26004.0,47000.0,45000.0,40000.0,48000.0,55000.0,47928.0,85000.0,108000.0,50004.0,38196.0,60000.0,37000.0,53000.0,47700.0,65000.0,27442.0,72000.0,75000.0,69996.0,47160.0,90000.0,47000.0,77000.0,38000.0,33500.0,69000.0,115500.0,130050.0,40000.0,15000.0,78948.0,67775.0,30000.0,70000.0,22800.0,110500.0,24000.0,28000.0,57355.0,84191.0,34800.0,87000.0,70000.0,48000.0,36000.0,63000.0,45576.0,35000.0,59000.0,30000.0,105000.0,84000.0,113500.0,62000.0,35000.0,24947.0,40040.0,130000.0,40000.0,52000.0,50000.0,53000.0,30000.0,38400.0,98000.0,69764.0,155000.0,100000.0,45000.0,24996.0,19200.0,69000.0,50000.0,39000.0,200000.0,102000.0,113004.0,38000.0,60996.0,65000.0,50000.0,34000.0,63500.0,45240.0,36000.0,47840.0,24000.0,82000.0,66000.0,32000.0,57996.0,57431.0,35000.0,30000.0,118189.0,42000.0,68375.0,160000.0,58000.0,48000.0,43200.0,46000.0,60480.0,60000.0,65000.0,35000.0,24000.0,120000.0,34000.0,65000.0,105000.0,65000.0,125000.0,47500.0,400000.0,84000.0,26400.0,75000.0,40000.0,45000.0,70000.0,30000.0,42000.0,48000.0,42000.0,55000.0,52000.0,24000.0,62900.0,56000.0,60000.0,20004.0,58000.0,109000.0,30000.0,92000.0,52000.0,50000.0,79536.0,32900.0,26000.0,71400.0,130000.0,106000.0,49000.0,24000.0,36700.0,90000.0,113000.0,55000.0,74000.0,80004.0,40000.0,100000.0,51750.0,89000.0,57000.0,47000.0,15090.0,280000.0,33000.0,80000.0,97000.0,60000.0,95000.0,80000.0,60000.0,42000.0,49680.0,60000.0,32000.0,45000.0,30000.0,40000.0,40000.0,15192.0,62000.0,12000.0,240000.0,27000.0,96000.0,95000.0,47000.0,150000.0,36000.0,31200.0,85000.0,33195.0,60000.0,44000.0,48000.0,66000.0,32000.0,36300.0,66996.0,46000.0,37000.0,26000.0,22000.0,77237.0,45000.0,48000.0,39400.0,44000.0,49000.0,62000.0,57500.0,117300.0,63000.0,56996.0,102000.0,28800.0,54000.0,25000.0,70596.0,45000.0,45000.0,65004.0,121000.0,67000.0,61476.0,55000.0,26400.0,79800.0,75000.0,30000.0,46000.0,56004.0,73000.0,40000.0,40000.0,26400.0,44000.0,85000.0,47000.0,28800.0,110000.0,60500.0,68000.0,117500.0,68000.0,28000.0,85100.0,52000.0,40000.0,35000.0,39456.0,125000.0,40000.0,300000.0,31800.0,28500.0,30000.0,40000.0,25000.0,50496.0,39862.0,100111.0,36000.0,30000.0,18720.0,102000.0,72000.0,69000.0,15000.0,61300.0,95004.0,34000.0,48000.0,120000.0,30000.0,140000.0,325000.0,30000.0,77000.0,42240.0,40000.0,47000.0,95000.0,40000.0,80400.0,121200.0,44000.0,30000.0,31000.0,88000.0,28000.0,45000.0,46000.0,30000.0,90000.0,200000.0,37000.0,50000.0,47844.0,24000.0,66000.0,90000.0,28500.0,68000.0,55000.0,90000.0,82000.0,17376.0,31200.0,24000.0,54000.0,101000.0,75885.0,60500.0,57000.0,132000.0,74000.0,91700.0,41604.0,43772.0,65000.0,110000.0,80000.0,50000.0,26000.0,54000.0,38000.0,74000.0,78300.0,32000.0,44000.0,42000.0,52000.0,62900.0,34900.0,83000.0,115000.0,45000.0,105000.0,46000.0,31000.0,16000.0,61000.0,115000.0,49200.0,65000.0,67000.0,30000.0,50000.0,64000.0,15000.0,70000.0,50000.0,25000.0,60500.0,56000.0,53000.0,54000.0,105000.0,50000.0,95000.0,56200.0,36000.0,26000.0,75000.0,49000.0,83000.0,21000.0,35000.0,118000.0,47000.0,43000.0,54000.0,33500.0,95142.0,68000.0,35360.0,40000.0,75000.0,59000.0,286000.0,130000.0,68000.0,95200.0,40000.0,85000.0,14400.0,37000.0,96000.0,42000.0,35640.0,93000.0,80000.0,61000.0,53976.0,24000.0,24000.0,103044.0,65000.0,65000.0,100000.0,26000.0,75000.0,37676.0,40000.0,80000.0,71000.0,90000.0,66000.0,62000.0,30000.0,24000.0,71000.0,55259.0,42000.0,40000.0,42000.0,33996.0,23000.0,30000.0,60000.0,41000.0,62000.0,26010.0,105000.0,49200.0,39600.0,88000.0,120000.0,110000.0,54000.0,45000.0,42000.0,60000.0,24000.0,43000.0,31000.0,40000.0,25200.0,60000.0,265000.0,106369.0,40404.0,144000.0,56048.0,54100.0,23800.0,37200.0,22884.0,58000.0,56100.0,50700.0,181000.0,30996.0,75797.0,57996.0,54000.0,99996.0,75531.0,32400.0,85272.0,82000.0,119004.0,69000.0,50000.0,120000.0,62892.0,30000.0,125004.0,96500.0,30000.0,60000.0,40000.0,78000.0,50000.0,38004.0,72000.0,72000.0,24000.0,52000.0,28000.0,26400.0,100080.0,93500.0,52000.0,44000.0,43971.0,65000.0,36120.0,128000.0,75000.0,100000.0,42000.0,62000.0,65000.0,77000.0,90000.0,49000.0,118000.0,54990.0,70000.0,51840.0,58650.0,35020.0,75000.0,47900.0,38400.0,44000.0,28800.0,62692.0,44400.0,30000.0,137000.0,60000.0,52000.0,25480.0,60000.0,22800.0,34000.0,132000.0,122000.0,53004.0,192000.0,34000.0,140000.0,48000.0,60000.0,103000.0,68004.0,85000.0,78000.0,53004.0,57000.0,48000.0,42000.0,54600.0,40000.0,42224.0,68340.0,30000.0,65000.0,45000.0,49000.0,159996.0,60000.0,29100.0,185000.0,64464.0,72000.0,62000.0,100000.0,80000.0,38112.0,55000.0,50000.0,32004.0,72000.0,50000.0,50000.0,38400.0,30000.0,31200.0,80000.0,21360.0,80004.0,68000.0,31000.0,95000.0,46000.0,62502.0,55000.0,88000.0,36684.0,41200.0,68000.0,30000.0,23000.0,55000.0,55530.0,23520.0,20400.0,39000.0,72000.0,30720.0,61200.0,38400.0,49600.0,50000.0,60000.0,58000.0,96000.0,25000.0,65000.0,35000.0,61350.0,130000.0,22000.0,84000.0,39996.0,55000.0,125004.0,102368.0,60675.0,70000.0,54400.0,46000.0,52000.0,90000.0,88000.0,24000.0,90000.0,15600.0,141000.0,54996.0,45378.0,78000.0,36000.0,44600.0,75000.0,65004.0,75000.0,38420.0,88000.0,100000.0,48000.0,31000.0,49635.0,95000.0,40000.0,50820.0,65004.0,80500.0,67275.0,50000.0,26400.0,70500.0,77000.0,28800.0,24960.0,44000.0,38000.0,70000.0,38000.0,63000.0,160000.0,30000.0,30000.0,55000.0,116400.0,37200.0,60000.0,138000.0,48000.0,55000.0,120000.0,31200.0,65000.0,56888.0,285000.0,35900.0,166000.0,84000.0,42000.0,87000.0,31200.0,51600.0,20000.0,47004.0,26688.0,60000.0,142000.0,36000.0,15600.0,41000.0,24000.0,126500.0,80000.0,82000.0,135000.0,51000.0,96500.0,35004.0,55000.0,36000.0,57468.0,85000.0,72000.0,96000.0,48500.0,65000.0,41808.0,61000.0,21000.0,90000.0,25200.0,23868.0,56000.0,250000.0,75000.0,26000.0,49493.0,125000.0,63996.0,41200.0,125000.0,40800.0,115000.0,115000.0,50000.0,20004.0,78000.0,64000.0,35000.0,65748.0,82524.0,110000.0,100000.0,75000.0,84000.0,15000.0,66300.0,72054.0,72000.0,115000.0,70000.0,51000.0,120000.0,65000.0,99000.0,51000.0,45691.0,24996.0,56004.0,30000.0,153000.0,12000.0,32004.0,48996.0,49000.0,31836.0,67500.0,60000.0,22800.0,98000.0,60000.0,34000.0,55000.0,71400.0,124886.0,44000.0,29950.0,28650.0,62000.0,66300.0,23004.0,46000.0,34500.0,42000.0,38000.0,97850.0,75000.0,24996.0,43000.0,12360.0,51000.0,30000.0,76250.0,50000.0,32004.0,35000.0,34000.0,116664.0,68000.0,84000.0,75000.0,70000.0,27993.0,54590.0,35352.0,55260.0,45000.0,125000.0,36000.0,35100.0,24000.0,90000.0,34480.0,36000.0,36000.0,107000.0,62000.0,75000.0,49000.0,118000.0,24000.0,39600.0,48000.0,46000.0,75000.0,80300.0,30000.0,90000.0,100000.0,44000.0,18000.0,120000.0,105000.0,240000.0,140000.0,41124.0,44400.0,130000.0,54000.0,40000.0,50000.0,54996.0,96000.0,7800.0,268000.0,38004.0,22178.0,38000.0,32000.0,64000.0,48000.0,14880.0,35000.0,24000.0,61000.0,95000.0,76000.0,88000.0,69000.0,28800.0,32000.0,38400.0,43000.0,41000.0,90000.0,65004.0,30000.0,180000.0,40080.0,120000.0,52800.0,26976.0,138000.0,55000.0,110000.0,29000.0,42000.0,30000.0,39516.0,244800.0,89000.0,52000.0,72000.0,90000.0,59000.0,124800.0,29360.0,62400.0,80000.0,36000.0,65000.0,59800.0,75000.0,48996.0,108000.0,31800.0,104000.0,51456.0,47000.0,14400.0,170000.0,99100.0,73000.0,55000.0,40000.0,57000.0,51000.0,48500.0,93000.0,22404.0,74797.0,60000.0,91154.0,27599.0,138000.0,98000.0,30000.0,80000.0,57600.0,36000.0,118000.0,66000.0,74872.0,78000.0,75600.0,27000.0,93000.0,53851.0,90000.0,40000.0,87000.0,108000.0,60000.0,37200.0,60350.0,44000.0,34000.0,140000.0,17676.0,69996.0,34000.0,24000.0,81000.0,28000.0,150000.0,36000.0,77000.0,27600.0,155000.0,80000.0,50000.0,64600.0,114000.0,55000.0,18000.0,40000.0,56000.0,24000.0,107004.0,82000.0,51000.0,116000.0,81000.0,38000.0,95000.0,68000.0,44004.0,85596.0,24000.0,46890.0,130000.0,38769.0,80000.0,70000.0,52000.0,29000.0,24000.0,50000.0,85000.0,190000.0,110000.0,24960.0,65000.0,56000.0,125000.0,40000.0,90000.0,14400.0,53004.0,57000.0,42000.0,200000.0,55000.0,44004.0,39996.0,53826.0,40000.0,66420.0,4800.0,40800.0,64973.0,90000.0,33650.0,56461.0,153000.0,39000.0,26000.0,82000.0,85000.0,84000.0,30132.0,45000.0,140000.0,55000.0,45000.0,30000.0,95000.0,36000.0,32758.0,65000.0,50000.0,58000.0,34000.0,48000.0,60000.0,60000.0,85000.0,65000.0,85000.0,30123.0,68500.0,42000.0,120000.0,80000.0,95000.0,85000.0,75996.0,29000.0,95000.0,61000.0,69996.0,38400.0,11520.0,47840.0,62500.0,78000.0,115000.0,26400.0,32400.0,62004.0,57996.0,140000.0,22884.0,50000.0,85000.0,24000.0,97000.0,150000.0,99780.0,76000.0,32000.0,101400.0,137720.0,53000.0,55000.0,29088.0,30000.0,65000.0,39600.0,75000.0,60000.0,12000.0,64000.0,80004.0,45000.0,72000.0,42000.0,82500.0,21300.0,31000.0,56000.0,46000.0,75000.0,83004.0,24000.0,40000.0,53000.0,5000.0,64000.0,72500.0,34000.0,32400.0,100000.0,48000.0,69996.0,39960.0,40000.0,35000.0,94000.0,102000.0,170000.0,60996.0,39500.0,50793.0,64000.0,44000.0,30000.0,36000.0,49244.0,35000.0,25200.0,40000.0,72800.0,20000.0,68004.0,50000.0,85000.0,32000.0,55004.0,60000.0,72800.0,140000.0,121000.0,90096.0,85000.0,110196.0,48000.0,58000.0,59928.0,35000.0,138000.0,85000.0,37090.0,95000.0,68000.0,115000.0,42000.0,24000.0,30000.0,30416.0,52249.0,90000.0,24000.0,35000.0,66300.0,79000.0,58000.0,48000.0,30000.0,37500.0,24000.0,150000.0,48000.0,62000.0,34000.0,80000.0,110000.0,90000.0,103000.0,182500.0,78200.0,48000.0,80000.0,21600.0,57720.0,50000.0,55400.0,95000.0,44000.0,20064.0,28000.0,44000.0,28800.0,108000.0,48000.0,70000.0,120000.0,52000.0,120000.0,55000.0,78000.0,56000.0,90000.0,120000.0,34000.0,150000.0,30996.0,82000.0,77000.0,42500.0,22000.0,52660.0,55000.0,32000.0,50985.0,42000.0,120000.0,122000.0,72000.0,70000.0,87500.0,32000.0,28080.0,30720.0,78000.0,55200.0,55000.0,37680.0,77270.0,42000.0,30000.0,55000.0,53400.0,52000.0,97356.0,60000.0,33000.0,142000.0,143000.0,32000.0,54000.0,18000.0,33000.0,40000.0,52000.0,40000.0,82000.0,67000.0,54000.0,72000.0,32000.0,66000.0,60000.0,23004.0,43738.0,90000.0,300000.0,114000.0,15000.0,42000.0,120000.0,44000.0,54000.0,45996.0,54996.0,73000.0,66300.0,60000.0,92000.0,20500.0,24996.0,43000.0,86500.0,200000.0,40000.0,30000.0,66996.0,53000.0,51000.0,33000.0,44000.0,25000.0,21000.0,36000.0,260000.0,31000.0,12000.0,57000.0,94500.0,36400.0,52582.0,90000.0,70000.0,34000.0,97000.0,200000.0,68000.0,32000.0,182500.0,58800.0,32220.0,45000.0,42000.0,29570.0,93000.0,75000.0,52000.0,73000.0,57600.0,92000.0,66996.0,31200.0,49000.0,41600.0,28000.0,65000.0,36000.0,76400.0,123000.0,64320.0,90000.0,62500.0,29102.0,46000.0,21600.0,41000.0,95800.0,62000.0,430000.0,22000.0,65000.0,77385.0,74800.0,73882.0,62000.0,31323.0,28644.0,91200.0,69000.0,37648.0,70000.0,40000.0,140000.0,43920.0,50000.0,29400.0,36184.0,45000.0,72000.0,75000.0,54000.0,91200.0,150000.0,80000.0,52000.0,350000.0,36000.0,116000.0,45000.0,68000.0,48000.0,96000.0,48000.0,46000.0,84000.0,192000.0,76788.0,95000.0,30400.0,76960.0,75000.0,65000.0,42000.0,54000.0,30000.0,25000.0,53000.0,120999.0,400000.0,42000.0,63000.0,26568.0,70500.0,40000.0,25440.0,81000.0,9960.0,63000.0,35000.0,50004.0,30000.0,50000.0,85000.0,35000.0,118500.0,62400.0,34560.0,67746.0,110244.0,80000.0,30000.0,102540.0,71000.0,50000.0,42100.0,22000.0,80000.0,36000.0,55000.0,50000.0,66000.0,29000.0,38004.0,48000.0,36000.0,54400.0,89004.0,9732.0,34800.0,63000.0,31356.0,48996.0,39000.0,15600.0,28000.0,50500.0,42016.0,45673.0,31000.0,33564.0,51600.0,50000.0,150000.0,44000.0,68000.0,350000.0,30225.0,103000.0,22000.0,48712.0,84200.0,34500.0,33600.0,92000.0,33280.0,71000.0,75000.0,55000.0,33000.0,65000.0,100000.0,52000.0,83000.0,34000.0,63000.0,102000.0,72000.0,76464.0,88500.0,42000.0,24500.0,40000.0,27700.0,37400.0,60000.0,34000.0,34000.0,33600.0,275004.0,110000.0,86000.0,78000.0,39600.0,46800.0,168000.0,49296.0,28800.0,115000.0,32450.0,29000.0,50000.0,19000.0,27996.0,70000.0,113000.0,80000.0,140300.0,49000.0,55152.0,64500.0,89520.0,30000.0,54000.0,80000.0,97000.0,80000.0,55000.0,45000.0,36000.0,34560.0,72136.0,139008.0,48000.0,72000.0,68100.0,105000.0,22800.0,29160.0,40800.0,39990.0,60000.0,78000.0,33000.0,39996.0,85000.0,550000.0,43200.0,60000.0,74000.0,87000.0,64000.0,38400.0,56700.0,24000.0,78625.0,81004.0,70000.0,47471.0,36000.0,72000.0,26400.0,60500.0,24000.0,80000.0,72000.0,14800.0,36000.0,60000.0,57000.0,68004.0,68004.0,65600.0,46200.0,70000.0,115000.0,49000.0,64000.0,41400.0,12000.0,39000.0,80000.0,72996.0,120000.0,46000.0,69000.0,103872.0,148000.0,75000.0,70000.0,24168.0,21816.0,40000.0,70000.0,40500.0,85000.0,38000.0,120000.0,42000.0,57996.0,155000.0,107203.0,30000.0,72000.0,21600.0,38000.0,45000.0,27996.0,30000.0,4080.0,40560.0,36000.0,40000.0,45000.0,21600.0,188004.0,61455.0,35000.0,68500.0,110004.0,125000.0,24000.0,100000.0,57504.0,44000.0,83000.0,65000.0,36000.0,36000.0,73000.0,88020.0,40100.0,62256.0,50004.0,41000.0,54000.0,100000.0,31000.0,123000.0,65000.0,46800.0,48602.0,33000.0,63000.0,38000.0,60000.0,118300.0,60000.0,47000.0,34560.0,48000.0,88500.0,79500.0,39000.0,60000.0,40000.0,74600.0,75000.0,52809.0,100000.0,81000.0,24000.0,29120.0,42000.0,38000.0,140000.0,55000.0,30996.0,31200.0,17280.0,15000.0,32000.0,138000.0,114750.0,73100.0,25000.0,106982.0,37200.0,95004.0,60000.0,27600.0,44000.0,46000.0,65000.0,48000.0,48000.0,59000.0,82350.0,75000.0,30720.0,32000.0,35380.0,60000.0,61000.0,25200.0,96000.0,34000.0,38000.0,35000.0,44400.0,110500.0,38000.0,150000.0,44004.0,119700.0,80196.0,72000.0,48000.0,96000.0,28880.0,24000.0,66800.0,62000.0,44470.0,54000.0,50000.0,12000.0,56400.0,45996.0,55000.0,48000.0,50000.0,26400.0,60000.0,19200.0,290000.0,150000.0,215000.0,65004.0,156000.0,70000.0,69000.0,53408.0,69000.0,60000.0,88365.0,55000.0,75000.0,95000.0,48000.0,60000.0,60000.0,12000.0,42000.0,74000.0,290000.0,19600.0,94000.0,50000.0,30000.0,37000.0,70000.0,60589.0,34500.0,100000.0,75000.0,28000.0,92300.0,39000.0,66661.0,70000.0,74004.0,182952.0,36500.0,171870.0,67092.0,63324.0,80004.0,54000.0,77268.0,102996.0,31000.0,47000.0,60000.0,34000.0,105000.0,59000.0,23000.0,97700.0,43200.0,55000.0,54000.0,57000.0,128148.0,30000.0,74196.0,55000.0,227500.0,54000.0,39000.0,48000.0,107000.0,85000.0,88000.0,50176.0,42000.0,90000.0,160000.0,33900.0,76460.0,160000.0,147000.0,31000.0,41000.0,60000.0,35976.0,80000.0,98000.0,48500.0,205000.0,75689.0,110000.0,50000.0,50600.0,125000.0,32400.0,50000.0,47000.0,105000.0,40000.0,77000.0,54000.0,84996.0,60372.0,31000.0,36000.0,43200.0,78000.0,47000.0,45000.0,35000.0,78000.0,73000.0,35004.0,21000.0,106000.0,29000.0,68004.0,40000.0,95000.0,42000.0,120000.0,99996.0,37200.0,42000.0,80000.0,42000.0,34000.0,162000.0,42000.0,52800.0,36000.0,61000.0,42000.0,109500.0,50000.0,75000.0,51000.0,43218.0,43337.0,96000.0,90000.0,30000.0,157500.0,90000.0,48000.0,110000.0,71000.0,36816.0,51600.0,112000.0,135000.0,20000.0,163000.0,58100.0,59000.0,30000.0,250000.0,36100.0,40000.0,101000.0,42000.0,74000.0,120000.0,48000.0,58650.0,125000.0,54000.0,39875.0,10800.0,135000.0,115000.0,44000.0,29000.0,25000.0,50400.0,100000.0,25000.0,36000.0,30000.0,65000.0,150000.0,75000.0,65000.0,41600.0,30000.0,98000.0,36276.0,38244.0,42597.0,74000.0,50000.0,24414.0,75000.0,36000.0,28500.0,50004.0,200004.0,137004.0,98000.0,75181.0,60000.0,81000.0,51000.0,48000.0,52000.0,140000.0,19200.0,38000.0,70000.0,68000.0,50000.0,67000.0,30720.0,86000.0,83004.0,30000.0,42000.0,51850.0,90000.0,32496.0,84000.0,85000.0,46000.0,54000.0,97000.0,123000.0,39000.0,28880.0,52000.0,75000.0,42000.0,120000.0,64800.0,28600.0,37440.0,48000.0,80000.0,28000.0,85000.0,46000.0,41000.0,20280.0,130000.0,47233.0,16800.0,67000.0,74004.0,108000.0,35000.0,60000.0,14400.0,52000.0,32000.0,36000.0,14400.0,73000.0,42000.0,60000.0,98400.0,53004.0,24000.0,64800.0,35000.0,79631.0,80000.0,25000.0,46000.0,74880.0,42000.0,47820.0,200000.0,46000.0,98000.0,65000.0,73600.0,63000.0,34000.0,128000.0,166000.0,50000.0,132000.0,54960.0,119000.0,43000.0,50000.0,14650.0,62000.0,34500.0,41000.0,30000.0,96000.0,76042.0,100000.0,87000.0,22800.0,85392.0,65000.0,50004.0,41004.0,32000.0,42288.0,42000.0,15600.0,23500.0,63600.0,42000.0,39000.0,28500.0,37440.0,112000.0,55000.0,120000.0,48000.0,157544.0,55000.0,60000.0,51000.0,68850.0,30000.0,106921.0,41000.0,16000.0,30000.0,76000.0,40320.0,51996.0,45996.0,26400.0,43633.0,44000.0,74706.0,180000.0,39760.0,97000.0,59000.0,42000.0,70000.0,49600.0,36000.0,91800.0,83500.0,36000.0,60000.0,95610.0,21000.0,28140.0,77385.0,62400.0,62065.0,100000.0,200000.0,42000.0,90000.0,36000.0,46000.0,117014.0,34000.0,34000.0,34000.0,90000.0,105000.0,30000.0,24000.0,15360.0,42328.0,72000.0,90000.0,30000.0,40000.0,250000.0,67000.0,76596.0,65000.0,112000.0,60000.0,40000.0,48000.0,85000.0,86000.0,61000.0,60000.0,40000.0,45600.0,120000.0,52700.0,32400.0,36000.0,120000.0,130000.0,280000.0,71599.0,33996.0,45000.0,60635.0,65000.0,45000.0,40000.0,78200.0,58896.0,39600.0,48500.0,63000.0,24000.0,33000.0,110000.0,43200.0,80000.0,140004.0,46180.0,36996.0,139913.0,107806.0,120000.0,49000.0,45000.0,40000.0,50000.0,56000.0,54500.0,33600.0,80000.0,60000.0,72000.0,35000.0,55000.0,54000.0,45000.0,62250.0,49200.0,39000.0,63750.0,95000.0,75000.0,34000.0,80500.0,100000.0,57000.0,42000.0,40000.0,101004.0,79000.0,110000.0,40000.0,100000.0,80000.0,45000.0,65100.0,65000.0,130000.0,61656.0,122000.0,65000.0,30000.0,92000.0,59000.0,44500.0,26880.0,88000.0,25000.0,33000.0,60000.0,60000.0,48912.0,140000.0,75000.0,225000.0,13806.0,51200.0,43800.0,88000.0,93000.0,38000.0,72000.0,96000.0,350000.0,35004.0,59904.0,19200.0,73000.0,70000.0,152000.0,24000.0,30000.0,30000.0,38000.0,55000.0,56650.0,48000.0,60000.0,40000.0,34500.0,120000.0,51000.0,30000.0,125000.0,97000.0,30000.0,110000.0,30000.0,80000.0,50004.0,41500.0,59000.0,216000.0,102031.0,31200.0,59000.0,155000.0,58000.0,110000.0,50000.0,57000.0,70000.0,61000.0,120000.0,62000.0,54000.0,135000.0,90000.0,15600.0,64000.0,96000.0,200000.0,72800.0,42000.0,145000.0,42000.0,56000.0,65000.0,43000.0,36000.0,130000.0,31200.0,36000.0,103000.0,46000.0,70000.0,75000.0,260000.0,80000.0,53808.0,74400.0,72000.0,34000.0,93000.0,42000.0,20400.0,67171.0,25788.0,79500.0,46800.0,45806.0,80000.0,120000.0,76000.0,44000.0,104000.0,45996.0,54000.0,30000.0,55784.0,85000.0,32200.0,60000.0,31200.0,175000.0,41033.0,44500.0,118000.0,32496.0,69846.0,60682.0,100000.0,40000.0,65000.0,60000.0,52000.0,70000.0,120000.0,32000.0,40000.0,24000.0,111147.0,66000.0,85000.0,45600.0,78000.0,78000.0,75000.0,70000.0,46776.0,46500.0,100000.0,112000.0,109200.0,73000.0,51024.0,75000.0,32496.0,53826.0,46800.0,53000.0,63000.0,138000.0,68000.0,48000.0,25000.0,28800.0,83000.0,87800.0,57000.0,54000.0,63504.0,32000.0,52000.0,47000.0,30000.0,40000.0,108800.0,66000.0,10000.0,38000.0,34000.0,23500.0,43992.0,36000.0,37200.0,25000.0,294000.0,69000.0,55000.0,90000.0,64000.0,63000.0,70000.0,60000.0,52000.0,70000.0,25200.0,57500.0,60000.0,24000.0,72600.0,37500.0,36000.0,87000.0,45000.0,29000.0,75000.0,60000.0,33000.0,125000.0,120000.0,88000.0,38160.0,30000.0,59068.0,20000.0,65000.0,225000.0,80004.0,18000.0,69000.0,63000.0,34000.0,115000.0,134000.0,81000.0,78000.0,60000.0,83000.0,78204.0,39000.0,43288.0,44400.0,50000.0,65000.0,72000.0,48000.0,54000.0,47000.0,47000.0,100000.0,59200.0,36000.0,45000.0,64000.0,40000.0,36000.0,30000.0,42000.0,83000.0,72000.0,54504.0,75000.0,50000.0,15600.0,175000.0,33600.0,72500.0,33996.0,18000.0,60000.0,26004.0,21812.0,42000.0,240000.0,40000.0,50000.0,62000.0,33996.0,51000.0,19000.0,33078.0,46800.0,66924.0,56628.0,37000.0,74000.0,40000.0,46000.0,65000.0,36000.0,97000.0,55000.0,65000.0,30000.0,34000.0,56000.0,75000.0,56000.0,38000.0,34000.0,42000.0,35000.0,50000.0,29000.0,55000.0,45000.0,95000.0,33360.0,58000.0,34000.0,42000.0,115000.0,12240.0,82000.0,95000.0,72000.0,78132.0,25000.0,52000.0,42000.0,30000.0,35000.0,81600.0,107000.0,30004.0,43000.0,57996.0,34500.0,40680.0,49000.0,80000.0,33000.0,82000.0,28800.0,72000.0,23040.0,30200.0,66000.0,42000.0,64000.0,74000.0,55404.0,36000.0,38000.0,209000.0,32000.0,30000.0,150000.0,84000.0,29400.0,49000.0,58000.0,89908.0,108000.0,65000.0,79000.0,128000.0,33600.0,75000.0,31000.0,79380.0,214200.0,11029.0,45600.0,59000.0,37500.0,28600.0,79200.0,78600.0,36000.0,156000.0,72000.0,66000.0,32960.0,54000.0,96000.0,42000.0,55000.0,150500.0,106000.0,66690.0,51800.0,50000.0,45000.0,30000.0,145000.0,41496.0,52800.0,45000.0,24000.0,55000.0,54000.0,18600.0,130000.0,86000.0,25500.0,41000.0,52000.0,45000.0,54000.0,52260.0,28800.0,20800.0,48000.0,68000.0,34999.0,78840.0,37000.0,100000.0,55000.0,60000.0,48000.0,54000.0,85000.0,42000.0,38400.0,29000.0,45000.0,75000.0,37000.0,41717.0,55000.0,70000.0,31000.0,50000.0,30000.0,46080.0,50000.0,29004.0,34000.0,35520.0,70000.0,30000.0,130000.0,62000.0,78000.0,47000.0,60000.0,78000.0,65000.0,33276.0,26400.0,66000.0,150000.0,58650.0,65000.0,51000.0,35000.0,69476.0,80000.0,60000.0,135000.0,36800.0,59354.0,73000.0,42000.0,37200.0,93000.0,135000.0,31836.0,39000.0,33448.0,75000.0,30992.0,42000.0,66000.0,73000.0,41000.0,22800.0,15600.0,30000.0,35000.0,80400.0,78000.0,100000.0,120000.0,30400.0,42000.0,60000.0,48000.0,26000.0,31131.0,41998.0,60000.0,52000.0,67500.0,85000.0,39000.0,64680.0,56655.0,35000.0,17400.0,20000.0,35000.0,48000.0,60000.0,53000.0,71000.0,97000.0,33000.0,39456.0,60000.0,40000.0,30000.0,100000.0,48756.0,90000.0,30000.0,56324.0,42996.0,53352.0,110000.0,51000.0,20000.0,39996.0,76000.0,72900.0,40000.0,84000.0,50000.0,74476.0,32496.0,48000.0,55000.0,86004.0,144000.0,60000.0,68324.0,55000.0,50000.0,35000.0,54000.0,65000.0,216000.0,80000.0,75000.0,40000.0,20500.0,30000.0,68000.0,31000.0,90000.0,50000.0,30000.0,99996.0,96000.0,45000.0,30000.0,80000.0,31800.0,36000.0,30000.0,66948.0,25000.0,52000.0,39000.0,28320.0,120000.0,108000.0,40000.0,62050.0,34000.0,75000.0,60000.0,48000.0,90000.0,28000.0,96000.0,39900.0,33612.0,44908.0,30000.0,36000.0,19200.0,135000.0,37000.0,100000.0,190000.0,115000.0,76992.0,59500.0,64000.0,37200.0,55812.0,80000.0,55000.0,50400.0,110000.0,115000.0,54000.0,85000.0,72000.0,33204.0,48000.0,60000.0,84000.0,64000.0,62000.0,120000.0,120000.0,62047.0,99996.0,182500.0,60000.0,20000.0,52800.0,13200.0,90000.0,29000.0,40000.0,86000.0,27000.0,75000.0,46776.0,30000.0,70000.0,4800.0,30000.0,59000.0,24000.0,24000.0,36000.0,74004.0,59000.0,57912.0,60000.0,52416.0,42179.0,118000.0,199000.0,170000.0,40000.0,85000.0,31000.0,62000.0,75000.0,65000.0,64000.0,53004.0,69600.0,8472.0,36000.0,48000.0,95000.0,100000.0,55800.0,39960.0,56000.0,120000.0,42000.0,50000.0,48000.0,140000.0,300000.0,62050.0,52584.0,60000.0,30000.0,20400.0,56331.0,53774.0,23400.0,48000.0,78504.0,70000.0,22708.0,42996.0,53664.0,106000.0,40000.0,60000.0,45000.0,43200.0,180000.0,11440.0,47520.0,28800.0,62400.0,38400.0,102000.0,30000.0,14400.0,32000.0,66000.0,140000.0,47500.0,223800.0,76000.0,33000.0,30000.0,52000.0,44000.0,42000.0,39000.0,81120.0,44000.0,36000.0,96500.0,165000.0,35000.0,77700.0,119000.0,115000.0,50000.0,42000.0,39600.0,89000.0,97750.0,67000.0,117500.0,81996.0,53004.0,74000.0,79500.0,150000.0,24000.0,75000.0,148000.0,37000.0,30000.0,46000.0,95004.0,48000.0,94700.0,70000.0,47211.0,100000.0,42000.0,300000.0,55000.0,29004.0,64000.0,39500.0,67000.0,64992.0,55600.0,30000.0,45600.0,35000.0,50000.0,40000.0,55000.0,40000.0,12000.0,78862.0,55000.0,70000.0,28284.0,100000.0,15600.0,95000.0,35000.0,50000.0,37200.0,60000.0,50000.0,49000.0,40000.0,130000.0,19000.0,50000.0,70000.0,85000.0,150000.0,25000.0,38000.0,85000.0,72000.0,39520.0,95000.0,48000.0,33000.0,45600.0,108000.0,29760.0,39000.0,34000.0,84000.0,36000.0,30000.0,32000.0,100000.0,72000.0,42000.0,65000.0,27000.0,62100.0,50911.0,16800.0,55000.0,39000.0,31000.0,48000.0,40000.0,48000.0,188000.0,82500.0,64000.0,32000.0,77256.0,150000.0,56400.0,108600.0,12960.0,19012.0,108000.0,145124.0,62000.0,26004.0,47232.0,60000.0,34000.0,42000.0,110000.0,91000.0,76554.0,72000.0,95000.0,59000.0,25000.0,67000.0,68926.0,85000.0,45000.0,81960.0,92000.0,95000.0,45000.0,45000.0,70000.0,71599.0,81000.0,59000.0,75000.0,85000.0,60000.0,54400.0,76000.0,72000.0,37080.0,69000.0,49000.0,36933.0,18000.0,41464.0,33600.0,450000.0,24000.0,20000.0,65000.0,33000.0,120000.0,96000.0,50000.0,85000.0,59000.0,61193.0,45295.0,63000.0,69500.0,45000.0,57996.0,80000.0,62000.0,51000.0,120000.0,140000.0,44875.0,75000.0,35000.0,37000.0,30000.0,42320.0,52800.0,57600.0,72000.0,68515.0,40000.0,62000.0,49000.0,43108.0,20000.0,32000.0,102000.0,120602.0,69600.0,37200.0,52000.0,53000.0,94800.0,90000.0,96000.0,58000.0,57000.0,53000.0,50000.0,45000.0,130000.0,58000.0,106000.0,85000.0,120000.0,36000.0,26000.0,65000.0,30000.0,170000.0,30000.0,125000.0,28800.0,23000.0,98000.0,58000.0,15600.0,102000.0,60000.0,90000.0,60000.0,56000.0,92004.0,88000.0,24000.0,101000.0,82000.0,86000.0,45500.0,24000.0,108000.0,55000.0,92000.0,20000.0,65000.0,45000.0,34000.0,120000.0,65000.0,28800.0,120000.0,47000.0,74867.0,44094.0,32000.0,150000.0,92000.0,60000.0,54000.0,77004.0,50000.0,59000.0,50000.0,49700.0,60000.0,90000.0,54400.0,180000.0,56100.0,40000.0,85000.0,60000.0,26400.0,100000.0,54000.0,29124.0,110000.0,30000.0,59500.0,60000.0,42000.0,54000.0,26400.0,65000.0,180396.0,45360.0,38000.0,27000.0,140000.0,156000.0,37008.0,28800.0,37000.0,61000.0,55000.0,80000.0,75600.0,65000.0,40000.0,60000.0,397800.0,33000.0,32000.0,43590.0,85000.0,35000.0,54000.0,54000.0,55000.0,44000.0,50300.0,72000.0,19404.0,40000.0,68553.0,73000.0,168000.0,36600.0,18000.0,95000.0,52000.0,126000.0,26453.0,160000.0,31200.0,90000.0,123000.0,62467.0,60000.0,67500.0,70000.0,140004.0,49000.0,30000.0,70000.0,46000.0,51000.0,59000.0,55000.0,33200.0,51000.0,34800.0,45000.0,48000.0,36000.0,50000.0,28800.0,95000.0,48000.0,200000.0,35000.0,15000.0,51500.0,30000.0,36000.0,39000.0,50000.0,65000.0,75000.0,90000.0,44004.0,35000.0,58951.0,186000.0,107000.0,54000.0,46000.0,30000.0,62400.0,95000.0,54000.0,160000.0,30000.0,91000.0,55000.0,24000.0,67000.0,31000.0,36000.0,32640.0,97000.0,60000.0,33996.0,97000.0,200000.0,150000.0,70000.0,55000.0,63000.0,25320.0,118000.0,132444.0,38500.0,78000.0,60000.0,70000.0,91000.0,51996.0,120000.0,30996.0,130000.0,78700.0,72000.0,21000.0,71000.0,16000.0,31200.0,108000.0,37000.0,67800.0,85000.0,30000.0,90000.0,62900.0,56000.0,42996.0,88000.0,30000.0,69000.0,33000.0,60000.0,60000.0,72000.0,62000.0,81000.0,117400.0,25000.0,75000.0,20400.0,42000.0,60000.0,80000.0,21600.0,48000.0,56000.0,49200.0,74000.0,35000.0,204000.0,58000.0,80000.0,60000.0,42000.0,48000.0,37000.0,75000.0,124000.0,62496.0,48000.0,61500.0,54000.0,33000.0,50000.0,110000.0,65000.0,10560.0,30000.0,72000.0,96000.0,64000.0,60000.0,31200.0,59000.0,56000.0,53550.0,44000.0,64500.0,96900.0,104000.0,58700.0,40800.0,68480.0,90000.0,40000.0,53000.0,170000.0,75000.0,51000.0,43500.0,109000.0,110000.0,81000.0,18200.0,60000.0,69500.0,145000.0,51000.0,79400.0,85000.0,168600.0,127992.0,60000.0,19200.0,91200.0,170000.0,43200.0,86706.0,75000.0,24000.0,43200.0,46000.0,100000.0,53000.0,72000.0,46500.0,107364.0,100000.0,45000.0,38000.0,39750.0,21221.0,120000.0,88000.0,60000.0,69996.0,108000.0,28800.0,116000.0,79618.0,48000.0,40800.0,57000.0,71688.0,32500.0,20520.0,34000.0,80000.0,62500.0,57600.0,50000.0,85000.0,97000.0,75000.0,163400.0,62000.0,96600.0,130000.0,89000.0,137000.0,40000.0,42000.0,37000.0,27500.0,44000.0,76000.0,20400.0,55000.0,74000.0,35000.0,52000.0,48672.0,91229.0,36000.0,75000.0,30000.0,31200.0,86000.0,62000.0,43200.0,65000.0,45600.0,45204.0,21996.0,60000.0,60000.0,65000.0,56000.0,42000.0,45000.0,30000.0,44000.0,75000.0,240000.0,61000.0,55000.0,110000.0,80000.0,28600.0,39900.0,82000.0,29000.0,60000.0,42000.0,58000.0,160000.0,43200.0,48000.0,48000.0,47500.0,80000.0,107500.0,80000.0,12000.0,45600.0,60000.0,50000.0,20796.0,104371.0,80000.0,65000.0,158004.0,82000.0,100000.0,57700.0,115000.0,60000.0,60072.0,17004.0,46000.0,59000.0,44000.0,150000.0,50031.0,110000.0,125000.0,50000.0,102996.0,37500.0,128000.0,130992.0,48996.0,54250.0,67000.0,43000.0,74500.0,112500.0,82000.0,55000.0,100000.0,38400.0,38400.0,32400.0,34000.0,101000.0,98000.0,87000.0,44995.0,46800.0,70000.0,22320.0,72444.0,50400.0,103000.0,75000.0,36500.0,65000.0,41600.0,33600.0,60000.0,35088.0,56000.0,36000.0,75000.0,53000.0,76000.0,44531.0,80000.0,80000.0,56004.0,46500.0,55000.0,128600.0,179000.0,90000.0,57996.0,70000.0,28000.0,105000.0,141000.0,56400.0,19200.0,105000.0,69996.0,68000.0,32004.0,48000.0,30712.0,95000.0,51800.0,45000.0,40000.0,69000.0,38000.0,108288.0,101900.0,74800.0,125000.0,14500.0,82000.0,40610.0,46200.0,50000.0,65000.0,130000.0,36000.0,45000.0,50725.0,54000.0,64600.0,45000.0,86000.0,115000.0,24000.0,117000.0,35500.0,33600.0,55000.0,33996.0,40000.0,56000.0,100000.0,26000.0,23652.0,54000.0,134500.0,15523.0,55000.0,75000.0,97000.0,36000.0,31920.0,53500.0,66000.0,39600.0,140400.0,103992.0,47412.0,10000.0,77500.0,105000.0,37200.0,66000.0,27996.0,110000.0,45000.0,31000.0,85000.0,121000.0,69996.0,98000.0,39512.0,26000.0,75000.0,56400.0,32000.0,54000.0,84000.0,130000.0,60000.0,45000.0,69000.0,40000.0,30000.0,98000.0,85000.0,30000.0,59000.0,40704.0,44000.0,94800.0,145000.0,25000.0,46000.0,36600.0,50000.0,54000.0,45000.0,32000.0,22000.0,90722.0,38000.0,50000.0,60000.0,33000.0,51648.0,40000.0,47000.0,70000.0,38000.0,48000.0,64000.0,146000.0,72000.0,54996.0,25200.0,50000.0,76000.0,26000.0,30000.0,70000.0,150000.0,50000.0,75744.0,55000.0,75000.0,100000.0,82000.0,45000.0,138000.0,83000.0,53742.0,127000.0,85000.0,52700.0,85000.0,33280.0,72000.0,61499.0,40000.0,21600.0,64402.0,49000.0,72000.0,108000.0,52000.0,45000.0,86748.0,123000.0,32160.0,15000.0,120000.0,39996.0,66300.0,100000.0,35000.0,49074.0,47500.0,31000.0,31000.0,51000.0,120000.0,48000.0,63000.0,54996.0,30000.0,57300.0,93000.0,46500.0,75000.0,128000.0,189000.0,72000.0,60500.0,37500.0,82500.0,39600.0,77004.0,80000.0,21600.0,30000.0,71000.0,88000.0,60000.0,83004.0,45000.0,42500.0,55000.0,75000.0,65000.0,90000.0,62400.0,24000.0,60000.0,53000.0,52000.0,108000.0,41838.0,25000.0,40000.0,51996.0,49152.0,30000.0,15000.0,69500.0,33000.0,66250.0,390000.0,65025.0,53295.0,25600.0,35000.0,45000.0,60000.0,90000.0,58000.0,69350.0,42000.0,36500.0,85500.0,45000.0,65000.0,40800.0,72996.0,33000.0,48000.0,75000.0,65000.0,40000.0,21000.0,25000.0,120000.0,45000.0,60000.0,48504.0,20004.0,57000.0,52000.0,78000.0,130920.0,35100.0,52000.0,75000.0,27800.0,40044.0,36000.0,65000.0,65000.0,70000.0,180000.0,35000.0,88000.0,49713.0,48000.0,75000.0,45000.0,70000.0,220836.0,49000.0,60000.0,75573.0,20000.0,41600.0,78300.0,115000.0,50000.0,45000.0,80000.0,37200.0,52000.0,90000.0,53000.0,94000.0,120000.0,75885.0,25000.0,56888.0,69504.0,65000.0,55000.0,18000.0,36960.0,39000.0,57000.0,32500.0,16800.0,35880.0,21600.0,94000.0,20000.0,88000.0,36000.0,90000.0,36000.0,100000.0,54000.0,33600.0,55000.0,90000.0,78000.0,25000.0,41682.0,38400.0,85000.0,162000.0,28000.0,69000.0,78000.0,50000.0,40000.0,74000.0,60000.0,33763.0,70000.0,89700.0,54000.0,60000.0,30000.0,81960.0,34800.0,67000.0,14400.0,80000.0,79000.0,74800.0,45000.0,83604.0,115000.0,87996.0,62000.0,42000.0,30500.0,170000.0,74004.0,50000.0,52000.0,41600.0,83000.0,70000.0,50000.0,80000.0,98400.0,46000.0,225000.0,92500.0,100000.0,62000.0,40000.0,78000.0,23000.0,50000.0,168952.0,90000.0,50004.0,70000.0,61200.0,81000.0,85000.0,48000.0,77000.0,151200.0,43680.0,16000.0,36000.0,75000.0,37200.0,86502.0,73000.0,70000.0,50004.0,64151.0,61000.0,65000.0,49344.0,67642.0,42200.0,70000.0,124992.0,60000.0,19200.0,58000.0,29000.0,45000.0,65000.0,75000.0,64000.0,30000.0,52000.0,39000.0,58000.0,30000.0,38400.0,32580.0,56004.0,40000.0,49000.0,100000.0,51000.0,74000.0,110000.0,58000.0,30000.0,110000.0,31000.0,76000.0,40000.0,36000.0,85000.0,170000.0,33600.0,24300.0,36000.0,39000.0,150996.0,49000.0,151800.0,67000.0,105000.0,115000.0,65000.0,45000.0,20000.0,69996.0,25104.0,69000.0,50000.0,30000.0,41000.0,54000.0,80000.0,32400.0,39000.0,125000.0,20000.0,115000.0,45000.0,20000.0,52576.0,77000.0,36933.0,42500.0,37000.0,84996.0,138000.0,50000.0,65000.0,30000.0,50000.0,52000.0,90000.0,64656.0,32647.0,31000.0,75000.0,51888.0,42500.0,71000.0,65000.0,34000.0,62000.0,70000.0,57300.0,31200.0,82000.0,56000.0,36120.0,125800.0,98450.0,90000.0,40000.0,49963.0,62000.0,38000.0,45000.0,60000.0,15600.0,35000.0,70000.0,65004.0,40000.0,65453.0,23040.0,65000.0,30996.0,72000.0,19200.0,72000.0,74797.0,39600.0,31200.0,29000.0,87000.0,77385.0,104740.0,33195.0,44700.0,22000.0,53000.0,54000.0,42000.0,69996.0,26000.0,60000.0,87000.0,20000.0,18008.0,64600.0,72000.0,50000.0,110000.0,33685.0,69000.0,45000.0,72000.0,35316.0,102000.0,42900.0,45408.0,185000.0,37000.0,33600.0,33000.0,85500.0,62400.0,54996.0,74909.0,86652.0,43000.0,54000.0,58650.0,150000.0,61498.0,45000.0,25000.0,72000.0,45000.0,35000.0,150000.0,89000.0,21600.0,55000.0,60000.0,52000.0,150075.0,126000.0,39600.0,79000.0,81000.0,15600.0,275000.0,70000.0,105000.0,12000.0,54996.0,31200.0,160000.0,21864.0,25000.0,51996.0,37000.0,41500.0,80000.0,69000.0,22800.0,70000.0,76800.0,51621.0,35000.0,138600.0,21000.0,55992.0,56000.0,42000.0,70000.0,53000.0,37500.0,68000.0,58000.0,33000.0,82000.0,50000.0,15000.0,54000.0,30720.0,52000.0,90000.0,60000.0,165000.0,43500.0,33000.0,45000.0,124000.0,117000.0,19200.0,65000.0,67200.0,65000.0,55008.0,35000.0,30720.0,204000.0,68004.0,87000.0,32000.0,60000.0,50000.0,47500.0,82000.0,304800.0,120000.0,49200.0,84000.0,54000.0,69000.0,65000.0,102000.0,50205.0,55000.0,31200.0,28000.0,55000.0,83600.0,37008.0,112200.0,60000.0,93600.0,45000.0,35000.0,33000.0,53004.0,25200.0,102000.0,51298.0,35000.0,38000.0,35000.0,47500.0,38000.0,30960.0,95000.0,36500.0,16200.0,52524.0,55070.0,116000.0,30988.0,14400.0,123000.0,36000.0,55000.0,29000.0,82000.0,68000.0,36000.0,30000.0,40000.0,36000.0,59497.0,52000.0,39000.0,40000.0,18000.0,72000.0,34000.0,28800.0,48000.0,75000.0,45000.0,60000.0,99996.0,110000.0,84554.0,79200.0,108000.0,43000.0,45600.0,36000.0,44000.0,35000.0,57000.0,63000.0,56016.0,70000.0,66000.0,31000.0,60000.0,71004.0,35000.0,36400.0,30000.0,109000.0,52000.0,200000.0,18000.0,68000.0,96050.0,160000.0,86610.0,110000.0,60000.0,69996.0,36000.0,43000.0,48000.0,72612.0,30000.0,60000.0,64000.0,80400.0,33396.0,56000.0,55000.0,52106.0,53000.0,68500.0,75000.0,45000.0,48000.0,20000.0,45000.0,103970.0,28800.0,91000.0,30000.0,27500.0,30000.0,96000.0,18000.0,110000.0,72000.0,79100.0,125000.0,25000.0,87000.0,129700.0,46344.0,85000.0,59000.0,12000.0,70000.0,54000.0,46400.0,52500.0,55400.0,45000.0,35364.0,89000.0,52000.0,26000.0,138000.0,38000.0,78000.0,72000.0,115731.0,37200.0,74500.0,150792.0,75000.0,51600.0,50000.0,22000.0,45000.0,30000.0,40000.0,70000.0,108000.0,40000.0,45600.0,49200.0,48000.0,72000.0,100000.0,69000.0,49140.0,68000.0,57336.0,22296.0,65000.0,56000.0,130000.0,113000.0,36000.0,54000.0,30000.0,42000.0,42000.0,95000.0,244800.0,83625.0,81120.0,125000.0,45000.0,62000.0,32000.0,33600.0,90000.0,50000.0,42000.0,66500.0,150000.0,71000.0,75000.0,105000.0,92000.0,120000.0,92801.0,71004.0,69867.0,12000.0,57000.0,85000.0,64000.0,30000.0,51600.0,73000.0,105000.0,63000.0,65000.0,115000.0,120000.0,30000.0,42000.0,70000.0,36000.0,68000.0,127500.0,24000.0,23040.0,52000.0,60000.0,54000.0,60000.0,76000.0,53000.0,44500.0,34000.0,115000.0,55008.0,122004.0,60000.0,69000.0,45000.0,47004.0,66000.0,54000.0,145596.0,33000.0,45000.0,75500.0,44400.0,48000.0,84000.0,126252.0,50000.0,24996.0,64151.0,100000.0,60000.0,58000.0,123000.0,260000.0,35000.0,24000.0,52000.0,32000.0,82000.0,63000.0,38004.0,54000.0,54000.0,50600.0,138000.0,46000.0,38000.0,60000.0,125000.0,25000.0,30000.0,48000.0,140000.0,90000.0,18000.0,80004.0,24000.0,36500.0,34000.0,102000.0,67000.0,96000.0,90000.0,65000.0,55000.0,37500.0,145000.0,27000.0,52100.0,27600.0,16800.0,48000.0,77000.0,135000.0,74000.0,58000.0,54000.0,59000.0,20400.0,125004.0,70000.0,78000.0,80000.0,50000.0,100000.0,45000.0,43000.0,150000.0,30784.0,89000.0,47580.0,49000.0,35000.0,36000.0,30000.0,60000.0,36000.0,76000.0,360000.0,60000.0,9600.0,77000.0,72000.0,61260.0,72000.0,16320.0,42996.0,121200.0,45000.0,53000.0,34780.0,85000.0,51996.0,38500.0,68000.0,90000.0,57996.0,53000.0,55684.0,55000.0,76896.0,90000.0,10800.0,75996.0,98004.0,48000.0,31200.0,60000.0,28000.0,45400.0,36000.0,190000.0,50000.0,20000.0,53913.0,80000.0,21000.0,57000.0,50400.0,20800.0,54000.0,60000.0,75000.0,84000.0,58000.0,72000.0,50000.0,40000.0,48000.0,54000.0,140000.0,48000.0,43680.0,34000.0,58000.0,50000.0,69000.0,30000.0,105000.0,85000.0,29000.0,45000.0,48000.0,100000.0,57504.0,123000.0,40800.0,75000.0,60000.0,24000.0,43000.0,45000.0,76000.0,79000.0,53000.0,51600.0,50000.0,18000.0,232500.0,91080.0,74872.0,76000.0,105000.0,80000.0,135000.0,49000.0,85000.0,85000.0,80000.0,72000.0,140000.0,48000.0,28500.0,35010.0,77000.0,60000.0,45792.0,28800.0,44000.0,140000.0,63000.0,90000.0,54000.0,37000.0,65004.0,33000.0,34000.0,30000.0,48800.0,42312.0,36500.0,32000.0,285000.0,37000.0,306000.0,24960.0,21168.0,60000.0,87000.0,102000.0,130000.0,36000.0,45000.0,55000.0,37400.0,93000.0,120000.0,100000.0,175000.0,54000.0,66000.0,39000.0,45012.0,16800.0,32000.0,90000.0,40000.0,30000.0,130000.0,55000.0,55000.0,65000.0,109488.0,45000.0,42000.0,18000.0,250000.0,108000.0,75000.0,54000.0,47400.0,55000.0,14400.0,120000.0,60000.0,151800.0,48720.0,60000.0,74000.0,40000.0,60000.0,33600.0,45000.0,64450.0,32000.0,45000.0,26000.0,39480.0,48600.0,95000.0,43000.0,40872.0,36000.0,64600.0,48000.0,80000.0,140300.0,27000.0,50000.0,40000.0,51000.0,35040.0,130000.0,80001.0,69000.0,80000.0,36000.0,51000.0,276000.0,64000.0,135000.0,68000.0,30000.0,95000.0,75000.0,60000.0,37200.0,25000.0,70000.0,33000.0,116004.0,34000.0,21996.0,30000.0,70000.0,54400.0,45996.0,33144.0,53326.0,80800.0,85000.0,62900.0,16200.0,35000.0,57772.0,71400.0,54000.0,70000.0,57996.0,70000.0,125000.0,84000.0,56004.0,69000.0,26000.0,65000.0,95000.0,58100.0,33000.0,50000.0,38400.0,62050.0,9600.0,120000.0,73000.0,85000.0,42500.0,90000.0,70000.0,75000.0,28500.0,57000.0,24000.0,33996.0,96000.0,30000.0,72000.0,92341.0,138000.0,59000.0,55000.0,29760.0,108000.0,60000.0,75000.0,30000.0,45000.0,73500.0,120000.0,30000.0,24000.0,89000.0,35000.0,33000.0,120000.0,64200.0,80004.0,39760.0,48000.0,40000.0,51000.0,90000.0,65000.0,48384.0,95000.0,99855.0,100000.0,103000.0,32000.0,52780.0,67000.0,52000.0,238000.0,22800.0,25000.0,41000.0,76066.0,55000.0,238000.0,40000.0,28000.0,51000.0,47000.0,110000.0,110000.0,35000.0,18000.0,68000.0,66000.0,90000.0,50364.0,408000.0,39996.0,88200.0,59400.0,30000.0,42000.0,43000.0,135000.0,148000.0,39600.0,113900.0,45600.0,78000.0,48400.0,98280.0,75000.0,96000.0,40000.0,130000.0,43000.0,48000.0,90000.0,42000.0,78000.0,106000.0,44500.0,88000.0,77000.0,38000.0,80000.0,42000.0,165000.0,20000.0,57000.0,59000.0,53000.0,120000.0,72000.0,33280.0,120000.0,70000.0,65004.0,56004.0,57000.0,27840.0,65000.0,76800.0,35000.0,53040.0,53000.0,95000.0,54000.0,90084.0,31836.0,25000.0,49200.0,29120.0,51312.0,29244.0,47000.0,20000.0,60000.0,25000.0,50000.0,60000.0,29004.0,60000.0,57240.0,18200.0,69000.0,33888.0,33000.0,70000.0,35400.0,54000.0,38400.0,36000.0,52800.0,69000.0,38004.0,74000.0,29000.0,74400.0,25000.0,78000.0,57000.0,33600.0,33600.0,50000.0,45600.0,75000.0,80000.0,56000.0,125000.0,78000.0,54000.0,44400.0,81400.0,138571.0,88500.0,112000.0,29004.0,46000.0,60000.0,150000.0,150000.0,69000.0,160000.0,59000.0,60000.0,25000.0,30000.0,84000.0,92700.0,43000.0,103000.0,17280.0,34000.0,50000.0,103000.0,30000.0,14400.0,65000.0,55000.0,90000.0,54996.0,9600.0,37000.0,48000.0,48996.0,75000.0,60000.0,61000.0,75000.0,70000.0,49000.0,39600.0,120000.0,56400.0,98004.0,92000.0,50000.0,85000.0,100000.0,96000.0,66000.0,31800.0,70000.0,44000.0,64000.0,99000.0,83200.0,250000.0,40000.0,48000.0,15000.0,95000.0,150000.0,100000.0,26000.0,30000.0,15000.0,150000.0,107900.0,78000.0,95004.0,34000.0,67500.0,59000.0,40000.0,65000.0,43200.0,91000.0,90000.0,30000.0,115500.0,25500.0,33000.0,78000.0,57000.0,48000.0,62510.0,39996.0,139008.0,100000.0,65000.0,74000.0,24996.0,60000.0,141000.0,68000.0,48528.0,250000.0,87000.0,62400.0,95950.0,80000.0,43300.0,178008.0,47000.0,75000.0,84000.0,70000.0,30000.0,200000.0,98000.0,150000.0,72000.0,26004.0,75000.0,43200.0,46000.0,108000.0,29232.0,63000.0,74000.0,42000.0,90000.0,51000.0,32000.0,50000.0,78996.0,65000.0,36000.0,38000.0,28956.0,87000.0,25000.0,24000.0,42720.0,50000.0,62000.0,57600.0,74000.0,84000.0,88000.0,45000.0,144000.0,55000.0,95000.0,44000.0,22884.0,69996.0,155000.0,36000.0,91800.0,40000.0,12816.0,28800.0,35000.0,18240.0,39996.0,30000.0,48000.0,42000.0,76000.0,20000.0,50400.0,39000.0,42200.0,27000.0,77000.0,41000.0,210000.0,35000.0,48000.0,57600.0,61000.0,52500.0,15300.0,28000.0,58000.0,47360.0,74000.0,29004.0,45600.0,43000.0,20000.0,52275.0,54000.0,38000.0,50000.0,65000.0,78400.0,68000.0,31200.0,29000.0,80000.0,115000.0,240000.0,56950.0,306000.0,42000.0,37000.0,144000.0,75000.0,12000.0,131004.0,85000.0,67500.0,60000.0,33000.0,46000.0,76000.0,19200.0,60000.0,30000.0,53947.0,61000.0,30000.0,31500.0,54000.0,50000.0,35000.0,91644.0,36000.0,50000.0,77000.0,61000.0,34000.0,190000.0,54000.0,21360.0,36000.0,71760.0,31150.0,80000.0,55000.0,80000.0,59000.0,96000.0,55000.0,87000.0,69780.0,68000.0,35000.0,210000.0,47000.0,95000.0,54000.0,72000.0,111740.0,72000.0,72000.0,30000.0,55000.0,68000.0,64000.0,32268.0,33800.0,72000.0,35000.0,50000.0,76500.0,92000.0,36600.0,44991.0,52000.0,71004.0,73000.0,250000.0,86000.0,61500.0,25000.0,60500.0,72516.0,60000.0,60000.0,150000.0,63000.0,37000.0,80500.0,38700.0,79404.0,200000.0,109000.0,60000.0,100000.0,14400.0,71000.0,32000.0,40200.0,120000.0,40000.0,33600.0,108000.0,130000.0,80004.0,99000.0,48000.0,80000.0,92004.0,33504.0,45000.0,34000.0,49000.0,19000.0,108000.0,113000.0,26500.0,68000.0,186480.0,180000.0,75000.0,17640.0,75000.0,40740.0,98000.0,25000.0,24000.0,53000.0,45000.0,120000.0,49000.0,63000.0,28800.0,115154.0,33800.0,73000.0,35000.0,40000.0,75127.0,35196.0,36400.0,45600.0,60000.0,36000.0,26400.0,117000.0,82404.0,19498.0,40000.0,54000.0,42000.0,42000.0,62400.0,55000.0,37000.0,83400.0,80000.0,75000.0,35000.0,75000.0,30000.0,44000.0,51000.0,64000.0,21000.0,80000.0,50000.0,130000.0,70000.0,62000.0,44000.0,60000.0,31970.0,15996.0,16800.0,33660.0,68000.0,200000.0,40000.0,30000.0,60000.0,54000.0,32000.0,48732.0,300000.0,42000.0,39672.0,35000.0,46000.0,24000.0,95400.0,39000.0,93000.0,56000.0,90000.0,20004.0,43000.0,65200.0,95000.0,37000.0,74700.0,74000.0,100000.0,30972.0,51780.0,37000.0,30000.0,81000.0,28675.0,60000.0,66000.0,50000.0,37200.0,98400.0,150000.0,100000.0,38000.0,49000.0,48000.0,45000.0,40000.0,40000.0,55000.0,39000.0,68000.0,100000.0,62000.0,96000.0,39000.0,235000.0,200000.0,32400.0,37290.0,25200.0,70000.0,33000.0,60000.0,44000.0,90000.0,71500.0,109920.0,60000.0,85000.0,510000.0,21840.0,100000.0,51000.0,41196.0,48000.0,28800.0,60000.0,112404.0,60000.0,100000.0,95000.0,34000.0,72000.0,23624.0,55000.0,75000.0,40750.0,52479.0,55000.0,120000.0,39600.0,124000.0,70000.0,210000.0,55680.0,93600.0,54000.0,35000.0,92004.0,42000.0,73500.0,60000.0,33600.0,57000.0,60000.0,36000.0,57000.0,42000.0,33600.0,108000.0,200000.0,78000.0,72000.0,30240.0,54000.0,48000.0,35000.0,30000.0,125000.0,75000.0,24000.0,86000.0,90400.0,93000.0,75912.0,80000.0,51996.0,52000.0,80689.0,48000.0,30000.0,21000.0,38000.0,65000.0,35000.0,39000.0,52000.0,26085.0,39456.0,53800.0,42000.0,159800.0,85000.0,145000.0,12000.0,33600.0,68000.0,40000.0,38000.0,112455.0,37000.0,25000.0,60000.0,40000.0,80000.0,38400.0,36000.0,38376.0,65000.0,40000.0,43200.0,42000.0,110000.0,24000.0,48000.0,36000.0,116000.0,90000.0,45000.0,39600.0,30000.0,18000.0,60000.0,34000.0,85000.0,48562.0,40000.0,51600.0,69570.0,33600.0,105000.0,60000.0,75000.0,57000.0,50000.0,42000.0,45000.0,50000.0,42000.0,73000.0,60500.0,36000.0,140000.0,45000.0,70400.0,200000.0,70000.0,64000.0,56000.0,80000.0,44100.0,29000.0,61000.0,25200.0,56000.0,19000.0,79000.0,49800.0,120000.0,762000.0,45630.0,84996.0,41000.0,28000.0,65000.0,300000.0,46000.0,74000.0,96000.0,90000.0,38500.0,101000.0,60000.0,54000.0,48000.0,65000.0,106925.0,48996.0,57000.0,32000.0,30000.0,42000.0,150000.0,45000.0,96000.0,36000.0,60000.0,38400.0,53000.0,39000.0,40000.0,37200.0,97500.0,25000.0,112000.0,51000.0,60000.0,103000.0,12000.0,65000.0,55000.0,28800.0,28000.0,45000.0,57000.0,69996.0,52000.0,54996.0,58000.0,110000.0,95000.0,66000.0,113000.0,10668.0,33660.0,46200.0,43000.0,40000.0,63000.0,86000.0,25000.0,37850.0,32000.0,95000.0,29976.0,32000.0,76344.0,121000.0,60000.0,127500.0,73000.0,95000.0,24996.0,170496.0,43000.0,53000.0,37000.0,42000.0,38000.0],\"y0\":\" \",\"yaxis\":\"y\",\"type\":\"box\"}],                        {\"template\":{\"data\":{\"bar\":[{\"error_x\":{\"color\":\"#2a3f5f\"},\"error_y\":{\"color\":\"#2a3f5f\"},\"marker\":{\"line\":{\"color\":\"#E5ECF6\",\"width\":0.5},\"pattern\":{\"fillmode\":\"overlay\",\"size\":10,\"solidity\":0.2}},\"type\":\"bar\"}],\"barpolar\":[{\"marker\":{\"line\":{\"color\":\"#E5ECF6\",\"width\":0.5},\"pattern\":{\"fillmode\":\"overlay\",\"size\":10,\"solidity\":0.2}},\"type\":\"barpolar\"}],\"carpet\":[{\"aaxis\":{\"endlinecolor\":\"#2a3f5f\",\"gridcolor\":\"white\",\"linecolor\":\"white\",\"minorgridcolor\":\"white\",\"startlinecolor\":\"#2a3f5f\"},\"baxis\":{\"endlinecolor\":\"#2a3f5f\",\"gridcolor\":\"white\",\"linecolor\":\"white\",\"minorgridcolor\":\"white\",\"startlinecolor\":\"#2a3f5f\"},\"type\":\"carpet\"}],\"choropleth\":[{\"colorbar\":{\"outlinewidth\":0,\"ticks\":\"\"},\"type\":\"choropleth\"}],\"contour\":[{\"colorbar\":{\"outlinewidth\":0,\"ticks\":\"\"},\"colorscale\":[[0.0,\"#0d0887\"],[0.1111111111111111,\"#46039f\"],[0.2222222222222222,\"#7201a8\"],[0.3333333333333333,\"#9c179e\"],[0.4444444444444444,\"#bd3786\"],[0.5555555555555556,\"#d8576b\"],[0.6666666666666666,\"#ed7953\"],[0.7777777777777778,\"#fb9f3a\"],[0.8888888888888888,\"#fdca26\"],[1.0,\"#f0f921\"]],\"type\":\"contour\"}],\"contourcarpet\":[{\"colorbar\":{\"outlinewidth\":0,\"ticks\":\"\"},\"type\":\"contourcarpet\"}],\"heatmap\":[{\"colorbar\":{\"outlinewidth\":0,\"ticks\":\"\"},\"colorscale\":[[0.0,\"#0d0887\"],[0.1111111111111111,\"#46039f\"],[0.2222222222222222,\"#7201a8\"],[0.3333333333333333,\"#9c179e\"],[0.4444444444444444,\"#bd3786\"],[0.5555555555555556,\"#d8576b\"],[0.6666666666666666,\"#ed7953\"],[0.7777777777777778,\"#fb9f3a\"],[0.8888888888888888,\"#fdca26\"],[1.0,\"#f0f921\"]],\"type\":\"heatmap\"}],\"heatmapgl\":[{\"colorbar\":{\"outlinewidth\":0,\"ticks\":\"\"},\"colorscale\":[[0.0,\"#0d0887\"],[0.1111111111111111,\"#46039f\"],[0.2222222222222222,\"#7201a8\"],[0.3333333333333333,\"#9c179e\"],[0.4444444444444444,\"#bd3786\"],[0.5555555555555556,\"#d8576b\"],[0.6666666666666666,\"#ed7953\"],[0.7777777777777778,\"#fb9f3a\"],[0.8888888888888888,\"#fdca26\"],[1.0,\"#f0f921\"]],\"type\":\"heatmapgl\"}],\"histogram\":[{\"marker\":{\"pattern\":{\"fillmode\":\"overlay\",\"size\":10,\"solidity\":0.2}},\"type\":\"histogram\"}],\"histogram2d\":[{\"colorbar\":{\"outlinewidth\":0,\"ticks\":\"\"},\"colorscale\":[[0.0,\"#0d0887\"],[0.1111111111111111,\"#46039f\"],[0.2222222222222222,\"#7201a8\"],[0.3333333333333333,\"#9c179e\"],[0.4444444444444444,\"#bd3786\"],[0.5555555555555556,\"#d8576b\"],[0.6666666666666666,\"#ed7953\"],[0.7777777777777778,\"#fb9f3a\"],[0.8888888888888888,\"#fdca26\"],[1.0,\"#f0f921\"]],\"type\":\"histogram2d\"}],\"histogram2dcontour\":[{\"colorbar\":{\"outlinewidth\":0,\"ticks\":\"\"},\"colorscale\":[[0.0,\"#0d0887\"],[0.1111111111111111,\"#46039f\"],[0.2222222222222222,\"#7201a8\"],[0.3333333333333333,\"#9c179e\"],[0.4444444444444444,\"#bd3786\"],[0.5555555555555556,\"#d8576b\"],[0.6666666666666666,\"#ed7953\"],[0.7777777777777778,\"#fb9f3a\"],[0.8888888888888888,\"#fdca26\"],[1.0,\"#f0f921\"]],\"type\":\"histogram2dcontour\"}],\"mesh3d\":[{\"colorbar\":{\"outlinewidth\":0,\"ticks\":\"\"},\"type\":\"mesh3d\"}],\"parcoords\":[{\"line\":{\"colorbar\":{\"outlinewidth\":0,\"ticks\":\"\"}},\"type\":\"parcoords\"}],\"pie\":[{\"automargin\":true,\"type\":\"pie\"}],\"scatter\":[{\"marker\":{\"colorbar\":{\"outlinewidth\":0,\"ticks\":\"\"}},\"type\":\"scatter\"}],\"scatter3d\":[{\"line\":{\"colorbar\":{\"outlinewidth\":0,\"ticks\":\"\"}},\"marker\":{\"colorbar\":{\"outlinewidth\":0,\"ticks\":\"\"}},\"type\":\"scatter3d\"}],\"scattercarpet\":[{\"marker\":{\"colorbar\":{\"outlinewidth\":0,\"ticks\":\"\"}},\"type\":\"scattercarpet\"}],\"scattergeo\":[{\"marker\":{\"colorbar\":{\"outlinewidth\":0,\"ticks\":\"\"}},\"type\":\"scattergeo\"}],\"scattergl\":[{\"marker\":{\"colorbar\":{\"outlinewidth\":0,\"ticks\":\"\"}},\"type\":\"scattergl\"}],\"scattermapbox\":[{\"marker\":{\"colorbar\":{\"outlinewidth\":0,\"ticks\":\"\"}},\"type\":\"scattermapbox\"}],\"scatterpolar\":[{\"marker\":{\"colorbar\":{\"outlinewidth\":0,\"ticks\":\"\"}},\"type\":\"scatterpolar\"}],\"scatterpolargl\":[{\"marker\":{\"colorbar\":{\"outlinewidth\":0,\"ticks\":\"\"}},\"type\":\"scatterpolargl\"}],\"scatterternary\":[{\"marker\":{\"colorbar\":{\"outlinewidth\":0,\"ticks\":\"\"}},\"type\":\"scatterternary\"}],\"surface\":[{\"colorbar\":{\"outlinewidth\":0,\"ticks\":\"\"},\"colorscale\":[[0.0,\"#0d0887\"],[0.1111111111111111,\"#46039f\"],[0.2222222222222222,\"#7201a8\"],[0.3333333333333333,\"#9c179e\"],[0.4444444444444444,\"#bd3786\"],[0.5555555555555556,\"#d8576b\"],[0.6666666666666666,\"#ed7953\"],[0.7777777777777778,\"#fb9f3a\"],[0.8888888888888888,\"#fdca26\"],[1.0,\"#f0f921\"]],\"type\":\"surface\"}],\"table\":[{\"cells\":{\"fill\":{\"color\":\"#EBF0F8\"},\"line\":{\"color\":\"white\"}},\"header\":{\"fill\":{\"color\":\"#C8D4E3\"},\"line\":{\"color\":\"white\"}},\"type\":\"table\"}]},\"layout\":{\"annotationdefaults\":{\"arrowcolor\":\"#2a3f5f\",\"arrowhead\":0,\"arrowwidth\":1},\"autotypenumbers\":\"strict\",\"coloraxis\":{\"colorbar\":{\"outlinewidth\":0,\"ticks\":\"\"}},\"colorscale\":{\"diverging\":[[0,\"#8e0152\"],[0.1,\"#c51b7d\"],[0.2,\"#de77ae\"],[0.3,\"#f1b6da\"],[0.4,\"#fde0ef\"],[0.5,\"#f7f7f7\"],[0.6,\"#e6f5d0\"],[0.7,\"#b8e186\"],[0.8,\"#7fbc41\"],[0.9,\"#4d9221\"],[1,\"#276419\"]],\"sequential\":[[0.0,\"#0d0887\"],[0.1111111111111111,\"#46039f\"],[0.2222222222222222,\"#7201a8\"],[0.3333333333333333,\"#9c179e\"],[0.4444444444444444,\"#bd3786\"],[0.5555555555555556,\"#d8576b\"],[0.6666666666666666,\"#ed7953\"],[0.7777777777777778,\"#fb9f3a\"],[0.8888888888888888,\"#fdca26\"],[1.0,\"#f0f921\"]],\"sequentialminus\":[[0.0,\"#0d0887\"],[0.1111111111111111,\"#46039f\"],[0.2222222222222222,\"#7201a8\"],[0.3333333333333333,\"#9c179e\"],[0.4444444444444444,\"#bd3786\"],[0.5555555555555556,\"#d8576b\"],[0.6666666666666666,\"#ed7953\"],[0.7777777777777778,\"#fb9f3a\"],[0.8888888888888888,\"#fdca26\"],[1.0,\"#f0f921\"]]},\"colorway\":[\"#636efa\",\"#EF553B\",\"#00cc96\",\"#ab63fa\",\"#FFA15A\",\"#19d3f3\",\"#FF6692\",\"#B6E880\",\"#FF97FF\",\"#FECB52\"],\"font\":{\"color\":\"#2a3f5f\"},\"geo\":{\"bgcolor\":\"white\",\"lakecolor\":\"white\",\"landcolor\":\"#E5ECF6\",\"showlakes\":true,\"showland\":true,\"subunitcolor\":\"white\"},\"hoverlabel\":{\"align\":\"left\"},\"hovermode\":\"closest\",\"mapbox\":{\"style\":\"light\"},\"paper_bgcolor\":\"white\",\"plot_bgcolor\":\"#E5ECF6\",\"polar\":{\"angularaxis\":{\"gridcolor\":\"white\",\"linecolor\":\"white\",\"ticks\":\"\"},\"bgcolor\":\"#E5ECF6\",\"radialaxis\":{\"gridcolor\":\"white\",\"linecolor\":\"white\",\"ticks\":\"\"}},\"scene\":{\"xaxis\":{\"backgroundcolor\":\"#E5ECF6\",\"gridcolor\":\"white\",\"gridwidth\":2,\"linecolor\":\"white\",\"showbackground\":true,\"ticks\":\"\",\"zerolinecolor\":\"white\"},\"yaxis\":{\"backgroundcolor\":\"#E5ECF6\",\"gridcolor\":\"white\",\"gridwidth\":2,\"linecolor\":\"white\",\"showbackground\":true,\"ticks\":\"\",\"zerolinecolor\":\"white\"},\"zaxis\":{\"backgroundcolor\":\"#E5ECF6\",\"gridcolor\":\"white\",\"gridwidth\":2,\"linecolor\":\"white\",\"showbackground\":true,\"ticks\":\"\",\"zerolinecolor\":\"white\"}},\"shapedefaults\":{\"line\":{\"color\":\"#2a3f5f\"}},\"ternary\":{\"aaxis\":{\"gridcolor\":\"white\",\"linecolor\":\"white\",\"ticks\":\"\"},\"baxis\":{\"gridcolor\":\"white\",\"linecolor\":\"white\",\"ticks\":\"\"},\"bgcolor\":\"#E5ECF6\",\"caxis\":{\"gridcolor\":\"white\",\"linecolor\":\"white\",\"ticks\":\"\"}},\"title\":{\"x\":0.05},\"xaxis\":{\"automargin\":true,\"gridcolor\":\"white\",\"linecolor\":\"white\",\"ticks\":\"\",\"title\":{\"standoff\":15},\"zerolinecolor\":\"white\",\"zerolinewidth\":2},\"yaxis\":{\"automargin\":true,\"gridcolor\":\"white\",\"linecolor\":\"white\",\"ticks\":\"\",\"title\":{\"standoff\":15},\"zerolinecolor\":\"white\",\"zerolinewidth\":2}}},\"xaxis\":{\"anchor\":\"y\",\"domain\":[0.0,1.0]},\"yaxis\":{\"anchor\":\"x\",\"domain\":[0.0,1.0],\"title\":{\"text\":\"salario_anual\"}},\"legend\":{\"tracegroupgap\":0},\"title\":{\"text\":\"Sal\\u00e1rio Anual\"},\"boxmode\":\"group\",\"height\":800,\"width\":400},                        {\"responsive\": true}                    ).then(function(){\n",
              "                            \n",
              "var gd = document.getElementById('9cf9dfa7-3705-471d-b0c6-7a13bdfbbf0c');\n",
              "var x = new MutationObserver(function (mutations, observer) {{\n",
              "        var display = window.getComputedStyle(gd).display;\n",
              "        if (!display || display === 'none') {{\n",
              "            console.log([gd, 'removed!']);\n",
              "            Plotly.purge(gd);\n",
              "            observer.disconnect();\n",
              "        }}\n",
              "}});\n",
              "\n",
              "// Listen for the removal of the full notebook cells\n",
              "var notebookContainer = gd.closest('#notebook-container');\n",
              "if (notebookContainer) {{\n",
              "    x.observe(notebookContainer, {childList: true});\n",
              "}}\n",
              "\n",
              "// Listen for the clearing of the current output cell\n",
              "var outputEl = gd.closest('.output');\n",
              "if (outputEl) {{\n",
              "    x.observe(outputEl, {childList: true});\n",
              "}}\n",
              "\n",
              "                        })                };                            </script>        </div>\n",
              "</body>\n",
              "</html>"
            ]
          },
          "metadata": {}
        }
      ],
      "source": [
        "import plotly.express as px\n",
        "\n",
        "fig = px.box(dados, \n",
        "             y=\"salario_anual\",\n",
        "             width=400,\n",
        "             height=800,\n",
        "             title = 'Salário Anual')\n",
        "fig.show()"
      ]
    },
    {
      "cell_type": "markdown",
      "source": [
        "#### Conclusões"
      ],
      "metadata": {
        "id": "YrZZakZ1G7-O"
      }
    },
    {
      "cell_type": "markdown",
      "source": [
        "* Nota-se que a maior parte dos mutuários tem salário anual de, no máximo, 140mil.\n",
        "* Após avaliação da distribuição dos dados, optou-se por um teto máximo de 800mil, onde valores acima disto foram removidos por serem considerados ouliers."
      ],
      "metadata": {
        "id": "dY5Q1ampG-FI"
      }
    },
    {
      "cell_type": "markdown",
      "metadata": {
        "id": "tH-qh-6KisYH"
      },
      "source": [
        "### Análise da variável: 'situacao_imovel'"
      ]
    },
    {
      "cell_type": "markdown",
      "source": [
        "#### Análises"
      ],
      "metadata": {
        "id": "yNq4GXpHPnpw"
      }
    },
    {
      "cell_type": "code",
      "execution_count": 30,
      "metadata": {
        "colab": {
          "base_uri": "https://localhost:8080/"
        },
        "id": "Njln5Im3YBFa",
        "outputId": "5d1843f5-352f-4576-e107-407b5529f898"
      },
      "outputs": [
        {
          "output_type": "execute_result",
          "data": {
            "text/plain": [
              "array(['Mortgage', 'Rent', 'Own', 'Other'], dtype=object)"
            ]
          },
          "metadata": {},
          "execution_count": 30
        }
      ],
      "source": [
        "dados['situacao_imovel'].unique()"
      ]
    },
    {
      "cell_type": "code",
      "source": [
        "situacao_imoveis_porcentagens = dados['situacao_imovel'].value_counts(normalize = True) * 100\n",
        "situacao_imoveis_porcentagens"
      ],
      "metadata": {
        "colab": {
          "base_uri": "https://localhost:8080/"
        },
        "id": "fQbR6vm8UIk4",
        "outputId": "bd90edd4-5787-4448-8415-92aadffdb959"
      },
      "execution_count": 31,
      "outputs": [
        {
          "output_type": "execute_result",
          "data": {
            "text/plain": [
              "Rent        50.817496\n",
              "Mortgage    41.199693\n",
              "Own          7.654416\n",
              "Other        0.328396\n",
              "Name: situacao_imovel, dtype: float64"
            ]
          },
          "metadata": {},
          "execution_count": 31
        }
      ]
    },
    {
      "cell_type": "code",
      "source": [
        "print(f'{situacao_imoveis_porcentagens[0]:.2f}% dos mutuários moram de aluguel.')\n",
        "print(f'{situacao_imoveis_porcentagens[1]:.2f}% dos mutuários possuem o imóvel financiado.')\n",
        "print(f'{situacao_imoveis_porcentagens[2]:.2f}% dos mutuários são proprietários do imóvel.')"
      ],
      "metadata": {
        "colab": {
          "base_uri": "https://localhost:8080/"
        },
        "id": "CALlanXiLih5",
        "outputId": "bfefc660-957c-4208-81fb-12d1403f33dc"
      },
      "execution_count": 32,
      "outputs": [
        {
          "output_type": "stream",
          "name": "stdout",
          "text": [
            "50.82% dos mutuários moram de aluguel.\n",
            "41.20% dos mutuários possuem o imóvel financiado.\n",
            "7.65% dos mutuários são proprietários do imóvel.\n"
          ]
        }
      ]
    },
    {
      "cell_type": "markdown",
      "source": [
        "#### Transformação numérica da variável"
      ],
      "metadata": {
        "id": "OXDh5LUGKNao"
      }
    },
    {
      "cell_type": "markdown",
      "source": [
        "Transformaremos esta categorização para números:"
      ],
      "metadata": {
        "id": "R3DATNnX0dH9"
      }
    },
    {
      "cell_type": "code",
      "source": [
        "tradudor_situacao_imovel = {'Mortgage': 0, \n",
        "                            'Rent' : 1,\n",
        "                            'Own' : 2,\n",
        "                            'Other' : 3}\n",
        "\n",
        "dados['situacao_imovel'].replace(tradudor_situacao_imovel, inplace=True)"
      ],
      "metadata": {
        "id": "0GZ7pSEHy1A6"
      },
      "execution_count": 33,
      "outputs": []
    },
    {
      "cell_type": "code",
      "source": [
        "dados['situacao_imovel'].unique()"
      ],
      "metadata": {
        "colab": {
          "base_uri": "https://localhost:8080/"
        },
        "id": "oyWCHJe3zc62",
        "outputId": "24fb6170-b2af-44a6-8904-3b403d5abfc9"
      },
      "execution_count": 34,
      "outputs": [
        {
          "output_type": "execute_result",
          "data": {
            "text/plain": [
              "array([0, 1, 2, 3])"
            ]
          },
          "metadata": {},
          "execution_count": 34
        }
      ]
    },
    {
      "cell_type": "markdown",
      "source": [
        "#### Conclusões"
      ],
      "metadata": {
        "id": "4DObngfwNaao"
      }
    },
    {
      "cell_type": "markdown",
      "metadata": {
        "id": "n37N6cPLktiW"
      },
      "source": [
        "* Esta variável representa a situação da propriedade que a pessoa possui.\n",
        "* Variável 'situacao_imovel' apresenta boa integridade.\n",
        "* 50.82% dos mutuários moram de aluguel.\n",
        "* 41.20% dos mutuários possuem o imóvel financiado.\n",
        "* 7.65% dos mutuários são proprietários do imóvel."
      ]
    },
    {
      "cell_type": "markdown",
      "metadata": {
        "id": "FayY1_-Si2WI"
      },
      "source": [
        "### Análise da variável: 'anos_empregado'"
      ]
    },
    {
      "cell_type": "markdown",
      "source": [
        "#### Análises"
      ],
      "metadata": {
        "id": "nRrxqYeaQVm0"
      }
    },
    {
      "cell_type": "code",
      "execution_count": 35,
      "metadata": {
        "colab": {
          "base_uri": "https://localhost:8080/"
        },
        "id": "RPruqky5jASW",
        "outputId": "0f971ea2-6dfa-4903-da73-a7e3f8226751"
      },
      "outputs": [
        {
          "output_type": "execute_result",
          "data": {
            "text/plain": [
              "array([  5,   3,   6,   8,   9,   0,   7,   1,   2,  14,  13,   4,  11,\n",
              "        17,  12,  10,  18,  19,  21,  15,  16,  20,  27,  22, 123,  24,\n",
              "        23,  28,  31,  41,  26,  38,  29,  25,  34,  30])"
            ]
          },
          "metadata": {},
          "execution_count": 35
        }
      ],
      "source": [
        "dados['anos_empregado'].unique()"
      ]
    },
    {
      "cell_type": "markdown",
      "metadata": {
        "id": "Jt_I8wPsky_1"
      },
      "source": [
        "Variável 'anos_empregado' apresenta mutuários com excessiva quantidade de anos empregados:"
      ]
    },
    {
      "cell_type": "code",
      "source": [
        "dados.loc[dados['anos_empregado'] > 60]"
      ],
      "metadata": {
        "colab": {
          "base_uri": "https://localhost:8080/",
          "height": 0
        },
        "id": "8GbEpjpMz2Q_",
        "outputId": "61d33a4a-f841-438a-d063-61a68bdda4e9"
      },
      "execution_count": 36,
      "outputs": [
        {
          "output_type": "execute_result",
          "data": {
            "text/plain": [
              "      idade  salario_anual  situacao_imovel  anos_empregado motivo_emprestimo  \\\n",
              "1022     21       192000.0                0             123           Venture   \n",
              "5760     22        59000.0                1             123          Personal   \n",
              "\n",
              "     pontuacao_emprestimo  total_a_emprestar  juros  \\\n",
              "1022                    A            20000.0   6.54   \n",
              "5760                    D            35000.0  16.02   \n",
              "\n",
              "      possibilidade_inadimplencia  percentual_emprestimo_renda  \\\n",
              "1022                            0                         0.10   \n",
              "5760                            1                         0.59   \n",
              "\n",
              "     ja_foi_inadimplente  anos_de_credito  \n",
              "1022                   N              4.0  \n",
              "5760                   Y              3.0  "
            ],
            "text/html": [
              "\n",
              "  <div id=\"df-14dd8612-aee4-4ccf-be62-3039c60128f1\">\n",
              "    <div class=\"colab-df-container\">\n",
              "      <div>\n",
              "<style scoped>\n",
              "    .dataframe tbody tr th:only-of-type {\n",
              "        vertical-align: middle;\n",
              "    }\n",
              "\n",
              "    .dataframe tbody tr th {\n",
              "        vertical-align: top;\n",
              "    }\n",
              "\n",
              "    .dataframe thead th {\n",
              "        text-align: right;\n",
              "    }\n",
              "</style>\n",
              "<table border=\"1\" class=\"dataframe\">\n",
              "  <thead>\n",
              "    <tr style=\"text-align: right;\">\n",
              "      <th></th>\n",
              "      <th>idade</th>\n",
              "      <th>salario_anual</th>\n",
              "      <th>situacao_imovel</th>\n",
              "      <th>anos_empregado</th>\n",
              "      <th>motivo_emprestimo</th>\n",
              "      <th>pontuacao_emprestimo</th>\n",
              "      <th>total_a_emprestar</th>\n",
              "      <th>juros</th>\n",
              "      <th>possibilidade_inadimplencia</th>\n",
              "      <th>percentual_emprestimo_renda</th>\n",
              "      <th>ja_foi_inadimplente</th>\n",
              "      <th>anos_de_credito</th>\n",
              "    </tr>\n",
              "  </thead>\n",
              "  <tbody>\n",
              "    <tr>\n",
              "      <th>1022</th>\n",
              "      <td>21</td>\n",
              "      <td>192000.0</td>\n",
              "      <td>0</td>\n",
              "      <td>123</td>\n",
              "      <td>Venture</td>\n",
              "      <td>A</td>\n",
              "      <td>20000.0</td>\n",
              "      <td>6.54</td>\n",
              "      <td>0</td>\n",
              "      <td>0.10</td>\n",
              "      <td>N</td>\n",
              "      <td>4.0</td>\n",
              "    </tr>\n",
              "    <tr>\n",
              "      <th>5760</th>\n",
              "      <td>22</td>\n",
              "      <td>59000.0</td>\n",
              "      <td>1</td>\n",
              "      <td>123</td>\n",
              "      <td>Personal</td>\n",
              "      <td>D</td>\n",
              "      <td>35000.0</td>\n",
              "      <td>16.02</td>\n",
              "      <td>1</td>\n",
              "      <td>0.59</td>\n",
              "      <td>Y</td>\n",
              "      <td>3.0</td>\n",
              "    </tr>\n",
              "  </tbody>\n",
              "</table>\n",
              "</div>\n",
              "      <button class=\"colab-df-convert\" onclick=\"convertToInteractive('df-14dd8612-aee4-4ccf-be62-3039c60128f1')\"\n",
              "              title=\"Convert this dataframe to an interactive table.\"\n",
              "              style=\"display:none;\">\n",
              "        \n",
              "  <svg xmlns=\"http://www.w3.org/2000/svg\" height=\"24px\"viewBox=\"0 0 24 24\"\n",
              "       width=\"24px\">\n",
              "    <path d=\"M0 0h24v24H0V0z\" fill=\"none\"/>\n",
              "    <path d=\"M18.56 5.44l.94 2.06.94-2.06 2.06-.94-2.06-.94-.94-2.06-.94 2.06-2.06.94zm-11 1L8.5 8.5l.94-2.06 2.06-.94-2.06-.94L8.5 2.5l-.94 2.06-2.06.94zm10 10l.94 2.06.94-2.06 2.06-.94-2.06-.94-.94-2.06-.94 2.06-2.06.94z\"/><path d=\"M17.41 7.96l-1.37-1.37c-.4-.4-.92-.59-1.43-.59-.52 0-1.04.2-1.43.59L10.3 9.45l-7.72 7.72c-.78.78-.78 2.05 0 2.83L4 21.41c.39.39.9.59 1.41.59.51 0 1.02-.2 1.41-.59l7.78-7.78 2.81-2.81c.8-.78.8-2.07 0-2.86zM5.41 20L4 18.59l7.72-7.72 1.47 1.35L5.41 20z\"/>\n",
              "  </svg>\n",
              "      </button>\n",
              "      \n",
              "  <style>\n",
              "    .colab-df-container {\n",
              "      display:flex;\n",
              "      flex-wrap:wrap;\n",
              "      gap: 12px;\n",
              "    }\n",
              "\n",
              "    .colab-df-convert {\n",
              "      background-color: #E8F0FE;\n",
              "      border: none;\n",
              "      border-radius: 50%;\n",
              "      cursor: pointer;\n",
              "      display: none;\n",
              "      fill: #1967D2;\n",
              "      height: 32px;\n",
              "      padding: 0 0 0 0;\n",
              "      width: 32px;\n",
              "    }\n",
              "\n",
              "    .colab-df-convert:hover {\n",
              "      background-color: #E2EBFA;\n",
              "      box-shadow: 0px 1px 2px rgba(60, 64, 67, 0.3), 0px 1px 3px 1px rgba(60, 64, 67, 0.15);\n",
              "      fill: #174EA6;\n",
              "    }\n",
              "\n",
              "    [theme=dark] .colab-df-convert {\n",
              "      background-color: #3B4455;\n",
              "      fill: #D2E3FC;\n",
              "    }\n",
              "\n",
              "    [theme=dark] .colab-df-convert:hover {\n",
              "      background-color: #434B5C;\n",
              "      box-shadow: 0px 1px 3px 1px rgba(0, 0, 0, 0.15);\n",
              "      filter: drop-shadow(0px 1px 2px rgba(0, 0, 0, 0.3));\n",
              "      fill: #FFFFFF;\n",
              "    }\n",
              "  </style>\n",
              "\n",
              "      <script>\n",
              "        const buttonEl =\n",
              "          document.querySelector('#df-14dd8612-aee4-4ccf-be62-3039c60128f1 button.colab-df-convert');\n",
              "        buttonEl.style.display =\n",
              "          google.colab.kernel.accessAllowed ? 'block' : 'none';\n",
              "\n",
              "        async function convertToInteractive(key) {\n",
              "          const element = document.querySelector('#df-14dd8612-aee4-4ccf-be62-3039c60128f1');\n",
              "          const dataTable =\n",
              "            await google.colab.kernel.invokeFunction('convertToInteractive',\n",
              "                                                     [key], {});\n",
              "          if (!dataTable) return;\n",
              "\n",
              "          const docLinkHtml = 'Like what you see? Visit the ' +\n",
              "            '<a target=\"_blank\" href=https://colab.research.google.com/notebooks/data_table.ipynb>data table notebook</a>'\n",
              "            + ' to learn more about interactive tables.';\n",
              "          element.innerHTML = '';\n",
              "          dataTable['output_type'] = 'display_data';\n",
              "          await google.colab.output.renderOutput(dataTable, element);\n",
              "          const docLink = document.createElement('div');\n",
              "          docLink.innerHTML = docLinkHtml;\n",
              "          element.appendChild(docLink);\n",
              "        }\n",
              "      </script>\n",
              "    </div>\n",
              "  </div>\n",
              "  "
            ]
          },
          "metadata": {},
          "execution_count": 36
        }
      ]
    },
    {
      "cell_type": "markdown",
      "source": [
        "Removendo linhas com dados inconsistentes:"
      ],
      "metadata": {
        "id": "kpuIQ64z0Bqa"
      }
    },
    {
      "cell_type": "code",
      "source": [
        "dados.drop(dados[dados['anos_empregado'] > 60].index, inplace = True)"
      ],
      "metadata": {
        "id": "OKTSGK360D02"
      },
      "execution_count": 37,
      "outputs": []
    },
    {
      "cell_type": "code",
      "source": [
        "dados['anos_empregado'].unique()"
      ],
      "metadata": {
        "colab": {
          "base_uri": "https://localhost:8080/"
        },
        "id": "XPYjO7Ig0Qko",
        "outputId": "bd2e0fa9-2989-4033-8266-8fa3a26cbdbe"
      },
      "execution_count": 38,
      "outputs": [
        {
          "output_type": "execute_result",
          "data": {
            "text/plain": [
              "array([ 5,  3,  6,  8,  9,  0,  7,  1,  2, 14, 13,  4, 11, 17, 12, 10, 18,\n",
              "       19, 21, 15, 16, 20, 27, 22, 24, 23, 28, 31, 41, 26, 38, 29, 25, 34,\n",
              "       30])"
            ]
          },
          "metadata": {},
          "execution_count": 38
        }
      ]
    },
    {
      "cell_type": "markdown",
      "source": [
        "Distribuição:"
      ],
      "metadata": {
        "id": "zgIk3iBtQfy0"
      }
    },
    {
      "cell_type": "code",
      "source": [
        "import seaborn as sns\n",
        "\n",
        "ax = sns.displot(dados['anos_empregado'], kde= True, bins = 40)\n",
        "ax.set(xlabel= 'Anos Empregado', ylabel= 'Densidade')\n",
        "ax.figure.set_size_inches(12,8)"
      ],
      "metadata": {
        "colab": {
          "base_uri": "https://localhost:8080/",
          "height": 0
        },
        "id": "SQmTRqicQhqS",
        "outputId": "9ab5e49b-c87e-4a96-9f43-f3707ad18dc7"
      },
      "execution_count": 39,
      "outputs": [
        {
          "output_type": "display_data",
          "data": {
            "text/plain": [
              "<Figure size 864x576 with 1 Axes>"
            ],
            "image/png": "[encoded data removed]"
          },
          "metadata": {
            "needs_background": "light"
          }
        }
      ]
    },
    {
      "cell_type": "markdown",
      "source": [
        "Distribuição em porcentagens:"
      ],
      "metadata": {
        "id": "CB_suE1YTXm2"
      }
    },
    {
      "cell_type": "code",
      "source": [
        "anos_empregado_porcentagens = (dados['anos_empregado'].value_counts(normalize = True) * 100).round(2)"
      ],
      "metadata": {
        "id": "iWM_kXRvRzEs"
      },
      "execution_count": 40,
      "outputs": []
    },
    {
      "cell_type": "code",
      "source": [
        "anos_empregado_porcentagens"
      ],
      "metadata": {
        "colab": {
          "base_uri": "https://localhost:8080/"
        },
        "id": "m1iZSVLXTa4a",
        "outputId": "d71d058a-f4b6-47d3-b8b8-2db0ff9fb1c5"
      },
      "execution_count": 41,
      "outputs": [
        {
          "output_type": "execute_result",
          "data": {
            "text/plain": [
              "0     12.95\n",
              "2     12.12\n",
              "3     10.95\n",
              "5      9.48\n",
              "1      9.23\n",
              "4      8.98\n",
              "6      8.36\n",
              "7      6.88\n",
              "8      5.36\n",
              "9      4.28\n",
              "11     2.31\n",
              "10     2.20\n",
              "12     1.81\n",
              "13     1.32\n",
              "14     1.07\n",
              "15     0.74\n",
              "16     0.53\n",
              "17     0.40\n",
              "18     0.33\n",
              "19     0.21\n",
              "20     0.13\n",
              "21     0.12\n",
              "22     0.06\n",
              "23     0.03\n",
              "24     0.03\n",
              "25     0.03\n",
              "27     0.02\n",
              "31     0.01\n",
              "26     0.01\n",
              "28     0.01\n",
              "30     0.01\n",
              "41     0.00\n",
              "38     0.00\n",
              "29     0.00\n",
              "34     0.00\n",
              "Name: anos_empregado, dtype: float64"
            ]
          },
          "metadata": {},
          "execution_count": 41
        }
      ]
    },
    {
      "cell_type": "code",
      "source": [
        "print(f'{anos_empregado_porcentagens[0] + anos_empregado_porcentagens[1]}% dos mutuários está empregado a no máximo 1 ano.')"
      ],
      "metadata": {
        "colab": {
          "base_uri": "https://localhost:8080/"
        },
        "id": "2PWn2bUYaO80",
        "outputId": "fb0385cd-abe5-45d6-b06c-fe4c2fd7bfe1"
      },
      "execution_count": 42,
      "outputs": [
        {
          "output_type": "stream",
          "name": "stdout",
          "text": [
            "22.18% dos mutuários está empregado a no máximo 1 ano.\n"
          ]
        }
      ]
    },
    {
      "cell_type": "markdown",
      "source": [
        "#### Conclusões"
      ],
      "metadata": {
        "id": "2hz26aInQYJf"
      }
    },
    {
      "cell_type": "markdown",
      "source": [
        "* Esta variável representa a quantidade de anos que o mutuário passou empregado até a data de solicitação do empréstimo.\n",
        "\n",
        "* 22.18% dos mutuários está empregado à, no máximo, 1 ano."
      ],
      "metadata": {
        "id": "_PhVy2Y6RPTB"
      }
    },
    {
      "cell_type": "markdown",
      "metadata": {
        "id": "3S9x2lYFjJtQ"
      },
      "source": [
        "### Análise da variável: 'motivo_emprestimo'"
      ]
    },
    {
      "cell_type": "markdown",
      "source": [
        "#### Análises"
      ],
      "metadata": {
        "id": "Y5QCxeCClb8_"
      }
    },
    {
      "cell_type": "markdown",
      "source": [
        "Conferindo dados preenchidos:"
      ],
      "metadata": {
        "id": "3t6z7VYUgeIa"
      }
    },
    {
      "cell_type": "code",
      "execution_count": 43,
      "metadata": {
        "colab": {
          "base_uri": "https://localhost:8080/"
        },
        "id": "3mjxakhWjACE",
        "outputId": "c51f636d-77d6-4e5f-e323-431aee4bdbde"
      },
      "outputs": [
        {
          "output_type": "execute_result",
          "data": {
            "text/plain": [
              "array(['Homeimprovement', 'Venture', 'Education', 'Personal',\n",
              "       'Debtconsolidation', 'Medical'], dtype=object)"
            ]
          },
          "metadata": {},
          "execution_count": 43
        }
      ],
      "source": [
        "dados['motivo_emprestimo'].unique()"
      ]
    },
    {
      "cell_type": "markdown",
      "source": [
        "Distribuição dos dados em porcentagem:"
      ],
      "metadata": {
        "id": "jxAnOvUwggfh"
      }
    },
    {
      "cell_type": "code",
      "source": [
        "motivo_emprestimo_porcentagens = (dados['motivo_emprestimo'].value_counts(normalize = True) * 100).round(2)\n",
        "motivo_emprestimo_porcentagens"
      ],
      "metadata": {
        "colab": {
          "base_uri": "https://localhost:8080/"
        },
        "id": "VT1MVE95byXJ",
        "outputId": "822a7a8a-94a4-4fab-d074-c0bfed432d9a"
      },
      "execution_count": 44,
      "outputs": [
        {
          "output_type": "execute_result",
          "data": {
            "text/plain": [
              "Education            19.92\n",
              "Medical              18.49\n",
              "Venture              17.46\n",
              "Personal             17.03\n",
              "Debtconsolidation    15.94\n",
              "Homeimprovement      11.17\n",
              "Name: motivo_emprestimo, dtype: float64"
            ]
          },
          "metadata": {},
          "execution_count": 44
        }
      ]
    },
    {
      "cell_type": "code",
      "source": [
        "print(f'{motivo_emprestimo_porcentagens[0]}% dos mutuários solicitaram empréstimo para investir em educação.')\n",
        "print(f'{motivo_emprestimo_porcentagens[1]}% dos mutuários solicitaram empréstimo por motivos médicos e/ou de saúde.')\n",
        "print(f'{motivo_emprestimo_porcentagens[2]}% dos mutuários solicitaram empréstimo para investir em um empreendimento.')\n",
        "print(f'{motivo_emprestimo_porcentagens[3]}% dos mutuários solicitaram empréstimo por motivos pessoais.')\n",
        "print(f'{motivo_emprestimo_porcentagens[4]}% dos mutuários solicitaram empréstimo para pagar dívidas.')\n",
        "print(f'{motivo_emprestimo_porcentagens[5]}% dos mutuários solicitaram empréstimo para reformar a casa.')"
      ],
      "metadata": {
        "colab": {
          "base_uri": "https://localhost:8080/"
        },
        "id": "ajVbfB45cS1c",
        "outputId": "938acb8e-a529-4f94-ada1-d16098fbc011"
      },
      "execution_count": 45,
      "outputs": [
        {
          "output_type": "stream",
          "name": "stdout",
          "text": [
            "19.92% dos mutuários solicitaram empréstimo para investir em educação.\n",
            "18.49% dos mutuários solicitaram empréstimo por motivos médicos e/ou de saúde.\n",
            "17.46% dos mutuários solicitaram empréstimo para investir em um empreendimento.\n",
            "17.03% dos mutuários solicitaram empréstimo por motivos pessoais.\n",
            "15.94% dos mutuários solicitaram empréstimo para pagar dívidas.\n",
            "11.17% dos mutuários solicitaram empréstimo para reformar a casa.\n"
          ]
        }
      ]
    },
    {
      "cell_type": "markdown",
      "source": [
        "#### Transformação numérica da variável"
      ],
      "metadata": {
        "id": "-RVBDlx0b_v2"
      }
    },
    {
      "cell_type": "markdown",
      "source": [
        "Transformaremos esta categorização para números:"
      ],
      "metadata": {
        "id": "XaSpAInl0ixq"
      }
    },
    {
      "cell_type": "code",
      "source": [
        "tradudor_motivo_emprestimo = {'Homeimprovement': 0, \n",
        "                              'Venture' : 1,\n",
        "                              'Education' : 2,\n",
        "                              'Personal' : 3,\n",
        "                              'Debtconsolidation' : 4,\n",
        "                              'Medical' : 5}\n",
        "\n",
        "dados['motivo_emprestimo'].replace(tradudor_motivo_emprestimo, inplace=True)"
      ],
      "metadata": {
        "id": "aEdhVkfk0l1z"
      },
      "execution_count": 46,
      "outputs": []
    },
    {
      "cell_type": "code",
      "source": [
        "dados['motivo_emprestimo'].unique()"
      ],
      "metadata": {
        "colab": {
          "base_uri": "https://localhost:8080/"
        },
        "id": "kMrvrJ9405ca",
        "outputId": "d6464fc8-7314-4f7b-946b-f1e47fcda4a8"
      },
      "execution_count": 47,
      "outputs": [
        {
          "output_type": "execute_result",
          "data": {
            "text/plain": [
              "array([0, 1, 2, 3, 4, 5])"
            ]
          },
          "metadata": {},
          "execution_count": 47
        }
      ]
    },
    {
      "cell_type": "markdown",
      "source": [
        "#### Conclusões"
      ],
      "metadata": {
        "id": "H-FVTfWXcHPt"
      }
    },
    {
      "cell_type": "markdown",
      "metadata": {
        "id": "VsMOXaKkk3u1"
      },
      "source": [
        "* Variável 'motivo_emprestimo' apresenta boa integridade.\n",
        "* 38.41% dos mutuários solicitaram empréstimo por motivos educacionais ou de saúde.\n",
        "\n"
      ]
    },
    {
      "cell_type": "markdown",
      "metadata": {
        "id": "u3Om6yIQjOmx"
      },
      "source": [
        "### Análise da variável: 'pontuacao_emprestimo'"
      ]
    },
    {
      "cell_type": "markdown",
      "source": [
        "#### Análises"
      ],
      "metadata": {
        "id": "NZ1KnvUk1Y_d"
      }
    },
    {
      "cell_type": "markdown",
      "source": [
        "Conferindo dados preenchidos:"
      ],
      "metadata": {
        "id": "1ncUPJalgtj_"
      }
    },
    {
      "cell_type": "code",
      "execution_count": 48,
      "metadata": {
        "colab": {
          "base_uri": "https://localhost:8080/"
        },
        "id": "imsRynAGi_zd",
        "outputId": "73a39ef8-6070-4e08-da2d-648a86454993"
      },
      "outputs": [
        {
          "output_type": "execute_result",
          "data": {
            "text/plain": [
              "array(['B', 'D', 'A', 'C', 'E', 'F', 'G'], dtype=object)"
            ]
          },
          "metadata": {},
          "execution_count": 48
        }
      ],
      "source": [
        "dados['pontuacao_emprestimo'].unique()"
      ]
    },
    {
      "cell_type": "markdown",
      "source": [
        "Distribuição dos dados em porcentagem:"
      ],
      "metadata": {
        "id": "hOxHqZ6VgwOG"
      }
    },
    {
      "cell_type": "code",
      "source": [
        "pontuacao_emprestimo_porcentagens = (dados['pontuacao_emprestimo'].value_counts(normalize = True) * 100).round(2)\n",
        "pontuacao_emprestimo_porcentagens"
      ],
      "metadata": {
        "colab": {
          "base_uri": "https://localhost:8080/"
        },
        "id": "3uje86n3fjOD",
        "outputId": "2eaa47bd-bda5-4f9c-b50a-5b34eda5814c"
      },
      "execution_count": 49,
      "outputs": [
        {
          "output_type": "execute_result",
          "data": {
            "text/plain": [
              "A    32.83\n",
              "B    31.96\n",
              "C    19.89\n",
              "D    11.34\n",
              "E     3.04\n",
              "F     0.73\n",
              "G     0.21\n",
              "Name: pontuacao_emprestimo, dtype: float64"
            ]
          },
          "metadata": {},
          "execution_count": 49
        }
      ]
    },
    {
      "cell_type": "code",
      "source": [
        "print(f'{pontuacao_emprestimo_porcentagens[0] + pontuacao_emprestimo_porcentagens[1]:.2f}% dos mutuários tem avaliação A ou B.')"
      ],
      "metadata": {
        "colab": {
          "base_uri": "https://localhost:8080/"
        },
        "id": "K-y7H286f1-o",
        "outputId": "aadf097e-2aa5-457a-9ee1-78e3b87a2188"
      },
      "execution_count": 50,
      "outputs": [
        {
          "output_type": "stream",
          "name": "stdout",
          "text": [
            "64.79% dos mutuários tem avaliação A ou B.\n"
          ]
        }
      ]
    },
    {
      "cell_type": "markdown",
      "source": [
        "#### Transformação numérica da variável"
      ],
      "metadata": {
        "id": "0Q1YiDwFfXNA"
      }
    },
    {
      "cell_type": "markdown",
      "source": [
        "Transformaremos esta categorização para números:"
      ],
      "metadata": {
        "id": "t3HGy9cd1Q9W"
      }
    },
    {
      "cell_type": "code",
      "source": [
        "tradudor_pontuacao_emprestimo = {'A': 0,\n",
        "                                 'B' : 1,\n",
        "                                 'C' : 2,\n",
        "                                 'D' : 3,\n",
        "                                 'E' : 4,\n",
        "                                 'F' : 5,\n",
        "                                 'G' : 6}\n",
        "\n",
        "dados['pontuacao_emprestimo'].replace(tradudor_pontuacao_emprestimo, inplace=True)"
      ],
      "metadata": {
        "id": "22cugivw1RrA"
      },
      "execution_count": 51,
      "outputs": []
    },
    {
      "cell_type": "code",
      "source": [
        "dados['pontuacao_emprestimo'].unique()"
      ],
      "metadata": {
        "colab": {
          "base_uri": "https://localhost:8080/"
        },
        "id": "k0il6Qqq1jIi",
        "outputId": "7d7a4477-27ad-4c7f-e628-ae2d44acc723"
      },
      "execution_count": 52,
      "outputs": [
        {
          "output_type": "execute_result",
          "data": {
            "text/plain": [
              "array([1, 3, 0, 2, 4, 5, 6])"
            ]
          },
          "metadata": {},
          "execution_count": 52
        }
      ]
    },
    {
      "cell_type": "markdown",
      "source": [
        "#### Conclusões"
      ],
      "metadata": {
        "id": "T7SfTPHzfM1S"
      }
    },
    {
      "cell_type": "markdown",
      "metadata": {
        "id": "MNacvipNk8x5"
      },
      "source": [
        "* Variável 'pontuacao_emprestimo' apresenta boa integridade.\n",
        "* 64.79% dos mutuários tem avaliação A ou B."
      ]
    },
    {
      "cell_type": "markdown",
      "metadata": {
        "id": "qn-2nHuIjUls"
      },
      "source": [
        "### Análise da variável: 'total_a_emprestar'"
      ]
    },
    {
      "cell_type": "markdown",
      "source": [
        "#### Análises"
      ],
      "metadata": {
        "id": "wxiOHM4qlhh1"
      }
    },
    {
      "cell_type": "markdown",
      "source": [
        "Inicialmente, plotaremos um gráfico de distribuição agrupados em faixas de $500:"
      ],
      "metadata": {
        "id": "06w4BWrcAfRQ"
      }
    },
    {
      "cell_type": "code",
      "execution_count": 53,
      "metadata": {
        "colab": {
          "base_uri": "https://localhost:8080/",
          "height": 0
        },
        "id": "kwvpOG4ri_Uq",
        "outputId": "78521855-d84a-4a0f-a80d-19a2e34bf802"
      },
      "outputs": [
        {
          "output_type": "display_data",
          "data": {
            "text/plain": [
              "<Figure size 864x576 with 1 Axes>"
            ],
            "image/png": "[encoded data removed]"
          },
          "metadata": {
            "needs_background": "light"
          }
        }
      ],
      "source": [
        "import seaborn as sns\n",
        "\n",
        "ax = sns.displot(dados['total_a_emprestar'], kde= True, bins = 70)\n",
        "ax.set(xlabel= 'total_a_emprestar', ylabel= 'Densidade', title= 'Distribuição do Total a Emprestar')\n",
        "ax.figure.set_size_inches(12,8)"
      ]
    },
    {
      "cell_type": "markdown",
      "source": [
        "#### Conclusões"
      ],
      "metadata": {
        "id": "jwVJ6wlCBtHD"
      }
    },
    {
      "cell_type": "markdown",
      "source": [
        "* Variavel 'total_a_emprestar' apresenta boa integridade.\n",
        "* Observa-se que as faixas de valor de maior interesse para se tomar emprestado são as múltiplos de 5: 5mil, 10mil, 15mil, 20mil, 25mil e 35mil.\n",
        "* Nota-se, também, que valores abaixo de 10mil são mais propensos à ajustes na faixa de 1mil.\n",
        "* Um destaque especial está nas faixas de 5mil e 6mil, que apresentam densidade próxima, não observada em faixas superiores.\n",
        "* O valor mais comum para se tomar emprestado é de 10mil."
      ],
      "metadata": {
        "id": "EL-LQ2hvhAeI"
      }
    },
    {
      "cell_type": "markdown",
      "metadata": {
        "id": "RxNb9HCWj1yg"
      },
      "source": [
        "### Análise da variável: 'juros'"
      ]
    },
    {
      "cell_type": "markdown",
      "source": [
        "#### Análise"
      ],
      "metadata": {
        "id": "uMsvlkZTlPew"
      }
    },
    {
      "cell_type": "markdown",
      "source": [
        "Distribuição visual das taxas de juros:"
      ],
      "metadata": {
        "id": "ebxT0PmCsbf6"
      }
    },
    {
      "cell_type": "code",
      "execution_count": 54,
      "metadata": {
        "colab": {
          "base_uri": "https://localhost:8080/",
          "height": 0
        },
        "id": "cld3jFMxjWj5",
        "outputId": "04df1e4d-350e-416a-afca-6dfa73fafa45"
      },
      "outputs": [
        {
          "output_type": "display_data",
          "data": {
            "text/plain": [
              "<Figure size 864x576 with 1 Axes>"
            ],
            "image/png": "[encoded data removed]"
          },
          "metadata": {
            "needs_background": "light"
          }
        }
      ],
      "source": [
        "import seaborn as sns\n",
        "\n",
        "ax = sns.displot(dados['juros'], kde= True, bins = 23)\n",
        "ax.set(xlabel= 'Juros', ylabel= 'Densidade', title= 'Distribuição juros')\n",
        "ax.figure.set_size_inches(12,8)"
      ]
    },
    {
      "cell_type": "markdown",
      "source": [
        "Distribuição, em porcentagem, de cada faixa da taxa de juros:"
      ],
      "metadata": {
        "id": "rLAtAsvpsgn2"
      }
    },
    {
      "cell_type": "code",
      "source": [
        "intervalos_de_juros = [5, 6, 7, 8, 9, 10, 11, 12, 13, 14, 15, 16, 17]\n",
        "dados['juros'].value_counts(bins=intervalos_de_juros, sort=True, normalize=True).round(2) * 100 "
      ],
      "metadata": {
        "colab": {
          "base_uri": "https://localhost:8080/"
        },
        "id": "q6wwYnwKrd_1",
        "outputId": "1c1de38d-bcad-42f1-c368-97ca573070dc"
      },
      "execution_count": 55,
      "outputs": [
        {
          "output_type": "execute_result",
          "data": {
            "text/plain": [
              "(7.0, 8.0]      14.0\n",
              "(11.0, 12.0]    12.0\n",
              "(10.0, 11.0]    11.0\n",
              "(13.0, 14.0]    10.0\n",
              "(12.0, 13.0]     9.0\n",
              "(6.0, 7.0]       8.0\n",
              "(9.0, 10.0]      7.0\n",
              "(14.0, 15.0]     7.0\n",
              "(15.0, 16.0]     6.0\n",
              "(8.0, 9.0]       5.0\n",
              "(4.999, 6.0]     4.0\n",
              "(16.0, 17.0]     3.0\n",
              "Name: juros, dtype: float64"
            ]
          },
          "metadata": {},
          "execution_count": 55
        }
      ]
    },
    {
      "cell_type": "markdown",
      "source": [
        "#### Conclusões"
      ],
      "metadata": {
        "id": "P_GIYp7alleG"
      }
    },
    {
      "cell_type": "markdown",
      "metadata": {
        "id": "wumzg8qBlLvJ"
      },
      "source": [
        "* Variável 'juros' apresenta boa integridade.\n",
        "* A faixa de juros mais comum é de 7% à 8%, com 14% dos mutuários pagando juros nesta faixa.\n",
        "* 47% dos mutuários pagam entre 7% e 14% de juros.\n"
      ]
    },
    {
      "cell_type": "markdown",
      "metadata": {
        "id": "mDXlQytUkHec"
      },
      "source": [
        "### Análise da variável: 'possibilidade_inadimplencia'"
      ]
    },
    {
      "cell_type": "markdown",
      "source": [
        "#### Análises"
      ],
      "metadata": {
        "id": "ETAcEELUtrxq"
      }
    },
    {
      "cell_type": "code",
      "execution_count": 56,
      "metadata": {
        "colab": {
          "base_uri": "https://localhost:8080/"
        },
        "id": "YjMukexQjWhT",
        "outputId": "04b9bcfd-f3c2-4321-e643-d3273e738a8a"
      },
      "outputs": [
        {
          "output_type": "execute_result",
          "data": {
            "text/plain": [
              "array([0, 1])"
            ]
          },
          "metadata": {},
          "execution_count": 56
        }
      ],
      "source": [
        "dados['possibilidade_inadimplencia'].unique()"
      ]
    },
    {
      "cell_type": "code",
      "source": [
        "possibilidade_inadimplencia_porcentagens = (dados['possibilidade_inadimplencia'].value_counts(normalize = True) * 100).round(2)\n",
        "possibilidade_inadimplencia_porcentagens"
      ],
      "metadata": {
        "colab": {
          "base_uri": "https://localhost:8080/"
        },
        "id": "rb-KJkHWtvyw",
        "outputId": "73a51a37-c02b-4cb7-fe24-f12d10ef14a7"
      },
      "execution_count": 57,
      "outputs": [
        {
          "output_type": "execute_result",
          "data": {
            "text/plain": [
              "0    78.33\n",
              "1    21.67\n",
              "Name: possibilidade_inadimplencia, dtype: float64"
            ]
          },
          "metadata": {},
          "execution_count": 57
        }
      ]
    },
    {
      "cell_type": "markdown",
      "source": [
        "#### Conclusões"
      ],
      "metadata": {
        "id": "k9GozBVjttt_"
      }
    },
    {
      "cell_type": "markdown",
      "metadata": {
        "id": "qa7lmXPwlP4A"
      },
      "source": [
        "* Variável 'possibilidade_inadimplencia' apresenta boa integridade e já está convertida para valores numéricos binários.\n",
        "\n",
        "* O dataset apresenta 78.33% de valores 0, ou seja, possíveis adimplentes.\n",
        "* O dataset apresente 21.67% de valores 1, ou seja, possíveis inadimplentes."
      ]
    },
    {
      "cell_type": "markdown",
      "metadata": {
        "id": "8gRd3XGSkMf5"
      },
      "source": [
        "### Análise da variável: 'percentual_emprestimo_renda'"
      ]
    },
    {
      "cell_type": "markdown",
      "source": [
        "#### Análises"
      ],
      "metadata": {
        "id": "NQdbQwdFupjJ"
      }
    },
    {
      "cell_type": "markdown",
      "source": [
        "Avaliando valores únicos da variável:"
      ],
      "metadata": {
        "id": "3Y89Dx32wiSi"
      }
    },
    {
      "cell_type": "code",
      "execution_count": 58,
      "metadata": {
        "colab": {
          "base_uri": "https://localhost:8080/"
        },
        "id": "ImCnlEOujWes",
        "outputId": "c737d88a-ae5d-45cd-a20e-901959917986"
      },
      "outputs": [
        {
          "output_type": "execute_result",
          "data": {
            "text/plain": [
              "array([0.25, 0.11, 0.15, 0.17, 0.08, 0.07, 0.31, 0.28, 0.22, 0.44, 0.14,\n",
              "       0.04, 0.26, 0.1 , 0.12, 0.24, 0.09, 0.06, 0.18, 0.03, 0.16, 0.29,\n",
              "       0.02, 0.33, 0.3 , 0.13, 0.19, 0.38, 0.47, 0.01, 0.2 , 0.23, 0.37,\n",
              "       0.39, 0.53, 0.05, 0.27, 0.21, 0.4 , 0.32, 0.36, 0.34, 0.45, 0.57,\n",
              "       0.52, 0.51, 0.54, 0.42, 0.43, 0.5 , 0.35, 0.41, 0.46, 0.59, 0.48,\n",
              "       0.49, 0.63, 0.67, 0.6 , 0.55, 0.56, 0.65, 0.7 , 0.68, 0.  , 0.71,\n",
              "       0.58, 0.64, 0.83, 0.76, 0.72, 0.78, 0.61, 0.77, 0.62, 0.66, 0.69])"
            ]
          },
          "metadata": {},
          "execution_count": 58
        }
      ],
      "source": [
        "dados['percentual_emprestimo_renda'].unique()"
      ]
    },
    {
      "cell_type": "markdown",
      "source": [
        "Distribuição visual da variável:"
      ],
      "metadata": {
        "id": "DugA7Rkzwqvi"
      }
    },
    {
      "cell_type": "code",
      "source": [
        "import seaborn as sns\n",
        "\n",
        "ax = sns.displot(dados['percentual_emprestimo_renda'], kde= True, bins = 9)\n",
        "ax.set(xlabel= '% da renda', ylabel= 'Densidade', title= 'Distribuição da equivalência da renda')\n",
        "ax.figure.set_size_inches(12,8)"
      ],
      "metadata": {
        "colab": {
          "base_uri": "https://localhost:8080/",
          "height": 0
        },
        "id": "xCQTdTpmwte4",
        "outputId": "90f12e1b-4c01-4a70-b154-7a498ea53cbc"
      },
      "execution_count": 59,
      "outputs": [
        {
          "output_type": "display_data",
          "data": {
            "text/plain": [
              "<Figure size 864x576 with 1 Axes>"
            ],
            "image/png": "[encoded data removed]"
          },
          "metadata": {
            "needs_background": "light"
          }
        }
      ]
    },
    {
      "cell_type": "markdown",
      "source": [
        "Distribuição em porcentagens:"
      ],
      "metadata": {
        "id": "y7sqNQmExRzX"
      }
    },
    {
      "cell_type": "code",
      "source": [
        "intervalos_de_perc_renda = [0, 0.1, 0.2, 0.3, 0.4, 0.5, 0.6, 0.7, 0.8, 0.9]\n",
        "dados['percentual_emprestimo_renda'].value_counts(bins=intervalos_de_perc_renda, sort=True, normalize=True).round(2) * 100"
      ],
      "metadata": {
        "colab": {
          "base_uri": "https://localhost:8080/"
        },
        "id": "LjWstrZ6u0YE",
        "outputId": "7dd05beb-10cb-439e-91d6-62249cb0e90a"
      },
      "execution_count": 60,
      "outputs": [
        {
          "output_type": "execute_result",
          "data": {
            "text/plain": [
              "(0.1, 0.2]       37.0\n",
              "(-0.001, 0.1]    32.0\n",
              "(0.2, 0.3]       19.0\n",
              "(0.3, 0.4]        8.0\n",
              "(0.4, 0.5]        3.0\n",
              "(0.5, 0.6]        1.0\n",
              "(0.6, 0.7]        0.0\n",
              "(0.7, 0.8]        0.0\n",
              "(0.8, 0.9]        0.0\n",
              "Name: percentual_emprestimo_renda, dtype: float64"
            ]
          },
          "metadata": {},
          "execution_count": 60
        }
      ]
    },
    {
      "cell_type": "markdown",
      "source": [
        "#### Conclusões"
      ],
      "metadata": {
        "id": "pa48YulxutuO"
      }
    },
    {
      "cell_type": "markdown",
      "source": [
        "* A variável apresenta boa integridade de dados.\n",
        "* 37% dos mutuários emprestam um valor equivalente de 1% a 2% da sua renda anual.\n",
        "* 88% dos mutuários emprestam um valor equivalente de não mais que 3% da sua renda anual."
      ],
      "metadata": {
        "id": "rbO03Eb-xaYs"
      }
    },
    {
      "cell_type": "markdown",
      "metadata": {
        "id": "y6imBA7LkhZh"
      },
      "source": [
        "### Análise da variável: 'ja_foi_inadimplente'"
      ]
    },
    {
      "cell_type": "markdown",
      "source": [
        "#### Análises"
      ],
      "metadata": {
        "id": "PcpiY78l1l0G"
      }
    },
    {
      "cell_type": "code",
      "execution_count": 61,
      "metadata": {
        "colab": {
          "base_uri": "https://localhost:8080/"
        },
        "id": "LpixIQT4kQ6T",
        "outputId": "724798dd-65c0-47fa-ad85-15f11af94786"
      },
      "outputs": [
        {
          "output_type": "execute_result",
          "data": {
            "text/plain": [
              "array(['N', 'Y'], dtype=object)"
            ]
          },
          "metadata": {},
          "execution_count": 61
        }
      ],
      "source": [
        "dados['ja_foi_inadimplente'].unique()"
      ]
    },
    {
      "cell_type": "code",
      "source": [
        "inadimplentes = dados['ja_foi_inadimplente'].value_counts(normalize = True).round(2) * 100\n",
        "inadimplentes"
      ],
      "metadata": {
        "colab": {
          "base_uri": "https://localhost:8080/"
        },
        "id": "bykFmJZEyuIx",
        "outputId": "49e79f77-4a7b-4214-e5d2-f13320973175"
      },
      "execution_count": 62,
      "outputs": [
        {
          "output_type": "execute_result",
          "data": {
            "text/plain": [
              "N    82.0\n",
              "Y    18.0\n",
              "Name: ja_foi_inadimplente, dtype: float64"
            ]
          },
          "metadata": {},
          "execution_count": 62
        }
      ]
    },
    {
      "cell_type": "markdown",
      "source": [
        "#### Transformação numérica da variável"
      ],
      "metadata": {
        "id": "iwCheke4zNAo"
      }
    },
    {
      "cell_type": "code",
      "source": [
        "tradutor_inadimplentes = {'N': 0, \n",
        "                          'Y' : 1}\n",
        "\n",
        "dados['ja_foi_inadimplente'].replace(tradutor_inadimplentes, inplace=True)"
      ],
      "metadata": {
        "id": "ox9WUl8hzP3Q"
      },
      "execution_count": 63,
      "outputs": []
    },
    {
      "cell_type": "code",
      "source": [
        "dados['ja_foi_inadimplente'].unique()"
      ],
      "metadata": {
        "colab": {
          "base_uri": "https://localhost:8080/"
        },
        "id": "x7iPcVD1zg1Y",
        "outputId": "1d36f3aa-4c4f-4980-da61-8cc5d06fdfe3"
      },
      "execution_count": 64,
      "outputs": [
        {
          "output_type": "execute_result",
          "data": {
            "text/plain": [
              "array([0, 1])"
            ]
          },
          "metadata": {},
          "execution_count": 64
        }
      ]
    },
    {
      "cell_type": "markdown",
      "source": [
        "#### Conclusões"
      ],
      "metadata": {
        "id": "fLfXPtjCzCuH"
      }
    },
    {
      "cell_type": "markdown",
      "source": [
        "* A variável apresenta boa integridade de dados.\n",
        "* 82% dos mutuários nunca foram inadimplentes."
      ],
      "metadata": {
        "id": "p2y5AtMDzqNh"
      }
    },
    {
      "cell_type": "markdown",
      "metadata": {
        "id": "jEEhyG5kkpS3"
      },
      "source": [
        "### Análise da variável: 'anos_de_credito'"
      ]
    },
    {
      "cell_type": "markdown",
      "source": [
        "#### Análises"
      ],
      "metadata": {
        "id": "l_zbmMaJ0KPh"
      }
    },
    {
      "cell_type": "code",
      "execution_count": 65,
      "metadata": {
        "colab": {
          "base_uri": "https://localhost:8080/"
        },
        "id": "-dtEOQhUklm_",
        "outputId": "5563dcf2-19e5-4ec7-f7b5-ee6d39ed20e8"
      },
      "outputs": [
        {
          "output_type": "execute_result",
          "data": {
            "text/plain": [
              "array([ 3.,  2.,  4., 10.,  8.,  9.,  6.,  7., 13.,  5., 11., 12., 15.,\n",
              "       17., 16., 28., 27., 14., 26., 20., 24., 25., 18., 30., 22., 19.,\n",
              "       21., 29., 23.])"
            ]
          },
          "metadata": {},
          "execution_count": 65
        }
      ],
      "source": [
        "dados['anos_de_credito'].unique()"
      ]
    },
    {
      "cell_type": "code",
      "execution_count": 66,
      "metadata": {
        "colab": {
          "base_uri": "https://localhost:8080/"
        },
        "id": "tO8m4rpwks6N",
        "outputId": "0b294f1e-e40a-479a-b8cd-c5e935636060"
      },
      "outputs": [
        {
          "output_type": "execute_result",
          "data": {
            "text/plain": [
              "3.0     18.0\n",
              "4.0     18.0\n",
              "2.0     18.0\n",
              "7.0      6.0\n",
              "8.0      6.0\n",
              "9.0      6.0\n",
              "5.0      6.0\n",
              "6.0      6.0\n",
              "10.0     6.0\n",
              "14.0     2.0\n",
              "12.0     1.0\n",
              "11.0     1.0\n",
              "16.0     1.0\n",
              "13.0     1.0\n",
              "15.0     1.0\n",
              "17.0     1.0\n",
              "20.0     0.0\n",
              "24.0     0.0\n",
              "28.0     0.0\n",
              "22.0     0.0\n",
              "23.0     0.0\n",
              "27.0     0.0\n",
              "30.0     0.0\n",
              "19.0     0.0\n",
              "21.0     0.0\n",
              "26.0     0.0\n",
              "25.0     0.0\n",
              "18.0     0.0\n",
              "29.0     0.0\n",
              "Name: anos_de_credito, dtype: float64"
            ]
          },
          "metadata": {},
          "execution_count": 66
        }
      ],
      "source": [
        "dados['anos_de_credito'].value_counts(normalize = True).round(2) * 100"
      ]
    },
    {
      "cell_type": "markdown",
      "source": [
        "#### Conclusões"
      ],
      "metadata": {
        "id": "UUD7ncWq0MLt"
      }
    },
    {
      "cell_type": "markdown",
      "source": [
        "* A variável apresenta boa integridade de dados.\n",
        "* 54% dos mutuários obtiveram a primeira linha de crédito de 2 a 4 anos atrás."
      ],
      "metadata": {
        "id": "fqbHCsLQ0ggO"
      }
    },
    {
      "cell_type": "markdown",
      "source": [
        "### Reorganizando índice:"
      ],
      "metadata": {
        "id": "DFiFogXh4aOa"
      }
    },
    {
      "cell_type": "code",
      "execution_count": 67,
      "metadata": {
        "id": "vK2E0NwqAUWu"
      },
      "outputs": [],
      "source": [
        "dados.reset_index(drop=True, inplace=True)"
      ]
    },
    {
      "cell_type": "code",
      "source": [
        "dados.head()"
      ],
      "metadata": {
        "colab": {
          "base_uri": "https://localhost:8080/",
          "height": 0
        },
        "id": "2kkOKVH64zqL",
        "outputId": "0bbe2007-31e9-40d5-ab5b-be1ac770754f"
      },
      "execution_count": 68,
      "outputs": [
        {
          "output_type": "execute_result",
          "data": {
            "text/plain": [
              "   idade  salario_anual  situacao_imovel  anos_empregado  motivo_emprestimo  \\\n",
              "0     26        50000.0                0               5                  0   \n",
              "1     22        45000.0                1               3                  1   \n",
              "2     26       155142.0                0               6                  0   \n",
              "3     24        49232.0                1               8                  2   \n",
              "4     26       125000.0                1               6                  1   \n",
              "\n",
              "   pontuacao_emprestimo  total_a_emprestar  juros  \\\n",
              "0                     1            12375.0  10.99   \n",
              "1                     1             5000.0  12.42   \n",
              "2                     3            23000.0  18.25   \n",
              "3                     0             8500.0   6.54   \n",
              "4                     0            10000.0   7.49   \n",
              "\n",
              "   possibilidade_inadimplencia  percentual_emprestimo_renda  \\\n",
              "0                            0                         0.25   \n",
              "1                            0                         0.11   \n",
              "2                            0                         0.15   \n",
              "3                            0                         0.17   \n",
              "4                            0                         0.08   \n",
              "\n",
              "   ja_foi_inadimplente  anos_de_credito  \n",
              "0                    0              3.0  \n",
              "1                    0              2.0  \n",
              "2                    0              2.0  \n",
              "3                    0              4.0  \n",
              "4                    0              2.0  "
            ],
            "text/html": [
              "\n",
              "  <div id=\"df-f143da5b-6014-4bf1-91ec-750e6db593a0\">\n",
              "    <div class=\"colab-df-container\">\n",
              "      <div>\n",
              "<style scoped>\n",
              "    .dataframe tbody tr th:only-of-type {\n",
              "        vertical-align: middle;\n",
              "    }\n",
              "\n",
              "    .dataframe tbody tr th {\n",
              "        vertical-align: top;\n",
              "    }\n",
              "\n",
              "    .dataframe thead th {\n",
              "        text-align: right;\n",
              "    }\n",
              "</style>\n",
              "<table border=\"1\" class=\"dataframe\">\n",
              "  <thead>\n",
              "    <tr style=\"text-align: right;\">\n",
              "      <th></th>\n",
              "      <th>idade</th>\n",
              "      <th>salario_anual</th>\n",
              "      <th>situacao_imovel</th>\n",
              "      <th>anos_empregado</th>\n",
              "      <th>motivo_emprestimo</th>\n",
              "      <th>pontuacao_emprestimo</th>\n",
              "      <th>total_a_emprestar</th>\n",
              "      <th>juros</th>\n",
              "      <th>possibilidade_inadimplencia</th>\n",
              "      <th>percentual_emprestimo_renda</th>\n",
              "      <th>ja_foi_inadimplente</th>\n",
              "      <th>anos_de_credito</th>\n",
              "    </tr>\n",
              "  </thead>\n",
              "  <tbody>\n",
              "    <tr>\n",
              "      <th>0</th>\n",
              "      <td>26</td>\n",
              "      <td>50000.0</td>\n",
              "      <td>0</td>\n",
              "      <td>5</td>\n",
              "      <td>0</td>\n",
              "      <td>1</td>\n",
              "      <td>12375.0</td>\n",
              "      <td>10.99</td>\n",
              "      <td>0</td>\n",
              "      <td>0.25</td>\n",
              "      <td>0</td>\n",
              "      <td>3.0</td>\n",
              "    </tr>\n",
              "    <tr>\n",
              "      <th>1</th>\n",
              "      <td>22</td>\n",
              "      <td>45000.0</td>\n",
              "      <td>1</td>\n",
              "      <td>3</td>\n",
              "      <td>1</td>\n",
              "      <td>1</td>\n",
              "      <td>5000.0</td>\n",
              "      <td>12.42</td>\n",
              "      <td>0</td>\n",
              "      <td>0.11</td>\n",
              "      <td>0</td>\n",
              "      <td>2.0</td>\n",
              "    </tr>\n",
              "    <tr>\n",
              "      <th>2</th>\n",
              "      <td>26</td>\n",
              "      <td>155142.0</td>\n",
              "      <td>0</td>\n",
              "      <td>6</td>\n",
              "      <td>0</td>\n",
              "      <td>3</td>\n",
              "      <td>23000.0</td>\n",
              "      <td>18.25</td>\n",
              "      <td>0</td>\n",
              "      <td>0.15</td>\n",
              "      <td>0</td>\n",
              "      <td>2.0</td>\n",
              "    </tr>\n",
              "    <tr>\n",
              "      <th>3</th>\n",
              "      <td>24</td>\n",
              "      <td>49232.0</td>\n",
              "      <td>1</td>\n",
              "      <td>8</td>\n",
              "      <td>2</td>\n",
              "      <td>0</td>\n",
              "      <td>8500.0</td>\n",
              "      <td>6.54</td>\n",
              "      <td>0</td>\n",
              "      <td>0.17</td>\n",
              "      <td>0</td>\n",
              "      <td>4.0</td>\n",
              "    </tr>\n",
              "    <tr>\n",
              "      <th>4</th>\n",
              "      <td>26</td>\n",
              "      <td>125000.0</td>\n",
              "      <td>1</td>\n",
              "      <td>6</td>\n",
              "      <td>1</td>\n",
              "      <td>0</td>\n",
              "      <td>10000.0</td>\n",
              "      <td>7.49</td>\n",
              "      <td>0</td>\n",
              "      <td>0.08</td>\n",
              "      <td>0</td>\n",
              "      <td>2.0</td>\n",
              "    </tr>\n",
              "  </tbody>\n",
              "</table>\n",
              "</div>\n",
              "      <button class=\"colab-df-convert\" onclick=\"convertToInteractive('df-f143da5b-6014-4bf1-91ec-750e6db593a0')\"\n",
              "              title=\"Convert this dataframe to an interactive table.\"\n",
              "              style=\"display:none;\">\n",
              "        \n",
              "  <svg xmlns=\"http://www.w3.org/2000/svg\" height=\"24px\"viewBox=\"0 0 24 24\"\n",
              "       width=\"24px\">\n",
              "    <path d=\"M0 0h24v24H0V0z\" fill=\"none\"/>\n",
              "    <path d=\"M18.56 5.44l.94 2.06.94-2.06 2.06-.94-2.06-.94-.94-2.06-.94 2.06-2.06.94zm-11 1L8.5 8.5l.94-2.06 2.06-.94-2.06-.94L8.5 2.5l-.94 2.06-2.06.94zm10 10l.94 2.06.94-2.06 2.06-.94-2.06-.94-.94-2.06-.94 2.06-2.06.94z\"/><path d=\"M17.41 7.96l-1.37-1.37c-.4-.4-.92-.59-1.43-.59-.52 0-1.04.2-1.43.59L10.3 9.45l-7.72 7.72c-.78.78-.78 2.05 0 2.83L4 21.41c.39.39.9.59 1.41.59.51 0 1.02-.2 1.41-.59l7.78-7.78 2.81-2.81c.8-.78.8-2.07 0-2.86zM5.41 20L4 18.59l7.72-7.72 1.47 1.35L5.41 20z\"/>\n",
              "  </svg>\n",
              "      </button>\n",
              "      \n",
              "  <style>\n",
              "    .colab-df-container {\n",
              "      display:flex;\n",
              "      flex-wrap:wrap;\n",
              "      gap: 12px;\n",
              "    }\n",
              "\n",
              "    .colab-df-convert {\n",
              "      background-color: #E8F0FE;\n",
              "      border: none;\n",
              "      border-radius: 50%;\n",
              "      cursor: pointer;\n",
              "      display: none;\n",
              "      fill: #1967D2;\n",
              "      height: 32px;\n",
              "      padding: 0 0 0 0;\n",
              "      width: 32px;\n",
              "    }\n",
              "\n",
              "    .colab-df-convert:hover {\n",
              "      background-color: #E2EBFA;\n",
              "      box-shadow: 0px 1px 2px rgba(60, 64, 67, 0.3), 0px 1px 3px 1px rgba(60, 64, 67, 0.15);\n",
              "      fill: #174EA6;\n",
              "    }\n",
              "\n",
              "    [theme=dark] .colab-df-convert {\n",
              "      background-color: #3B4455;\n",
              "      fill: #D2E3FC;\n",
              "    }\n",
              "\n",
              "    [theme=dark] .colab-df-convert:hover {\n",
              "      background-color: #434B5C;\n",
              "      box-shadow: 0px 1px 3px 1px rgba(0, 0, 0, 0.15);\n",
              "      filter: drop-shadow(0px 1px 2px rgba(0, 0, 0, 0.3));\n",
              "      fill: #FFFFFF;\n",
              "    }\n",
              "  </style>\n",
              "\n",
              "      <script>\n",
              "        const buttonEl =\n",
              "          document.querySelector('#df-f143da5b-6014-4bf1-91ec-750e6db593a0 button.colab-df-convert');\n",
              "        buttonEl.style.display =\n",
              "          google.colab.kernel.accessAllowed ? 'block' : 'none';\n",
              "\n",
              "        async function convertToInteractive(key) {\n",
              "          const element = document.querySelector('#df-f143da5b-6014-4bf1-91ec-750e6db593a0');\n",
              "          const dataTable =\n",
              "            await google.colab.kernel.invokeFunction('convertToInteractive',\n",
              "                                                     [key], {});\n",
              "          if (!dataTable) return;\n",
              "\n",
              "          const docLinkHtml = 'Like what you see? Visit the ' +\n",
              "            '<a target=\"_blank\" href=https://colab.research.google.com/notebooks/data_table.ipynb>data table notebook</a>'\n",
              "            + ' to learn more about interactive tables.';\n",
              "          element.innerHTML = '';\n",
              "          dataTable['output_type'] = 'display_data';\n",
              "          await google.colab.output.renderOutput(dataTable, element);\n",
              "          const docLink = document.createElement('div');\n",
              "          docLink.innerHTML = docLinkHtml;\n",
              "          element.appendChild(docLink);\n",
              "        }\n",
              "      </script>\n",
              "    </div>\n",
              "  </div>\n",
              "  "
            ]
          },
          "metadata": {},
          "execution_count": 68
        }
      ]
    },
    {
      "cell_type": "code",
      "source": [
        "dados.info()"
      ],
      "metadata": {
        "colab": {
          "base_uri": "https://localhost:8080/"
        },
        "id": "uSVPpjea42bP",
        "outputId": "a7b4f831-6b51-49e5-81d8-ca39f8234a1a"
      },
      "execution_count": 69,
      "outputs": [
        {
          "output_type": "stream",
          "name": "stdout",
          "text": [
            "<class 'pandas.core.frame.DataFrame'>\n",
            "RangeIndex: 28622 entries, 0 to 28621\n",
            "Data columns (total 12 columns):\n",
            " #   Column                       Non-Null Count  Dtype  \n",
            "---  ------                       --------------  -----  \n",
            " 0   idade                        28622 non-null  int64  \n",
            " 1   salario_anual                28622 non-null  float64\n",
            " 2   situacao_imovel              28622 non-null  int64  \n",
            " 3   anos_empregado               28622 non-null  int64  \n",
            " 4   motivo_emprestimo            28622 non-null  int64  \n",
            " 5   pontuacao_emprestimo         28622 non-null  int64  \n",
            " 6   total_a_emprestar            28622 non-null  float64\n",
            " 7   juros                        28622 non-null  float64\n",
            " 8   possibilidade_inadimplencia  28622 non-null  int64  \n",
            " 9   percentual_emprestimo_renda  28622 non-null  float64\n",
            " 10  ja_foi_inadimplente          28622 non-null  int64  \n",
            " 11  anos_de_credito              28622 non-null  float64\n",
            "dtypes: float64(5), int64(7)\n",
            "memory usage: 2.6 MB\n"
          ]
        }
      ]
    },
    {
      "cell_type": "markdown",
      "metadata": {
        "id": "95czCMpBASgf"
      },
      "source": [
        "## Highlights da análise exploratória das variáveis"
      ]
    },
    {
      "cell_type": "markdown",
      "source": [
        "> **'idade':**\n",
        "* Nota-se que a maior parte dos mutuários tem entre 20 e 30 anos de idade.\n",
        "* O mutuário de idade mais avançada tem 84 anos.\n",
        "* A idade mínima para solicitação de empréstimo é de 20 anos.\n",
        "\n",
        "> **'salario_anual':**\n",
        "* Nota-se que a maior parte dos mutuários tem salário anual de, no máximo, 140mil.\n",
        "* Após avaliação da distribuição dos dados, optou-se por um teto máximo de 800mil, onde valores acima disto foram removidos por serem considerados ouliers.\n",
        "\n",
        "> **'situacao_imovel':**\n",
        "* Esta variável representa a situação da propriedade que o mutuário possui.\n",
        "* 50.82% dos mutuários moram de aluguel.\n",
        "* 41.20% dos mutuários possuem o imóvel financiado.\n",
        "* 7.65% dos mutuários são proprietários do imóvel.\n",
        "\n",
        "> **'anos_empregado':**\n",
        "* Esta variável representa a quantidade de anos que o mutuário passou empregado até a data de solicitação do empréstimo.\n",
        "* 22.18% dos mutuários está empregado à, no máximo, 1 ano.\n",
        "\n",
        "> **'pontuacao_emprestimo':**\n",
        "* 64.79% dos mutuários tem avaliação A ou B.\n",
        "\n",
        "> **'total_a_emprestar':**\n",
        "* Observa-se que as faixas de valor de maior interesse para se tomar emprestado são as múltiplos de 5: 5mil, 10mil, 15mil, 20mil, 25mil e 35mil.\n",
        "* Nota-se, também, que valores abaixo de 10mil são mais propensos à ajustes na faixa de 1mil.\n",
        "* Um destaque especial está nas faixas de 5mil e 6mil, que apresentam densidade próxima, não observada em faixas superiores.\n",
        "* O valor mais comum para se tomar emprestado é de 10mil.\n",
        "\n",
        "\n",
        "> **'juros':**\n",
        "* A faixa de juros mais comum é de 7% à 8%, com 14% dos mutuários pagando juros nesta faixa.\n",
        "* 47% dos mutuários pagam entre 7% e 14% de juros.\n",
        "\n",
        "> **'possibilidade_inadimplencia':**\n",
        "* O dataset apresenta 78.33% de valores 0, ou seja, possíveis adimplentes.\n",
        "* O dataset apresente 21.67% de valores 1, ou seja, possíveis inadimplentes.\n",
        "\n",
        "> **'percentual_emprestimo_renda':**\n",
        "* 37% dos mutuários emprestam um valor equivalente de 1% a 2% da sua renda anual.\n",
        "* 88% dos mutuários emprestam um valor equivalente de não mais que 3% da sua renda anual.\n",
        "\n",
        "> **'ja_foi_inadimplente':**\n",
        "* 82% dos mutuários nunca foram inadimplentes.\n",
        "\n",
        "> **'anos_de_credito':**\n",
        "* 54% dos mutuários obtiveram a primeira linha de crédito de 2 a 4 anos atrás.\n"
      ],
      "metadata": {
        "id": "aGQPL3tH3ald"
      }
    },
    {
      "cell_type": "markdown",
      "source": [
        "# Machine Learning"
      ],
      "metadata": {
        "id": "adwD97TA7XIw"
      }
    }
  ],
  "metadata": {
    "colab": {
      "collapsed_sections": [
        "HGenh1k5liAf",
        "dnyWsBoJv4q0",
        "jw3qtiQVwPFU",
        "YK6IIIeZDCeE",
        "8gI3IxGOXi5-",
        "ar7LgOXfNtRs",
        "zMH2B9qBXz2x",
        "znarvFgUNluF",
        "YrZZakZ1G7-O",
        "tH-qh-6KisYH",
        "FayY1_-Si2WI",
        "nRrxqYeaQVm0",
        "2hz26aInQYJf",
        "3S9x2lYFjJtQ",
        "Y5QCxeCClb8_",
        "-RVBDlx0b_v2",
        "H-FVTfWXcHPt",
        "u3Om6yIQjOmx",
        "0Q1YiDwFfXNA",
        "qn-2nHuIjUls",
        "wxiOHM4qlhh1",
        "RxNb9HCWj1yg",
        "uMsvlkZTlPew",
        "mDXlQytUkHec",
        "ETAcEELUtrxq",
        "8gRd3XGSkMf5",
        "NQdbQwdFupjJ",
        "y6imBA7LkhZh",
        "PcpiY78l1l0G",
        "iwCheke4zNAo",
        "l_zbmMaJ0KPh"
      ],
      "provenance": []
    },
    "kernelspec": {
      "display_name": "Python 3",
      "name": "python3"
    },
    "language_info": {
      "name": "python"
    }
  },
  "nbformat": 4,
  "nbformat_minor": 0
}