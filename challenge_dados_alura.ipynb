{
  "nbformat": 4,
  "nbformat_minor": 0,
  "metadata": {
    "colab": {
      "provenance": [],
      "collapsed_sections": [
        "DPclHBtGPw6M",
        "yU_BpnxNlfOT",
        "HGenh1k5liAf",
        "3S9x2lYFjJtQ",
        "u3Om6yIQjOmx",
        "qn-2nHuIjUls",
        "RxNb9HCWj1yg",
        "mDXlQytUkHec",
        "8gRd3XGSkMf5",
        "y6imBA7LkhZh"
      ]
    },
    "kernelspec": {
      "name": "python3",
      "display_name": "Python 3"
    },
    "language_info": {
      "name": "python"
    }
  },
  "cells": [
    {
      "cell_type": "markdown",
      "source": [
        "# Challenge DADOS Alura - Agosto 2022"
      ],
      "metadata": {
        "id": "pOylRCeNO4g5"
      }
    },
    {
      "cell_type": "markdown",
      "source": [
        "##Alura Cash - Banco digital"
      ],
      "metadata": {
        "id": "HxYi91DZO0dc"
      }
    },
    {
      "cell_type": "markdown",
      "source": [
        "### Semana 01"
      ],
      "metadata": {
        "id": "NF02PC0Oy5p_"
      }
    },
    {
      "cell_type": "markdown",
      "source": [
        "Caso ainda não tenha assistido ao vídeo do primeiro desafio, acesse o link da [**Semana 1**](https://www.alura.com.br/challenges/dados/semana-01-tratamento-de-dados)\n",
        "\n",
        "----\n",
        "\n",
        "**Boas-vindas!**\n",
        "\n",
        "Você foi contratado(a) como pessoa cientista de dados para trabalhar em um banco digital internacional chamado **Alura Cash**. Na primeira reunião do seu novo trabalho, a diretoria financeira informa que, recorrentemente, estão surgindo pessoas inadimplentes após a liberação de créditos. Portanto, é solicitada uma solução para que seja possível diminuir as perdas financeiras por conta de pessoas mutuarias que não quitam suas dívidas.\n",
        "\n",
        "Como cientista de dados, você sugere um estudo das informações financeiras e de solicitação de empréstimo para encontrar padrões que possam indicar uma possível inadimplência.\n",
        "\n",
        "Desse modo, você solicita um conjunto de dados que contenha as informações de clientes, da solicitação de empréstimo, do histórico de crédito, bem como se a pessoa mutuaria é inadimplente ou não. Com esses dados, você sabe que consegue modelar um classificador capaz de encontrar potenciais clientes inadimplentes e solucionar o problema do Alura Cash.\n",
        "\n",
        "Por fim, você vai utilizar o **GitHub** e desenvolver um **portfólio** focado em Data Science, Data Analytics e Machine Learning."
      ],
      "metadata": {
        "id": "xB0w2p0Gy7NL"
      }
    },
    {
      "cell_type": "markdown",
      "source": [
        "# Importações"
      ],
      "metadata": {
        "id": "QfThAz2zOuCq"
      }
    },
    {
      "cell_type": "code",
      "execution_count": 1,
      "metadata": {
        "id": "SMz9sRCE4yYx"
      },
      "outputs": [],
      "source": [
        "import pandas as pd\n",
        "import numpy as np"
      ]
    },
    {
      "cell_type": "markdown",
      "source": [
        "# Datasets"
      ],
      "metadata": {
        "id": "epEFXKN3PGgA"
      }
    },
    {
      "cell_type": "markdown",
      "source": [
        "## Leitura do arquivo CSV"
      ],
      "metadata": {
        "id": "LI8GLAdSPMlX"
      }
    },
    {
      "cell_type": "code",
      "source": [
        "uri = 'https://raw.githubusercontent.com/tarik-pomim/challenge_dados_082022/main/dados.csv'"
      ],
      "metadata": {
        "id": "HJW42gddPYMW"
      },
      "execution_count": 2,
      "outputs": []
    },
    {
      "cell_type": "code",
      "source": [
        "dataset = pd.read_csv(uri)"
      ],
      "metadata": {
        "id": "VH9LI7Yl5Pnj"
      },
      "execution_count": 3,
      "outputs": []
    },
    {
      "cell_type": "markdown",
      "source": [
        "## Avaliações iniciais do dataset"
      ],
      "metadata": {
        "id": "cmzKv5M4Phhl"
      }
    },
    {
      "cell_type": "code",
      "source": [
        "dataset.sample(10)"
      ],
      "metadata": {
        "colab": {
          "base_uri": "https://localhost:8080/",
          "height": 601
        },
        "id": "csj4VNjE55WC",
        "outputId": "96c4e3e8-9b06-402f-9536-0768dbd55688"
      },
      "execution_count": 4,
      "outputs": [
        {
          "output_type": "execute_result",
          "data": {
            "text/plain": [
              "           person_id        loan_id          cb_id    person_id.1  person_age  \\\n",
              "4881   T59KHm1Q-jZCy  4Fr4jMFB-75qS  AoA20Dqa-sMY2  T59KHm1Q-jZCy        30.0   \n",
              "13706  W3sW95YZ-PfiP  Hlxvew1u-1laq  Mi2vJDiu-AwXd  W3sW95YZ-PfiP        23.0   \n",
              "5351   jU7TxT58-pZ0T  taPkd800-mTaq  poG1EU8h-ZTz5  jU7TxT58-pZ0T        24.0   \n",
              "792    piczfiLk-B4dv  ijS2Kc62-eEyZ  hg0X557p-tHJZ  piczfiLk-B4dv        25.0   \n",
              "7307   Do1hNGw4-oufd  aEjYkhHz-STwU  8JKRtx55-aNpL  Do1hNGw4-oufd        23.0   \n",
              "2175   T7gRMl11-NBjq  NSABGGFZ-3xMT  yQF17KPj-s5fF  T7gRMl11-NBjq        24.0   \n",
              "11645  vikOGOHx-veZh  vggppasd-ozXt  vhRzpicK-wnSb  vikOGOHx-veZh        25.0   \n",
              "397    Ci85x6r5-W7st  SdiRIqwz-bl4b  CicwQQcF-Clrk  Ci85x6r5-W7st        24.0   \n",
              "12293  KXhgZX5H-cfvS  4iwNSrzI-gu4y  WRn7YQNR-I5Dk  KXhgZX5H-cfvS        32.0   \n",
              "5145   8MpngQBE-aanI  WAEb212y-YNxD  a8hZwtUj-ujRL  8MpngQBE-aanI        24.0   \n",
              "\n",
              "       person_income person_home_ownership  person_emp_length      loan_id.1  \\\n",
              "4881        115000.0              Mortgage                3.0  4Fr4jMFB-75qS   \n",
              "13706        24000.0                  Rent                1.0  Hlxvew1u-1laq   \n",
              "5351        156000.0              Mortgage                8.0  taPkd800-mTaq   \n",
              "792          61000.0                   Own                2.0  ijS2Kc62-eEyZ   \n",
              "7307         95000.0              Mortgage                1.0  aEjYkhHz-STwU   \n",
              "2175        100000.0              Mortgage                1.0  NSABGGFZ-3xMT   \n",
              "11645        30000.0              Mortgage                2.0  vggppasd-ozXt   \n",
              "397          85100.0                  Rent                3.0  SdiRIqwz-bl4b   \n",
              "12293       110000.0              Mortgage               16.0  4iwNSrzI-gu4y   \n",
              "5145        108288.0              Mortgage                5.0  WAEb212y-YNxD   \n",
              "\n",
              "             loan_intent loan_grade  loan_amnt  loan_int_rate  loan_status  \\\n",
              "4881   Debtconsolidation          D    20000.0          14.59          1.0   \n",
              "13706            Venture          B     5000.0          11.48          0.0   \n",
              "5351            Personal          B    15000.0          10.25          0.0   \n",
              "792             Personal          C    15000.0          14.65          0.0   \n",
              "7307     Homeimprovement          C    19800.0          13.22          1.0   \n",
              "2175   Debtconsolidation          A     6000.0            NaN          0.0   \n",
              "11645           Personal          A    11500.0           8.59          0.0   \n",
              "397            Education          C    15000.0            NaN          0.0   \n",
              "12293    Homeimprovement          A     6700.0           6.92          0.0   \n",
              "5145   Debtconsolidation          A    10000.0           8.49          0.0   \n",
              "\n",
              "       loan_percent_income        cb_id.1 cb_person_default_on_file  \\\n",
              "4881                  0.17  AoA20Dqa-sMY2                         N   \n",
              "13706                 0.21  Mi2vJDiu-AwXd                         N   \n",
              "5351                  0.10  poG1EU8h-ZTz5                         N   \n",
              "792                   0.25  hg0X557p-tHJZ                         N   \n",
              "7307                  0.21  8JKRtx55-aNpL                         Y   \n",
              "2175                  0.06  yQF17KPj-s5fF                         N   \n",
              "11645                 0.38  vhRzpicK-wnSb                         N   \n",
              "397                   0.18  CicwQQcF-Clrk                         Y   \n",
              "12293                 0.06  WRn7YQNR-I5Dk                         N   \n",
              "5145                  0.09  a8hZwtUj-ujRL                         N   \n",
              "\n",
              "       cb_person_cred_hist_length  \n",
              "4881                            7  \n",
              "13706                           4  \n",
              "5351                            2  \n",
              "792                             2  \n",
              "7307                            3  \n",
              "2175                            3  \n",
              "11645                           4  \n",
              "397                             2  \n",
              "12293                           7  \n",
              "5145                            2  "
            ],
            "text/html": [
              "\n",
              "  <div id=\"df-41e239a8-301d-44bd-8a4c-fdd8ab1080f0\">\n",
              "    <div class=\"colab-df-container\">\n",
              "      <div>\n",
              "<style scoped>\n",
              "    .dataframe tbody tr th:only-of-type {\n",
              "        vertical-align: middle;\n",
              "    }\n",
              "\n",
              "    .dataframe tbody tr th {\n",
              "        vertical-align: top;\n",
              "    }\n",
              "\n",
              "    .dataframe thead th {\n",
              "        text-align: right;\n",
              "    }\n",
              "</style>\n",
              "<table border=\"1\" class=\"dataframe\">\n",
              "  <thead>\n",
              "    <tr style=\"text-align: right;\">\n",
              "      <th></th>\n",
              "      <th>person_id</th>\n",
              "      <th>loan_id</th>\n",
              "      <th>cb_id</th>\n",
              "      <th>person_id.1</th>\n",
              "      <th>person_age</th>\n",
              "      <th>person_income</th>\n",
              "      <th>person_home_ownership</th>\n",
              "      <th>person_emp_length</th>\n",
              "      <th>loan_id.1</th>\n",
              "      <th>loan_intent</th>\n",
              "      <th>loan_grade</th>\n",
              "      <th>loan_amnt</th>\n",
              "      <th>loan_int_rate</th>\n",
              "      <th>loan_status</th>\n",
              "      <th>loan_percent_income</th>\n",
              "      <th>cb_id.1</th>\n",
              "      <th>cb_person_default_on_file</th>\n",
              "      <th>cb_person_cred_hist_length</th>\n",
              "    </tr>\n",
              "  </thead>\n",
              "  <tbody>\n",
              "    <tr>\n",
              "      <th>4881</th>\n",
              "      <td>T59KHm1Q-jZCy</td>\n",
              "      <td>4Fr4jMFB-75qS</td>\n",
              "      <td>AoA20Dqa-sMY2</td>\n",
              "      <td>T59KHm1Q-jZCy</td>\n",
              "      <td>30.0</td>\n",
              "      <td>115000.0</td>\n",
              "      <td>Mortgage</td>\n",
              "      <td>3.0</td>\n",
              "      <td>4Fr4jMFB-75qS</td>\n",
              "      <td>Debtconsolidation</td>\n",
              "      <td>D</td>\n",
              "      <td>20000.0</td>\n",
              "      <td>14.59</td>\n",
              "      <td>1.0</td>\n",
              "      <td>0.17</td>\n",
              "      <td>AoA20Dqa-sMY2</td>\n",
              "      <td>N</td>\n",
              "      <td>7</td>\n",
              "    </tr>\n",
              "    <tr>\n",
              "      <th>13706</th>\n",
              "      <td>W3sW95YZ-PfiP</td>\n",
              "      <td>Hlxvew1u-1laq</td>\n",
              "      <td>Mi2vJDiu-AwXd</td>\n",
              "      <td>W3sW95YZ-PfiP</td>\n",
              "      <td>23.0</td>\n",
              "      <td>24000.0</td>\n",
              "      <td>Rent</td>\n",
              "      <td>1.0</td>\n",
              "      <td>Hlxvew1u-1laq</td>\n",
              "      <td>Venture</td>\n",
              "      <td>B</td>\n",
              "      <td>5000.0</td>\n",
              "      <td>11.48</td>\n",
              "      <td>0.0</td>\n",
              "      <td>0.21</td>\n",
              "      <td>Mi2vJDiu-AwXd</td>\n",
              "      <td>N</td>\n",
              "      <td>4</td>\n",
              "    </tr>\n",
              "    <tr>\n",
              "      <th>5351</th>\n",
              "      <td>jU7TxT58-pZ0T</td>\n",
              "      <td>taPkd800-mTaq</td>\n",
              "      <td>poG1EU8h-ZTz5</td>\n",
              "      <td>jU7TxT58-pZ0T</td>\n",
              "      <td>24.0</td>\n",
              "      <td>156000.0</td>\n",
              "      <td>Mortgage</td>\n",
              "      <td>8.0</td>\n",
              "      <td>taPkd800-mTaq</td>\n",
              "      <td>Personal</td>\n",
              "      <td>B</td>\n",
              "      <td>15000.0</td>\n",
              "      <td>10.25</td>\n",
              "      <td>0.0</td>\n",
              "      <td>0.10</td>\n",
              "      <td>poG1EU8h-ZTz5</td>\n",
              "      <td>N</td>\n",
              "      <td>2</td>\n",
              "    </tr>\n",
              "    <tr>\n",
              "      <th>792</th>\n",
              "      <td>piczfiLk-B4dv</td>\n",
              "      <td>ijS2Kc62-eEyZ</td>\n",
              "      <td>hg0X557p-tHJZ</td>\n",
              "      <td>piczfiLk-B4dv</td>\n",
              "      <td>25.0</td>\n",
              "      <td>61000.0</td>\n",
              "      <td>Own</td>\n",
              "      <td>2.0</td>\n",
              "      <td>ijS2Kc62-eEyZ</td>\n",
              "      <td>Personal</td>\n",
              "      <td>C</td>\n",
              "      <td>15000.0</td>\n",
              "      <td>14.65</td>\n",
              "      <td>0.0</td>\n",
              "      <td>0.25</td>\n",
              "      <td>hg0X557p-tHJZ</td>\n",
              "      <td>N</td>\n",
              "      <td>2</td>\n",
              "    </tr>\n",
              "    <tr>\n",
              "      <th>7307</th>\n",
              "      <td>Do1hNGw4-oufd</td>\n",
              "      <td>aEjYkhHz-STwU</td>\n",
              "      <td>8JKRtx55-aNpL</td>\n",
              "      <td>Do1hNGw4-oufd</td>\n",
              "      <td>23.0</td>\n",
              "      <td>95000.0</td>\n",
              "      <td>Mortgage</td>\n",
              "      <td>1.0</td>\n",
              "      <td>aEjYkhHz-STwU</td>\n",
              "      <td>Homeimprovement</td>\n",
              "      <td>C</td>\n",
              "      <td>19800.0</td>\n",
              "      <td>13.22</td>\n",
              "      <td>1.0</td>\n",
              "      <td>0.21</td>\n",
              "      <td>8JKRtx55-aNpL</td>\n",
              "      <td>Y</td>\n",
              "      <td>3</td>\n",
              "    </tr>\n",
              "    <tr>\n",
              "      <th>2175</th>\n",
              "      <td>T7gRMl11-NBjq</td>\n",
              "      <td>NSABGGFZ-3xMT</td>\n",
              "      <td>yQF17KPj-s5fF</td>\n",
              "      <td>T7gRMl11-NBjq</td>\n",
              "      <td>24.0</td>\n",
              "      <td>100000.0</td>\n",
              "      <td>Mortgage</td>\n",
              "      <td>1.0</td>\n",
              "      <td>NSABGGFZ-3xMT</td>\n",
              "      <td>Debtconsolidation</td>\n",
              "      <td>A</td>\n",
              "      <td>6000.0</td>\n",
              "      <td>NaN</td>\n",
              "      <td>0.0</td>\n",
              "      <td>0.06</td>\n",
              "      <td>yQF17KPj-s5fF</td>\n",
              "      <td>N</td>\n",
              "      <td>3</td>\n",
              "    </tr>\n",
              "    <tr>\n",
              "      <th>11645</th>\n",
              "      <td>vikOGOHx-veZh</td>\n",
              "      <td>vggppasd-ozXt</td>\n",
              "      <td>vhRzpicK-wnSb</td>\n",
              "      <td>vikOGOHx-veZh</td>\n",
              "      <td>25.0</td>\n",
              "      <td>30000.0</td>\n",
              "      <td>Mortgage</td>\n",
              "      <td>2.0</td>\n",
              "      <td>vggppasd-ozXt</td>\n",
              "      <td>Personal</td>\n",
              "      <td>A</td>\n",
              "      <td>11500.0</td>\n",
              "      <td>8.59</td>\n",
              "      <td>0.0</td>\n",
              "      <td>0.38</td>\n",
              "      <td>vhRzpicK-wnSb</td>\n",
              "      <td>N</td>\n",
              "      <td>4</td>\n",
              "    </tr>\n",
              "    <tr>\n",
              "      <th>397</th>\n",
              "      <td>Ci85x6r5-W7st</td>\n",
              "      <td>SdiRIqwz-bl4b</td>\n",
              "      <td>CicwQQcF-Clrk</td>\n",
              "      <td>Ci85x6r5-W7st</td>\n",
              "      <td>24.0</td>\n",
              "      <td>85100.0</td>\n",
              "      <td>Rent</td>\n",
              "      <td>3.0</td>\n",
              "      <td>SdiRIqwz-bl4b</td>\n",
              "      <td>Education</td>\n",
              "      <td>C</td>\n",
              "      <td>15000.0</td>\n",
              "      <td>NaN</td>\n",
              "      <td>0.0</td>\n",
              "      <td>0.18</td>\n",
              "      <td>CicwQQcF-Clrk</td>\n",
              "      <td>Y</td>\n",
              "      <td>2</td>\n",
              "    </tr>\n",
              "    <tr>\n",
              "      <th>12293</th>\n",
              "      <td>KXhgZX5H-cfvS</td>\n",
              "      <td>4iwNSrzI-gu4y</td>\n",
              "      <td>WRn7YQNR-I5Dk</td>\n",
              "      <td>KXhgZX5H-cfvS</td>\n",
              "      <td>32.0</td>\n",
              "      <td>110000.0</td>\n",
              "      <td>Mortgage</td>\n",
              "      <td>16.0</td>\n",
              "      <td>4iwNSrzI-gu4y</td>\n",
              "      <td>Homeimprovement</td>\n",
              "      <td>A</td>\n",
              "      <td>6700.0</td>\n",
              "      <td>6.92</td>\n",
              "      <td>0.0</td>\n",
              "      <td>0.06</td>\n",
              "      <td>WRn7YQNR-I5Dk</td>\n",
              "      <td>N</td>\n",
              "      <td>7</td>\n",
              "    </tr>\n",
              "    <tr>\n",
              "      <th>5145</th>\n",
              "      <td>8MpngQBE-aanI</td>\n",
              "      <td>WAEb212y-YNxD</td>\n",
              "      <td>a8hZwtUj-ujRL</td>\n",
              "      <td>8MpngQBE-aanI</td>\n",
              "      <td>24.0</td>\n",
              "      <td>108288.0</td>\n",
              "      <td>Mortgage</td>\n",
              "      <td>5.0</td>\n",
              "      <td>WAEb212y-YNxD</td>\n",
              "      <td>Debtconsolidation</td>\n",
              "      <td>A</td>\n",
              "      <td>10000.0</td>\n",
              "      <td>8.49</td>\n",
              "      <td>0.0</td>\n",
              "      <td>0.09</td>\n",
              "      <td>a8hZwtUj-ujRL</td>\n",
              "      <td>N</td>\n",
              "      <td>2</td>\n",
              "    </tr>\n",
              "  </tbody>\n",
              "</table>\n",
              "</div>\n",
              "      <button class=\"colab-df-convert\" onclick=\"convertToInteractive('df-41e239a8-301d-44bd-8a4c-fdd8ab1080f0')\"\n",
              "              title=\"Convert this dataframe to an interactive table.\"\n",
              "              style=\"display:none;\">\n",
              "        \n",
              "  <svg xmlns=\"http://www.w3.org/2000/svg\" height=\"24px\"viewBox=\"0 0 24 24\"\n",
              "       width=\"24px\">\n",
              "    <path d=\"M0 0h24v24H0V0z\" fill=\"none\"/>\n",
              "    <path d=\"M18.56 5.44l.94 2.06.94-2.06 2.06-.94-2.06-.94-.94-2.06-.94 2.06-2.06.94zm-11 1L8.5 8.5l.94-2.06 2.06-.94-2.06-.94L8.5 2.5l-.94 2.06-2.06.94zm10 10l.94 2.06.94-2.06 2.06-.94-2.06-.94-.94-2.06-.94 2.06-2.06.94z\"/><path d=\"M17.41 7.96l-1.37-1.37c-.4-.4-.92-.59-1.43-.59-.52 0-1.04.2-1.43.59L10.3 9.45l-7.72 7.72c-.78.78-.78 2.05 0 2.83L4 21.41c.39.39.9.59 1.41.59.51 0 1.02-.2 1.41-.59l7.78-7.78 2.81-2.81c.8-.78.8-2.07 0-2.86zM5.41 20L4 18.59l7.72-7.72 1.47 1.35L5.41 20z\"/>\n",
              "  </svg>\n",
              "      </button>\n",
              "      \n",
              "  <style>\n",
              "    .colab-df-container {\n",
              "      display:flex;\n",
              "      flex-wrap:wrap;\n",
              "      gap: 12px;\n",
              "    }\n",
              "\n",
              "    .colab-df-convert {\n",
              "      background-color: #E8F0FE;\n",
              "      border: none;\n",
              "      border-radius: 50%;\n",
              "      cursor: pointer;\n",
              "      display: none;\n",
              "      fill: #1967D2;\n",
              "      height: 32px;\n",
              "      padding: 0 0 0 0;\n",
              "      width: 32px;\n",
              "    }\n",
              "\n",
              "    .colab-df-convert:hover {\n",
              "      background-color: #E2EBFA;\n",
              "      box-shadow: 0px 1px 2px rgba(60, 64, 67, 0.3), 0px 1px 3px 1px rgba(60, 64, 67, 0.15);\n",
              "      fill: #174EA6;\n",
              "    }\n",
              "\n",
              "    [theme=dark] .colab-df-convert {\n",
              "      background-color: #3B4455;\n",
              "      fill: #D2E3FC;\n",
              "    }\n",
              "\n",
              "    [theme=dark] .colab-df-convert:hover {\n",
              "      background-color: #434B5C;\n",
              "      box-shadow: 0px 1px 3px 1px rgba(0, 0, 0, 0.15);\n",
              "      filter: drop-shadow(0px 1px 2px rgba(0, 0, 0, 0.3));\n",
              "      fill: #FFFFFF;\n",
              "    }\n",
              "  </style>\n",
              "\n",
              "      <script>\n",
              "        const buttonEl =\n",
              "          document.querySelector('#df-41e239a8-301d-44bd-8a4c-fdd8ab1080f0 button.colab-df-convert');\n",
              "        buttonEl.style.display =\n",
              "          google.colab.kernel.accessAllowed ? 'block' : 'none';\n",
              "\n",
              "        async function convertToInteractive(key) {\n",
              "          const element = document.querySelector('#df-41e239a8-301d-44bd-8a4c-fdd8ab1080f0');\n",
              "          const dataTable =\n",
              "            await google.colab.kernel.invokeFunction('convertToInteractive',\n",
              "                                                     [key], {});\n",
              "          if (!dataTable) return;\n",
              "\n",
              "          const docLinkHtml = 'Like what you see? Visit the ' +\n",
              "            '<a target=\"_blank\" href=https://colab.research.google.com/notebooks/data_table.ipynb>data table notebook</a>'\n",
              "            + ' to learn more about interactive tables.';\n",
              "          element.innerHTML = '';\n",
              "          dataTable['output_type'] = 'display_data';\n",
              "          await google.colab.output.renderOutput(dataTable, element);\n",
              "          const docLink = document.createElement('div');\n",
              "          docLink.innerHTML = docLinkHtml;\n",
              "          element.appendChild(docLink);\n",
              "        }\n",
              "      </script>\n",
              "    </div>\n",
              "  </div>\n",
              "  "
            ]
          },
          "metadata": {},
          "execution_count": 4
        }
      ]
    },
    {
      "cell_type": "code",
      "source": [
        "dataset.info()"
      ],
      "metadata": {
        "colab": {
          "base_uri": "https://localhost:8080/"
        },
        "id": "C0KyHWyU560h",
        "outputId": "2c97c9f9-fbb8-4f61-ee40-9a944d44eeaf"
      },
      "execution_count": 5,
      "outputs": [
        {
          "output_type": "stream",
          "name": "stdout",
          "text": [
            "<class 'pandas.core.frame.DataFrame'>\n",
            "RangeIndex: 14952 entries, 0 to 14951\n",
            "Data columns (total 18 columns):\n",
            " #   Column                      Non-Null Count  Dtype  \n",
            "---  ------                      --------------  -----  \n",
            " 0   person_id                   14952 non-null  object \n",
            " 1   loan_id                     14952 non-null  object \n",
            " 2   cb_id                       14952 non-null  object \n",
            " 3   person_id.1                 14952 non-null  object \n",
            " 4   person_age                  14819 non-null  float64\n",
            " 5   person_income               14809 non-null  float64\n",
            " 6   person_home_ownership       14800 non-null  object \n",
            " 7   person_emp_length           14389 non-null  float64\n",
            " 8   loan_id.1                   14952 non-null  object \n",
            " 9   loan_intent                 14844 non-null  object \n",
            " 10  loan_grade                  14828 non-null  object \n",
            " 11  loan_amnt                   14813 non-null  float64\n",
            " 12  loan_int_rate               13384 non-null  float64\n",
            " 13  loan_status                 14795 non-null  float64\n",
            " 14  loan_percent_income         14812 non-null  float64\n",
            " 15  cb_id.1                     14952 non-null  object \n",
            " 16  cb_person_default_on_file   14791 non-null  object \n",
            " 17  cb_person_cred_hist_length  14952 non-null  int64  \n",
            "dtypes: float64(7), int64(1), object(10)\n",
            "memory usage: 2.1+ MB\n"
          ]
        }
      ]
    },
    {
      "cell_type": "markdown",
      "source": [
        "## Remoção de features redundantes"
      ],
      "metadata": {
        "id": "YbtC8XMxPrkq"
      }
    },
    {
      "cell_type": "code",
      "source": [
        "dataset.drop(['person_id.1', 'loan_id.1', 'cb_id.1'], axis=1, inplace=True)"
      ],
      "metadata": {
        "id": "kZ3oVnHu5_mP"
      },
      "execution_count": 6,
      "outputs": []
    },
    {
      "cell_type": "code",
      "source": [
        "dataset.head()"
      ],
      "metadata": {
        "colab": {
          "base_uri": "https://localhost:8080/",
          "height": 357
        },
        "id": "jPByPW208Equ",
        "outputId": "7f549873-2771-4256-eb62-f3f796af89ad"
      },
      "execution_count": 7,
      "outputs": [
        {
          "output_type": "execute_result",
          "data": {
            "text/plain": [
              "       person_id        loan_id          cb_id  person_age  person_income  \\\n",
              "0  bLi18O5K-31eI  HpY5JrYs-x2bv  dDoO2g97-yxWH        22.0        55000.0   \n",
              "1  g4JfbgOc-WHOB  8Qhsx0cn-hx45  8SelGHyw-9ksb        31.0        76000.0   \n",
              "2  xZjlTQmr-sX7I  0DEl6qTs-hfiQ  PTHgNlLP-XvtB        22.0        50000.0   \n",
              "3  J3jGNZeh-OzZE  NaelpPC5-t2kz  GvqL52S8-S8OH        26.0        84996.0   \n",
              "4  QCrl3MTd-8H85  Dy72mlJI-6TUS  u0KE1FJ7-gAEQ        24.0        55782.0   \n",
              "\n",
              "  person_home_ownership  person_emp_length        loan_intent loan_grade  \\\n",
              "0                   Own                6.0          Education          B   \n",
              "1                  Rent                4.0    Homeimprovement          A   \n",
              "2              Mortgage                0.0  Debtconsolidation          A   \n",
              "3                  Rent                0.0            Medical          B   \n",
              "4                  Rent                3.0    Homeimprovement          A   \n",
              "\n",
              "   loan_amnt  loan_int_rate  loan_status  loan_percent_income  \\\n",
              "0    25000.0          10.74          0.0                 0.45   \n",
              "1     6000.0           7.49          0.0                 0.08   \n",
              "2    12800.0           5.79          0.0                 0.26   \n",
              "3     9000.0          11.26          0.0                 0.11   \n",
              "4    17000.0           7.51          0.0                 0.30   \n",
              "\n",
              "  cb_person_default_on_file  cb_person_cred_hist_length  \n",
              "0                         N                           2  \n",
              "1                         N                           5  \n",
              "2                         N                           2  \n",
              "3                         N                           2  \n",
              "4                         N                           2  "
            ],
            "text/html": [
              "\n",
              "  <div id=\"df-7ee7b024-d8c2-4ccf-93d2-bdf97a8c18cf\">\n",
              "    <div class=\"colab-df-container\">\n",
              "      <div>\n",
              "<style scoped>\n",
              "    .dataframe tbody tr th:only-of-type {\n",
              "        vertical-align: middle;\n",
              "    }\n",
              "\n",
              "    .dataframe tbody tr th {\n",
              "        vertical-align: top;\n",
              "    }\n",
              "\n",
              "    .dataframe thead th {\n",
              "        text-align: right;\n",
              "    }\n",
              "</style>\n",
              "<table border=\"1\" class=\"dataframe\">\n",
              "  <thead>\n",
              "    <tr style=\"text-align: right;\">\n",
              "      <th></th>\n",
              "      <th>person_id</th>\n",
              "      <th>loan_id</th>\n",
              "      <th>cb_id</th>\n",
              "      <th>person_age</th>\n",
              "      <th>person_income</th>\n",
              "      <th>person_home_ownership</th>\n",
              "      <th>person_emp_length</th>\n",
              "      <th>loan_intent</th>\n",
              "      <th>loan_grade</th>\n",
              "      <th>loan_amnt</th>\n",
              "      <th>loan_int_rate</th>\n",
              "      <th>loan_status</th>\n",
              "      <th>loan_percent_income</th>\n",
              "      <th>cb_person_default_on_file</th>\n",
              "      <th>cb_person_cred_hist_length</th>\n",
              "    </tr>\n",
              "  </thead>\n",
              "  <tbody>\n",
              "    <tr>\n",
              "      <th>0</th>\n",
              "      <td>bLi18O5K-31eI</td>\n",
              "      <td>HpY5JrYs-x2bv</td>\n",
              "      <td>dDoO2g97-yxWH</td>\n",
              "      <td>22.0</td>\n",
              "      <td>55000.0</td>\n",
              "      <td>Own</td>\n",
              "      <td>6.0</td>\n",
              "      <td>Education</td>\n",
              "      <td>B</td>\n",
              "      <td>25000.0</td>\n",
              "      <td>10.74</td>\n",
              "      <td>0.0</td>\n",
              "      <td>0.45</td>\n",
              "      <td>N</td>\n",
              "      <td>2</td>\n",
              "    </tr>\n",
              "    <tr>\n",
              "      <th>1</th>\n",
              "      <td>g4JfbgOc-WHOB</td>\n",
              "      <td>8Qhsx0cn-hx45</td>\n",
              "      <td>8SelGHyw-9ksb</td>\n",
              "      <td>31.0</td>\n",
              "      <td>76000.0</td>\n",
              "      <td>Rent</td>\n",
              "      <td>4.0</td>\n",
              "      <td>Homeimprovement</td>\n",
              "      <td>A</td>\n",
              "      <td>6000.0</td>\n",
              "      <td>7.49</td>\n",
              "      <td>0.0</td>\n",
              "      <td>0.08</td>\n",
              "      <td>N</td>\n",
              "      <td>5</td>\n",
              "    </tr>\n",
              "    <tr>\n",
              "      <th>2</th>\n",
              "      <td>xZjlTQmr-sX7I</td>\n",
              "      <td>0DEl6qTs-hfiQ</td>\n",
              "      <td>PTHgNlLP-XvtB</td>\n",
              "      <td>22.0</td>\n",
              "      <td>50000.0</td>\n",
              "      <td>Mortgage</td>\n",
              "      <td>0.0</td>\n",
              "      <td>Debtconsolidation</td>\n",
              "      <td>A</td>\n",
              "      <td>12800.0</td>\n",
              "      <td>5.79</td>\n",
              "      <td>0.0</td>\n",
              "      <td>0.26</td>\n",
              "      <td>N</td>\n",
              "      <td>2</td>\n",
              "    </tr>\n",
              "    <tr>\n",
              "      <th>3</th>\n",
              "      <td>J3jGNZeh-OzZE</td>\n",
              "      <td>NaelpPC5-t2kz</td>\n",
              "      <td>GvqL52S8-S8OH</td>\n",
              "      <td>26.0</td>\n",
              "      <td>84996.0</td>\n",
              "      <td>Rent</td>\n",
              "      <td>0.0</td>\n",
              "      <td>Medical</td>\n",
              "      <td>B</td>\n",
              "      <td>9000.0</td>\n",
              "      <td>11.26</td>\n",
              "      <td>0.0</td>\n",
              "      <td>0.11</td>\n",
              "      <td>N</td>\n",
              "      <td>2</td>\n",
              "    </tr>\n",
              "    <tr>\n",
              "      <th>4</th>\n",
              "      <td>QCrl3MTd-8H85</td>\n",
              "      <td>Dy72mlJI-6TUS</td>\n",
              "      <td>u0KE1FJ7-gAEQ</td>\n",
              "      <td>24.0</td>\n",
              "      <td>55782.0</td>\n",
              "      <td>Rent</td>\n",
              "      <td>3.0</td>\n",
              "      <td>Homeimprovement</td>\n",
              "      <td>A</td>\n",
              "      <td>17000.0</td>\n",
              "      <td>7.51</td>\n",
              "      <td>0.0</td>\n",
              "      <td>0.30</td>\n",
              "      <td>N</td>\n",
              "      <td>2</td>\n",
              "    </tr>\n",
              "  </tbody>\n",
              "</table>\n",
              "</div>\n",
              "      <button class=\"colab-df-convert\" onclick=\"convertToInteractive('df-7ee7b024-d8c2-4ccf-93d2-bdf97a8c18cf')\"\n",
              "              title=\"Convert this dataframe to an interactive table.\"\n",
              "              style=\"display:none;\">\n",
              "        \n",
              "  <svg xmlns=\"http://www.w3.org/2000/svg\" height=\"24px\"viewBox=\"0 0 24 24\"\n",
              "       width=\"24px\">\n",
              "    <path d=\"M0 0h24v24H0V0z\" fill=\"none\"/>\n",
              "    <path d=\"M18.56 5.44l.94 2.06.94-2.06 2.06-.94-2.06-.94-.94-2.06-.94 2.06-2.06.94zm-11 1L8.5 8.5l.94-2.06 2.06-.94-2.06-.94L8.5 2.5l-.94 2.06-2.06.94zm10 10l.94 2.06.94-2.06 2.06-.94-2.06-.94-.94-2.06-.94 2.06-2.06.94z\"/><path d=\"M17.41 7.96l-1.37-1.37c-.4-.4-.92-.59-1.43-.59-.52 0-1.04.2-1.43.59L10.3 9.45l-7.72 7.72c-.78.78-.78 2.05 0 2.83L4 21.41c.39.39.9.59 1.41.59.51 0 1.02-.2 1.41-.59l7.78-7.78 2.81-2.81c.8-.78.8-2.07 0-2.86zM5.41 20L4 18.59l7.72-7.72 1.47 1.35L5.41 20z\"/>\n",
              "  </svg>\n",
              "      </button>\n",
              "      \n",
              "  <style>\n",
              "    .colab-df-container {\n",
              "      display:flex;\n",
              "      flex-wrap:wrap;\n",
              "      gap: 12px;\n",
              "    }\n",
              "\n",
              "    .colab-df-convert {\n",
              "      background-color: #E8F0FE;\n",
              "      border: none;\n",
              "      border-radius: 50%;\n",
              "      cursor: pointer;\n",
              "      display: none;\n",
              "      fill: #1967D2;\n",
              "      height: 32px;\n",
              "      padding: 0 0 0 0;\n",
              "      width: 32px;\n",
              "    }\n",
              "\n",
              "    .colab-df-convert:hover {\n",
              "      background-color: #E2EBFA;\n",
              "      box-shadow: 0px 1px 2px rgba(60, 64, 67, 0.3), 0px 1px 3px 1px rgba(60, 64, 67, 0.15);\n",
              "      fill: #174EA6;\n",
              "    }\n",
              "\n",
              "    [theme=dark] .colab-df-convert {\n",
              "      background-color: #3B4455;\n",
              "      fill: #D2E3FC;\n",
              "    }\n",
              "\n",
              "    [theme=dark] .colab-df-convert:hover {\n",
              "      background-color: #434B5C;\n",
              "      box-shadow: 0px 1px 3px 1px rgba(0, 0, 0, 0.15);\n",
              "      filter: drop-shadow(0px 1px 2px rgba(0, 0, 0, 0.3));\n",
              "      fill: #FFFFFF;\n",
              "    }\n",
              "  </style>\n",
              "\n",
              "      <script>\n",
              "        const buttonEl =\n",
              "          document.querySelector('#df-7ee7b024-d8c2-4ccf-93d2-bdf97a8c18cf button.colab-df-convert');\n",
              "        buttonEl.style.display =\n",
              "          google.colab.kernel.accessAllowed ? 'block' : 'none';\n",
              "\n",
              "        async function convertToInteractive(key) {\n",
              "          const element = document.querySelector('#df-7ee7b024-d8c2-4ccf-93d2-bdf97a8c18cf');\n",
              "          const dataTable =\n",
              "            await google.colab.kernel.invokeFunction('convertToInteractive',\n",
              "                                                     [key], {});\n",
              "          if (!dataTable) return;\n",
              "\n",
              "          const docLinkHtml = 'Like what you see? Visit the ' +\n",
              "            '<a target=\"_blank\" href=https://colab.research.google.com/notebooks/data_table.ipynb>data table notebook</a>'\n",
              "            + ' to learn more about interactive tables.';\n",
              "          element.innerHTML = '';\n",
              "          dataTable['output_type'] = 'display_data';\n",
              "          await google.colab.output.renderOutput(dataTable, element);\n",
              "          const docLink = document.createElement('div');\n",
              "          docLink.innerHTML = docLinkHtml;\n",
              "          element.appendChild(docLink);\n",
              "        }\n",
              "      </script>\n",
              "    </div>\n",
              "  </div>\n",
              "  "
            ]
          },
          "metadata": {},
          "execution_count": 7
        }
      ]
    },
    {
      "cell_type": "markdown",
      "source": [
        "## Renomeando colunas para português"
      ],
      "metadata": {
        "id": "DPclHBtGPw6M"
      }
    },
    {
      "cell_type": "code",
      "source": [
        "colunas_PtBr = {\n",
        "    'person_id' : 'id_solicitante',\n",
        "    'loan_id' : 'id_emprestimo',\n",
        "    'cb_id' : 'id_historico',\n",
        "    'person_age' : 'idade',\n",
        "    'person_income' : 'salario_anual',\n",
        "    'person_home_ownership' : 'situacao_imovel',\n",
        "    'person_emp_length' : 'anos_empregado',\n",
        "    'loan_intent' : 'motivo_emprestimo',\n",
        "    'loan_grade' : 'pontuacao_emprestimo',\n",
        "    'loan_amnt' : 'total_a_emprestar',\n",
        "    'loan_int_rate' : 'juros',\n",
        "    'loan_status' : 'possibilidade_inadimplencia',\n",
        "    'loan_percent_income' : 'percentual_emprestimo_renda',\n",
        "    'cb_person_default_on_file' : 'ja_foi_inadimplente',\n",
        "    'cb_person_cred_hist_length' : 'anos_de_credito'\n",
        "}\n",
        "\n",
        "dataset.rename(mapper = colunas_PtBr, axis = 1, inplace = True)"
      ],
      "metadata": {
        "id": "BGtKdKj98Gzh"
      },
      "execution_count": 8,
      "outputs": []
    },
    {
      "cell_type": "code",
      "source": [
        "dataset.info()"
      ],
      "metadata": {
        "colab": {
          "base_uri": "https://localhost:8080/"
        },
        "id": "wXteH8V1Az0M",
        "outputId": "7ea5774f-ae8b-4807-89b4-537e796ccf9d"
      },
      "execution_count": 9,
      "outputs": [
        {
          "output_type": "stream",
          "name": "stdout",
          "text": [
            "<class 'pandas.core.frame.DataFrame'>\n",
            "RangeIndex: 14952 entries, 0 to 14951\n",
            "Data columns (total 15 columns):\n",
            " #   Column                       Non-Null Count  Dtype  \n",
            "---  ------                       --------------  -----  \n",
            " 0   id_solicitante               14952 non-null  object \n",
            " 1   id_emprestimo                14952 non-null  object \n",
            " 2   id_historico                 14952 non-null  object \n",
            " 3   idade                        14819 non-null  float64\n",
            " 4   salario_anual                14809 non-null  float64\n",
            " 5   situacao_imovel              14800 non-null  object \n",
            " 6   anos_empregado               14389 non-null  float64\n",
            " 7   motivo_emprestimo            14844 non-null  object \n",
            " 8   pontuacao_emprestimo         14828 non-null  object \n",
            " 9   total_a_emprestar            14813 non-null  float64\n",
            " 10  juros                        13384 non-null  float64\n",
            " 11  possibilidade_inadimplencia  14795 non-null  float64\n",
            " 12  percentual_emprestimo_renda  14812 non-null  float64\n",
            " 13  ja_foi_inadimplente          14791 non-null  object \n",
            " 14  anos_de_credito              14952 non-null  int64  \n",
            "dtypes: float64(7), int64(1), object(7)\n",
            "memory usage: 1.7+ MB\n"
          ]
        }
      ]
    },
    {
      "cell_type": "markdown",
      "source": [
        "# Dicionário de dados"
      ],
      "metadata": {
        "id": "6N8Nmu8hk7-r"
      }
    },
    {
      "cell_type": "markdown",
      "source": [
        "## Original"
      ],
      "metadata": {
        "id": "yU_BpnxNlfOT"
      }
    },
    {
      "cell_type": "markdown",
      "source": [
        "| Feature | Característica |\n",
        "| --- | --- |\n",
        "|`person_id`|ID da pessoa solicitante|\n",
        "|`loan_id`|ID da solicitação de empréstico de cada solicitante|\n",
        "|`cb_id`|ID do histórico de cada solicitante|\n",
        "| `person_age` | Idade da pessoa - em anos - que solicita empréstimo |\n",
        "| `person_income` | Salário anual da pessoa solicitante |\n",
        "| `person_home_ownership` | Situação da propriedade que a pessoa possui: *Alugada* (`Rent`), *Própria* (`Own`), *Hipotecada* (`Mortgage`) e *Outros casos* (`Other`) |\n",
        "| `person_emp_length` | Tempo - em anos - que a pessoa trabalhou |\n",
        "| `loan_intent` | Motivo do empréstimo: *Pessoal* (`Personal`), *Educativo* (`Education`), *Médico* (`Medical`), *Empreendimento* (`Venture`), *Melhora do lar* (`Homeimprovement`), *Pagamento de débitos* (`Debtconsolidation`) |\n",
        "| `loan_grade` | Pontuação de empréstimos, por nível variando de `A` a `G` |\n",
        "| `loan_amnt` | Valor total do empréstimo solicitado |\n",
        "| `loan_int_rate` | Taxa de juros |\n",
        "| `loan_status` | Possibilidade de inadimplência |\n",
        "| `loan_percent_income` | Renda percentual entre o *valor total do empréstimo* e o *salário anual* |\n",
        "| `cb_person_default_on_file` | Indica se a pessoa já foi inadimplente: sim (`Y`,`YES`) e não (`N`,`NO`) |\n",
        "| `cb_person_cred_hist_length` | Tempo - em anos - desde a primeira solicitação de crédito ou aquisição de um cartão de crédito |"
      ],
      "metadata": {
        "id": "vP0gqOzXk_Em"
      }
    },
    {
      "cell_type": "markdown",
      "source": [
        "## Português"
      ],
      "metadata": {
        "id": "HGenh1k5liAf"
      }
    },
    {
      "cell_type": "markdown",
      "source": [
        "| Feature | Característica |\n",
        "| --- | --- |\n",
        "|`id_solicitante`|ID da pessoa solicitante|\n",
        "|`id_emprestimo`|ID da solicitação de empréstico de cada solicitante|\n",
        "|`id_historico`|ID do histórico de cada solicitante|\n",
        "| `idade` | Idade da pessoa - em anos - que solicita empréstimo |\n",
        "| `salario_anual` | Salário anual da pessoa solicitante |\n",
        "| `situacao_imovel` | Situação da propriedade que a pessoa possui: *Alugada* (`Rent`), *Própria* (`Own`), *Hipotecada* (`Mortgage`) e *Outros casos* (`Other`) |\n",
        "| `anos_empregado` | Tempo - em anos - que a pessoa trabalhou |\n",
        "| `motivo_emprestimo` | Motivo do empréstimo: *Pessoal* (`Personal`), *Educativo* (`Education`), *Médico* (`Medical`), *Empreendimento* (`Venture`), *Melhora do lar* (`Homeimprovement`), *Pagamento de débitos* (`Debtconsolidation`) |\n",
        "| `pontuacao_emprestimo` | Pontuação de empréstimos, por nível variando de `A` a `G` |\n",
        "| `total_a_emprestar` | Valor total do empréstimo solicitado |\n",
        "| `juros` | Taxa de juros |\n",
        "| `possibilidade_inadimplencia` | Possibilidade de inadimplência |\n",
        "| `percentual_emprestimo_renda` | Renda percentual entre o *valor total do empréstimo* e o *salário anual* |\n",
        "| `ja_foi_inadimplente` | Indica se a pessoa já foi inadimplente: sim (`Y`,`YES`) e não (`N`,`NO`) |\n",
        "| `anos_de_credito` | Tempo - em anos - desde a primeira solicitação de crédito ou aquisição de um cartão de crédito |"
      ],
      "metadata": {
        "id": "SQK-FtFklk6i"
      }
    },
    {
      "cell_type": "markdown",
      "source": [
        "# Inconsistências"
      ],
      "metadata": {
        "id": "OOzdLYLtP9ok"
      }
    },
    {
      "cell_type": "code",
      "source": [
        "duplicados = dataset.duplicated()\n",
        "print(f'O dataset contém {duplicados.sum()} informações duplicadas.')"
      ],
      "metadata": {
        "colab": {
          "base_uri": "https://localhost:8080/"
        },
        "id": "UqK6m-Y-BHVa",
        "outputId": "09bccfb3-5096-4f1d-983e-7995169e8170"
      },
      "execution_count": 10,
      "outputs": [
        {
          "output_type": "stream",
          "name": "stdout",
          "text": [
            "O dataset contém 0 informações duplicadas.\n"
          ]
        }
      ]
    },
    {
      "cell_type": "code",
      "source": [
        "nulos = dataset.isnull()\n",
        "nulos.sum()"
      ],
      "metadata": {
        "colab": {
          "base_uri": "https://localhost:8080/"
        },
        "id": "2gFLOOe3CHIu",
        "outputId": "6798dc4e-ae66-4fe9-d40b-346405f6401a"
      },
      "execution_count": 11,
      "outputs": [
        {
          "output_type": "execute_result",
          "data": {
            "text/plain": [
              "id_solicitante                    0\n",
              "id_emprestimo                     0\n",
              "id_historico                      0\n",
              "idade                           133\n",
              "salario_anual                   143\n",
              "situacao_imovel                 152\n",
              "anos_empregado                  563\n",
              "motivo_emprestimo               108\n",
              "pontuacao_emprestimo            124\n",
              "total_a_emprestar               139\n",
              "juros                          1568\n",
              "possibilidade_inadimplencia     157\n",
              "percentual_emprestimo_renda     140\n",
              "ja_foi_inadimplente             161\n",
              "anos_de_credito                   0\n",
              "dtype: int64"
            ]
          },
          "metadata": {},
          "execution_count": 11
        }
      ]
    },
    {
      "cell_type": "markdown",
      "source": [
        "Várias features apresentam valores nulos (NaN), que carecem de tratamento."
      ],
      "metadata": {
        "id": "Uxk0BySX0QHA"
      }
    },
    {
      "cell_type": "code",
      "source": [
        "brancos = dataset.eq(' ').sum() + dataset.eq('').sum()\n",
        "brancos"
      ],
      "metadata": {
        "colab": {
          "base_uri": "https://localhost:8080/"
        },
        "id": "SGosPKfgr302",
        "outputId": "73605cef-c9bc-4129-d3fe-29e3e65653bf"
      },
      "execution_count": 12,
      "outputs": [
        {
          "output_type": "execute_result",
          "data": {
            "text/plain": [
              "id_solicitante                 0\n",
              "id_emprestimo                  0\n",
              "id_historico                   0\n",
              "idade                          0\n",
              "salario_anual                  0\n",
              "situacao_imovel                0\n",
              "anos_empregado                 0\n",
              "motivo_emprestimo              0\n",
              "pontuacao_emprestimo           0\n",
              "total_a_emprestar              0\n",
              "juros                          0\n",
              "possibilidade_inadimplencia    0\n",
              "percentual_emprestimo_renda    0\n",
              "ja_foi_inadimplente            0\n",
              "anos_de_credito                0\n",
              "dtype: int64"
            ]
          },
          "metadata": {},
          "execution_count": 12
        }
      ]
    },
    {
      "cell_type": "markdown",
      "source": [
        "Não foram encontrados valores ou espaços sem preenchimento no dataset."
      ],
      "metadata": {
        "id": "ug9mTrVQ0X4H"
      }
    },
    {
      "cell_type": "markdown",
      "source": [
        "# Análise descartando valores nulos"
      ],
      "metadata": {
        "id": "GwWXmJKfvtlE"
      }
    },
    {
      "cell_type": "markdown",
      "source": [
        "## Novo dataset sem os NaN"
      ],
      "metadata": {
        "id": "dnyWsBoJv4q0"
      }
    },
    {
      "cell_type": "markdown",
      "source": [
        "Remove-se todas as linhas que contém valores nulos e realiza-se uma cópia para um novo dataset. Reorganiza-se o índice e avalia-se o resumo do novo dataset."
      ],
      "metadata": {
        "id": "vwW8ZSmGpPPe"
      }
    },
    {
      "cell_type": "code",
      "source": [
        "dados = dataset.dropna().copy()\n",
        "dados.reset_index(drop=True, inplace=True)\n",
        "dados.info()"
      ],
      "metadata": {
        "colab": {
          "base_uri": "https://localhost:8080/"
        },
        "id": "5sRby7YIvs3P",
        "outputId": "713462bb-3c0d-4982-b976-9d3259399a10"
      },
      "execution_count": 13,
      "outputs": [
        {
          "output_type": "stream",
          "name": "stdout",
          "text": [
            "<class 'pandas.core.frame.DataFrame'>\n",
            "RangeIndex: 12420 entries, 0 to 12419\n",
            "Data columns (total 15 columns):\n",
            " #   Column                       Non-Null Count  Dtype  \n",
            "---  ------                       --------------  -----  \n",
            " 0   id_solicitante               12420 non-null  object \n",
            " 1   id_emprestimo                12420 non-null  object \n",
            " 2   id_historico                 12420 non-null  object \n",
            " 3   idade                        12420 non-null  float64\n",
            " 4   salario_anual                12420 non-null  float64\n",
            " 5   situacao_imovel              12420 non-null  object \n",
            " 6   anos_empregado               12420 non-null  float64\n",
            " 7   motivo_emprestimo            12420 non-null  object \n",
            " 8   pontuacao_emprestimo         12420 non-null  object \n",
            " 9   total_a_emprestar            12420 non-null  float64\n",
            " 10  juros                        12420 non-null  float64\n",
            " 11  possibilidade_inadimplencia  12420 non-null  float64\n",
            " 12  percentual_emprestimo_renda  12420 non-null  float64\n",
            " 13  ja_foi_inadimplente          12420 non-null  object \n",
            " 14  anos_de_credito              12420 non-null  int64  \n",
            "dtypes: float64(7), int64(1), object(7)\n",
            "memory usage: 1.4+ MB\n"
          ]
        }
      ]
    },
    {
      "cell_type": "code",
      "source": [
        "dados.sample(5)"
      ],
      "metadata": {
        "colab": {
          "base_uri": "https://localhost:8080/",
          "height": 357
        },
        "id": "QBRQI59MxClt",
        "outputId": "984b8e71-d562-499f-d8c1-d2d9d565ff8c"
      },
      "execution_count": 14,
      "outputs": [
        {
          "output_type": "execute_result",
          "data": {
            "text/plain": [
              "      id_solicitante  id_emprestimo   id_historico  idade  salario_anual  \\\n",
              "11699  5PYYQrGb-kL7i  eKFBKFUg-EPMg  Y5h04JQz-UlnH   22.0        28800.0   \n",
              "6691   LdXgymEO-05eY  EA4tkJab-YWsO  WkTmqh1f-sFLQ   35.0        68231.0   \n",
              "7988   iPrJTFcY-Bb62  2gaeA2kb-UIGH  X0zGytXJ-slXv   33.0        42230.0   \n",
              "9879   lLe9qzjH-Q82z  bT8QcgxZ-daMM  sShrxbD5-jeXx   22.0        53000.0   \n",
              "3084   2deqBlvq-3Lts  JbYvh7pO-ysiE  4X45OJPq-W3fT   22.0        57500.0   \n",
              "\n",
              "      situacao_imovel  anos_empregado  motivo_emprestimo pontuacao_emprestimo  \\\n",
              "11699            Rent             6.0          Education                    B   \n",
              "6691             Rent             3.0          Education                    C   \n",
              "7988             Rent             1.0            Medical                    A   \n",
              "9879         Mortgage             0.0  Debtconsolidation                    A   \n",
              "3084             Rent             1.0  Debtconsolidation                    B   \n",
              "\n",
              "       total_a_emprestar  juros  possibilidade_inadimplencia  \\\n",
              "11699             8000.0  11.49                          0.0   \n",
              "6691             22400.0  12.99                          1.0   \n",
              "7988              5500.0   9.63                          0.0   \n",
              "9879              5025.0   7.49                          0.0   \n",
              "3084              9100.0  11.49                          0.0   \n",
              "\n",
              "       percentual_emprestimo_renda ja_foi_inadimplente  anos_de_credito  \n",
              "11699                         0.28                   N                2  \n",
              "6691                          0.33                   Y                7  \n",
              "7988                          0.13                   N               10  \n",
              "9879                          0.09                   N                3  \n",
              "3084                          0.16                   N                4  "
            ],
            "text/html": [
              "\n",
              "  <div id=\"df-486b49a6-7cdf-4cfb-8060-04dba4b1a122\">\n",
              "    <div class=\"colab-df-container\">\n",
              "      <div>\n",
              "<style scoped>\n",
              "    .dataframe tbody tr th:only-of-type {\n",
              "        vertical-align: middle;\n",
              "    }\n",
              "\n",
              "    .dataframe tbody tr th {\n",
              "        vertical-align: top;\n",
              "    }\n",
              "\n",
              "    .dataframe thead th {\n",
              "        text-align: right;\n",
              "    }\n",
              "</style>\n",
              "<table border=\"1\" class=\"dataframe\">\n",
              "  <thead>\n",
              "    <tr style=\"text-align: right;\">\n",
              "      <th></th>\n",
              "      <th>id_solicitante</th>\n",
              "      <th>id_emprestimo</th>\n",
              "      <th>id_historico</th>\n",
              "      <th>idade</th>\n",
              "      <th>salario_anual</th>\n",
              "      <th>situacao_imovel</th>\n",
              "      <th>anos_empregado</th>\n",
              "      <th>motivo_emprestimo</th>\n",
              "      <th>pontuacao_emprestimo</th>\n",
              "      <th>total_a_emprestar</th>\n",
              "      <th>juros</th>\n",
              "      <th>possibilidade_inadimplencia</th>\n",
              "      <th>percentual_emprestimo_renda</th>\n",
              "      <th>ja_foi_inadimplente</th>\n",
              "      <th>anos_de_credito</th>\n",
              "    </tr>\n",
              "  </thead>\n",
              "  <tbody>\n",
              "    <tr>\n",
              "      <th>11699</th>\n",
              "      <td>5PYYQrGb-kL7i</td>\n",
              "      <td>eKFBKFUg-EPMg</td>\n",
              "      <td>Y5h04JQz-UlnH</td>\n",
              "      <td>22.0</td>\n",
              "      <td>28800.0</td>\n",
              "      <td>Rent</td>\n",
              "      <td>6.0</td>\n",
              "      <td>Education</td>\n",
              "      <td>B</td>\n",
              "      <td>8000.0</td>\n",
              "      <td>11.49</td>\n",
              "      <td>0.0</td>\n",
              "      <td>0.28</td>\n",
              "      <td>N</td>\n",
              "      <td>2</td>\n",
              "    </tr>\n",
              "    <tr>\n",
              "      <th>6691</th>\n",
              "      <td>LdXgymEO-05eY</td>\n",
              "      <td>EA4tkJab-YWsO</td>\n",
              "      <td>WkTmqh1f-sFLQ</td>\n",
              "      <td>35.0</td>\n",
              "      <td>68231.0</td>\n",
              "      <td>Rent</td>\n",
              "      <td>3.0</td>\n",
              "      <td>Education</td>\n",
              "      <td>C</td>\n",
              "      <td>22400.0</td>\n",
              "      <td>12.99</td>\n",
              "      <td>1.0</td>\n",
              "      <td>0.33</td>\n",
              "      <td>Y</td>\n",
              "      <td>7</td>\n",
              "    </tr>\n",
              "    <tr>\n",
              "      <th>7988</th>\n",
              "      <td>iPrJTFcY-Bb62</td>\n",
              "      <td>2gaeA2kb-UIGH</td>\n",
              "      <td>X0zGytXJ-slXv</td>\n",
              "      <td>33.0</td>\n",
              "      <td>42230.0</td>\n",
              "      <td>Rent</td>\n",
              "      <td>1.0</td>\n",
              "      <td>Medical</td>\n",
              "      <td>A</td>\n",
              "      <td>5500.0</td>\n",
              "      <td>9.63</td>\n",
              "      <td>0.0</td>\n",
              "      <td>0.13</td>\n",
              "      <td>N</td>\n",
              "      <td>10</td>\n",
              "    </tr>\n",
              "    <tr>\n",
              "      <th>9879</th>\n",
              "      <td>lLe9qzjH-Q82z</td>\n",
              "      <td>bT8QcgxZ-daMM</td>\n",
              "      <td>sShrxbD5-jeXx</td>\n",
              "      <td>22.0</td>\n",
              "      <td>53000.0</td>\n",
              "      <td>Mortgage</td>\n",
              "      <td>0.0</td>\n",
              "      <td>Debtconsolidation</td>\n",
              "      <td>A</td>\n",
              "      <td>5025.0</td>\n",
              "      <td>7.49</td>\n",
              "      <td>0.0</td>\n",
              "      <td>0.09</td>\n",
              "      <td>N</td>\n",
              "      <td>3</td>\n",
              "    </tr>\n",
              "    <tr>\n",
              "      <th>3084</th>\n",
              "      <td>2deqBlvq-3Lts</td>\n",
              "      <td>JbYvh7pO-ysiE</td>\n",
              "      <td>4X45OJPq-W3fT</td>\n",
              "      <td>22.0</td>\n",
              "      <td>57500.0</td>\n",
              "      <td>Rent</td>\n",
              "      <td>1.0</td>\n",
              "      <td>Debtconsolidation</td>\n",
              "      <td>B</td>\n",
              "      <td>9100.0</td>\n",
              "      <td>11.49</td>\n",
              "      <td>0.0</td>\n",
              "      <td>0.16</td>\n",
              "      <td>N</td>\n",
              "      <td>4</td>\n",
              "    </tr>\n",
              "  </tbody>\n",
              "</table>\n",
              "</div>\n",
              "      <button class=\"colab-df-convert\" onclick=\"convertToInteractive('df-486b49a6-7cdf-4cfb-8060-04dba4b1a122')\"\n",
              "              title=\"Convert this dataframe to an interactive table.\"\n",
              "              style=\"display:none;\">\n",
              "        \n",
              "  <svg xmlns=\"http://www.w3.org/2000/svg\" height=\"24px\"viewBox=\"0 0 24 24\"\n",
              "       width=\"24px\">\n",
              "    <path d=\"M0 0h24v24H0V0z\" fill=\"none\"/>\n",
              "    <path d=\"M18.56 5.44l.94 2.06.94-2.06 2.06-.94-2.06-.94-.94-2.06-.94 2.06-2.06.94zm-11 1L8.5 8.5l.94-2.06 2.06-.94-2.06-.94L8.5 2.5l-.94 2.06-2.06.94zm10 10l.94 2.06.94-2.06 2.06-.94-2.06-.94-.94-2.06-.94 2.06-2.06.94z\"/><path d=\"M17.41 7.96l-1.37-1.37c-.4-.4-.92-.59-1.43-.59-.52 0-1.04.2-1.43.59L10.3 9.45l-7.72 7.72c-.78.78-.78 2.05 0 2.83L4 21.41c.39.39.9.59 1.41.59.51 0 1.02-.2 1.41-.59l7.78-7.78 2.81-2.81c.8-.78.8-2.07 0-2.86zM5.41 20L4 18.59l7.72-7.72 1.47 1.35L5.41 20z\"/>\n",
              "  </svg>\n",
              "      </button>\n",
              "      \n",
              "  <style>\n",
              "    .colab-df-container {\n",
              "      display:flex;\n",
              "      flex-wrap:wrap;\n",
              "      gap: 12px;\n",
              "    }\n",
              "\n",
              "    .colab-df-convert {\n",
              "      background-color: #E8F0FE;\n",
              "      border: none;\n",
              "      border-radius: 50%;\n",
              "      cursor: pointer;\n",
              "      display: none;\n",
              "      fill: #1967D2;\n",
              "      height: 32px;\n",
              "      padding: 0 0 0 0;\n",
              "      width: 32px;\n",
              "    }\n",
              "\n",
              "    .colab-df-convert:hover {\n",
              "      background-color: #E2EBFA;\n",
              "      box-shadow: 0px 1px 2px rgba(60, 64, 67, 0.3), 0px 1px 3px 1px rgba(60, 64, 67, 0.15);\n",
              "      fill: #174EA6;\n",
              "    }\n",
              "\n",
              "    [theme=dark] .colab-df-convert {\n",
              "      background-color: #3B4455;\n",
              "      fill: #D2E3FC;\n",
              "    }\n",
              "\n",
              "    [theme=dark] .colab-df-convert:hover {\n",
              "      background-color: #434B5C;\n",
              "      box-shadow: 0px 1px 3px 1px rgba(0, 0, 0, 0.15);\n",
              "      filter: drop-shadow(0px 1px 2px rgba(0, 0, 0, 0.3));\n",
              "      fill: #FFFFFF;\n",
              "    }\n",
              "  </style>\n",
              "\n",
              "      <script>\n",
              "        const buttonEl =\n",
              "          document.querySelector('#df-486b49a6-7cdf-4cfb-8060-04dba4b1a122 button.colab-df-convert');\n",
              "        buttonEl.style.display =\n",
              "          google.colab.kernel.accessAllowed ? 'block' : 'none';\n",
              "\n",
              "        async function convertToInteractive(key) {\n",
              "          const element = document.querySelector('#df-486b49a6-7cdf-4cfb-8060-04dba4b1a122');\n",
              "          const dataTable =\n",
              "            await google.colab.kernel.invokeFunction('convertToInteractive',\n",
              "                                                     [key], {});\n",
              "          if (!dataTable) return;\n",
              "\n",
              "          const docLinkHtml = 'Like what you see? Visit the ' +\n",
              "            '<a target=\"_blank\" href=https://colab.research.google.com/notebooks/data_table.ipynb>data table notebook</a>'\n",
              "            + ' to learn more about interactive tables.';\n",
              "          element.innerHTML = '';\n",
              "          dataTable['output_type'] = 'display_data';\n",
              "          await google.colab.output.renderOutput(dataTable, element);\n",
              "          const docLink = document.createElement('div');\n",
              "          docLink.innerHTML = docLinkHtml;\n",
              "          element.appendChild(docLink);\n",
              "        }\n",
              "      </script>\n",
              "    </div>\n",
              "  </div>\n",
              "  "
            ]
          },
          "metadata": {},
          "execution_count": 14
        }
      ]
    },
    {
      "cell_type": "markdown",
      "source": [
        "## Alinhando Data Types"
      ],
      "metadata": {
        "id": "jw3qtiQVwPFU"
      }
    },
    {
      "cell_type": "markdown",
      "source": [
        "Transformando variáveis que estavam como ponto flutuante (float) em inteiro:"
      ],
      "metadata": {
        "id": "Z-DHlD960wrd"
      }
    },
    {
      "cell_type": "code",
      "source": [
        "dados[['idade', 'anos_empregado', 'possibilidade_inadimplencia']] = dados[['idade', 'anos_empregado', 'possibilidade_inadimplencia']].astype({'idade' : 'int',\n",
        "                                                                                                                                              'anos_empregado' : 'int',\n",
        "                                                                                                                                              'possibilidade_inadimplencia' : 'int'},\n",
        "                                                                                                                                             copy = False)"
      ],
      "metadata": {
        "id": "DEXWckgcwJ8Q"
      },
      "execution_count": 15,
      "outputs": []
    },
    {
      "cell_type": "code",
      "source": [
        "dados.info()"
      ],
      "metadata": {
        "colab": {
          "base_uri": "https://localhost:8080/"
        },
        "id": "jU_4Wv7YxZg4",
        "outputId": "54972507-d79e-4813-de61-f127649867ae"
      },
      "execution_count": 16,
      "outputs": [
        {
          "output_type": "stream",
          "name": "stdout",
          "text": [
            "<class 'pandas.core.frame.DataFrame'>\n",
            "RangeIndex: 12420 entries, 0 to 12419\n",
            "Data columns (total 15 columns):\n",
            " #   Column                       Non-Null Count  Dtype  \n",
            "---  ------                       --------------  -----  \n",
            " 0   id_solicitante               12420 non-null  object \n",
            " 1   id_emprestimo                12420 non-null  object \n",
            " 2   id_historico                 12420 non-null  object \n",
            " 3   idade                        12420 non-null  int64  \n",
            " 4   salario_anual                12420 non-null  float64\n",
            " 5   situacao_imovel              12420 non-null  object \n",
            " 6   anos_empregado               12420 non-null  int64  \n",
            " 7   motivo_emprestimo            12420 non-null  object \n",
            " 8   pontuacao_emprestimo         12420 non-null  object \n",
            " 9   total_a_emprestar            12420 non-null  float64\n",
            " 10  juros                        12420 non-null  float64\n",
            " 11  possibilidade_inadimplencia  12420 non-null  int64  \n",
            " 12  percentual_emprestimo_renda  12420 non-null  float64\n",
            " 13  ja_foi_inadimplente          12420 non-null  object \n",
            " 14  anos_de_credito              12420 non-null  int64  \n",
            "dtypes: float64(4), int64(4), object(7)\n",
            "memory usage: 1.4+ MB\n"
          ]
        }
      ]
    },
    {
      "cell_type": "markdown",
      "source": [
        "## Localizando inconsistencias e outliers nas features:"
      ],
      "metadata": {
        "id": "PkapgHO6Xfrq"
      }
    },
    {
      "cell_type": "markdown",
      "source": [
        "Avaliação de algumas descrições das variáveis:"
      ],
      "metadata": {
        "id": "s-XIEnDc07S7"
      }
    },
    {
      "cell_type": "code",
      "source": [
        "dados.describe()"
      ],
      "metadata": {
        "colab": {
          "base_uri": "https://localhost:8080/",
          "height": 300
        },
        "id": "Gaqq36a7cTPl",
        "outputId": "93036b09-9741-4d26-98c3-a799dc8ce658"
      },
      "execution_count": 17,
      "outputs": [
        {
          "output_type": "execute_result",
          "data": {
            "text/plain": [
              "              idade  salario_anual  anos_empregado  total_a_emprestar  \\\n",
              "count  12420.000000   1.242000e+04    12420.000000       12420.000000   \n",
              "mean      27.712077   6.565723e+04        4.816828        9602.047101   \n",
              "std        6.262454   4.744951e+04        4.095568        6311.770379   \n",
              "min       20.000000   4.000000e+03        0.000000         700.000000   \n",
              "25%       23.000000   3.900000e+04        2.000000        5000.000000   \n",
              "50%       26.000000   5.560000e+04        4.000000        8000.000000   \n",
              "75%       30.000000   7.938600e+04        7.000000       12250.000000   \n",
              "max      144.000000   1.200000e+06       34.000000       35000.000000   \n",
              "\n",
              "              juros  possibilidade_inadimplencia  percentual_emprestimo_renda  \\\n",
              "count  12420.000000                 12420.000000                 12420.000000   \n",
              "mean      11.034113                     0.218277                     0.169254   \n",
              "std        3.229387                     0.413093                     0.105793   \n",
              "min        5.420000                     0.000000                     0.010000   \n",
              "25%        7.900000                     0.000000                     0.090000   \n",
              "50%       10.990000                     0.000000                     0.150000   \n",
              "75%       13.480000                     0.000000                     0.230000   \n",
              "max       23.220000                     1.000000                     0.760000   \n",
              "\n",
              "       anos_de_credito  \n",
              "count     12420.000000  \n",
              "mean          5.795491  \n",
              "std           4.059610  \n",
              "min           2.000000  \n",
              "25%           3.000000  \n",
              "50%           4.000000  \n",
              "75%           8.000000  \n",
              "max          30.000000  "
            ],
            "text/html": [
              "\n",
              "  <div id=\"df-970d66d2-e47c-435e-a61e-c96e905813b8\">\n",
              "    <div class=\"colab-df-container\">\n",
              "      <div>\n",
              "<style scoped>\n",
              "    .dataframe tbody tr th:only-of-type {\n",
              "        vertical-align: middle;\n",
              "    }\n",
              "\n",
              "    .dataframe tbody tr th {\n",
              "        vertical-align: top;\n",
              "    }\n",
              "\n",
              "    .dataframe thead th {\n",
              "        text-align: right;\n",
              "    }\n",
              "</style>\n",
              "<table border=\"1\" class=\"dataframe\">\n",
              "  <thead>\n",
              "    <tr style=\"text-align: right;\">\n",
              "      <th></th>\n",
              "      <th>idade</th>\n",
              "      <th>salario_anual</th>\n",
              "      <th>anos_empregado</th>\n",
              "      <th>total_a_emprestar</th>\n",
              "      <th>juros</th>\n",
              "      <th>possibilidade_inadimplencia</th>\n",
              "      <th>percentual_emprestimo_renda</th>\n",
              "      <th>anos_de_credito</th>\n",
              "    </tr>\n",
              "  </thead>\n",
              "  <tbody>\n",
              "    <tr>\n",
              "      <th>count</th>\n",
              "      <td>12420.000000</td>\n",
              "      <td>1.242000e+04</td>\n",
              "      <td>12420.000000</td>\n",
              "      <td>12420.000000</td>\n",
              "      <td>12420.000000</td>\n",
              "      <td>12420.000000</td>\n",
              "      <td>12420.000000</td>\n",
              "      <td>12420.000000</td>\n",
              "    </tr>\n",
              "    <tr>\n",
              "      <th>mean</th>\n",
              "      <td>27.712077</td>\n",
              "      <td>6.565723e+04</td>\n",
              "      <td>4.816828</td>\n",
              "      <td>9602.047101</td>\n",
              "      <td>11.034113</td>\n",
              "      <td>0.218277</td>\n",
              "      <td>0.169254</td>\n",
              "      <td>5.795491</td>\n",
              "    </tr>\n",
              "    <tr>\n",
              "      <th>std</th>\n",
              "      <td>6.262454</td>\n",
              "      <td>4.744951e+04</td>\n",
              "      <td>4.095568</td>\n",
              "      <td>6311.770379</td>\n",
              "      <td>3.229387</td>\n",
              "      <td>0.413093</td>\n",
              "      <td>0.105793</td>\n",
              "      <td>4.059610</td>\n",
              "    </tr>\n",
              "    <tr>\n",
              "      <th>min</th>\n",
              "      <td>20.000000</td>\n",
              "      <td>4.000000e+03</td>\n",
              "      <td>0.000000</td>\n",
              "      <td>700.000000</td>\n",
              "      <td>5.420000</td>\n",
              "      <td>0.000000</td>\n",
              "      <td>0.010000</td>\n",
              "      <td>2.000000</td>\n",
              "    </tr>\n",
              "    <tr>\n",
              "      <th>25%</th>\n",
              "      <td>23.000000</td>\n",
              "      <td>3.900000e+04</td>\n",
              "      <td>2.000000</td>\n",
              "      <td>5000.000000</td>\n",
              "      <td>7.900000</td>\n",
              "      <td>0.000000</td>\n",
              "      <td>0.090000</td>\n",
              "      <td>3.000000</td>\n",
              "    </tr>\n",
              "    <tr>\n",
              "      <th>50%</th>\n",
              "      <td>26.000000</td>\n",
              "      <td>5.560000e+04</td>\n",
              "      <td>4.000000</td>\n",
              "      <td>8000.000000</td>\n",
              "      <td>10.990000</td>\n",
              "      <td>0.000000</td>\n",
              "      <td>0.150000</td>\n",
              "      <td>4.000000</td>\n",
              "    </tr>\n",
              "    <tr>\n",
              "      <th>75%</th>\n",
              "      <td>30.000000</td>\n",
              "      <td>7.938600e+04</td>\n",
              "      <td>7.000000</td>\n",
              "      <td>12250.000000</td>\n",
              "      <td>13.480000</td>\n",
              "      <td>0.000000</td>\n",
              "      <td>0.230000</td>\n",
              "      <td>8.000000</td>\n",
              "    </tr>\n",
              "    <tr>\n",
              "      <th>max</th>\n",
              "      <td>144.000000</td>\n",
              "      <td>1.200000e+06</td>\n",
              "      <td>34.000000</td>\n",
              "      <td>35000.000000</td>\n",
              "      <td>23.220000</td>\n",
              "      <td>1.000000</td>\n",
              "      <td>0.760000</td>\n",
              "      <td>30.000000</td>\n",
              "    </tr>\n",
              "  </tbody>\n",
              "</table>\n",
              "</div>\n",
              "      <button class=\"colab-df-convert\" onclick=\"convertToInteractive('df-970d66d2-e47c-435e-a61e-c96e905813b8')\"\n",
              "              title=\"Convert this dataframe to an interactive table.\"\n",
              "              style=\"display:none;\">\n",
              "        \n",
              "  <svg xmlns=\"http://www.w3.org/2000/svg\" height=\"24px\"viewBox=\"0 0 24 24\"\n",
              "       width=\"24px\">\n",
              "    <path d=\"M0 0h24v24H0V0z\" fill=\"none\"/>\n",
              "    <path d=\"M18.56 5.44l.94 2.06.94-2.06 2.06-.94-2.06-.94-.94-2.06-.94 2.06-2.06.94zm-11 1L8.5 8.5l.94-2.06 2.06-.94-2.06-.94L8.5 2.5l-.94 2.06-2.06.94zm10 10l.94 2.06.94-2.06 2.06-.94-2.06-.94-.94-2.06-.94 2.06-2.06.94z\"/><path d=\"M17.41 7.96l-1.37-1.37c-.4-.4-.92-.59-1.43-.59-.52 0-1.04.2-1.43.59L10.3 9.45l-7.72 7.72c-.78.78-.78 2.05 0 2.83L4 21.41c.39.39.9.59 1.41.59.51 0 1.02-.2 1.41-.59l7.78-7.78 2.81-2.81c.8-.78.8-2.07 0-2.86zM5.41 20L4 18.59l7.72-7.72 1.47 1.35L5.41 20z\"/>\n",
              "  </svg>\n",
              "      </button>\n",
              "      \n",
              "  <style>\n",
              "    .colab-df-container {\n",
              "      display:flex;\n",
              "      flex-wrap:wrap;\n",
              "      gap: 12px;\n",
              "    }\n",
              "\n",
              "    .colab-df-convert {\n",
              "      background-color: #E8F0FE;\n",
              "      border: none;\n",
              "      border-radius: 50%;\n",
              "      cursor: pointer;\n",
              "      display: none;\n",
              "      fill: #1967D2;\n",
              "      height: 32px;\n",
              "      padding: 0 0 0 0;\n",
              "      width: 32px;\n",
              "    }\n",
              "\n",
              "    .colab-df-convert:hover {\n",
              "      background-color: #E2EBFA;\n",
              "      box-shadow: 0px 1px 2px rgba(60, 64, 67, 0.3), 0px 1px 3px 1px rgba(60, 64, 67, 0.15);\n",
              "      fill: #174EA6;\n",
              "    }\n",
              "\n",
              "    [theme=dark] .colab-df-convert {\n",
              "      background-color: #3B4455;\n",
              "      fill: #D2E3FC;\n",
              "    }\n",
              "\n",
              "    [theme=dark] .colab-df-convert:hover {\n",
              "      background-color: #434B5C;\n",
              "      box-shadow: 0px 1px 3px 1px rgba(0, 0, 0, 0.15);\n",
              "      filter: drop-shadow(0px 1px 2px rgba(0, 0, 0, 0.3));\n",
              "      fill: #FFFFFF;\n",
              "    }\n",
              "  </style>\n",
              "\n",
              "      <script>\n",
              "        const buttonEl =\n",
              "          document.querySelector('#df-970d66d2-e47c-435e-a61e-c96e905813b8 button.colab-df-convert');\n",
              "        buttonEl.style.display =\n",
              "          google.colab.kernel.accessAllowed ? 'block' : 'none';\n",
              "\n",
              "        async function convertToInteractive(key) {\n",
              "          const element = document.querySelector('#df-970d66d2-e47c-435e-a61e-c96e905813b8');\n",
              "          const dataTable =\n",
              "            await google.colab.kernel.invokeFunction('convertToInteractive',\n",
              "                                                     [key], {});\n",
              "          if (!dataTable) return;\n",
              "\n",
              "          const docLinkHtml = 'Like what you see? Visit the ' +\n",
              "            '<a target=\"_blank\" href=https://colab.research.google.com/notebooks/data_table.ipynb>data table notebook</a>'\n",
              "            + ' to learn more about interactive tables.';\n",
              "          element.innerHTML = '';\n",
              "          dataTable['output_type'] = 'display_data';\n",
              "          await google.colab.output.renderOutput(dataTable, element);\n",
              "          const docLink = document.createElement('div');\n",
              "          docLink.innerHTML = docLinkHtml;\n",
              "          element.appendChild(docLink);\n",
              "        }\n",
              "      </script>\n",
              "    </div>\n",
              "  </div>\n",
              "  "
            ]
          },
          "metadata": {},
          "execution_count": 17
        }
      ]
    },
    {
      "cell_type": "markdown",
      "source": [
        "### idade"
      ],
      "metadata": {
        "id": "8gI3IxGOXi5-"
      }
    },
    {
      "cell_type": "code",
      "source": [
        "dados.idade.unique()"
      ],
      "metadata": {
        "id": "mLaEZ_3Mxbla",
        "colab": {
          "base_uri": "https://localhost:8080/"
        },
        "outputId": "d9aa0a37-951a-484d-d031-49d25b291e08"
      },
      "execution_count": 18,
      "outputs": [
        {
          "output_type": "execute_result",
          "data": {
            "text/plain": [
              "array([ 22,  31,  26,  24,  28,  35,  29,  27,  32,  36,  30,  25,  33,\n",
              "        21,  23,  43,  47,  37,  34,  52,  54,  49,  38,  41, 144,  46,\n",
              "        44,  40,  39,  45,  42,  48,  53,  55,  58,  50,  57,  56,  51,\n",
              "        69,  64,  60,  59,  63,  62,  66,  20,  61,  70,  65,  73,  67])"
            ]
          },
          "metadata": {},
          "execution_count": 18
        }
      ]
    },
    {
      "cell_type": "code",
      "source": [
        "dados.loc[dados['idade'] == 144]"
      ],
      "metadata": {
        "colab": {
          "base_uri": "https://localhost:8080/",
          "height": 162
        },
        "id": "UvjtVOkGWhBV",
        "outputId": "3d08fec6-ca4b-4918-f133-e1836d76811b"
      },
      "execution_count": 19,
      "outputs": [
        {
          "output_type": "execute_result",
          "data": {
            "text/plain": [
              "    id_solicitante  id_emprestimo   id_historico  idade  salario_anual  \\\n",
              "163  5fi1GWSO-oQcb  TmOA2QC6-xk2y  171BCjoL-pNcN    144       200000.0   \n",
              "\n",
              "    situacao_imovel  anos_empregado motivo_emprestimo pontuacao_emprestimo  \\\n",
              "163        Mortgage               4         Education                    B   \n",
              "\n",
              "     total_a_emprestar  juros  possibilidade_inadimplencia  \\\n",
              "163             6000.0  11.86                            0   \n",
              "\n",
              "     percentual_emprestimo_renda ja_foi_inadimplente  anos_de_credito  \n",
              "163                         0.03                   N                2  "
            ],
            "text/html": [
              "\n",
              "  <div id=\"df-6e23ca5e-a21f-4bce-b3e1-388a4e4d8fe7\">\n",
              "    <div class=\"colab-df-container\">\n",
              "      <div>\n",
              "<style scoped>\n",
              "    .dataframe tbody tr th:only-of-type {\n",
              "        vertical-align: middle;\n",
              "    }\n",
              "\n",
              "    .dataframe tbody tr th {\n",
              "        vertical-align: top;\n",
              "    }\n",
              "\n",
              "    .dataframe thead th {\n",
              "        text-align: right;\n",
              "    }\n",
              "</style>\n",
              "<table border=\"1\" class=\"dataframe\">\n",
              "  <thead>\n",
              "    <tr style=\"text-align: right;\">\n",
              "      <th></th>\n",
              "      <th>id_solicitante</th>\n",
              "      <th>id_emprestimo</th>\n",
              "      <th>id_historico</th>\n",
              "      <th>idade</th>\n",
              "      <th>salario_anual</th>\n",
              "      <th>situacao_imovel</th>\n",
              "      <th>anos_empregado</th>\n",
              "      <th>motivo_emprestimo</th>\n",
              "      <th>pontuacao_emprestimo</th>\n",
              "      <th>total_a_emprestar</th>\n",
              "      <th>juros</th>\n",
              "      <th>possibilidade_inadimplencia</th>\n",
              "      <th>percentual_emprestimo_renda</th>\n",
              "      <th>ja_foi_inadimplente</th>\n",
              "      <th>anos_de_credito</th>\n",
              "    </tr>\n",
              "  </thead>\n",
              "  <tbody>\n",
              "    <tr>\n",
              "      <th>163</th>\n",
              "      <td>5fi1GWSO-oQcb</td>\n",
              "      <td>TmOA2QC6-xk2y</td>\n",
              "      <td>171BCjoL-pNcN</td>\n",
              "      <td>144</td>\n",
              "      <td>200000.0</td>\n",
              "      <td>Mortgage</td>\n",
              "      <td>4</td>\n",
              "      <td>Education</td>\n",
              "      <td>B</td>\n",
              "      <td>6000.0</td>\n",
              "      <td>11.86</td>\n",
              "      <td>0</td>\n",
              "      <td>0.03</td>\n",
              "      <td>N</td>\n",
              "      <td>2</td>\n",
              "    </tr>\n",
              "  </tbody>\n",
              "</table>\n",
              "</div>\n",
              "      <button class=\"colab-df-convert\" onclick=\"convertToInteractive('df-6e23ca5e-a21f-4bce-b3e1-388a4e4d8fe7')\"\n",
              "              title=\"Convert this dataframe to an interactive table.\"\n",
              "              style=\"display:none;\">\n",
              "        \n",
              "  <svg xmlns=\"http://www.w3.org/2000/svg\" height=\"24px\"viewBox=\"0 0 24 24\"\n",
              "       width=\"24px\">\n",
              "    <path d=\"M0 0h24v24H0V0z\" fill=\"none\"/>\n",
              "    <path d=\"M18.56 5.44l.94 2.06.94-2.06 2.06-.94-2.06-.94-.94-2.06-.94 2.06-2.06.94zm-11 1L8.5 8.5l.94-2.06 2.06-.94-2.06-.94L8.5 2.5l-.94 2.06-2.06.94zm10 10l.94 2.06.94-2.06 2.06-.94-2.06-.94-.94-2.06-.94 2.06-2.06.94z\"/><path d=\"M17.41 7.96l-1.37-1.37c-.4-.4-.92-.59-1.43-.59-.52 0-1.04.2-1.43.59L10.3 9.45l-7.72 7.72c-.78.78-.78 2.05 0 2.83L4 21.41c.39.39.9.59 1.41.59.51 0 1.02-.2 1.41-.59l7.78-7.78 2.81-2.81c.8-.78.8-2.07 0-2.86zM5.41 20L4 18.59l7.72-7.72 1.47 1.35L5.41 20z\"/>\n",
              "  </svg>\n",
              "      </button>\n",
              "      \n",
              "  <style>\n",
              "    .colab-df-container {\n",
              "      display:flex;\n",
              "      flex-wrap:wrap;\n",
              "      gap: 12px;\n",
              "    }\n",
              "\n",
              "    .colab-df-convert {\n",
              "      background-color: #E8F0FE;\n",
              "      border: none;\n",
              "      border-radius: 50%;\n",
              "      cursor: pointer;\n",
              "      display: none;\n",
              "      fill: #1967D2;\n",
              "      height: 32px;\n",
              "      padding: 0 0 0 0;\n",
              "      width: 32px;\n",
              "    }\n",
              "\n",
              "    .colab-df-convert:hover {\n",
              "      background-color: #E2EBFA;\n",
              "      box-shadow: 0px 1px 2px rgba(60, 64, 67, 0.3), 0px 1px 3px 1px rgba(60, 64, 67, 0.15);\n",
              "      fill: #174EA6;\n",
              "    }\n",
              "\n",
              "    [theme=dark] .colab-df-convert {\n",
              "      background-color: #3B4455;\n",
              "      fill: #D2E3FC;\n",
              "    }\n",
              "\n",
              "    [theme=dark] .colab-df-convert:hover {\n",
              "      background-color: #434B5C;\n",
              "      box-shadow: 0px 1px 3px 1px rgba(0, 0, 0, 0.15);\n",
              "      filter: drop-shadow(0px 1px 2px rgba(0, 0, 0, 0.3));\n",
              "      fill: #FFFFFF;\n",
              "    }\n",
              "  </style>\n",
              "\n",
              "      <script>\n",
              "        const buttonEl =\n",
              "          document.querySelector('#df-6e23ca5e-a21f-4bce-b3e1-388a4e4d8fe7 button.colab-df-convert');\n",
              "        buttonEl.style.display =\n",
              "          google.colab.kernel.accessAllowed ? 'block' : 'none';\n",
              "\n",
              "        async function convertToInteractive(key) {\n",
              "          const element = document.querySelector('#df-6e23ca5e-a21f-4bce-b3e1-388a4e4d8fe7');\n",
              "          const dataTable =\n",
              "            await google.colab.kernel.invokeFunction('convertToInteractive',\n",
              "                                                     [key], {});\n",
              "          if (!dataTable) return;\n",
              "\n",
              "          const docLinkHtml = 'Like what you see? Visit the ' +\n",
              "            '<a target=\"_blank\" href=https://colab.research.google.com/notebooks/data_table.ipynb>data table notebook</a>'\n",
              "            + ' to learn more about interactive tables.';\n",
              "          element.innerHTML = '';\n",
              "          dataTable['output_type'] = 'display_data';\n",
              "          await google.colab.output.renderOutput(dataTable, element);\n",
              "          const docLink = document.createElement('div');\n",
              "          docLink.innerHTML = docLinkHtml;\n",
              "          element.appendChild(docLink);\n",
              "        }\n",
              "      </script>\n",
              "    </div>\n",
              "  </div>\n",
              "  "
            ]
          },
          "metadata": {},
          "execution_count": 19
        }
      ]
    },
    {
      "cell_type": "markdown",
      "source": [
        "Encontrado mutuário com supostos 144 anos de idade. Como não podemos concluir como o erro aconteceu, será optado por remover a linha:"
      ],
      "metadata": {
        "id": "TheDO_MLXriR"
      }
    },
    {
      "cell_type": "code",
      "source": [
        "dados.drop([163], inplace=True)"
      ],
      "metadata": {
        "id": "8o7IRRMNixqn"
      },
      "execution_count": 20,
      "outputs": []
    },
    {
      "cell_type": "code",
      "source": [
        "dados.iloc[161:165]"
      ],
      "metadata": {
        "colab": {
          "base_uri": "https://localhost:8080/",
          "height": 308
        },
        "id": "Avnt4W3PnG7H",
        "outputId": "427be142-4420-4e24-83f2-a595b6b46448"
      },
      "execution_count": 21,
      "outputs": [
        {
          "output_type": "execute_result",
          "data": {
            "text/plain": [
              "    id_solicitante  id_emprestimo   id_historico  idade  salario_anual  \\\n",
              "161  AJuddx2B-Dcu9  D1szndL5-524v  pcIzPWkn-9TG1     34       120000.0   \n",
              "162  Ke9GAsjD-4ICN  OXFo4pfx-G9Rd  p25AZZxp-C9Dd     33        59000.0   \n",
              "164  zjfoYKKD-w0MI  bkkFivp2-MCQn  qKflXH8K-hwKH     24        88000.0   \n",
              "165  cesBt1ue-1gFP  GoixrHQv-KY16  Jy0XpP40-MxpS     26        85000.0   \n",
              "\n",
              "    situacao_imovel  anos_empregado  motivo_emprestimo pontuacao_emprestimo  \\\n",
              "161            Rent               0  Debtconsolidation                    A   \n",
              "162            Rent              17            Medical                    B   \n",
              "164        Mortgage               2           Personal                    A   \n",
              "165            Rent               3    Homeimprovement                    C   \n",
              "\n",
              "     total_a_emprestar  juros  possibilidade_inadimplencia  \\\n",
              "161             2200.0   7.51                            0   \n",
              "162             9600.0   9.91                            0   \n",
              "164             8000.0   5.99                            0   \n",
              "165            21000.0  13.92                            0   \n",
              "\n",
              "     percentual_emprestimo_renda ja_foi_inadimplente  anos_de_credito  \n",
              "161                         0.02                   N                5  \n",
              "162                         0.16                   N                8  \n",
              "164                         0.09                   N                4  \n",
              "165                         0.25                   N                3  "
            ],
            "text/html": [
              "\n",
              "  <div id=\"df-0d770d67-fd37-4975-90ed-17f8ec55b7c1\">\n",
              "    <div class=\"colab-df-container\">\n",
              "      <div>\n",
              "<style scoped>\n",
              "    .dataframe tbody tr th:only-of-type {\n",
              "        vertical-align: middle;\n",
              "    }\n",
              "\n",
              "    .dataframe tbody tr th {\n",
              "        vertical-align: top;\n",
              "    }\n",
              "\n",
              "    .dataframe thead th {\n",
              "        text-align: right;\n",
              "    }\n",
              "</style>\n",
              "<table border=\"1\" class=\"dataframe\">\n",
              "  <thead>\n",
              "    <tr style=\"text-align: right;\">\n",
              "      <th></th>\n",
              "      <th>id_solicitante</th>\n",
              "      <th>id_emprestimo</th>\n",
              "      <th>id_historico</th>\n",
              "      <th>idade</th>\n",
              "      <th>salario_anual</th>\n",
              "      <th>situacao_imovel</th>\n",
              "      <th>anos_empregado</th>\n",
              "      <th>motivo_emprestimo</th>\n",
              "      <th>pontuacao_emprestimo</th>\n",
              "      <th>total_a_emprestar</th>\n",
              "      <th>juros</th>\n",
              "      <th>possibilidade_inadimplencia</th>\n",
              "      <th>percentual_emprestimo_renda</th>\n",
              "      <th>ja_foi_inadimplente</th>\n",
              "      <th>anos_de_credito</th>\n",
              "    </tr>\n",
              "  </thead>\n",
              "  <tbody>\n",
              "    <tr>\n",
              "      <th>161</th>\n",
              "      <td>AJuddx2B-Dcu9</td>\n",
              "      <td>D1szndL5-524v</td>\n",
              "      <td>pcIzPWkn-9TG1</td>\n",
              "      <td>34</td>\n",
              "      <td>120000.0</td>\n",
              "      <td>Rent</td>\n",
              "      <td>0</td>\n",
              "      <td>Debtconsolidation</td>\n",
              "      <td>A</td>\n",
              "      <td>2200.0</td>\n",
              "      <td>7.51</td>\n",
              "      <td>0</td>\n",
              "      <td>0.02</td>\n",
              "      <td>N</td>\n",
              "      <td>5</td>\n",
              "    </tr>\n",
              "    <tr>\n",
              "      <th>162</th>\n",
              "      <td>Ke9GAsjD-4ICN</td>\n",
              "      <td>OXFo4pfx-G9Rd</td>\n",
              "      <td>p25AZZxp-C9Dd</td>\n",
              "      <td>33</td>\n",
              "      <td>59000.0</td>\n",
              "      <td>Rent</td>\n",
              "      <td>17</td>\n",
              "      <td>Medical</td>\n",
              "      <td>B</td>\n",
              "      <td>9600.0</td>\n",
              "      <td>9.91</td>\n",
              "      <td>0</td>\n",
              "      <td>0.16</td>\n",
              "      <td>N</td>\n",
              "      <td>8</td>\n",
              "    </tr>\n",
              "    <tr>\n",
              "      <th>164</th>\n",
              "      <td>zjfoYKKD-w0MI</td>\n",
              "      <td>bkkFivp2-MCQn</td>\n",
              "      <td>qKflXH8K-hwKH</td>\n",
              "      <td>24</td>\n",
              "      <td>88000.0</td>\n",
              "      <td>Mortgage</td>\n",
              "      <td>2</td>\n",
              "      <td>Personal</td>\n",
              "      <td>A</td>\n",
              "      <td>8000.0</td>\n",
              "      <td>5.99</td>\n",
              "      <td>0</td>\n",
              "      <td>0.09</td>\n",
              "      <td>N</td>\n",
              "      <td>4</td>\n",
              "    </tr>\n",
              "    <tr>\n",
              "      <th>165</th>\n",
              "      <td>cesBt1ue-1gFP</td>\n",
              "      <td>GoixrHQv-KY16</td>\n",
              "      <td>Jy0XpP40-MxpS</td>\n",
              "      <td>26</td>\n",
              "      <td>85000.0</td>\n",
              "      <td>Rent</td>\n",
              "      <td>3</td>\n",
              "      <td>Homeimprovement</td>\n",
              "      <td>C</td>\n",
              "      <td>21000.0</td>\n",
              "      <td>13.92</td>\n",
              "      <td>0</td>\n",
              "      <td>0.25</td>\n",
              "      <td>N</td>\n",
              "      <td>3</td>\n",
              "    </tr>\n",
              "  </tbody>\n",
              "</table>\n",
              "</div>\n",
              "      <button class=\"colab-df-convert\" onclick=\"convertToInteractive('df-0d770d67-fd37-4975-90ed-17f8ec55b7c1')\"\n",
              "              title=\"Convert this dataframe to an interactive table.\"\n",
              "              style=\"display:none;\">\n",
              "        \n",
              "  <svg xmlns=\"http://www.w3.org/2000/svg\" height=\"24px\"viewBox=\"0 0 24 24\"\n",
              "       width=\"24px\">\n",
              "    <path d=\"M0 0h24v24H0V0z\" fill=\"none\"/>\n",
              "    <path d=\"M18.56 5.44l.94 2.06.94-2.06 2.06-.94-2.06-.94-.94-2.06-.94 2.06-2.06.94zm-11 1L8.5 8.5l.94-2.06 2.06-.94-2.06-.94L8.5 2.5l-.94 2.06-2.06.94zm10 10l.94 2.06.94-2.06 2.06-.94-2.06-.94-.94-2.06-.94 2.06-2.06.94z\"/><path d=\"M17.41 7.96l-1.37-1.37c-.4-.4-.92-.59-1.43-.59-.52 0-1.04.2-1.43.59L10.3 9.45l-7.72 7.72c-.78.78-.78 2.05 0 2.83L4 21.41c.39.39.9.59 1.41.59.51 0 1.02-.2 1.41-.59l7.78-7.78 2.81-2.81c.8-.78.8-2.07 0-2.86zM5.41 20L4 18.59l7.72-7.72 1.47 1.35L5.41 20z\"/>\n",
              "  </svg>\n",
              "      </button>\n",
              "      \n",
              "  <style>\n",
              "    .colab-df-container {\n",
              "      display:flex;\n",
              "      flex-wrap:wrap;\n",
              "      gap: 12px;\n",
              "    }\n",
              "\n",
              "    .colab-df-convert {\n",
              "      background-color: #E8F0FE;\n",
              "      border: none;\n",
              "      border-radius: 50%;\n",
              "      cursor: pointer;\n",
              "      display: none;\n",
              "      fill: #1967D2;\n",
              "      height: 32px;\n",
              "      padding: 0 0 0 0;\n",
              "      width: 32px;\n",
              "    }\n",
              "\n",
              "    .colab-df-convert:hover {\n",
              "      background-color: #E2EBFA;\n",
              "      box-shadow: 0px 1px 2px rgba(60, 64, 67, 0.3), 0px 1px 3px 1px rgba(60, 64, 67, 0.15);\n",
              "      fill: #174EA6;\n",
              "    }\n",
              "\n",
              "    [theme=dark] .colab-df-convert {\n",
              "      background-color: #3B4455;\n",
              "      fill: #D2E3FC;\n",
              "    }\n",
              "\n",
              "    [theme=dark] .colab-df-convert:hover {\n",
              "      background-color: #434B5C;\n",
              "      box-shadow: 0px 1px 3px 1px rgba(0, 0, 0, 0.15);\n",
              "      filter: drop-shadow(0px 1px 2px rgba(0, 0, 0, 0.3));\n",
              "      fill: #FFFFFF;\n",
              "    }\n",
              "  </style>\n",
              "\n",
              "      <script>\n",
              "        const buttonEl =\n",
              "          document.querySelector('#df-0d770d67-fd37-4975-90ed-17f8ec55b7c1 button.colab-df-convert');\n",
              "        buttonEl.style.display =\n",
              "          google.colab.kernel.accessAllowed ? 'block' : 'none';\n",
              "\n",
              "        async function convertToInteractive(key) {\n",
              "          const element = document.querySelector('#df-0d770d67-fd37-4975-90ed-17f8ec55b7c1');\n",
              "          const dataTable =\n",
              "            await google.colab.kernel.invokeFunction('convertToInteractive',\n",
              "                                                     [key], {});\n",
              "          if (!dataTable) return;\n",
              "\n",
              "          const docLinkHtml = 'Like what you see? Visit the ' +\n",
              "            '<a target=\"_blank\" href=https://colab.research.google.com/notebooks/data_table.ipynb>data table notebook</a>'\n",
              "            + ' to learn more about interactive tables.';\n",
              "          element.innerHTML = '';\n",
              "          dataTable['output_type'] = 'display_data';\n",
              "          await google.colab.output.renderOutput(dataTable, element);\n",
              "          const docLink = document.createElement('div');\n",
              "          docLink.innerHTML = docLinkHtml;\n",
              "          element.appendChild(docLink);\n",
              "        }\n",
              "      </script>\n",
              "    </div>\n",
              "  </div>\n",
              "  "
            ]
          },
          "metadata": {},
          "execution_count": 21
        }
      ]
    },
    {
      "cell_type": "markdown",
      "source": [
        "### salario_anual"
      ],
      "metadata": {
        "id": "zMH2B9qBXz2x"
      }
    },
    {
      "cell_type": "markdown",
      "source": [
        "Avaliando a variável 'salario_anual' com duas visualizações."
      ],
      "metadata": {
        "id": "taMa08u-sw8y"
      }
    },
    {
      "cell_type": "markdown",
      "source": [
        "Distribuição:"
      ],
      "metadata": {
        "id": "hcFGSnQks3_g"
      }
    },
    {
      "cell_type": "code",
      "source": [
        "import seaborn as sns\n",
        "\n",
        "ax = sns.displot(dados['salario_anual'], kde= True)\n",
        "ax.set(xlabel= 'Salário Anual', ylabel= 'Densidade', title= 'Distribuição do Salário Anual')\n",
        "ax.figure.set_size_inches(12,8)"
      ],
      "metadata": {
        "colab": {
          "base_uri": "https://localhost:8080/",
          "height": 565
        },
        "id": "MWWUilT6dxpQ",
        "outputId": "bdabbda0-1635-4feb-a07d-a399205f117f"
      },
      "execution_count": 22,
      "outputs": [
        {
          "output_type": "display_data",
          "data": {
            "text/plain": [
              "<Figure size 864x576 with 1 Axes>"
            ],
            "image/png": "[encoded data removed]"
          },
          "metadata": {
            "needs_background": "light"
          }
        }
      ]
    },
    {
      "cell_type": "markdown",
      "source": [
        "Box-plot:"
      ],
      "metadata": {
        "id": "MnHG7unWs-r5"
      }
    },
    {
      "cell_type": "code",
      "source": [
        "import plotly.express as px\n",
        "\n",
        "fig = px.box(dados, \n",
        "             y=\"salario_anual\",\n",
        "             width=400,\n",
        "             height=800,\n",
        "             title = 'Salário Anual')\n",
        "fig.show()"
      ],
      "metadata": {
        "colab": {
          "base_uri": "https://localhost:8080/",
          "height": 817
        },
        "id": "qxXWERRymFDa",
        "outputId": "90920fc7-4ca0-4099-9360-d6c9bbc51e79"
      },
      "execution_count": 23,
      "outputs": [
        {
          "output_type": "display_data",
          "data": {
            "text/html": [
              "<html>\n",
              "<head><meta charset=\"utf-8\" /></head>\n",
              "<body>\n",
              "    <div>            <script src=\"https://cdnjs.cloudflare.com/ajax/libs/mathjax/2.7.5/MathJax.js?config=TeX-AMS-MML_SVG\"></script><script type=\"text/javascript\">if (window.MathJax) {MathJax.Hub.Config({SVG: {font: \"STIX-Web\"}});}</script>                <script type=\"text/javascript\">window.PlotlyConfig = {MathJaxConfig: 'local'};</script>\n",
              "        <script src=\"https://cdn.plot.ly/plotly-2.8.3.min.js\"></script>                <div id=\"1d79d0ca-e87e-4455-bad2-c69278a6307a\" class=\"plotly-graph-div\" style=\"height:800px; width:400px;\"></div>            <script type=\"text/javascript\">                                    window.PLOTLYENV=window.PLOTLYENV || {};                                    if (document.getElementById(\"1d79d0ca-e87e-4455-bad2-c69278a6307a\")) {                    Plotly.newPlot(                        \"1d79d0ca-e87e-4455-bad2-c69278a6307a\",                        [{\"alignmentgroup\":\"True\",\"hovertemplate\":\"salario_anual=%{y}<extra></extra>\",\"legendgroup\":\"\",\"marker\":{\"color\":\"#636efa\"},\"name\":\"\",\"notched\":false,\"offsetgroup\":\"\",\"orientation\":\"v\",\"showlegend\":false,\"x0\":\" \",\"xaxis\":\"x\",\"y\":[55000.0,76000.0,50000.0,84996.0,55782.0,53376.0,99800.0,45000.0,50000.0,35000.0,19200.0,82000.0,39520.0,120000.0,36000.0,155000.0,220000.0,215662.0,54000.0,45000.0,44000.0,103000.0,45344.0,54000.0,50402.0,53000.0,24000.0,95004.0,62000.0,80000.0,65000.0,110004.0,50000.0,72800.0,30000.0,64000.0,50000.0,168000.0,146000.0,39996.0,90000.0,90096.0,27996.0,59000.0,40000.0,96000.0,81000.0,40000.0,72000.0,95000.0,41900.0,60000.0,25200.0,16800.0,39000.0,60000.0,20000.0,56312.0,43000.0,46000.0,75000.0,25000.0,148000.0,6000.0,60000.0,35000.0,66000.0,58000.0,28000.0,53500.0,24000.0,9600.0,29000.0,36000.0,45000.0,117996.0,45192.0,91000.0,135000.0,232050.0,38004.0,30000.0,44000.0,78000.0,30000.0,39000.0,39420.0,67000.0,40000.0,21700.0,54000.0,60000.0,50000.0,60000.0,80000.0,25000.0,97000.0,45000.0,63800.0,154000.0,96000.0,60000.0,73000.0,27600.0,110000.0,84000.0,37008.0,80000.0,32000.0,46992.0,25200.0,108000.0,77544.0,61500.0,112000.0,33996.0,48000.0,24996.0,48000.0,70872.0,45000.0,90000.0,60000.0,60000.0,87000.0,54000.0,92250.0,65000.0,35000.0,75000.0,60000.0,55000.0,47818.0,70000.0,36996.0,41000.0,15000.0,45600.0,52000.0,45000.0,85000.0,66912.0,100000.0,60000.0,37000.0,45000.0,26000.0,56000.0,60000.0,85000.0,117000.0,24000.0,29000.0,55000.0,36000.0,28000.0,74000.0,120000.0,48000.0,54500.0,51000.0,120000.0,59000.0,88000.0,85000.0,60000.0,42000.0,24000.0,120000.0,42000.0,22000.0,85000.0,28000.0,48000.0,36996.0,91800.0,45000.0,62000.0,273700.0,80000.0,45000.0,26000.0,95000.0,110000.0,38400.0,73164.0,95000.0,20000.0,60000.0,28800.0,60000.0,46000.0,54000.0,36100.0,52000.0,72000.0,16800.0,28000.0,38000.0,35000.0,40000.0,120000.0,42000.0,61200.0,101000.0,28000.0,48000.0,78000.0,85000.0,18000.0,84456.0,96000.0,48000.0,50350.0,44582.0,31000.0,69996.0,81804.0,57000.0,51000.0,66000.0,85000.0,36000.0,140000.0,40000.0,235000.0,33000.0,39000.0,40000.0,90000.0,37500.0,42500.0,70000.0,67000.0,52479.0,165000.0,30000.0,55000.0,54000.0,79200.0,38004.0,90000.0,70000.0,80000.0,75600.0,185000.0,48661.0,65000.0,59600.0,66000.0,97000.0,39000.0,50000.0,54000.0,130000.0,40277.0,21000.0,50000.0,27000.0,48000.0,39860.0,102000.0,24000.0,70000.0,22800.0,85000.0,156000.0,66000.0,32004.0,190000.0,56000.0,90000.0,39000.0,55000.0,42000.0,113800.0,24996.0,50000.0,26000.0,51996.0,14400.0,82656.0,69996.0,81120.0,96000.0,44000.0,37000.0,47000.0,77000.0,62900.0,35400.0,85000.0,105000.0,120000.0,34404.0,40000.0,115800.0,27600.0,35000.0,39000.0,60000.0,38000.0,18000.0,32000.0,37000.0,50000.0,33000.0,65000.0,54000.0,95400.0,75000.0,98000.0,70000.0,44000.0,41000.0,26000.0,66000.0,66000.0,39000.0,80000.0,25000.0,58000.0,70000.0,43200.0,60000.0,51000.0,22896.0,105000.0,35000.0,180000.0,25000.0,98400.0,50000.0,20292.0,29435.0,15600.0,25000.0,45000.0,75000.0,28800.0,40000.0,148000.0,61680.0,44004.0,81996.0,63000.0,26500.0,141000.0,142000.0,74000.0,12000.0,108000.0,32000.0,64000.0,110000.0,90000.0,32244.0,33000.0,45000.0,80160.0,37000.0,28000.0,50000.0,50780.0,43200.0,128500.0,170000.0,70000.0,48250.0,80400.0,17916.0,58000.0,82000.0,42886.0,30000.0,37000.0,70000.0,28800.0,102500.0,35004.0,28800.0,90000.0,22406.0,159996.0,42000.0,116000.0,52880.0,30000.0,30996.0,33000.0,40752.0,75000.0,70000.0,44004.0,41000.0,33600.0,50000.0,18000.0,32000.0,71000.0,55782.0,24996.0,25596.0,35004.0,48226.0,98000.0,48000.0,55200.0,36500.0,80000.0,54000.0,65707.0,29004.0,82800.0,62900.0,66348.0,100000.0,26400.0,41000.0,28800.0,63900.0,54000.0,49000.0,67000.0,74100.0,114000.0,55000.0,170000.0,50000.0,29200.0,47544.0,72000.0,45000.0,75000.0,25591.0,126000.0,140000.0,43200.0,37152.0,42000.0,73000.0,110000.0,72000.0,127500.0,79000.0,32900.0,100800.0,52000.0,75000.0,68000.0,68000.0,35000.0,53000.0,98000.0,40000.0,57000.0,35000.0,500000.0,193800.0,36000.0,65000.0,48000.0,51000.0,72500.0,42500.0,54000.0,99500.0,44000.0,40000.0,75600.0,71000.0,43000.0,29000.0,26400.0,9600.0,38000.0,18000.0,48000.0,49000.0,85000.0,123735.0,59004.0,69996.0,40000.0,101000.0,45000.0,50000.0,80038.0,84000.0,130000.0,88000.0,60000.0,44500.0,60000.0,65000.0,22000.0,78000.0,18996.0,65458.0,50004.0,75000.0,112224.0,59600.0,24000.0,14400.0,59000.0,18000.0,62004.0,68000.0,28704.0,42910.0,128000.0,60000.0,20000.0,72000.0,25000.0,100000.0,54000.0,65984.0,90000.0,40000.0,60000.0,30000.0,65000.0,47600.0,57000.0,52000.0,130000.0,80000.0,106800.0,63000.0,200000.0,24000.0,80000.0,202300.0,98000.0,115000.0,90000.0,93000.0,27252.0,24000.0,44000.0,50000.0,70000.0,51000.0,29000.0,54000.0,125000.0,60000.0,34800.0,125000.0,10000.0,115000.0,39996.0,168000.0,25000.0,21600.0,44000.0,46800.0,75000.0,74000.0,114800.0,48000.0,110000.0,37000.0,130000.0,116000.0,42000.0,30000.0,33600.0,126000.0,43800.0,69000.0,100280.0,46680.0,147996.0,60000.0,32000.0,47000.0,100000.0,90000.0,26400.0,45000.0,77100.0,38004.0,50000.0,60000.0,57300.0,75000.0,65004.0,35000.0,21000.0,54804.0,116000.0,100000.0,72700.0,90000.0,110000.0,89000.0,47500.0,56000.0,99200.0,85000.0,95827.0,41000.0,22000.0,108000.0,72500.0,73073.0,287000.0,108000.0,37440.0,86004.0,45000.0,41000.0,27000.0,48000.0,36480.0,30500.0,80000.0,80000.0,49232.0,95000.0,87000.0,88000.0,45000.0,64000.0,34000.0,25000.0,96000.0,42240.0,42000.0,140000.0,72500.0,98000.0,66000.0,45000.0,46500.0,56000.0,88500.0,46500.0,70000.0,59000.0,89000.0,120000.0,60000.0,60000.0,72252.0,130000.0,90722.0,91800.0,15000.0,14400.0,27996.0,40000.0,38000.0,42000.0,36850.0,90000.0,34404.0,143500.0,170004.0,115000.0,63000.0,120000.0,145000.0,61000.0,60000.0,60000.0,40000.0,86000.0,26000.0,37000.0,91440.0,87504.0,58195.0,83000.0,34000.0,27000.0,20000.0,71200.0,70000.0,120000.0,38300.0,36000.0,45000.0,85000.0,95000.0,72000.0,27040.0,55000.0,68000.0,14000.0,62316.0,10000.0,65000.0,58000.0,81000.0,122500.0,136000.0,36000.0,47496.0,108803.0,75000.0,50000.0,56000.0,30720.0,42000.0,37000.0,65000.0,30000.0,27204.0,160669.0,80000.0,92508.0,43000.0,85000.0,75000.0,13000.0,21996.0,17000.0,133000.0,60000.0,55000.0,59004.0,26000.0,43200.0,82000.0,50004.0,31416.0,55000.0,39000.0,37000.0,60000.0,55000.0,18000.0,186063.0,97200.0,40000.0,30000.0,29004.0,54000.0,85000.0,80000.0,105400.0,42000.0,62400.0,35652.0,60000.0,17720.0,30000.0,110000.0,83000.0,54000.0,62400.0,45928.0,74028.0,24000.0,83004.0,32500.0,55000.0,72893.0,49000.0,24000.0,24000.0,120000.0,40000.0,648000.0,33600.0,28800.0,36000.0,65000.0,134000.0,38400.0,225000.0,90000.0,75000.0,78000.0,61000.0,52000.0,48000.0,35000.0,70000.0,18492.0,50000.0,58800.0,60000.0,105000.0,36000.0,75000.0,35400.0,75000.0,55000.0,69500.0,78000.0,50000.0,80000.0,99996.0,35000.0,54000.0,42000.0,96640.0,50000.0,24216.0,19968.0,34132.0,31000.0,80000.0,56000.0,36000.0,98000.0,88000.0,30000.0,37800.0,25200.0,100000.0,36000.0,120000.0,70000.0,52800.0,33996.0,112000.0,98000.0,16800.0,50000.0,100000.0,48000.0,73000.0,30000.0,24996.0,57000.0,38000.0,130000.0,46000.0,48000.0,50000.0,116000.0,55000.0,51300.0,78000.0,28800.0,95000.0,48600.0,25000.0,32400.0,70000.0,60000.0,54000.0,45000.0,80600.0,45000.0,46000.0,32000.0,55315.0,54000.0,75000.0,18000.0,84996.0,49000.0,38000.0,39996.0,38400.0,50400.0,117005.0,35000.0,78300.0,34000.0,38000.0,59160.0,127000.0,19800.0,60000.0,72000.0,54000.0,85000.0,35000.0,65450.0,20800.0,56045.0,49500.0,45000.0,90000.0,89000.0,25000.0,35000.0,225000.0,69000.0,102000.0,55000.0,37000.0,140000.0,34000.0,138000.0,18000.0,110000.0,56000.0,100000.0,64000.0,48000.0,83500.0,105000.0,22000.0,55000.0,85000.0,67983.0,48500.0,150000.0,52000.0,82560.0,68250.0,42000.0,65000.0,39000.0,32000.0,35000.0,129900.0,62400.0,52000.0,51996.0,49000.0,75000.0,29000.0,88000.0,39996.0,45000.0,105000.0,100000.0,85000.0,68400.0,86400.0,30000.0,94050.0,87000.0,35100.0,70000.0,56400.0,96000.0,38000.0,39000.0,65000.0,94200.0,108000.0,63000.0,37000.0,51000.0,73000.0,55000.0,32004.0,31600.0,90000.0,45000.0,200000.0,25000.0,56784.0,56100.0,38004.0,110000.0,71874.0,30000.0,20520.0,67392.0,57996.0,65000.0,64900.0,44000.0,63000.0,30000.0,69000.0,65000.0,77964.0,30000.0,27302.0,45000.0,51600.0,60000.0,34000.0,32400.0,53000.0,52000.0,118000.0,50004.0,115000.0,55000.0,18000.0,120000.0,31200.0,60000.0,60000.0,243600.0,47300.0,77040.0,63500.0,29004.0,30000.0,60000.0,32400.0,55000.0,60000.0,65500.0,41600.0,125375.0,144997.0,30000.0,19200.0,40000.0,48000.0,48000.0,60000.0,83000.0,51500.0,93600.0,49992.0,180000.0,38400.0,59500.0,36000.0,38896.0,64999.0,40800.0,56000.0,135000.0,75000.0,62050.0,72000.0,24000.0,57600.0,84000.0,57860.0,28000.0,39000.0,32000.0,39000.0,51000.0,50004.0,40800.0,75000.0,55000.0,32800.0,24000.0,78500.0,35000.0,45000.0,32000.0,39500.0,40000.0,103832.0,780000.0,60000.0,47000.0,107000.0,65000.0,79200.0,65000.0,61000.0,26400.0,193000.0,41000.0,100000.0,13200.0,47250.0,161000.0,53117.0,29568.0,120000.0,38400.0,132500.0,120000.0,90000.0,30000.0,110000.0,51996.0,24000.0,92000.0,37400.0,43200.0,35000.0,62532.0,42996.0,143150.0,34000.0,56000.0,54996.0,50000.0,28000.0,59000.0,85000.0,29000.0,80000.0,54996.0,14400.0,65000.0,93000.0,37500.0,98280.0,50004.0,92000.0,52000.0,37200.0,49000.0,30000.0,35000.0,42000.0,39996.0,60000.0,60000.0,55000.0,70000.0,47700.0,58320.0,60000.0,25344.0,48000.0,38556.0,56525.0,134300.0,55000.0,73700.0,47000.0,60000.0,69000.0,70550.0,51996.0,23004.0,42000.0,32400.0,42000.0,25000.0,79800.0,75000.0,40000.0,46000.0,155000.0,29040.0,36000.0,33000.0,55000.0,58200.0,32890.0,30000.0,79992.0,900000.0,60000.0,42000.0,65004.0,67000.0,142800.0,30000.0,34046.0,55600.0,52000.0,38400.0,34300.0,60000.0,75000.0,65000.0,108000.0,40000.0,35000.0,57996.0,144000.0,47000.0,43200.0,62900.0,99800.0,53000.0,54000.0,31000.0,75333.0,60000.0,26400.0,56400.0,36000.0,50000.0,39000.0,31000.0,42000.0,102000.0,38400.0,52000.0,21216.0,113000.0,125555.0,58000.0,70000.0,61650.0,60000.0,51000.0,70197.0,33600.0,30000.0,110000.0,230000.0,82000.0,34000.0,24000.0,66420.0,49441.0,30000.0,116000.0,150000.0,66504.0,72000.0,85000.0,62900.0,28000.0,100000.0,89532.0,40000.0,132000.0,68500.0,65000.0,75000.0,200000.0,29536.0,56000.0,96000.0,64000.0,27000.0,130500.0,57006.0,80000.0,75000.0,27000.0,39000.0,40000.0,21000.0,42000.0,85000.0,72000.0,83000.0,38160.0,40000.0,46744.0,91800.0,51036.0,50000.0,44000.0,145000.0,35808.0,33600.0,67000.0,28000.0,100000.0,175000.0,70000.0,120000.0,21112.0,70000.0,83200.0,19200.0,37900.0,45000.0,65000.0,24000.0,70000.0,47540.0,32400.0,98000.0,90000.0,34000.0,50160.0,39000.0,35000.0,64000.0,67000.0,55000.0,60000.0,15085.0,216000.0,56650.0,75000.0,70000.0,45000.0,38000.0,55236.0,31100.0,65000.0,34000.0,61200.0,31850.0,57000.0,40224.0,35004.0,72000.0,58000.0,72000.0,70000.0,117000.0,48000.0,52000.0,59000.0,60000.0,33000.0,92000.0,57996.0,133300.0,96000.0,56000.0,220836.0,110000.0,43000.0,52000.0,38400.0,63000.0,150000.0,58000.0,70000.0,78000.0,59400.0,30000.0,28000.0,50000.0,45000.0,75000.0,51000.0,24000.0,120000.0,30000.0,43000.0,65000.0,124000.0,125000.0,59000.0,44340.0,36000.0,75000.0,48000.0,76000.0,44400.0,122400.0,145000.0,71000.0,70000.0,24000.0,42000.0,50052.0,140000.0,64500.0,36000.0,48000.0,40000.0,175000.0,275000.0,62500.0,24000.0,612000.0,77004.0,80000.0,42996.0,72000.0,15360.0,39000.0,116004.0,191000.0,25000.0,92000.0,48000.0,89700.0,59000.0,33000.0,50000.0,60000.0,24000.0,57600.0,26000.0,51996.0,29000.0,81000.0,54000.0,120000.0,70360.0,48000.0,35000.0,74984.0,21340.0,62000.0,56000.0,42000.0,667680.0,85000.0,36000.0,41000.0,40000.0,24000.0,80730.0,45243.0,32997.0,36000.0,31920.0,22188.0,70000.0,60000.0,48000.0,50000.0,70404.0,68508.0,77200.0,33600.0,40000.0,27900.0,78996.0,35000.0,65000.0,115000.0,52000.0,42000.0,68000.0,40000.0,98000.0,82000.0,54000.0,62400.0,50004.0,153000.0,87000.0,40000.0,88000.0,37500.0,24449.0,101000.0,30000.0,50000.0,24000.0,88000.0,26400.0,42000.0,50950.0,58020.0,68000.0,78200.0,75000.0,44000.0,29000.0,87000.0,72000.0,54000.0,35000.0,66000.0,80000.0,90000.0,31200.0,31000.0,54000.0,32678.0,65000.0,75000.0,50000.0,15500.0,101000.0,35500.0,30576.0,35004.0,40000.0,89904.0,144996.0,97000.0,50500.0,86000.0,36000.0,42000.0,58000.0,32004.0,87000.0,71000.0,43000.0,60612.0,47000.0,64000.0,66000.0,70000.0,90900.0,85596.0,87000.0,52500.0,71000.0,59000.0,52000.0,72000.0,42000.0,58700.0,60000.0,61000.0,26000.0,69000.0,55550.0,55000.0,99504.0,33500.0,54000.0,33996.0,26000.0,75000.0,35004.0,60000.0,62400.0,24000.0,150000.0,92000.0,94102.0,37000.0,37200.0,58000.0,75000.0,82308.0,28800.0,49000.0,65000.0,54000.0,51000.0,62000.0,54000.0,65000.0,40000.0,73000.0,22292.0,36000.0,90000.0,29000.0,33600.0,46000.0,177160.0,32304.0,200000.0,36000.0,33600.0,18000.0,40000.0,20400.0,70000.0,35000.0,110000.0,45000.0,220000.0,70000.0,28000.0,120000.0,73000.0,31200.0,48000.0,113000.0,56400.0,48000.0,122000.0,55000.0,48989.0,15000.0,69000.0,35496.0,59000.0,70000.0,72000.0,234000.0,44000.0,47831.0,24000.0,36000.0,35000.0,95000.0,45000.0,15000.0,40000.0,45000.0,60000.0,65000.0,30000.0,65450.0,50000.0,76500.0,53200.0,54528.0,130000.0,86000.0,16800.0,29000.0,86400.0,130000.0,143375.0,46000.0,81380.0,39000.0,21120.0,48000.0,33000.0,40720.0,72000.0,30000.0,34200.0,70000.0,42000.0,51500.0,21600.0,72000.0,120000.0,30000.0,65000.0,117696.0,72000.0,67000.0,50000.0,25000.0,37000.0,110000.0,50000.0,43000.0,33800.0,50252.0,48000.0,62050.0,132000.0,38000.0,202000.0,120000.0,35000.0,94000.0,31000.0,26400.0,60000.0,58900.0,33996.0,175000.0,500000.0,58000.0,51996.0,30000.0,83000.0,84000.0,138000.0,42000.0,112000.0,62000.0,97000.0,76800.0,27500.0,60500.0,73000.0,90000.0,81000.0,109200.0,39900.0,62000.0,141000.0,68000.0,31897.0,96000.0,67704.0,63300.0,86000.0,100000.0,75600.0,140000.0,60000.0,46000.0,165500.0,58344.0,55000.0,29520.0,49536.0,30000.0,50000.0,59000.0,99000.0,30252.0,36000.0,112995.0,110000.0,21996.0,30000.0,130000.0,50000.0,182004.0,57000.0,26500.0,68000.0,60000.0,54000.0,61000.0,56136.0,64000.0,50000.0,52000.0,55000.0,30035.0,28800.0,80000.0,75000.0,110000.0,66300.0,67000.0,36000.0,48000.0,54996.0,75000.0,43200.0,120000.0,45000.0,60675.0,48000.0,60000.0,16428.0,39480.0,89204.0,30000.0,45000.0,67000.0,75000.0,121000.0,104000.0,34000.0,61000.0,23000.0,49000.0,154000.0,35000.0,51600.0,56000.0,70000.0,62400.0,108000.0,30000.0,38400.0,124800.0,59004.0,74900.0,64600.0,28550.0,102000.0,134500.0,31200.0,86706.0,62000.0,57000.0,60000.0,55000.0,105000.0,26000.0,45000.0,52000.0,37700.0,25000.0,12000.0,87500.0,62130.0,16120.0,38400.0,62000.0,21000.0,85000.0,59000.0,54996.0,37344.0,27000.0,21120.0,79500.0,65000.0,40000.0,60000.0,69228.0,36895.0,47000.0,125000.0,75000.0,35100.0,40000.0,45608.0,58800.0,50004.0,70399.0,130992.0,131004.0,118812.0,74700.0,47000.0,62000.0,60500.0,62000.0,70000.0,42000.0,88000.0,120000.0,75000.0,69000.0,52828.0,168600.0,147000.0,22000.0,127992.0,51630.0,25000.0,60000.0,78000.0,85000.0,39120.0,43000.0,36500.0,55000.0,62500.0,55000.0,42996.0,107000.0,190000.0,72000.0,42000.0,29000.0,102000.0,34515.0,88000.0,135000.0,32400.0,200000.0,58000.0,36000.0,70224.0,45000.0,120000.0,62040.0,40000.0,81996.0,96000.0,88000.0,50000.0,56100.0,50252.0,36000.0,127500.0,50004.0,40104.0,60000.0,110000.0,78000.0,80000.0,71004.0,61000.0,19992.0,48686.0,68000.0,60000.0,40000.0,97600.0,30000.0,30000.0,29000.0,48000.0,73000.0,56000.0,33996.0,30000.0,160000.0,74000.0,42504.0,60000.0,180000.0,175000.0,100800.0,88000.0,100000.0,80000.0,74000.0,67000.0,98400.0,73000.0,32004.0,38400.0,7800.0,70000.0,36000.0,84000.0,57840.0,22680.0,198171.0,24000.0,71000.0,30000.0,36600.0,42500.0,19200.0,55000.0,72250.0,150000.0,107004.0,98480.0,37560.0,50031.0,154000.0,30000.0,72444.0,83000.0,30000.0,40000.0,38423.0,90000.0,17000.0,66560.0,40000.0,55600.0,23000.0,105996.0,30000.0,41604.0,75000.0,45000.0,58000.0,29000.0,108000.0,88000.0,50000.0,50000.0,24000.0,36000.0,54000.0,75000.0,19200.0,32004.0,63000.0,65000.0,23198.0,58000.0,235000.0,70000.0,35000.0,30000.0,78000.0,38400.0,90000.0,72000.0,24000.0,127000.0,124000.0,40680.0,55000.0,25000.0,29000.0,40000.0,83004.0,130000.0,83000.0,40000.0,153000.0,45996.0,42000.0,65000.0,75000.0,35000.0,172000.0,31776.0,55000.0,115000.0,90000.0,128000.0,30000.0,37200.0,55200.0,78300.0,39500.0,140000.0,38000.0,39750.0,71500.0,36400.0,55000.0,24000.0,60000.0,42000.0,31000.0,73524.0,130000.0,47000.0,61350.0,52000.0,54000.0,57000.0,68255.0,25000.0,30996.0,60000.0,84996.0,31200.0,14400.0,60000.0,120000.0,28800.0,45000.0,39000.0,59000.0,30000.0,65000.0,62900.0,35000.0,18000.0,31800.0,54000.0,44000.0,95000.0,37000.0,67386.0,83000.0,55000.0,59004.0,92500.0,25000.0,41200.0,65000.0,30000.0,84996.0,67500.0,31200.0,56200.0,90200.0,67675.0,48000.0,65000.0,65000.0,70000.0,47000.0,60000.0,50004.0,155000.0,56004.0,35000.0,38000.0,24000.0,85000.0,400000.0,66300.0,88000.0,59520.0,61200.0,9600.0,95004.0,25000.0,54000.0,51000.0,60000.0,47000.0,39600.0,55000.0,80000.0,30000.0,35880.0,45000.0,65000.0,33000.0,90000.0,99996.0,100000.0,64052.0,143004.0,48000.0,29496.0,56000.0,130000.0,51996.0,57600.0,55000.0,445000.0,63000.0,38000.0,48000.0,37000.0,32000.0,64600.0,48000.0,72000.0,54000.0,46000.0,60000.0,45000.0,56100.0,62000.0,105600.0,33600.0,52000.0,66000.0,52000.0,189996.0,31000.0,40000.0,16800.0,30000.0,140000.0,78000.0,127000.0,54996.0,48000.0,65000.0,60000.0,86004.0,76000.0,19000.0,26000.0,101138.0,45000.0,54000.0,62000.0,72000.0,84000.0,14000.0,85000.0,100000.0,50000.0,90000.0,43000.0,12000.0,34000.0,88000.0,74500.0,49000.0,33000.0,32004.0,66000.0,72000.0,41600.0,75600.0,45000.0,200000.0,55000.0,98000.0,65100.0,43000.0,66500.0,86000.0,50000.0,54000.0,49200.0,44000.0,18000.0,54000.0,61000.0,160000.0,14400.0,93000.0,66000.0,75000.0,77000.0,138996.0,14400.0,82524.0,66000.0,98000.0,73000.0,225000.0,60996.0,70000.0,52000.0,21996.0,176000.0,78000.0,89000.0,60000.0,118000.0,36000.0,69000.0,77000.0,75000.0,42000.0,130000.0,30000.0,126400.0,59000.0,32000.0,77000.0,57552.0,35000.0,27048.0,31000.0,26400.0,38000.0,47133.0,48500.0,25000.0,50000.0,18000.0,27360.0,75000.0,34928.0,36000.0,68000.0,150000.0,33000.0,220000.0,37200.0,30000.0,101000.0,58000.0,32000.0,45000.0,100000.0,275000.0,90000.0,33600.0,65000.0,72000.0,105000.0,60000.0,48000.0,53000.0,106369.0,60000.0,36000.0,42000.0,63096.0,71000.0,50000.0,32400.0,39000.0,60000.0,38000.0,80000.0,115000.0,26400.0,26500.0,72324.0,33000.0,80000.0,37440.0,75000.0,30000.0,52000.0,57744.0,70000.0,83000.0,62000.0,135000.0,24000.0,33600.0,66500.0,100000.0,60000.0,95000.0,85000.0,60000.0,91000.0,19240.0,43000.0,51600.0,55000.0,70000.0,45996.0,30000.0,38400.0,60000.0,40000.0,81996.0,52000.0,69996.0,24000.0,30000.0,78000.0,84000.0,50402.0,64000.0,200100.0,55259.0,35000.0,50000.0,126500.0,92000.0,65000.0,41000.0,53000.0,65000.0,50000.0,84780.0,42000.0,67500.0,147750.0,130000.0,65000.0,62400.0,14400.0,53724.0,40000.0,66000.0,37460.0,63000.0,60000.0,64600.0,80000.0,43000.0,48384.0,123144.0,44400.0,39000.0,65000.0,85000.0,48000.0,24000.0,96000.0,110000.0,52500.0,26000.0,62000.0,124726.0,57564.0,55000.0,90000.0,45000.0,57000.0,69996.0,68804.0,66000.0,63000.0,125000.0,63000.0,70000.0,94000.0,59000.0,15600.0,63720.0,47000.0,54000.0,97000.0,78000.0,66420.0,180000.0,40000.0,80000.0,117516.0,25000.0,36000.0,42000.0,66000.0,80000.0,65000.0,91000.0,50000.0,37980.0,46800.0,40000.0,74000.0,53000.0,273655.0,92700.0,55000.0,46900.0,54000.0,85000.0,41000.0,26400.0,82000.0,130000.0,96000.0,138000.0,50800.0,156000.0,21600.0,120000.0,144000.0,100000.0,58000.0,58033.0,56400.0,26000.0,168000.0,14400.0,110000.0,29000.0,63000.0,33600.0,96000.0,120000.0,102000.0,60000.0,45600.0,34900.0,7800.0,72000.0,116000.0,50400.0,49578.0,36000.0,28000.0,75800.0,105600.0,34000.0,32000.0,54500.0,61000.0,41100.0,48000.0,18000.0,70000.0,220000.0,84300.0,66000.0,67000.0,38000.0,96050.0,21600.0,32000.0,60000.0,42000.0,150000.0,57000.0,40000.0,83100.0,59000.0,54400.0,43000.0,42000.0,62366.0,95000.0,334000.0,122000.0,116300.0,62000.0,16800.0,34000.0,60000.0,24240.0,78000.0,34000.0,105000.0,68000.0,24000.0,75500.0,142000.0,89000.0,45000.0,83000.0,57000.0,57500.0,55000.0,39000.0,57110.0,15600.0,120000.0,21600.0,70553.0,42000.0,21500.0,70000.0,51500.0,23000.0,39552.0,37000.0,24000.0,70000.0,45500.0,63000.0,53408.0,175000.0,35000.0,25200.0,41500.0,54400.0,25000.0,95000.0,84000.0,14400.0,58650.0,105000.0,81600.0,40000.0,45000.0,107004.0,55000.0,24000.0,78956.0,110000.0,74004.0,50000.0,15360.0,42000.0,72000.0,25200.0,55200.0,60000.0,46000.0,36996.0,70000.0,30000.0,21600.0,78000.0,75000.0,63564.0,35000.0,46150.0,61000.0,70000.0,31200.0,71000.0,57996.0,39000.0,44000.0,50000.0,45000.0,35000.0,24960.0,98000.0,240000.0,54590.0,39000.0,83000.0,90084.0,50000.0,39996.0,43580.0,65000.0,48000.0,60000.0,125000.0,30000.0,88000.0,92000.0,75000.0,73000.0,28800.0,98004.0,56000.0,51000.0,35000.0,36996.0,59000.0,100000.0,114000.0,39000.0,76596.0,63000.0,77000.0,85000.0,48000.0,40000.0,138000.0,18204.0,45691.0,39580.0,63000.0,52000.0,66000.0,90000.0,36000.0,26400.0,45000.0,75600.0,61289.0,51000.0,29000.0,19200.0,35000.0,145986.0,75000.0,53000.0,84000.0,44000.0,45000.0,80300.0,54000.0,75000.0,50000.0,18000.0,56056.0,135000.0,75000.0,50000.0,88200.0,30000.0,62050.0,31000.0,65004.0,29000.0,43000.0,107000.0,75000.0,38000.0,66000.0,60000.0,44000.0,38196.0,80700.0,97000.0,120000.0,20868.0,175000.0,83000.0,54000.0,84996.0,37800.0,48000.0,59366.0,33600.0,67000.0,100000.0,220000.0,19200.0,60000.0,110000.0,205000.0,36000.0,33000.0,50000.0,86000.0,57200.0,54400.0,36000.0,38000.0,42000.0,52000.0,40000.0,72000.0,35500.0,54008.0,36129.0,42000.0,96000.0,115000.0,64200.0,27000.0,52000.0,70000.0,42000.0,75000.0,18000.0,18144.0,44796.0,50000.0,60000.0,40440.0,108000.0,90000.0,44000.0,36000.0,28800.0,29000.0,45000.0,38340.0,20000.0,48000.0,36000.0,49000.0,36000.0,70800.0,58500.0,57000.0,56004.0,65000.0,35600.0,64000.0,60000.0,57000.0,95000.0,76700.0,30000.0,87950.0,64000.0,48000.0,60682.0,127000.0,18701.0,57359.0,56000.0,33000.0,140000.0,45840.0,60000.0,74000.0,61000.0,65000.0,39000.0,29000.0,88400.0,110000.0,28128.0,91000.0,51000.0,45000.0,56950.0,125000.0,30000.0,65000.0,66000.0,33666.0,22800.0,71004.0,126132.0,48000.0,47500.0,36000.0,32000.0,50000.0,75000.0,71000.0,37000.0,37000.0,104800.0,59000.0,41004.0,90000.0,13440.0,62000.0,30000.0,181000.0,74700.0,71000.0,52000.0,85000.0,54996.0,90000.0,56000.0,92700.0,32304.0,39900.0,24000.0,40000.0,51600.0,105000.0,60000.0,130000.0,71000.0,114600.0,63000.0,125000.0,86400.0,49000.0,54000.0,42500.0,33996.0,55000.0,36500.0,66000.0,109000.0,80000.0,60000.0,70000.0,100000.0,27000.0,50000.0,57600.0,45600.0,50000.0,37000.0,49000.0,74196.0,72250.0,75000.0,35000.0,55000.0,109000.0,31200.0,50000.0,42000.0,20000.0,72000.0,36000.0,120000.0,44000.0,60000.0,23587.0,36000.0,110000.0,78111.0,19000.0,38400.0,75000.0,45000.0,120000.0,24000.0,74000.0,26400.0,65004.0,88200.0,82000.0,50000.0,300000.0,65000.0,39000.0,65000.0,69600.0,92000.0,50000.0,15000.0,42000.0,53000.0,77000.0,104000.0,111000.0,95000.0,75000.0,73000.0,44000.0,30000.0,26000.0,49812.0,59000.0,120000.0,53352.0,39996.0,112000.0,40000.0,66000.0,32004.0,100000.0,46000.0,80000.0,45000.0,45000.0,39000.0,41000.0,65000.0,40000.0,115000.0,160000.0,57000.0,34000.0,30000.0,45000.0,58800.0,78000.0,67992.0,130000.0,44000.0,71000.0,45600.0,33100.0,80000.0,59475.0,41280.0,30000.0,52000.0,38643.0,60000.0,42000.0,62758.0,32400.0,89000.0,48000.0,69996.0,192000.0,126000.0,36700.0,60000.0,34000.0,75000.0,32000.0,70000.0,170000.0,33481.0,90000.0,60350.0,120000.0,36396.0,38000.0,69575.0,53000.0,85584.0,49000.0,48000.0,69000.0,55000.0,44000.0,75000.0,20000.0,99996.0,65000.0,10080.0,100000.0,76000.0,55000.0,75000.0,90000.0,18000.0,72800.0,95000.0,18000.0,78000.0,45000.0,85000.0,131000.0,34000.0,29100.0,67000.0,62400.0,50000.0,59000.0,114054.0,45996.0,90000.0,75000.0,48300.0,75000.0,138000.0,30996.0,65000.0,73000.0,33168.0,32000.0,25200.0,50000.0,68480.0,49861.0,95500.0,43000.0,45000.0,44000.0,31000.0,44582.0,85000.0,95000.0,37440.0,130208.0,54000.0,32800.0,42994.0,51000.0,80000.0,30000.0,60000.0,62000.0,55000.0,44000.0,130000.0,21000.0,35000.0,38004.0,80000.0,123000.0,53000.0,81000.0,80000.0,98080.0,30000.0,125000.0,18000.0,60000.0,45000.0,34152.0,60000.0,29328.0,72000.0,14400.0,45000.0,30000.0,45843.0,90000.0,42804.0,54000.0,62000.0,120000.0,68000.0,32000.0,77385.0,125000.0,80000.0,4080.0,33600.0,150000.0,55000.0,155000.0,50000.0,125004.0,35000.0,156000.0,78000.0,111000.0,58650.0,350000.0,140000.0,88000.0,45000.0,50000.0,23004.0,155000.0,67260.0,130000.0,54000.0,40000.0,55000.0,23196.0,55000.0,45000.0,14040.0,71500.0,29000.0,32760.0,85000.0,110000.0,55000.0,66240.0,36000.0,85000.0,26400.0,50268.0,66000.0,63000.0,51996.0,34000.0,110244.0,70550.0,31200.0,65000.0,42000.0,40000.0,49000.0,90000.0,60996.0,67014.0,130000.0,75000.0,38000.0,78000.0,49700.0,50000.0,62000.0,132000.0,80004.0,24000.0,34800.0,88000.0,68400.0,45840.0,65000.0,24000.0,65000.0,66396.0,34000.0,62000.0,58000.0,44004.0,41400.0,125000.0,60000.0,137400.0,70000.0,40000.0,40000.0,90000.0,24000.0,61498.0,59000.0,114600.0,13000.0,66996.0,91992.0,33000.0,13200.0,50160.0,62900.0,60000.0,120000.0,78420.0,52800.0,80000.0,69996.0,54252.0,100000.0,60000.0,103500.0,69000.0,17108.0,102000.0,102540.0,54000.0,120000.0,40000.0,103000.0,51250.0,21000.0,136625.0,31000.0,65000.0,138000.0,59000.0,27600.0,72000.0,160000.0,41340.0,30000.0,18000.0,34000.0,52576.0,18000.0,65304.0,38400.0,65004.0,34000.0,45000.0,90000.0,84996.0,73000.0,54000.0,22800.0,45000.0,33000.0,69000.0,57500.0,72000.0,23040.0,23000.0,135000.0,40000.0,35000.0,57995.0,73000.0,55000.0,39996.0,97781.0,60996.0,42000.0,77350.0,42000.0,57600.0,75000.0,90000.0,52000.0,67000.0,70560.0,154000.0,61000.0,51000.0,50004.0,50000.0,50000.0,20000.0,46999.0,40000.0,55000.0,65000.0,50000.0,55000.0,143000.0,32640.0,51000.0,46000.0,32640.0,90000.0,36000.0,34000.0,415000.0,61000.0,27000.0,37000.0,57248.0,80000.0,52700.0,44000.0,44000.0,138000.0,48000.0,72000.0,78996.0,103000.0,72000.0,155000.0,42000.0,125000.0,45000.0,15000.0,31200.0,28800.0,78000.0,67092.0,15600.0,25000.0,43500.0,72000.0,132750.0,45000.0,25000.0,90000.0,100000.0,70000.0,43000.0,36000.0,45000.0,66000.0,36000.0,600000.0,130000.0,82000.0,35000.0,19820.0,108000.0,34656.0,32400.0,54000.0,20004.0,45000.0,34560.0,84000.0,56000.0,48000.0,54000.0,40116.0,74000.0,96000.0,48000.0,45727.0,39000.0,135000.0,42000.0,18000.0,75000.0,40000.0,58650.0,48000.0,51000.0,75000.0,88365.0,55000.0,115154.0,85000.0,35000.0,75000.0,39600.0,90000.0,84000.0,100000.0,27000.0,67000.0,46200.0,72204.0,75000.0,40200.0,55800.0,20000.0,48645.0,92000.0,32000.0,93000.0,59000.0,49000.0,51600.0,65000.0,45000.0,49716.0,30000.0,110000.0,79000.0,26400.0,39000.0,32000.0,62000.0,57504.0,30000.0,75000.0,31200.0,85000.0,83000.0,62400.0,45000.0,105000.0,83100.0,33000.0,65000.0,65000.0,170000.0,82000.0,48000.0,70000.0,84000.0,45000.0,29000.0,61000.0,60000.0,25000.0,125000.0,100000.0,100000.0,32993.0,26004.0,114500.0,98600.0,135000.0,75000.0,19000.0,53408.0,55000.0,70000.0,49000.0,24000.0,49200.0,31000.0,95000.0,60000.0,42000.0,63000.0,80000.0,40000.0,30000.0,102500.0,55000.0,36708.0,180000.0,53000.0,54000.0,35000.0,109000.0,30000.0,50000.0,77000.0,80750.0,225000.0,12500.0,110000.0,84996.0,50176.0,150000.0,66000.0,43000.0,60000.0,52809.0,16500.0,95000.0,15000.0,82600.0,60000.0,24000.0,40000.0,30000.0,28000.0,57431.0,115000.0,80000.0,250000.0,49000.0,48000.0,95000.0,27000.0,61000.0,48442.0,30000.0,55000.0,69000.0,19200.0,70000.0,33000.0,55000.0,42000.0,112000.0,24996.0,48996.0,25200.0,39000.0,61900.0,87000.0,72000.0,40000.0,70000.0,100000.0,54900.0,38126.0,142000.0,33000.0,100000.0,54000.0,50000.0,60000.0,79000.0,58000.0,36000.0,50000.0,120000.0,42000.0,51996.0,39000.0,27996.0,42000.0,45000.0,95680.0,49200.0,52000.0,62000.0,64200.0,36000.0,110500.0,55000.0,40000.0,54000.0,49000.0,85000.0,35000.0,55000.0,31008.0,120000.0,124992.0,125004.0,55000.0,40000.0,41004.0,70000.0,113000.0,159600.0,49500.0,75000.0,83000.0,86000.0,80607.0,74000.0,65136.0,70204.0,70000.0,37000.0,80000.0,75000.0,115000.0,48000.0,72000.0,35568.0,50361.0,88000.0,55000.0,105000.0,85000.0,85000.0,45000.0,37000.0,28000.0,45000.0,120000.0,63500.0,47500.0,55000.0,55000.0,50000.0,60000.0,66300.0,49000.0,22800.0,47000.0,80400.0,40000.0,50400.0,23000.0,40500.0,49200.0,35000.0,45000.0,130900.0,85200.0,64000.0,80000.0,34560.0,27996.0,49000.0,54860.0,50000.0,36000.0,34000.0,41000.0,25200.0,38000.0,60000.0,42000.0,39480.0,92700.0,29000.0,50000.0,90000.0,75000.0,14400.0,48000.0,60000.0,38000.0,53100.0,93000.0,36000.0,62400.0,81600.0,60000.0,35325.0,58075.0,72000.0,20064.0,40000.0,91000.0,26400.0,32500.0,27840.0,130000.0,98004.0,82000.0,33600.0,30000.0,175000.0,36500.0,62000.0,37100.0,32450.0,92800.0,62496.0,24600.0,16800.0,130000.0,55000.0,75000.0,45000.0,103970.0,90000.0,45000.0,16800.0,40000.0,45000.0,35000.0,78000.0,57600.0,58650.0,61450.0,33000.0,30000.0,35000.0,16428.0,138000.0,98000.0,34000.0,66000.0,28176.0,42000.0,95000.0,32000.0,52809.0,46000.0,32580.0,51996.0,118189.0,95000.0,38272.0,29000.0,35000.0,44000.0,58000.0,100000.0,36000.0,98000.0,65000.0,45000.0,75000.0,58992.0,72000.0,29950.0,72800.0,60000.0,30000.0,59800.0,136000.0,82000.0,50000.0,117500.0,100000.0,60000.0,54000.0,25000.0,103000.0,18000.0,35000.0,99600.0,38100.0,98000.0,64000.0,42000.0,57000.0,42000.0,69996.0,69000.0,44400.0,10000.0,54000.0,60600.0,102000.0,14800.0,48000.0,31000.0,71000.0,53000.0,32000.0,40000.0,58000.0,105000.0,14400.0,30000.0,121000.0,81600.0,91092.0,32004.0,68004.0,80000.0,33000.0,120000.0,75000.0,28500.0,55000.0,64698.0,91234.0,129996.0,48000.0,42000.0,62004.0,58000.0,75000.0,62400.0,130000.0,65000.0,100000.0,9600.0,84000.0,33000.0,14400.0,60000.0,95000.0,60000.0,74000.0,47000.0,20004.0,54566.0,102213.0,47472.0,16800.0,32198.0,30000.0,100000.0,55000.0,38500.0,40000.0,70000.0,45900.0,75000.0,80000.0,104000.0,92000.0,50000.0,54000.0,56000.0,44000.0,48000.0,65004.0,50000.0,64049.0,50000.0,75531.0,38000.0,39400.0,65000.0,30000.0,61147.0,70000.0,65000.0,36000.0,73000.0,24000.0,37440.0,33564.0,65000.0,49244.0,30996.0,37200.0,44000.0,125000.0,58650.0,29916.0,24947.0,40000.0,28000.0,45000.0,52000.0,74900.0,96000.0,32500.0,65000.0,59000.0,42504.0,69000.0,44000.0,34400.0,92500.0,75000.0,53000.0,35004.0,65000.0,43000.0,120000.0,50000.0,106000.0,39600.0,75000.0,66000.0,72000.0,150000.0,351699.0,50000.0,125000.0,80000.0,113000.0,70000.0,63000.0,53995.0,38000.0,35300.0,45996.0,92004.0,48600.0,116000.0,27000.0,130000.0,58000.0,38700.0,44000.0,70000.0,33000.0,45000.0,38400.0,70500.0,58000.0,37000.0,92000.0,40000.0,65000.0,110000.0,48000.0,200000.0,60000.0,30000.0,30000.0,66000.0,108960.0,96720.0,84996.0,74000.0,48000.0,33000.0,55000.0,44000.0,26000.0,35976.0,42000.0,56400.0,55000.0,48000.0,17000.0,47000.0,61500.0,14400.0,50000.0,63000.0,81500.0,20004.0,50000.0,23004.0,51000.0,18000.0,24996.0,28000.0,42000.0,40000.0,300000.0,75000.0,85000.0,97000.0,225000.0,100000.0,40000.0,51000.0,62040.0,51150.0,40000.0,80000.0,65000.0,48000.0,54000.0,52102.0,84000.0,95000.0,133000.0,63500.0,66000.0,24500.0,70000.0,103000.0,56004.0,28000.0,102000.0,34000.0,41000.0,38250.0,53000.0,90000.0,52000.0,125000.0,65000.0,51000.0,83000.0,40000.0,86000.0,100000.0,90000.0,130000.0,108800.0,25000.0,21996.0,61455.0,73000.0,140000.0,10800.0,84000.0,60000.0,88500.0,30144.0,48000.0,24996.0,70000.0,66000.0,130000.0,120000.0,123000.0,59000.0,136000.0,46000.0,200000.0,45760.0,30000.0,49200.0,65000.0,150000.0,80000.0,1200000.0,54000.0,48000.0,160000.0,125000.0,21000.0,69500.0,48712.0,74000.0,110000.0,180000.0,44000.0,55530.0,63250.0,40000.0,80000.0,75500.0,18000.0,72500.0,42000.0,78000.0,93000.0,60000.0,26004.0,60000.0,40000.0,65000.0,230000.0,32000.0,84000.0,59000.0,60000.0,35000.0,42000.0,156000.0,49000.0,91000.0,170496.0,55000.0,57000.0,32000.0,39000.0,28800.0,37000.0,50000.0,63600.0,55392.0,27500.0,125000.0,10560.0,86000.0,42000.0,42000.0,30000.0,44000.0,37000.0,36000.0,62500.0,51000.0,54000.0,65000.0,156000.0,25632.0,44000.0,38000.0,98000.0,50000.0,36000.0,123000.0,125000.0,84000.0,63996.0,53000.0,78000.0,55684.0,34800.0,54000.0,41000.0,71760.0,24000.0,85000.0,9840.0,62475.0,24000.0,54000.0,30000.0,35000.0,56000.0,40000.0,36000.0,39000.0,32000.0,75000.0,35000.0,60000.0,60000.0,20000.0,129996.0,39480.0,26000.0,27600.0,36450.0,39600.0,120000.0,159960.0,53000.0,52000.0,45000.0,43200.0,150000.0,40000.0,78000.0,57000.0,40000.0,60000.0,44000.0,23520.0,108000.0,25000.0,33600.0,25000.0,47500.0,72000.0,12240.0,30000.0,24996.0,68000.0,52800.0,48996.0,72000.0,66120.0,58000.0,45000.0,95000.0,64000.0,28000.0,36000.0,67000.0,35000.0,57996.0,25920.0,18500.0,110000.0,48000.0,48000.0,92000.0,43000.0,7500.0,50000.0,69996.0,15600.0,101000.0,39000.0,48000.0,73000.0,34000.0,26000.0,62400.0,45000.0,56400.0,80000.0,24000.0,51840.0,65000.0,42000.0,30000.0,121000.0,68000.0,45378.0,68000.0,90000.0,90000.0,74000.0,66300.0,105000.0,66000.0,180000.0,49000.0,39512.0,53000.0,53000.0,66560.0,49000.0,80500.0,115000.0,90000.0,135000.0,30000.0,27000.0,66400.0,39600.0,62000.0,45000.0,60000.0,34000.0,48500.0,54000.0,120000.0,48000.0,31000.0,96053.0,30000.0,60000.0,54000.0,62900.0,54000.0,82000.0,60000.0,80000.0,65000.0,65100.0,85000.0,80004.0,66300.0,30548.0,150000.0,57000.0,81800.0,58000.0,83000.0,55000.0,39300.0,83004.0,84000.0,39600.0,39500.0,48000.0,27264.0,120000.0,60000.0,81504.0,45500.0,152000.0,53000.0,65000.0,30000.0,30000.0,72000.0,150000.0,36000.0,39996.0,43000.0,48000.0,80000.0,104000.0,82000.0,95000.0,13000.0,86000.0,54996.0,25000.0,33500.0,26940.0,115000.0,55000.0,37500.0,38000.0,57300.0,78000.0,45600.0,31000.0,31000.0,73000.0,50000.0,83234.0,101900.0,49500.0,65000.0,30000.0,45000.0,33600.0,73200.0,200000.0,41779.0,100000.0,47000.0,80000.0,59000.0,60000.0,76042.0,20400.0,51000.0,40800.0,71232.0,24000.0,35000.0,65000.0,45000.0,99600.0,72000.0,50000.0,82450.0,49000.0,24000.0,201000.0,70000.0,100000.0,10000.0,28452.0,34500.0,100000.0,80000.0,125000.0,135000.0,62900.0,45000.0,120000.0,181408.0,29000.0,42000.0,109200.0,24000.0,120000.0,65600.0,55200.0,60000.0,128000.0,240000.0,50000.0,24168.0,22500.0,26500.0,30004.0,85000.0,105000.0,60000.0,20000.0,44700.0,33900.0,54000.0,20000.0,90000.0,83000.0,54000.0,42000.0,42200.0,22800.0,62000.0,37440.0,68803.0,21600.0,65000.0,70000.0,65000.0,69000.0,74000.0,70000.0,49000.0,45000.0,56000.0,80000.0,45000.0,47000.0,48000.0,29496.0,105000.0,46000.0,29000.0,76000.0,165000.0,26000.0,44004.0,38400.0,100000.0,46000.0,33600.0,80000.0,130000.0,38400.0,48712.0,15600.0,77000.0,70000.0,81000.0,48000.0,76160.0,55000.0,28000.0,47500.0,55000.0,26400.0,54000.0,60000.0,53922.0,88000.0,77350.0,55000.0,51500.0,90000.0,70000.0,47000.0,28000.0,45000.0,38000.0,25000.0,72000.0,20800.0,110000.0,100000.0,39996.0,26400.0,46296.0,31000.0,34800.0,90000.0,40000.0,40800.0,120000.0,73200.0,48000.0,62000.0,30000.0,45000.0,134000.0,24000.0,31200.0,54996.0,93000.0,80000.0,36000.0,58000.0,132652.0,105000.0,55000.0,165000.0,57600.0,65000.0,78000.0,55992.0,90000.0,51996.0,35000.0,42000.0,113000.0,49000.0,190000.0,18000.0,11029.0,45000.0,120000.0,61500.0,30555.0,115000.0,54000.0,65000.0,54000.0,57600.0,130000.0,130920.0,60000.0,46800.0,33288.0,76596.0,78400.0,30000.0,58896.0,300000.0,84000.0,50000.0,61000.0,47200.0,43000.0,35000.0,74000.0,35000.0,50000.0,18000.0,26000.0,60000.0,62000.0,62000.0,28800.0,108288.0,68000.0,36000.0,70000.0,65000.0,96713.0,70550.0,30000.0,92500.0,42504.0,26000.0,68400.0,30000.0,77000.0,19200.0,73000.0,117000.0,30000.0,17000.0,45000.0,64000.0,54000.0,42000.0,120000.0,58650.0,130000.0,34000.0,30000.0,46551.0,95000.0,115000.0,65000.0,34000.0,39996.0,120000.0,30000.0,44700.0,78000.0,21600.0,55000.0,45000.0,54000.0,19632.0,74600.0,70000.0,38004.0,24000.0,100000.0,91000.0,27000.0,42000.0,67600.0,130000.0,107004.0,24600.0,43200.0,80004.0,140000.0,75000.0,44400.0,60900.0,64800.0,85000.0,40800.0,60000.0,55000.0,62000.0,58170.0,75000.0,82000.0,40000.0,125000.0,70000.0,48000.0,121000.0,55000.0,60000.0,67000.0,37000.0,125000.0,20000.0,117000.0,92000.0,81360.0,97000.0,52680.0,91000.0,42000.0,50000.0,77000.0,65500.0,28800.0,38000.0,42000.0,75000.0,57300.0,70000.0,143004.0,108000.0,153000.0,33600.0,90000.0,114400.0,51000.0,50000.0,600000.0,98000.0,97000.0,20743.0,61400.0,48000.0,35000.0,29000.0,58000.0,121000.0,66614.0,36000.0,31836.0,23500.0,39600.0,125000.0,15000.0,52582.0,43200.0,14400.0,83004.0,78000.0,52000.0,28500.0,68400.0,39600.0,86000.0,60000.0,70000.0,179000.0,113800.0,90000.0,20640.0,67000.0,35000.0,28140.0,55000.0,41838.0,70000.0,66000.0,15996.0,125000.0,135000.0,97000.0,224000.0,55200.0,36000.0,144000.0,18996.0,74000.0,44991.0,24432.0,22000.0,73600.0,81000.0,83000.0,30320.0,67807.0,46000.0,96000.0,84000.0,59000.0,48000.0,66300.0,30000.0,160000.0,55000.0,21000.0,50000.0,47000.0,30000.0,66000.0,45336.0,156000.0,25000.0,77650.0,231252.0,75000.0,39868.0,50000.0,180000.0,45000.0,57600.0,45888.0,84500.0,115500.0,65000.0,54996.0,18000.0,35000.0,65000.0,75000.0,97500.0,40000.0,48000.0,68000.0,105000.0,60000.0,35000.0,25200.0,70200.0,60000.0,32000.0,33000.0,77000.0,35000.0,33000.0,36000.0,97000.0,43000.0,27000.0,118000.0,47000.0,56100.0,48000.0,28600.0,33000.0,58500.0,75000.0,68000.0,81600.0,88000.0,54000.0,35000.0,21000.0,54996.0,60000.0,50000.0,46700.0,32000.0,72000.0,50000.0,45000.0,145124.0,35000.0,48000.0,55000.0,53000.0,50000.0,83195.0,84000.0,27000.0,115000.0,39996.0,24000.0,134000.0,110000.0,83004.0,40000.0,90996.0,75000.0,78000.0,170000.0,41004.0,44000.0,44304.0,73000.0,45600.0,66000.0,85000.0,28500.0,60000.0,45000.0,51160.0,160000.0,20000.0,9600.0,117000.0,26496.0,80000.0,61000.0,50000.0,22800.0,250000.0,25000.0,40000.0,50000.0,57000.0,16800.0,33600.0,46500.0,80000.0,69000.0,51996.0,52800.0,42000.0,55000.0,89908.0,12000.0,57000.0,480000.0,50000.0,30000.0,40000.0,150000.0,30400.0,58313.0,105000.0,65000.0,94692.0,75000.0,35000.0,135000.0,45000.0,45000.0,50960.0,28800.0,119000.0,55000.0,99000.0,70000.0,35000.0,88000.0,100000.0,170000.0,70000.0,45600.0,87000.0,36000.0,43200.0,75000.0,134748.0,48500.0,50000.0,68000.0,90000.0,48996.0,34000.0,50000.0,120000.0,72000.0,125800.0,26000.0,68000.0,80000.0,18000.0,110000.0,50000.0,85000.0,65000.0,120000.0,39000.0,81000.0,42000.0,53684.0,31513.0,64000.0,89000.0,61000.0,75000.0,35000.0,38000.0,96000.0,43000.0,110000.0,15360.0,81000.0,19200.0,45000.0,80000.0,37000.0,36000.0,29000.0,25000.0,70000.0,25000.0,70000.0,53004.0,53000.0,40000.0,159996.0,93000.0,27456.0,46000.0,22320.0,12000.0,100000.0,58608.0,66500.0,78000.0,63400.0,40000.0,100000.0,58000.0,30000.0,72000.0,67200.0,21000.0,39000.0,47700.0,155000.0,160000.0,60000.0,120000.0,118000.0,107500.0,44000.0,122500.0,39996.0,62400.0,82000.0,53500.0,48450.0,92500.0,76000.0,48000.0,95000.0,62000.0,140004.0,78000.0,68324.0,175000.0,98004.0,70000.0,78000.0,95000.0,30000.0,50724.0,75000.0,123000.0,43200.0,42000.0,53826.0,130000.0,26400.0,37200.0,14400.0,44500.0,100000.0,49500.0,60000.0,56784.0,40800.0,110000.0,12000.0,42000.0,120000.0,37500.0,130000.0,35520.0,68000.0,85000.0,80000.0,50400.0,90000.0,40800.0,96000.0,35004.0,15600.0,54000.0,90996.0,48000.0,52000.0,39996.0,29962.0,56000.0,64000.0,145000.0,52000.0,29000.0,62000.0,41600.0,131040.0,38400.0,65000.0,99000.0,78000.0,45000.0,95000.0,120000.0,64700.0,100000.0,36000.0,100000.0,40000.0,160000.0,20400.0,88000.0,78000.0,73000.0,65592.0,85000.0,72000.0,38060.0,70000.0,24000.0,64000.0,150000.0,60174.0,56461.0,43000.0,33225.0,56052.0,40000.0,70000.0,45000.0,53000.0,32000.0,65000.0,38000.0,34000.0,53000.0,80000.0,64800.0,100000.0,50000.0,80000.0,37000.0,56000.0,65000.0,62000.0,112000.0,95000.0,37050.0,46000.0,175000.0,80000.0,35000.0,149616.0,82000.0,36996.0,31000.0,48000.0,38004.0,24000.0,105000.0,238000.0,30000.0,19800.0,21600.0,19200.0,72000.0,77927.0,37000.0,55000.0,110000.0,90000.0,105000.0,27996.0,41496.0,38160.0,71004.0,23004.0,66000.0,50000.0,63533.0,32000.0,62065.0,48000.0,45000.0,115200.0,280000.0,75000.0,128400.0,101004.0,19000.0,50000.0,72000.0,50000.0,48000.0,60000.0,85000.0,55000.0,65000.0,80000.0,20400.0,51850.0,64000.0,75000.0,43500.0,42000.0,42200.0,18000.0,53000.0,75000.0,40000.0,48000.0,55000.0,43000.0,15600.0,74004.0,50000.0,48000.0,144000.0,36000.0,41000.0,10000.0,85000.0,59000.0,126000.0,53004.0,86000.0,24449.0,34000.0,84000.0,144000.0,52000.0,58000.0,42000.0,41200.0,11000.0,35000.0,30000.0,60000.0,54000.0,60000.0,125004.0,42000.0,58000.0,70000.0,65000.0,106000.0,78500.0,30000.0,39600.0,54000.0,42300.0,30000.0,80000.0,28080.0,28500.0,33000.0,76000.0,66000.0,40000.0,53000.0,63000.0,89000.0,63000.0,110000.0,36050.0,60000.0,80000.0,130000.0,90000.0,42000.0,65000.0,160000.0,47000.0,25000.0,33448.0,94000.0,70000.0,60000.0,60000.0,39000.0,30000.0,106921.0,48000.0,54000.0,42494.0,33990.0,84000.0,30996.0,21600.0,53329.0,41004.0,85000.0,157544.0,92000.0,31700.0,59000.0,123000.0,25000.0,19200.0,26000.0,30000.0,60000.0,95000.0,37000.0,65000.0,112445.0,52000.0,58000.0,25000.0,119000.0,50000.0,100300.0,15300.0,60000.0,34800.0,50000.0,65000.0,26000.0,60000.0,40000.0,50000.0,57000.0,83800.0,155000.0,39996.0,47300.0,80000.0,54996.0,40000.0,49000.0,28128.0,75000.0,40000.0,86304.0,42200.0,45000.0,60000.0,30000.0,50000.0,38400.0,30720.0,47208.0,42000.0,63189.0,69000.0,39996.0,20004.0,39000.0,60629.0,40000.0,60000.0,12000.0,70000.0,57000.0,40000.0,40800.0,66000.0,87000.0,52800.0,42000.0,57000.0,71000.0,55000.0,48852.0,37500.0,52000.0,60000.0,38000.0,69000.0,60000.0,150000.0,41000.0,36000.0,61104.0,82000.0,59068.0,39600.0,45000.0,85000.0,60000.0,93000.0,38000.0,90000.0,80000.0,73000.0,56000.0,44000.0,56000.0,96000.0,53000.0,60000.0,65000.0,45000.0,42000.0,42000.0,151000.0,80000.0,75000.0,39000.0,38000.0,45600.0,49000.0,40000.0,65004.0,72000.0,115000.0,100000.0,50000.0,42000.0,75800.0,87000.0,40000.0,72000.0,104000.0,55000.0,21000.0,200000.0,46500.0,50004.0,100000.0,46151.0,79404.0,108000.0,50000.0,50000.0,65000.0,140000.0,63177.0,70000.0,170000.0,30000.0,27000.0,25000.0,24000.0,53500.0,52692.0,50000.0,24996.0,42000.0,87800.0,33078.0,60200.0,115000.0,60000.0,120000.0,25000.0,26400.0,30000.0,37000.0,47360.0,19250.0,40000.0,175000.0,59000.0,36000.0,50000.0,110000.0,27048.0,138000.0,48000.0,42000.0,95000.0,31200.0,36000.0,62903.0,39600.0,29000.0,34000.0,48996.0,41600.0,36000.0,45996.0,46000.0,78000.0,12000.0,65004.0,38400.0,80000.0,185000.0,50000.0,22044.0,68004.0,55000.0,58000.0,125000.0,30000.0,38000.0,58000.0,50004.0,36000.0,15000.0,44460.0,36000.0,42000.0,44000.0,42000.0,66500.0,52000.0,84000.0,48279.0,62400.0,114440.0,39000.0,92400.0,39000.0,140000.0,87000.0,68000.0,76000.0,45000.0,35316.0,45600.0,80000.0,31200.0,61150.0,46976.0,35004.0,110000.0,44000.0,28000.0,87000.0,40000.0,43200.0,51600.0,51000.0,60000.0,59000.0,110000.0,150000.0,25000.0,64000.0,31100.0,29004.0,36000.0,143000.0,74000.0,30000.0,69000.0,75000.0,48000.0,65000.0,40000.0,81193.0,78000.0,125000.0,15600.0,50000.0,42500.0,84000.0,63000.0,60000.0,26000.0,92700.0,120000.0,41000.0,26000.0,73440.0,78000.0,64800.0,65000.0,250000.0,103992.0,62400.0,29000.0,68670.0,62000.0,54000.0,41004.0,125000.0,68000.0,84000.0,24000.0,44000.0,34000.0,25000.0,18000.0,40000.0,60000.0,15000.0,90301.0,74000.0,70000.0,45000.0,14400.0,62467.0,72000.0,123000.0,12996.0,100843.0,44196.0,76597.0,126000.0,22300.0,30000.0,65000.0,48000.0,80000.0,70000.0,77000.0,44000.0,122000.0,55000.0,40320.0,52000.0,57996.0,58000.0,144000.0,51480.0,54000.0,37800.0,45204.0,60000.0,70000.0,39996.0,18840.0,62000.0,120000.0,87550.0,60000.0,23500.0,63600.0,65000.0,60000.0,102400.0,150000.0,130000.0,61000.0,30000.0,120000.0,40000.0,55000.0,75000.0,52000.0,12000.0,47000.0,43000.0,24000.0,79700.0,180000.0,35500.0,66000.0,69000.0,66888.0,30000.0,20000.0,95004.0,42000.0,130000.0,52000.0,72000.0,20000.0,42000.0,68000.0,84000.0,61000.0,60000.0,34900.0,50725.0,77000.0,80000.0,24000.0,94000.0,33000.0,60000.0,45000.0,28000.0,31104.0,86000.0,40000.0,110000.0,20400.0,34174.0,115000.0,46704.0,72000.0,27000.0,63500.0,32500.0,22560.0,30000.0,95000.0,51000.0,72000.0,39000.0,44000.0,39996.0,29100.0,27500.0,65000.0,50500.0,44640.0,93492.0,53004.0,78000.0,180000.0,75000.0,35004.0,18720.0,78000.0,63996.0,80000.0,40000.0,64000.0,18000.0,151000.0,34000.0,54000.0,86000.0,65000.0,40000.0,35000.0,20400.0,115000.0,50000.0,65007.0,33000.0,34348.0,78996.0,83004.0,39962.0,69996.0,129996.0,66000.0,60000.0,99996.0,30000.0,115000.0,58000.0,13500.0,33000.0,52000.0,47211.0,29000.0,90000.0,150000.0,58000.0,54000.0,30000.0,141600.0,45900.0,33000.0,187000.0,40000.0,21000.0,53000.0,144000.0,60000.0,24000.0,30000.0,33000.0,50000.0,38004.0,98700.0,59000.0,120000.0,57600.0,14400.0,60500.0,83000.0,49000.0,10800.0,40000.0,60000.0,36000.0,59000.0,86000.0,75000.0,195000.0,65000.0,54996.0,69996.0,18000.0,145000.0,38000.0,58000.0,20000.0,41000.0,76000.0,34000.0,43000.0,28500.0,50400.0,60000.0,65004.0,77000.0,75000.0,35004.0,40000.0,71000.0,22800.0,68000.0,60000.0,120000.0,37000.0,66000.0,30996.0,70000.0,45000.0,62000.0,60000.0,29140.0,55500.0,26568.0,80400.0,35000.0,55000.0,57000.0,93000.0,87000.0,95000.0,33000.0,65004.0,38400.0,30000.0,71352.0,40000.0,100000.0,70000.0,30000.0,52000.0,71400.0,31000.0,58000.0,60000.0,185000.0,100000.0,65000.0,75000.0,57600.0,24000.0,70000.0,34819.0,40800.0,30000.0,67000.0,55000.0,44004.0,74000.0,27600.0,74500.0,32000.0,44000.0,72000.0,75000.0,39600.0,125000.0,90000.0,16800.0,58000.0,25200.0,79820.0,30000.0,34560.0,54000.0,31200.0,25000.0,69700.0,30000.0,30000.0,20000.0,46000.0,120000.0,44966.0,19200.0,25000.0,52800.0,31000.0,125000.0,18700.0,58000.0,52000.0,156000.0,39875.0,42000.0,47748.0,45000.0,55000.0,89602.0,55000.0,71000.0,30000.0,70000.0,60000.0,90000.0,72972.0,71151.0,60000.0,97000.0,86000.0,35000.0,34600.0,50049.0,125000.0,15000.0,52160.0,50000.0,30000.0,56000.0,56160.0,50000.0,20000.0,50000.0,33000.0,22080.0,59000.0,41500.0,250000.0,74400.0,61000.0,55000.0,35004.0,108000.0,23000.0,33600.0,70000.0,44000.0,33000.0,60000.0,26004.0,32000.0,66000.0,44000.0,59000.0,100000.0,50000.0,75000.0,29780.0,67440.0,96000.0,73000.0,62050.0,35000.0,36000.0,150000.0,48000.0,50000.0,100000.0,29654.0,80000.0,61000.0,38001.0,36960.0,40058.0,73000.0,59000.0,28500.0,126000.0,94000.0,24000.0,45000.0,188000.0,36996.0,29004.0,86000.0,65000.0,60000.0,33996.0,50000.0,68000.0,50000.0,80000.0,18700.0,45600.0,120000.0,175000.0,43000.0,32000.0,30000.0,60000.0,54000.0,31000.0,60000.0,130000.0,79000.0,70000.0,37000.0,80000.0,66000.0,70000.0,34138.0,60000.0,61455.0,37000.0,47000.0,80000.0,38000.0,76000.0,38500.0,21000.0,68399.0,80000.0,40000.0,201000.0,144996.0,34900.0,50361.0,44400.0,79000.0,30000.0,58000.0,180000.0,43500.0,57800.0,46585.0,54996.0,65000.0,23000.0,99000.0,42000.0,51000.0,62500.0,61000.0,62050.0,70000.0,221850.0,43000.0,39996.0,79750.0,109000.0,40056.0,45000.0,199000.0,81300.0,41000.0,120000.0,47200.0,54000.0,150000.0,24000.0,59000.0,34500.0,128000.0,32400.0,258000.0,38400.0,45000.0,58000.0,19200.0,115000.0,65000.0,30000.0,55000.0,49853.0,53196.0,35416.0,144000.0,66500.0,55000.0,45000.0,12000.0,57000.0,67619.0,30680.0,44724.0,79000.0,35500.0,101500.0,57000.0,34000.0,55000.0,49000.0,117014.0,82632.0,87000.0,31000.0,30000.0,44000.0,34000.0,46000.0,50000.0,36000.0,85000.0,51996.0,60500.0,136000.0,62400.0,75000.0,100000.0,125000.0,30996.0,12360.0,81120.0,90000.0,33996.0,54000.0,55000.0,148000.0,23000.0,12000.0,70000.0,61547.0,84000.0,50000.0,80000.0,95000.0,70550.0,31000.0,85000.0,54000.0,40000.0,51060.0,47000.0,94128.0,84000.0,24960.0,132000.0,72576.0,80000.0,150000.0,130000.0,33600.0,21600.0,140000.0,92004.0,70000.0,45000.0,52000.0,80400.0,74000.0,120000.0,61200.0,45000.0,50000.0,84000.0,70000.0,75000.0,63200.0,30000.0,135000.0,50000.0,90000.0,44000.0,103000.0,108000.0,136000.0,34255.0,54000.0,81000.0,50000.0,65000.0,98800.0,24000.0,42000.0,96000.0,119000.0,28800.0,150000.0,95000.0,130000.0,76000.0,121000.0,53000.0,135000.0,34000.0,60000.0,36000.0,47928.0,80196.0,39000.0,42500.0,48880.0,54000.0,55000.0,48000.0,62004.0,34000.0,72996.0,42000.0,30000.0,219300.0,87500.0,70550.0,159000.0,72500.0,72000.0,37600.0,126000.0,36662.0,120000.0,104000.0,72000.0,80000.0,65488.0,42000.0,36000.0,40000.0,106000.0,80000.0,122000.0,55000.0,45000.0,60000.0,43000.0,99085.0,61000.0,90474.0,58788.0,102000.0,25920.0,31000.0,115000.0,70000.0,100000.0,135000.0,55000.0,70000.0,96000.0,50000.0,108000.0,41000.0,36000.0,60000.0,55272.0,90888.0,120000.0,90000.0,39600.0,63000.0,36000.0,85000.0,24000.0,175000.0,150000.0,155004.0,53796.0,50000.0,163232.0,43000.0,58000.0,22000.0,34000.0,31000.0,50100.0,44000.0,89440.0,76000.0,80000.0,100000.0,30000.0,130000.0,48000.0,62000.0,76800.0,43200.0,50000.0,85000.0,66500.0,54196.0,75000.0,50000.0,54600.0,45000.0,83000.0,53000.0,84000.0,46596.0,120000.0,51000.0,63000.0,160000.0,91000.0,31000.0,78000.0,47000.0,60000.0,90000.0,52106.0,80000.0,74000.0,60000.0,95200.0,30000.0,76800.0,82438.0,30500.0,58650.0,30000.0,75000.0,42000.0,100000.0,37000.0,64000.0,36000.0,72000.0,30996.0,75000.0,48000.0,76597.0,75000.0,32000.0,70176.0,78000.0,46000.0,21996.0,16800.0,75000.0,29004.0,76860.0,41000.0,50000.0,30000.0,78000.0,35000.0,16800.0,50000.0,92000.0,36000.0,43000.0,65000.0,85000.0,50000.0,47580.0,32000.0,45600.0,29120.0,48000.0,80000.0,12960.0,96000.0,73000.0,35000.0,49800.0,50000.0,35000.0,40000.0,160000.0,51700.0,50000.0,300000.0,33000.0,36000.0,39000.0,50000.0,84000.0,34000.0,118374.0,110000.0,62500.0,27600.0,52000.0,72000.0,74000.0,50663.0,62000.0,96000.0,51000.0,48000.0,104550.0,44000.0,48000.0,35000.0,130000.0,123996.0,69600.0,50400.0,42500.0,41600.0,60000.0,75000.0,42000.0,99996.0,34800.0,30000.0,40000.0,35000.0,52584.0,85000.0,60000.0,32000.0,157000.0,75000.0,47000.0,40000.0,66948.0,118000.0,33000.0,120775.0,63600.0,27031.0,96000.0,36000.0,27600.0,36000.0,69000.0,58000.0,47000.0,48000.0,48000.0,89004.0,37000.0,70000.0,45996.0,35000.0,48000.0,60000.0,26400.0,61020.0,150000.0,28000.0,32000.0,113000.0,94500.0,42000.0,54000.0,34000.0,60000.0,20004.0,92000.0,100000.0,65000.0,34000.0,69764.0,54000.0,27500.0,32000.0,25000.0,42000.0,36000.0,22100.0,57016.0,42000.0,95000.0,60000.0,55400.0,90000.0,133000.0,67000.0,47000.0,48000.0,95000.0,16800.0,91228.0,26400.0,56004.0,185000.0,42000.0,100000.0,16800.0,38400.0,40800.0,20000.0,250000.0,180000.0,25000.0,70000.0,50000.0,69996.0,55000.0,67000.0,53000.0,38000.0,32000.0,18000.0,52000.0,33280.0,47500.0,50004.0,69000.0,40000.0,77250.0,75000.0,96000.0,27000.0,60480.0,63996.0,30000.0,62000.0,32000.0,60000.0,95000.0,63000.0,96000.0,78000.0,26500.0,59436.0,53000.0,20000.0,263004.0,140000.0,98000.0,78000.0,25568.0,150000.0,120000.0,44000.0,75000.0,39000.0,90000.0,34580.0,62000.0,32000.0,44000.0,32968.0,22000.0,43000.0,88000.0,24000.0,60000.0,55200.0,80004.0,24000.0,61200.0,30000.0,604000.0,57188.0,85000.0,55704.0,48000.0,46000.0,70000.0,49872.0,65000.0,24720.0,26000.0,104000.0,100000.0,53590.0,80000.0,90000.0,64999.0,62000.0,24996.0,118000.0,157000.0,35000.0,75000.0,64000.0,36000.0,35000.0,27168.0,45000.0,75000.0,45000.0,70800.0,90000.0,40500.0,40500.0,103000.0,45000.0,45500.0,30000.0,60000.0,17676.0,36000.0,100000.0,90000.0,57750.0,60000.0,44940.0,30996.0,65000.0,52000.0,22300.0,30000.0,85392.0,62000.0,120000.0,39600.0,51000.0,24000.0,30000.0,36000.0,59004.0,62000.0,54000.0,144000.0,45000.0,70000.0,42000.0,36000.0,38400.0,80000.0,56000.0,30000.0,34152.0,21000.0,30000.0,110500.0,27036.0,120000.0,30000.0,94000.0,45000.0,78000.0,105000.0,74337.0,35000.0,76500.0,125000.0,60000.0,29000.0,190000.0,65000.0,84000.0,115600.0,84000.0,24000.0,44000.0,40000.0,42000.0,58000.0,76500.0,65000.0,50400.0,50000.0,27972.0,65000.0,62200.0,105996.0,15000.0,70000.0,34000.0,65000.0,27600.0,27000.0,230004.0,225000.0,40000.0,33000.0,50000.0,21888.0,18000.0,36000.0,62500.0,70000.0,120000.0,48000.0,34560.0,48000.0,60000.0,56000.0,53000.0,35000.0,49000.0,54000.0,30000.0,140000.0,33000.0,63235.0,53688.0,33600.0,72960.0,22260.0,68000.0,72000.0,40000.0,23000.0,48000.0,186000.0,100000.0,79000.0,50000.0,72644.0,67320.0,78862.0,12000.0,70000.0,30000.0,67000.0,70000.0,50176.0,55000.0,48257.0,80000.0,56700.0,19200.0,78000.0,33000.0,68000.0,58000.0,72000.0,30000.0,48000.0,60000.0,108366.0,64000.0,85000.0,69000.0,24000.0,88000.0,34900.0,143000.0,46000.0,36000.0,41000.0,111000.0,48000.0,39520.0,14400.0,160000.0,33000.0,90000.0,27000.0,60000.0,45000.0,35360.0,85000.0,59000.0,121000.0,78000.0,78000.0,35000.0,72000.0,88596.0,21600.0,50500.0,21600.0,62000.0,24500.0,44000.0,67596.0,75000.0,72194.0,27600.0,82000.0,140000.0,54000.0,275000.0,45000.0,100000.0,150000.0,48000.0,162500.0,92000.0,58000.0,83000.0,70000.0,71004.0,70000.0,19200.0,37000.0,110000.0,38004.0,42000.0,145000.0,65200.0,30000.0,47840.0,108000.0,83004.0,52000.0,87360.0,110000.0,33000.0,39000.0,91392.0,35482.0,96000.0,54000.0,65000.0,22000.0,87000.0,78000.0,32000.0,65000.0,135000.0,57000.0,170000.0,119000.0,58000.0,57200.0,41558.0,52800.0,58000.0,30000.0,45000.0,40000.0,48000.0,54000.0,146990.0,30000.0,86400.0,63000.0,48715.0,25200.0,30000.0,53000.0,25000.0,37200.0,49140.0,23396.0,110000.0,18000.0,31000.0,45000.0,114237.0,60000.0,62000.0,51000.0,101000.0,130000.0,140000.0,52000.0,43000.0,133900.0,84191.0,45000.0,42000.0,36000.0,15000.0,45600.0,85000.0,68000.0,58656.0,77248.0,45000.0,30000.0,173467.0,37000.0,33009.0,38000.0,66000.0,45996.0,43200.0,44004.0,71400.0,125600.0,18000.0,56950.0,80004.0,408000.0,121680.0,54000.0,144000.0,55000.0,48989.0,70000.0,42000.0,148000.0,36000.0,32500.0,50000.0,55200.0,65000.0,24000.0,85000.0,50000.0,21000.0,32500.0,69000.0,59000.0,20004.0,54996.0,100000.0,38400.0,65000.0,54000.0,45000.0,120000.0,56000.0,45020.0,85000.0,50000.0,61628.0,50000.0,336000.0,42500.0,25200.0,105000.0,32213.0,28000.0,30000.0,83300.0,213000.0,125000.0,81972.0,120000.0,132000.0,70000.0,45324.0,105000.0,50000.0,110000.0,43900.0,45600.0,88620.0,81000.0,37000.0,45600.0,32000.0,4000.0,66000.0,37920.0,30000.0,60000.0,45136.0,34500.0,37000.0,68900.0,25000.0,55000.0,125000.0,45000.0,12600.0,110000.0,30000.0,68000.0,105398.0,40272.0,130000.0,36228.0,66000.0,32000.0,50000.0,60000.0,34000.0,85000.0,57996.0,68000.0,70000.0,24000.0,100000.0,62000.0,84000.0,50000.0,200000.0,47500.0,117000.0,34000.0,48000.0,35000.0,35000.0,45000.0,45600.0,60000.0,127000.0,42000.0,30000.0,98736.0,84996.0,36996.0,42000.0,17721.0,37000.0,42000.0,87550.0,24000.0,90000.0,68000.0,32900.0,65000.0,55000.0,94000.0,55000.0,47000.0,42996.0,56000.0,33000.0,45000.0,180488.0,60000.0,48000.0,80000.0,54000.0,70000.0,65000.0,180396.0,96000.0,48000.0,18000.0,74004.0,63000.0,32004.0,70000.0,25000.0,84000.0,165000.0,97000.0,28896.0,54000.0,52000.0,47500.0,62000.0,110000.0,56000.0,42048.0,90700.0,65000.0,21424.0,95000.0,32000.0,54000.0,23387.0,65000.0,63000.0,29004.0,120000.0,60000.0,75000.0,60000.0,39900.0,52800.0,96000.0,13200.0,140000.0,84996.0,400000.0,57240.0,540600.0,108000.0,31200.0,360000.0,60000.0,36000.0,22200.0,60000.0,51000.0,95000.0,48000.0,64000.0,80000.0,75000.0,30480.0,35000.0,64000.0,85000.0,24996.0,33600.0,96339.0,37000.0,28880.0,30000.0,75840.0,55000.0,30000.0,65000.0,52000.0,94976.0,62050.0,46443.0,72000.0,60000.0,101000.0,40000.0,25000.0,32004.0,68231.0,35000.0,66000.0,12000.0,57600.0,45312.0,64777.0,80004.0,58617.0,66661.0,163000.0,30300.0,55000.0,72000.0,45000.0,65000.0,52000.0,95000.0,36000.0,27000.0,57700.0,12996.0,18000.0,66000.0,140000.0,129600.0,62570.0,42504.0,60000.0,238000.0,31200.0,38052.0,32000.0,145000.0,180000.0,200000.0,24000.0,98000.0,45600.0,42000.0,31200.0,173000.0,15000.0,44000.0,38850.0,55000.0,115000.0,119496.0,19200.0,59004.0,70000.0,111000.0,41820.0,65000.0,62500.0,54000.0,54000.0,52000.0,160000.0,36000.0,13200.0,75000.0,21996.0,38000.0,125000.0,75000.0,50000.0,60000.0,53000.0,15204.0,53500.0,99996.0,73000.0,174462.0,65000.0,54000.0,75000.0,90000.0,89000.0,69000.0,47004.0,24000.0,60000.0,45000.0,39124.0,95000.0,51684.0,31577.0,72000.0,65000.0,69000.0,49500.0,23800.0,40000.0,108928.0,60000.0,80000.0,120000.0,36000.0,12000.0,99000.0,40000.0,31200.0,275000.0,70000.0,31500.0,65004.0,44531.0,120000.0,27600.0,33276.0,31200.0,80000.0,54000.0,114996.0,46350.0,26780.0,87000.0,66000.0,34900.0,25000.0,42100.0,67800.0,50000.0,33600.0,38500.0,64000.0,33048.0,68000.0,29000.0,32000.0,70000.0,15600.0,51840.0,40000.0,54000.0,75000.0,30000.0,121008.0,42000.0,52526.0,57000.0,60000.0,42000.0,46000.0,80000.0,39000.0,98656.0,56000.0,107000.0,75996.0,65000.0,15000.0,120000.0,24000.0,96000.0,60000.0,120999.0,54996.0,75000.0,59000.0,120000.0,54000.0,30000.0,95000.0,88000.0,62200.0,54996.0,115600.0,35000.0,28000.0,42000.0,16094.0,41600.0,84000.0,30000.0,62000.0,30000.0,75000.0,25000.0,106982.0,51996.0,45000.0,52500.0,150000.0,60000.0,42096.0,74000.0,183000.0,62000.0,120000.0,65338.0,63000.0,200000.0,45360.0,29000.0,300000.0,75000.0,53004.0,65000.0,75000.0,20000.0,12960.0,95000.0,60000.0,88000.0,60000.0,90000.0,220000.0,62000.0,140900.0,91224.0,102996.0,42000.0,46000.0,90000.0,47500.0,24996.0,26000.0,43200.0,38000.0,420000.0,65000.0,170000.0,69000.0,23916.0,35000.0,10000.0,140004.0,50000.0,120000.0,160000.0,52000.0,18000.0,36000.0,60000.0,42000.0,38400.0,90000.0,30852.0,78000.0,45000.0,64404.0,15600.0,50000.0,120000.0,40000.0,83000.0,40000.0,30996.0,41400.0,10000.0,48000.0,59000.0,65000.0,156000.0,64800.0,40000.0,70000.0,72000.0,38000.0,41000.0,67000.0,35000.0,95000.0,84000.0,34000.0,33000.0,38400.0,68736.0,20400.0,80000.0,75996.0,9600.0,65993.0,24000.0,66500.0,62540.0,60000.0,72000.0,40000.0,36000.0,45500.0,85000.0,69000.0,98000.0,114000.0,24000.0,30000.0,42500.0,54996.0,100000.0,117400.0,102000.0,24000.0,51600.0,21600.0,36000.0,42000.0,73000.0,28560.0,66500.0,30000.0,50000.0,40000.0,45760.0,125000.0,85000.0,28600.0,24000.0,70000.0,77940.0,54000.0,41000.0,260000.0,60000.0,75000.0,79000.0,27000.0,61000.0,48000.0,50000.0,85000.0,31000.0,48000.0,50400.0,39912.0,90000.0,60000.0,55000.0,50000.0,60380.0,468000.0,50000.0,26500.0,67000.0,150000.0,69000.0,43200.0,57500.0,40000.0,60400.0,30000.0,44000.0,44000.0,48000.0,39900.0,42996.0,28000.0,71000.0,135000.0,30720.0,14400.0,24000.0,70000.0,21500.0,37200.0,28685.0,27000.0,34500.0,45450.0,250000.0,102000.0,72000.0,25000.0,34000.0,36000.0,35364.0,304800.0,41600.0,86000.0,65000.0,39500.0,10000.0,20000.0,75000.0,75000.0,32000.0,135000.0,52000.0,35827.0,30000.0,25400.0,69000.0,60000.0,72000.0,75000.0,30000.0,44000.0,40000.0,38400.0,71400.0,166000.0,54000.0,21600.0,103000.0,100000.0,54000.0,14400.0,48000.0,94128.0,22790.0,50000.0,77000.0,72000.0,40000.0,33600.0,70000.0,32000.0,37500.0,100000.0,50000.0,20352.0,80000.0,109000.0,35000.0,20400.0,100000.0,32400.0,60096.0,44000.0,69000.0,65000.0,60000.0,37000.0,42000.0,62000.0,60000.0,200000.0,54000.0,75000.0,117500.0,115000.0,40000.0,46000.0,100000.0,80340.0,48996.0,37000.0,28800.0,86000.0,85000.0,80000.0,54996.0,42000.0,45996.0,30000.0,58000.0,40000.0,30000.0,30000.0,90000.0,21600.0,38832.0,57000.0,84996.0,32640.0,75000.0,33000.0,26400.0,19800.0,85000.0,31000.0,20000.0,96000.0,115000.0,30000.0,62000.0,66000.0,65000.0,45000.0,16400.0,75000.0,96500.0,87000.0,28800.0,100500.0,48000.0,200000.0,48000.0,36000.0,31000.0,77000.0,80000.0,74004.0,23000.0,135000.0,50000.0,18000.0,75000.0,105600.0,105000.0,20000.0,27000.0,57000.0,60000.0,68400.0,90000.0,57936.0,215662.0,23340.0,54000.0,97700.0,93000.0,23000.0,110000.0,52000.0,44000.0,120000.0,36933.0,30000.0,117000.0,61000.0,60000.0,83000.0,55000.0,70000.0,60000.0,38496.0,71000.0,29004.0,71000.0,80000.0,32000.0,110000.0,48996.0,72000.0,35000.0,42000.0,71000.0,74004.0,21600.0,49349.0,87204.0,72100.0,80000.0,35000.0,78996.0,45000.0,16800.0,20000.0,81996.0,69000.0,52000.0,158000.0,95000.0,95000.0,73000.0,48996.0,30000.0,72500.0,50000.0,31200.0,127000.0,85000.0,110000.0,45000.0,60000.0,57000.0,18000.0,49788.0,25000.0,75000.0,48000.0,24000.0,74520.0,62050.0,50200.0,45888.0,100000.0,103000.0,24000.0,104004.0,185000.0,81000.0,59000.0,40000.0,37440.0,120000.0,48996.0,114000.0,55000.0,60000.0,60000.0,29000.0,36000.0,105000.0,45000.0,44000.0,65000.0,72000.0,64000.0,36000.0,34320.0,50000.0,28000.0,32200.0,85920.0,120000.0,65000.0,43000.0,103000.0,54000.0,63000.0,36000.0,60000.0,29200.0,43000.0,28800.0,76500.0,48000.0,67644.0,50300.0,43000.0,39000.0,19200.0,77385.0,52000.0,65000.0,102000.0,46500.0,35000.0,60000.0,19728.0,34000.0,33000.0,40000.0,34000.0,37000.0,81000.0,44894.0,97000.0,60000.0,46000.0,28880.0,75000.0,60000.0,85000.0,33996.0,26400.0,39700.0,25740.0,65000.0,69000.0,48000.0,38004.0,168000.0,75600.0,65000.0,46852.0,159960.0,104000.0,71652.0,125004.0,47125.0,30000.0,33600.0,87000.0,70000.0,36000.0,31000.0,96000.0,30000.0,30000.0,31577.0,30000.0,165000.0,38000.0,65074.0,36000.0,130000.0,40792.0,45000.0,67900.0,42000.0,62352.0,93492.0,58100.0,34000.0,115000.0,22596.0,115000.0,46500.0,46500.0,64548.0,99000.0,36500.0,24996.0,47000.0,90000.0,96000.0,42806.0,27000.0,42000.0,30000.0,55000.0,45288.0,35000.0,50000.0,75000.0,30000.0,49200.0,52700.0,110000.0,45000.0,71004.0,120000.0,28000.0,32000.0,45000.0,57000.0,40000.0,30000.0,102000.0,39000.0,38004.0,36000.0,130992.0,86095.0,69500.0,145000.0,48000.0,53000.0,95000.0,72000.0,52000.0,48000.0,73000.0,34200.0,45468.0,92000.0,54000.0,80000.0,42000.0,33000.0,50000.0,75000.0,114400.0,64000.0,135660.0,150000.0,51000.0,42000.0,52000.0,43680.0,79000.0,44000.0,57000.0,60000.0,62000.0,50400.0,43000.0,29500.0,21000.0,36000.0,75000.0,58000.0,65000.0,59004.0,55000.0,96000.0,60000.0,150000.0,30000.0,45000.0,74000.0,24000.0,40000.0,34444.0,48996.0,56928.0,50000.0,74360.0,42996.0,50000.0,33000.0,708000.0,65000.0,50000.0,48756.0,36000.0,30000.0,45000.0,150000.0,69996.0,56004.0,31164.0,107000.0,24000.0,85000.0,33504.0,74000.0,112000.0,56000.0,20000.0,40269.0,62004.0,110000.0,73992.0,80001.0,61000.0,75000.0,88140.0,180000.0,31000.0,62691.0,340000.0,39896.0,50000.0,90000.0,120000.0,65000.0,55000.0,60000.0,66000.0,72000.0,50364.0,35600.0,24000.0,70000.0,150000.0,155000.0,70000.0,88000.0,117000.0,60000.0,24000.0,60000.0,60000.0,82700.0,50808.0,90000.0,47480.0,60000.0,69743.0,95004.0,67000.0,106000.0,70000.0,35004.0,107450.0,53004.0,60000.0,74000.0,30000.0,26000.0,27000.0,30000.0,18000.0,77000.0,92000.0,70000.0,72000.0,23920.0,100000.0,94350.0,238000.0,26880.0,70000.0,175000.0,120000.0,39270.0,120000.0,60000.0,125000.0,72000.0,29500.0,54000.0,39600.0,74000.0,55000.0,18996.0,126000.0,35400.0,25000.0,38304.0,25000.0,34000.0,44000.0,108000.0,39996.0,52000.0,38400.0,50004.0,30929.0,40246.0,27600.0,38400.0,46800.0,28800.0,95004.0,33900.0,34000.0,100000.0,84996.0,85000.0,98000.0,52000.0,43000.0,12000.0,35000.0,50000.0,33000.0,68000.0,62000.0,38400.0,36000.0,40000.0,54050.0,124000.0,88000.0,32000.0,36000.0,30000.0,32000.0,30000.0,41600.0,26000.0,36000.0,33000.0,85000.0,40750.0,36000.0,120000.0,125000.0,60000.0,92004.0,70000.0,72000.0,78000.0,33600.0,31000.0,52000.0,42000.0,47800.0,83000.0,52044.0,40000.0,14400.0,55000.0,86670.0,34988.0,50000.0,41496.0,21600.0,23400.0,65000.0,40000.0,65280.0,68000.0,32000.0,126000.0,52000.0,110000.0,87000.0,94800.0,56100.0,75000.0,31200.0,47211.0,69000.0,80000.0,42000.0,43800.0,35000.0,64000.0,59578.0,69996.0,40000.0,138000.0,55000.0,80000.0,115000.0,81000.0,76800.0,34482.0,41000.0,38400.0,37680.0,56400.0,90000.0,63000.0,74000.0,62900.0,72000.0,77000.0,70000.0,85000.0,48000.0,36000.0,73500.0,31836.0,54000.0,32000.0,102996.0,64000.0,53000.0,110000.0,75000.0,42000.0,45300.0,200000.0,100000.0,40000.0,58000.0,176000.0,60000.0,70000.0,70000.0,150000.0,73500.0,144500.0,75000.0,32000.0,51500.0,60000.0,50000.0,55000.0,59000.0,38000.0,32004.0,22800.0,75000.0,16000.0,24000.0,70000.0,31200.0,34000.0,56000.0,66000.0,32000.0,37600.0,65000.0,92000.0,68553.0,43000.0,160000.0,42312.0,122400.0,41000.0,30000.0,95327.0,64000.0,31200.0,47652.0,32000.0,55000.0,51000.0,50000.0,39000.0,34800.0,75000.0,32240.0,43000.0,30000.0,37200.0,76320.0,39000.0,30000.0,81600.0,60000.0,53000.0,12000.0,39000.0,70000.0,25000.0,42900.0,45000.0,132444.0,47000.0,42000.0,41000.0,42240.0,55000.0,91000.0,86260.0,400000.0,48000.0,83400.0,56000.0,66996.0,150792.0,30000.0,117000.0,71520.0,39996.0,45000.0,1200000.0,700000.0,61584.0,96000.0,45000.0,44000.0,55000.0,40610.0,80004.0,250000.0,69996.0,61000.0,74400.0,56004.0,192000.0,42000.0,135000.0,108000.0,30000.0,100000.0,86500.0,60000.0,44684.0,24000.0,83000.0,28000.0,108000.0,74000.0,38000.0,47380.0,43200.0,70000.0,35000.0,70000.0,76654.0,42000.0,150000.0,115000.0,38000.0,60353.0,30900.0,70000.0,36000.0,60000.0,38200.0,40000.0,52500.0,52800.0,150000.0,26000.0,124596.0,80000.0,85000.0,55000.0,40944.0,88000.0,45000.0,54000.0,58000.0,49000.0,30000.0,49641.0,132000.0,30000.0,100000.0,54000.0,54000.0,32000.0,18000.0,39600.0,76960.0,30123.0,48609.0,48000.0,48000.0,85000.0,7200.0,14880.0,120000.0,110400.0,36000.0,76000.0,94800.0,46500.0,72000.0,210000.0,80000.0,38400.0,201000.0,31200.0,60350.0,88000.0,45000.0,50000.0,44500.0,42000.0,40000.0,38400.0,55000.0,144000.0,103000.0,36000.0,45000.0,31200.0,66000.0,28800.0,35000.0,108000.0,29376.0,24000.0,40000.0,40000.0,54011.0,40000.0,58000.0,34000.0,37200.0,50000.0,54000.0,46610.0,58000.0,76500.0,54000.0,43495.0,89000.0,46000.0,120000.0,19200.0,54000.0,17280.0,138000.0,32004.0,95000.0,44000.0,19000.0,40000.0,58000.0,130000.0,60000.0,72800.0,80004.0,44000.0,80000.0,75000.0,56000.0,113000.0,75000.0,50000.0,73000.0,25000.0,81600.0,18000.0,87996.0,50000.0,85000.0,72000.0,44400.0,55000.0,125000.0,270000.0,41000.0,72000.0,150000.0,100000.0,27840.0,95028.0,72000.0,80000.0,75000.0,120000.0,43200.0,86376.0,29000.0,24000.0,38268.0,103000.0,35000.0,48000.0,82000.0,35000.0,30188.0,24000.0,32000.0,325000.0,200004.0,54000.0,160000.0,52000.0,38400.0,52800.0,36000.0,136092.0,14400.0,90000.0,70000.0,85500.0,138000.0,55800.0,74000.0,51168.0,73000.0,80000.0,48000.0,40000.0,64000.0,125000.0,83000.0,66000.0,86400.0,28800.0,42230.0,34000.0,42000.0,135000.0,54000.0,60000.0,35000.0,20800.0,31200.0,39000.0,42000.0,300000.0,63000.0,36000.0,82000.0,87550.0,39000.0,52000.0,131400.0,170000.0,48000.0,18000.0,34662.0,90522.0,40000.0,49000.0,48000.0,149385.0,50400.0,55000.0,36000.0,54996.0,44000.0,52703.0,43200.0,126696.0,60000.0,33000.0,77500.0,90722.0,32000.0,20000.0,53950.0,46000.0,38400.0,59000.0,75000.0,100000.0,124992.0,40000.0,55000.0,40000.0,67000.0,41000.0,41000.0,42000.0,92000.0,300000.0,73000.0,70000.0,32000.0,58000.0,45000.0,120000.0,60000.0,87999.0,98000.0,102000.0,94000.0,48000.0,76000.0,88000.0,75000.0,69000.0,93000.0,87550.0,34000.0,32496.0,120000.0,59000.0,79000.0,40000.0,30000.0,30000.0,73000.0,54000.0,60000.0,63000.0,30000.0,56000.0,46000.0,85000.0,60000.0,55512.0,49000.0,70000.0,61000.0,94000.0,37500.0,30000.0,52000.0,90000.0,70000.0,153000.0,50000.0,38469.0,26400.0,43600.0,35000.0,139200.0,75000.0,24000.0,74970.0,104400.0,85992.0,72000.0,60000.0,93200.0,80000.0,90000.0,113000.0,65000.0,43500.0,34000.0,87504.0,111000.0,101400.0,38400.0,57700.0,39270.0,41004.0,133000.0,54600.0,44000.0,102031.0,75500.0,91000.0,48000.0,21600.0,120000.0,90000.0,90000.0,87000.0,64000.0,50000.0,31800.0,56100.0,300000.0,38400.0,65000.0,24000.0,107000.0,33000.0,53000.0,85000.0,36000.0,34000.0,63000.0,40000.0,14400.0,72061.0,75000.0,56472.0,64000.0,65000.0,60000.0,46000.0,140000.0,60000.0,168000.0,49920.0,202000.0,85000.0,69764.0,60000.0,48000.0,31000.0,58650.0,64500.0,90000.0,30000.0,60000.0,74800.0,105000.0,30000.0,71000.0,115000.0,59147.0,54996.0,200000.0,47500.0,70000.0,66560.0,56400.0,60000.0,72000.0,115000.0,50000.0,138000.0,250000.0,25000.0,139380.0,78500.0,41979.0,120000.0,56244.0,62000.0,70000.0,36000.0,30000.0,46800.0,55000.0,55000.0,36000.0,140400.0,36000.0,35375.0,32000.0,69000.0,59000.0,70000.0,36000.0,28800.0,54000.0,32496.0,4800.0,65867.0,39000.0,90000.0,60000.0,36400.0,117000.0,140000.0,35000.0,63996.0,110000.0,54400.0,40050.0,23000.0,102000.0,24000.0,76000.0,20000.0,50000.0,36000.0,78000.0,88000.0,36396.0,60000.0,124000.0,32200.0,33600.0,45500.0,32000.0,51600.0,120000.0,50000.0,21996.0,52000.0,105000.0,116000.0,160000.0,95004.0,12000.0,32878.0,24000.0,68004.0,50000.0,92000.0,89000.0,120000.0,83199.0,71000.0,50000.0,67000.0,40000.0,33000.0,60000.0,92000.0,50000.0,96500.0,30000.0,50000.0,86400.0,107000.0,52000.0,42000.0,50000.0,66000.0,48000.0,80004.0,125000.0,81000.0,72000.0,39996.0,175000.0,62000.0,30000.0,90000.0,120000.0,75000.0,45000.0,40000.0,50000.0,125000.0,36000.0,62000.0,45996.0,115000.0,30000.0,175000.0,61000.0,40000.0,42000.0,68000.0,118000.0,52000.0,85000.0,82650.0,16800.0,77000.0,8500.0,80000.0,29000.0,69950.0,80000.0,30000.0,30000.0,75000.0,115000.0,45996.0,21000.0,96000.0,59000.0,189996.0,134000.0,31000.0,74400.0,85000.0,107800.0,86105.0,45000.0,30996.0,52000.0,30000.0,60000.0,23400.0,51000.0,53000.0,21000.0,45000.0,34000.0,45600.0,26000.0,70000.0,50988.0,60900.0,55000.0,200004.0,90000.0,71004.0,36400.0,60000.0,48000.0,93000.0,73680.0,60000.0,45000.0,85000.0,61000.0,35000.0,90000.0,140000.0,73000.0,36000.0,104000.0,90636.0,30000.0,52800.0,75000.0,112000.0,54000.0,88000.0,25800.0,110400.0,95000.0,38000.0,60000.0,54000.0,45000.0,49344.0,40000.0,105508.0,36000.0,48600.0,96000.0,30000.0,95000.0,36000.0,63000.0,12120.0,110000.0,54000.0,40000.0,103000.0,30000.0,72000.0,31200.0,95000.0,125000.0,43200.0,30900.0,63000.0,103000.0,64000.0,38004.0,100000.0,88000.0,188000.0,69000.0,76000.0,68004.0,55404.0,43000.0,76000.0,116000.0,27996.0,122000.0,35100.0,75000.0,78840.0,30000.0,32000.0,39000.0,29000.0,92652.0,35000.0,30000.0,132640.0,61400.0,47500.0,80000.0,61104.0,54996.0,105000.0,26400.0,50004.0,39000.0,85000.0,49963.0,44000.0,15600.0,50000.0,51492.0,40000.0,25000.0,78600.0,50000.0,44000.0,75000.0,32500.0,55000.0,30000.0,72400.0,66996.0,78000.0,117000.0,59000.0,24996.0,43000.0,59000.0,20400.0,72000.0,60000.0,103000.0,27024.0,43000.0,126000.0,118000.0,59000.0,62500.0,66000.0,57000.0,26400.0,60000.0,56448.0,135000.0,90000.0,41300.0,50000.0,45600.0,26400.0,29004.0,63000.0,30000.0,45000.0,39000.0,35000.0,41000.0,140000.0,34000.0,45000.0,65000.0,76000.0,68000.0,30000.0,61000.0,30960.0,20000.0,40992.0,65000.0,96000.0,77700.0,57000.0,40000.0,42000.0,45000.0,120000.0,31200.0,50000.0,72345.0,99996.0,45000.0,80004.0,120000.0,45000.0,52800.0,73008.0,36000.0,60000.0,70000.0,21600.0,36300.0,38000.0,30000.0,150000.0,52500.0,70000.0,223800.0,82000.0,60000.0,77100.0,115000.0,35000.0,32000.0,100000.0,46000.0,57000.0,80000.0,60000.0,80000.0,65000.0,36000.0,35000.0,125000.0,116000.0,65000.0,34800.0,29000.0,19000.0,125000.0,35000.0,16800.0,34000.0,125000.0,62000.0,72000.0,24000.0,500000.0,50000.0,69000.0,33600.0,51000.0,63900.0,81000.0,113004.0,77000.0,63996.0,79000.0,38000.0,69600.0,36000.0,37740.0,39000.0,50000.0,32918.0,62000.0,38400.0,80000.0,60000.0,130000.0,69000.0,57770.0,120000.0,75000.0,70000.0,50000.0,48840.0,45000.0,130000.0,53000.0,15600.0,96000.0,50000.0,31609.0,38000.0,140000.0,51500.0,45000.0,76800.0,33800.0,48000.0,72500.0,80000.0,30809.0,78000.0,56000.0,55000.0,72000.0,80000.0,105000.0,29004.0,98000.0,63000.0,68000.0,14400.0,200000.0,73163.0,48000.0,33996.0,168952.0,43000.0,48500.0,55000.0,36000.0,75000.0,63000.0,31224.0,28800.0,84240.0,35496.0,21000.0,103200.0,70000.0,54000.0,48000.0,35000.0,96000.0,20000.0,60000.0,90996.0,66996.0,30000.0,68000.0,110000.0,195000.0,68000.0,100505.0,60000.0,72000.0,94000.0,33996.0,70550.0,24000.0,48000.0,60000.0,82000.0,58000.0,82000.0,42000.0,87000.0,90000.0,25000.0,42600.0,200000.0,50000.0,37000.0,55000.0,58000.0,35000.0,68000.0,36000.0,21600.0,79200.0,187000.0,52000.0,82500.0,60000.0,115000.0,59000.0,42000.0,37200.0,73200.0,60000.0,30000.0,100000.0,10000.0,36000.0,60000.0,69000.0,70000.0,36000.0,38400.0,52000.0,48500.0,87996.0,30000.0,55000.0,27000.0,55044.0,42000.0,40000.0,65000.0,58000.0,68400.0,60000.0,34600.0,85000.0,24000.0,305000.0,52000.0,69000.0,22000.0,46000.0,25200.0,44000.0,50000.0,32000.0,60000.0,85000.0,38400.0,82000.0,92000.0,29000.0,10000.0,36000.0,30000.0,86004.0,87000.0,50000.0,87600.0,21324.0,38000.0,88000.0,41000.0,140304.0,56004.0,80000.0,70500.0,41000.0,54000.0,80000.0,28500.0,122500.0,69000.0,80000.0,175000.0,65000.0,58800.0,24000.0,120000.0,93600.0,62400.0,36000.0,90000.0,37000.0,45000.0,52275.0,150000.0,68000.0,65000.0,46000.0,71000.0,41000.0,55000.0,65000.0,36996.0,23766.0,30996.0,35360.0,12816.0,34000.0,70572.0,61000.0,37200.0,38400.0,28800.0,96000.0,20928.0,50000.0,72858.0,33600.0,110000.0,60132.0,48000.0,25000.0,35000.0,35000.0,32000.0,60000.0,55000.0,25200.0,79380.0,75000.0,45000.0,78000.0,66661.0,34000.0,29856.0,39200.0,26500.0,16000.0,75000.0,66920.0,28114.0,200000.0,80000.0,277104.0,69000.0,30000.0,100000.0,24396.0,56000.0,38000.0,106000.0,51600.0,75000.0,21600.0,27000.0,100000.0,65000.0,61200.0,58000.0,27000.0,45240.0,49700.0,55704.0,135000.0,90000.0,80000.0,60000.0,52800.0,50123.0,109500.0,32000.0,45000.0,100000.0,60000.0,54252.0,61000.0,55000.0,22000.0,34999.0,79050.0,105201.0,130000.0,15000.0,28550.0,150500.0,280000.0,75000.0,76000.0,46500.0,25000.0,30000.0,48500.0,66000.0,70000.0,39000.0,40000.0,69600.0,56000.0,79000.0,74000.0,115500.0,102000.0,92000.0,15600.0,84000.0,53760.0,30792.0,48000.0,45000.0,50000.0,84996.0,45000.0,336000.0,44160.0,39500.0,50000.0,75000.0,92000.0,48000.0,80000.0,67200.0,62400.0,27000.0,50000.0,42000.0,97750.0,110000.0,95950.0,32000.0,71000.0,55000.0,60000.0,100000.0,49560.0,91000.0,85000.0,30000.0,96000.0,35000.0,52000.0,129996.0,55000.0,79500.0,69996.0,94700.0,48000.0,26004.0,90000.0,40000.0,14400.0,60000.0,86500.0,53000.0,90000.0,29000.0,78000.0,50000.0,109000.0,46800.0,35000.0,67147.0,97188.0,53500.0,43200.0,47760.0,113000.0,108000.0,30000.0,25000.0,18287.0,14400.0,23000.0,30000.0,40000.0,50400.0,122000.0,55000.0,125000.0,68000.0,95000.0,29000.0,75000.0,75000.0,15600.0,74000.0,42179.0,34000.0,43680.0,11000.0,40000.0,190000.0,32500.0,73000.0,130000.0,78000.0,32652.0,58000.0,30000.0,48000.0,65000.0,54000.0,83000.0,75000.0,35000.0,65000.0,94500.0,63000.0,65000.0,75000.0,106000.0,49500.0,115000.0,65000.0,110000.0,91800.0,49200.0,60000.0,125000.0,40000.0,57000.0,120000.0,19200.0,57500.0,94000.0,33000.0,58650.0,499800.0,57500.0,68000.0,65000.0,49000.0,30000.0,48000.0,80000.0,210000.0,36000.0,102000.0,32000.0,53000.0,56000.0,33600.0,41600.0,70000.0,85000.0,49800.0,200000.0,50000.0,31000.0,95000.0,119000.0,75000.0,53000.0,111000.0,120000.0,64656.0,115000.0,40000.0,55000.0,29136.0,81000.0,48528.0,83600.0,61000.0,113000.0,306000.0,36000.0,61100.0,45000.0,91000.0,75000.0,43000.0,85000.0,55000.0,48000.0,40704.0,112000.0,178000.0,40000.0,50000.0,65000.0,74000.0,40000.0,86502.0,53000.0,140000.0,29500.0,39000.0,44000.0,62500.0,70000.0,50285.0,66125.0,90000.0,27036.0,65000.0,65004.0,21000.0,47000.0,60000.0,55000.0,38500.0,54000.0,60000.0,60000.0,69936.0,69867.0,30000.0,57000.0,37596.0,32000.0,47000.0,70000.0,34500.0,77000.0,45000.0,32000.0,108000.0,73000.0,35100.0,24000.0,58327.0,41000.0,70000.0,19200.0,95000.0,115000.0,39000.0,61000.0,36000.0,79500.0,26100.0,88000.0,45000.0,138000.0,45000.0,39000.0,50000.0,42500.0,53000.0,74909.0,37500.0,48000.0,30000.0,60000.0,48000.0,32647.0,48000.0,45000.0,31000.0,120000.0,54996.0,36900.0,75000.0,50000.0,122000.0,45000.0,66000.0,78000.0,55000.0,72000.0,32000.0,70000.0,55000.0,46000.0,52000.0,48000.0,81000.0,24000.0,55000.0,36500.0,33888.0,28500.0,65000.0,140000.0,38000.0,120000.0,74628.0,65000.0,52000.0,50000.0,75000.0,30000.0,190000.0,35000.0,76500.0,90000.0,35000.0,45000.0,28800.0,48000.0,96000.0,38688.0,105000.0,25000.0,24000.0,44000.0,60000.0,36000.0,76000.0,71496.0,48000.0,136000.0,102240.0,74000.0,68004.0,39000.0,36000.0,83768.0,62000.0,56000.0,72000.0,34800.0,58000.0,52000.0,115000.0,65000.0,50004.0,30000.0,26000.0,50000.0,87000.0,77000.0,40800.0,106000.0,45678.0,35000.0,44000.0,43200.0,83000.0,65158.0,51500.0,108000.0,84000.0,35000.0,44000.0,30000.0,36000.0,67000.0,91000.0,60000.0,72000.0,12000.0,115200.0,24000.0,119700.0,108041.0,43000.0,59000.0,42000.0,50000.0,145000.0,38000.0,70000.0,60000.0,30000.0,68480.0,100000.0,110000.0,122004.0,46000.0,96408.0,47000.0,157500.0,100000.0,44000.0,52000.0,50000.0,39500.0,64312.0,25000.0,73200.0,54000.0,70000.0,44000.0,77268.0,74000.0,55308.0,50000.0,56004.0,116000.0,89000.0,27048.0,50000.0,59964.0,12600.0,32956.0,91800.0,20008.0,145000.0,60000.0,65000.0,160000.0,45000.0,85000.0,59617.0,74000.0,50000.0,50000.0,53000.0,47000.0,43500.0,54000.0,58000.0,59000.0,32000.0,122000.0,28800.0,48000.0,20800.0,65000.0,200004.0,35000.0,36000.0,74758.0,54000.0,50004.0,58650.0,30636.0,36000.0,160000.0,75000.0,70800.0,55000.0,45000.0,79000.0,57408.0,54996.0,97000.0,140000.0,36000.0,40000.0,87292.0,86004.0,95610.0,110000.0,44000.0,20400.0,17280.0,53000.0,27600.0,88000.0,82500.0,204000.0,60000.0,48000.0,52000.0,37392.0,100000.0,60000.0,120456.0,60000.0,60000.0,52000.0,110000.0,70000.0,55000.0,30000.0,83000.0,65000.0,42000.0,88000.0,44004.0,101000.0,40000.0,40000.0,77100.0,43633.0,288000.0,75000.0,36000.0,74400.0,60000.0,40000.0,45000.0,92904.0,65000.0,48000.0,58600.0,72000.0,45600.0,74000.0,42360.0,58951.0,119000.0,78000.0,204000.0,15000.0,120000.0,24000.0,57744.0,25000.0,55000.0,48500.0,89000.0,148716.0,22800.0,36000.0,43150.0,72000.0,81204.0,50000.0,48048.0,73000.0,46300.0,45000.0,164000.0,105000.0,58000.0,34000.0,88000.0,36000.0,80266.0,102000.0,28000.0,28000.0,65000.0,74000.0,54000.0,57996.0,125004.0,35000.0,93000.0,62000.0,33000.0,60000.0,42000.0,62100.0,39996.0,78500.0,39600.0,100000.0,43992.0,26880.0,78000.0,75500.0,48000.0,100000.0,39000.0,40000.0,84000.0,51000.0,425000.0,42000.0,75000.0,35000.0,71000.0,60000.0,80000.0,105400.0,55200.0,79560.0,44000.0,90000.0,48000.0,26400.0,24000.0,55784.0,46000.0,97000.0,46113.0,60000.0,91800.0,67000.0,30000.0,260000.0,159000.0,44000.0,46776.0,41000.0,48000.0,30000.0,40000.0,69600.0,54000.0,80000.0,50000.0,90000.0,39996.0,41000.0,135600.0,60000.0,47233.0,40000.0,49500.0,65000.0,75600.0,60000.0,40000.0,110000.0,24000.0,80000.0,45000.0,107806.0,84996.0,27800.0,20000.0,85000.0,75000.0,56030.0,200000.0,25200.0,42000.0,50000.0,60040.0,45756.0,56400.0,45996.0,53000.0,14400.0,33000.0,50426.0,148000.0,64000.0,70000.0,39996.0,49200.0,30000.0,42000.0,27052.0,28080.0,60000.0,55000.0,38000.0,51300.0,24000.0,57664.0,33600.0,55000.0,87700.0,105600.0,53000.0,19764.0,30000.0,42900.0,35000.0,36000.0,40000.0,70000.0,69000.0,30000.0,50004.0,20400.0,54000.0,58000.0,60000.0,75000.0,39996.0,71520.0,42000.0,20000.0,34000.0,68000.0,35000.0,58000.0,128000.0,120000.0,53800.0,132000.0,64800.0,30000.0,31200.0,90000.0,38000.0,130000.0,70000.0,37200.0,84400.0,51000.0,19200.0,30500.0,83000.0,140000.0,70900.0,65379.0,52250.0,30000.0,52000.0,51300.0,74000.0,50000.0,24000.0,36000.0,80000.0,100000.0,47000.0,108600.0,30000.0,54600.0,40000.0,70000.0,103000.0,20000.0,33004.0,86004.0,35100.0,30000.0,88200.0,36000.0,61000.0,26004.0,96000.0,18000.0,44400.0,30000.0,90000.0,82300.0,125004.0,67500.0,60140.0,90000.0,56000.0,85000.0,100000.0,40000.0,70000.0,31200.0,38000.0,34500.0,96000.0,38400.0,90000.0,24000.0,54000.0,30000.0,80000.0,30000.0,93000.0,85000.0,120000.0,55000.0,99400.0,14004.0,90000.0,52500.0,137000.0,52000.0,74999.0,60000.0,54000.0,22000.0,41004.0,69360.0,45000.0,40000.0,97000.0,36000.0,57000.0,34000.0,33600.0,70000.0,69000.0,30000.0,46500.0,70000.0,123000.0,86000.0,130000.0,36000.0,30500.0,19200.0,50000.0,44000.0,65900.0,78885.0,65000.0,136000.0,120000.0,48000.0,22406.0,30000.0,74000.0,69000.0,75000.0,42996.0,132000.0,86700.0,110000.0,56000.0,43949.0,38244.0,40000.0,32004.0,40000.0,39600.0,9600.0,100000.0,25200.0,40000.0,238000.0,50000.0,80400.0,15000.0,25920.0,30000.0,95000.0,34000.0,80000.0,48000.0,95000.0,114000.0,50000.0,65496.0,87600.0,15000.0,40000.0,113000.0,109000.0,58500.0,28000.0,60000.0,44000.0,39000.0,37200.0,66000.0,185000.0,105000.0,68004.0,62400.0,63750.0,92300.0,79631.0,30000.0,34000.0,31200.0,85000.0,39000.0,45000.0,85000.0,33600.0,76000.0,350000.0,52000.0,48000.0,93000.0,75000.0,88970.0,45000.0,100000.0,30000.0,78000.0,105018.0,30000.0,57996.0,144000.0,120640.0,72000.0,249996.0,42000.0,35000.0,24960.0,27000.0,193000.0,70000.0,56000.0,85000.0,93000.0,72000.0,28800.0,60000.0,66000.0,25000.0,74004.0,26000.0,75000.0,80000.0,48000.0,30000.0,54000.0,91000.0,112500.0,24000.0,40000.0,64000.0,54000.0,56950.0,60000.0,99000.0,56650.0,55000.0,37000.0,40000.0,25200.0,46325.0,50000.0,68000.0,62000.0,43200.0,64000.0,35000.0,111147.0,40000.0,53000.0,60000.0,84996.0,40000.0,73000.0,57000.0,26000.0,54400.0,64000.0,80000.0,67171.0,120000.0,63200.0,62400.0,75000.0,40000.0,38000.0,38100.0,78000.0,51000.0,14400.0,65000.0,80000.0,91800.0,67000.0,43000.0,44000.0,74029.0,36000.0,52000.0,86000.0,100000.0,48000.0,30000.0,59000.0,46000.0,90000.0,48000.0,29120.0,54000.0,62000.0,63000.0,390000.0,72000.0,29004.0,116000.0,69500.0,44000.0,55000.0,70000.0,189000.0,82000.0,48000.0,33000.0,68750.0,96500.0,98000.0,52000.0,36276.0,260000.0,60000.0,40000.0,73909.0,52000.0,74000.0,63000.0,35000.0,62467.0,54000.0,60000.0,122000.0,72000.0,99996.0,32000.0,33195.0,34000.0,56000.0,40000.0,19600.0,96900.0,168000.0,130000.0,38000.0,27996.0,49000.0,60000.0,90000.0,71000.0,42000.0,53500.0,80000.0,90000.0,56700.0,54000.0,42000.0,49000.0,53295.0,20160.0,105859.0,175000.0,36000.0,75000.0,44000.0,216000.0,30000.0,56004.0,35000.0,70600.0,120000.0,123000.0,58000.0,127741.0,64000.0,34040.0,140987.0,110000.0,75000.0,240000.0,35004.0,66725.0,16800.0,124500.0,35000.0,70000.0,50000.0,50600.0,53000.0,74000.0,39000.0,80000.0,57000.0,100000.0,87800.0,51000.0,105000.0,45000.0,50500.0,30712.0,82570.0,62400.0,44500.0,47581.0,36000.0,28800.0,33000.0,110000.0,65000.0,75000.0,57000.0,65800.0,44160.0,62900.0,54000.0,34800.0,60000.0,45000.0,75000.0,110000.0,111150.0,55000.0,69000.0,60000.0,248735.0,78000.0,36100.0,66888.0,200000.0,18000.0,108000.0,45000.0,30857.0,45000.0,82350.0,60000.0,50000.0,44094.0,65000.0,31000.0,87000.0,63324.0,59000.0,57800.0,91000.0,42000.0,39000.0,130000.0,65000.0,180000.0,86000.0,40800.0,171996.0,100000.0,55000.0,48876.0,53616.0,55000.0,45100.0,115000.0,27040.0,59000.0,98000.0,81000.0,78000.0,98000.0,82000.0,49074.0,36000.0,104000.0,66000.0,69204.0,174000.0,148000.0,48000.0,79632.0,155000.0,76000.0,85000.0,15523.0,97000.0,62050.0,51000.0,64000.0,18500.0,15120.0,44000.0,147000.0,26400.0,97000.0,46852.0,34000.0,10800.0,60000.0,38500.0,62400.0,90000.0,73000.0,70000.0,45000.0,12600.0,40000.0,99300.0,65000.0,60000.0,42000.0,64800.0,73000.0,34400.0,56650.0,76554.0,100000.0,70000.0,19896.0,55000.0,49000.0,135000.0,92004.0,95000.0,124886.0,70000.0,40500.0,77000.0,35004.0,30720.0,19200.0,125000.0,75000.0,80000.0,19200.0,20000.0,36000.0,72000.0,112500.0,44000.0,66000.0,27000.0,12000.0,120000.0,45000.0,90000.0,60000.0,64800.0,57240.0,54000.0,48996.0,52000.0,135000.0,25788.0,32340.0,73000.0,91800.0,120000.0,85000.0,68000.0,75852.0,200000.0,27000.0,43000.0,46000.0,76000.0,83000.0,24000.0,39000.0,30000.0,97000.0,80000.0,48000.0,60000.0,80000.0,65000.0,67000.0,71400.0,120600.0,32496.0,40000.0,30000.0,250000.0,63000.0,150000.0,55000.0,40000.0,99996.0,30840.0,75000.0,32000.0,79536.0,32450.0,82008.0,31000.0,165000.0,107000.0,54000.0,96000.0,105000.0,75000.0,60000.0,45600.0,16000.0,39600.0,21000.0,69000.0,60000.0,40000.0,34000.0,76066.0,180000.0,60000.0,115000.0,60000.0,39689.0,41000.0,80000.0,49000.0,45000.0,69600.0,44000.0,28800.0,60000.0,67000.0,68000.0,38000.0,75400.0,276000.0,63000.0,75000.0,60000.0,36000.0,51600.0,85000.0,140000.0,40000.0,50000.0,27600.0,38400.0,90000.0,96000.0,36000.0,18000.0,52300.0,42000.0,45000.0,80000.0,45000.0,50000.0,48000.0,54000.0,12000.0,80004.0,62500.0,37260.0,35000.0,56004.0,81000.0,19200.0,60000.0,35010.0,45000.0,55000.0,57335.0,49000.0,84000.0,34320.0,50000.0,65004.0,35000.0,64600.0,97000.0,35000.0,66000.0,80748.0,25200.0,59300.0,69000.0,67000.0,30000.0,42000.0,56525.0,130000.0,33280.0,31200.0,30000.0,36000.0,65000.0,85000.0,28800.0,42000.0,33000.0,35000.0,25920.0,59000.0,57500.0,24000.0,143000.0,30000.0,64800.0,84000.0,35000.0,45000.0,80832.0,43300.0,89610.0,28000.0,54072.0,80400.0,52400.0,24000.0,61200.0,97000.0,110000.0,20000.0,90000.0,52000.0,60000.0,42000.0,95000.0,61615.0,61425.0,100000.0,70000.0,50000.0,68848.0,44400.0,130000.0,110000.0,55000.0,74678.0,33600.0,60000.0,20000.0,28000.0,63000.0,87360.0,30000.0,70000.0,21000.0,36500.0,17688.0,26400.0,35004.0,65000.0,40000.0,39000.0,43680.0,45000.0,72000.0,25000.0,29000.0,19200.0,50000.0,24000.0,26976.0,11389.0,22000.0,80000.0,155000.0,40000.0,53636.0,55000.0,36400.0,62400.0,45000.0,50000.0,60000.0,130000.0,6000.0,34500.0,60000.0,44004.0,54000.0,115000.0,145000.0,65200.0,35000.0,62500.0,60000.0,74000.0,88000.0,55000.0,70000.0,36000.0,12000.0,49000.0,78386.0,41600.0,52000.0,112000.0,58000.0,30000.0,35000.0,69996.0,48000.0,64800.0,21000.0,57000.0,60000.0,48000.0,40000.0,105000.0,39000.0,90000.0,61776.0,48100.0,56000.0,56000.0,75400.0,60000.0,150000.0,44000.0,120000.0,46392.0,99750.0,60000.0,62500.0,47000.0,77700.0,70000.0,18204.0,62000.0,28800.0,85000.0,28500.0,48000.0,19404.0,70000.0,84996.0,65000.0,30000.0,36500.0,52000.0,100000.0,42252.0,36600.0,32000.0,30000.0,77500.0,32000.0,56100.0,69996.0,60000.0,29700.0,55000.0,26000.0,30000.0,33500.0,145000.0,68000.0,118000.0,45204.0,86748.0,54000.0,102489.0,55000.0,84000.0,32400.0,130000.0,50000.0,43000.0,78000.0,5500.0,76800.0,53500.0,43000.0,84000.0,12000.0,65000.0,38400.0,60000.0,39996.0,52000.0,135000.0,38400.0,36000.0,15000.0,60000.0,50000.0,30000.0,69000.0,42500.0,40000.0,141000.0,19200.0,76000.0,86000.0,56000.0,30000.0,14000.0,54000.0,76200.0,67000.0,114000.0,43000.0,52000.0,37000.0,58000.0,95620.0,60000.0,210000.0,16800.0,43200.0,54000.0,52000.0,19000.0,66000.0,31200.0,140000.0,45000.0,91200.0,97700.0,53796.0,130000.0,91000.0,75000.0,38904.0,33000.0,39000.0,69900.0,52000.0,116400.0,126000.0,37000.0,83000.0,23040.0,104525.0,37950.0,109000.0,108000.0,27024.0,31500.0,37076.0,60000.0,42000.0,30000.0,54000.0,160000.0,87000.0,75000.0,24000.0,74880.0,57000.0,48000.0,59000.0,45000.0,33600.0,37342.0,30000.0,36000.0,167000.0,92000.0,36000.0,48000.0,39336.0,70000.0,66000.0,78000.0,50000.0,42000.0,80004.0,93000.0,45000.0,54000.0,25062.0,28000.0,70000.0,56000.0,57000.0,105500.0,81204.0,200000.0,49400.0,60000.0,63000.0,44000.0,43000.0,44000.0,57692.0,115752.0,70000.0,75000.0,28000.0,80000.0,103000.0,109000.0,31000.0,74000.0,66300.0,35000.0,28000.0,145000.0,99000.0,67400.0,142000.0,80171.0,60000.0,54000.0,75638.0,34000.0,85000.0,25000.0,36000.0,45000.0,60000.0,33000.0,52000.0,27996.0,80000.0,70000.0,60000.0,40000.0,35392.0,95000.0,82000.0,100000.0,39000.0,95000.0,24000.0,96000.0,75000.0,55000.0,50004.0,62000.0,52000.0,57996.0,90000.0,82000.0,100000.0,112200.0,38000.0,54000.0,83000.0,39000.0,55692.0,250000.0,40800.0,275000.0,85000.0,57000.0,83300.0,54000.0,35000.0,51200.0,65000.0,81500.0,95000.0,50000.0,65000.0,40000.0,35000.0,60000.0,70000.0,108000.0,127992.0,48000.0,63000.0,38000.0,24091.0,25000.0,43000.0,62050.0,42000.0,31200.0,115000.0,104000.0,72000.0,20664.0,227500.0,76000.0,27500.0,37004.0,57000.0,56888.0,120000.0,54000.0,48000.0,52000.0,26124.0,12000.0,45000.0,66000.0,88000.0,79000.0,33280.0,13200.0,34000.0,19200.0,67000.0,45000.0,60000.0,43200.0,95000.0,120000.0,30000.0,107800.0,29120.0,41628.0,68900.0,55000.0,28000.0,61959.0,50000.0,34999.0,65004.0,90000.0,50004.0,52000.0,59000.0,60000.0,35000.0,57000.0,110000.0,45500.0,13273.0,75000.0,80070.0,92000.0,17352.0,200000.0,139000.0,37000.0,75000.0,50000.0,55000.0,165000.0,38000.0,51000.0,54996.0,75000.0,40000.0,65000.0,100000.0,27852.0,54996.0,46000.0,40000.0,24000.0,39000.0,25000.0,96000.0,84000.0,46000.0,51000.0,50055.0,21600.0,38000.0,68000.0,60000.0,90000.0,25000.0,89250.0,60000.0,40800.0,60000.0,65000.0,41464.0,40000.0,26000.0,63000.0,62100.0,51000.0,200000.0,51000.0,39000.0,40000.0,21000.0,45489.0,28800.0,30000.0,90000.0,50000.0,65000.0,42000.0,65000.0,22440.0,228000.0,70000.0,69000.0,69805.0,250000.0,72000.0,43200.0,44000.0,125000.0,30000.0,120000.0,70000.0,60000.0,72000.0,90444.0,150000.0,100000.0,30000.0,19200.0,51298.0,24000.0,68000.0,39600.0,60000.0,52000.0,26729.0,66215.0,42000.0,42682.0,107000.0,50100.0,80000.0,101877.0,91000.0,55000.0,69108.0,90000.0,100000.0,75689.0,70000.0,87000.0,95000.0,16800.0,56000.0,142000.0,450000.0,21000.0,30000.0,112000.0,36000.0,56500.0,74800.0,26000.0,59004.0,18000.0,85000.0,45996.0,55000.0,64000.0,214200.0,50000.0,68000.0,55000.0,82000.0,125000.0,55344.0,60589.0,123000.0,54548.0,56000.0,145000.0,120000.0,84000.0,48000.0,77000.0,90000.0,69000.0,171870.0,140000.0,33000.0,45000.0,35000.0,55000.0,20000.0,56100.0,25000.0,51600.0,250000.0,81000.0,48000.0,86652.0,48000.0,52000.0,42500.0,44000.0,30000.0,70000.0,50000.0,66000.0,48000.0,125000.0,87000.0,30000.0,49200.0,28284.0,36156.0,153000.0,72500.0,58800.0,36000.0,24000.0,40000.0,132000.0,50004.0,27000.0,25000.0,87000.0,57000.0,33321.0,59000.0,60000.0,48000.0,32500.0,92000.0,56000.0,42000.0,231252.0,39000.0,84000.0,30000.0,49536.0,42000.0,27000.0,24000.0,30000.0,50000.0,56000.0,35880.0,40000.0,87000.0,30000.0,66800.0,66000.0,32400.0,45516.0,35000.0,110000.0,80000.0,62500.0,90000.0,38000.0,78700.0,80004.0,44000.0,30000.0,50000.0,52000.0,82000.0,92000.0,50000.0,59000.0,37000.0,113300.0,34500.0,100000.0,70000.0,52000.0,47000.0,32000.0,99996.0,50000.0,23000.0,45000.0,89849.0,48000.0,89520.0,52000.0,72000.0,62496.0,80000.0,96000.0,30000.0,48000.0,56000.0,55600.0,63600.0,40000.0,28800.0,66000.0,65061.0,35000.0,52500.0,25000.0,34000.0,31200.0,34400.0,43000.0,70560.0,86000.0,140000.0,62500.0,62204.0,30000.0,53000.0,90000.0,24000.0,14000.0,17500.0,63844.0,47000.0,69000.0,48996.0,75800.0,30000.0,115000.0,37000.0,35000.0,12000.0,56755.0,75000.0,52000.0,70000.0,55008.0,44700.0,46400.0,42240.0,30000.0,30000.0,35000.0,123000.0,42000.0,80000.0,37200.0,50000.0,51000.0,101500.0,60000.0,90000.0,36000.0,59000.0,71000.0,71700.0,80100.0,60000.0,40000.0,48000.0,30000.0,78000.0,85000.0,62500.0,67200.0,135000.0,160000.0,50000.0,40000.0,80004.0,42000.0,55000.0,46000.0,29000.0,128000.0,50000.0,88000.0,46500.0,43000.0,18720.0,60000.0,51996.0,200000.0,76800.0,80004.0,70000.0,20000.0,45000.0,96000.0,112976.0,58000.0,33396.0,33996.0,64000.0,44400.0,91500.0,110000.0,33600.0,79000.0,70550.0,64600.0,120000.0,108000.0,45000.0,42000.0,35000.0,57460.0,53004.0,30000.0,30000.0,30000.0,62004.0,34000.0,50000.0,38000.0,105000.0,52800.0,195000.0,59000.0,62361.0,24000.0,44875.0,26000.0,43200.0,103000.0,64000.0,96000.0,33996.0,75000.0,85850.0,79200.0,49000.0,65004.0,53000.0,41000.0,82000.0,70000.0,27560.0,81000.0,223000.0,100400.0,35000.0,80000.0,94200.0,61000.0,65000.0,40000.0,21600.0,54000.0,65000.0,48000.0,65000.0,58000.0,83000.0,85000.0,52000.0,36000.0,60000.0,54000.0,45000.0,64500.0,82500.0,33000.0,45000.0,60000.0,205000.0,45300.0,33800.0,44760.0,66725.0,44000.0,52000.0,95000.0,63000.0,68000.0,67200.0,90000.0,38500.0,56655.0,50000.0,43680.0,54000.0,30000.0,34000.0,30000.0,50000.0,120000.0,39000.0,33000.0,69500.0,108000.0,225000.0,45000.0,34980.0,98000.0,18000.0,54503.0,30000.0,100000.0,75573.0,27500.0,95000.0,62500.0,96000.0,44000.0,34200.0,52000.0,69000.0,200000.0,80000.0,28800.0,46000.0,59004.0,50000.0,130000.0,18576.0,25000.0,35000.0,40000.0,75000.0,86800.0,41892.0,59500.0,44000.0,47000.0,81996.0,25000.0,130000.0,58000.0,31000.0,42000.0,65000.0,33000.0,425000.0,89004.0,34000.0,82000.0,140000.0,60996.0,37000.0,41000.0,63000.0,42996.0,56000.0,60000.0,75000.0,125000.0,65000.0,99996.0,50400.0,72000.0,47000.0,23700.0,25200.0,130000.0,79416.0,70000.0,32004.0,33000.0,42000.0,100000.0,75000.0,32000.0,56000.0,37423.0,55000.0,35000.0,65000.0,60000.0,44000.0,35300.0,120000.0,44000.0,29000.0,62004.0,37008.0,10560.0,44000.0,42000.0,41000.0,70356.0,150000.0,75000.0,36100.0,42500.0,25000.0,55000.0,83000.0,55000.0,96000.0,90000.0,52000.0,42000.0,32352.0,39000.0,53000.0,27600.0,55000.0,780000.0,85000.0,31000.0,38667.0,43200.0,39000.0,69504.0,46000.0,100000.0,52000.0,50000.0,165000.0,68000.0,95000.0,50000.0,53774.0,48000.0,62000.0,70000.0,44400.0,140000.0,64000.0,51000.0,160000.0,56000.0,119500.0,30996.0,74500.0,30000.0,170000.0,50000.0,115731.0,51500.0,75000.0,72000.0,32400.0,22800.0,67000.0,48526.0,130000.0,43200.0,36750.0,15000.0,42320.0,59000.0,92000.0,25000.0,28000.0,42597.0,93000.0,30000.0,62500.0,45600.0,38000.0,120000.0,48000.0,90000.0,54000.0,85000.0,40000.0,45000.0,53000.0,72400.0,73527.0,55000.0,99275.0,26000.0,56000.0,44000.0,59497.0,60000.0,20160.0,55160.0,25000.0,26000.0,54000.0,38000.0,60000.0,92000.0,48000.0,51492.0,201000.0,48000.0,27600.0,41718.0,98000.0,58000.0,64151.0,53100.0,62500.0,22000.0,36960.0,122880.0,30000.0,52800.0,40320.0,84000.0,85000.0,49000.0,36000.0,123000.0,77000.0,31200.0,70000.0,56000.0,120000.0,53000.0,105000.0,42000.0,65000.0,90000.0,100016.0,80000.0,75000.0,33000.0,20000.0,18456.0,90000.0,70000.0,20000.0,44000.0,41000.0,72000.0,39996.0,36000.0,30000.0,140000.0,42000.0,60000.0,75000.0,70000.0,30000.0,28800.0,89849.0,41000.0,97000.0,47000.0,43000.0,39000.0,54000.0,60000.0,65453.0,55900.0,108000.0,44500.0,75000.0,125000.0,60000.0,70000.0,77940.0,89000.0,60000.0,71000.0,108202.0,65000.0,111000.0,79800.0,55000.0,17004.0,42000.0,180000.0,59500.0,36000.0,24000.0,69996.0,60000.0,33000.0,80000.0,36000.0,26004.0,50000.0,26400.0,59000.0,110000.0,85000.0,82000.0,54000.0,70553.0,38400.0,47000.0,50000.0,33288.0,67000.0,36000.0,220000.0,80004.0,69000.0,68400.0,60000.0,70000.0,74784.0,22800.0,21312.0,50740.0,50000.0,47000.0,69000.0,23400.0,178000.0,47000.0,85000.0,50000.0,138000.0,29120.0,30000.0,38000.0,30000.0,144000.0,47000.0,28000.0,113000.0,85000.0,83000.0,30000.0,44000.0,75000.0,40000.0,90000.0,55000.0,54000.0,84695.0,25200.0,100000.0,31000.0,77368.0,50000.0,39600.0,85000.0,60000.0,119000.0,24960.0,19498.0,65000.0,34320.0,182500.0,70000.0,40000.0,85272.0,66300.0,58650.0,93000.0,180000.0,60000.0,80000.0,50000.0,108000.0,96636.0,62000.0,130000.0,58000.0,24000.0,108000.0,75000.0,26000.0,34992.0,37080.0,67350.0,42000.0,75000.0,62400.0,39000.0,36000.0,30000.0,27600.0,47000.0,65000.0,93500.0,156000.0,69996.0,60000.0,136000.0,91200.0,75000.0,30000.0,32468.0,48686.0,80000.0,100000.0,54996.0,55000.0,15300.0,70500.0,46000.0,38000.0,75000.0,54000.0,135000.0,51000.0,56004.0,53000.0,75000.0,66000.0,65000.0,55488.0,110000.0,50000.0,60000.0,14400.0,35000.0,44000.0,30000.0,54000.0,22800.0,52260.0,63000.0,74400.0,20400.0,72000.0,65000.0,64956.0,48000.0,52000.0,30000.0,25200.0,40000.0,41725.0,48750.0,49000.0,48996.0,150000.0,50700.0,42000.0,20000.0,120000.0,100000.0,78000.0,28800.0,24000.0,18835.0,130000.0,130000.0,55000.0,52000.0,80000.0,30000.0,78204.0,80000.0,101000.0,53000.0,48000.0,80000.0,30000.0,42000.0,40000.0,60000.0,21000.0,24000.0,57000.0,40000.0,32960.0,58000.0,120000.0,96000.0,68000.0,108000.0,15600.0,48000.0,80500.0,130000.0,200000.0,80000.0,20664.0,78000.0,51780.0,30200.0,60000.0,98000.0,44908.0,58000.0,31000.0,50000.0,29000.0,35000.0,51000.0,24000.0,72000.0,31200.0,108000.0,69996.0,59000.0,42500.0,53000.0,70000.0,71400.0,42765.0,54000.0,300000.0,85000.0,101000.0,51000.0,56331.0,44500.0,45000.0,94837.0,44000.0,42000.0,110000.0,65000.0,48000.0,52000.0,85000.0,45600.0,48000.0,64000.0,51000.0,35000.0,45000.0,30000.0,63000.0,92000.0,40000.0,123000.0,125004.0,78000.0,53000.0,50000.0,65000.0,80000.0,48000.0,54000.0,28800.0,75000.0,38000.0,54586.0,73440.0,96000.0,100000.0,36000.0,35004.0,61500.0,140000.0,29000.0,110000.0,36000.0,44000.0,92000.0,52188.0,40000.0,78000.0,75000.0,85000.0,54000.0,83604.0,36100.0,48235.0,24000.0,55000.0,46500.0,60000.0,92000.0,74000.0,100000.0,45000.0,62000.0,80400.0,48000.0,30000.0,40000.0,12000.0,32400.0,42000.0,110000.0,22000.0,60675.0,65000.0,70000.0,24000.0,37200.0,78000.0,37000.0,62000.0,210000.0,60000.0,160000.0,47000.0,28320.0,54996.0,65000.0,96000.0,73000.0,82600.0,21600.0,96000.0,59000.0,120000.0,150000.0,24996.0,108000.0,29730.0,127000.0,45432.0,43500.0,36000.0,44960.0,55000.0,78000.0,25000.0,113135.0,55070.0,150000.0,42000.0,45000.0,75000.0,31000.0,90000.0,23624.0,74872.0,54000.0,65004.0,42000.0,90000.0,114000.0,96000.0,100300.0,108639.0,79872.0,91500.0,78000.0,72000.0,30000.0,36000.0,75000.0,90000.0,35000.0,91000.0,65000.0,41300.0,110000.0,130000.0,80500.0,58000.0,25000.0,57000.0,138000.0,80000.0,27040.0,54000.0,65000.0,54996.0,56000.0,61498.0,18000.0,42000.0,43680.0,92000.0,60000.0,55000.0,140000.0,42600.0,75000.0,90000.0,28800.0,57000.0,30000.0,52000.0,83500.0,60000.0,54000.0,45000.0,91000.0,70000.0,68000.0,56000.0,22000.0,7200.0,52000.0,31400.0,129700.0,32000.0,75000.0,35427.0,49510.0,100000.0,77078.0,120000.0,50000.0,34099.0,42000.0,27000.0,62000.0,27600.0,29000.0,110000.0,43000.0,37500.0,30288.0,88800.0,63211.0,160000.0,19968.0,75000.0,30000.0,46809.0,52000.0,32220.0,57000.0,50000.0,65544.0,54000.0,140004.0,42200.0,62910.0,120000.0,24000.0,71400.0,100000.0,45000.0,78000.0,57192.0,42000.0,66560.0,35000.0,97000.0,74400.0,50000.0,110000.0,46560.0,101877.0,69000.0,28596.0,52692.0,120000.0,65219.0,65000.0,85000.0,45000.0,15000.0,36000.0,115000.0,27996.0,44000.0,70000.0,25000.0,46200.0,52000.0,73000.0,114000.0,25800.0,78000.0,31000.0,66000.0,60000.0,79996.0,53000.0,21000.0,68000.0,80000.0,151200.0,19200.0,54000.0,62165.0,81600.0,55000.0,69000.0,54000.0,28800.0,105500.0,54000.0,57500.0,85000.0,23000.0,72000.0,100000.0,83000.0,42000.0,60000.0,84000.0,90000.0,41000.0,78000.0,61000.0,28800.0,54833.0,29406.0,31000.0,77976.0,72000.0,50000.0,100000.0,144000.0,141000.0,45000.0,79992.0,64000.0,30000.0,75000.0,66000.0,43000.0,40000.0,53155.0,85000.0,70000.0,60000.0,48000.0,80000.0,41664.0,12000.0,65000.0,48000.0,13200.0,15600.0,70000.0,23004.0,83000.0,80000.0,94000.0,51480.0,61200.0,106870.0,76800.0,50000.0,30000.0,74346.0,125000.0,165000.0,53321.0,102000.0,49000.0,300000.0,77496.0,135000.0,42000.0,244800.0,75360.0,42000.0,21600.0,49200.0,78096.0,41998.0,70000.0,68000.0,139992.0,51000.0,15120.0,51500.0,42000.0,15000.0,150000.0,45600.0,30000.0,30000.0,81996.0,35000.0,31000.0,55365.0,72000.0,126996.0,54996.0,87000.0,50000.0,75000.0,60000.0,62500.0,30000.0,34000.0,100000.0,65000.0,28600.0,30000.0,44000.0,50000.0,55000.0,36000.0,59000.0,65000.0,30000.0,81900.0,66300.0,35000.0,95000.0,65000.0,85000.0,63000.0,32000.0,100000.0,52240.0,69600.0,52800.0,65000.0,60000.0,100000.0,14400.0,46000.0,30000.0,20000.0,244000.0,35000.0,45000.0,72204.0,23587.0,65000.0,44000.0,24000.0,75000.0,145000.0,54000.0,89250.0,133000.0,75000.0,51996.0,54500.0,87000.0,69790.0,44000.0,36000.0,80000.0,60000.0,63000.0,36000.0,49000.0,48000.0,62400.0,108000.0,46200.0,138000.0,24960.0,63402.0,47000.0,57600.0,51996.0,40800.0,46000.0,76000.0,110000.0,65144.0,117014.0,67500.0,34000.0,49152.0,61440.0,59506.0,25000.0,300000.0,29000.0,103000.0,33000.0,94050.0,11029.0,76000.0,57000.0,24000.0,33204.0,80000.0,34000.0,69000.0,76500.0,61615.0,108000.0,49000.0,23040.0,15996.0,58000.0,28150.0,54996.0,60000.0,120000.0,46000.0,54120.0,75000.0,41508.0,60000.0,30000.0,36400.0,61800.0,28000.0,31000.0,66000.0,96050.0,47500.0,65000.0,28000.0,44975.0,75000.0,61300.0,71004.0,60000.0,30000.0,70000.0,154000.0,30000.0,53000.0,48000.0,58000.0,155142.0,123000.0,33600.0,60072.0,48000.0,34000.0,48000.0,72000.0,40000.0,36000.0,50000.0,90000.0,36000.0,79100.0,80490.0,40000.0,120000.0,201000.0,39000.0,24000.0,46000.0,33000.0,75000.0,110000.0,200000.0,83236.0,48756.0,88000.0,69000.0,95000.0,36000.0,132000.0,100000.0,132000.0,95000.0,108000.0,69476.0,86000.0,42000.0,34000.0,40000.0,85000.0,44000.0,218000.0,46000.0,59004.0,200000.0,38000.0,80000.0,62500.0,36250.0,50400.0,30000.0,114000.0,26300.0,171194.0,86000.0,42000.0,60996.0,52569.0,160000.0,38000.0,105000.0,55000.0,38400.0,61360.0,33204.0,65000.0,40000.0,40000.0,21000.0,30000.0,45000.0,153660.0,29000.0,115000.0,145000.0,105000.0,75288.0,240000.0,93218.0,19200.0,95000.0,56000.0,38168.0,60000.0,46144.0,90000.0,62000.0,55000.0,54000.0,96000.0,220836.0,114996.0,58000.0,58600.0,138000.0,168288.0,42000.0,52000.0,42000.0,31000.0,50000.0,39996.0,26880.0,120000.0,23000.0,48000.0,60000.0,72000.0,30000.0,40000.0,72500.0,120000.0,100000.0,61200.0,50000.0,87000.0,148750.0,36500.0,88000.0,88900.0,23004.0,42000.0,42996.0,25000.0,75000.0,98000.0,37200.0,83000.0,83000.0,60000.0,612000.0,54000.0,39672.0,76000.0,200000.0,42000.0,40000.0,226000.0,170000.0,29004.0,40000.0,58000.0,33000.0,21000.0,100000.0,55600.0,90000.0,38400.0,78132.0,120000.0,45000.0,82500.0,42000.0,186996.0,31440.0,40499.0,28800.0,30000.0,100000.0,52000.0,40000.0,45000.0,38000.0,66480.0,35000.0,34000.0,54000.0,150000.0,35000.0,62472.0,26004.0,48996.0,66000.0,98000.0,37000.0,48000.0,86610.0,65000.0,106000.0,114750.0,36000.0,26400.0,66000.0,78000.0,117000.0,45756.0,44000.0,31200.0,62000.0,12000.0,115000.0,45000.0,60000.0,48000.0,40000.0,27996.0,68400.0,15600.0,108000.0,90000.0,90000.0,62400.0,114000.0,42000.0,30000.0,110000.0,79000.0,40800.0,58800.0,24000.0,80690.0,44640.0,75000.0,75000.0,84000.0,66000.0,30000.0,61000.0,55000.0,42000.0,112000.0,74880.0,35000.0,66847.0,54000.0,30297.0,70000.0,44000.0,28000.0,79000.0,50004.0,36000.0,49000.0,55000.0,19000.0,36000.0,62000.0,43000.0,90000.0,106000.0,65000.0,37000.0,42000.0,77000.0,38000.0,39000.0,300000.0,38000.0,95000.0,39000.0,110000.0,30000.0,40581.0,33000.0,100000.0,30000.0,115000.0,75000.0,105000.0,49548.0,130000.0,39240.0,70000.0,19000.0,26785.0,57600.0,62900.0,160000.0,155000.0,34977.0,70000.0,200000.0,38000.0,95000.0,30000.0,47000.0,24044.0,31200.0,50004.0,75000.0,30000.0,40800.0,92000.0,76000.0,140000.0,60000.0,71000.0,34000.0,96000.0,40000.0,80000.0,19200.0,20800.0,26208.0,45000.0,150000.0,65000.0,28000.0,39000.0,70000.0,150000.0,54000.0,64000.0,27996.0,110000.0,39000.0,54383.0,98000.0,101500.0,552000.0,68000.0,74000.0,54500.0,55000.0,82600.0,73660.0,75000.0,44000.0,33504.0,43812.0,109000.0,52700.0,75000.0,112000.0,91800.0,23000.0,96000.0,130000.0,66887.0,38000.0,108000.0,21120.0,64000.0,34416.0,13380.0,75000.0,14500.0,50000.0,80000.0,25000.0,78000.0,80000.0,32500.0,45000.0,115000.0,64999.0,50000.0,35500.0,20000.0,70000.0,71000.0,75000.0,39000.0,90000.0,36000.0,57000.0,54996.0,90000.0,105000.0,24000.0,108000.0,69000.0,65004.0,58000.0,70522.0,52000.0,115000.0,20000.0,48000.0,90000.0,56400.0,62000.0,195000.0,54000.0,73000.0,18460.0,80000.0,47000.0,64000.0,98518.0,105804.0,50000.0,70000.0,130000.0,46000.0,15996.0,88000.0],\"y0\":\" \",\"yaxis\":\"y\",\"type\":\"box\"}],                        {\"template\":{\"data\":{\"bar\":[{\"error_x\":{\"color\":\"#2a3f5f\"},\"error_y\":{\"color\":\"#2a3f5f\"},\"marker\":{\"line\":{\"color\":\"#E5ECF6\",\"width\":0.5},\"pattern\":{\"fillmode\":\"overlay\",\"size\":10,\"solidity\":0.2}},\"type\":\"bar\"}],\"barpolar\":[{\"marker\":{\"line\":{\"color\":\"#E5ECF6\",\"width\":0.5},\"pattern\":{\"fillmode\":\"overlay\",\"size\":10,\"solidity\":0.2}},\"type\":\"barpolar\"}],\"carpet\":[{\"aaxis\":{\"endlinecolor\":\"#2a3f5f\",\"gridcolor\":\"white\",\"linecolor\":\"white\",\"minorgridcolor\":\"white\",\"startlinecolor\":\"#2a3f5f\"},\"baxis\":{\"endlinecolor\":\"#2a3f5f\",\"gridcolor\":\"white\",\"linecolor\":\"white\",\"minorgridcolor\":\"white\",\"startlinecolor\":\"#2a3f5f\"},\"type\":\"carpet\"}],\"choropleth\":[{\"colorbar\":{\"outlinewidth\":0,\"ticks\":\"\"},\"type\":\"choropleth\"}],\"contour\":[{\"colorbar\":{\"outlinewidth\":0,\"ticks\":\"\"},\"colorscale\":[[0.0,\"#0d0887\"],[0.1111111111111111,\"#46039f\"],[0.2222222222222222,\"#7201a8\"],[0.3333333333333333,\"#9c179e\"],[0.4444444444444444,\"#bd3786\"],[0.5555555555555556,\"#d8576b\"],[0.6666666666666666,\"#ed7953\"],[0.7777777777777778,\"#fb9f3a\"],[0.8888888888888888,\"#fdca26\"],[1.0,\"#f0f921\"]],\"type\":\"contour\"}],\"contourcarpet\":[{\"colorbar\":{\"outlinewidth\":0,\"ticks\":\"\"},\"type\":\"contourcarpet\"}],\"heatmap\":[{\"colorbar\":{\"outlinewidth\":0,\"ticks\":\"\"},\"colorscale\":[[0.0,\"#0d0887\"],[0.1111111111111111,\"#46039f\"],[0.2222222222222222,\"#7201a8\"],[0.3333333333333333,\"#9c179e\"],[0.4444444444444444,\"#bd3786\"],[0.5555555555555556,\"#d8576b\"],[0.6666666666666666,\"#ed7953\"],[0.7777777777777778,\"#fb9f3a\"],[0.8888888888888888,\"#fdca26\"],[1.0,\"#f0f921\"]],\"type\":\"heatmap\"}],\"heatmapgl\":[{\"colorbar\":{\"outlinewidth\":0,\"ticks\":\"\"},\"colorscale\":[[0.0,\"#0d0887\"],[0.1111111111111111,\"#46039f\"],[0.2222222222222222,\"#7201a8\"],[0.3333333333333333,\"#9c179e\"],[0.4444444444444444,\"#bd3786\"],[0.5555555555555556,\"#d8576b\"],[0.6666666666666666,\"#ed7953\"],[0.7777777777777778,\"#fb9f3a\"],[0.8888888888888888,\"#fdca26\"],[1.0,\"#f0f921\"]],\"type\":\"heatmapgl\"}],\"histogram\":[{\"marker\":{\"pattern\":{\"fillmode\":\"overlay\",\"size\":10,\"solidity\":0.2}},\"type\":\"histogram\"}],\"histogram2d\":[{\"colorbar\":{\"outlinewidth\":0,\"ticks\":\"\"},\"colorscale\":[[0.0,\"#0d0887\"],[0.1111111111111111,\"#46039f\"],[0.2222222222222222,\"#7201a8\"],[0.3333333333333333,\"#9c179e\"],[0.4444444444444444,\"#bd3786\"],[0.5555555555555556,\"#d8576b\"],[0.6666666666666666,\"#ed7953\"],[0.7777777777777778,\"#fb9f3a\"],[0.8888888888888888,\"#fdca26\"],[1.0,\"#f0f921\"]],\"type\":\"histogram2d\"}],\"histogram2dcontour\":[{\"colorbar\":{\"outlinewidth\":0,\"ticks\":\"\"},\"colorscale\":[[0.0,\"#0d0887\"],[0.1111111111111111,\"#46039f\"],[0.2222222222222222,\"#7201a8\"],[0.3333333333333333,\"#9c179e\"],[0.4444444444444444,\"#bd3786\"],[0.5555555555555556,\"#d8576b\"],[0.6666666666666666,\"#ed7953\"],[0.7777777777777778,\"#fb9f3a\"],[0.8888888888888888,\"#fdca26\"],[1.0,\"#f0f921\"]],\"type\":\"histogram2dcontour\"}],\"mesh3d\":[{\"colorbar\":{\"outlinewidth\":0,\"ticks\":\"\"},\"type\":\"mesh3d\"}],\"parcoords\":[{\"line\":{\"colorbar\":{\"outlinewidth\":0,\"ticks\":\"\"}},\"type\":\"parcoords\"}],\"pie\":[{\"automargin\":true,\"type\":\"pie\"}],\"scatter\":[{\"marker\":{\"colorbar\":{\"outlinewidth\":0,\"ticks\":\"\"}},\"type\":\"scatter\"}],\"scatter3d\":[{\"line\":{\"colorbar\":{\"outlinewidth\":0,\"ticks\":\"\"}},\"marker\":{\"colorbar\":{\"outlinewidth\":0,\"ticks\":\"\"}},\"type\":\"scatter3d\"}],\"scattercarpet\":[{\"marker\":{\"colorbar\":{\"outlinewidth\":0,\"ticks\":\"\"}},\"type\":\"scattercarpet\"}],\"scattergeo\":[{\"marker\":{\"colorbar\":{\"outlinewidth\":0,\"ticks\":\"\"}},\"type\":\"scattergeo\"}],\"scattergl\":[{\"marker\":{\"colorbar\":{\"outlinewidth\":0,\"ticks\":\"\"}},\"type\":\"scattergl\"}],\"scattermapbox\":[{\"marker\":{\"colorbar\":{\"outlinewidth\":0,\"ticks\":\"\"}},\"type\":\"scattermapbox\"}],\"scatterpolar\":[{\"marker\":{\"colorbar\":{\"outlinewidth\":0,\"ticks\":\"\"}},\"type\":\"scatterpolar\"}],\"scatterpolargl\":[{\"marker\":{\"colorbar\":{\"outlinewidth\":0,\"ticks\":\"\"}},\"type\":\"scatterpolargl\"}],\"scatterternary\":[{\"marker\":{\"colorbar\":{\"outlinewidth\":0,\"ticks\":\"\"}},\"type\":\"scatterternary\"}],\"surface\":[{\"colorbar\":{\"outlinewidth\":0,\"ticks\":\"\"},\"colorscale\":[[0.0,\"#0d0887\"],[0.1111111111111111,\"#46039f\"],[0.2222222222222222,\"#7201a8\"],[0.3333333333333333,\"#9c179e\"],[0.4444444444444444,\"#bd3786\"],[0.5555555555555556,\"#d8576b\"],[0.6666666666666666,\"#ed7953\"],[0.7777777777777778,\"#fb9f3a\"],[0.8888888888888888,\"#fdca26\"],[1.0,\"#f0f921\"]],\"type\":\"surface\"}],\"table\":[{\"cells\":{\"fill\":{\"color\":\"#EBF0F8\"},\"line\":{\"color\":\"white\"}},\"header\":{\"fill\":{\"color\":\"#C8D4E3\"},\"line\":{\"color\":\"white\"}},\"type\":\"table\"}]},\"layout\":{\"annotationdefaults\":{\"arrowcolor\":\"#2a3f5f\",\"arrowhead\":0,\"arrowwidth\":1},\"autotypenumbers\":\"strict\",\"coloraxis\":{\"colorbar\":{\"outlinewidth\":0,\"ticks\":\"\"}},\"colorscale\":{\"diverging\":[[0,\"#8e0152\"],[0.1,\"#c51b7d\"],[0.2,\"#de77ae\"],[0.3,\"#f1b6da\"],[0.4,\"#fde0ef\"],[0.5,\"#f7f7f7\"],[0.6,\"#e6f5d0\"],[0.7,\"#b8e186\"],[0.8,\"#7fbc41\"],[0.9,\"#4d9221\"],[1,\"#276419\"]],\"sequential\":[[0.0,\"#0d0887\"],[0.1111111111111111,\"#46039f\"],[0.2222222222222222,\"#7201a8\"],[0.3333333333333333,\"#9c179e\"],[0.4444444444444444,\"#bd3786\"],[0.5555555555555556,\"#d8576b\"],[0.6666666666666666,\"#ed7953\"],[0.7777777777777778,\"#fb9f3a\"],[0.8888888888888888,\"#fdca26\"],[1.0,\"#f0f921\"]],\"sequentialminus\":[[0.0,\"#0d0887\"],[0.1111111111111111,\"#46039f\"],[0.2222222222222222,\"#7201a8\"],[0.3333333333333333,\"#9c179e\"],[0.4444444444444444,\"#bd3786\"],[0.5555555555555556,\"#d8576b\"],[0.6666666666666666,\"#ed7953\"],[0.7777777777777778,\"#fb9f3a\"],[0.8888888888888888,\"#fdca26\"],[1.0,\"#f0f921\"]]},\"colorway\":[\"#636efa\",\"#EF553B\",\"#00cc96\",\"#ab63fa\",\"#FFA15A\",\"#19d3f3\",\"#FF6692\",\"#B6E880\",\"#FF97FF\",\"#FECB52\"],\"font\":{\"color\":\"#2a3f5f\"},\"geo\":{\"bgcolor\":\"white\",\"lakecolor\":\"white\",\"landcolor\":\"#E5ECF6\",\"showlakes\":true,\"showland\":true,\"subunitcolor\":\"white\"},\"hoverlabel\":{\"align\":\"left\"},\"hovermode\":\"closest\",\"mapbox\":{\"style\":\"light\"},\"paper_bgcolor\":\"white\",\"plot_bgcolor\":\"#E5ECF6\",\"polar\":{\"angularaxis\":{\"gridcolor\":\"white\",\"linecolor\":\"white\",\"ticks\":\"\"},\"bgcolor\":\"#E5ECF6\",\"radialaxis\":{\"gridcolor\":\"white\",\"linecolor\":\"white\",\"ticks\":\"\"}},\"scene\":{\"xaxis\":{\"backgroundcolor\":\"#E5ECF6\",\"gridcolor\":\"white\",\"gridwidth\":2,\"linecolor\":\"white\",\"showbackground\":true,\"ticks\":\"\",\"zerolinecolor\":\"white\"},\"yaxis\":{\"backgroundcolor\":\"#E5ECF6\",\"gridcolor\":\"white\",\"gridwidth\":2,\"linecolor\":\"white\",\"showbackground\":true,\"ticks\":\"\",\"zerolinecolor\":\"white\"},\"zaxis\":{\"backgroundcolor\":\"#E5ECF6\",\"gridcolor\":\"white\",\"gridwidth\":2,\"linecolor\":\"white\",\"showbackground\":true,\"ticks\":\"\",\"zerolinecolor\":\"white\"}},\"shapedefaults\":{\"line\":{\"color\":\"#2a3f5f\"}},\"ternary\":{\"aaxis\":{\"gridcolor\":\"white\",\"linecolor\":\"white\",\"ticks\":\"\"},\"baxis\":{\"gridcolor\":\"white\",\"linecolor\":\"white\",\"ticks\":\"\"},\"bgcolor\":\"#E5ECF6\",\"caxis\":{\"gridcolor\":\"white\",\"linecolor\":\"white\",\"ticks\":\"\"}},\"title\":{\"x\":0.05},\"xaxis\":{\"automargin\":true,\"gridcolor\":\"white\",\"linecolor\":\"white\",\"ticks\":\"\",\"title\":{\"standoff\":15},\"zerolinecolor\":\"white\",\"zerolinewidth\":2},\"yaxis\":{\"automargin\":true,\"gridcolor\":\"white\",\"linecolor\":\"white\",\"ticks\":\"\",\"title\":{\"standoff\":15},\"zerolinecolor\":\"white\",\"zerolinewidth\":2}}},\"xaxis\":{\"anchor\":\"y\",\"domain\":[0.0,1.0]},\"yaxis\":{\"anchor\":\"x\",\"domain\":[0.0,1.0],\"title\":{\"text\":\"salario_anual\"}},\"legend\":{\"tracegroupgap\":0},\"title\":{\"text\":\"Sal\\u00e1rio Anual\"},\"boxmode\":\"group\",\"height\":800,\"width\":400},                        {\"responsive\": true}                    ).then(function(){\n",
              "                            \n",
              "var gd = document.getElementById('1d79d0ca-e87e-4455-bad2-c69278a6307a');\n",
              "var x = new MutationObserver(function (mutations, observer) {{\n",
              "        var display = window.getComputedStyle(gd).display;\n",
              "        if (!display || display === 'none') {{\n",
              "            console.log([gd, 'removed!']);\n",
              "            Plotly.purge(gd);\n",
              "            observer.disconnect();\n",
              "        }}\n",
              "}});\n",
              "\n",
              "// Listen for the removal of the full notebook cells\n",
              "var notebookContainer = gd.closest('#notebook-container');\n",
              "if (notebookContainer) {{\n",
              "    x.observe(notebookContainer, {childList: true});\n",
              "}}\n",
              "\n",
              "// Listen for the clearing of the current output cell\n",
              "var outputEl = gd.closest('.output');\n",
              "if (outputEl) {{\n",
              "    x.observe(outputEl, {childList: true});\n",
              "}}\n",
              "\n",
              "                        })                };                            </script>        </div>\n",
              "</body>\n",
              "</html>"
            ]
          },
          "metadata": {}
        }
      ]
    },
    {
      "cell_type": "markdown",
      "source": [
        "Através das visualizações gráficas, consegue-se traçar um valor adequado para remoção dos outliers:"
      ],
      "metadata": {
        "id": "oRrbCw5khpPd"
      }
    },
    {
      "cell_type": "code",
      "source": [
        "dados.loc[dados['salario_anual'] > 708000]"
      ],
      "metadata": {
        "colab": {
          "base_uri": "https://localhost:8080/",
          "height": 357
        },
        "id": "7oeycIrkh00x",
        "outputId": "699244d6-9055-4f83-e44d-dd0b400a905b"
      },
      "execution_count": 24,
      "outputs": [
        {
          "output_type": "execute_result",
          "data": {
            "text/plain": [
              "      id_solicitante  id_emprestimo   id_historico  idade  salario_anual  \\\n",
              "1047   Ar7Oxvb7-rnkd  hWQNMz4h-v2Wp  XM3UmgFj-dvKF     58       780000.0   \n",
              "1141   az7F1xnL-UL2H  96vWekFR-LYky  jZzZ0B9T-61wx     37       900000.0   \n",
              "3812   ewmv3lNA-tdBE  Gq6rlqeY-Z6wX  mz4kSDoN-0LjI     32      1200000.0   \n",
              "7778   LFb7vx4w-ExT0  YkB2LWBD-vGlb  8xHEjTNt-J9lJ     36      1200000.0   \n",
              "11148  gyazrNi4-JlmT  1wULKeKh-I2Fu  aTE63UgZ-1K36     58       780000.0   \n",
              "\n",
              "      situacao_imovel  anos_empregado motivo_emprestimo pontuacao_emprestimo  \\\n",
              "1047         Mortgage               7          Personal                    A   \n",
              "1141         Mortgage               5          Personal                    C   \n",
              "3812         Mortgage               1           Venture                    A   \n",
              "7778              Own              16           Medical                    A   \n",
              "11148        Mortgage               7          Personal                    A   \n",
              "\n",
              "       total_a_emprestar  juros  possibilidade_inadimplencia  \\\n",
              "1047              4500.0   6.91                            0   \n",
              "1141             25000.0  12.87                            0   \n",
              "3812             12000.0   7.51                            0   \n",
              "7778             10000.0   6.54                            0   \n",
              "11148             4500.0   6.91                            0   \n",
              "\n",
              "       percentual_emprestimo_renda ja_foi_inadimplente  anos_de_credito  \n",
              "1047                          0.01                   N               20  \n",
              "1141                          0.03                   Y               13  \n",
              "3812                          0.01                   N                8  \n",
              "7778                          0.01                   N               11  \n",
              "11148                         0.01                   N               19  "
            ],
            "text/html": [
              "\n",
              "  <div id=\"df-84b2c91c-fa48-46e5-93a1-f68b139da58c\">\n",
              "    <div class=\"colab-df-container\">\n",
              "      <div>\n",
              "<style scoped>\n",
              "    .dataframe tbody tr th:only-of-type {\n",
              "        vertical-align: middle;\n",
              "    }\n",
              "\n",
              "    .dataframe tbody tr th {\n",
              "        vertical-align: top;\n",
              "    }\n",
              "\n",
              "    .dataframe thead th {\n",
              "        text-align: right;\n",
              "    }\n",
              "</style>\n",
              "<table border=\"1\" class=\"dataframe\">\n",
              "  <thead>\n",
              "    <tr style=\"text-align: right;\">\n",
              "      <th></th>\n",
              "      <th>id_solicitante</th>\n",
              "      <th>id_emprestimo</th>\n",
              "      <th>id_historico</th>\n",
              "      <th>idade</th>\n",
              "      <th>salario_anual</th>\n",
              "      <th>situacao_imovel</th>\n",
              "      <th>anos_empregado</th>\n",
              "      <th>motivo_emprestimo</th>\n",
              "      <th>pontuacao_emprestimo</th>\n",
              "      <th>total_a_emprestar</th>\n",
              "      <th>juros</th>\n",
              "      <th>possibilidade_inadimplencia</th>\n",
              "      <th>percentual_emprestimo_renda</th>\n",
              "      <th>ja_foi_inadimplente</th>\n",
              "      <th>anos_de_credito</th>\n",
              "    </tr>\n",
              "  </thead>\n",
              "  <tbody>\n",
              "    <tr>\n",
              "      <th>1047</th>\n",
              "      <td>Ar7Oxvb7-rnkd</td>\n",
              "      <td>hWQNMz4h-v2Wp</td>\n",
              "      <td>XM3UmgFj-dvKF</td>\n",
              "      <td>58</td>\n",
              "      <td>780000.0</td>\n",
              "      <td>Mortgage</td>\n",
              "      <td>7</td>\n",
              "      <td>Personal</td>\n",
              "      <td>A</td>\n",
              "      <td>4500.0</td>\n",
              "      <td>6.91</td>\n",
              "      <td>0</td>\n",
              "      <td>0.01</td>\n",
              "      <td>N</td>\n",
              "      <td>20</td>\n",
              "    </tr>\n",
              "    <tr>\n",
              "      <th>1141</th>\n",
              "      <td>az7F1xnL-UL2H</td>\n",
              "      <td>96vWekFR-LYky</td>\n",
              "      <td>jZzZ0B9T-61wx</td>\n",
              "      <td>37</td>\n",
              "      <td>900000.0</td>\n",
              "      <td>Mortgage</td>\n",
              "      <td>5</td>\n",
              "      <td>Personal</td>\n",
              "      <td>C</td>\n",
              "      <td>25000.0</td>\n",
              "      <td>12.87</td>\n",
              "      <td>0</td>\n",
              "      <td>0.03</td>\n",
              "      <td>Y</td>\n",
              "      <td>13</td>\n",
              "    </tr>\n",
              "    <tr>\n",
              "      <th>3812</th>\n",
              "      <td>ewmv3lNA-tdBE</td>\n",
              "      <td>Gq6rlqeY-Z6wX</td>\n",
              "      <td>mz4kSDoN-0LjI</td>\n",
              "      <td>32</td>\n",
              "      <td>1200000.0</td>\n",
              "      <td>Mortgage</td>\n",
              "      <td>1</td>\n",
              "      <td>Venture</td>\n",
              "      <td>A</td>\n",
              "      <td>12000.0</td>\n",
              "      <td>7.51</td>\n",
              "      <td>0</td>\n",
              "      <td>0.01</td>\n",
              "      <td>N</td>\n",
              "      <td>8</td>\n",
              "    </tr>\n",
              "    <tr>\n",
              "      <th>7778</th>\n",
              "      <td>LFb7vx4w-ExT0</td>\n",
              "      <td>YkB2LWBD-vGlb</td>\n",
              "      <td>8xHEjTNt-J9lJ</td>\n",
              "      <td>36</td>\n",
              "      <td>1200000.0</td>\n",
              "      <td>Own</td>\n",
              "      <td>16</td>\n",
              "      <td>Medical</td>\n",
              "      <td>A</td>\n",
              "      <td>10000.0</td>\n",
              "      <td>6.54</td>\n",
              "      <td>0</td>\n",
              "      <td>0.01</td>\n",
              "      <td>N</td>\n",
              "      <td>11</td>\n",
              "    </tr>\n",
              "    <tr>\n",
              "      <th>11148</th>\n",
              "      <td>gyazrNi4-JlmT</td>\n",
              "      <td>1wULKeKh-I2Fu</td>\n",
              "      <td>aTE63UgZ-1K36</td>\n",
              "      <td>58</td>\n",
              "      <td>780000.0</td>\n",
              "      <td>Mortgage</td>\n",
              "      <td>7</td>\n",
              "      <td>Personal</td>\n",
              "      <td>A</td>\n",
              "      <td>4500.0</td>\n",
              "      <td>6.91</td>\n",
              "      <td>0</td>\n",
              "      <td>0.01</td>\n",
              "      <td>N</td>\n",
              "      <td>19</td>\n",
              "    </tr>\n",
              "  </tbody>\n",
              "</table>\n",
              "</div>\n",
              "      <button class=\"colab-df-convert\" onclick=\"convertToInteractive('df-84b2c91c-fa48-46e5-93a1-f68b139da58c')\"\n",
              "              title=\"Convert this dataframe to an interactive table.\"\n",
              "              style=\"display:none;\">\n",
              "        \n",
              "  <svg xmlns=\"http://www.w3.org/2000/svg\" height=\"24px\"viewBox=\"0 0 24 24\"\n",
              "       width=\"24px\">\n",
              "    <path d=\"M0 0h24v24H0V0z\" fill=\"none\"/>\n",
              "    <path d=\"M18.56 5.44l.94 2.06.94-2.06 2.06-.94-2.06-.94-.94-2.06-.94 2.06-2.06.94zm-11 1L8.5 8.5l.94-2.06 2.06-.94-2.06-.94L8.5 2.5l-.94 2.06-2.06.94zm10 10l.94 2.06.94-2.06 2.06-.94-2.06-.94-.94-2.06-.94 2.06-2.06.94z\"/><path d=\"M17.41 7.96l-1.37-1.37c-.4-.4-.92-.59-1.43-.59-.52 0-1.04.2-1.43.59L10.3 9.45l-7.72 7.72c-.78.78-.78 2.05 0 2.83L4 21.41c.39.39.9.59 1.41.59.51 0 1.02-.2 1.41-.59l7.78-7.78 2.81-2.81c.8-.78.8-2.07 0-2.86zM5.41 20L4 18.59l7.72-7.72 1.47 1.35L5.41 20z\"/>\n",
              "  </svg>\n",
              "      </button>\n",
              "      \n",
              "  <style>\n",
              "    .colab-df-container {\n",
              "      display:flex;\n",
              "      flex-wrap:wrap;\n",
              "      gap: 12px;\n",
              "    }\n",
              "\n",
              "    .colab-df-convert {\n",
              "      background-color: #E8F0FE;\n",
              "      border: none;\n",
              "      border-radius: 50%;\n",
              "      cursor: pointer;\n",
              "      display: none;\n",
              "      fill: #1967D2;\n",
              "      height: 32px;\n",
              "      padding: 0 0 0 0;\n",
              "      width: 32px;\n",
              "    }\n",
              "\n",
              "    .colab-df-convert:hover {\n",
              "      background-color: #E2EBFA;\n",
              "      box-shadow: 0px 1px 2px rgba(60, 64, 67, 0.3), 0px 1px 3px 1px rgba(60, 64, 67, 0.15);\n",
              "      fill: #174EA6;\n",
              "    }\n",
              "\n",
              "    [theme=dark] .colab-df-convert {\n",
              "      background-color: #3B4455;\n",
              "      fill: #D2E3FC;\n",
              "    }\n",
              "\n",
              "    [theme=dark] .colab-df-convert:hover {\n",
              "      background-color: #434B5C;\n",
              "      box-shadow: 0px 1px 3px 1px rgba(0, 0, 0, 0.15);\n",
              "      filter: drop-shadow(0px 1px 2px rgba(0, 0, 0, 0.3));\n",
              "      fill: #FFFFFF;\n",
              "    }\n",
              "  </style>\n",
              "\n",
              "      <script>\n",
              "        const buttonEl =\n",
              "          document.querySelector('#df-84b2c91c-fa48-46e5-93a1-f68b139da58c button.colab-df-convert');\n",
              "        buttonEl.style.display =\n",
              "          google.colab.kernel.accessAllowed ? 'block' : 'none';\n",
              "\n",
              "        async function convertToInteractive(key) {\n",
              "          const element = document.querySelector('#df-84b2c91c-fa48-46e5-93a1-f68b139da58c');\n",
              "          const dataTable =\n",
              "            await google.colab.kernel.invokeFunction('convertToInteractive',\n",
              "                                                     [key], {});\n",
              "          if (!dataTable) return;\n",
              "\n",
              "          const docLinkHtml = 'Like what you see? Visit the ' +\n",
              "            '<a target=\"_blank\" href=https://colab.research.google.com/notebooks/data_table.ipynb>data table notebook</a>'\n",
              "            + ' to learn more about interactive tables.';\n",
              "          element.innerHTML = '';\n",
              "          dataTable['output_type'] = 'display_data';\n",
              "          await google.colab.output.renderOutput(dataTable, element);\n",
              "          const docLink = document.createElement('div');\n",
              "          docLink.innerHTML = docLinkHtml;\n",
              "          element.appendChild(docLink);\n",
              "        }\n",
              "      </script>\n",
              "    </div>\n",
              "  </div>\n",
              "  "
            ]
          },
          "metadata": {},
          "execution_count": 24
        }
      ]
    },
    {
      "cell_type": "markdown",
      "source": [
        "Removendo outliers do dataset:"
      ],
      "metadata": {
        "id": "B3uQfviejzVF"
      }
    },
    {
      "cell_type": "code",
      "source": [
        "dados.drop([1047, 1141, 3812, 7778, 11148], inplace=True)"
      ],
      "metadata": {
        "id": "rm5gVJl6j8ZM"
      },
      "execution_count": 25,
      "outputs": []
    },
    {
      "cell_type": "markdown",
      "source": [
        "Reavaliando visualizações gráficas:"
      ],
      "metadata": {
        "id": "JVAkm7uBstbo"
      }
    },
    {
      "cell_type": "code",
      "source": [
        "import seaborn as sns\n",
        "\n",
        "ax = sns.displot(dados['salario_anual'], kde= True)\n",
        "ax.set(xlabel= 'Salário Anual', ylabel= 'Densidade', title= 'Distribuição do Salário Anual')\n",
        "ax.figure.set_size_inches(12,8)"
      ],
      "metadata": {
        "colab": {
          "base_uri": "https://localhost:8080/",
          "height": 568
        },
        "id": "DeHTRLICslao",
        "outputId": "d9a922e6-fab4-4e7c-b0b8-1b65862d4081"
      },
      "execution_count": 26,
      "outputs": [
        {
          "output_type": "display_data",
          "data": {
            "text/plain": [
              "<Figure size 864x576 with 1 Axes>"
            ],
            "image/png": "[encoded data removed]"
          },
          "metadata": {
            "needs_background": "light"
          }
        }
      ]
    },
    {
      "cell_type": "code",
      "source": [
        "import plotly.express as px\n",
        "\n",
        "fig = px.box(dados, \n",
        "             y=\"salario_anual\",\n",
        "             width=400,\n",
        "             height=800,\n",
        "             title = 'Salário Anual')\n",
        "fig.show()"
      ],
      "metadata": {
        "colab": {
          "base_uri": "https://localhost:8080/",
          "height": 817
        },
        "id": "Y7wpAJwQsZEQ",
        "outputId": "70477a74-9e26-498d-be6b-6d7abfde0b43"
      },
      "execution_count": 27,
      "outputs": [
        {
          "output_type": "display_data",
          "data": {
            "text/html": [
              "<html>\n",
              "<head><meta charset=\"utf-8\" /></head>\n",
              "<body>\n",
              "    <div>            <script src=\"https://cdnjs.cloudflare.com/ajax/libs/mathjax/2.7.5/MathJax.js?config=TeX-AMS-MML_SVG\"></script><script type=\"text/javascript\">if (window.MathJax) {MathJax.Hub.Config({SVG: {font: \"STIX-Web\"}});}</script>                <script type=\"text/javascript\">window.PlotlyConfig = {MathJaxConfig: 'local'};</script>\n",
              "        <script src=\"https://cdn.plot.ly/plotly-2.8.3.min.js\"></script>                <div id=\"9485ad39-d4d0-4b67-bf1f-66dcad9ef1fb\" class=\"plotly-graph-div\" style=\"height:800px; width:400px;\"></div>            <script type=\"text/javascript\">                                    window.PLOTLYENV=window.PLOTLYENV || {};                                    if (document.getElementById(\"9485ad39-d4d0-4b67-bf1f-66dcad9ef1fb\")) {                    Plotly.newPlot(                        \"9485ad39-d4d0-4b67-bf1f-66dcad9ef1fb\",                        [{\"alignmentgroup\":\"True\",\"hovertemplate\":\"salario_anual=%{y}<extra></extra>\",\"legendgroup\":\"\",\"marker\":{\"color\":\"#636efa\"},\"name\":\"\",\"notched\":false,\"offsetgroup\":\"\",\"orientation\":\"v\",\"showlegend\":false,\"x0\":\" \",\"xaxis\":\"x\",\"y\":[55000.0,76000.0,50000.0,84996.0,55782.0,53376.0,99800.0,45000.0,50000.0,35000.0,19200.0,82000.0,39520.0,120000.0,36000.0,155000.0,220000.0,215662.0,54000.0,45000.0,44000.0,103000.0,45344.0,54000.0,50402.0,53000.0,24000.0,95004.0,62000.0,80000.0,65000.0,110004.0,50000.0,72800.0,30000.0,64000.0,50000.0,168000.0,146000.0,39996.0,90000.0,90096.0,27996.0,59000.0,40000.0,96000.0,81000.0,40000.0,72000.0,95000.0,41900.0,60000.0,25200.0,16800.0,39000.0,60000.0,20000.0,56312.0,43000.0,46000.0,75000.0,25000.0,148000.0,6000.0,60000.0,35000.0,66000.0,58000.0,28000.0,53500.0,24000.0,9600.0,29000.0,36000.0,45000.0,117996.0,45192.0,91000.0,135000.0,232050.0,38004.0,30000.0,44000.0,78000.0,30000.0,39000.0,39420.0,67000.0,40000.0,21700.0,54000.0,60000.0,50000.0,60000.0,80000.0,25000.0,97000.0,45000.0,63800.0,154000.0,96000.0,60000.0,73000.0,27600.0,110000.0,84000.0,37008.0,80000.0,32000.0,46992.0,25200.0,108000.0,77544.0,61500.0,112000.0,33996.0,48000.0,24996.0,48000.0,70872.0,45000.0,90000.0,60000.0,60000.0,87000.0,54000.0,92250.0,65000.0,35000.0,75000.0,60000.0,55000.0,47818.0,70000.0,36996.0,41000.0,15000.0,45600.0,52000.0,45000.0,85000.0,66912.0,100000.0,60000.0,37000.0,45000.0,26000.0,56000.0,60000.0,85000.0,117000.0,24000.0,29000.0,55000.0,36000.0,28000.0,74000.0,120000.0,48000.0,54500.0,51000.0,120000.0,59000.0,88000.0,85000.0,60000.0,42000.0,24000.0,120000.0,42000.0,22000.0,85000.0,28000.0,48000.0,36996.0,91800.0,45000.0,62000.0,273700.0,80000.0,45000.0,26000.0,95000.0,110000.0,38400.0,73164.0,95000.0,20000.0,60000.0,28800.0,60000.0,46000.0,54000.0,36100.0,52000.0,72000.0,16800.0,28000.0,38000.0,35000.0,40000.0,120000.0,42000.0,61200.0,101000.0,28000.0,48000.0,78000.0,85000.0,18000.0,84456.0,96000.0,48000.0,50350.0,44582.0,31000.0,69996.0,81804.0,57000.0,51000.0,66000.0,85000.0,36000.0,140000.0,40000.0,235000.0,33000.0,39000.0,40000.0,90000.0,37500.0,42500.0,70000.0,67000.0,52479.0,165000.0,30000.0,55000.0,54000.0,79200.0,38004.0,90000.0,70000.0,80000.0,75600.0,185000.0,48661.0,65000.0,59600.0,66000.0,97000.0,39000.0,50000.0,54000.0,130000.0,40277.0,21000.0,50000.0,27000.0,48000.0,39860.0,102000.0,24000.0,70000.0,22800.0,85000.0,156000.0,66000.0,32004.0,190000.0,56000.0,90000.0,39000.0,55000.0,42000.0,113800.0,24996.0,50000.0,26000.0,51996.0,14400.0,82656.0,69996.0,81120.0,96000.0,44000.0,37000.0,47000.0,77000.0,62900.0,35400.0,85000.0,105000.0,120000.0,34404.0,40000.0,115800.0,27600.0,35000.0,39000.0,60000.0,38000.0,18000.0,32000.0,37000.0,50000.0,33000.0,65000.0,54000.0,95400.0,75000.0,98000.0,70000.0,44000.0,41000.0,26000.0,66000.0,66000.0,39000.0,80000.0,25000.0,58000.0,70000.0,43200.0,60000.0,51000.0,22896.0,105000.0,35000.0,180000.0,25000.0,98400.0,50000.0,20292.0,29435.0,15600.0,25000.0,45000.0,75000.0,28800.0,40000.0,148000.0,61680.0,44004.0,81996.0,63000.0,26500.0,141000.0,142000.0,74000.0,12000.0,108000.0,32000.0,64000.0,110000.0,90000.0,32244.0,33000.0,45000.0,80160.0,37000.0,28000.0,50000.0,50780.0,43200.0,128500.0,170000.0,70000.0,48250.0,80400.0,17916.0,58000.0,82000.0,42886.0,30000.0,37000.0,70000.0,28800.0,102500.0,35004.0,28800.0,90000.0,22406.0,159996.0,42000.0,116000.0,52880.0,30000.0,30996.0,33000.0,40752.0,75000.0,70000.0,44004.0,41000.0,33600.0,50000.0,18000.0,32000.0,71000.0,55782.0,24996.0,25596.0,35004.0,48226.0,98000.0,48000.0,55200.0,36500.0,80000.0,54000.0,65707.0,29004.0,82800.0,62900.0,66348.0,100000.0,26400.0,41000.0,28800.0,63900.0,54000.0,49000.0,67000.0,74100.0,114000.0,55000.0,170000.0,50000.0,29200.0,47544.0,72000.0,45000.0,75000.0,25591.0,126000.0,140000.0,43200.0,37152.0,42000.0,73000.0,110000.0,72000.0,127500.0,79000.0,32900.0,100800.0,52000.0,75000.0,68000.0,68000.0,35000.0,53000.0,98000.0,40000.0,57000.0,35000.0,500000.0,193800.0,36000.0,65000.0,48000.0,51000.0,72500.0,42500.0,54000.0,99500.0,44000.0,40000.0,75600.0,71000.0,43000.0,29000.0,26400.0,9600.0,38000.0,18000.0,48000.0,49000.0,85000.0,123735.0,59004.0,69996.0,40000.0,101000.0,45000.0,50000.0,80038.0,84000.0,130000.0,88000.0,60000.0,44500.0,60000.0,65000.0,22000.0,78000.0,18996.0,65458.0,50004.0,75000.0,112224.0,59600.0,24000.0,14400.0,59000.0,18000.0,62004.0,68000.0,28704.0,42910.0,128000.0,60000.0,20000.0,72000.0,25000.0,100000.0,54000.0,65984.0,90000.0,40000.0,60000.0,30000.0,65000.0,47600.0,57000.0,52000.0,130000.0,80000.0,106800.0,63000.0,200000.0,24000.0,80000.0,202300.0,98000.0,115000.0,90000.0,93000.0,27252.0,24000.0,44000.0,50000.0,70000.0,51000.0,29000.0,54000.0,125000.0,60000.0,34800.0,125000.0,10000.0,115000.0,39996.0,168000.0,25000.0,21600.0,44000.0,46800.0,75000.0,74000.0,114800.0,48000.0,110000.0,37000.0,130000.0,116000.0,42000.0,30000.0,33600.0,126000.0,43800.0,69000.0,100280.0,46680.0,147996.0,60000.0,32000.0,47000.0,100000.0,90000.0,26400.0,45000.0,77100.0,38004.0,50000.0,60000.0,57300.0,75000.0,65004.0,35000.0,21000.0,54804.0,116000.0,100000.0,72700.0,90000.0,110000.0,89000.0,47500.0,56000.0,99200.0,85000.0,95827.0,41000.0,22000.0,108000.0,72500.0,73073.0,287000.0,108000.0,37440.0,86004.0,45000.0,41000.0,27000.0,48000.0,36480.0,30500.0,80000.0,80000.0,49232.0,95000.0,87000.0,88000.0,45000.0,64000.0,34000.0,25000.0,96000.0,42240.0,42000.0,140000.0,72500.0,98000.0,66000.0,45000.0,46500.0,56000.0,88500.0,46500.0,70000.0,59000.0,89000.0,120000.0,60000.0,60000.0,72252.0,130000.0,90722.0,91800.0,15000.0,14400.0,27996.0,40000.0,38000.0,42000.0,36850.0,90000.0,34404.0,143500.0,170004.0,115000.0,63000.0,120000.0,145000.0,61000.0,60000.0,60000.0,40000.0,86000.0,26000.0,37000.0,91440.0,87504.0,58195.0,83000.0,34000.0,27000.0,20000.0,71200.0,70000.0,120000.0,38300.0,36000.0,45000.0,85000.0,95000.0,72000.0,27040.0,55000.0,68000.0,14000.0,62316.0,10000.0,65000.0,58000.0,81000.0,122500.0,136000.0,36000.0,47496.0,108803.0,75000.0,50000.0,56000.0,30720.0,42000.0,37000.0,65000.0,30000.0,27204.0,160669.0,80000.0,92508.0,43000.0,85000.0,75000.0,13000.0,21996.0,17000.0,133000.0,60000.0,55000.0,59004.0,26000.0,43200.0,82000.0,50004.0,31416.0,55000.0,39000.0,37000.0,60000.0,55000.0,18000.0,186063.0,97200.0,40000.0,30000.0,29004.0,54000.0,85000.0,80000.0,105400.0,42000.0,62400.0,35652.0,60000.0,17720.0,30000.0,110000.0,83000.0,54000.0,62400.0,45928.0,74028.0,24000.0,83004.0,32500.0,55000.0,72893.0,49000.0,24000.0,24000.0,120000.0,40000.0,648000.0,33600.0,28800.0,36000.0,65000.0,134000.0,38400.0,225000.0,90000.0,75000.0,78000.0,61000.0,52000.0,48000.0,35000.0,70000.0,18492.0,50000.0,58800.0,60000.0,105000.0,36000.0,75000.0,35400.0,75000.0,55000.0,69500.0,78000.0,50000.0,80000.0,99996.0,35000.0,54000.0,42000.0,96640.0,50000.0,24216.0,19968.0,34132.0,31000.0,80000.0,56000.0,36000.0,98000.0,88000.0,30000.0,37800.0,25200.0,100000.0,36000.0,120000.0,70000.0,52800.0,33996.0,112000.0,98000.0,16800.0,50000.0,100000.0,48000.0,73000.0,30000.0,24996.0,57000.0,38000.0,130000.0,46000.0,48000.0,50000.0,116000.0,55000.0,51300.0,78000.0,28800.0,95000.0,48600.0,25000.0,32400.0,70000.0,60000.0,54000.0,45000.0,80600.0,45000.0,46000.0,32000.0,55315.0,54000.0,75000.0,18000.0,84996.0,49000.0,38000.0,39996.0,38400.0,50400.0,117005.0,35000.0,78300.0,34000.0,38000.0,59160.0,127000.0,19800.0,60000.0,72000.0,54000.0,85000.0,35000.0,65450.0,20800.0,56045.0,49500.0,45000.0,90000.0,89000.0,25000.0,35000.0,225000.0,69000.0,102000.0,55000.0,37000.0,140000.0,34000.0,138000.0,18000.0,110000.0,56000.0,100000.0,64000.0,48000.0,83500.0,105000.0,22000.0,55000.0,85000.0,67983.0,48500.0,150000.0,52000.0,82560.0,68250.0,42000.0,65000.0,39000.0,32000.0,35000.0,129900.0,62400.0,52000.0,51996.0,49000.0,75000.0,29000.0,88000.0,39996.0,45000.0,105000.0,100000.0,85000.0,68400.0,86400.0,30000.0,94050.0,87000.0,35100.0,70000.0,56400.0,96000.0,38000.0,39000.0,65000.0,94200.0,108000.0,63000.0,37000.0,51000.0,73000.0,55000.0,32004.0,31600.0,90000.0,45000.0,200000.0,25000.0,56784.0,56100.0,38004.0,110000.0,71874.0,30000.0,20520.0,67392.0,57996.0,65000.0,64900.0,44000.0,63000.0,30000.0,69000.0,65000.0,77964.0,30000.0,27302.0,45000.0,51600.0,60000.0,34000.0,32400.0,53000.0,52000.0,118000.0,50004.0,115000.0,55000.0,18000.0,120000.0,31200.0,60000.0,60000.0,243600.0,47300.0,77040.0,63500.0,29004.0,30000.0,60000.0,32400.0,55000.0,60000.0,65500.0,41600.0,125375.0,144997.0,30000.0,19200.0,40000.0,48000.0,48000.0,60000.0,83000.0,51500.0,93600.0,49992.0,180000.0,38400.0,59500.0,36000.0,38896.0,64999.0,40800.0,56000.0,135000.0,75000.0,62050.0,72000.0,24000.0,57600.0,84000.0,57860.0,28000.0,39000.0,32000.0,39000.0,51000.0,50004.0,40800.0,75000.0,55000.0,32800.0,24000.0,78500.0,35000.0,45000.0,32000.0,39500.0,40000.0,103832.0,60000.0,47000.0,107000.0,65000.0,79200.0,65000.0,61000.0,26400.0,193000.0,41000.0,100000.0,13200.0,47250.0,161000.0,53117.0,29568.0,120000.0,38400.0,132500.0,120000.0,90000.0,30000.0,110000.0,51996.0,24000.0,92000.0,37400.0,43200.0,35000.0,62532.0,42996.0,143150.0,34000.0,56000.0,54996.0,50000.0,28000.0,59000.0,85000.0,29000.0,80000.0,54996.0,14400.0,65000.0,93000.0,37500.0,98280.0,50004.0,92000.0,52000.0,37200.0,49000.0,30000.0,35000.0,42000.0,39996.0,60000.0,60000.0,55000.0,70000.0,47700.0,58320.0,60000.0,25344.0,48000.0,38556.0,56525.0,134300.0,55000.0,73700.0,47000.0,60000.0,69000.0,70550.0,51996.0,23004.0,42000.0,32400.0,42000.0,25000.0,79800.0,75000.0,40000.0,46000.0,155000.0,29040.0,36000.0,33000.0,55000.0,58200.0,32890.0,30000.0,79992.0,60000.0,42000.0,65004.0,67000.0,142800.0,30000.0,34046.0,55600.0,52000.0,38400.0,34300.0,60000.0,75000.0,65000.0,108000.0,40000.0,35000.0,57996.0,144000.0,47000.0,43200.0,62900.0,99800.0,53000.0,54000.0,31000.0,75333.0,60000.0,26400.0,56400.0,36000.0,50000.0,39000.0,31000.0,42000.0,102000.0,38400.0,52000.0,21216.0,113000.0,125555.0,58000.0,70000.0,61650.0,60000.0,51000.0,70197.0,33600.0,30000.0,110000.0,230000.0,82000.0,34000.0,24000.0,66420.0,49441.0,30000.0,116000.0,150000.0,66504.0,72000.0,85000.0,62900.0,28000.0,100000.0,89532.0,40000.0,132000.0,68500.0,65000.0,75000.0,200000.0,29536.0,56000.0,96000.0,64000.0,27000.0,130500.0,57006.0,80000.0,75000.0,27000.0,39000.0,40000.0,21000.0,42000.0,85000.0,72000.0,83000.0,38160.0,40000.0,46744.0,91800.0,51036.0,50000.0,44000.0,145000.0,35808.0,33600.0,67000.0,28000.0,100000.0,175000.0,70000.0,120000.0,21112.0,70000.0,83200.0,19200.0,37900.0,45000.0,65000.0,24000.0,70000.0,47540.0,32400.0,98000.0,90000.0,34000.0,50160.0,39000.0,35000.0,64000.0,67000.0,55000.0,60000.0,15085.0,216000.0,56650.0,75000.0,70000.0,45000.0,38000.0,55236.0,31100.0,65000.0,34000.0,61200.0,31850.0,57000.0,40224.0,35004.0,72000.0,58000.0,72000.0,70000.0,117000.0,48000.0,52000.0,59000.0,60000.0,33000.0,92000.0,57996.0,133300.0,96000.0,56000.0,220836.0,110000.0,43000.0,52000.0,38400.0,63000.0,150000.0,58000.0,70000.0,78000.0,59400.0,30000.0,28000.0,50000.0,45000.0,75000.0,51000.0,24000.0,120000.0,30000.0,43000.0,65000.0,124000.0,125000.0,59000.0,44340.0,36000.0,75000.0,48000.0,76000.0,44400.0,122400.0,145000.0,71000.0,70000.0,24000.0,42000.0,50052.0,140000.0,64500.0,36000.0,48000.0,40000.0,175000.0,275000.0,62500.0,24000.0,612000.0,77004.0,80000.0,42996.0,72000.0,15360.0,39000.0,116004.0,191000.0,25000.0,92000.0,48000.0,89700.0,59000.0,33000.0,50000.0,60000.0,24000.0,57600.0,26000.0,51996.0,29000.0,81000.0,54000.0,120000.0,70360.0,48000.0,35000.0,74984.0,21340.0,62000.0,56000.0,42000.0,667680.0,85000.0,36000.0,41000.0,40000.0,24000.0,80730.0,45243.0,32997.0,36000.0,31920.0,22188.0,70000.0,60000.0,48000.0,50000.0,70404.0,68508.0,77200.0,33600.0,40000.0,27900.0,78996.0,35000.0,65000.0,115000.0,52000.0,42000.0,68000.0,40000.0,98000.0,82000.0,54000.0,62400.0,50004.0,153000.0,87000.0,40000.0,88000.0,37500.0,24449.0,101000.0,30000.0,50000.0,24000.0,88000.0,26400.0,42000.0,50950.0,58020.0,68000.0,78200.0,75000.0,44000.0,29000.0,87000.0,72000.0,54000.0,35000.0,66000.0,80000.0,90000.0,31200.0,31000.0,54000.0,32678.0,65000.0,75000.0,50000.0,15500.0,101000.0,35500.0,30576.0,35004.0,40000.0,89904.0,144996.0,97000.0,50500.0,86000.0,36000.0,42000.0,58000.0,32004.0,87000.0,71000.0,43000.0,60612.0,47000.0,64000.0,66000.0,70000.0,90900.0,85596.0,87000.0,52500.0,71000.0,59000.0,52000.0,72000.0,42000.0,58700.0,60000.0,61000.0,26000.0,69000.0,55550.0,55000.0,99504.0,33500.0,54000.0,33996.0,26000.0,75000.0,35004.0,60000.0,62400.0,24000.0,150000.0,92000.0,94102.0,37000.0,37200.0,58000.0,75000.0,82308.0,28800.0,49000.0,65000.0,54000.0,51000.0,62000.0,54000.0,65000.0,40000.0,73000.0,22292.0,36000.0,90000.0,29000.0,33600.0,46000.0,177160.0,32304.0,200000.0,36000.0,33600.0,18000.0,40000.0,20400.0,70000.0,35000.0,110000.0,45000.0,220000.0,70000.0,28000.0,120000.0,73000.0,31200.0,48000.0,113000.0,56400.0,48000.0,122000.0,55000.0,48989.0,15000.0,69000.0,35496.0,59000.0,70000.0,72000.0,234000.0,44000.0,47831.0,24000.0,36000.0,35000.0,95000.0,45000.0,15000.0,40000.0,45000.0,60000.0,65000.0,30000.0,65450.0,50000.0,76500.0,53200.0,54528.0,130000.0,86000.0,16800.0,29000.0,86400.0,130000.0,143375.0,46000.0,81380.0,39000.0,21120.0,48000.0,33000.0,40720.0,72000.0,30000.0,34200.0,70000.0,42000.0,51500.0,21600.0,72000.0,120000.0,30000.0,65000.0,117696.0,72000.0,67000.0,50000.0,25000.0,37000.0,110000.0,50000.0,43000.0,33800.0,50252.0,48000.0,62050.0,132000.0,38000.0,202000.0,120000.0,35000.0,94000.0,31000.0,26400.0,60000.0,58900.0,33996.0,175000.0,500000.0,58000.0,51996.0,30000.0,83000.0,84000.0,138000.0,42000.0,112000.0,62000.0,97000.0,76800.0,27500.0,60500.0,73000.0,90000.0,81000.0,109200.0,39900.0,62000.0,141000.0,68000.0,31897.0,96000.0,67704.0,63300.0,86000.0,100000.0,75600.0,140000.0,60000.0,46000.0,165500.0,58344.0,55000.0,29520.0,49536.0,30000.0,50000.0,59000.0,99000.0,30252.0,36000.0,112995.0,110000.0,21996.0,30000.0,130000.0,50000.0,182004.0,57000.0,26500.0,68000.0,60000.0,54000.0,61000.0,56136.0,64000.0,50000.0,52000.0,55000.0,30035.0,28800.0,80000.0,75000.0,110000.0,66300.0,67000.0,36000.0,48000.0,54996.0,75000.0,43200.0,120000.0,45000.0,60675.0,48000.0,60000.0,16428.0,39480.0,89204.0,30000.0,45000.0,67000.0,75000.0,121000.0,104000.0,34000.0,61000.0,23000.0,49000.0,154000.0,35000.0,51600.0,56000.0,70000.0,62400.0,108000.0,30000.0,38400.0,124800.0,59004.0,74900.0,64600.0,28550.0,102000.0,134500.0,31200.0,86706.0,62000.0,57000.0,60000.0,55000.0,105000.0,26000.0,45000.0,52000.0,37700.0,25000.0,12000.0,87500.0,62130.0,16120.0,38400.0,62000.0,21000.0,85000.0,59000.0,54996.0,37344.0,27000.0,21120.0,79500.0,65000.0,40000.0,60000.0,69228.0,36895.0,47000.0,125000.0,75000.0,35100.0,40000.0,45608.0,58800.0,50004.0,70399.0,130992.0,131004.0,118812.0,74700.0,47000.0,62000.0,60500.0,62000.0,70000.0,42000.0,88000.0,120000.0,75000.0,69000.0,52828.0,168600.0,147000.0,22000.0,127992.0,51630.0,25000.0,60000.0,78000.0,85000.0,39120.0,43000.0,36500.0,55000.0,62500.0,55000.0,42996.0,107000.0,190000.0,72000.0,42000.0,29000.0,102000.0,34515.0,88000.0,135000.0,32400.0,200000.0,58000.0,36000.0,70224.0,45000.0,120000.0,62040.0,40000.0,81996.0,96000.0,88000.0,50000.0,56100.0,50252.0,36000.0,127500.0,50004.0,40104.0,60000.0,110000.0,78000.0,80000.0,71004.0,61000.0,19992.0,48686.0,68000.0,60000.0,40000.0,97600.0,30000.0,30000.0,29000.0,48000.0,73000.0,56000.0,33996.0,30000.0,160000.0,74000.0,42504.0,60000.0,180000.0,175000.0,100800.0,88000.0,100000.0,80000.0,74000.0,67000.0,98400.0,73000.0,32004.0,38400.0,7800.0,70000.0,36000.0,84000.0,57840.0,22680.0,198171.0,24000.0,71000.0,30000.0,36600.0,42500.0,19200.0,55000.0,72250.0,150000.0,107004.0,98480.0,37560.0,50031.0,154000.0,30000.0,72444.0,83000.0,30000.0,40000.0,38423.0,90000.0,17000.0,66560.0,40000.0,55600.0,23000.0,105996.0,30000.0,41604.0,75000.0,45000.0,58000.0,29000.0,108000.0,88000.0,50000.0,50000.0,24000.0,36000.0,54000.0,75000.0,19200.0,32004.0,63000.0,65000.0,23198.0,58000.0,235000.0,70000.0,35000.0,30000.0,78000.0,38400.0,90000.0,72000.0,24000.0,127000.0,124000.0,40680.0,55000.0,25000.0,29000.0,40000.0,83004.0,130000.0,83000.0,40000.0,153000.0,45996.0,42000.0,65000.0,75000.0,35000.0,172000.0,31776.0,55000.0,115000.0,90000.0,128000.0,30000.0,37200.0,55200.0,78300.0,39500.0,140000.0,38000.0,39750.0,71500.0,36400.0,55000.0,24000.0,60000.0,42000.0,31000.0,73524.0,130000.0,47000.0,61350.0,52000.0,54000.0,57000.0,68255.0,25000.0,30996.0,60000.0,84996.0,31200.0,14400.0,60000.0,120000.0,28800.0,45000.0,39000.0,59000.0,30000.0,65000.0,62900.0,35000.0,18000.0,31800.0,54000.0,44000.0,95000.0,37000.0,67386.0,83000.0,55000.0,59004.0,92500.0,25000.0,41200.0,65000.0,30000.0,84996.0,67500.0,31200.0,56200.0,90200.0,67675.0,48000.0,65000.0,65000.0,70000.0,47000.0,60000.0,50004.0,155000.0,56004.0,35000.0,38000.0,24000.0,85000.0,400000.0,66300.0,88000.0,59520.0,61200.0,9600.0,95004.0,25000.0,54000.0,51000.0,60000.0,47000.0,39600.0,55000.0,80000.0,30000.0,35880.0,45000.0,65000.0,33000.0,90000.0,99996.0,100000.0,64052.0,143004.0,48000.0,29496.0,56000.0,130000.0,51996.0,57600.0,55000.0,445000.0,63000.0,38000.0,48000.0,37000.0,32000.0,64600.0,48000.0,72000.0,54000.0,46000.0,60000.0,45000.0,56100.0,62000.0,105600.0,33600.0,52000.0,66000.0,52000.0,189996.0,31000.0,40000.0,16800.0,30000.0,140000.0,78000.0,127000.0,54996.0,48000.0,65000.0,60000.0,86004.0,76000.0,19000.0,26000.0,101138.0,45000.0,54000.0,62000.0,72000.0,84000.0,14000.0,85000.0,100000.0,50000.0,90000.0,43000.0,12000.0,34000.0,88000.0,74500.0,49000.0,33000.0,32004.0,66000.0,72000.0,41600.0,75600.0,45000.0,200000.0,55000.0,98000.0,65100.0,43000.0,66500.0,86000.0,50000.0,54000.0,49200.0,44000.0,18000.0,54000.0,61000.0,160000.0,14400.0,93000.0,66000.0,75000.0,77000.0,138996.0,14400.0,82524.0,66000.0,98000.0,73000.0,225000.0,60996.0,70000.0,52000.0,21996.0,176000.0,78000.0,89000.0,60000.0,118000.0,36000.0,69000.0,77000.0,75000.0,42000.0,130000.0,30000.0,126400.0,59000.0,32000.0,77000.0,57552.0,35000.0,27048.0,31000.0,26400.0,38000.0,47133.0,48500.0,25000.0,50000.0,18000.0,27360.0,75000.0,34928.0,36000.0,68000.0,150000.0,33000.0,220000.0,37200.0,30000.0,101000.0,58000.0,32000.0,45000.0,100000.0,275000.0,90000.0,33600.0,65000.0,72000.0,105000.0,60000.0,48000.0,53000.0,106369.0,60000.0,36000.0,42000.0,63096.0,71000.0,50000.0,32400.0,39000.0,60000.0,38000.0,80000.0,115000.0,26400.0,26500.0,72324.0,33000.0,80000.0,37440.0,75000.0,30000.0,52000.0,57744.0,70000.0,83000.0,62000.0,135000.0,24000.0,33600.0,66500.0,100000.0,60000.0,95000.0,85000.0,60000.0,91000.0,19240.0,43000.0,51600.0,55000.0,70000.0,45996.0,30000.0,38400.0,60000.0,40000.0,81996.0,52000.0,69996.0,24000.0,30000.0,78000.0,84000.0,50402.0,64000.0,200100.0,55259.0,35000.0,50000.0,126500.0,92000.0,65000.0,41000.0,53000.0,65000.0,50000.0,84780.0,42000.0,67500.0,147750.0,130000.0,65000.0,62400.0,14400.0,53724.0,40000.0,66000.0,37460.0,63000.0,60000.0,64600.0,80000.0,43000.0,48384.0,123144.0,44400.0,39000.0,65000.0,85000.0,48000.0,24000.0,96000.0,110000.0,52500.0,26000.0,62000.0,124726.0,57564.0,55000.0,90000.0,45000.0,57000.0,69996.0,68804.0,66000.0,63000.0,125000.0,63000.0,70000.0,94000.0,59000.0,15600.0,63720.0,47000.0,54000.0,97000.0,78000.0,66420.0,180000.0,40000.0,80000.0,117516.0,25000.0,36000.0,42000.0,66000.0,80000.0,65000.0,91000.0,50000.0,37980.0,46800.0,40000.0,74000.0,53000.0,273655.0,92700.0,55000.0,46900.0,54000.0,85000.0,41000.0,26400.0,82000.0,130000.0,96000.0,138000.0,50800.0,156000.0,21600.0,120000.0,144000.0,100000.0,58000.0,58033.0,56400.0,26000.0,168000.0,14400.0,110000.0,29000.0,63000.0,33600.0,96000.0,120000.0,102000.0,60000.0,45600.0,34900.0,7800.0,72000.0,116000.0,50400.0,49578.0,36000.0,28000.0,75800.0,105600.0,34000.0,32000.0,54500.0,61000.0,41100.0,48000.0,18000.0,70000.0,220000.0,84300.0,66000.0,67000.0,38000.0,96050.0,21600.0,32000.0,60000.0,42000.0,150000.0,57000.0,40000.0,83100.0,59000.0,54400.0,43000.0,42000.0,62366.0,95000.0,334000.0,122000.0,116300.0,62000.0,16800.0,34000.0,60000.0,24240.0,78000.0,34000.0,105000.0,68000.0,24000.0,75500.0,142000.0,89000.0,45000.0,83000.0,57000.0,57500.0,55000.0,39000.0,57110.0,15600.0,120000.0,21600.0,70553.0,42000.0,21500.0,70000.0,51500.0,23000.0,39552.0,37000.0,24000.0,70000.0,45500.0,63000.0,53408.0,175000.0,35000.0,25200.0,41500.0,54400.0,25000.0,95000.0,84000.0,14400.0,58650.0,105000.0,81600.0,40000.0,45000.0,107004.0,55000.0,24000.0,78956.0,110000.0,74004.0,50000.0,15360.0,42000.0,72000.0,25200.0,55200.0,60000.0,46000.0,36996.0,70000.0,30000.0,21600.0,78000.0,75000.0,63564.0,35000.0,46150.0,61000.0,70000.0,31200.0,71000.0,57996.0,39000.0,44000.0,50000.0,45000.0,35000.0,24960.0,98000.0,240000.0,54590.0,39000.0,83000.0,90084.0,50000.0,39996.0,43580.0,65000.0,48000.0,60000.0,125000.0,30000.0,88000.0,92000.0,75000.0,73000.0,28800.0,98004.0,56000.0,51000.0,35000.0,36996.0,59000.0,100000.0,114000.0,39000.0,76596.0,63000.0,77000.0,85000.0,48000.0,40000.0,138000.0,18204.0,45691.0,39580.0,63000.0,52000.0,66000.0,90000.0,36000.0,26400.0,45000.0,75600.0,61289.0,51000.0,29000.0,19200.0,35000.0,145986.0,75000.0,53000.0,84000.0,44000.0,45000.0,80300.0,54000.0,75000.0,50000.0,18000.0,56056.0,135000.0,75000.0,50000.0,88200.0,30000.0,62050.0,31000.0,65004.0,29000.0,43000.0,107000.0,75000.0,38000.0,66000.0,60000.0,44000.0,38196.0,80700.0,97000.0,120000.0,20868.0,175000.0,83000.0,54000.0,84996.0,37800.0,48000.0,59366.0,33600.0,67000.0,100000.0,220000.0,19200.0,60000.0,110000.0,205000.0,36000.0,33000.0,50000.0,86000.0,57200.0,54400.0,36000.0,38000.0,42000.0,52000.0,40000.0,72000.0,35500.0,54008.0,36129.0,42000.0,96000.0,115000.0,64200.0,27000.0,52000.0,70000.0,42000.0,75000.0,18000.0,18144.0,44796.0,50000.0,60000.0,40440.0,108000.0,90000.0,44000.0,36000.0,28800.0,29000.0,45000.0,38340.0,20000.0,48000.0,36000.0,49000.0,36000.0,70800.0,58500.0,57000.0,56004.0,65000.0,35600.0,64000.0,60000.0,57000.0,95000.0,76700.0,30000.0,87950.0,64000.0,48000.0,60682.0,127000.0,18701.0,57359.0,56000.0,33000.0,140000.0,45840.0,60000.0,74000.0,61000.0,65000.0,39000.0,29000.0,88400.0,110000.0,28128.0,91000.0,51000.0,45000.0,56950.0,125000.0,30000.0,65000.0,66000.0,33666.0,22800.0,71004.0,126132.0,48000.0,47500.0,36000.0,32000.0,50000.0,75000.0,71000.0,37000.0,37000.0,104800.0,59000.0,41004.0,90000.0,13440.0,62000.0,30000.0,181000.0,74700.0,71000.0,52000.0,85000.0,54996.0,90000.0,56000.0,92700.0,32304.0,39900.0,24000.0,40000.0,51600.0,105000.0,60000.0,130000.0,71000.0,114600.0,63000.0,125000.0,86400.0,49000.0,54000.0,42500.0,33996.0,55000.0,36500.0,66000.0,109000.0,80000.0,60000.0,70000.0,100000.0,27000.0,50000.0,57600.0,45600.0,50000.0,37000.0,49000.0,74196.0,72250.0,75000.0,35000.0,55000.0,109000.0,31200.0,50000.0,42000.0,20000.0,72000.0,36000.0,120000.0,44000.0,60000.0,23587.0,36000.0,110000.0,78111.0,19000.0,38400.0,75000.0,45000.0,120000.0,24000.0,74000.0,26400.0,65004.0,88200.0,82000.0,50000.0,300000.0,65000.0,39000.0,65000.0,69600.0,92000.0,50000.0,15000.0,42000.0,53000.0,77000.0,104000.0,111000.0,95000.0,75000.0,73000.0,44000.0,30000.0,26000.0,49812.0,59000.0,120000.0,53352.0,39996.0,112000.0,40000.0,66000.0,32004.0,100000.0,46000.0,80000.0,45000.0,45000.0,39000.0,41000.0,65000.0,40000.0,115000.0,160000.0,57000.0,34000.0,30000.0,45000.0,58800.0,78000.0,67992.0,130000.0,44000.0,71000.0,45600.0,33100.0,80000.0,59475.0,41280.0,30000.0,52000.0,38643.0,60000.0,42000.0,62758.0,32400.0,89000.0,48000.0,69996.0,192000.0,126000.0,36700.0,60000.0,34000.0,75000.0,32000.0,70000.0,170000.0,33481.0,90000.0,60350.0,120000.0,36396.0,38000.0,69575.0,53000.0,85584.0,49000.0,48000.0,69000.0,55000.0,44000.0,75000.0,20000.0,99996.0,65000.0,10080.0,100000.0,76000.0,55000.0,75000.0,90000.0,18000.0,72800.0,95000.0,18000.0,78000.0,45000.0,85000.0,131000.0,34000.0,29100.0,67000.0,62400.0,50000.0,59000.0,114054.0,45996.0,90000.0,75000.0,48300.0,75000.0,138000.0,30996.0,65000.0,73000.0,33168.0,32000.0,25200.0,50000.0,68480.0,49861.0,95500.0,43000.0,45000.0,44000.0,31000.0,44582.0,85000.0,95000.0,37440.0,130208.0,54000.0,32800.0,42994.0,51000.0,80000.0,30000.0,60000.0,62000.0,55000.0,44000.0,130000.0,21000.0,35000.0,38004.0,80000.0,123000.0,53000.0,81000.0,80000.0,98080.0,30000.0,125000.0,18000.0,60000.0,45000.0,34152.0,60000.0,29328.0,72000.0,14400.0,45000.0,30000.0,45843.0,90000.0,42804.0,54000.0,62000.0,120000.0,68000.0,32000.0,77385.0,125000.0,80000.0,4080.0,33600.0,150000.0,55000.0,155000.0,50000.0,125004.0,35000.0,156000.0,78000.0,111000.0,58650.0,350000.0,140000.0,88000.0,45000.0,50000.0,23004.0,155000.0,67260.0,130000.0,54000.0,40000.0,55000.0,23196.0,55000.0,45000.0,14040.0,71500.0,29000.0,32760.0,85000.0,110000.0,55000.0,66240.0,36000.0,85000.0,26400.0,50268.0,66000.0,63000.0,51996.0,34000.0,110244.0,70550.0,31200.0,65000.0,42000.0,40000.0,49000.0,90000.0,60996.0,67014.0,130000.0,75000.0,38000.0,78000.0,49700.0,50000.0,62000.0,132000.0,80004.0,24000.0,34800.0,88000.0,68400.0,45840.0,65000.0,24000.0,65000.0,66396.0,34000.0,62000.0,58000.0,44004.0,41400.0,125000.0,60000.0,137400.0,70000.0,40000.0,40000.0,90000.0,24000.0,61498.0,59000.0,114600.0,13000.0,66996.0,91992.0,33000.0,13200.0,50160.0,62900.0,60000.0,120000.0,78420.0,52800.0,80000.0,69996.0,54252.0,100000.0,60000.0,103500.0,69000.0,17108.0,102000.0,102540.0,54000.0,120000.0,40000.0,103000.0,51250.0,21000.0,136625.0,31000.0,65000.0,138000.0,59000.0,27600.0,72000.0,160000.0,41340.0,30000.0,18000.0,34000.0,52576.0,18000.0,65304.0,38400.0,65004.0,34000.0,45000.0,90000.0,84996.0,73000.0,54000.0,22800.0,45000.0,33000.0,69000.0,57500.0,72000.0,23040.0,23000.0,135000.0,40000.0,35000.0,57995.0,73000.0,55000.0,39996.0,97781.0,60996.0,42000.0,77350.0,42000.0,57600.0,75000.0,90000.0,52000.0,67000.0,70560.0,154000.0,61000.0,51000.0,50004.0,50000.0,50000.0,20000.0,46999.0,40000.0,55000.0,65000.0,50000.0,55000.0,143000.0,32640.0,51000.0,46000.0,32640.0,90000.0,36000.0,34000.0,415000.0,61000.0,27000.0,37000.0,57248.0,80000.0,52700.0,44000.0,44000.0,138000.0,48000.0,72000.0,78996.0,103000.0,72000.0,155000.0,42000.0,125000.0,45000.0,15000.0,31200.0,28800.0,78000.0,67092.0,15600.0,25000.0,43500.0,72000.0,132750.0,45000.0,25000.0,90000.0,100000.0,70000.0,43000.0,36000.0,45000.0,66000.0,36000.0,600000.0,130000.0,82000.0,35000.0,19820.0,108000.0,34656.0,32400.0,54000.0,20004.0,45000.0,34560.0,84000.0,56000.0,48000.0,54000.0,40116.0,74000.0,96000.0,48000.0,45727.0,39000.0,135000.0,42000.0,18000.0,75000.0,40000.0,58650.0,48000.0,51000.0,75000.0,88365.0,55000.0,115154.0,85000.0,35000.0,75000.0,39600.0,90000.0,84000.0,100000.0,27000.0,67000.0,46200.0,72204.0,75000.0,40200.0,55800.0,20000.0,48645.0,92000.0,32000.0,93000.0,59000.0,49000.0,51600.0,65000.0,45000.0,49716.0,30000.0,110000.0,79000.0,26400.0,39000.0,32000.0,62000.0,57504.0,30000.0,75000.0,31200.0,85000.0,83000.0,62400.0,45000.0,105000.0,83100.0,33000.0,65000.0,65000.0,170000.0,82000.0,48000.0,70000.0,84000.0,45000.0,29000.0,61000.0,60000.0,25000.0,125000.0,100000.0,100000.0,32993.0,26004.0,114500.0,98600.0,135000.0,75000.0,19000.0,53408.0,55000.0,70000.0,49000.0,24000.0,49200.0,31000.0,95000.0,60000.0,42000.0,63000.0,80000.0,40000.0,30000.0,102500.0,55000.0,36708.0,180000.0,53000.0,54000.0,35000.0,109000.0,30000.0,50000.0,77000.0,80750.0,225000.0,12500.0,110000.0,84996.0,50176.0,150000.0,66000.0,43000.0,60000.0,52809.0,16500.0,95000.0,15000.0,82600.0,60000.0,24000.0,40000.0,30000.0,28000.0,57431.0,115000.0,80000.0,250000.0,49000.0,48000.0,95000.0,27000.0,61000.0,48442.0,30000.0,55000.0,69000.0,19200.0,70000.0,33000.0,55000.0,42000.0,112000.0,24996.0,48996.0,25200.0,39000.0,61900.0,87000.0,72000.0,40000.0,70000.0,100000.0,54900.0,38126.0,142000.0,33000.0,100000.0,54000.0,50000.0,60000.0,79000.0,58000.0,36000.0,50000.0,120000.0,42000.0,51996.0,39000.0,27996.0,42000.0,45000.0,95680.0,49200.0,52000.0,62000.0,64200.0,36000.0,110500.0,55000.0,40000.0,54000.0,49000.0,85000.0,35000.0,55000.0,31008.0,120000.0,124992.0,125004.0,55000.0,40000.0,41004.0,70000.0,113000.0,159600.0,49500.0,75000.0,83000.0,86000.0,80607.0,74000.0,65136.0,70204.0,70000.0,37000.0,80000.0,75000.0,115000.0,48000.0,72000.0,35568.0,50361.0,88000.0,55000.0,105000.0,85000.0,85000.0,45000.0,37000.0,28000.0,45000.0,120000.0,63500.0,47500.0,55000.0,55000.0,50000.0,60000.0,66300.0,49000.0,22800.0,47000.0,80400.0,40000.0,50400.0,23000.0,40500.0,49200.0,35000.0,45000.0,130900.0,85200.0,64000.0,80000.0,34560.0,27996.0,49000.0,54860.0,50000.0,36000.0,34000.0,41000.0,25200.0,38000.0,60000.0,42000.0,39480.0,92700.0,29000.0,50000.0,90000.0,75000.0,14400.0,48000.0,60000.0,38000.0,53100.0,93000.0,36000.0,62400.0,81600.0,60000.0,35325.0,58075.0,72000.0,20064.0,40000.0,91000.0,26400.0,32500.0,27840.0,130000.0,98004.0,82000.0,33600.0,30000.0,175000.0,36500.0,62000.0,37100.0,32450.0,92800.0,62496.0,24600.0,16800.0,130000.0,55000.0,75000.0,45000.0,103970.0,90000.0,45000.0,16800.0,40000.0,45000.0,35000.0,78000.0,57600.0,58650.0,61450.0,33000.0,30000.0,35000.0,16428.0,138000.0,98000.0,34000.0,66000.0,28176.0,42000.0,95000.0,32000.0,52809.0,46000.0,32580.0,51996.0,118189.0,95000.0,38272.0,29000.0,35000.0,44000.0,58000.0,100000.0,36000.0,98000.0,65000.0,45000.0,75000.0,58992.0,72000.0,29950.0,72800.0,60000.0,30000.0,59800.0,136000.0,82000.0,50000.0,117500.0,100000.0,60000.0,54000.0,25000.0,103000.0,18000.0,35000.0,99600.0,38100.0,98000.0,64000.0,42000.0,57000.0,42000.0,69996.0,69000.0,44400.0,10000.0,54000.0,60600.0,102000.0,14800.0,48000.0,31000.0,71000.0,53000.0,32000.0,40000.0,58000.0,105000.0,14400.0,30000.0,121000.0,81600.0,91092.0,32004.0,68004.0,80000.0,33000.0,120000.0,75000.0,28500.0,55000.0,64698.0,91234.0,129996.0,48000.0,42000.0,62004.0,58000.0,75000.0,62400.0,130000.0,65000.0,100000.0,9600.0,84000.0,33000.0,14400.0,60000.0,95000.0,60000.0,74000.0,47000.0,20004.0,54566.0,102213.0,47472.0,16800.0,32198.0,30000.0,100000.0,55000.0,38500.0,40000.0,70000.0,45900.0,75000.0,80000.0,104000.0,92000.0,50000.0,54000.0,56000.0,44000.0,48000.0,65004.0,50000.0,64049.0,50000.0,75531.0,38000.0,39400.0,65000.0,30000.0,61147.0,70000.0,65000.0,36000.0,73000.0,24000.0,37440.0,33564.0,65000.0,49244.0,30996.0,37200.0,44000.0,125000.0,58650.0,29916.0,24947.0,40000.0,28000.0,45000.0,52000.0,74900.0,96000.0,32500.0,65000.0,59000.0,42504.0,69000.0,44000.0,34400.0,92500.0,75000.0,53000.0,35004.0,65000.0,43000.0,120000.0,50000.0,106000.0,39600.0,75000.0,66000.0,72000.0,150000.0,351699.0,50000.0,125000.0,80000.0,113000.0,70000.0,63000.0,53995.0,38000.0,35300.0,45996.0,92004.0,48600.0,116000.0,27000.0,130000.0,58000.0,38700.0,44000.0,70000.0,33000.0,45000.0,38400.0,70500.0,58000.0,37000.0,92000.0,40000.0,65000.0,110000.0,48000.0,200000.0,60000.0,30000.0,30000.0,66000.0,108960.0,96720.0,84996.0,74000.0,48000.0,33000.0,55000.0,44000.0,26000.0,35976.0,42000.0,56400.0,55000.0,48000.0,17000.0,47000.0,61500.0,14400.0,50000.0,63000.0,81500.0,20004.0,50000.0,23004.0,51000.0,18000.0,24996.0,28000.0,42000.0,40000.0,300000.0,75000.0,85000.0,97000.0,225000.0,100000.0,40000.0,51000.0,62040.0,51150.0,40000.0,80000.0,65000.0,48000.0,54000.0,52102.0,84000.0,95000.0,133000.0,63500.0,66000.0,24500.0,70000.0,103000.0,56004.0,28000.0,102000.0,34000.0,41000.0,38250.0,53000.0,90000.0,52000.0,125000.0,65000.0,51000.0,83000.0,40000.0,86000.0,100000.0,90000.0,130000.0,108800.0,25000.0,21996.0,61455.0,73000.0,140000.0,10800.0,84000.0,60000.0,88500.0,30144.0,48000.0,24996.0,70000.0,66000.0,130000.0,120000.0,123000.0,59000.0,136000.0,46000.0,200000.0,45760.0,30000.0,49200.0,65000.0,150000.0,80000.0,54000.0,48000.0,160000.0,125000.0,21000.0,69500.0,48712.0,74000.0,110000.0,180000.0,44000.0,55530.0,63250.0,40000.0,80000.0,75500.0,18000.0,72500.0,42000.0,78000.0,93000.0,60000.0,26004.0,60000.0,40000.0,65000.0,230000.0,32000.0,84000.0,59000.0,60000.0,35000.0,42000.0,156000.0,49000.0,91000.0,170496.0,55000.0,57000.0,32000.0,39000.0,28800.0,37000.0,50000.0,63600.0,55392.0,27500.0,125000.0,10560.0,86000.0,42000.0,42000.0,30000.0,44000.0,37000.0,36000.0,62500.0,51000.0,54000.0,65000.0,156000.0,25632.0,44000.0,38000.0,98000.0,50000.0,36000.0,123000.0,125000.0,84000.0,63996.0,53000.0,78000.0,55684.0,34800.0,54000.0,41000.0,71760.0,24000.0,85000.0,9840.0,62475.0,24000.0,54000.0,30000.0,35000.0,56000.0,40000.0,36000.0,39000.0,32000.0,75000.0,35000.0,60000.0,60000.0,20000.0,129996.0,39480.0,26000.0,27600.0,36450.0,39600.0,120000.0,159960.0,53000.0,52000.0,45000.0,43200.0,150000.0,40000.0,78000.0,57000.0,40000.0,60000.0,44000.0,23520.0,108000.0,25000.0,33600.0,25000.0,47500.0,72000.0,12240.0,30000.0,24996.0,68000.0,52800.0,48996.0,72000.0,66120.0,58000.0,45000.0,95000.0,64000.0,28000.0,36000.0,67000.0,35000.0,57996.0,25920.0,18500.0,110000.0,48000.0,48000.0,92000.0,43000.0,7500.0,50000.0,69996.0,15600.0,101000.0,39000.0,48000.0,73000.0,34000.0,26000.0,62400.0,45000.0,56400.0,80000.0,24000.0,51840.0,65000.0,42000.0,30000.0,121000.0,68000.0,45378.0,68000.0,90000.0,90000.0,74000.0,66300.0,105000.0,66000.0,180000.0,49000.0,39512.0,53000.0,53000.0,66560.0,49000.0,80500.0,115000.0,90000.0,135000.0,30000.0,27000.0,66400.0,39600.0,62000.0,45000.0,60000.0,34000.0,48500.0,54000.0,120000.0,48000.0,31000.0,96053.0,30000.0,60000.0,54000.0,62900.0,54000.0,82000.0,60000.0,80000.0,65000.0,65100.0,85000.0,80004.0,66300.0,30548.0,150000.0,57000.0,81800.0,58000.0,83000.0,55000.0,39300.0,83004.0,84000.0,39600.0,39500.0,48000.0,27264.0,120000.0,60000.0,81504.0,45500.0,152000.0,53000.0,65000.0,30000.0,30000.0,72000.0,150000.0,36000.0,39996.0,43000.0,48000.0,80000.0,104000.0,82000.0,95000.0,13000.0,86000.0,54996.0,25000.0,33500.0,26940.0,115000.0,55000.0,37500.0,38000.0,57300.0,78000.0,45600.0,31000.0,31000.0,73000.0,50000.0,83234.0,101900.0,49500.0,65000.0,30000.0,45000.0,33600.0,73200.0,200000.0,41779.0,100000.0,47000.0,80000.0,59000.0,60000.0,76042.0,20400.0,51000.0,40800.0,71232.0,24000.0,35000.0,65000.0,45000.0,99600.0,72000.0,50000.0,82450.0,49000.0,24000.0,201000.0,70000.0,100000.0,10000.0,28452.0,34500.0,100000.0,80000.0,125000.0,135000.0,62900.0,45000.0,120000.0,181408.0,29000.0,42000.0,109200.0,24000.0,120000.0,65600.0,55200.0,60000.0,128000.0,240000.0,50000.0,24168.0,22500.0,26500.0,30004.0,85000.0,105000.0,60000.0,20000.0,44700.0,33900.0,54000.0,20000.0,90000.0,83000.0,54000.0,42000.0,42200.0,22800.0,62000.0,37440.0,68803.0,21600.0,65000.0,70000.0,65000.0,69000.0,74000.0,70000.0,49000.0,45000.0,56000.0,80000.0,45000.0,47000.0,48000.0,29496.0,105000.0,46000.0,29000.0,76000.0,165000.0,26000.0,44004.0,38400.0,100000.0,46000.0,33600.0,80000.0,130000.0,38400.0,48712.0,15600.0,77000.0,70000.0,81000.0,48000.0,76160.0,55000.0,28000.0,47500.0,55000.0,26400.0,54000.0,60000.0,53922.0,88000.0,77350.0,55000.0,51500.0,90000.0,70000.0,47000.0,28000.0,45000.0,38000.0,25000.0,72000.0,20800.0,110000.0,100000.0,39996.0,26400.0,46296.0,31000.0,34800.0,90000.0,40000.0,40800.0,120000.0,73200.0,48000.0,62000.0,30000.0,45000.0,134000.0,24000.0,31200.0,54996.0,93000.0,80000.0,36000.0,58000.0,132652.0,105000.0,55000.0,165000.0,57600.0,65000.0,78000.0,55992.0,90000.0,51996.0,35000.0,42000.0,113000.0,49000.0,190000.0,18000.0,11029.0,45000.0,120000.0,61500.0,30555.0,115000.0,54000.0,65000.0,54000.0,57600.0,130000.0,130920.0,60000.0,46800.0,33288.0,76596.0,78400.0,30000.0,58896.0,300000.0,84000.0,50000.0,61000.0,47200.0,43000.0,35000.0,74000.0,35000.0,50000.0,18000.0,26000.0,60000.0,62000.0,62000.0,28800.0,108288.0,68000.0,36000.0,70000.0,65000.0,96713.0,70550.0,30000.0,92500.0,42504.0,26000.0,68400.0,30000.0,77000.0,19200.0,73000.0,117000.0,30000.0,17000.0,45000.0,64000.0,54000.0,42000.0,120000.0,58650.0,130000.0,34000.0,30000.0,46551.0,95000.0,115000.0,65000.0,34000.0,39996.0,120000.0,30000.0,44700.0,78000.0,21600.0,55000.0,45000.0,54000.0,19632.0,74600.0,70000.0,38004.0,24000.0,100000.0,91000.0,27000.0,42000.0,67600.0,130000.0,107004.0,24600.0,43200.0,80004.0,140000.0,75000.0,44400.0,60900.0,64800.0,85000.0,40800.0,60000.0,55000.0,62000.0,58170.0,75000.0,82000.0,40000.0,125000.0,70000.0,48000.0,121000.0,55000.0,60000.0,67000.0,37000.0,125000.0,20000.0,117000.0,92000.0,81360.0,97000.0,52680.0,91000.0,42000.0,50000.0,77000.0,65500.0,28800.0,38000.0,42000.0,75000.0,57300.0,70000.0,143004.0,108000.0,153000.0,33600.0,90000.0,114400.0,51000.0,50000.0,600000.0,98000.0,97000.0,20743.0,61400.0,48000.0,35000.0,29000.0,58000.0,121000.0,66614.0,36000.0,31836.0,23500.0,39600.0,125000.0,15000.0,52582.0,43200.0,14400.0,83004.0,78000.0,52000.0,28500.0,68400.0,39600.0,86000.0,60000.0,70000.0,179000.0,113800.0,90000.0,20640.0,67000.0,35000.0,28140.0,55000.0,41838.0,70000.0,66000.0,15996.0,125000.0,135000.0,97000.0,224000.0,55200.0,36000.0,144000.0,18996.0,74000.0,44991.0,24432.0,22000.0,73600.0,81000.0,83000.0,30320.0,67807.0,46000.0,96000.0,84000.0,59000.0,48000.0,66300.0,30000.0,160000.0,55000.0,21000.0,50000.0,47000.0,30000.0,66000.0,45336.0,156000.0,25000.0,77650.0,231252.0,75000.0,39868.0,50000.0,180000.0,45000.0,57600.0,45888.0,84500.0,115500.0,65000.0,54996.0,18000.0,35000.0,65000.0,75000.0,97500.0,40000.0,48000.0,68000.0,105000.0,60000.0,35000.0,25200.0,70200.0,60000.0,32000.0,33000.0,77000.0,35000.0,33000.0,36000.0,97000.0,43000.0,27000.0,118000.0,47000.0,56100.0,48000.0,28600.0,33000.0,58500.0,75000.0,68000.0,81600.0,88000.0,54000.0,35000.0,21000.0,54996.0,60000.0,50000.0,46700.0,32000.0,72000.0,50000.0,45000.0,145124.0,35000.0,48000.0,55000.0,53000.0,50000.0,83195.0,84000.0,27000.0,115000.0,39996.0,24000.0,134000.0,110000.0,83004.0,40000.0,90996.0,75000.0,78000.0,170000.0,41004.0,44000.0,44304.0,73000.0,45600.0,66000.0,85000.0,28500.0,60000.0,45000.0,51160.0,160000.0,20000.0,9600.0,117000.0,26496.0,80000.0,61000.0,50000.0,22800.0,250000.0,25000.0,40000.0,50000.0,57000.0,16800.0,33600.0,46500.0,80000.0,69000.0,51996.0,52800.0,42000.0,55000.0,89908.0,12000.0,57000.0,480000.0,50000.0,30000.0,40000.0,150000.0,30400.0,58313.0,105000.0,65000.0,94692.0,75000.0,35000.0,135000.0,45000.0,45000.0,50960.0,28800.0,119000.0,55000.0,99000.0,70000.0,35000.0,88000.0,100000.0,170000.0,70000.0,45600.0,87000.0,36000.0,43200.0,75000.0,134748.0,48500.0,50000.0,68000.0,90000.0,48996.0,34000.0,50000.0,120000.0,72000.0,125800.0,26000.0,68000.0,80000.0,18000.0,110000.0,50000.0,85000.0,65000.0,120000.0,39000.0,81000.0,42000.0,53684.0,31513.0,64000.0,89000.0,61000.0,75000.0,35000.0,38000.0,96000.0,43000.0,110000.0,15360.0,81000.0,19200.0,45000.0,80000.0,37000.0,36000.0,29000.0,25000.0,70000.0,25000.0,70000.0,53004.0,53000.0,40000.0,159996.0,93000.0,27456.0,46000.0,22320.0,12000.0,100000.0,58608.0,66500.0,78000.0,63400.0,40000.0,100000.0,58000.0,30000.0,72000.0,67200.0,21000.0,39000.0,47700.0,155000.0,160000.0,60000.0,120000.0,118000.0,107500.0,44000.0,122500.0,39996.0,62400.0,82000.0,53500.0,48450.0,92500.0,76000.0,48000.0,95000.0,62000.0,140004.0,78000.0,68324.0,175000.0,98004.0,70000.0,78000.0,95000.0,30000.0,50724.0,75000.0,123000.0,43200.0,42000.0,53826.0,130000.0,26400.0,37200.0,14400.0,44500.0,100000.0,49500.0,60000.0,56784.0,40800.0,110000.0,12000.0,42000.0,120000.0,37500.0,130000.0,35520.0,68000.0,85000.0,80000.0,50400.0,90000.0,40800.0,96000.0,35004.0,15600.0,54000.0,90996.0,48000.0,52000.0,39996.0,29962.0,56000.0,64000.0,145000.0,52000.0,29000.0,62000.0,41600.0,131040.0,38400.0,65000.0,99000.0,78000.0,45000.0,95000.0,120000.0,64700.0,100000.0,36000.0,100000.0,40000.0,160000.0,20400.0,88000.0,78000.0,73000.0,65592.0,85000.0,72000.0,38060.0,70000.0,24000.0,64000.0,150000.0,60174.0,56461.0,43000.0,33225.0,56052.0,40000.0,70000.0,45000.0,53000.0,32000.0,65000.0,38000.0,34000.0,53000.0,80000.0,64800.0,100000.0,50000.0,80000.0,37000.0,56000.0,65000.0,62000.0,112000.0,95000.0,37050.0,46000.0,175000.0,80000.0,35000.0,149616.0,82000.0,36996.0,31000.0,48000.0,38004.0,24000.0,105000.0,238000.0,30000.0,19800.0,21600.0,19200.0,72000.0,77927.0,37000.0,55000.0,110000.0,90000.0,105000.0,27996.0,41496.0,38160.0,71004.0,23004.0,66000.0,50000.0,63533.0,32000.0,62065.0,48000.0,45000.0,115200.0,280000.0,75000.0,128400.0,101004.0,19000.0,50000.0,72000.0,50000.0,48000.0,60000.0,85000.0,55000.0,65000.0,80000.0,20400.0,51850.0,64000.0,75000.0,43500.0,42000.0,42200.0,18000.0,53000.0,75000.0,40000.0,48000.0,55000.0,43000.0,15600.0,74004.0,50000.0,48000.0,144000.0,36000.0,41000.0,10000.0,85000.0,59000.0,126000.0,53004.0,86000.0,24449.0,34000.0,84000.0,144000.0,52000.0,58000.0,42000.0,41200.0,11000.0,35000.0,30000.0,60000.0,54000.0,60000.0,125004.0,42000.0,58000.0,70000.0,65000.0,106000.0,78500.0,30000.0,39600.0,54000.0,42300.0,30000.0,80000.0,28080.0,28500.0,33000.0,76000.0,66000.0,40000.0,53000.0,63000.0,89000.0,63000.0,110000.0,36050.0,60000.0,80000.0,130000.0,90000.0,42000.0,65000.0,160000.0,47000.0,25000.0,33448.0,94000.0,70000.0,60000.0,60000.0,39000.0,30000.0,106921.0,48000.0,54000.0,42494.0,33990.0,84000.0,30996.0,21600.0,53329.0,41004.0,85000.0,157544.0,92000.0,31700.0,59000.0,123000.0,25000.0,19200.0,26000.0,30000.0,60000.0,95000.0,37000.0,65000.0,112445.0,52000.0,58000.0,25000.0,119000.0,50000.0,100300.0,15300.0,60000.0,34800.0,50000.0,65000.0,26000.0,60000.0,40000.0,50000.0,57000.0,83800.0,155000.0,39996.0,47300.0,80000.0,54996.0,40000.0,49000.0,28128.0,75000.0,40000.0,86304.0,42200.0,45000.0,60000.0,30000.0,50000.0,38400.0,30720.0,47208.0,42000.0,63189.0,69000.0,39996.0,20004.0,39000.0,60629.0,40000.0,60000.0,12000.0,70000.0,57000.0,40000.0,40800.0,66000.0,87000.0,52800.0,42000.0,57000.0,71000.0,55000.0,48852.0,37500.0,52000.0,60000.0,38000.0,69000.0,60000.0,150000.0,41000.0,36000.0,61104.0,82000.0,59068.0,39600.0,45000.0,85000.0,60000.0,93000.0,38000.0,90000.0,80000.0,73000.0,56000.0,44000.0,56000.0,96000.0,53000.0,60000.0,65000.0,45000.0,42000.0,42000.0,151000.0,80000.0,75000.0,39000.0,38000.0,45600.0,49000.0,40000.0,65004.0,72000.0,115000.0,100000.0,50000.0,42000.0,75800.0,87000.0,40000.0,72000.0,104000.0,55000.0,21000.0,200000.0,46500.0,50004.0,100000.0,46151.0,79404.0,108000.0,50000.0,50000.0,65000.0,140000.0,63177.0,70000.0,170000.0,30000.0,27000.0,25000.0,24000.0,53500.0,52692.0,50000.0,24996.0,42000.0,87800.0,33078.0,60200.0,115000.0,60000.0,120000.0,25000.0,26400.0,30000.0,37000.0,47360.0,19250.0,40000.0,175000.0,59000.0,36000.0,50000.0,110000.0,27048.0,138000.0,48000.0,42000.0,95000.0,31200.0,36000.0,62903.0,39600.0,29000.0,34000.0,48996.0,41600.0,36000.0,45996.0,46000.0,78000.0,12000.0,65004.0,38400.0,80000.0,185000.0,50000.0,22044.0,68004.0,55000.0,58000.0,125000.0,30000.0,38000.0,58000.0,50004.0,36000.0,15000.0,44460.0,36000.0,42000.0,44000.0,42000.0,66500.0,52000.0,84000.0,48279.0,62400.0,114440.0,39000.0,92400.0,39000.0,140000.0,87000.0,68000.0,76000.0,45000.0,35316.0,45600.0,80000.0,31200.0,61150.0,46976.0,35004.0,110000.0,44000.0,28000.0,87000.0,40000.0,43200.0,51600.0,51000.0,60000.0,59000.0,110000.0,150000.0,25000.0,64000.0,31100.0,29004.0,36000.0,143000.0,74000.0,30000.0,69000.0,75000.0,48000.0,65000.0,40000.0,81193.0,78000.0,125000.0,15600.0,50000.0,42500.0,84000.0,63000.0,60000.0,26000.0,92700.0,120000.0,41000.0,26000.0,73440.0,78000.0,64800.0,65000.0,250000.0,103992.0,62400.0,29000.0,68670.0,62000.0,54000.0,41004.0,125000.0,68000.0,84000.0,24000.0,44000.0,34000.0,25000.0,18000.0,40000.0,60000.0,15000.0,90301.0,74000.0,70000.0,45000.0,14400.0,62467.0,72000.0,123000.0,12996.0,100843.0,44196.0,76597.0,126000.0,22300.0,30000.0,65000.0,48000.0,80000.0,70000.0,77000.0,44000.0,122000.0,55000.0,40320.0,52000.0,57996.0,58000.0,144000.0,51480.0,54000.0,37800.0,45204.0,60000.0,70000.0,39996.0,18840.0,62000.0,120000.0,87550.0,60000.0,23500.0,63600.0,65000.0,60000.0,102400.0,150000.0,130000.0,61000.0,30000.0,120000.0,40000.0,55000.0,75000.0,52000.0,12000.0,47000.0,43000.0,24000.0,79700.0,180000.0,35500.0,66000.0,69000.0,66888.0,30000.0,20000.0,95004.0,42000.0,130000.0,52000.0,72000.0,20000.0,42000.0,68000.0,84000.0,61000.0,60000.0,34900.0,50725.0,77000.0,80000.0,24000.0,94000.0,33000.0,60000.0,45000.0,28000.0,31104.0,86000.0,40000.0,110000.0,20400.0,34174.0,115000.0,46704.0,72000.0,27000.0,63500.0,32500.0,22560.0,30000.0,95000.0,51000.0,72000.0,39000.0,44000.0,39996.0,29100.0,27500.0,65000.0,50500.0,44640.0,93492.0,53004.0,78000.0,180000.0,75000.0,35004.0,18720.0,78000.0,63996.0,80000.0,40000.0,64000.0,18000.0,151000.0,34000.0,54000.0,86000.0,65000.0,40000.0,35000.0,20400.0,115000.0,50000.0,65007.0,33000.0,34348.0,78996.0,83004.0,39962.0,69996.0,129996.0,66000.0,60000.0,99996.0,30000.0,115000.0,58000.0,13500.0,33000.0,52000.0,47211.0,29000.0,90000.0,150000.0,58000.0,54000.0,30000.0,141600.0,45900.0,33000.0,187000.0,40000.0,21000.0,53000.0,144000.0,60000.0,24000.0,30000.0,33000.0,50000.0,38004.0,98700.0,59000.0,120000.0,57600.0,14400.0,60500.0,83000.0,49000.0,10800.0,40000.0,60000.0,36000.0,59000.0,86000.0,75000.0,195000.0,65000.0,54996.0,69996.0,18000.0,145000.0,38000.0,58000.0,20000.0,41000.0,76000.0,34000.0,43000.0,28500.0,50400.0,60000.0,65004.0,77000.0,75000.0,35004.0,40000.0,71000.0,22800.0,68000.0,60000.0,120000.0,37000.0,66000.0,30996.0,70000.0,45000.0,62000.0,60000.0,29140.0,55500.0,26568.0,80400.0,35000.0,55000.0,57000.0,93000.0,87000.0,95000.0,33000.0,65004.0,38400.0,30000.0,71352.0,40000.0,100000.0,70000.0,30000.0,52000.0,71400.0,31000.0,58000.0,60000.0,185000.0,100000.0,65000.0,75000.0,57600.0,24000.0,70000.0,34819.0,40800.0,30000.0,67000.0,55000.0,44004.0,74000.0,27600.0,74500.0,32000.0,44000.0,72000.0,75000.0,39600.0,125000.0,90000.0,16800.0,58000.0,25200.0,79820.0,30000.0,34560.0,54000.0,31200.0,25000.0,69700.0,30000.0,30000.0,20000.0,46000.0,120000.0,44966.0,19200.0,25000.0,52800.0,31000.0,125000.0,18700.0,58000.0,52000.0,156000.0,39875.0,42000.0,47748.0,45000.0,55000.0,89602.0,55000.0,71000.0,30000.0,70000.0,60000.0,90000.0,72972.0,71151.0,60000.0,97000.0,86000.0,35000.0,34600.0,50049.0,125000.0,15000.0,52160.0,50000.0,30000.0,56000.0,56160.0,50000.0,20000.0,50000.0,33000.0,22080.0,59000.0,41500.0,250000.0,74400.0,61000.0,55000.0,35004.0,108000.0,23000.0,33600.0,70000.0,44000.0,33000.0,60000.0,26004.0,32000.0,66000.0,44000.0,59000.0,100000.0,50000.0,75000.0,29780.0,67440.0,96000.0,73000.0,62050.0,35000.0,36000.0,150000.0,48000.0,50000.0,100000.0,29654.0,80000.0,61000.0,38001.0,36960.0,40058.0,73000.0,59000.0,28500.0,126000.0,94000.0,24000.0,45000.0,188000.0,36996.0,29004.0,86000.0,65000.0,60000.0,33996.0,50000.0,68000.0,50000.0,80000.0,18700.0,45600.0,120000.0,175000.0,43000.0,32000.0,30000.0,60000.0,54000.0,31000.0,60000.0,130000.0,79000.0,70000.0,37000.0,80000.0,66000.0,70000.0,34138.0,60000.0,61455.0,37000.0,47000.0,80000.0,38000.0,76000.0,38500.0,21000.0,68399.0,80000.0,40000.0,201000.0,144996.0,34900.0,50361.0,44400.0,79000.0,30000.0,58000.0,180000.0,43500.0,57800.0,46585.0,54996.0,65000.0,23000.0,99000.0,42000.0,51000.0,62500.0,61000.0,62050.0,70000.0,221850.0,43000.0,39996.0,79750.0,109000.0,40056.0,45000.0,199000.0,81300.0,41000.0,120000.0,47200.0,54000.0,150000.0,24000.0,59000.0,34500.0,128000.0,32400.0,258000.0,38400.0,45000.0,58000.0,19200.0,115000.0,65000.0,30000.0,55000.0,49853.0,53196.0,35416.0,144000.0,66500.0,55000.0,45000.0,12000.0,57000.0,67619.0,30680.0,44724.0,79000.0,35500.0,101500.0,57000.0,34000.0,55000.0,49000.0,117014.0,82632.0,87000.0,31000.0,30000.0,44000.0,34000.0,46000.0,50000.0,36000.0,85000.0,51996.0,60500.0,136000.0,62400.0,75000.0,100000.0,125000.0,30996.0,12360.0,81120.0,90000.0,33996.0,54000.0,55000.0,148000.0,23000.0,12000.0,70000.0,61547.0,84000.0,50000.0,80000.0,95000.0,70550.0,31000.0,85000.0,54000.0,40000.0,51060.0,47000.0,94128.0,84000.0,24960.0,132000.0,72576.0,80000.0,150000.0,130000.0,33600.0,21600.0,140000.0,92004.0,70000.0,45000.0,52000.0,80400.0,74000.0,120000.0,61200.0,45000.0,50000.0,84000.0,70000.0,75000.0,63200.0,30000.0,135000.0,50000.0,90000.0,44000.0,103000.0,108000.0,136000.0,34255.0,54000.0,81000.0,50000.0,65000.0,98800.0,24000.0,42000.0,96000.0,119000.0,28800.0,150000.0,95000.0,130000.0,76000.0,121000.0,53000.0,135000.0,34000.0,60000.0,36000.0,47928.0,80196.0,39000.0,42500.0,48880.0,54000.0,55000.0,48000.0,62004.0,34000.0,72996.0,42000.0,30000.0,219300.0,87500.0,70550.0,159000.0,72500.0,72000.0,37600.0,126000.0,36662.0,120000.0,104000.0,72000.0,80000.0,65488.0,42000.0,36000.0,40000.0,106000.0,80000.0,122000.0,55000.0,45000.0,60000.0,43000.0,99085.0,61000.0,90474.0,58788.0,102000.0,25920.0,31000.0,115000.0,70000.0,100000.0,135000.0,55000.0,70000.0,96000.0,50000.0,108000.0,41000.0,36000.0,60000.0,55272.0,90888.0,120000.0,90000.0,39600.0,63000.0,36000.0,85000.0,24000.0,175000.0,150000.0,155004.0,53796.0,50000.0,163232.0,43000.0,58000.0,22000.0,34000.0,31000.0,50100.0,44000.0,89440.0,76000.0,80000.0,100000.0,30000.0,130000.0,48000.0,62000.0,76800.0,43200.0,50000.0,85000.0,66500.0,54196.0,75000.0,50000.0,54600.0,45000.0,83000.0,53000.0,84000.0,46596.0,120000.0,51000.0,63000.0,160000.0,91000.0,31000.0,78000.0,47000.0,60000.0,90000.0,52106.0,80000.0,74000.0,60000.0,95200.0,30000.0,76800.0,82438.0,30500.0,58650.0,30000.0,75000.0,42000.0,100000.0,37000.0,64000.0,36000.0,72000.0,30996.0,75000.0,48000.0,76597.0,75000.0,32000.0,70176.0,78000.0,46000.0,21996.0,16800.0,75000.0,29004.0,76860.0,41000.0,50000.0,30000.0,78000.0,35000.0,16800.0,50000.0,92000.0,36000.0,43000.0,65000.0,85000.0,50000.0,47580.0,32000.0,45600.0,29120.0,48000.0,80000.0,12960.0,96000.0,73000.0,35000.0,49800.0,50000.0,35000.0,40000.0,160000.0,51700.0,50000.0,300000.0,33000.0,36000.0,39000.0,50000.0,84000.0,34000.0,118374.0,110000.0,62500.0,27600.0,52000.0,72000.0,74000.0,50663.0,62000.0,96000.0,51000.0,48000.0,104550.0,44000.0,48000.0,35000.0,130000.0,123996.0,69600.0,50400.0,42500.0,41600.0,60000.0,75000.0,42000.0,99996.0,34800.0,30000.0,40000.0,35000.0,52584.0,85000.0,60000.0,32000.0,157000.0,75000.0,47000.0,40000.0,66948.0,118000.0,33000.0,120775.0,63600.0,27031.0,96000.0,36000.0,27600.0,36000.0,69000.0,58000.0,47000.0,48000.0,48000.0,89004.0,37000.0,70000.0,45996.0,35000.0,48000.0,60000.0,26400.0,61020.0,150000.0,28000.0,32000.0,113000.0,94500.0,42000.0,54000.0,34000.0,60000.0,20004.0,92000.0,100000.0,65000.0,34000.0,69764.0,54000.0,27500.0,32000.0,25000.0,42000.0,36000.0,22100.0,57016.0,42000.0,95000.0,60000.0,55400.0,90000.0,133000.0,67000.0,47000.0,48000.0,95000.0,16800.0,91228.0,26400.0,56004.0,185000.0,42000.0,100000.0,16800.0,38400.0,40800.0,20000.0,250000.0,180000.0,25000.0,70000.0,50000.0,69996.0,55000.0,67000.0,53000.0,38000.0,32000.0,18000.0,52000.0,33280.0,47500.0,50004.0,69000.0,40000.0,77250.0,75000.0,96000.0,27000.0,60480.0,63996.0,30000.0,62000.0,32000.0,60000.0,95000.0,63000.0,96000.0,78000.0,26500.0,59436.0,53000.0,20000.0,263004.0,140000.0,98000.0,78000.0,25568.0,150000.0,120000.0,44000.0,75000.0,39000.0,90000.0,34580.0,62000.0,32000.0,44000.0,32968.0,22000.0,43000.0,88000.0,24000.0,60000.0,55200.0,80004.0,24000.0,61200.0,30000.0,604000.0,57188.0,85000.0,55704.0,48000.0,46000.0,70000.0,49872.0,65000.0,24720.0,26000.0,104000.0,100000.0,53590.0,80000.0,90000.0,64999.0,62000.0,24996.0,118000.0,157000.0,35000.0,75000.0,64000.0,36000.0,35000.0,27168.0,45000.0,75000.0,45000.0,70800.0,90000.0,40500.0,40500.0,103000.0,45000.0,45500.0,30000.0,60000.0,17676.0,36000.0,100000.0,90000.0,57750.0,60000.0,44940.0,30996.0,65000.0,52000.0,22300.0,30000.0,85392.0,62000.0,120000.0,39600.0,51000.0,24000.0,30000.0,36000.0,59004.0,62000.0,54000.0,144000.0,45000.0,70000.0,42000.0,36000.0,38400.0,80000.0,56000.0,30000.0,34152.0,21000.0,30000.0,110500.0,27036.0,120000.0,30000.0,94000.0,45000.0,78000.0,105000.0,74337.0,35000.0,76500.0,125000.0,60000.0,29000.0,190000.0,65000.0,84000.0,115600.0,84000.0,24000.0,44000.0,40000.0,42000.0,58000.0,76500.0,65000.0,50400.0,50000.0,27972.0,65000.0,62200.0,105996.0,15000.0,70000.0,34000.0,65000.0,27600.0,27000.0,230004.0,225000.0,40000.0,33000.0,50000.0,21888.0,18000.0,36000.0,62500.0,70000.0,120000.0,48000.0,34560.0,48000.0,60000.0,56000.0,53000.0,35000.0,49000.0,54000.0,30000.0,140000.0,33000.0,63235.0,53688.0,33600.0,72960.0,22260.0,68000.0,72000.0,40000.0,23000.0,48000.0,186000.0,100000.0,79000.0,50000.0,72644.0,67320.0,78862.0,12000.0,70000.0,30000.0,67000.0,70000.0,50176.0,55000.0,48257.0,80000.0,56700.0,19200.0,78000.0,33000.0,68000.0,58000.0,72000.0,30000.0,48000.0,60000.0,108366.0,64000.0,85000.0,69000.0,24000.0,88000.0,34900.0,143000.0,46000.0,36000.0,41000.0,111000.0,48000.0,39520.0,14400.0,160000.0,33000.0,90000.0,27000.0,60000.0,45000.0,35360.0,85000.0,59000.0,121000.0,78000.0,78000.0,35000.0,72000.0,88596.0,21600.0,50500.0,21600.0,62000.0,24500.0,44000.0,67596.0,75000.0,72194.0,27600.0,82000.0,140000.0,54000.0,275000.0,45000.0,100000.0,150000.0,48000.0,162500.0,92000.0,58000.0,83000.0,70000.0,71004.0,70000.0,19200.0,37000.0,110000.0,38004.0,42000.0,145000.0,65200.0,30000.0,47840.0,108000.0,83004.0,52000.0,87360.0,110000.0,33000.0,39000.0,91392.0,35482.0,96000.0,54000.0,65000.0,22000.0,87000.0,78000.0,32000.0,65000.0,135000.0,57000.0,170000.0,119000.0,58000.0,57200.0,41558.0,52800.0,58000.0,30000.0,45000.0,40000.0,48000.0,54000.0,146990.0,30000.0,86400.0,63000.0,48715.0,25200.0,30000.0,53000.0,25000.0,37200.0,49140.0,23396.0,110000.0,18000.0,31000.0,45000.0,114237.0,60000.0,62000.0,51000.0,101000.0,130000.0,140000.0,52000.0,43000.0,133900.0,84191.0,45000.0,42000.0,36000.0,15000.0,45600.0,85000.0,68000.0,58656.0,77248.0,45000.0,30000.0,173467.0,37000.0,33009.0,38000.0,66000.0,45996.0,43200.0,44004.0,71400.0,125600.0,18000.0,56950.0,80004.0,408000.0,121680.0,54000.0,144000.0,55000.0,48989.0,70000.0,42000.0,148000.0,36000.0,32500.0,50000.0,55200.0,65000.0,24000.0,85000.0,50000.0,21000.0,32500.0,69000.0,59000.0,20004.0,54996.0,100000.0,38400.0,65000.0,54000.0,45000.0,120000.0,56000.0,45020.0,85000.0,50000.0,61628.0,50000.0,336000.0,42500.0,25200.0,105000.0,32213.0,28000.0,30000.0,83300.0,213000.0,125000.0,81972.0,120000.0,132000.0,70000.0,45324.0,105000.0,50000.0,110000.0,43900.0,45600.0,88620.0,81000.0,37000.0,45600.0,32000.0,4000.0,66000.0,37920.0,30000.0,60000.0,45136.0,34500.0,37000.0,68900.0,25000.0,55000.0,125000.0,45000.0,12600.0,110000.0,30000.0,68000.0,105398.0,40272.0,130000.0,36228.0,66000.0,32000.0,50000.0,60000.0,34000.0,85000.0,57996.0,68000.0,70000.0,24000.0,100000.0,62000.0,84000.0,50000.0,200000.0,47500.0,117000.0,34000.0,48000.0,35000.0,35000.0,45000.0,45600.0,60000.0,127000.0,42000.0,30000.0,98736.0,84996.0,36996.0,42000.0,17721.0,37000.0,42000.0,87550.0,24000.0,90000.0,68000.0,32900.0,65000.0,55000.0,94000.0,55000.0,47000.0,42996.0,56000.0,33000.0,45000.0,180488.0,60000.0,48000.0,80000.0,54000.0,70000.0,65000.0,180396.0,96000.0,48000.0,18000.0,74004.0,63000.0,32004.0,70000.0,25000.0,84000.0,165000.0,97000.0,28896.0,54000.0,52000.0,47500.0,62000.0,110000.0,56000.0,42048.0,90700.0,65000.0,21424.0,95000.0,32000.0,54000.0,23387.0,65000.0,63000.0,29004.0,120000.0,60000.0,75000.0,60000.0,39900.0,52800.0,96000.0,13200.0,140000.0,84996.0,400000.0,57240.0,540600.0,108000.0,31200.0,360000.0,60000.0,36000.0,22200.0,60000.0,51000.0,95000.0,48000.0,64000.0,80000.0,75000.0,30480.0,35000.0,64000.0,85000.0,24996.0,33600.0,96339.0,37000.0,28880.0,30000.0,75840.0,55000.0,30000.0,65000.0,52000.0,94976.0,62050.0,46443.0,72000.0,60000.0,101000.0,40000.0,25000.0,32004.0,68231.0,35000.0,66000.0,12000.0,57600.0,45312.0,64777.0,80004.0,58617.0,66661.0,163000.0,30300.0,55000.0,72000.0,45000.0,65000.0,52000.0,95000.0,36000.0,27000.0,57700.0,12996.0,18000.0,66000.0,140000.0,129600.0,62570.0,42504.0,60000.0,238000.0,31200.0,38052.0,32000.0,145000.0,180000.0,200000.0,24000.0,98000.0,45600.0,42000.0,31200.0,173000.0,15000.0,44000.0,38850.0,55000.0,115000.0,119496.0,19200.0,59004.0,70000.0,111000.0,41820.0,65000.0,62500.0,54000.0,54000.0,52000.0,160000.0,36000.0,13200.0,75000.0,21996.0,38000.0,125000.0,75000.0,50000.0,60000.0,53000.0,15204.0,53500.0,99996.0,73000.0,174462.0,65000.0,54000.0,75000.0,90000.0,89000.0,69000.0,47004.0,24000.0,60000.0,45000.0,39124.0,95000.0,51684.0,31577.0,72000.0,65000.0,69000.0,49500.0,23800.0,40000.0,108928.0,60000.0,80000.0,120000.0,36000.0,12000.0,99000.0,40000.0,31200.0,275000.0,70000.0,31500.0,65004.0,44531.0,120000.0,27600.0,33276.0,31200.0,80000.0,54000.0,114996.0,46350.0,26780.0,87000.0,66000.0,34900.0,25000.0,42100.0,67800.0,50000.0,33600.0,38500.0,64000.0,33048.0,68000.0,29000.0,32000.0,70000.0,15600.0,51840.0,40000.0,54000.0,75000.0,30000.0,121008.0,42000.0,52526.0,57000.0,60000.0,42000.0,46000.0,80000.0,39000.0,98656.0,56000.0,107000.0,75996.0,65000.0,15000.0,120000.0,24000.0,96000.0,60000.0,120999.0,54996.0,75000.0,59000.0,120000.0,54000.0,30000.0,95000.0,88000.0,62200.0,54996.0,115600.0,35000.0,28000.0,42000.0,16094.0,41600.0,84000.0,30000.0,62000.0,30000.0,75000.0,25000.0,106982.0,51996.0,45000.0,52500.0,150000.0,60000.0,42096.0,74000.0,183000.0,62000.0,120000.0,65338.0,63000.0,200000.0,45360.0,29000.0,300000.0,75000.0,53004.0,65000.0,75000.0,20000.0,12960.0,95000.0,60000.0,88000.0,60000.0,90000.0,220000.0,62000.0,140900.0,91224.0,102996.0,42000.0,46000.0,90000.0,47500.0,24996.0,26000.0,43200.0,38000.0,420000.0,65000.0,170000.0,69000.0,23916.0,35000.0,10000.0,140004.0,50000.0,120000.0,160000.0,52000.0,18000.0,36000.0,60000.0,42000.0,38400.0,90000.0,30852.0,78000.0,45000.0,64404.0,15600.0,50000.0,120000.0,40000.0,83000.0,40000.0,30996.0,41400.0,10000.0,48000.0,59000.0,65000.0,156000.0,64800.0,40000.0,70000.0,72000.0,38000.0,41000.0,67000.0,35000.0,95000.0,84000.0,34000.0,33000.0,38400.0,68736.0,20400.0,80000.0,75996.0,9600.0,65993.0,24000.0,66500.0,62540.0,60000.0,72000.0,40000.0,36000.0,45500.0,85000.0,69000.0,98000.0,114000.0,24000.0,30000.0,42500.0,54996.0,100000.0,117400.0,102000.0,24000.0,51600.0,21600.0,36000.0,42000.0,73000.0,28560.0,66500.0,30000.0,50000.0,40000.0,45760.0,125000.0,85000.0,28600.0,24000.0,70000.0,77940.0,54000.0,41000.0,260000.0,60000.0,75000.0,79000.0,27000.0,61000.0,48000.0,50000.0,85000.0,31000.0,48000.0,50400.0,39912.0,90000.0,60000.0,55000.0,50000.0,60380.0,468000.0,50000.0,26500.0,67000.0,150000.0,69000.0,43200.0,57500.0,40000.0,60400.0,30000.0,44000.0,44000.0,48000.0,39900.0,42996.0,28000.0,71000.0,135000.0,30720.0,14400.0,24000.0,70000.0,21500.0,37200.0,28685.0,27000.0,34500.0,45450.0,250000.0,102000.0,72000.0,25000.0,34000.0,36000.0,35364.0,304800.0,41600.0,86000.0,65000.0,39500.0,10000.0,20000.0,75000.0,75000.0,32000.0,135000.0,52000.0,35827.0,30000.0,25400.0,69000.0,60000.0,72000.0,75000.0,30000.0,44000.0,40000.0,38400.0,71400.0,166000.0,54000.0,21600.0,103000.0,100000.0,54000.0,14400.0,48000.0,94128.0,22790.0,50000.0,77000.0,72000.0,40000.0,33600.0,70000.0,32000.0,37500.0,100000.0,50000.0,20352.0,80000.0,109000.0,35000.0,20400.0,100000.0,32400.0,60096.0,44000.0,69000.0,65000.0,60000.0,37000.0,42000.0,62000.0,60000.0,200000.0,54000.0,75000.0,117500.0,115000.0,40000.0,46000.0,100000.0,80340.0,48996.0,37000.0,28800.0,86000.0,85000.0,80000.0,54996.0,42000.0,45996.0,30000.0,58000.0,40000.0,30000.0,30000.0,90000.0,21600.0,38832.0,57000.0,84996.0,32640.0,75000.0,33000.0,26400.0,19800.0,85000.0,31000.0,20000.0,96000.0,115000.0,30000.0,62000.0,66000.0,65000.0,45000.0,16400.0,75000.0,96500.0,87000.0,28800.0,100500.0,48000.0,200000.0,48000.0,36000.0,31000.0,77000.0,80000.0,74004.0,23000.0,135000.0,50000.0,18000.0,75000.0,105600.0,105000.0,20000.0,27000.0,57000.0,60000.0,68400.0,90000.0,57936.0,215662.0,23340.0,54000.0,97700.0,93000.0,23000.0,110000.0,52000.0,44000.0,120000.0,36933.0,30000.0,117000.0,61000.0,60000.0,83000.0,55000.0,70000.0,60000.0,38496.0,71000.0,29004.0,71000.0,80000.0,32000.0,110000.0,48996.0,72000.0,35000.0,42000.0,71000.0,74004.0,21600.0,49349.0,87204.0,72100.0,80000.0,35000.0,78996.0,45000.0,16800.0,20000.0,81996.0,69000.0,52000.0,158000.0,95000.0,95000.0,73000.0,48996.0,30000.0,72500.0,50000.0,31200.0,127000.0,85000.0,110000.0,45000.0,60000.0,57000.0,18000.0,49788.0,25000.0,75000.0,48000.0,24000.0,74520.0,62050.0,50200.0,45888.0,100000.0,103000.0,24000.0,104004.0,185000.0,81000.0,59000.0,40000.0,37440.0,120000.0,48996.0,114000.0,55000.0,60000.0,60000.0,29000.0,36000.0,105000.0,45000.0,44000.0,65000.0,72000.0,64000.0,36000.0,34320.0,50000.0,28000.0,32200.0,85920.0,120000.0,65000.0,43000.0,103000.0,54000.0,63000.0,36000.0,60000.0,29200.0,43000.0,28800.0,76500.0,48000.0,67644.0,50300.0,43000.0,39000.0,19200.0,77385.0,52000.0,65000.0,102000.0,46500.0,35000.0,60000.0,19728.0,34000.0,33000.0,40000.0,34000.0,37000.0,81000.0,44894.0,97000.0,60000.0,46000.0,28880.0,75000.0,60000.0,85000.0,33996.0,26400.0,39700.0,25740.0,65000.0,69000.0,48000.0,38004.0,168000.0,75600.0,65000.0,46852.0,159960.0,104000.0,71652.0,125004.0,47125.0,30000.0,33600.0,87000.0,70000.0,36000.0,31000.0,96000.0,30000.0,30000.0,31577.0,30000.0,165000.0,38000.0,65074.0,36000.0,130000.0,40792.0,45000.0,67900.0,42000.0,62352.0,93492.0,58100.0,34000.0,115000.0,22596.0,115000.0,46500.0,46500.0,64548.0,99000.0,36500.0,24996.0,47000.0,90000.0,96000.0,42806.0,27000.0,42000.0,30000.0,55000.0,45288.0,35000.0,50000.0,75000.0,30000.0,49200.0,52700.0,110000.0,45000.0,71004.0,120000.0,28000.0,32000.0,45000.0,57000.0,40000.0,30000.0,102000.0,39000.0,38004.0,36000.0,130992.0,86095.0,69500.0,145000.0,48000.0,53000.0,95000.0,72000.0,52000.0,48000.0,73000.0,34200.0,45468.0,92000.0,54000.0,80000.0,42000.0,33000.0,50000.0,75000.0,114400.0,64000.0,135660.0,150000.0,51000.0,42000.0,52000.0,43680.0,79000.0,44000.0,57000.0,60000.0,62000.0,50400.0,43000.0,29500.0,21000.0,36000.0,75000.0,58000.0,65000.0,59004.0,55000.0,96000.0,60000.0,150000.0,30000.0,45000.0,74000.0,24000.0,40000.0,34444.0,48996.0,56928.0,50000.0,74360.0,42996.0,50000.0,33000.0,708000.0,65000.0,50000.0,48756.0,36000.0,30000.0,45000.0,150000.0,69996.0,56004.0,31164.0,107000.0,24000.0,85000.0,33504.0,74000.0,112000.0,56000.0,20000.0,40269.0,62004.0,110000.0,73992.0,80001.0,61000.0,75000.0,88140.0,180000.0,31000.0,62691.0,340000.0,39896.0,50000.0,90000.0,120000.0,65000.0,55000.0,60000.0,66000.0,72000.0,50364.0,35600.0,24000.0,70000.0,150000.0,155000.0,70000.0,88000.0,117000.0,60000.0,24000.0,60000.0,60000.0,82700.0,50808.0,90000.0,47480.0,60000.0,69743.0,95004.0,67000.0,106000.0,70000.0,35004.0,107450.0,53004.0,60000.0,74000.0,30000.0,26000.0,27000.0,30000.0,18000.0,77000.0,92000.0,70000.0,72000.0,23920.0,100000.0,94350.0,238000.0,26880.0,70000.0,175000.0,120000.0,39270.0,120000.0,60000.0,125000.0,72000.0,29500.0,54000.0,39600.0,74000.0,55000.0,18996.0,126000.0,35400.0,25000.0,38304.0,25000.0,34000.0,44000.0,108000.0,39996.0,52000.0,38400.0,50004.0,30929.0,40246.0,27600.0,38400.0,46800.0,28800.0,95004.0,33900.0,34000.0,100000.0,84996.0,85000.0,98000.0,52000.0,43000.0,12000.0,35000.0,50000.0,33000.0,68000.0,62000.0,38400.0,36000.0,40000.0,54050.0,124000.0,88000.0,32000.0,36000.0,30000.0,32000.0,30000.0,41600.0,26000.0,36000.0,33000.0,85000.0,40750.0,36000.0,120000.0,125000.0,60000.0,92004.0,70000.0,72000.0,78000.0,33600.0,31000.0,52000.0,42000.0,47800.0,83000.0,52044.0,40000.0,14400.0,55000.0,86670.0,34988.0,50000.0,41496.0,21600.0,23400.0,65000.0,40000.0,65280.0,68000.0,32000.0,126000.0,52000.0,110000.0,87000.0,94800.0,56100.0,75000.0,31200.0,47211.0,69000.0,80000.0,42000.0,43800.0,35000.0,64000.0,59578.0,69996.0,40000.0,138000.0,55000.0,80000.0,115000.0,81000.0,76800.0,34482.0,41000.0,38400.0,37680.0,56400.0,90000.0,63000.0,74000.0,62900.0,72000.0,77000.0,70000.0,85000.0,48000.0,36000.0,73500.0,31836.0,54000.0,32000.0,102996.0,64000.0,53000.0,110000.0,75000.0,42000.0,45300.0,200000.0,100000.0,40000.0,58000.0,176000.0,60000.0,70000.0,70000.0,150000.0,73500.0,144500.0,75000.0,32000.0,51500.0,60000.0,50000.0,55000.0,59000.0,38000.0,32004.0,22800.0,75000.0,16000.0,24000.0,70000.0,31200.0,34000.0,56000.0,66000.0,32000.0,37600.0,65000.0,92000.0,68553.0,43000.0,160000.0,42312.0,122400.0,41000.0,30000.0,95327.0,64000.0,31200.0,47652.0,32000.0,55000.0,51000.0,50000.0,39000.0,34800.0,75000.0,32240.0,43000.0,30000.0,37200.0,76320.0,39000.0,30000.0,81600.0,60000.0,53000.0,12000.0,39000.0,70000.0,25000.0,42900.0,45000.0,132444.0,47000.0,42000.0,41000.0,42240.0,55000.0,91000.0,86260.0,400000.0,48000.0,83400.0,56000.0,66996.0,150792.0,30000.0,117000.0,71520.0,39996.0,45000.0,700000.0,61584.0,96000.0,45000.0,44000.0,55000.0,40610.0,80004.0,250000.0,69996.0,61000.0,74400.0,56004.0,192000.0,42000.0,135000.0,108000.0,30000.0,100000.0,86500.0,60000.0,44684.0,24000.0,83000.0,28000.0,108000.0,74000.0,38000.0,47380.0,43200.0,70000.0,35000.0,70000.0,76654.0,42000.0,150000.0,115000.0,38000.0,60353.0,30900.0,70000.0,36000.0,60000.0,38200.0,40000.0,52500.0,52800.0,150000.0,26000.0,124596.0,80000.0,85000.0,55000.0,40944.0,88000.0,45000.0,54000.0,58000.0,49000.0,30000.0,49641.0,132000.0,30000.0,100000.0,54000.0,54000.0,32000.0,18000.0,39600.0,76960.0,30123.0,48609.0,48000.0,48000.0,85000.0,7200.0,14880.0,120000.0,110400.0,36000.0,76000.0,94800.0,46500.0,72000.0,210000.0,80000.0,38400.0,201000.0,31200.0,60350.0,88000.0,45000.0,50000.0,44500.0,42000.0,40000.0,38400.0,55000.0,144000.0,103000.0,36000.0,45000.0,31200.0,66000.0,28800.0,35000.0,108000.0,29376.0,24000.0,40000.0,40000.0,54011.0,40000.0,58000.0,34000.0,37200.0,50000.0,54000.0,46610.0,58000.0,76500.0,54000.0,43495.0,89000.0,46000.0,120000.0,19200.0,54000.0,17280.0,138000.0,32004.0,95000.0,44000.0,19000.0,40000.0,58000.0,130000.0,60000.0,72800.0,80004.0,44000.0,80000.0,75000.0,56000.0,113000.0,75000.0,50000.0,73000.0,25000.0,81600.0,18000.0,87996.0,50000.0,85000.0,72000.0,44400.0,55000.0,125000.0,270000.0,41000.0,72000.0,150000.0,100000.0,27840.0,95028.0,72000.0,80000.0,75000.0,120000.0,43200.0,86376.0,29000.0,24000.0,38268.0,103000.0,35000.0,48000.0,82000.0,35000.0,30188.0,24000.0,32000.0,325000.0,200004.0,54000.0,160000.0,52000.0,38400.0,52800.0,36000.0,136092.0,14400.0,90000.0,70000.0,85500.0,138000.0,55800.0,74000.0,51168.0,73000.0,80000.0,48000.0,40000.0,64000.0,125000.0,83000.0,66000.0,86400.0,28800.0,42230.0,34000.0,42000.0,135000.0,54000.0,60000.0,35000.0,20800.0,31200.0,39000.0,42000.0,300000.0,63000.0,36000.0,82000.0,87550.0,39000.0,52000.0,131400.0,170000.0,48000.0,18000.0,34662.0,90522.0,40000.0,49000.0,48000.0,149385.0,50400.0,55000.0,36000.0,54996.0,44000.0,52703.0,43200.0,126696.0,60000.0,33000.0,77500.0,90722.0,32000.0,20000.0,53950.0,46000.0,38400.0,59000.0,75000.0,100000.0,124992.0,40000.0,55000.0,40000.0,67000.0,41000.0,41000.0,42000.0,92000.0,300000.0,73000.0,70000.0,32000.0,58000.0,45000.0,120000.0,60000.0,87999.0,98000.0,102000.0,94000.0,48000.0,76000.0,88000.0,75000.0,69000.0,93000.0,87550.0,34000.0,32496.0,120000.0,59000.0,79000.0,40000.0,30000.0,30000.0,73000.0,54000.0,60000.0,63000.0,30000.0,56000.0,46000.0,85000.0,60000.0,55512.0,49000.0,70000.0,61000.0,94000.0,37500.0,30000.0,52000.0,90000.0,70000.0,153000.0,50000.0,38469.0,26400.0,43600.0,35000.0,139200.0,75000.0,24000.0,74970.0,104400.0,85992.0,72000.0,60000.0,93200.0,80000.0,90000.0,113000.0,65000.0,43500.0,34000.0,87504.0,111000.0,101400.0,38400.0,57700.0,39270.0,41004.0,133000.0,54600.0,44000.0,102031.0,75500.0,91000.0,48000.0,21600.0,120000.0,90000.0,90000.0,87000.0,64000.0,50000.0,31800.0,56100.0,300000.0,38400.0,65000.0,24000.0,107000.0,33000.0,53000.0,85000.0,36000.0,34000.0,63000.0,40000.0,14400.0,72061.0,75000.0,56472.0,64000.0,65000.0,60000.0,46000.0,140000.0,60000.0,168000.0,49920.0,202000.0,85000.0,69764.0,60000.0,48000.0,31000.0,58650.0,64500.0,90000.0,30000.0,60000.0,74800.0,105000.0,30000.0,71000.0,115000.0,59147.0,54996.0,200000.0,47500.0,70000.0,66560.0,56400.0,60000.0,72000.0,115000.0,50000.0,138000.0,250000.0,25000.0,139380.0,78500.0,41979.0,120000.0,56244.0,62000.0,70000.0,36000.0,30000.0,46800.0,55000.0,55000.0,36000.0,140400.0,36000.0,35375.0,32000.0,69000.0,59000.0,70000.0,36000.0,28800.0,54000.0,32496.0,4800.0,65867.0,39000.0,90000.0,60000.0,36400.0,117000.0,140000.0,35000.0,63996.0,110000.0,54400.0,40050.0,23000.0,102000.0,24000.0,76000.0,20000.0,50000.0,36000.0,78000.0,88000.0,36396.0,60000.0,124000.0,32200.0,33600.0,45500.0,32000.0,51600.0,120000.0,50000.0,21996.0,52000.0,105000.0,116000.0,160000.0,95004.0,12000.0,32878.0,24000.0,68004.0,50000.0,92000.0,89000.0,120000.0,83199.0,71000.0,50000.0,67000.0,40000.0,33000.0,60000.0,92000.0,50000.0,96500.0,30000.0,50000.0,86400.0,107000.0,52000.0,42000.0,50000.0,66000.0,48000.0,80004.0,125000.0,81000.0,72000.0,39996.0,175000.0,62000.0,30000.0,90000.0,120000.0,75000.0,45000.0,40000.0,50000.0,125000.0,36000.0,62000.0,45996.0,115000.0,30000.0,175000.0,61000.0,40000.0,42000.0,68000.0,118000.0,52000.0,85000.0,82650.0,16800.0,77000.0,8500.0,80000.0,29000.0,69950.0,80000.0,30000.0,30000.0,75000.0,115000.0,45996.0,21000.0,96000.0,59000.0,189996.0,134000.0,31000.0,74400.0,85000.0,107800.0,86105.0,45000.0,30996.0,52000.0,30000.0,60000.0,23400.0,51000.0,53000.0,21000.0,45000.0,34000.0,45600.0,26000.0,70000.0,50988.0,60900.0,55000.0,200004.0,90000.0,71004.0,36400.0,60000.0,48000.0,93000.0,73680.0,60000.0,45000.0,85000.0,61000.0,35000.0,90000.0,140000.0,73000.0,36000.0,104000.0,90636.0,30000.0,52800.0,75000.0,112000.0,54000.0,88000.0,25800.0,110400.0,95000.0,38000.0,60000.0,54000.0,45000.0,49344.0,40000.0,105508.0,36000.0,48600.0,96000.0,30000.0,95000.0,36000.0,63000.0,12120.0,110000.0,54000.0,40000.0,103000.0,30000.0,72000.0,31200.0,95000.0,125000.0,43200.0,30900.0,63000.0,103000.0,64000.0,38004.0,100000.0,88000.0,188000.0,69000.0,76000.0,68004.0,55404.0,43000.0,76000.0,116000.0,27996.0,122000.0,35100.0,75000.0,78840.0,30000.0,32000.0,39000.0,29000.0,92652.0,35000.0,30000.0,132640.0,61400.0,47500.0,80000.0,61104.0,54996.0,105000.0,26400.0,50004.0,39000.0,85000.0,49963.0,44000.0,15600.0,50000.0,51492.0,40000.0,25000.0,78600.0,50000.0,44000.0,75000.0,32500.0,55000.0,30000.0,72400.0,66996.0,78000.0,117000.0,59000.0,24996.0,43000.0,59000.0,20400.0,72000.0,60000.0,103000.0,27024.0,43000.0,126000.0,118000.0,59000.0,62500.0,66000.0,57000.0,26400.0,60000.0,56448.0,135000.0,90000.0,41300.0,50000.0,45600.0,26400.0,29004.0,63000.0,30000.0,45000.0,39000.0,35000.0,41000.0,140000.0,34000.0,45000.0,65000.0,76000.0,68000.0,30000.0,61000.0,30960.0,20000.0,40992.0,65000.0,96000.0,77700.0,57000.0,40000.0,42000.0,45000.0,120000.0,31200.0,50000.0,72345.0,99996.0,45000.0,80004.0,120000.0,45000.0,52800.0,73008.0,36000.0,60000.0,70000.0,21600.0,36300.0,38000.0,30000.0,150000.0,52500.0,70000.0,223800.0,82000.0,60000.0,77100.0,115000.0,35000.0,32000.0,100000.0,46000.0,57000.0,80000.0,60000.0,80000.0,65000.0,36000.0,35000.0,125000.0,116000.0,65000.0,34800.0,29000.0,19000.0,125000.0,35000.0,16800.0,34000.0,125000.0,62000.0,72000.0,24000.0,500000.0,50000.0,69000.0,33600.0,51000.0,63900.0,81000.0,113004.0,77000.0,63996.0,79000.0,38000.0,69600.0,36000.0,37740.0,39000.0,50000.0,32918.0,62000.0,38400.0,80000.0,60000.0,130000.0,69000.0,57770.0,120000.0,75000.0,70000.0,50000.0,48840.0,45000.0,130000.0,53000.0,15600.0,96000.0,50000.0,31609.0,38000.0,140000.0,51500.0,45000.0,76800.0,33800.0,48000.0,72500.0,80000.0,30809.0,78000.0,56000.0,55000.0,72000.0,80000.0,105000.0,29004.0,98000.0,63000.0,68000.0,14400.0,200000.0,73163.0,48000.0,33996.0,168952.0,43000.0,48500.0,55000.0,36000.0,75000.0,63000.0,31224.0,28800.0,84240.0,35496.0,21000.0,103200.0,70000.0,54000.0,48000.0,35000.0,96000.0,20000.0,60000.0,90996.0,66996.0,30000.0,68000.0,110000.0,195000.0,68000.0,100505.0,60000.0,72000.0,94000.0,33996.0,70550.0,24000.0,48000.0,60000.0,82000.0,58000.0,82000.0,42000.0,87000.0,90000.0,25000.0,42600.0,200000.0,50000.0,37000.0,55000.0,58000.0,35000.0,68000.0,36000.0,21600.0,79200.0,187000.0,52000.0,82500.0,60000.0,115000.0,59000.0,42000.0,37200.0,73200.0,60000.0,30000.0,100000.0,10000.0,36000.0,60000.0,69000.0,70000.0,36000.0,38400.0,52000.0,48500.0,87996.0,30000.0,55000.0,27000.0,55044.0,42000.0,40000.0,65000.0,58000.0,68400.0,60000.0,34600.0,85000.0,24000.0,305000.0,52000.0,69000.0,22000.0,46000.0,25200.0,44000.0,50000.0,32000.0,60000.0,85000.0,38400.0,82000.0,92000.0,29000.0,10000.0,36000.0,30000.0,86004.0,87000.0,50000.0,87600.0,21324.0,38000.0,88000.0,41000.0,140304.0,56004.0,80000.0,70500.0,41000.0,54000.0,80000.0,28500.0,122500.0,69000.0,80000.0,175000.0,65000.0,58800.0,24000.0,120000.0,93600.0,62400.0,36000.0,90000.0,37000.0,45000.0,52275.0,150000.0,68000.0,65000.0,46000.0,71000.0,41000.0,55000.0,65000.0,36996.0,23766.0,30996.0,35360.0,12816.0,34000.0,70572.0,61000.0,37200.0,38400.0,28800.0,96000.0,20928.0,50000.0,72858.0,33600.0,110000.0,60132.0,48000.0,25000.0,35000.0,35000.0,32000.0,60000.0,55000.0,25200.0,79380.0,75000.0,45000.0,78000.0,66661.0,34000.0,29856.0,39200.0,26500.0,16000.0,75000.0,66920.0,28114.0,200000.0,80000.0,277104.0,69000.0,30000.0,100000.0,24396.0,56000.0,38000.0,106000.0,51600.0,75000.0,21600.0,27000.0,100000.0,65000.0,61200.0,58000.0,27000.0,45240.0,49700.0,55704.0,135000.0,90000.0,80000.0,60000.0,52800.0,50123.0,109500.0,32000.0,45000.0,100000.0,60000.0,54252.0,61000.0,55000.0,22000.0,34999.0,79050.0,105201.0,130000.0,15000.0,28550.0,150500.0,280000.0,75000.0,76000.0,46500.0,25000.0,30000.0,48500.0,66000.0,70000.0,39000.0,40000.0,69600.0,56000.0,79000.0,74000.0,115500.0,102000.0,92000.0,15600.0,84000.0,53760.0,30792.0,48000.0,45000.0,50000.0,84996.0,45000.0,336000.0,44160.0,39500.0,50000.0,75000.0,92000.0,48000.0,80000.0,67200.0,62400.0,27000.0,50000.0,42000.0,97750.0,110000.0,95950.0,32000.0,71000.0,55000.0,60000.0,100000.0,49560.0,91000.0,85000.0,30000.0,96000.0,35000.0,52000.0,129996.0,55000.0,79500.0,69996.0,94700.0,48000.0,26004.0,90000.0,40000.0,14400.0,60000.0,86500.0,53000.0,90000.0,29000.0,78000.0,50000.0,109000.0,46800.0,35000.0,67147.0,97188.0,53500.0,43200.0,47760.0,113000.0,108000.0,30000.0,25000.0,18287.0,14400.0,23000.0,30000.0,40000.0,50400.0,122000.0,55000.0,125000.0,68000.0,95000.0,29000.0,75000.0,75000.0,15600.0,74000.0,42179.0,34000.0,43680.0,11000.0,40000.0,190000.0,32500.0,73000.0,130000.0,78000.0,32652.0,58000.0,30000.0,48000.0,65000.0,54000.0,83000.0,75000.0,35000.0,65000.0,94500.0,63000.0,65000.0,75000.0,106000.0,49500.0,115000.0,65000.0,110000.0,91800.0,49200.0,60000.0,125000.0,40000.0,57000.0,120000.0,19200.0,57500.0,94000.0,33000.0,58650.0,499800.0,57500.0,68000.0,65000.0,49000.0,30000.0,48000.0,80000.0,210000.0,36000.0,102000.0,32000.0,53000.0,56000.0,33600.0,41600.0,70000.0,85000.0,49800.0,200000.0,50000.0,31000.0,95000.0,119000.0,75000.0,53000.0,111000.0,120000.0,64656.0,115000.0,40000.0,55000.0,29136.0,81000.0,48528.0,83600.0,61000.0,113000.0,306000.0,36000.0,61100.0,45000.0,91000.0,75000.0,43000.0,85000.0,55000.0,48000.0,40704.0,112000.0,178000.0,40000.0,50000.0,65000.0,74000.0,40000.0,86502.0,53000.0,140000.0,29500.0,39000.0,44000.0,62500.0,70000.0,50285.0,66125.0,90000.0,27036.0,65000.0,65004.0,21000.0,47000.0,60000.0,55000.0,38500.0,54000.0,60000.0,60000.0,69936.0,69867.0,30000.0,57000.0,37596.0,32000.0,47000.0,70000.0,34500.0,77000.0,45000.0,32000.0,108000.0,73000.0,35100.0,24000.0,58327.0,41000.0,70000.0,19200.0,95000.0,115000.0,39000.0,61000.0,36000.0,79500.0,26100.0,88000.0,45000.0,138000.0,45000.0,39000.0,50000.0,42500.0,53000.0,74909.0,37500.0,48000.0,30000.0,60000.0,48000.0,32647.0,48000.0,45000.0,31000.0,120000.0,54996.0,36900.0,75000.0,50000.0,122000.0,45000.0,66000.0,78000.0,55000.0,72000.0,32000.0,70000.0,55000.0,46000.0,52000.0,48000.0,81000.0,24000.0,55000.0,36500.0,33888.0,28500.0,65000.0,140000.0,38000.0,120000.0,74628.0,65000.0,52000.0,50000.0,75000.0,30000.0,190000.0,35000.0,76500.0,90000.0,35000.0,45000.0,28800.0,48000.0,96000.0,38688.0,105000.0,25000.0,24000.0,44000.0,60000.0,36000.0,76000.0,71496.0,48000.0,136000.0,102240.0,74000.0,68004.0,39000.0,36000.0,83768.0,62000.0,56000.0,72000.0,34800.0,58000.0,52000.0,115000.0,65000.0,50004.0,30000.0,26000.0,50000.0,87000.0,77000.0,40800.0,106000.0,45678.0,35000.0,44000.0,43200.0,83000.0,65158.0,51500.0,108000.0,84000.0,35000.0,44000.0,30000.0,36000.0,67000.0,91000.0,60000.0,72000.0,12000.0,115200.0,24000.0,119700.0,108041.0,43000.0,59000.0,42000.0,50000.0,145000.0,38000.0,70000.0,60000.0,30000.0,68480.0,100000.0,110000.0,122004.0,46000.0,96408.0,47000.0,157500.0,100000.0,44000.0,52000.0,50000.0,39500.0,64312.0,25000.0,73200.0,54000.0,70000.0,44000.0,77268.0,74000.0,55308.0,50000.0,56004.0,116000.0,89000.0,27048.0,50000.0,59964.0,12600.0,32956.0,91800.0,20008.0,145000.0,60000.0,65000.0,160000.0,45000.0,85000.0,59617.0,74000.0,50000.0,50000.0,53000.0,47000.0,43500.0,54000.0,58000.0,59000.0,32000.0,122000.0,28800.0,48000.0,20800.0,65000.0,200004.0,35000.0,36000.0,74758.0,54000.0,50004.0,58650.0,30636.0,36000.0,160000.0,75000.0,70800.0,55000.0,45000.0,79000.0,57408.0,54996.0,97000.0,140000.0,36000.0,40000.0,87292.0,86004.0,95610.0,110000.0,44000.0,20400.0,17280.0,53000.0,27600.0,88000.0,82500.0,204000.0,60000.0,48000.0,52000.0,37392.0,100000.0,60000.0,120456.0,60000.0,60000.0,52000.0,110000.0,70000.0,55000.0,30000.0,83000.0,65000.0,42000.0,88000.0,44004.0,101000.0,40000.0,40000.0,77100.0,43633.0,288000.0,75000.0,36000.0,74400.0,60000.0,40000.0,45000.0,92904.0,65000.0,48000.0,58600.0,72000.0,45600.0,74000.0,42360.0,58951.0,119000.0,78000.0,204000.0,15000.0,120000.0,24000.0,57744.0,25000.0,55000.0,48500.0,89000.0,148716.0,22800.0,36000.0,43150.0,72000.0,81204.0,50000.0,48048.0,73000.0,46300.0,45000.0,164000.0,105000.0,58000.0,34000.0,88000.0,36000.0,80266.0,102000.0,28000.0,28000.0,65000.0,74000.0,54000.0,57996.0,125004.0,35000.0,93000.0,62000.0,33000.0,60000.0,42000.0,62100.0,39996.0,78500.0,39600.0,100000.0,43992.0,26880.0,78000.0,75500.0,48000.0,100000.0,39000.0,40000.0,84000.0,51000.0,425000.0,42000.0,75000.0,35000.0,71000.0,60000.0,80000.0,105400.0,55200.0,79560.0,44000.0,90000.0,48000.0,26400.0,24000.0,55784.0,46000.0,97000.0,46113.0,60000.0,91800.0,67000.0,30000.0,260000.0,159000.0,44000.0,46776.0,41000.0,48000.0,30000.0,40000.0,69600.0,54000.0,80000.0,50000.0,90000.0,39996.0,41000.0,135600.0,60000.0,47233.0,40000.0,49500.0,65000.0,75600.0,60000.0,40000.0,110000.0,24000.0,80000.0,45000.0,107806.0,84996.0,27800.0,20000.0,85000.0,75000.0,56030.0,200000.0,25200.0,42000.0,50000.0,60040.0,45756.0,56400.0,45996.0,53000.0,14400.0,33000.0,50426.0,148000.0,64000.0,70000.0,39996.0,49200.0,30000.0,42000.0,27052.0,28080.0,60000.0,55000.0,38000.0,51300.0,24000.0,57664.0,33600.0,55000.0,87700.0,105600.0,53000.0,19764.0,30000.0,42900.0,35000.0,36000.0,40000.0,70000.0,69000.0,30000.0,50004.0,20400.0,54000.0,58000.0,60000.0,75000.0,39996.0,71520.0,42000.0,20000.0,34000.0,68000.0,35000.0,58000.0,128000.0,120000.0,53800.0,132000.0,64800.0,30000.0,31200.0,90000.0,38000.0,130000.0,70000.0,37200.0,84400.0,51000.0,19200.0,30500.0,83000.0,140000.0,70900.0,65379.0,52250.0,30000.0,52000.0,51300.0,74000.0,50000.0,24000.0,36000.0,80000.0,100000.0,47000.0,108600.0,30000.0,54600.0,40000.0,70000.0,103000.0,20000.0,33004.0,86004.0,35100.0,30000.0,88200.0,36000.0,61000.0,26004.0,96000.0,18000.0,44400.0,30000.0,90000.0,82300.0,125004.0,67500.0,60140.0,90000.0,56000.0,85000.0,100000.0,40000.0,70000.0,31200.0,38000.0,34500.0,96000.0,38400.0,90000.0,24000.0,54000.0,30000.0,80000.0,30000.0,93000.0,85000.0,120000.0,55000.0,99400.0,14004.0,90000.0,52500.0,137000.0,52000.0,74999.0,60000.0,54000.0,22000.0,41004.0,69360.0,45000.0,40000.0,97000.0,36000.0,57000.0,34000.0,33600.0,70000.0,69000.0,30000.0,46500.0,70000.0,123000.0,86000.0,130000.0,36000.0,30500.0,19200.0,50000.0,44000.0,65900.0,78885.0,65000.0,136000.0,120000.0,48000.0,22406.0,30000.0,74000.0,69000.0,75000.0,42996.0,132000.0,86700.0,110000.0,56000.0,43949.0,38244.0,40000.0,32004.0,40000.0,39600.0,9600.0,100000.0,25200.0,40000.0,238000.0,50000.0,80400.0,15000.0,25920.0,30000.0,95000.0,34000.0,80000.0,48000.0,95000.0,114000.0,50000.0,65496.0,87600.0,15000.0,40000.0,113000.0,109000.0,58500.0,28000.0,60000.0,44000.0,39000.0,37200.0,66000.0,185000.0,105000.0,68004.0,62400.0,63750.0,92300.0,79631.0,30000.0,34000.0,31200.0,85000.0,39000.0,45000.0,85000.0,33600.0,76000.0,350000.0,52000.0,48000.0,93000.0,75000.0,88970.0,45000.0,100000.0,30000.0,78000.0,105018.0,30000.0,57996.0,144000.0,120640.0,72000.0,249996.0,42000.0,35000.0,24960.0,27000.0,193000.0,70000.0,56000.0,85000.0,93000.0,72000.0,28800.0,60000.0,66000.0,25000.0,74004.0,26000.0,75000.0,80000.0,48000.0,30000.0,54000.0,91000.0,112500.0,24000.0,40000.0,64000.0,54000.0,56950.0,60000.0,99000.0,56650.0,55000.0,37000.0,40000.0,25200.0,46325.0,50000.0,68000.0,62000.0,43200.0,64000.0,35000.0,111147.0,40000.0,53000.0,60000.0,84996.0,40000.0,73000.0,57000.0,26000.0,54400.0,64000.0,80000.0,67171.0,120000.0,63200.0,62400.0,75000.0,40000.0,38000.0,38100.0,78000.0,51000.0,14400.0,65000.0,80000.0,91800.0,67000.0,43000.0,44000.0,74029.0,36000.0,52000.0,86000.0,100000.0,48000.0,30000.0,59000.0,46000.0,90000.0,48000.0,29120.0,54000.0,62000.0,63000.0,390000.0,72000.0,29004.0,116000.0,69500.0,44000.0,55000.0,70000.0,189000.0,82000.0,48000.0,33000.0,68750.0,96500.0,98000.0,52000.0,36276.0,260000.0,60000.0,40000.0,73909.0,52000.0,74000.0,63000.0,35000.0,62467.0,54000.0,60000.0,122000.0,72000.0,99996.0,32000.0,33195.0,34000.0,56000.0,40000.0,19600.0,96900.0,168000.0,130000.0,38000.0,27996.0,49000.0,60000.0,90000.0,71000.0,42000.0,53500.0,80000.0,90000.0,56700.0,54000.0,42000.0,49000.0,53295.0,20160.0,105859.0,175000.0,36000.0,75000.0,44000.0,216000.0,30000.0,56004.0,35000.0,70600.0,120000.0,123000.0,58000.0,127741.0,64000.0,34040.0,140987.0,110000.0,75000.0,240000.0,35004.0,66725.0,16800.0,124500.0,35000.0,70000.0,50000.0,50600.0,53000.0,74000.0,39000.0,80000.0,57000.0,100000.0,87800.0,51000.0,105000.0,45000.0,50500.0,30712.0,82570.0,62400.0,44500.0,47581.0,36000.0,28800.0,33000.0,110000.0,65000.0,75000.0,57000.0,65800.0,44160.0,62900.0,54000.0,34800.0,60000.0,45000.0,75000.0,110000.0,111150.0,55000.0,69000.0,60000.0,248735.0,78000.0,36100.0,66888.0,200000.0,18000.0,108000.0,45000.0,30857.0,45000.0,82350.0,60000.0,50000.0,44094.0,65000.0,31000.0,87000.0,63324.0,59000.0,57800.0,91000.0,42000.0,39000.0,130000.0,65000.0,180000.0,86000.0,40800.0,171996.0,100000.0,55000.0,48876.0,53616.0,55000.0,45100.0,115000.0,27040.0,59000.0,98000.0,81000.0,78000.0,98000.0,82000.0,49074.0,36000.0,104000.0,66000.0,69204.0,174000.0,148000.0,48000.0,79632.0,155000.0,76000.0,85000.0,15523.0,97000.0,62050.0,51000.0,64000.0,18500.0,15120.0,44000.0,147000.0,26400.0,97000.0,46852.0,34000.0,10800.0,60000.0,38500.0,62400.0,90000.0,73000.0,70000.0,45000.0,12600.0,40000.0,99300.0,65000.0,60000.0,42000.0,64800.0,73000.0,34400.0,56650.0,76554.0,100000.0,70000.0,19896.0,55000.0,49000.0,135000.0,92004.0,95000.0,124886.0,70000.0,40500.0,77000.0,35004.0,30720.0,19200.0,125000.0,75000.0,80000.0,19200.0,20000.0,36000.0,72000.0,112500.0,44000.0,66000.0,27000.0,12000.0,120000.0,45000.0,90000.0,60000.0,64800.0,57240.0,54000.0,48996.0,52000.0,135000.0,25788.0,32340.0,73000.0,91800.0,120000.0,85000.0,68000.0,75852.0,200000.0,27000.0,43000.0,46000.0,76000.0,83000.0,24000.0,39000.0,30000.0,97000.0,80000.0,48000.0,60000.0,80000.0,65000.0,67000.0,71400.0,120600.0,32496.0,40000.0,30000.0,250000.0,63000.0,150000.0,55000.0,40000.0,99996.0,30840.0,75000.0,32000.0,79536.0,32450.0,82008.0,31000.0,165000.0,107000.0,54000.0,96000.0,105000.0,75000.0,60000.0,45600.0,16000.0,39600.0,21000.0,69000.0,60000.0,40000.0,34000.0,76066.0,180000.0,60000.0,115000.0,60000.0,39689.0,41000.0,80000.0,49000.0,45000.0,69600.0,44000.0,28800.0,60000.0,67000.0,68000.0,38000.0,75400.0,276000.0,63000.0,75000.0,60000.0,36000.0,51600.0,85000.0,140000.0,40000.0,50000.0,27600.0,38400.0,90000.0,96000.0,36000.0,18000.0,52300.0,42000.0,45000.0,80000.0,45000.0,50000.0,48000.0,54000.0,12000.0,80004.0,62500.0,37260.0,35000.0,56004.0,81000.0,19200.0,60000.0,35010.0,45000.0,55000.0,57335.0,49000.0,84000.0,34320.0,50000.0,65004.0,35000.0,64600.0,97000.0,35000.0,66000.0,80748.0,25200.0,59300.0,69000.0,67000.0,30000.0,42000.0,56525.0,130000.0,33280.0,31200.0,30000.0,36000.0,65000.0,85000.0,28800.0,42000.0,33000.0,35000.0,25920.0,59000.0,57500.0,24000.0,143000.0,30000.0,64800.0,84000.0,35000.0,45000.0,80832.0,43300.0,89610.0,28000.0,54072.0,80400.0,52400.0,24000.0,61200.0,97000.0,110000.0,20000.0,90000.0,52000.0,60000.0,42000.0,95000.0,61615.0,61425.0,100000.0,70000.0,50000.0,68848.0,44400.0,130000.0,110000.0,55000.0,74678.0,33600.0,60000.0,20000.0,28000.0,63000.0,87360.0,30000.0,70000.0,21000.0,36500.0,17688.0,26400.0,35004.0,65000.0,40000.0,39000.0,43680.0,45000.0,72000.0,25000.0,29000.0,19200.0,50000.0,24000.0,26976.0,11389.0,22000.0,80000.0,155000.0,40000.0,53636.0,55000.0,36400.0,62400.0,45000.0,50000.0,60000.0,130000.0,6000.0,34500.0,60000.0,44004.0,54000.0,115000.0,145000.0,65200.0,35000.0,62500.0,60000.0,74000.0,88000.0,55000.0,70000.0,36000.0,12000.0,49000.0,78386.0,41600.0,52000.0,112000.0,58000.0,30000.0,35000.0,69996.0,48000.0,64800.0,21000.0,57000.0,60000.0,48000.0,40000.0,105000.0,39000.0,90000.0,61776.0,48100.0,56000.0,56000.0,75400.0,60000.0,150000.0,44000.0,120000.0,46392.0,99750.0,60000.0,62500.0,47000.0,77700.0,70000.0,18204.0,62000.0,28800.0,85000.0,28500.0,48000.0,19404.0,70000.0,84996.0,65000.0,30000.0,36500.0,52000.0,100000.0,42252.0,36600.0,32000.0,30000.0,77500.0,32000.0,56100.0,69996.0,60000.0,29700.0,55000.0,26000.0,30000.0,33500.0,145000.0,68000.0,118000.0,45204.0,86748.0,54000.0,102489.0,55000.0,84000.0,32400.0,130000.0,50000.0,43000.0,78000.0,5500.0,76800.0,53500.0,43000.0,84000.0,12000.0,65000.0,38400.0,60000.0,39996.0,52000.0,135000.0,38400.0,36000.0,15000.0,60000.0,50000.0,30000.0,69000.0,42500.0,40000.0,141000.0,19200.0,76000.0,86000.0,56000.0,30000.0,14000.0,54000.0,76200.0,67000.0,114000.0,43000.0,52000.0,37000.0,58000.0,95620.0,60000.0,210000.0,16800.0,43200.0,54000.0,52000.0,19000.0,66000.0,31200.0,140000.0,45000.0,91200.0,97700.0,53796.0,130000.0,91000.0,75000.0,38904.0,33000.0,39000.0,69900.0,52000.0,116400.0,126000.0,37000.0,83000.0,23040.0,104525.0,37950.0,109000.0,108000.0,27024.0,31500.0,37076.0,60000.0,42000.0,30000.0,54000.0,160000.0,87000.0,75000.0,24000.0,74880.0,57000.0,48000.0,59000.0,45000.0,33600.0,37342.0,30000.0,36000.0,167000.0,92000.0,36000.0,48000.0,39336.0,70000.0,66000.0,78000.0,50000.0,42000.0,80004.0,93000.0,45000.0,54000.0,25062.0,28000.0,70000.0,56000.0,57000.0,105500.0,81204.0,200000.0,49400.0,60000.0,63000.0,44000.0,43000.0,44000.0,57692.0,115752.0,70000.0,75000.0,28000.0,80000.0,103000.0,109000.0,31000.0,74000.0,66300.0,35000.0,28000.0,145000.0,99000.0,67400.0,142000.0,80171.0,60000.0,54000.0,75638.0,34000.0,85000.0,25000.0,36000.0,45000.0,60000.0,33000.0,52000.0,27996.0,80000.0,70000.0,60000.0,40000.0,35392.0,95000.0,82000.0,100000.0,39000.0,95000.0,24000.0,96000.0,75000.0,55000.0,50004.0,62000.0,52000.0,57996.0,90000.0,82000.0,100000.0,112200.0,38000.0,54000.0,83000.0,39000.0,55692.0,250000.0,40800.0,275000.0,85000.0,57000.0,83300.0,54000.0,35000.0,51200.0,65000.0,81500.0,95000.0,50000.0,65000.0,40000.0,35000.0,60000.0,70000.0,108000.0,127992.0,48000.0,63000.0,38000.0,24091.0,25000.0,43000.0,62050.0,42000.0,31200.0,115000.0,104000.0,72000.0,20664.0,227500.0,76000.0,27500.0,37004.0,57000.0,56888.0,120000.0,54000.0,48000.0,52000.0,26124.0,12000.0,45000.0,66000.0,88000.0,79000.0,33280.0,13200.0,34000.0,19200.0,67000.0,45000.0,60000.0,43200.0,95000.0,120000.0,30000.0,107800.0,29120.0,41628.0,68900.0,55000.0,28000.0,61959.0,50000.0,34999.0,65004.0,90000.0,50004.0,52000.0,59000.0,60000.0,35000.0,57000.0,110000.0,45500.0,13273.0,75000.0,80070.0,92000.0,17352.0,200000.0,139000.0,37000.0,75000.0,50000.0,55000.0,165000.0,38000.0,51000.0,54996.0,75000.0,40000.0,65000.0,100000.0,27852.0,54996.0,46000.0,40000.0,24000.0,39000.0,25000.0,96000.0,84000.0,46000.0,51000.0,50055.0,21600.0,38000.0,68000.0,60000.0,90000.0,25000.0,89250.0,60000.0,40800.0,60000.0,65000.0,41464.0,40000.0,26000.0,63000.0,62100.0,51000.0,200000.0,51000.0,39000.0,40000.0,21000.0,45489.0,28800.0,30000.0,90000.0,50000.0,65000.0,42000.0,65000.0,22440.0,228000.0,70000.0,69000.0,69805.0,250000.0,72000.0,43200.0,44000.0,125000.0,30000.0,120000.0,70000.0,60000.0,72000.0,90444.0,150000.0,100000.0,30000.0,19200.0,51298.0,24000.0,68000.0,39600.0,60000.0,52000.0,26729.0,66215.0,42000.0,42682.0,107000.0,50100.0,80000.0,101877.0,91000.0,55000.0,69108.0,90000.0,100000.0,75689.0,70000.0,87000.0,95000.0,16800.0,56000.0,142000.0,450000.0,21000.0,30000.0,112000.0,36000.0,56500.0,74800.0,26000.0,59004.0,18000.0,85000.0,45996.0,55000.0,64000.0,214200.0,50000.0,68000.0,55000.0,82000.0,125000.0,55344.0,60589.0,123000.0,54548.0,56000.0,145000.0,120000.0,84000.0,48000.0,77000.0,90000.0,69000.0,171870.0,140000.0,33000.0,45000.0,35000.0,55000.0,20000.0,56100.0,25000.0,51600.0,250000.0,81000.0,48000.0,86652.0,48000.0,52000.0,42500.0,44000.0,30000.0,70000.0,50000.0,66000.0,48000.0,125000.0,87000.0,30000.0,49200.0,28284.0,36156.0,153000.0,72500.0,58800.0,36000.0,24000.0,40000.0,132000.0,50004.0,27000.0,25000.0,87000.0,57000.0,33321.0,59000.0,60000.0,48000.0,32500.0,92000.0,56000.0,42000.0,231252.0,39000.0,84000.0,30000.0,49536.0,42000.0,27000.0,24000.0,30000.0,50000.0,56000.0,35880.0,40000.0,87000.0,30000.0,66800.0,66000.0,32400.0,45516.0,35000.0,110000.0,80000.0,62500.0,90000.0,38000.0,78700.0,80004.0,44000.0,30000.0,50000.0,52000.0,82000.0,92000.0,50000.0,59000.0,37000.0,113300.0,34500.0,100000.0,70000.0,52000.0,47000.0,32000.0,99996.0,50000.0,23000.0,45000.0,89849.0,48000.0,89520.0,52000.0,72000.0,62496.0,80000.0,96000.0,30000.0,48000.0,56000.0,55600.0,63600.0,40000.0,28800.0,66000.0,65061.0,35000.0,52500.0,25000.0,34000.0,31200.0,34400.0,43000.0,70560.0,86000.0,140000.0,62500.0,62204.0,30000.0,53000.0,90000.0,24000.0,14000.0,17500.0,63844.0,47000.0,69000.0,48996.0,75800.0,30000.0,115000.0,37000.0,35000.0,12000.0,56755.0,75000.0,52000.0,70000.0,55008.0,44700.0,46400.0,42240.0,30000.0,30000.0,35000.0,123000.0,42000.0,80000.0,37200.0,50000.0,51000.0,101500.0,60000.0,90000.0,36000.0,59000.0,71000.0,71700.0,80100.0,60000.0,40000.0,48000.0,30000.0,78000.0,85000.0,62500.0,67200.0,135000.0,160000.0,50000.0,40000.0,80004.0,42000.0,55000.0,46000.0,29000.0,128000.0,50000.0,88000.0,46500.0,43000.0,18720.0,60000.0,51996.0,200000.0,76800.0,80004.0,70000.0,20000.0,45000.0,96000.0,112976.0,58000.0,33396.0,33996.0,64000.0,44400.0,91500.0,110000.0,33600.0,79000.0,70550.0,64600.0,120000.0,108000.0,45000.0,42000.0,35000.0,57460.0,53004.0,30000.0,30000.0,30000.0,62004.0,34000.0,50000.0,38000.0,105000.0,52800.0,195000.0,59000.0,62361.0,24000.0,44875.0,26000.0,43200.0,103000.0,64000.0,96000.0,33996.0,75000.0,85850.0,79200.0,49000.0,65004.0,53000.0,41000.0,82000.0,70000.0,27560.0,81000.0,223000.0,100400.0,35000.0,80000.0,94200.0,61000.0,65000.0,40000.0,21600.0,54000.0,65000.0,48000.0,65000.0,58000.0,83000.0,85000.0,52000.0,36000.0,60000.0,54000.0,45000.0,64500.0,82500.0,33000.0,45000.0,60000.0,205000.0,45300.0,33800.0,44760.0,66725.0,44000.0,52000.0,95000.0,63000.0,68000.0,67200.0,90000.0,38500.0,56655.0,50000.0,43680.0,54000.0,30000.0,34000.0,30000.0,50000.0,120000.0,39000.0,33000.0,69500.0,108000.0,225000.0,45000.0,34980.0,98000.0,18000.0,54503.0,30000.0,100000.0,75573.0,27500.0,95000.0,62500.0,96000.0,44000.0,34200.0,52000.0,69000.0,200000.0,80000.0,28800.0,46000.0,59004.0,50000.0,130000.0,18576.0,25000.0,35000.0,40000.0,75000.0,86800.0,41892.0,59500.0,44000.0,47000.0,81996.0,25000.0,130000.0,58000.0,31000.0,42000.0,65000.0,33000.0,425000.0,89004.0,34000.0,82000.0,140000.0,60996.0,37000.0,41000.0,63000.0,42996.0,56000.0,60000.0,75000.0,125000.0,65000.0,99996.0,50400.0,72000.0,47000.0,23700.0,25200.0,130000.0,79416.0,70000.0,32004.0,33000.0,42000.0,100000.0,75000.0,32000.0,56000.0,37423.0,55000.0,35000.0,65000.0,60000.0,44000.0,35300.0,120000.0,44000.0,29000.0,62004.0,37008.0,10560.0,44000.0,42000.0,41000.0,70356.0,150000.0,75000.0,36100.0,42500.0,25000.0,55000.0,83000.0,55000.0,96000.0,90000.0,52000.0,42000.0,32352.0,39000.0,53000.0,27600.0,55000.0,85000.0,31000.0,38667.0,43200.0,39000.0,69504.0,46000.0,100000.0,52000.0,50000.0,165000.0,68000.0,95000.0,50000.0,53774.0,48000.0,62000.0,70000.0,44400.0,140000.0,64000.0,51000.0,160000.0,56000.0,119500.0,30996.0,74500.0,30000.0,170000.0,50000.0,115731.0,51500.0,75000.0,72000.0,32400.0,22800.0,67000.0,48526.0,130000.0,43200.0,36750.0,15000.0,42320.0,59000.0,92000.0,25000.0,28000.0,42597.0,93000.0,30000.0,62500.0,45600.0,38000.0,120000.0,48000.0,90000.0,54000.0,85000.0,40000.0,45000.0,53000.0,72400.0,73527.0,55000.0,99275.0,26000.0,56000.0,44000.0,59497.0,60000.0,20160.0,55160.0,25000.0,26000.0,54000.0,38000.0,60000.0,92000.0,48000.0,51492.0,201000.0,48000.0,27600.0,41718.0,98000.0,58000.0,64151.0,53100.0,62500.0,22000.0,36960.0,122880.0,30000.0,52800.0,40320.0,84000.0,85000.0,49000.0,36000.0,123000.0,77000.0,31200.0,70000.0,56000.0,120000.0,53000.0,105000.0,42000.0,65000.0,90000.0,100016.0,80000.0,75000.0,33000.0,20000.0,18456.0,90000.0,70000.0,20000.0,44000.0,41000.0,72000.0,39996.0,36000.0,30000.0,140000.0,42000.0,60000.0,75000.0,70000.0,30000.0,28800.0,89849.0,41000.0,97000.0,47000.0,43000.0,39000.0,54000.0,60000.0,65453.0,55900.0,108000.0,44500.0,75000.0,125000.0,60000.0,70000.0,77940.0,89000.0,60000.0,71000.0,108202.0,65000.0,111000.0,79800.0,55000.0,17004.0,42000.0,180000.0,59500.0,36000.0,24000.0,69996.0,60000.0,33000.0,80000.0,36000.0,26004.0,50000.0,26400.0,59000.0,110000.0,85000.0,82000.0,54000.0,70553.0,38400.0,47000.0,50000.0,33288.0,67000.0,36000.0,220000.0,80004.0,69000.0,68400.0,60000.0,70000.0,74784.0,22800.0,21312.0,50740.0,50000.0,47000.0,69000.0,23400.0,178000.0,47000.0,85000.0,50000.0,138000.0,29120.0,30000.0,38000.0,30000.0,144000.0,47000.0,28000.0,113000.0,85000.0,83000.0,30000.0,44000.0,75000.0,40000.0,90000.0,55000.0,54000.0,84695.0,25200.0,100000.0,31000.0,77368.0,50000.0,39600.0,85000.0,60000.0,119000.0,24960.0,19498.0,65000.0,34320.0,182500.0,70000.0,40000.0,85272.0,66300.0,58650.0,93000.0,180000.0,60000.0,80000.0,50000.0,108000.0,96636.0,62000.0,130000.0,58000.0,24000.0,108000.0,75000.0,26000.0,34992.0,37080.0,67350.0,42000.0,75000.0,62400.0,39000.0,36000.0,30000.0,27600.0,47000.0,65000.0,93500.0,156000.0,69996.0,60000.0,136000.0,91200.0,75000.0,30000.0,32468.0,48686.0,80000.0,100000.0,54996.0,55000.0,15300.0,70500.0,46000.0,38000.0,75000.0,54000.0,135000.0,51000.0,56004.0,53000.0,75000.0,66000.0,65000.0,55488.0,110000.0,50000.0,60000.0,14400.0,35000.0,44000.0,30000.0,54000.0,22800.0,52260.0,63000.0,74400.0,20400.0,72000.0,65000.0,64956.0,48000.0,52000.0,30000.0,25200.0,40000.0,41725.0,48750.0,49000.0,48996.0,150000.0,50700.0,42000.0,20000.0,120000.0,100000.0,78000.0,28800.0,24000.0,18835.0,130000.0,130000.0,55000.0,52000.0,80000.0,30000.0,78204.0,80000.0,101000.0,53000.0,48000.0,80000.0,30000.0,42000.0,40000.0,60000.0,21000.0,24000.0,57000.0,40000.0,32960.0,58000.0,120000.0,96000.0,68000.0,108000.0,15600.0,48000.0,80500.0,130000.0,200000.0,80000.0,20664.0,78000.0,51780.0,30200.0,60000.0,98000.0,44908.0,58000.0,31000.0,50000.0,29000.0,35000.0,51000.0,24000.0,72000.0,31200.0,108000.0,69996.0,59000.0,42500.0,53000.0,70000.0,71400.0,42765.0,54000.0,300000.0,85000.0,101000.0,51000.0,56331.0,44500.0,45000.0,94837.0,44000.0,42000.0,110000.0,65000.0,48000.0,52000.0,85000.0,45600.0,48000.0,64000.0,51000.0,35000.0,45000.0,30000.0,63000.0,92000.0,40000.0,123000.0,125004.0,78000.0,53000.0,50000.0,65000.0,80000.0,48000.0,54000.0,28800.0,75000.0,38000.0,54586.0,73440.0,96000.0,100000.0,36000.0,35004.0,61500.0,140000.0,29000.0,110000.0,36000.0,44000.0,92000.0,52188.0,40000.0,78000.0,75000.0,85000.0,54000.0,83604.0,36100.0,48235.0,24000.0,55000.0,46500.0,60000.0,92000.0,74000.0,100000.0,45000.0,62000.0,80400.0,48000.0,30000.0,40000.0,12000.0,32400.0,42000.0,110000.0,22000.0,60675.0,65000.0,70000.0,24000.0,37200.0,78000.0,37000.0,62000.0,210000.0,60000.0,160000.0,47000.0,28320.0,54996.0,65000.0,96000.0,73000.0,82600.0,21600.0,96000.0,59000.0,120000.0,150000.0,24996.0,108000.0,29730.0,127000.0,45432.0,43500.0,36000.0,44960.0,55000.0,78000.0,25000.0,113135.0,55070.0,150000.0,42000.0,45000.0,75000.0,31000.0,90000.0,23624.0,74872.0,54000.0,65004.0,42000.0,90000.0,114000.0,96000.0,100300.0,108639.0,79872.0,91500.0,78000.0,72000.0,30000.0,36000.0,75000.0,90000.0,35000.0,91000.0,65000.0,41300.0,110000.0,130000.0,80500.0,58000.0,25000.0,57000.0,138000.0,80000.0,27040.0,54000.0,65000.0,54996.0,56000.0,61498.0,18000.0,42000.0,43680.0,92000.0,60000.0,55000.0,140000.0,42600.0,75000.0,90000.0,28800.0,57000.0,30000.0,52000.0,83500.0,60000.0,54000.0,45000.0,91000.0,70000.0,68000.0,56000.0,22000.0,7200.0,52000.0,31400.0,129700.0,32000.0,75000.0,35427.0,49510.0,100000.0,77078.0,120000.0,50000.0,34099.0,42000.0,27000.0,62000.0,27600.0,29000.0,110000.0,43000.0,37500.0,30288.0,88800.0,63211.0,160000.0,19968.0,75000.0,30000.0,46809.0,52000.0,32220.0,57000.0,50000.0,65544.0,54000.0,140004.0,42200.0,62910.0,120000.0,24000.0,71400.0,100000.0,45000.0,78000.0,57192.0,42000.0,66560.0,35000.0,97000.0,74400.0,50000.0,110000.0,46560.0,101877.0,69000.0,28596.0,52692.0,120000.0,65219.0,65000.0,85000.0,45000.0,15000.0,36000.0,115000.0,27996.0,44000.0,70000.0,25000.0,46200.0,52000.0,73000.0,114000.0,25800.0,78000.0,31000.0,66000.0,60000.0,79996.0,53000.0,21000.0,68000.0,80000.0,151200.0,19200.0,54000.0,62165.0,81600.0,55000.0,69000.0,54000.0,28800.0,105500.0,54000.0,57500.0,85000.0,23000.0,72000.0,100000.0,83000.0,42000.0,60000.0,84000.0,90000.0,41000.0,78000.0,61000.0,28800.0,54833.0,29406.0,31000.0,77976.0,72000.0,50000.0,100000.0,144000.0,141000.0,45000.0,79992.0,64000.0,30000.0,75000.0,66000.0,43000.0,40000.0,53155.0,85000.0,70000.0,60000.0,48000.0,80000.0,41664.0,12000.0,65000.0,48000.0,13200.0,15600.0,70000.0,23004.0,83000.0,80000.0,94000.0,51480.0,61200.0,106870.0,76800.0,50000.0,30000.0,74346.0,125000.0,165000.0,53321.0,102000.0,49000.0,300000.0,77496.0,135000.0,42000.0,244800.0,75360.0,42000.0,21600.0,49200.0,78096.0,41998.0,70000.0,68000.0,139992.0,51000.0,15120.0,51500.0,42000.0,15000.0,150000.0,45600.0,30000.0,30000.0,81996.0,35000.0,31000.0,55365.0,72000.0,126996.0,54996.0,87000.0,50000.0,75000.0,60000.0,62500.0,30000.0,34000.0,100000.0,65000.0,28600.0,30000.0,44000.0,50000.0,55000.0,36000.0,59000.0,65000.0,30000.0,81900.0,66300.0,35000.0,95000.0,65000.0,85000.0,63000.0,32000.0,100000.0,52240.0,69600.0,52800.0,65000.0,60000.0,100000.0,14400.0,46000.0,30000.0,20000.0,244000.0,35000.0,45000.0,72204.0,23587.0,65000.0,44000.0,24000.0,75000.0,145000.0,54000.0,89250.0,133000.0,75000.0,51996.0,54500.0,87000.0,69790.0,44000.0,36000.0,80000.0,60000.0,63000.0,36000.0,49000.0,48000.0,62400.0,108000.0,46200.0,138000.0,24960.0,63402.0,47000.0,57600.0,51996.0,40800.0,46000.0,76000.0,110000.0,65144.0,117014.0,67500.0,34000.0,49152.0,61440.0,59506.0,25000.0,300000.0,29000.0,103000.0,33000.0,94050.0,11029.0,76000.0,57000.0,24000.0,33204.0,80000.0,34000.0,69000.0,76500.0,61615.0,108000.0,49000.0,23040.0,15996.0,58000.0,28150.0,54996.0,60000.0,120000.0,46000.0,54120.0,75000.0,41508.0,60000.0,30000.0,36400.0,61800.0,28000.0,31000.0,66000.0,96050.0,47500.0,65000.0,28000.0,44975.0,75000.0,61300.0,71004.0,60000.0,30000.0,70000.0,154000.0,30000.0,53000.0,48000.0,58000.0,155142.0,123000.0,33600.0,60072.0,48000.0,34000.0,48000.0,72000.0,40000.0,36000.0,50000.0,90000.0,36000.0,79100.0,80490.0,40000.0,120000.0,201000.0,39000.0,24000.0,46000.0,33000.0,75000.0,110000.0,200000.0,83236.0,48756.0,88000.0,69000.0,95000.0,36000.0,132000.0,100000.0,132000.0,95000.0,108000.0,69476.0,86000.0,42000.0,34000.0,40000.0,85000.0,44000.0,218000.0,46000.0,59004.0,200000.0,38000.0,80000.0,62500.0,36250.0,50400.0,30000.0,114000.0,26300.0,171194.0,86000.0,42000.0,60996.0,52569.0,160000.0,38000.0,105000.0,55000.0,38400.0,61360.0,33204.0,65000.0,40000.0,40000.0,21000.0,30000.0,45000.0,153660.0,29000.0,115000.0,145000.0,105000.0,75288.0,240000.0,93218.0,19200.0,95000.0,56000.0,38168.0,60000.0,46144.0,90000.0,62000.0,55000.0,54000.0,96000.0,220836.0,114996.0,58000.0,58600.0,138000.0,168288.0,42000.0,52000.0,42000.0,31000.0,50000.0,39996.0,26880.0,120000.0,23000.0,48000.0,60000.0,72000.0,30000.0,40000.0,72500.0,120000.0,100000.0,61200.0,50000.0,87000.0,148750.0,36500.0,88000.0,88900.0,23004.0,42000.0,42996.0,25000.0,75000.0,98000.0,37200.0,83000.0,83000.0,60000.0,612000.0,54000.0,39672.0,76000.0,200000.0,42000.0,40000.0,226000.0,170000.0,29004.0,40000.0,58000.0,33000.0,21000.0,100000.0,55600.0,90000.0,38400.0,78132.0,120000.0,45000.0,82500.0,42000.0,186996.0,31440.0,40499.0,28800.0,30000.0,100000.0,52000.0,40000.0,45000.0,38000.0,66480.0,35000.0,34000.0,54000.0,150000.0,35000.0,62472.0,26004.0,48996.0,66000.0,98000.0,37000.0,48000.0,86610.0,65000.0,106000.0,114750.0,36000.0,26400.0,66000.0,78000.0,117000.0,45756.0,44000.0,31200.0,62000.0,12000.0,115000.0,45000.0,60000.0,48000.0,40000.0,27996.0,68400.0,15600.0,108000.0,90000.0,90000.0,62400.0,114000.0,42000.0,30000.0,110000.0,79000.0,40800.0,58800.0,24000.0,80690.0,44640.0,75000.0,75000.0,84000.0,66000.0,30000.0,61000.0,55000.0,42000.0,112000.0,74880.0,35000.0,66847.0,54000.0,30297.0,70000.0,44000.0,28000.0,79000.0,50004.0,36000.0,49000.0,55000.0,19000.0,36000.0,62000.0,43000.0,90000.0,106000.0,65000.0,37000.0,42000.0,77000.0,38000.0,39000.0,300000.0,38000.0,95000.0,39000.0,110000.0,30000.0,40581.0,33000.0,100000.0,30000.0,115000.0,75000.0,105000.0,49548.0,130000.0,39240.0,70000.0,19000.0,26785.0,57600.0,62900.0,160000.0,155000.0,34977.0,70000.0,200000.0,38000.0,95000.0,30000.0,47000.0,24044.0,31200.0,50004.0,75000.0,30000.0,40800.0,92000.0,76000.0,140000.0,60000.0,71000.0,34000.0,96000.0,40000.0,80000.0,19200.0,20800.0,26208.0,45000.0,150000.0,65000.0,28000.0,39000.0,70000.0,150000.0,54000.0,64000.0,27996.0,110000.0,39000.0,54383.0,98000.0,101500.0,552000.0,68000.0,74000.0,54500.0,55000.0,82600.0,73660.0,75000.0,44000.0,33504.0,43812.0,109000.0,52700.0,75000.0,112000.0,91800.0,23000.0,96000.0,130000.0,66887.0,38000.0,108000.0,21120.0,64000.0,34416.0,13380.0,75000.0,14500.0,50000.0,80000.0,25000.0,78000.0,80000.0,32500.0,45000.0,115000.0,64999.0,50000.0,35500.0,20000.0,70000.0,71000.0,75000.0,39000.0,90000.0,36000.0,57000.0,54996.0,90000.0,105000.0,24000.0,108000.0,69000.0,65004.0,58000.0,70522.0,52000.0,115000.0,20000.0,48000.0,90000.0,56400.0,62000.0,195000.0,54000.0,73000.0,18460.0,80000.0,47000.0,64000.0,98518.0,105804.0,50000.0,70000.0,130000.0,46000.0,15996.0,88000.0],\"y0\":\" \",\"yaxis\":\"y\",\"type\":\"box\"}],                        {\"template\":{\"data\":{\"bar\":[{\"error_x\":{\"color\":\"#2a3f5f\"},\"error_y\":{\"color\":\"#2a3f5f\"},\"marker\":{\"line\":{\"color\":\"#E5ECF6\",\"width\":0.5},\"pattern\":{\"fillmode\":\"overlay\",\"size\":10,\"solidity\":0.2}},\"type\":\"bar\"}],\"barpolar\":[{\"marker\":{\"line\":{\"color\":\"#E5ECF6\",\"width\":0.5},\"pattern\":{\"fillmode\":\"overlay\",\"size\":10,\"solidity\":0.2}},\"type\":\"barpolar\"}],\"carpet\":[{\"aaxis\":{\"endlinecolor\":\"#2a3f5f\",\"gridcolor\":\"white\",\"linecolor\":\"white\",\"minorgridcolor\":\"white\",\"startlinecolor\":\"#2a3f5f\"},\"baxis\":{\"endlinecolor\":\"#2a3f5f\",\"gridcolor\":\"white\",\"linecolor\":\"white\",\"minorgridcolor\":\"white\",\"startlinecolor\":\"#2a3f5f\"},\"type\":\"carpet\"}],\"choropleth\":[{\"colorbar\":{\"outlinewidth\":0,\"ticks\":\"\"},\"type\":\"choropleth\"}],\"contour\":[{\"colorbar\":{\"outlinewidth\":0,\"ticks\":\"\"},\"colorscale\":[[0.0,\"#0d0887\"],[0.1111111111111111,\"#46039f\"],[0.2222222222222222,\"#7201a8\"],[0.3333333333333333,\"#9c179e\"],[0.4444444444444444,\"#bd3786\"],[0.5555555555555556,\"#d8576b\"],[0.6666666666666666,\"#ed7953\"],[0.7777777777777778,\"#fb9f3a\"],[0.8888888888888888,\"#fdca26\"],[1.0,\"#f0f921\"]],\"type\":\"contour\"}],\"contourcarpet\":[{\"colorbar\":{\"outlinewidth\":0,\"ticks\":\"\"},\"type\":\"contourcarpet\"}],\"heatmap\":[{\"colorbar\":{\"outlinewidth\":0,\"ticks\":\"\"},\"colorscale\":[[0.0,\"#0d0887\"],[0.1111111111111111,\"#46039f\"],[0.2222222222222222,\"#7201a8\"],[0.3333333333333333,\"#9c179e\"],[0.4444444444444444,\"#bd3786\"],[0.5555555555555556,\"#d8576b\"],[0.6666666666666666,\"#ed7953\"],[0.7777777777777778,\"#fb9f3a\"],[0.8888888888888888,\"#fdca26\"],[1.0,\"#f0f921\"]],\"type\":\"heatmap\"}],\"heatmapgl\":[{\"colorbar\":{\"outlinewidth\":0,\"ticks\":\"\"},\"colorscale\":[[0.0,\"#0d0887\"],[0.1111111111111111,\"#46039f\"],[0.2222222222222222,\"#7201a8\"],[0.3333333333333333,\"#9c179e\"],[0.4444444444444444,\"#bd3786\"],[0.5555555555555556,\"#d8576b\"],[0.6666666666666666,\"#ed7953\"],[0.7777777777777778,\"#fb9f3a\"],[0.8888888888888888,\"#fdca26\"],[1.0,\"#f0f921\"]],\"type\":\"heatmapgl\"}],\"histogram\":[{\"marker\":{\"pattern\":{\"fillmode\":\"overlay\",\"size\":10,\"solidity\":0.2}},\"type\":\"histogram\"}],\"histogram2d\":[{\"colorbar\":{\"outlinewidth\":0,\"ticks\":\"\"},\"colorscale\":[[0.0,\"#0d0887\"],[0.1111111111111111,\"#46039f\"],[0.2222222222222222,\"#7201a8\"],[0.3333333333333333,\"#9c179e\"],[0.4444444444444444,\"#bd3786\"],[0.5555555555555556,\"#d8576b\"],[0.6666666666666666,\"#ed7953\"],[0.7777777777777778,\"#fb9f3a\"],[0.8888888888888888,\"#fdca26\"],[1.0,\"#f0f921\"]],\"type\":\"histogram2d\"}],\"histogram2dcontour\":[{\"colorbar\":{\"outlinewidth\":0,\"ticks\":\"\"},\"colorscale\":[[0.0,\"#0d0887\"],[0.1111111111111111,\"#46039f\"],[0.2222222222222222,\"#7201a8\"],[0.3333333333333333,\"#9c179e\"],[0.4444444444444444,\"#bd3786\"],[0.5555555555555556,\"#d8576b\"],[0.6666666666666666,\"#ed7953\"],[0.7777777777777778,\"#fb9f3a\"],[0.8888888888888888,\"#fdca26\"],[1.0,\"#f0f921\"]],\"type\":\"histogram2dcontour\"}],\"mesh3d\":[{\"colorbar\":{\"outlinewidth\":0,\"ticks\":\"\"},\"type\":\"mesh3d\"}],\"parcoords\":[{\"line\":{\"colorbar\":{\"outlinewidth\":0,\"ticks\":\"\"}},\"type\":\"parcoords\"}],\"pie\":[{\"automargin\":true,\"type\":\"pie\"}],\"scatter\":[{\"marker\":{\"colorbar\":{\"outlinewidth\":0,\"ticks\":\"\"}},\"type\":\"scatter\"}],\"scatter3d\":[{\"line\":{\"colorbar\":{\"outlinewidth\":0,\"ticks\":\"\"}},\"marker\":{\"colorbar\":{\"outlinewidth\":0,\"ticks\":\"\"}},\"type\":\"scatter3d\"}],\"scattercarpet\":[{\"marker\":{\"colorbar\":{\"outlinewidth\":0,\"ticks\":\"\"}},\"type\":\"scattercarpet\"}],\"scattergeo\":[{\"marker\":{\"colorbar\":{\"outlinewidth\":0,\"ticks\":\"\"}},\"type\":\"scattergeo\"}],\"scattergl\":[{\"marker\":{\"colorbar\":{\"outlinewidth\":0,\"ticks\":\"\"}},\"type\":\"scattergl\"}],\"scattermapbox\":[{\"marker\":{\"colorbar\":{\"outlinewidth\":0,\"ticks\":\"\"}},\"type\":\"scattermapbox\"}],\"scatterpolar\":[{\"marker\":{\"colorbar\":{\"outlinewidth\":0,\"ticks\":\"\"}},\"type\":\"scatterpolar\"}],\"scatterpolargl\":[{\"marker\":{\"colorbar\":{\"outlinewidth\":0,\"ticks\":\"\"}},\"type\":\"scatterpolargl\"}],\"scatterternary\":[{\"marker\":{\"colorbar\":{\"outlinewidth\":0,\"ticks\":\"\"}},\"type\":\"scatterternary\"}],\"surface\":[{\"colorbar\":{\"outlinewidth\":0,\"ticks\":\"\"},\"colorscale\":[[0.0,\"#0d0887\"],[0.1111111111111111,\"#46039f\"],[0.2222222222222222,\"#7201a8\"],[0.3333333333333333,\"#9c179e\"],[0.4444444444444444,\"#bd3786\"],[0.5555555555555556,\"#d8576b\"],[0.6666666666666666,\"#ed7953\"],[0.7777777777777778,\"#fb9f3a\"],[0.8888888888888888,\"#fdca26\"],[1.0,\"#f0f921\"]],\"type\":\"surface\"}],\"table\":[{\"cells\":{\"fill\":{\"color\":\"#EBF0F8\"},\"line\":{\"color\":\"white\"}},\"header\":{\"fill\":{\"color\":\"#C8D4E3\"},\"line\":{\"color\":\"white\"}},\"type\":\"table\"}]},\"layout\":{\"annotationdefaults\":{\"arrowcolor\":\"#2a3f5f\",\"arrowhead\":0,\"arrowwidth\":1},\"autotypenumbers\":\"strict\",\"coloraxis\":{\"colorbar\":{\"outlinewidth\":0,\"ticks\":\"\"}},\"colorscale\":{\"diverging\":[[0,\"#8e0152\"],[0.1,\"#c51b7d\"],[0.2,\"#de77ae\"],[0.3,\"#f1b6da\"],[0.4,\"#fde0ef\"],[0.5,\"#f7f7f7\"],[0.6,\"#e6f5d0\"],[0.7,\"#b8e186\"],[0.8,\"#7fbc41\"],[0.9,\"#4d9221\"],[1,\"#276419\"]],\"sequential\":[[0.0,\"#0d0887\"],[0.1111111111111111,\"#46039f\"],[0.2222222222222222,\"#7201a8\"],[0.3333333333333333,\"#9c179e\"],[0.4444444444444444,\"#bd3786\"],[0.5555555555555556,\"#d8576b\"],[0.6666666666666666,\"#ed7953\"],[0.7777777777777778,\"#fb9f3a\"],[0.8888888888888888,\"#fdca26\"],[1.0,\"#f0f921\"]],\"sequentialminus\":[[0.0,\"#0d0887\"],[0.1111111111111111,\"#46039f\"],[0.2222222222222222,\"#7201a8\"],[0.3333333333333333,\"#9c179e\"],[0.4444444444444444,\"#bd3786\"],[0.5555555555555556,\"#d8576b\"],[0.6666666666666666,\"#ed7953\"],[0.7777777777777778,\"#fb9f3a\"],[0.8888888888888888,\"#fdca26\"],[1.0,\"#f0f921\"]]},\"colorway\":[\"#636efa\",\"#EF553B\",\"#00cc96\",\"#ab63fa\",\"#FFA15A\",\"#19d3f3\",\"#FF6692\",\"#B6E880\",\"#FF97FF\",\"#FECB52\"],\"font\":{\"color\":\"#2a3f5f\"},\"geo\":{\"bgcolor\":\"white\",\"lakecolor\":\"white\",\"landcolor\":\"#E5ECF6\",\"showlakes\":true,\"showland\":true,\"subunitcolor\":\"white\"},\"hoverlabel\":{\"align\":\"left\"},\"hovermode\":\"closest\",\"mapbox\":{\"style\":\"light\"},\"paper_bgcolor\":\"white\",\"plot_bgcolor\":\"#E5ECF6\",\"polar\":{\"angularaxis\":{\"gridcolor\":\"white\",\"linecolor\":\"white\",\"ticks\":\"\"},\"bgcolor\":\"#E5ECF6\",\"radialaxis\":{\"gridcolor\":\"white\",\"linecolor\":\"white\",\"ticks\":\"\"}},\"scene\":{\"xaxis\":{\"backgroundcolor\":\"#E5ECF6\",\"gridcolor\":\"white\",\"gridwidth\":2,\"linecolor\":\"white\",\"showbackground\":true,\"ticks\":\"\",\"zerolinecolor\":\"white\"},\"yaxis\":{\"backgroundcolor\":\"#E5ECF6\",\"gridcolor\":\"white\",\"gridwidth\":2,\"linecolor\":\"white\",\"showbackground\":true,\"ticks\":\"\",\"zerolinecolor\":\"white\"},\"zaxis\":{\"backgroundcolor\":\"#E5ECF6\",\"gridcolor\":\"white\",\"gridwidth\":2,\"linecolor\":\"white\",\"showbackground\":true,\"ticks\":\"\",\"zerolinecolor\":\"white\"}},\"shapedefaults\":{\"line\":{\"color\":\"#2a3f5f\"}},\"ternary\":{\"aaxis\":{\"gridcolor\":\"white\",\"linecolor\":\"white\",\"ticks\":\"\"},\"baxis\":{\"gridcolor\":\"white\",\"linecolor\":\"white\",\"ticks\":\"\"},\"bgcolor\":\"#E5ECF6\",\"caxis\":{\"gridcolor\":\"white\",\"linecolor\":\"white\",\"ticks\":\"\"}},\"title\":{\"x\":0.05},\"xaxis\":{\"automargin\":true,\"gridcolor\":\"white\",\"linecolor\":\"white\",\"ticks\":\"\",\"title\":{\"standoff\":15},\"zerolinecolor\":\"white\",\"zerolinewidth\":2},\"yaxis\":{\"automargin\":true,\"gridcolor\":\"white\",\"linecolor\":\"white\",\"ticks\":\"\",\"title\":{\"standoff\":15},\"zerolinecolor\":\"white\",\"zerolinewidth\":2}}},\"xaxis\":{\"anchor\":\"y\",\"domain\":[0.0,1.0]},\"yaxis\":{\"anchor\":\"x\",\"domain\":[0.0,1.0],\"title\":{\"text\":\"salario_anual\"}},\"legend\":{\"tracegroupgap\":0},\"title\":{\"text\":\"Sal\\u00e1rio Anual\"},\"boxmode\":\"group\",\"height\":800,\"width\":400},                        {\"responsive\": true}                    ).then(function(){\n",
              "                            \n",
              "var gd = document.getElementById('9485ad39-d4d0-4b67-bf1f-66dcad9ef1fb');\n",
              "var x = new MutationObserver(function (mutations, observer) {{\n",
              "        var display = window.getComputedStyle(gd).display;\n",
              "        if (!display || display === 'none') {{\n",
              "            console.log([gd, 'removed!']);\n",
              "            Plotly.purge(gd);\n",
              "            observer.disconnect();\n",
              "        }}\n",
              "}});\n",
              "\n",
              "// Listen for the removal of the full notebook cells\n",
              "var notebookContainer = gd.closest('#notebook-container');\n",
              "if (notebookContainer) {{\n",
              "    x.observe(notebookContainer, {childList: true});\n",
              "}}\n",
              "\n",
              "// Listen for the clearing of the current output cell\n",
              "var outputEl = gd.closest('.output');\n",
              "if (outputEl) {{\n",
              "    x.observe(outputEl, {childList: true});\n",
              "}}\n",
              "\n",
              "                        })                };                            </script>        </div>\n",
              "</body>\n",
              "</html>"
            ]
          },
          "metadata": {}
        }
      ]
    },
    {
      "cell_type": "markdown",
      "source": [
        "### situacao_imovel"
      ],
      "metadata": {
        "id": "tH-qh-6KisYH"
      }
    },
    {
      "cell_type": "code",
      "source": [
        "dados['situacao_imovel'].unique()"
      ],
      "metadata": {
        "colab": {
          "base_uri": "https://localhost:8080/"
        },
        "id": "Njln5Im3YBFa",
        "outputId": "af03b5ca-dadd-4dd3-f7fc-8626bfcd810d"
      },
      "execution_count": 28,
      "outputs": [
        {
          "output_type": "execute_result",
          "data": {
            "text/plain": [
              "array(['Own', 'Rent', 'Mortgage', 'Other'], dtype=object)"
            ]
          },
          "metadata": {},
          "execution_count": 28
        }
      ]
    },
    {
      "cell_type": "markdown",
      "source": [
        "Variável 'situacao_imovel' apresenta boa integridade."
      ],
      "metadata": {
        "id": "n37N6cPLktiW"
      }
    },
    {
      "cell_type": "markdown",
      "source": [
        "### anos_empregado"
      ],
      "metadata": {
        "id": "FayY1_-Si2WI"
      }
    },
    {
      "cell_type": "code",
      "source": [
        "dados['anos_empregado'].unique()"
      ],
      "metadata": {
        "colab": {
          "base_uri": "https://localhost:8080/"
        },
        "id": "RPruqky5jASW",
        "outputId": "3a356538-bb05-4d01-f03b-47d03a8cac71"
      },
      "execution_count": 29,
      "outputs": [
        {
          "output_type": "execute_result",
          "data": {
            "text/plain": [
              "array([ 6,  4,  0,  3,  5,  9,  8, 14, 11, 13, 12, 15,  2,  7,  1, 10, 23,\n",
              "       17, 19, 22, 16, 21, 20, 27, 18, 24, 25, 26, 31, 34, 28, 30, 29])"
            ]
          },
          "metadata": {},
          "execution_count": 29
        }
      ]
    },
    {
      "cell_type": "markdown",
      "source": [
        "Variável 'anos_empregado' apresenta boa integridade."
      ],
      "metadata": {
        "id": "Jt_I8wPsky_1"
      }
    },
    {
      "cell_type": "markdown",
      "source": [
        "### motivo_emprestimo"
      ],
      "metadata": {
        "id": "3S9x2lYFjJtQ"
      }
    },
    {
      "cell_type": "code",
      "source": [
        "dados['motivo_emprestimo'].unique()"
      ],
      "metadata": {
        "colab": {
          "base_uri": "https://localhost:8080/"
        },
        "id": "3mjxakhWjACE",
        "outputId": "39a8e55d-c531-44a5-b4e8-b547a2377caf"
      },
      "execution_count": 30,
      "outputs": [
        {
          "output_type": "execute_result",
          "data": {
            "text/plain": [
              "array(['Education', 'Homeimprovement', 'Debtconsolidation', 'Medical',\n",
              "       'Personal', 'Venture'], dtype=object)"
            ]
          },
          "metadata": {},
          "execution_count": 30
        }
      ]
    },
    {
      "cell_type": "markdown",
      "source": [
        "Variável 'motivo_emprestimo' apresenta boa integridade."
      ],
      "metadata": {
        "id": "VsMOXaKkk3u1"
      }
    },
    {
      "cell_type": "markdown",
      "source": [
        "### pontuacao_emprestimo"
      ],
      "metadata": {
        "id": "u3Om6yIQjOmx"
      }
    },
    {
      "cell_type": "code",
      "source": [
        "dados['pontuacao_emprestimo'].unique()"
      ],
      "metadata": {
        "colab": {
          "base_uri": "https://localhost:8080/"
        },
        "id": "imsRynAGi_zd",
        "outputId": "6c34b1d7-5926-4329-e044-d5c3c6f0a28a"
      },
      "execution_count": 31,
      "outputs": [
        {
          "output_type": "execute_result",
          "data": {
            "text/plain": [
              "array(['B', 'A', 'C', 'D', 'E', 'F', 'G'], dtype=object)"
            ]
          },
          "metadata": {},
          "execution_count": 31
        }
      ]
    },
    {
      "cell_type": "markdown",
      "source": [
        "Variável 'pontuacao_emprestimo' apresenta boa integridade."
      ],
      "metadata": {
        "id": "MNacvipNk8x5"
      }
    },
    {
      "cell_type": "markdown",
      "source": [
        "### total_a_emprestar"
      ],
      "metadata": {
        "id": "qn-2nHuIjUls"
      }
    },
    {
      "cell_type": "code",
      "source": [
        "import seaborn as sns\n",
        "\n",
        "ax = sns.displot(dados['total_a_emprestar'], kde= True)\n",
        "ax.set(xlabel= 'total_a_emprestar', ylabel= 'Densidade', title= 'Distribuição do Total a Emprestar')\n",
        "ax.figure.set_size_inches(12,8)"
      ],
      "metadata": {
        "colab": {
          "base_uri": "https://localhost:8080/",
          "height": 0
        },
        "id": "kwvpOG4ri_Uq",
        "outputId": "f37156c8-d27b-44e9-c6c0-234bbf8cbce4"
      },
      "execution_count": 32,
      "outputs": [
        {
          "output_type": "display_data",
          "data": {
            "text/plain": [
              "<Figure size 864x576 with 1 Axes>"
            ],
            "image/png": "[encoded data removed]"
          },
          "metadata": {
            "needs_background": "light"
          }
        }
      ]
    },
    {
      "cell_type": "markdown",
      "source": [
        "Variavel 'total_a_emprestar' apresenta boa integridade."
      ],
      "metadata": {
        "id": "Swv1aRv2lEhq"
      }
    },
    {
      "cell_type": "markdown",
      "source": [
        "### juros"
      ],
      "metadata": {
        "id": "RxNb9HCWj1yg"
      }
    },
    {
      "cell_type": "code",
      "source": [
        "import seaborn as sns\n",
        "\n",
        "ax = sns.displot(dados['juros'], kde= True)\n",
        "ax.set(xlabel= 'Juros', ylabel= 'Densidade', title= 'Distribuição juros')\n",
        "ax.figure.set_size_inches(12,8)"
      ],
      "metadata": {
        "colab": {
          "base_uri": "https://localhost:8080/",
          "height": 0
        },
        "id": "cld3jFMxjWj5",
        "outputId": "432086fd-536b-4d7d-ac19-2716f2205d5a"
      },
      "execution_count": 33,
      "outputs": [
        {
          "output_type": "display_data",
          "data": {
            "text/plain": [
              "<Figure size 864x576 with 1 Axes>"
            ],
            "image/png": "[encoded data removed]"
          },
          "metadata": {
            "needs_background": "light"
          }
        }
      ]
    },
    {
      "cell_type": "markdown",
      "source": [
        "Variável 'juros' apresenta boa integridade."
      ],
      "metadata": {
        "id": "wumzg8qBlLvJ"
      }
    },
    {
      "cell_type": "markdown",
      "source": [
        "### possibilidade_inadimplencia"
      ],
      "metadata": {
        "id": "mDXlQytUkHec"
      }
    },
    {
      "cell_type": "code",
      "source": [
        "dados['possibilidade_inadimplencia'].unique()"
      ],
      "metadata": {
        "colab": {
          "base_uri": "https://localhost:8080/"
        },
        "id": "YjMukexQjWhT",
        "outputId": "dac066ce-8b59-4aef-b37f-f73ed5312b75"
      },
      "execution_count": 34,
      "outputs": [
        {
          "output_type": "execute_result",
          "data": {
            "text/plain": [
              "array([0, 1])"
            ]
          },
          "metadata": {},
          "execution_count": 34
        }
      ]
    },
    {
      "cell_type": "markdown",
      "source": [
        "Variável 'possibilidade_inadimplencia' apresenta boa integridade."
      ],
      "metadata": {
        "id": "qa7lmXPwlP4A"
      }
    },
    {
      "cell_type": "markdown",
      "source": [
        "### percentual_emprestimo_renda"
      ],
      "metadata": {
        "id": "8gRd3XGSkMf5"
      }
    },
    {
      "cell_type": "code",
      "source": [
        "dados['percentual_emprestimo_renda'].unique()"
      ],
      "metadata": {
        "colab": {
          "base_uri": "https://localhost:8080/"
        },
        "id": "ImCnlEOujWes",
        "outputId": "a18075d0-950d-42f7-e74d-c07c21a69b6d"
      },
      "execution_count": 35,
      "outputs": [
        {
          "output_type": "execute_result",
          "data": {
            "text/plain": [
              "array([0.45, 0.08, 0.26, 0.11, 0.3 , 0.19, 0.36, 0.44, 0.34, 0.07, 0.13,\n",
              "       0.12, 0.04, 0.1 , 0.23, 0.14, 0.37, 0.06, 0.31, 0.16, 0.27, 0.05,\n",
              "       0.02, 0.09, 0.17, 0.38, 0.39, 0.42, 0.2 , 0.28, 0.22, 0.21, 0.24,\n",
              "       0.25, 0.15, 0.01, 0.29, 0.18, 0.33, 0.48, 0.03, 0.5 , 0.35, 0.32,\n",
              "       0.43, 0.4 , 0.59, 0.41, 0.61, 0.46, 0.52, 0.53, 0.47, 0.51, 0.57,\n",
              "       0.54, 0.49, 0.63, 0.58, 0.71, 0.65, 0.6 , 0.62, 0.68, 0.55, 0.66,\n",
              "       0.64, 0.76, 0.7 , 0.56, 0.67])"
            ]
          },
          "metadata": {},
          "execution_count": 35
        }
      ]
    },
    {
      "cell_type": "markdown",
      "source": [
        "podemos cruzar esta variável com salario_anual? verificar\n"
      ],
      "metadata": {
        "id": "KJ4_VJb-kZ-D"
      }
    },
    {
      "cell_type": "markdown",
      "source": [
        "### ja_foi_inadimplente"
      ],
      "metadata": {
        "id": "y6imBA7LkhZh"
      }
    },
    {
      "cell_type": "code",
      "source": [
        "dados['ja_foi_inadimplente'].unique()"
      ],
      "metadata": {
        "colab": {
          "base_uri": "https://localhost:8080/"
        },
        "id": "LpixIQT4kQ6T",
        "outputId": "7f073a5d-f6c5-4d63-9ae8-7d3c13f2b8a3"
      },
      "execution_count": 36,
      "outputs": [
        {
          "output_type": "execute_result",
          "data": {
            "text/plain": [
              "array(['N', 'Y'], dtype=object)"
            ]
          },
          "metadata": {},
          "execution_count": 36
        }
      ]
    },
    {
      "cell_type": "markdown",
      "source": [
        "### anos_de_credito"
      ],
      "metadata": {
        "id": "jEEhyG5kkpS3"
      }
    },
    {
      "cell_type": "code",
      "source": [
        "dados['anos_de_credito'].unique()"
      ],
      "metadata": {
        "colab": {
          "base_uri": "https://localhost:8080/"
        },
        "id": "-dtEOQhUklm_",
        "outputId": "7fa0b457-4ffc-44d9-fd1d-568844f2d606"
      },
      "execution_count": 37,
      "outputs": [
        {
          "output_type": "execute_result",
          "data": {
            "text/plain": [
              "array([ 2,  5,  9,  4, 10,  8,  6,  3, 16,  7, 13, 12, 15, 11, 22, 26, 14,\n",
              "       17, 28, 24, 23, 19, 25, 20, 29, 18, 27, 30, 21])"
            ]
          },
          "metadata": {},
          "execution_count": 37
        }
      ]
    },
    {
      "cell_type": "code",
      "source": [],
      "metadata": {
        "id": "tO8m4rpwks6N"
      },
      "execution_count": 37,
      "outputs": []
    },
    {
      "cell_type": "markdown",
      "source": [
        "### Conclusão da avaliação das variáveis"
      ],
      "metadata": {
        "id": "95czCMpBASgf"
      }
    },
    {
      "cell_type": "markdown",
      "source": [
        "Além das linhas com arquivos nulos, há uma linha na variável 'idade' com valor incoerente (144 anos), além de alguns outliers na variável 'salario_anual'. Após a remoção destas linhas, o índice é reorganizado mais uma vez no dataset 'dados' para dar início aos testes com modelos de machine learning."
      ],
      "metadata": {
        "id": "z3lyGbsXAU_N"
      }
    },
    {
      "cell_type": "code",
      "source": [
        "dados.reset_index(drop=True, inplace=True)"
      ],
      "metadata": {
        "id": "vK2E0NwqAUWu"
      },
      "execution_count": 38,
      "outputs": []
    },
    {
      "cell_type": "code",
      "source": [],
      "metadata": {
        "id": "GqjRTqN_BO3h"
      },
      "execution_count": 38,
      "outputs": []
    }
  ]
}